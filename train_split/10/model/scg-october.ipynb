{
 "cells": [
  {
   "cell_type": "code",
   "execution_count": 1,
   "id": "086852d1",
   "metadata": {
    "_cell_guid": "b1076dfc-b9ad-4769-8c92-a6c4dae69d19",
    "_uuid": "8f2839f25d086af736a60e9eeb907d3b93b6e0e5",
    "execution": {
     "iopub.execute_input": "2025-05-05T18:50:48.968360Z",
     "iopub.status.busy": "2025-05-05T18:50:48.967510Z",
     "iopub.status.idle": "2025-05-05T18:51:05.573421Z",
     "shell.execute_reply": "2025-05-05T18:51:05.572207Z"
    },
    "papermill": {
     "duration": 16.616188,
     "end_time": "2025-05-05T18:51:05.575749",
     "exception": false,
     "start_time": "2025-05-05T18:50:48.959561",
     "status": "completed"
    },
    "tags": []
   },
   "outputs": [
    {
     "name": "stdout",
     "output_type": "stream",
     "text": [
      "Requirement already satisfied: scikit-learn==1.2.2 in /usr/local/lib/python3.11/dist-packages (1.2.2)\r\n",
      "Collecting imbalanced-learn==0.10.1\r\n",
      "  Downloading imbalanced_learn-0.10.1-py3-none-any.whl.metadata (8.2 kB)\r\n",
      "Requirement already satisfied: numpy>=1.17.3 in /usr/local/lib/python3.11/dist-packages (from scikit-learn==1.2.2) (1.26.4)\r\n",
      "Requirement already satisfied: scipy>=1.3.2 in /usr/local/lib/python3.11/dist-packages (from scikit-learn==1.2.2) (1.15.2)\r\n",
      "Requirement already satisfied: joblib>=1.1.1 in /usr/local/lib/python3.11/dist-packages (from scikit-learn==1.2.2) (1.4.2)\r\n",
      "Requirement already satisfied: threadpoolctl>=2.0.0 in /usr/local/lib/python3.11/dist-packages (from scikit-learn==1.2.2) (3.6.0)\r\n",
      "Requirement already satisfied: mkl_fft in /usr/local/lib/python3.11/dist-packages (from numpy>=1.17.3->scikit-learn==1.2.2) (1.3.8)\r\n",
      "Requirement already satisfied: mkl_random in /usr/local/lib/python3.11/dist-packages (from numpy>=1.17.3->scikit-learn==1.2.2) (1.2.4)\r\n",
      "Requirement already satisfied: mkl_umath in /usr/local/lib/python3.11/dist-packages (from numpy>=1.17.3->scikit-learn==1.2.2) (0.1.1)\r\n",
      "Requirement already satisfied: mkl in /usr/local/lib/python3.11/dist-packages (from numpy>=1.17.3->scikit-learn==1.2.2) (2025.1.0)\r\n",
      "Requirement already satisfied: tbb4py in /usr/local/lib/python3.11/dist-packages (from numpy>=1.17.3->scikit-learn==1.2.2) (2022.1.0)\r\n",
      "Requirement already satisfied: mkl-service in /usr/local/lib/python3.11/dist-packages (from numpy>=1.17.3->scikit-learn==1.2.2) (2.4.1)\r\n",
      "Requirement already satisfied: intel-openmp<2026,>=2024 in /usr/local/lib/python3.11/dist-packages (from mkl->numpy>=1.17.3->scikit-learn==1.2.2) (2024.2.0)\r\n",
      "Requirement already satisfied: tbb==2022.* in /usr/local/lib/python3.11/dist-packages (from mkl->numpy>=1.17.3->scikit-learn==1.2.2) (2022.1.0)\r\n",
      "Requirement already satisfied: tcmlib==1.* in /usr/local/lib/python3.11/dist-packages (from tbb==2022.*->mkl->numpy>=1.17.3->scikit-learn==1.2.2) (1.2.0)\r\n",
      "Requirement already satisfied: intel-cmplr-lib-rt in /usr/local/lib/python3.11/dist-packages (from mkl_umath->numpy>=1.17.3->scikit-learn==1.2.2) (2024.2.0)\r\n",
      "Requirement already satisfied: intel-cmplr-lib-ur==2024.2.0 in /usr/local/lib/python3.11/dist-packages (from intel-openmp<2026,>=2024->mkl->numpy>=1.17.3->scikit-learn==1.2.2) (2024.2.0)\r\n",
      "Downloading imbalanced_learn-0.10.1-py3-none-any.whl (226 kB)\r\n",
      "\u001b[2K   \u001b[90m━━━━━━━━━━━━━━━━━━━━━━━━━━━━━━━━━━━━━━━━\u001b[0m \u001b[32m226.0/226.0 kB\u001b[0m \u001b[31m5.0 MB/s\u001b[0m eta \u001b[36m0:00:00\u001b[0m\r\n",
      "\u001b[?25hInstalling collected packages: imbalanced-learn\r\n",
      "  Attempting uninstall: imbalanced-learn\r\n",
      "    Found existing installation: imbalanced-learn 0.13.0\r\n",
      "    Uninstalling imbalanced-learn-0.13.0:\r\n",
      "      Successfully uninstalled imbalanced-learn-0.13.0\r\n",
      "Successfully installed imbalanced-learn-0.10.1\r\n"
     ]
    }
   ],
   "source": [
    "import pandas as pd\n",
    "import numpy as np\n",
    "from sklearn.model_selection import train_test_split\n",
    "from sklearn.base import BaseEstimator, TransformerMixin\n",
    "from sklearn.pipeline import Pipeline\n",
    "from sklearn.preprocessing import MinMaxScaler\n",
    "from sklearn.preprocessing import StandardScaler\n",
    "import matplotlib.pyplot as plt\n",
    "import matplotlib.gridspec as gridspec\n",
    "import seaborn as sns\n",
    "from tqdm import tqdm\n",
    "from sklearn.metrics import classification_report, confusion_matrix, ConfusionMatrixDisplay\n",
    "import matplotlib.pyplot as plt\n",
    "import torch.nn as nn\n",
    "from sklearn.decomposition import PCA\n",
    "from sklearn.metrics import classification_report\n",
    "from sklearn.linear_model import LogisticRegression\n",
    "from sklearn.preprocessing import OneHotEncoder\n",
    "from sklearn.metrics import f1_score, classification_report, confusion_matrix, roc_curve, auc\n",
    "\n",
    "!pip install scikit-learn==1.2.2 imbalanced-learn==0.10.1\n",
    "\n",
    "from imblearn.over_sampling import SMOTE\n",
    "from imblearn.combine import SMOTEENN\n",
    "\n",
    "import warnings\n",
    "warnings.simplefilter('ignore', FutureWarning)"
   ]
  },
  {
   "cell_type": "code",
   "execution_count": 2,
   "id": "32300acd",
   "metadata": {
    "execution": {
     "iopub.execute_input": "2025-05-05T18:51:05.589515Z",
     "iopub.status.busy": "2025-05-05T18:51:05.588771Z",
     "iopub.status.idle": "2025-05-05T18:51:11.019708Z",
     "shell.execute_reply": "2025-05-05T18:51:11.018822Z"
    },
    "papermill": {
     "duration": 5.439304,
     "end_time": "2025-05-05T18:51:11.021373",
     "exception": false,
     "start_time": "2025-05-05T18:51:05.582069",
     "status": "completed"
    },
    "tags": []
   },
   "outputs": [],
   "source": [
    "train_df = pd.read_csv('/kaggle/input/data-split/train_split/10/train_october.csv')\n",
    "test_df = pd.read_csv('/kaggle/input/data-split/train_split/10/test_october.csv')"
   ]
  },
  {
   "cell_type": "code",
   "execution_count": 3,
   "id": "517913f8",
   "metadata": {
    "execution": {
     "iopub.execute_input": "2025-05-05T18:51:11.042547Z",
     "iopub.status.busy": "2025-05-05T18:51:11.040938Z",
     "iopub.status.idle": "2025-05-05T18:51:11.096910Z",
     "shell.execute_reply": "2025-05-05T18:51:11.095869Z"
    },
    "papermill": {
     "duration": 0.069838,
     "end_time": "2025-05-05T18:51:11.098551",
     "exception": false,
     "start_time": "2025-05-05T18:51:11.028713",
     "status": "completed"
    },
    "tags": []
   },
   "outputs": [],
   "source": [
    "X_train = train_df.drop(columns=['AWS', 'datetime', 'row','col'])\n",
    "y_train = train_df['AWS']\n",
    "\n",
    "X_test = test_df.drop(columns=['AWS', 'datetime', 'row','col'])\n",
    "y_test = test_df['AWS']"
   ]
  },
  {
   "cell_type": "markdown",
   "id": "1940c125",
   "metadata": {
    "papermill": {
     "duration": 0.005144,
     "end_time": "2025-05-05T18:51:11.109280",
     "exception": false,
     "start_time": "2025-05-05T18:51:11.104136",
     "status": "completed"
    },
    "tags": []
   },
   "source": [
    "# Chuẩn hóa"
   ]
  },
  {
   "cell_type": "code",
   "execution_count": 4,
   "id": "eddd6fae",
   "metadata": {
    "execution": {
     "iopub.execute_input": "2025-05-05T18:51:11.121743Z",
     "iopub.status.busy": "2025-05-05T18:51:11.121304Z",
     "iopub.status.idle": "2025-05-05T18:51:11.311301Z",
     "shell.execute_reply": "2025-05-05T18:51:11.310341Z"
    },
    "papermill": {
     "duration": 0.198702,
     "end_time": "2025-05-05T18:51:11.313324",
     "exception": false,
     "start_time": "2025-05-05T18:51:11.114622",
     "status": "completed"
    },
    "tags": []
   },
   "outputs": [],
   "source": [
    "scaler = StandardScaler()\n",
    "X_train_scaled = scaler.fit_transform(X_train)\n",
    "X_test_scaled = scaler.transform(X_test)\n",
    "\n",
    "X_train_scaled = pd.DataFrame(X_train_scaled, columns=X_train.columns)\n",
    "X_test_scaled = pd.DataFrame(X_test_scaled, columns=X_test.columns)"
   ]
  },
  {
   "cell_type": "markdown",
   "id": "7040e915",
   "metadata": {
    "papermill": {
     "duration": 0.006301,
     "end_time": "2025-05-05T18:51:11.325233",
     "exception": false,
     "start_time": "2025-05-05T18:51:11.318932",
     "status": "completed"
    },
    "tags": []
   },
   "source": [
    "# Chọn feature"
   ]
  },
  {
   "cell_type": "code",
   "execution_count": 5,
   "id": "f51f7a57",
   "metadata": {
    "execution": {
     "iopub.execute_input": "2025-05-05T18:51:11.338173Z",
     "iopub.status.busy": "2025-05-05T18:51:11.337840Z",
     "iopub.status.idle": "2025-05-05T18:51:11.343394Z",
     "shell.execute_reply": "2025-05-05T18:51:11.342471Z"
    },
    "papermill": {
     "duration": 0.013589,
     "end_time": "2025-05-05T18:51:11.344971",
     "exception": false,
     "start_time": "2025-05-05T18:51:11.331382",
     "status": "completed"
    },
    "tags": []
   },
   "outputs": [],
   "source": [
    "top_features =  ['EWSS', 'KX', 'PEV', 'R250', 'R500', 'R850', 'SSHF', 'TCLW', 'TCW', 'U250', 'U850', 'V250', 'V850', 'B11B', 'B14B', 'I4B', 'IRB']"
   ]
  },
  {
   "cell_type": "code",
   "execution_count": 6,
   "id": "961327ba",
   "metadata": {
    "execution": {
     "iopub.execute_input": "2025-05-05T18:51:11.357066Z",
     "iopub.status.busy": "2025-05-05T18:51:11.356749Z",
     "iopub.status.idle": "2025-05-05T18:51:11.362243Z",
     "shell.execute_reply": "2025-05-05T18:51:11.361249Z"
    },
    "papermill": {
     "duration": 0.013202,
     "end_time": "2025-05-05T18:51:11.363687",
     "exception": false,
     "start_time": "2025-05-05T18:51:11.350485",
     "status": "completed"
    },
    "tags": []
   },
   "outputs": [],
   "source": [
    "def print_scores(y_true, y_pred):\n",
    "    cm = confusion_matrix(y_true, y_pred)\n",
    "    sns.heatmap(cm, annot=True, fmt=\"d\", cmap=\"Blues\")\n",
    "    plt.xlabel(\"Predicted\")\n",
    "    plt.ylabel(\"True\")\n",
    "    plt.title(\"Confusion Matrix\")\n",
    "    plt.show()\n",
    "    print(classification_report(y_true, y_pred))"
   ]
  },
  {
   "cell_type": "code",
   "execution_count": 7,
   "id": "f5403e2a",
   "metadata": {
    "execution": {
     "iopub.execute_input": "2025-05-05T18:51:11.376038Z",
     "iopub.status.busy": "2025-05-05T18:51:11.375691Z",
     "iopub.status.idle": "2025-05-05T18:51:11.380229Z",
     "shell.execute_reply": "2025-05-05T18:51:11.379404Z"
    },
    "papermill": {
     "duration": 0.012528,
     "end_time": "2025-05-05T18:51:11.381787",
     "exception": false,
     "start_time": "2025-05-05T18:51:11.369259",
     "status": "completed"
    },
    "tags": []
   },
   "outputs": [],
   "source": [
    "models_info = [\n",
    "    (\"Tháng 10\", X_train_scaled, y_train, X_test_scaled, y_test),\n",
    "]"
   ]
  },
  {
   "cell_type": "markdown",
   "id": "c3eef8dd",
   "metadata": {
    "papermill": {
     "duration": 0.005571,
     "end_time": "2025-05-05T18:51:11.392814",
     "exception": false,
     "start_time": "2025-05-05T18:51:11.387243",
     "status": "completed"
    },
    "tags": []
   },
   "source": [
    "# Hàm bổ trợ"
   ]
  },
  {
   "cell_type": "code",
   "execution_count": 8,
   "id": "11cb1219",
   "metadata": {
    "execution": {
     "iopub.execute_input": "2025-05-05T18:51:11.406038Z",
     "iopub.status.busy": "2025-05-05T18:51:11.405272Z",
     "iopub.status.idle": "2025-05-05T18:51:11.410764Z",
     "shell.execute_reply": "2025-05-05T18:51:11.409853Z"
    },
    "papermill": {
     "duration": 0.014216,
     "end_time": "2025-05-05T18:51:11.412518",
     "exception": false,
     "start_time": "2025-05-05T18:51:11.398302",
     "status": "completed"
    },
    "tags": []
   },
   "outputs": [],
   "source": [
    "# ——— Utility functions ———\n",
    "def softmax(Z):\n",
    "    # Ensure Z is a numpy array of shape (n_samples, n_classes)\n",
    "    Z_arr = Z.values if hasattr(Z, \"values\") else np.array(Z)\n",
    "    # 1) subtract the max for numerical stability\n",
    "    #    max_per_row: shape (n_samples,)\n",
    "    max_per_row = np.max(Z_arr, axis=1)\n",
    "    #    reshape to (n_samples, 1) so broadcasting works\n",
    "    max_per_row = max_per_row.reshape(-1, 1)\n",
    "    # 2) exponentiate\n",
    "    expZ = np.exp(Z_arr - max_per_row)\n",
    "    # 3) sum per row, then reshape to (n_samples, 1)\n",
    "    sum_per_row = np.sum(expZ, axis=1).reshape(-1, 1)\n",
    "    # 4) divide\n",
    "    return expZ / sum_per_row"
   ]
  },
  {
   "cell_type": "code",
   "execution_count": 9,
   "id": "33844221",
   "metadata": {
    "execution": {
     "iopub.execute_input": "2025-05-05T18:51:11.426087Z",
     "iopub.status.busy": "2025-05-05T18:51:11.425781Z",
     "iopub.status.idle": "2025-05-05T18:51:11.432122Z",
     "shell.execute_reply": "2025-05-05T18:51:11.431197Z"
    },
    "papermill": {
     "duration": 0.01466,
     "end_time": "2025-05-05T18:51:11.433673",
     "exception": false,
     "start_time": "2025-05-05T18:51:11.419013",
     "status": "completed"
    },
    "tags": []
   },
   "outputs": [],
   "source": [
    "def pack(W1, b1, W2, b2):\n",
    "    \"\"\"\n",
    "    Flatten and concatenate parameters, handling pandas DataFrame/Series inputs.\n",
    "    \"\"\"\n",
    "    # Convert DataFrame/Series to numpy arrays\n",
    "    W1_arr = W1.values if isinstance(W1, pd.DataFrame) else np.array(W1)\n",
    "    b1_arr = b1.values if isinstance(b1, (pd.Series, pd.DataFrame)) else np.array(b1)\n",
    "    W2_arr = W2.values if isinstance(W2, pd.DataFrame) else np.array(W2)\n",
    "    b2_arr = b2.values if isinstance(b2, (pd.Series, pd.DataFrame)) else np.array(b2)\n",
    "    # Flatten and concatenate\n",
    "    return np.hstack([\n",
    "        W1_arr.ravel(),\n",
    "        b1_arr.ravel(),\n",
    "        W2_arr.ravel(),\n",
    "        b2_arr.ravel()\n",
    "    ])"
   ]
  },
  {
   "cell_type": "code",
   "execution_count": 10,
   "id": "89eb964d",
   "metadata": {
    "execution": {
     "iopub.execute_input": "2025-05-05T18:51:11.445770Z",
     "iopub.status.busy": "2025-05-05T18:51:11.445388Z",
     "iopub.status.idle": "2025-05-05T18:51:11.450814Z",
     "shell.execute_reply": "2025-05-05T18:51:11.449940Z"
    },
    "papermill": {
     "duration": 0.013114,
     "end_time": "2025-05-05T18:51:11.452222",
     "exception": false,
     "start_time": "2025-05-05T18:51:11.439108",
     "status": "completed"
    },
    "tags": []
   },
   "outputs": [],
   "source": [
    "def unpack(p, input_dim, hidden_dim, output_dim):\n",
    "    idx = 0\n",
    "    W1 = p[idx:idx + hidden_dim*input_dim].reshape(hidden_dim, input_dim)\n",
    "    idx += hidden_dim*input_dim\n",
    "    b1 = p[idx:idx + hidden_dim]\n",
    "    idx += hidden_dim\n",
    "    W2 = p[idx:idx + output_dim*hidden_dim].reshape(output_dim, hidden_dim)\n",
    "    idx += output_dim*hidden_dim\n",
    "    b2 = p[idx:idx + output_dim]\n",
    "    return W1, b1, W2, b2"
   ]
  },
  {
   "cell_type": "code",
   "execution_count": 11,
   "id": "a9470b41",
   "metadata": {
    "execution": {
     "iopub.execute_input": "2025-05-05T18:51:11.464509Z",
     "iopub.status.busy": "2025-05-05T18:51:11.464213Z",
     "iopub.status.idle": "2025-05-05T18:51:11.472395Z",
     "shell.execute_reply": "2025-05-05T18:51:11.471617Z"
    },
    "papermill": {
     "duration": 0.01593,
     "end_time": "2025-05-05T18:51:11.473887",
     "exception": false,
     "start_time": "2025-05-05T18:51:11.457957",
     "status": "completed"
    },
    "tags": []
   },
   "outputs": [],
   "source": [
    "def trainscg(loss_grad_func, x0, epochs=8, **lg_kwargs):\n",
    "    sigma0, lambd = 1e-6, 1e-6\n",
    "    x = x0.copy()\n",
    "    f, g = loss_grad_func(x, **lg_kwargs)\n",
    "    d = -g\n",
    "    errors = [f]\n",
    "    for epoch in range(epochs):\n",
    "        mu = d.dot(d)\n",
    "        sigma = sigma0 / np.sqrt(mu) if mu > 0 else sigma0\n",
    "        _, g1 = loss_grad_func(x + sigma*d, **lg_kwargs)\n",
    "        s = (g1 - g) / sigma\n",
    "        delta = d.dot(s)\n",
    "        if delta <= 0:\n",
    "            delta = lambd * mu\n",
    "            lambd -= delta / mu\n",
    "        alpha = -d.dot(g) / (delta + lambd*mu)\n",
    "        x_new = x + alpha*d\n",
    "        f_new, g_new = loss_grad_func(x_new, **lg_kwargs)\n",
    "        Delta = 2*(f - f_new) / (alpha * d.dot(g))\n",
    "        if Delta >= 0:\n",
    "            x, f, g = x_new, f_new, g_new\n",
    "            lambd *= max(1/3, 1 - (2*Delta - 1)**3)\n",
    "            beta = (g.dot(g) - g.dot(g_new)) / (d.dot(g))\n",
    "            d = -g + beta*d\n",
    "        else:\n",
    "            lambd += mu * (1 - Delta)\n",
    "        errors.append(f)\n",
    "    return x, errors"
   ]
  },
  {
   "cell_type": "code",
   "execution_count": 12,
   "id": "fa5315d7",
   "metadata": {
    "execution": {
     "iopub.execute_input": "2025-05-05T18:51:11.486011Z",
     "iopub.status.busy": "2025-05-05T18:51:11.485704Z",
     "iopub.status.idle": "2025-05-05T18:51:11.492450Z",
     "shell.execute_reply": "2025-05-05T18:51:11.491678Z"
    },
    "papermill": {
     "duration": 0.014585,
     "end_time": "2025-05-05T18:51:11.493847",
     "exception": false,
     "start_time": "2025-05-05T18:51:11.479262",
     "status": "completed"
    },
    "tags": []
   },
   "outputs": [],
   "source": [
    "def loss_grad_factory(X, Y_oh, input_dim, hidden_dim, output_dim):\n",
    "    def loss_and_grad(p):\n",
    "        W1, b1, W2, b2 = unpack(p, input_dim, hidden_dim, output_dim)\n",
    "        m = X.shape[0]\n",
    "        Z1 = X.dot(W1.T) + b1\n",
    "        A1 = np.tanh(Z1)\n",
    "        Z2 = A1.dot(W2.T) + b2\n",
    "        A2 = softmax(Z2)\n",
    "        loss = -np.mean(np.sum(Y_oh * np.log(A2 + 1e-12), axis=1))\n",
    "        dZ2 = (A2 - Y_oh) / m\n",
    "        dW2 = dZ2.T.dot(A1)\n",
    "        db2 = dZ2.sum(axis=0)\n",
    "        dA1 = dZ2.dot(W2)\n",
    "        dZ1 = dA1 * (1 - np.tanh(Z1)**2)\n",
    "        dW1 = dZ1.T.dot(X)\n",
    "        db1 = dZ1.sum(axis=0)\n",
    "        return loss, pack(dW1, db1, dW2, db2)\n",
    "    return loss_and_grad\n"
   ]
  },
  {
   "cell_type": "code",
   "execution_count": 13,
   "id": "420cd7c4",
   "metadata": {
    "execution": {
     "iopub.execute_input": "2025-05-05T18:51:11.506530Z",
     "iopub.status.busy": "2025-05-05T18:51:11.506228Z",
     "iopub.status.idle": "2025-05-05T18:51:11.510767Z",
     "shell.execute_reply": "2025-05-05T18:51:11.509919Z"
    },
    "papermill": {
     "duration": 0.012917,
     "end_time": "2025-05-05T18:51:11.512247",
     "exception": false,
     "start_time": "2025-05-05T18:51:11.499330",
     "status": "completed"
    },
    "tags": []
   },
   "outputs": [],
   "source": [
    "param_grid = {'hidden_dim': [10, 20, 50, 100, 150, 17, 25, 34, 50, 68, 85]}"
   ]
  },
  {
   "cell_type": "code",
   "execution_count": 14,
   "id": "745aef72",
   "metadata": {
    "execution": {
     "iopub.execute_input": "2025-05-05T18:51:11.525152Z",
     "iopub.status.busy": "2025-05-05T18:51:11.524842Z",
     "iopub.status.idle": "2025-05-05T18:51:11.536941Z",
     "shell.execute_reply": "2025-05-05T18:51:11.535979Z"
    },
    "papermill": {
     "duration": 0.020813,
     "end_time": "2025-05-05T18:51:11.538639",
     "exception": false,
     "start_time": "2025-05-05T18:51:11.517826",
     "status": "completed"
    },
    "tags": []
   },
   "outputs": [],
   "source": [
    "def train_and_evaluate_model(name, X_trval, y_trval, X_test, y_test, top_features=None, param_grid=param_grid):\n",
    "    print(f\"\\n=== Dataset: {name} ===\")\n",
    "\n",
    "    if top_features is not None:\n",
    "        X_trval = X_trval[top_features]\n",
    "        X_test = X_test[top_features]\n",
    "\n",
    "    X_train, X_val, y_train, y_val = train_test_split(\n",
    "        X_trval, y_trval, test_size=0.2, random_state=42\n",
    "    )\n",
    "\n",
    "    # One-hot encode\n",
    "    encoder = OneHotEncoder(sparse=False, categories='auto')\n",
    "    Y_train_oh = encoder.fit_transform(y_train.to_numpy().reshape(-1, 1))\n",
    "    Y_val_oh   = encoder.transform(y_val.to_numpy().reshape(-1, 1))\n",
    "\n",
    "    input_dim  = X_train.shape[1]\n",
    "    output_dim = Y_train_oh.shape[1]\n",
    "\n",
    "    best_h, best_loss = None, np.inf\n",
    "    for h in param_grid['hidden_dim']:\n",
    "        param_size = h*input_dim + h + output_dim*h + output_dim\n",
    "        init_p = 0.01 * np.random.randn(param_size)\n",
    "        lg = loss_grad_factory(X_train, Y_train_oh, input_dim, h, output_dim)\n",
    "        opt_p, _ = trainscg(lg, init_p, epochs=8)\n",
    "\n",
    "        W1, b1, W2, b2 = unpack(opt_p, input_dim, h, output_dim)\n",
    "        Z1_val = X_val @ W1.T + b1\n",
    "        A1_val = np.tanh(Z1_val)\n",
    "        Z2_val = A1_val @ W2.T + b2\n",
    "        A2_val = softmax(Z2_val)\n",
    "\n",
    "        val_loss = -np.mean(np.sum(Y_val_oh * np.log(A2_val + 1e-12), axis=1))\n",
    "        print(f\" hidden_dim={h:<3} → val loss = {val_loss:.6f}\")\n",
    "        if val_loss < best_loss:\n",
    "            best_loss, best_h = val_loss, h\n",
    "\n",
    "    print(f\"⇒ Best hidden_dim = {best_h}, validation loss = {best_loss:.6f}\")\n",
    "\n",
    "    # retrain on full train+val\n",
    "    X_full = np.vstack([X_train, X_val])\n",
    "    y_full = np.hstack([y_train, y_val])\n",
    "    Y_full_oh = encoder.fit_transform(y_full.reshape(-1,1))\n",
    "\n",
    "    param_size = best_h*input_dim + best_h + output_dim*best_h + output_dim\n",
    "    init_p_full = 0.01 * np.random.randn(param_size)\n",
    "    lg_full = loss_grad_factory(X_full, Y_full_oh, input_dim, best_h, output_dim)\n",
    "    opt_p_full, _ = trainscg(lg_full, init_p_full, epochs=8)\n",
    "\n",
    "    # evaluate\n",
    "    W1f, b1f, W2f, b2f = unpack(opt_p_full, input_dim, best_h, output_dim)\n",
    "    A1_test = np.tanh(X_test @ W1f.T + b1f)\n",
    "    probs_test = softmax(A1_test @ W2f.T + b2f)\n",
    "    preds_test = np.argmax(probs_test, axis=1)\n",
    "\n",
    "    print(\"Test classification report:\")\n",
    "    print(classification_report(y_test, preds_test))\n",
    "    cm = confusion_matrix(y_test, preds_test)\n",
    "    print(\"Test confusion matrix:\\n\", cm)\n",
    "    sns.heatmap(cm, annot=True, fmt=\"d\", cmap=\"Blues\")\n",
    "    plt.title(f\"{name} – hidden_dim={best_h}\")\n",
    "    plt.show()\n"
   ]
  },
  {
   "cell_type": "code",
   "execution_count": 15,
   "id": "1ba815c1",
   "metadata": {
    "execution": {
     "iopub.execute_input": "2025-05-05T18:51:11.551473Z",
     "iopub.status.busy": "2025-05-05T18:51:11.551160Z",
     "iopub.status.idle": "2025-05-05T18:54:54.866910Z",
     "shell.execute_reply": "2025-05-05T18:54:54.865796Z"
    },
    "papermill": {
     "duration": 223.324332,
     "end_time": "2025-05-05T18:54:54.868735",
     "exception": false,
     "start_time": "2025-05-05T18:51:11.544403",
     "status": "completed"
    },
    "tags": []
   },
   "outputs": [
    {
     "name": "stdout",
     "output_type": "stream",
     "text": [
      "\n",
      "=== Dataset: Tháng 10 (All Features) ===\n",
      " hidden_dim=10  → val loss = 0.691186\n",
      " hidden_dim=20  → val loss = 0.694683\n",
      " hidden_dim=50  → val loss = 0.688594\n",
      " hidden_dim=100 → val loss = 0.696378\n",
      " hidden_dim=150 → val loss = 0.692465\n",
      " hidden_dim=17  → val loss = 0.695625\n",
      " hidden_dim=25  → val loss = 0.689948\n",
      " hidden_dim=34  → val loss = 0.690745\n",
      " hidden_dim=50  → val loss = 0.697723\n",
      " hidden_dim=68  → val loss = 0.691544\n",
      " hidden_dim=85  → val loss = 0.693772\n",
      "⇒ Best hidden_dim = 50, validation loss = 0.688594\n",
      "Test classification report:\n",
      "              precision    recall  f1-score   support\n",
      "\n",
      "           0       0.77      1.00      0.87     68556\n",
      "           1       1.00      0.01      0.02     20763\n",
      "\n",
      "    accuracy                           0.77     89319\n",
      "   macro avg       0.88      0.50      0.44     89319\n",
      "weighted avg       0.82      0.77      0.67     89319\n",
      "\n",
      "Test confusion matrix:\n",
      " [[68556     0]\n",
      " [20595   168]]\n"
     ]
    },
    {
     "data": {
      "image/png": "[encoded data removed]",
      "text/plain": [
       "<Figure size 640x480 with 2 Axes>"
      ]
     },
     "metadata": {},
     "output_type": "display_data"
    },
    {
     "name": "stdout",
     "output_type": "stream",
     "text": [
      "\n",
      "=== Dataset: Tháng 10 (Top Features) ===\n",
      " hidden_dim=10  → val loss = 0.697105\n",
      " hidden_dim=20  → val loss = 0.697742\n",
      " hidden_dim=50  → val loss = 0.687243\n",
      " hidden_dim=100 → val loss = 0.697193\n",
      " hidden_dim=150 → val loss = 0.695812\n",
      " hidden_dim=17  → val loss = 0.692181\n",
      " hidden_dim=25  → val loss = 0.694094\n",
      " hidden_dim=34  → val loss = 0.697304\n",
      " hidden_dim=50  → val loss = 0.689587\n",
      " hidden_dim=68  → val loss = 0.695189\n",
      " hidden_dim=85  → val loss = 0.696269\n",
      "⇒ Best hidden_dim = 50, validation loss = 0.687243\n",
      "Test classification report:\n",
      "              precision    recall  f1-score   support\n",
      "\n",
      "           0       0.91      0.12      0.21     68556\n",
      "           1       0.25      0.96      0.40     20763\n",
      "\n",
      "    accuracy                           0.31     89319\n",
      "   macro avg       0.58      0.54      0.30     89319\n",
      "weighted avg       0.76      0.31      0.25     89319\n",
      "\n",
      "Test confusion matrix:\n",
      " [[ 8150 60406]\n",
      " [  780 19983]]\n"
     ]
    },
    {
     "data": {
      "image/png": "[encoded data removed]",
      "text/plain": [
       "<Figure size 640x480 with 2 Axes>"
      ]
     },
     "metadata": {},
     "output_type": "display_data"
    }
   ],
   "source": [
    "for name, X_trval, y_trval, X_test, y_test in models_info:\n",
    "    \n",
    "    train_and_evaluate_model(name + \" (All Features)\", X_trval, y_trval, X_test, y_test)\n",
    "\n",
    "    train_and_evaluate_model(name + \" (Top Features)\", X_trval, y_trval, X_test, y_test, top_features=top_features)"
   ]
  },
  {
   "cell_type": "markdown",
   "id": "77f4ff64",
   "metadata": {
    "papermill": {
     "duration": 0.007389,
     "end_time": "2025-05-05T18:54:54.884939",
     "exception": false,
     "start_time": "2025-05-05T18:54:54.877550",
     "status": "completed"
    },
    "tags": []
   },
   "source": [
    "# Oversampling"
   ]
  },
  {
   "cell_type": "markdown",
   "id": "4bd57862",
   "metadata": {
    "papermill": {
     "duration": 0.007599,
     "end_time": "2025-05-05T18:54:54.900780",
     "exception": false,
     "start_time": "2025-05-05T18:54:54.893181",
     "status": "completed"
    },
    "tags": []
   },
   "source": [
    "##  SMOTE"
   ]
  },
  {
   "cell_type": "code",
   "execution_count": 16,
   "id": "03fdeabd",
   "metadata": {
    "execution": {
     "iopub.execute_input": "2025-05-05T18:54:54.918199Z",
     "iopub.status.busy": "2025-05-05T18:54:54.917677Z",
     "iopub.status.idle": "2025-05-05T18:55:00.976877Z",
     "shell.execute_reply": "2025-05-05T18:55:00.975839Z"
    },
    "papermill": {
     "duration": 6.070534,
     "end_time": "2025-05-05T18:55:00.978666",
     "exception": false,
     "start_time": "2025-05-05T18:54:54.908132",
     "status": "completed"
    },
    "tags": []
   },
   "outputs": [],
   "source": [
    "sm = SMOTE()\n",
    "\n",
    "X_sm, y_sm = sm.fit_resample(X_train, y_train)\n",
    "X_sm.shape, y_sm.shape\n",
    "\n",
    "scaler = StandardScaler()\n",
    "X_train_scaled = scaler.fit_transform(X_sm)\n",
    "X_test_scaled = scaler.transform(X_test)\n",
    "\n",
    "X_train_scaled = pd.DataFrame(X_train_scaled, columns=X_train.columns)\n",
    "X_test_scaled = pd.DataFrame(X_test_scaled, columns=X_test.columns)"
   ]
  },
  {
   "cell_type": "code",
   "execution_count": 17,
   "id": "109e66e4",
   "metadata": {
    "execution": {
     "iopub.execute_input": "2025-05-05T18:55:00.995361Z",
     "iopub.status.busy": "2025-05-05T18:55:00.994993Z",
     "iopub.status.idle": "2025-05-05T18:55:00.999310Z",
     "shell.execute_reply": "2025-05-05T18:55:00.998506Z"
    },
    "papermill": {
     "duration": 0.014079,
     "end_time": "2025-05-05T18:55:01.000541",
     "exception": false,
     "start_time": "2025-05-05T18:55:00.986462",
     "status": "completed"
    },
    "tags": []
   },
   "outputs": [],
   "source": [
    "models_info = [\n",
    "    (\"Tháng 10 smote\", X_train_scaled, y_sm, X_test_scaled, y_test),\n",
    "]"
   ]
  },
  {
   "cell_type": "code",
   "execution_count": 18,
   "id": "27615dd3",
   "metadata": {
    "execution": {
     "iopub.execute_input": "2025-05-05T18:55:01.017143Z",
     "iopub.status.busy": "2025-05-05T18:55:01.016634Z",
     "iopub.status.idle": "2025-05-05T19:01:35.917815Z",
     "shell.execute_reply": "2025-05-05T19:01:35.916391Z"
    },
    "papermill": {
     "duration": 394.911891,
     "end_time": "2025-05-05T19:01:35.920153",
     "exception": false,
     "start_time": "2025-05-05T18:55:01.008262",
     "status": "completed"
    },
    "tags": []
   },
   "outputs": [
    {
     "name": "stdout",
     "output_type": "stream",
     "text": [
      "\n",
      "=== Dataset: Tháng 10 smote (All Features) ===\n",
      " hidden_dim=10  → val loss = 0.693333\n",
      " hidden_dim=20  → val loss = 0.715526\n"
     ]
    },
    {
     "name": "stderr",
     "output_type": "stream",
     "text": [
      "/tmp/ipykernel_13/3941530362.py:16: RuntimeWarning: divide by zero encountered in scalar divide\n",
      "  alpha = -d.dot(g) / (delta + lambd*mu)\n",
      "/usr/local/lib/python3.11/dist-packages/pandas/core/internals/blocks.py:393: RuntimeWarning: invalid value encountered in tanh\n",
      "  result = func(self.values, **kwargs)\n",
      "/tmp/ipykernel_13/2642452818.py:9: RuntimeWarning: invalid value encountered in log\n",
      "  loss = -np.mean(np.sum(Y_oh * np.log(A2 + 1e-12), axis=1))\n",
      "/tmp/ipykernel_13/2642452818.py:9: RuntimeWarning: invalid value encountered in log\n",
      "  loss = -np.mean(np.sum(Y_oh * np.log(A2 + 1e-12), axis=1))\n",
      "/tmp/ipykernel_13/2642452818.py:9: RuntimeWarning: invalid value encountered in log\n",
      "  loss = -np.mean(np.sum(Y_oh * np.log(A2 + 1e-12), axis=1))\n",
      "/tmp/ipykernel_13/2642452818.py:9: RuntimeWarning: invalid value encountered in log\n",
      "  loss = -np.mean(np.sum(Y_oh * np.log(A2 + 1e-12), axis=1))\n",
      "/tmp/ipykernel_13/2642452818.py:9: RuntimeWarning: invalid value encountered in log\n",
      "  loss = -np.mean(np.sum(Y_oh * np.log(A2 + 1e-12), axis=1))\n",
      "/tmp/ipykernel_13/2642452818.py:9: RuntimeWarning: invalid value encountered in log\n",
      "  loss = -np.mean(np.sum(Y_oh * np.log(A2 + 1e-12), axis=1))\n",
      "/tmp/ipykernel_13/2642452818.py:9: RuntimeWarning: invalid value encountered in log\n",
      "  loss = -np.mean(np.sum(Y_oh * np.log(A2 + 1e-12), axis=1))\n"
     ]
    },
    {
     "name": "stdout",
     "output_type": "stream",
     "text": [
      " hidden_dim=50  → val loss = 5.907438\n",
      " hidden_dim=100 → val loss = 0.694889\n",
      " hidden_dim=150 → val loss = 0.695556\n",
      " hidden_dim=17  → val loss = 5.903998\n",
      " hidden_dim=25  → val loss = 0.693446\n",
      " hidden_dim=34  → val loss = 0.693371\n"
     ]
    },
    {
     "name": "stderr",
     "output_type": "stream",
     "text": [
      "/tmp/ipykernel_13/3941530362.py:16: RuntimeWarning: divide by zero encountered in scalar divide\n",
      "  alpha = -d.dot(g) / (delta + lambd*mu)\n",
      "/usr/local/lib/python3.11/dist-packages/pandas/core/internals/blocks.py:393: RuntimeWarning: invalid value encountered in tanh\n",
      "  result = func(self.values, **kwargs)\n",
      "/tmp/ipykernel_13/2642452818.py:9: RuntimeWarning: invalid value encountered in log\n",
      "  loss = -np.mean(np.sum(Y_oh * np.log(A2 + 1e-12), axis=1))\n",
      "/tmp/ipykernel_13/2642452818.py:9: RuntimeWarning: invalid value encountered in log\n",
      "  loss = -np.mean(np.sum(Y_oh * np.log(A2 + 1e-12), axis=1))\n",
      "/tmp/ipykernel_13/2642452818.py:9: RuntimeWarning: invalid value encountered in log\n",
      "  loss = -np.mean(np.sum(Y_oh * np.log(A2 + 1e-12), axis=1))\n"
     ]
    },
    {
     "name": "stdout",
     "output_type": "stream",
     "text": [
      " hidden_dim=50  → val loss = 5.908689\n"
     ]
    },
    {
     "name": "stderr",
     "output_type": "stream",
     "text": [
      "/tmp/ipykernel_13/3941530362.py:16: RuntimeWarning: divide by zero encountered in scalar divide\n",
      "  alpha = -d.dot(g) / (delta + lambd*mu)\n",
      "/usr/local/lib/python3.11/dist-packages/pandas/core/internals/blocks.py:393: RuntimeWarning: invalid value encountered in tanh\n",
      "  result = func(self.values, **kwargs)\n",
      "/tmp/ipykernel_13/2642452818.py:9: RuntimeWarning: invalid value encountered in log\n",
      "  loss = -np.mean(np.sum(Y_oh * np.log(A2 + 1e-12), axis=1))\n",
      "/tmp/ipykernel_13/2642452818.py:9: RuntimeWarning: invalid value encountered in log\n",
      "  loss = -np.mean(np.sum(Y_oh * np.log(A2 + 1e-12), axis=1))\n",
      "/tmp/ipykernel_13/2642452818.py:9: RuntimeWarning: invalid value encountered in log\n",
      "  loss = -np.mean(np.sum(Y_oh * np.log(A2 + 1e-12), axis=1))\n",
      "/tmp/ipykernel_13/2642452818.py:9: RuntimeWarning: invalid value encountered in log\n",
      "  loss = -np.mean(np.sum(Y_oh * np.log(A2 + 1e-12), axis=1))\n",
      "/tmp/ipykernel_13/2642452818.py:9: RuntimeWarning: invalid value encountered in log\n",
      "  loss = -np.mean(np.sum(Y_oh * np.log(A2 + 1e-12), axis=1))\n",
      "/tmp/ipykernel_13/2642452818.py:9: RuntimeWarning: invalid value encountered in log\n",
      "  loss = -np.mean(np.sum(Y_oh * np.log(A2 + 1e-12), axis=1))\n",
      "/tmp/ipykernel_13/2642452818.py:9: RuntimeWarning: invalid value encountered in log\n",
      "  loss = -np.mean(np.sum(Y_oh * np.log(A2 + 1e-12), axis=1))\n"
     ]
    },
    {
     "name": "stdout",
     "output_type": "stream",
     "text": [
      " hidden_dim=68  → val loss = 5.909002\n",
      " hidden_dim=85  → val loss = 0.693660\n",
      "⇒ Best hidden_dim = 10, validation loss = 0.693333\n"
     ]
    },
    {
     "name": "stderr",
     "output_type": "stream",
     "text": [
      "/tmp/ipykernel_13/3941530362.py:16: RuntimeWarning: divide by zero encountered in scalar divide\n",
      "  alpha = -d.dot(g) / (delta + lambd*mu)\n",
      "/tmp/ipykernel_13/2642452818.py:5: RuntimeWarning: invalid value encountered in add\n",
      "  Z1 = X.dot(W1.T) + b1\n",
      "/tmp/ipykernel_13/2642452818.py:6: RuntimeWarning: invalid value encountered in tanh\n",
      "  A1 = np.tanh(Z1)\n",
      "/tmp/ipykernel_13/2642452818.py:9: RuntimeWarning: invalid value encountered in log\n",
      "  loss = -np.mean(np.sum(Y_oh * np.log(A2 + 1e-12), axis=1))\n",
      "/tmp/ipykernel_13/2642452818.py:14: RuntimeWarning: invalid value encountered in tanh\n",
      "  dZ1 = dA1 * (1 - np.tanh(Z1)**2)\n"
     ]
    },
    {
     "name": "stdout",
     "output_type": "stream",
     "text": [
      "Test classification report:\n",
      "              precision    recall  f1-score   support\n",
      "\n",
      "           0       0.72      0.69      0.70     68556\n",
      "           1       0.11      0.13      0.12     20763\n",
      "\n",
      "    accuracy                           0.56     89319\n",
      "   macro avg       0.42      0.41      0.41     89319\n",
      "weighted avg       0.58      0.56      0.57     89319\n",
      "\n",
      "Test confusion matrix:\n",
      " [[47121 21435]\n",
      " [18110  2653]]\n"
     ]
    },
    {
     "data": {
      "image/png": "[encoded data removed]",
      "text/plain": [
       "<Figure size 640x480 with 2 Axes>"
      ]
     },
     "metadata": {},
     "output_type": "display_data"
    },
    {
     "name": "stdout",
     "output_type": "stream",
     "text": [
      "\n",
      "=== Dataset: Tháng 10 smote (Top Features) ===\n"
     ]
    },
    {
     "name": "stderr",
     "output_type": "stream",
     "text": [
      "/tmp/ipykernel_13/3941530362.py:16: RuntimeWarning: divide by zero encountered in scalar divide\n",
      "  alpha = -d.dot(g) / (delta + lambd*mu)\n",
      "/usr/local/lib/python3.11/dist-packages/pandas/core/internals/blocks.py:393: RuntimeWarning: invalid value encountered in tanh\n",
      "  result = func(self.values, **kwargs)\n",
      "/tmp/ipykernel_13/2642452818.py:9: RuntimeWarning: invalid value encountered in log\n",
      "  loss = -np.mean(np.sum(Y_oh * np.log(A2 + 1e-12), axis=1))\n",
      "/tmp/ipykernel_13/2642452818.py:9: RuntimeWarning: invalid value encountered in log\n",
      "  loss = -np.mean(np.sum(Y_oh * np.log(A2 + 1e-12), axis=1))\n",
      "/tmp/ipykernel_13/2642452818.py:9: RuntimeWarning: invalid value encountered in log\n",
      "  loss = -np.mean(np.sum(Y_oh * np.log(A2 + 1e-12), axis=1))\n",
      "/tmp/ipykernel_13/2642452818.py:9: RuntimeWarning: invalid value encountered in log\n",
      "  loss = -np.mean(np.sum(Y_oh * np.log(A2 + 1e-12), axis=1))\n",
      "/tmp/ipykernel_13/2642452818.py:9: RuntimeWarning: invalid value encountered in log\n",
      "  loss = -np.mean(np.sum(Y_oh * np.log(A2 + 1e-12), axis=1))\n",
      "/tmp/ipykernel_13/2642452818.py:9: RuntimeWarning: invalid value encountered in log\n",
      "  loss = -np.mean(np.sum(Y_oh * np.log(A2 + 1e-12), axis=1))\n",
      "/tmp/ipykernel_13/2642452818.py:9: RuntimeWarning: invalid value encountered in log\n",
      "  loss = -np.mean(np.sum(Y_oh * np.log(A2 + 1e-12), axis=1))\n"
     ]
    },
    {
     "name": "stdout",
     "output_type": "stream",
     "text": [
      " hidden_dim=10  → val loss = 5.445128\n",
      " hidden_dim=20  → val loss = 0.693704\n"
     ]
    },
    {
     "name": "stderr",
     "output_type": "stream",
     "text": [
      "/tmp/ipykernel_13/3941530362.py:16: RuntimeWarning: divide by zero encountered in scalar divide\n",
      "  alpha = -d.dot(g) / (delta + lambd*mu)\n",
      "/usr/local/lib/python3.11/dist-packages/pandas/core/internals/blocks.py:393: RuntimeWarning: invalid value encountered in tanh\n",
      "  result = func(self.values, **kwargs)\n",
      "/tmp/ipykernel_13/2642452818.py:9: RuntimeWarning: invalid value encountered in log\n",
      "  loss = -np.mean(np.sum(Y_oh * np.log(A2 + 1e-12), axis=1))\n",
      "/tmp/ipykernel_13/2642452818.py:9: RuntimeWarning: invalid value encountered in log\n",
      "  loss = -np.mean(np.sum(Y_oh * np.log(A2 + 1e-12), axis=1))\n",
      "/tmp/ipykernel_13/2642452818.py:9: RuntimeWarning: invalid value encountered in log\n",
      "  loss = -np.mean(np.sum(Y_oh * np.log(A2 + 1e-12), axis=1))\n",
      "/tmp/ipykernel_13/2642452818.py:9: RuntimeWarning: invalid value encountered in log\n",
      "  loss = -np.mean(np.sum(Y_oh * np.log(A2 + 1e-12), axis=1))\n",
      "/tmp/ipykernel_13/2642452818.py:9: RuntimeWarning: invalid value encountered in log\n",
      "  loss = -np.mean(np.sum(Y_oh * np.log(A2 + 1e-12), axis=1))\n",
      "/tmp/ipykernel_13/2642452818.py:9: RuntimeWarning: invalid value encountered in log\n",
      "  loss = -np.mean(np.sum(Y_oh * np.log(A2 + 1e-12), axis=1))\n",
      "/tmp/ipykernel_13/2642452818.py:9: RuntimeWarning: invalid value encountered in log\n",
      "  loss = -np.mean(np.sum(Y_oh * np.log(A2 + 1e-12), axis=1))\n"
     ]
    },
    {
     "name": "stdout",
     "output_type": "stream",
     "text": [
      " hidden_dim=50  → val loss = 22.184955\n",
      " hidden_dim=100 → val loss = 0.694227\n",
      " hidden_dim=150 → val loss = 0.693378\n",
      " hidden_dim=17  → val loss = 5.443877\n",
      " hidden_dim=25  → val loss = 0.694332\n"
     ]
    },
    {
     "name": "stderr",
     "output_type": "stream",
     "text": [
      "/tmp/ipykernel_13/3941530362.py:16: RuntimeWarning: divide by zero encountered in scalar divide\n",
      "  alpha = -d.dot(g) / (delta + lambd*mu)\n",
      "/usr/local/lib/python3.11/dist-packages/pandas/core/internals/blocks.py:393: RuntimeWarning: invalid value encountered in tanh\n",
      "  result = func(self.values, **kwargs)\n",
      "/tmp/ipykernel_13/2642452818.py:9: RuntimeWarning: invalid value encountered in log\n",
      "  loss = -np.mean(np.sum(Y_oh * np.log(A2 + 1e-12), axis=1))\n",
      "/tmp/ipykernel_13/2642452818.py:9: RuntimeWarning: invalid value encountered in log\n",
      "  loss = -np.mean(np.sum(Y_oh * np.log(A2 + 1e-12), axis=1))\n",
      "/tmp/ipykernel_13/2642452818.py:9: RuntimeWarning: invalid value encountered in log\n",
      "  loss = -np.mean(np.sum(Y_oh * np.log(A2 + 1e-12), axis=1))\n",
      "/tmp/ipykernel_13/2642452818.py:9: RuntimeWarning: invalid value encountered in log\n",
      "  loss = -np.mean(np.sum(Y_oh * np.log(A2 + 1e-12), axis=1))\n",
      "/tmp/ipykernel_13/2642452818.py:9: RuntimeWarning: invalid value encountered in log\n",
      "  loss = -np.mean(np.sum(Y_oh * np.log(A2 + 1e-12), axis=1))\n",
      "/tmp/ipykernel_13/2642452818.py:9: RuntimeWarning: invalid value encountered in log\n",
      "  loss = -np.mean(np.sum(Y_oh * np.log(A2 + 1e-12), axis=1))\n",
      "/tmp/ipykernel_13/2642452818.py:9: RuntimeWarning: invalid value encountered in log\n",
      "  loss = -np.mean(np.sum(Y_oh * np.log(A2 + 1e-12), axis=1))\n"
     ]
    },
    {
     "name": "stdout",
     "output_type": "stream",
     "text": [
      " hidden_dim=34  → val loss = 5.442938\n"
     ]
    },
    {
     "name": "stderr",
     "output_type": "stream",
     "text": [
      "/tmp/ipykernel_13/3941530362.py:16: RuntimeWarning: divide by zero encountered in scalar divide\n",
      "  alpha = -d.dot(g) / (delta + lambd*mu)\n",
      "/usr/local/lib/python3.11/dist-packages/pandas/core/internals/blocks.py:393: RuntimeWarning: invalid value encountered in tanh\n",
      "  result = func(self.values, **kwargs)\n",
      "/tmp/ipykernel_13/2642452818.py:9: RuntimeWarning: invalid value encountered in log\n",
      "  loss = -np.mean(np.sum(Y_oh * np.log(A2 + 1e-12), axis=1))\n",
      "/tmp/ipykernel_13/2642452818.py:9: RuntimeWarning: invalid value encountered in log\n",
      "  loss = -np.mean(np.sum(Y_oh * np.log(A2 + 1e-12), axis=1))\n",
      "/tmp/ipykernel_13/2642452818.py:9: RuntimeWarning: invalid value encountered in log\n",
      "  loss = -np.mean(np.sum(Y_oh * np.log(A2 + 1e-12), axis=1))\n",
      "/tmp/ipykernel_13/2642452818.py:9: RuntimeWarning: invalid value encountered in log\n",
      "  loss = -np.mean(np.sum(Y_oh * np.log(A2 + 1e-12), axis=1))\n",
      "/tmp/ipykernel_13/2642452818.py:9: RuntimeWarning: invalid value encountered in log\n",
      "  loss = -np.mean(np.sum(Y_oh * np.log(A2 + 1e-12), axis=1))\n",
      "/tmp/ipykernel_13/2642452818.py:9: RuntimeWarning: invalid value encountered in log\n",
      "  loss = -np.mean(np.sum(Y_oh * np.log(A2 + 1e-12), axis=1))\n",
      "/tmp/ipykernel_13/2642452818.py:9: RuntimeWarning: invalid value encountered in log\n",
      "  loss = -np.mean(np.sum(Y_oh * np.log(A2 + 1e-12), axis=1))\n"
     ]
    },
    {
     "name": "stdout",
     "output_type": "stream",
     "text": [
      " hidden_dim=50  → val loss = 5.445441\n",
      " hidden_dim=68  → val loss = 0.693468\n",
      " hidden_dim=85  → val loss = 0.693364\n",
      "⇒ Best hidden_dim = 85, validation loss = 0.693364\n",
      "Test classification report:\n",
      "              precision    recall  f1-score   support\n",
      "\n",
      "           0       0.94      0.28      0.43     68556\n",
      "           1       0.28      0.94      0.43     20763\n",
      "\n",
      "    accuracy                           0.43     89319\n",
      "   macro avg       0.61      0.61      0.43     89319\n",
      "weighted avg       0.78      0.43      0.43     89319\n",
      "\n",
      "Test confusion matrix:\n",
      " [[19305 49251]\n",
      " [ 1310 19453]]\n"
     ]
    },
    {
     "data": {
      "image/png": "[encoded data removed]",
      "text/plain": [
       "<Figure size 640x480 with 2 Axes>"
      ]
     },
     "metadata": {},
     "output_type": "display_data"
    }
   ],
   "source": [
    "for name, X_trval, y_trval, X_test, y_test in models_info:\n",
    "    \n",
    "    train_and_evaluate_model(name + \" (All Features)\", X_trval, y_trval, X_test, y_test)\n",
    "\n",
    "    train_and_evaluate_model(name + \" (Top Features)\", X_trval, y_trval, X_test, y_test, top_features=top_features)"
   ]
  },
  {
   "cell_type": "markdown",
   "id": "c5aec7d2",
   "metadata": {
    "papermill": {
     "duration": 0.012697,
     "end_time": "2025-05-05T19:01:35.945621",
     "exception": false,
     "start_time": "2025-05-05T19:01:35.932924",
     "status": "completed"
    },
    "tags": []
   },
   "source": [
    "## SMOTE ENN"
   ]
  },
  {
   "cell_type": "code",
   "execution_count": 19,
   "id": "feb3da88",
   "metadata": {
    "execution": {
     "iopub.execute_input": "2025-05-05T19:01:36.046703Z",
     "iopub.status.busy": "2025-05-05T19:01:36.046366Z",
     "iopub.status.idle": "2025-05-05T19:11:31.814744Z",
     "shell.execute_reply": "2025-05-05T19:11:31.813683Z"
    },
    "papermill": {
     "duration": 595.857338,
     "end_time": "2025-05-05T19:11:31.816726",
     "exception": false,
     "start_time": "2025-05-05T19:01:35.959388",
     "status": "completed"
    },
    "tags": []
   },
   "outputs": [],
   "source": [
    "smenn = SMOTEENN()\n",
    "\n",
    "X_smenn, y_smenn = smenn.fit_resample(X_train, y_train)\n",
    "X_smenn.shape, y_sm.shape\n",
    "\n",
    "scaler = StandardScaler()\n",
    "X_train_scaled = scaler.fit_transform(X_smenn)\n",
    "X_test_scaled = scaler.transform(X_test)\n",
    "\n",
    "X_train_scaled = pd.DataFrame(X_train_scaled, columns=X_train.columns)\n",
    "X_test_scaled = pd.DataFrame(X_test_scaled, columns=X_test.columns)"
   ]
  },
  {
   "cell_type": "code",
   "execution_count": 20,
   "id": "511ffdcc",
   "metadata": {
    "execution": {
     "iopub.execute_input": "2025-05-05T19:11:31.844380Z",
     "iopub.status.busy": "2025-05-05T19:11:31.844078Z",
     "iopub.status.idle": "2025-05-05T19:11:31.848646Z",
     "shell.execute_reply": "2025-05-05T19:11:31.847510Z"
    },
    "papermill": {
     "duration": 0.02024,
     "end_time": "2025-05-05T19:11:31.850194",
     "exception": false,
     "start_time": "2025-05-05T19:11:31.829954",
     "status": "completed"
    },
    "tags": []
   },
   "outputs": [],
   "source": [
    "models_info = [\n",
    "    (\"Tháng 10 smote\", X_train_scaled, y_smenn, X_test_scaled, y_test),\n",
    "]"
   ]
  },
  {
   "cell_type": "code",
   "execution_count": 21,
   "id": "c9b0b635",
   "metadata": {
    "execution": {
     "iopub.execute_input": "2025-05-05T19:11:31.879435Z",
     "iopub.status.busy": "2025-05-05T19:11:31.878900Z",
     "iopub.status.idle": "2025-05-05T19:16:29.391299Z",
     "shell.execute_reply": "2025-05-05T19:16:29.390215Z"
    },
    "papermill": {
     "duration": 297.52963,
     "end_time": "2025-05-05T19:16:29.393081",
     "exception": false,
     "start_time": "2025-05-05T19:11:31.863451",
     "status": "completed"
    },
    "tags": []
   },
   "outputs": [
    {
     "name": "stdout",
     "output_type": "stream",
     "text": [
      "\n",
      "=== Dataset: Tháng 10 smote (All Features) ===\n",
      " hidden_dim=10  → val loss = 4.730864\n",
      " hidden_dim=20  → val loss = 4.728511\n",
      " hidden_dim=50  → val loss = 0.693109\n",
      " hidden_dim=100 → val loss = 0.695334\n",
      " hidden_dim=150 → val loss = 0.694623\n",
      " hidden_dim=17  → val loss = 0.693401\n",
      " hidden_dim=25  → val loss = 0.693569\n"
     ]
    },
    {
     "name": "stderr",
     "output_type": "stream",
     "text": [
      "/tmp/ipykernel_13/3941530362.py:16: RuntimeWarning: divide by zero encountered in scalar divide\n",
      "  alpha = -d.dot(g) / (delta + lambd*mu)\n",
      "/usr/local/lib/python3.11/dist-packages/pandas/core/internals/blocks.py:393: RuntimeWarning: invalid value encountered in tanh\n",
      "  result = func(self.values, **kwargs)\n",
      "/tmp/ipykernel_13/2642452818.py:9: RuntimeWarning: invalid value encountered in log\n",
      "  loss = -np.mean(np.sum(Y_oh * np.log(A2 + 1e-12), axis=1))\n",
      "/tmp/ipykernel_13/2642452818.py:9: RuntimeWarning: invalid value encountered in log\n",
      "  loss = -np.mean(np.sum(Y_oh * np.log(A2 + 1e-12), axis=1))\n",
      "/tmp/ipykernel_13/2642452818.py:9: RuntimeWarning: invalid value encountered in log\n",
      "  loss = -np.mean(np.sum(Y_oh * np.log(A2 + 1e-12), axis=1))\n",
      "/tmp/ipykernel_13/2642452818.py:9: RuntimeWarning: invalid value encountered in log\n",
      "  loss = -np.mean(np.sum(Y_oh * np.log(A2 + 1e-12), axis=1))\n",
      "/tmp/ipykernel_13/2642452818.py:9: RuntimeWarning: invalid value encountered in log\n",
      "  loss = -np.mean(np.sum(Y_oh * np.log(A2 + 1e-12), axis=1))\n",
      "/tmp/ipykernel_13/2642452818.py:9: RuntimeWarning: invalid value encountered in log\n",
      "  loss = -np.mean(np.sum(Y_oh * np.log(A2 + 1e-12), axis=1))\n",
      "/tmp/ipykernel_13/2642452818.py:9: RuntimeWarning: invalid value encountered in log\n",
      "  loss = -np.mean(np.sum(Y_oh * np.log(A2 + 1e-12), axis=1))\n"
     ]
    },
    {
     "name": "stdout",
     "output_type": "stream",
     "text": [
      " hidden_dim=34  → val loss = 13.711387\n",
      " hidden_dim=50  → val loss = 0.766681\n",
      " hidden_dim=68  → val loss = 0.693162\n",
      " hidden_dim=85  → val loss = 0.694568\n",
      "⇒ Best hidden_dim = 50, validation loss = 0.693109\n",
      "Test classification report:\n",
      "              precision    recall  f1-score   support\n",
      "\n",
      "           0       0.85      0.32      0.47     68556\n",
      "           1       0.27      0.82      0.40     20763\n",
      "\n",
      "    accuracy                           0.44     89319\n",
      "   macro avg       0.56      0.57      0.44     89319\n",
      "weighted avg       0.72      0.44      0.45     89319\n",
      "\n",
      "Test confusion matrix:\n",
      " [[22184 46372]\n",
      " [ 3807 16956]]\n"
     ]
    },
    {
     "data": {
      "image/png": "[encoded data removed]",
      "text/plain": [
       "<Figure size 640x480 with 2 Axes>"
      ]
     },
     "metadata": {},
     "output_type": "display_data"
    },
    {
     "name": "stdout",
     "output_type": "stream",
     "text": [
      "\n",
      "=== Dataset: Tháng 10 smote (Top Features) ===\n"
     ]
    },
    {
     "name": "stderr",
     "output_type": "stream",
     "text": [
      "/tmp/ipykernel_13/3941530362.py:16: RuntimeWarning: divide by zero encountered in scalar divide\n",
      "  alpha = -d.dot(g) / (delta + lambd*mu)\n",
      "/usr/local/lib/python3.11/dist-packages/pandas/core/internals/blocks.py:393: RuntimeWarning: invalid value encountered in tanh\n",
      "  result = func(self.values, **kwargs)\n",
      "/tmp/ipykernel_13/2642452818.py:9: RuntimeWarning: invalid value encountered in log\n",
      "  loss = -np.mean(np.sum(Y_oh * np.log(A2 + 1e-12), axis=1))\n",
      "/tmp/ipykernel_13/2642452818.py:9: RuntimeWarning: invalid value encountered in log\n",
      "  loss = -np.mean(np.sum(Y_oh * np.log(A2 + 1e-12), axis=1))\n",
      "/tmp/ipykernel_13/2642452818.py:9: RuntimeWarning: invalid value encountered in log\n",
      "  loss = -np.mean(np.sum(Y_oh * np.log(A2 + 1e-12), axis=1))\n",
      "/tmp/ipykernel_13/2642452818.py:9: RuntimeWarning: invalid value encountered in log\n",
      "  loss = -np.mean(np.sum(Y_oh * np.log(A2 + 1e-12), axis=1))\n",
      "/tmp/ipykernel_13/2642452818.py:9: RuntimeWarning: invalid value encountered in log\n",
      "  loss = -np.mean(np.sum(Y_oh * np.log(A2 + 1e-12), axis=1))\n",
      "/tmp/ipykernel_13/2642452818.py:9: RuntimeWarning: invalid value encountered in log\n",
      "  loss = -np.mean(np.sum(Y_oh * np.log(A2 + 1e-12), axis=1))\n",
      "/tmp/ipykernel_13/2642452818.py:9: RuntimeWarning: invalid value encountered in log\n",
      "  loss = -np.mean(np.sum(Y_oh * np.log(A2 + 1e-12), axis=1))\n"
     ]
    },
    {
     "name": "stdout",
     "output_type": "stream",
     "text": [
      " hidden_dim=10  → val loss = 4.150046\n",
      " hidden_dim=20  → val loss = 0.693325\n",
      " hidden_dim=50  → val loss = 0.694319\n"
     ]
    },
    {
     "name": "stderr",
     "output_type": "stream",
     "text": [
      "/tmp/ipykernel_13/3941530362.py:16: RuntimeWarning: divide by zero encountered in scalar divide\n",
      "  alpha = -d.dot(g) / (delta + lambd*mu)\n",
      "/usr/local/lib/python3.11/dist-packages/pandas/core/internals/blocks.py:393: RuntimeWarning: invalid value encountered in tanh\n",
      "  result = func(self.values, **kwargs)\n",
      "/tmp/ipykernel_13/2642452818.py:9: RuntimeWarning: invalid value encountered in log\n",
      "  loss = -np.mean(np.sum(Y_oh * np.log(A2 + 1e-12), axis=1))\n",
      "/tmp/ipykernel_13/2642452818.py:9: RuntimeWarning: invalid value encountered in log\n",
      "  loss = -np.mean(np.sum(Y_oh * np.log(A2 + 1e-12), axis=1))\n",
      "/tmp/ipykernel_13/2642452818.py:9: RuntimeWarning: invalid value encountered in log\n",
      "  loss = -np.mean(np.sum(Y_oh * np.log(A2 + 1e-12), axis=1))\n",
      "/tmp/ipykernel_13/2642452818.py:9: RuntimeWarning: invalid value encountered in log\n",
      "  loss = -np.mean(np.sum(Y_oh * np.log(A2 + 1e-12), axis=1))\n",
      "/tmp/ipykernel_13/2642452818.py:9: RuntimeWarning: invalid value encountered in log\n",
      "  loss = -np.mean(np.sum(Y_oh * np.log(A2 + 1e-12), axis=1))\n",
      "/tmp/ipykernel_13/2642452818.py:9: RuntimeWarning: invalid value encountered in log\n",
      "  loss = -np.mean(np.sum(Y_oh * np.log(A2 + 1e-12), axis=1))\n",
      "/tmp/ipykernel_13/2642452818.py:9: RuntimeWarning: invalid value encountered in log\n",
      "  loss = -np.mean(np.sum(Y_oh * np.log(A2 + 1e-12), axis=1))\n"
     ]
    },
    {
     "name": "stdout",
     "output_type": "stream",
     "text": [
      " hidden_dim=100 → val loss = 23.482544\n",
      " hidden_dim=150 → val loss = 0.695278\n"
     ]
    },
    {
     "name": "stderr",
     "output_type": "stream",
     "text": [
      "/tmp/ipykernel_13/3941530362.py:16: RuntimeWarning: divide by zero encountered in scalar divide\n",
      "  alpha = -d.dot(g) / (delta + lambd*mu)\n",
      "/usr/local/lib/python3.11/dist-packages/pandas/core/internals/blocks.py:393: RuntimeWarning: invalid value encountered in tanh\n",
      "  result = func(self.values, **kwargs)\n",
      "/tmp/ipykernel_13/2642452818.py:9: RuntimeWarning: invalid value encountered in log\n",
      "  loss = -np.mean(np.sum(Y_oh * np.log(A2 + 1e-12), axis=1))\n",
      "/tmp/ipykernel_13/2642452818.py:9: RuntimeWarning: invalid value encountered in log\n",
      "  loss = -np.mean(np.sum(Y_oh * np.log(A2 + 1e-12), axis=1))\n",
      "/tmp/ipykernel_13/2642452818.py:9: RuntimeWarning: invalid value encountered in log\n",
      "  loss = -np.mean(np.sum(Y_oh * np.log(A2 + 1e-12), axis=1))\n",
      "/tmp/ipykernel_13/2642452818.py:9: RuntimeWarning: invalid value encountered in log\n",
      "  loss = -np.mean(np.sum(Y_oh * np.log(A2 + 1e-12), axis=1))\n",
      "/tmp/ipykernel_13/2642452818.py:9: RuntimeWarning: invalid value encountered in log\n",
      "  loss = -np.mean(np.sum(Y_oh * np.log(A2 + 1e-12), axis=1))\n",
      "/tmp/ipykernel_13/2642452818.py:9: RuntimeWarning: invalid value encountered in log\n",
      "  loss = -np.mean(np.sum(Y_oh * np.log(A2 + 1e-12), axis=1))\n",
      "/tmp/ipykernel_13/2642452818.py:9: RuntimeWarning: invalid value encountered in log\n",
      "  loss = -np.mean(np.sum(Y_oh * np.log(A2 + 1e-12), axis=1))\n"
     ]
    },
    {
     "name": "stdout",
     "output_type": "stream",
     "text": [
      " hidden_dim=17  → val loss = 4.148477\n",
      " hidden_dim=25  → val loss = 4.149653\n"
     ]
    },
    {
     "name": "stderr",
     "output_type": "stream",
     "text": [
      "/tmp/ipykernel_13/3941530362.py:16: RuntimeWarning: divide by zero encountered in scalar divide\n",
      "  alpha = -d.dot(g) / (delta + lambd*mu)\n",
      "/usr/local/lib/python3.11/dist-packages/pandas/core/internals/blocks.py:393: RuntimeWarning: invalid value encountered in tanh\n",
      "  result = func(self.values, **kwargs)\n",
      "/tmp/ipykernel_13/2642452818.py:9: RuntimeWarning: invalid value encountered in log\n",
      "  loss = -np.mean(np.sum(Y_oh * np.log(A2 + 1e-12), axis=1))\n",
      "/tmp/ipykernel_13/2642452818.py:9: RuntimeWarning: invalid value encountered in log\n",
      "  loss = -np.mean(np.sum(Y_oh * np.log(A2 + 1e-12), axis=1))\n",
      "/tmp/ipykernel_13/2642452818.py:9: RuntimeWarning: invalid value encountered in log\n",
      "  loss = -np.mean(np.sum(Y_oh * np.log(A2 + 1e-12), axis=1))\n",
      "/tmp/ipykernel_13/2642452818.py:9: RuntimeWarning: invalid value encountered in log\n",
      "  loss = -np.mean(np.sum(Y_oh * np.log(A2 + 1e-12), axis=1))\n",
      "/tmp/ipykernel_13/2642452818.py:9: RuntimeWarning: invalid value encountered in log\n",
      "  loss = -np.mean(np.sum(Y_oh * np.log(A2 + 1e-12), axis=1))\n",
      "/tmp/ipykernel_13/2642452818.py:9: RuntimeWarning: invalid value encountered in log\n",
      "  loss = -np.mean(np.sum(Y_oh * np.log(A2 + 1e-12), axis=1))\n",
      "/tmp/ipykernel_13/2642452818.py:9: RuntimeWarning: invalid value encountered in log\n",
      "  loss = -np.mean(np.sum(Y_oh * np.log(A2 + 1e-12), axis=1))\n"
     ]
    },
    {
     "name": "stdout",
     "output_type": "stream",
     "text": [
      " hidden_dim=34  → val loss = 4.151222\n",
      " hidden_dim=50  → val loss = 0.694310\n",
      " hidden_dim=68  → val loss = 0.694726\n",
      " hidden_dim=85  → val loss = 0.695813\n",
      "⇒ Best hidden_dim = 20, validation loss = 0.693325\n",
      "Test classification report:\n",
      "              precision    recall  f1-score   support\n",
      "\n",
      "           0       0.94      0.28      0.43     68556\n",
      "           1       0.28      0.94      0.43     20763\n",
      "\n",
      "    accuracy                           0.43     89319\n",
      "   macro avg       0.61      0.61      0.43     89319\n",
      "weighted avg       0.78      0.43      0.43     89319\n",
      "\n",
      "Test confusion matrix:\n",
      " [[19327 49229]\n",
      " [ 1311 19452]]\n"
     ]
    },
    {
     "data": {
      "image/png": "[encoded data removed]",
      "text/plain": [
       "<Figure size 640x480 with 2 Axes>"
      ]
     },
     "metadata": {},
     "output_type": "display_data"
    }
   ],
   "source": [
    "for name, X_trval, y_trval, X_test, y_test in models_info:\n",
    "    \n",
    "    train_and_evaluate_model(name + \" (All Features)\", X_trval, y_trval, X_test, y_test)\n",
    "\n",
    "    train_and_evaluate_model(name + \" (Top Features)\", X_trval, y_trval, X_test, y_test, top_features=top_features)"
   ]
  }
 ],
 "metadata": {
  "kaggle": {
   "accelerator": "none",
   "dataSources": [
    {
     "datasetId": 6979951,
     "sourceId": 11182321,
     "sourceType": "datasetVersion"
    },
    {
     "datasetId": 6988906,
     "sourceId": 11449400,
     "sourceType": "datasetVersion"
    },
    {
     "datasetId": 7334326,
     "sourceId": 11685547,
     "sourceType": "datasetVersion"
    },
    {
     "datasetId": 7334337,
     "sourceId": 11685564,
     "sourceType": "datasetVersion"
    }
   ],
   "isGpuEnabled": false,
   "isInternetEnabled": true,
   "language": "python",
   "sourceType": "notebook"
  },
  "kernelspec": {
   "display_name": "Python 3",
   "language": "python",
   "name": "python3"
  },
  "language_info": {
   "codemirror_mode": {
    "name": "ipython",
    "version": 3
   },
   "file_extension": ".py",
   "mimetype": "text/x-python",
   "name": "python",
   "nbconvert_exporter": "python",
   "pygments_lexer": "ipython3",
   "version": "3.11.11"
  },
  "papermill": {
   "default_parameters": {},
   "duration": 1548.620089,
   "end_time": "2025-05-05T19:16:32.254892",
   "environment_variables": {},
   "exception": null,
   "input_path": "__notebook__.ipynb",
   "output_path": "__notebook__.ipynb",
   "parameters": {},
   "start_time": "2025-05-05T18:50:43.634803",
   "version": "2.6.0"
  }
 },
 "nbformat": 4,
 "nbformat_minor": 5
}
