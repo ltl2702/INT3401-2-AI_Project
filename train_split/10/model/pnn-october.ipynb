{
 "cells": [
  {
   "cell_type": "markdown",
   "id": "c27970f6",
   "metadata": {
    "papermill": {
     "duration": 0.006167,
     "end_time": "2025-05-06T06:08:22.136037",
     "exception": false,
     "start_time": "2025-05-06T06:08:22.129870",
     "status": "completed"
    },
    "tags": []
   },
   "source": [
    "# Cài đặt các thư viện cần thiết"
   ]
  },
  {
   "cell_type": "code",
   "execution_count": 1,
   "id": "af9c0a69",
   "metadata": {
    "_cell_guid": "b1076dfc-b9ad-4769-8c92-a6c4dae69d19",
    "_uuid": "8f2839f25d086af736a60e9eeb907d3b93b6e0e5",
    "execution": {
     "iopub.execute_input": "2025-05-06T06:08:22.148341Z",
     "iopub.status.busy": "2025-05-06T06:08:22.147926Z",
     "iopub.status.idle": "2025-05-06T06:08:38.737132Z",
     "shell.execute_reply": "2025-05-06T06:08:38.735847Z"
    },
    "papermill": {
     "duration": 16.597278,
     "end_time": "2025-05-06T06:08:38.739187",
     "exception": false,
     "start_time": "2025-05-06T06:08:22.141909",
     "status": "completed"
    },
    "tags": []
   },
   "outputs": [
    {
     "name": "stdout",
     "output_type": "stream",
     "text": [
      "Requirement already satisfied: scikit-learn==1.2.2 in /usr/local/lib/python3.11/dist-packages (1.2.2)\r\n",
      "Collecting imbalanced-learn==0.10.1\r\n",
      "  Downloading imbalanced_learn-0.10.1-py3-none-any.whl.metadata (8.2 kB)\r\n",
      "Requirement already satisfied: numpy>=1.17.3 in /usr/local/lib/python3.11/dist-packages (from scikit-learn==1.2.2) (1.26.4)\r\n",
      "Requirement already satisfied: scipy>=1.3.2 in /usr/local/lib/python3.11/dist-packages (from scikit-learn==1.2.2) (1.15.2)\r\n",
      "Requirement already satisfied: joblib>=1.1.1 in /usr/local/lib/python3.11/dist-packages (from scikit-learn==1.2.2) (1.4.2)\r\n",
      "Requirement already satisfied: threadpoolctl>=2.0.0 in /usr/local/lib/python3.11/dist-packages (from scikit-learn==1.2.2) (3.6.0)\r\n",
      "Requirement already satisfied: mkl_fft in /usr/local/lib/python3.11/dist-packages (from numpy>=1.17.3->scikit-learn==1.2.2) (1.3.8)\r\n",
      "Requirement already satisfied: mkl_random in /usr/local/lib/python3.11/dist-packages (from numpy>=1.17.3->scikit-learn==1.2.2) (1.2.4)\r\n",
      "Requirement already satisfied: mkl_umath in /usr/local/lib/python3.11/dist-packages (from numpy>=1.17.3->scikit-learn==1.2.2) (0.1.1)\r\n",
      "Requirement already satisfied: mkl in /usr/local/lib/python3.11/dist-packages (from numpy>=1.17.3->scikit-learn==1.2.2) (2025.1.0)\r\n",
      "Requirement already satisfied: tbb4py in /usr/local/lib/python3.11/dist-packages (from numpy>=1.17.3->scikit-learn==1.2.2) (2022.1.0)\r\n",
      "Requirement already satisfied: mkl-service in /usr/local/lib/python3.11/dist-packages (from numpy>=1.17.3->scikit-learn==1.2.2) (2.4.1)\r\n",
      "Requirement already satisfied: intel-openmp<2026,>=2024 in /usr/local/lib/python3.11/dist-packages (from mkl->numpy>=1.17.3->scikit-learn==1.2.2) (2024.2.0)\r\n",
      "Requirement already satisfied: tbb==2022.* in /usr/local/lib/python3.11/dist-packages (from mkl->numpy>=1.17.3->scikit-learn==1.2.2) (2022.1.0)\r\n",
      "Requirement already satisfied: tcmlib==1.* in /usr/local/lib/python3.11/dist-packages (from tbb==2022.*->mkl->numpy>=1.17.3->scikit-learn==1.2.2) (1.2.0)\r\n",
      "Requirement already satisfied: intel-cmplr-lib-rt in /usr/local/lib/python3.11/dist-packages (from mkl_umath->numpy>=1.17.3->scikit-learn==1.2.2) (2024.2.0)\r\n",
      "Requirement already satisfied: intel-cmplr-lib-ur==2024.2.0 in /usr/local/lib/python3.11/dist-packages (from intel-openmp<2026,>=2024->mkl->numpy>=1.17.3->scikit-learn==1.2.2) (2024.2.0)\r\n",
      "Downloading imbalanced_learn-0.10.1-py3-none-any.whl (226 kB)\r\n",
      "\u001b[2K   \u001b[90m━━━━━━━━━━━━━━━━━━━━━━━━━━━━━━━━━━━━━━━━\u001b[0m \u001b[32m226.0/226.0 kB\u001b[0m \u001b[31m4.7 MB/s\u001b[0m eta \u001b[36m0:00:00\u001b[0m\r\n",
      "\u001b[?25hInstalling collected packages: imbalanced-learn\r\n",
      "  Attempting uninstall: imbalanced-learn\r\n",
      "    Found existing installation: imbalanced-learn 0.13.0\r\n",
      "    Uninstalling imbalanced-learn-0.13.0:\r\n",
      "      Successfully uninstalled imbalanced-learn-0.13.0\r\n",
      "Successfully installed imbalanced-learn-0.10.1\r\n"
     ]
    }
   ],
   "source": [
    "import pandas as pd\n",
    "import numpy as np\n",
    "from sklearn.model_selection import train_test_split\n",
    "from sklearn.base import BaseEstimator, TransformerMixin\n",
    "from sklearn.pipeline import Pipeline\n",
    "from sklearn.preprocessing import MinMaxScaler\n",
    "from sklearn.preprocessing import StandardScaler\n",
    "import matplotlib.pyplot as plt\n",
    "import matplotlib.gridspec as gridspec\n",
    "import seaborn as sns\n",
    "from tqdm import tqdm\n",
    "from sklearn.metrics import classification_report, confusion_matrix, ConfusionMatrixDisplay\n",
    "import matplotlib.pyplot as plt\n",
    "import torch.nn as nn\n",
    "from sklearn.decomposition import PCA\n",
    "from sklearn.metrics import classification_report\n",
    "from sklearn.linear_model import LogisticRegression\n",
    "from sklearn.preprocessing import OneHotEncoder\n",
    "from sklearn.metrics.pairwise import pairwise_distances\n",
    "from sklearn.base import BaseEstimator, ClassifierMixin\n",
    "from sklearn.metrics import f1_score, classification_report, confusion_matrix, roc_curve, auc\n",
    "\n",
    "!pip install scikit-learn==1.2.2 imbalanced-learn==0.10.1\n",
    "\n",
    "from imblearn.over_sampling import SMOTE\n",
    "from imblearn.combine import SMOTEENN\n",
    "\n",
    "import warnings\n",
    "warnings.simplefilter('ignore', FutureWarning)"
   ]
  },
  {
   "cell_type": "code",
   "execution_count": 2,
   "id": "31822e7f",
   "metadata": {
    "execution": {
     "iopub.execute_input": "2025-05-06T06:08:38.752681Z",
     "iopub.status.busy": "2025-05-06T06:08:38.751837Z",
     "iopub.status.idle": "2025-05-06T06:08:42.954585Z",
     "shell.execute_reply": "2025-05-06T06:08:42.953517Z"
    },
    "papermill": {
     "duration": 4.211205,
     "end_time": "2025-05-06T06:08:42.956282",
     "exception": false,
     "start_time": "2025-05-06T06:08:38.745077",
     "status": "completed"
    },
    "tags": []
   },
   "outputs": [],
   "source": [
    "train_df = pd.read_csv('/kaggle/input/data-split/train_split/10/train_october.csv')\n",
    "test_df = pd.read_csv('/kaggle/input/data-split/train_split/10/test_october.csv')"
   ]
  },
  {
   "cell_type": "code",
   "execution_count": 3,
   "id": "acd95514",
   "metadata": {
    "execution": {
     "iopub.execute_input": "2025-05-06T06:08:42.968684Z",
     "iopub.status.busy": "2025-05-06T06:08:42.968336Z",
     "iopub.status.idle": "2025-05-06T06:08:43.023725Z",
     "shell.execute_reply": "2025-05-06T06:08:43.022697Z"
    },
    "papermill": {
     "duration": 0.063632,
     "end_time": "2025-05-06T06:08:43.025489",
     "exception": false,
     "start_time": "2025-05-06T06:08:42.961857",
     "status": "completed"
    },
    "tags": []
   },
   "outputs": [],
   "source": [
    "X_train = train_df.drop(columns=['AWS', 'datetime', 'row','col'])\n",
    "y_train = train_df['AWS']\n",
    "\n",
    "X_test = test_df.drop(columns=['AWS', 'datetime', 'row','col'])\n",
    "y_test = test_df['AWS']"
   ]
  },
  {
   "cell_type": "markdown",
   "id": "fef02182",
   "metadata": {
    "papermill": {
     "duration": 0.005066,
     "end_time": "2025-05-06T06:08:43.036249",
     "exception": false,
     "start_time": "2025-05-06T06:08:43.031183",
     "status": "completed"
    },
    "tags": []
   },
   "source": [
    "# Chuẩn hóa"
   ]
  },
  {
   "cell_type": "code",
   "execution_count": 4,
   "id": "447bae54",
   "metadata": {
    "execution": {
     "iopub.execute_input": "2025-05-06T06:08:43.048282Z",
     "iopub.status.busy": "2025-05-06T06:08:43.047881Z",
     "iopub.status.idle": "2025-05-06T06:08:43.232900Z",
     "shell.execute_reply": "2025-05-06T06:08:43.231889Z"
    },
    "papermill": {
     "duration": 0.193194,
     "end_time": "2025-05-06T06:08:43.234732",
     "exception": false,
     "start_time": "2025-05-06T06:08:43.041538",
     "status": "completed"
    },
    "tags": []
   },
   "outputs": [],
   "source": [
    "scaler = StandardScaler()\n",
    "X_train_scaled = scaler.fit_transform(X_train)\n",
    "X_test_scaled = scaler.transform(X_test)\n",
    "\n",
    "X_train_scaled = pd.DataFrame(X_train_scaled, columns=X_train.columns)\n",
    "X_test_scaled = pd.DataFrame(X_test_scaled, columns=X_test.columns)"
   ]
  },
  {
   "cell_type": "markdown",
   "id": "0fb62406",
   "metadata": {
    "papermill": {
     "duration": 0.005659,
     "end_time": "2025-05-06T06:08:43.247296",
     "exception": false,
     "start_time": "2025-05-06T06:08:43.241637",
     "status": "completed"
    },
    "tags": []
   },
   "source": [
    "# Chọn feature"
   ]
  },
  {
   "cell_type": "code",
   "execution_count": 5,
   "id": "931d6a32",
   "metadata": {
    "execution": {
     "iopub.execute_input": "2025-05-06T06:08:43.259625Z",
     "iopub.status.busy": "2025-05-06T06:08:43.259203Z",
     "iopub.status.idle": "2025-05-06T06:08:43.265166Z",
     "shell.execute_reply": "2025-05-06T06:08:43.264293Z"
    },
    "papermill": {
     "duration": 0.01403,
     "end_time": "2025-05-06T06:08:43.266831",
     "exception": false,
     "start_time": "2025-05-06T06:08:43.252801",
     "status": "completed"
    },
    "tags": []
   },
   "outputs": [],
   "source": [
    "top_features =  ['EWSS', 'KX', 'PEV', 'R250', 'R500', 'R850', 'SSHF', 'TCLW', 'TCW', 'U250', 'U850', 'V250', 'V850', 'B11B', 'B14B', 'I4B', 'IRB']"
   ]
  },
  {
   "cell_type": "code",
   "execution_count": 6,
   "id": "004617a7",
   "metadata": {
    "execution": {
     "iopub.execute_input": "2025-05-06T06:08:43.279120Z",
     "iopub.status.busy": "2025-05-06T06:08:43.278800Z",
     "iopub.status.idle": "2025-05-06T06:08:43.284803Z",
     "shell.execute_reply": "2025-05-06T06:08:43.283743Z"
    },
    "papermill": {
     "duration": 0.013921,
     "end_time": "2025-05-06T06:08:43.286417",
     "exception": false,
     "start_time": "2025-05-06T06:08:43.272496",
     "status": "completed"
    },
    "tags": []
   },
   "outputs": [],
   "source": [
    "def print_scores(y_true, y_pred):\n",
    "    cm = confusion_matrix(y_true, y_pred)\n",
    "    sns.heatmap(cm, annot=True, fmt=\"d\", cmap=\"Blues\")\n",
    "    plt.xlabel(\"Predicted\")\n",
    "    plt.ylabel(\"True\")\n",
    "    plt.title(\"Confusion Matrix\")\n",
    "    plt.show()\n",
    "    print(classification_report(y_true, y_pred))"
   ]
  },
  {
   "cell_type": "code",
   "execution_count": 7,
   "id": "60c11ac4",
   "metadata": {
    "execution": {
     "iopub.execute_input": "2025-05-06T06:08:43.299564Z",
     "iopub.status.busy": "2025-05-06T06:08:43.298143Z",
     "iopub.status.idle": "2025-05-06T06:08:43.304556Z",
     "shell.execute_reply": "2025-05-06T06:08:43.303201Z"
    },
    "papermill": {
     "duration": 0.01452,
     "end_time": "2025-05-06T06:08:43.306394",
     "exception": false,
     "start_time": "2025-05-06T06:08:43.291874",
     "status": "completed"
    },
    "tags": []
   },
   "outputs": [],
   "source": [
    "sigmas = np.logspace(-2, 1, 50)\n",
    "param_grid = {'sigma': sigmas.tolist()}  # Grid search for sigma values"
   ]
  },
  {
   "cell_type": "markdown",
   "id": "d4a95dab",
   "metadata": {
    "papermill": {
     "duration": 0.005266,
     "end_time": "2025-05-06T06:08:43.317634",
     "exception": false,
     "start_time": "2025-05-06T06:08:43.312368",
     "status": "completed"
    },
    "tags": []
   },
   "source": [
    "# Hàm bổ trợ"
   ]
  },
  {
   "cell_type": "code",
   "execution_count": 8,
   "id": "cc328774",
   "metadata": {
    "execution": {
     "iopub.execute_input": "2025-05-06T06:08:43.330328Z",
     "iopub.status.busy": "2025-05-06T06:08:43.329953Z",
     "iopub.status.idle": "2025-05-06T06:08:43.341953Z",
     "shell.execute_reply": "2025-05-06T06:08:43.341027Z"
    },
    "papermill": {
     "duration": 0.020663,
     "end_time": "2025-05-06T06:08:43.343571",
     "exception": false,
     "start_time": "2025-05-06T06:08:43.322908",
     "status": "completed"
    },
    "tags": []
   },
   "outputs": [],
   "source": [
    "class RBFLayer:\n",
    "    def __init__(self, centers, sigma=1.0):\n",
    "        self.centers = centers\n",
    "        self.sigma = sigma\n",
    "\n",
    "    def compute(self, X):\n",
    "        diff = X[:, np.newaxis, :] - self.centers\n",
    "        dist_sq = np.sum(diff**2, axis=2)\n",
    "        return np.exp(-dist_sq / (2 * self.sigma**2))\n",
    "\n",
    "def softmax(z):\n",
    "    # z: (n_samples, n_classes)\n",
    "    z_max = np.max(z, axis=1, keepdims=True)\n",
    "    e_z = np.exp(z - z_max)\n",
    "    return e_z / e_z.sum(axis=1, keepdims=True)\n",
    "\n",
    "#Define PNN Model\n",
    "class PNN:\n",
    "    def __init__(self, sigma=1.0, batch_size=1000):\n",
    "        self.sigma = sigma\n",
    "        self.centers = None\n",
    "        self.batch_size = batch_size\n",
    "\n",
    "    def fit(self, X_train, y_train):\n",
    "        if isinstance(X_train, pd.DataFrame):\n",
    "            X_train = X_train.values\n",
    "        else:\n",
    "            X_train = X_train\n",
    "        if isinstance(y_train, pd.Series):\n",
    "            y_train = y_train.values\n",
    "        else:\n",
    "            y_train = y_train\n",
    "\n",
    "        classes = np.unique(y_train)\n",
    "        centers = []\n",
    "        for c in classes:\n",
    "            centers.append(X_train[y_train == c].mean(axis=0))\n",
    "        self.centers = np.vstack(centers)\n",
    "        self.rbf = RBFLayer(self.centers, sigma=self.sigma)\n",
    "\n",
    "    def predict_proba(self, X):\n",
    "        if isinstance(X, pd.DataFrame):\n",
    "            X = X.values\n",
    "        else:\n",
    "            X = X\n",
    "            \n",
    "        n = X.shape[0]\n",
    "        if self.batch_size is None:\n",
    "            raw = self.rbf.compute(X)\n",
    "            return softmax(raw)\n",
    "        # batch processing\n",
    "        probs = []\n",
    "        for start in range(0, n, self.batch_size):\n",
    "            end = min(start + self.batch_size, n)\n",
    "            raw = self.rbf.compute(X[start:end])\n",
    "            probs.append(softmax(raw))\n",
    "        return np.vstack(probs)\n",
    "\n",
    "    def predict(self, X):\n",
    "        # trả về nhãn 0 hoặc 1\n",
    "        probs = self.predict_proba(X)\n",
    "        return np.argmax(probs, axis=1)"
   ]
  },
  {
   "cell_type": "code",
   "execution_count": 9,
   "id": "a136a1c0",
   "metadata": {
    "execution": {
     "iopub.execute_input": "2025-05-06T06:08:43.355781Z",
     "iopub.status.busy": "2025-05-06T06:08:43.355476Z",
     "iopub.status.idle": "2025-05-06T06:08:43.365122Z",
     "shell.execute_reply": "2025-05-06T06:08:43.363946Z"
    },
    "papermill": {
     "duration": 0.017868,
     "end_time": "2025-05-06T06:08:43.366820",
     "exception": false,
     "start_time": "2025-05-06T06:08:43.348952",
     "status": "completed"
    },
    "tags": []
   },
   "outputs": [],
   "source": [
    "def train_and_evaluate_model(name, X_trval, y_trval, X_test, y_test, top_features=None, param_grid=None):\n",
    "    print(f\"\\n=== Dataset: {name} ===\")\n",
    "\n",
    "    if top_features is not None:\n",
    "        X_trval = X_trval[top_features]\n",
    "        X_test = X_test[top_features]\n",
    "\n",
    "    # Tách train/val\n",
    "    X_train, X_val, y_train, y_val = train_test_split(\n",
    "        X_trval, y_trval, test_size=0.2, random_state=42\n",
    "    )\n",
    "\n",
    "    best_sigma = 0.0\n",
    "    best_score = 0.0\n",
    "\n",
    "    print(\"Tuning sigma...\")\n",
    "    for sigma in param_grid['sigma']:\n",
    "        pnn = PNN(sigma=sigma, batch_size=2048)\n",
    "        pnn.fit(X_train, y_train)\n",
    "        y_val_pred = pnn.predict(X_val)\n",
    "        f1 = classification_report(y_val, y_val_pred, output_dict=True, zero_division=0)['macro avg']['f1-score']\n",
    "        print(f\" sigma={sigma:.3f} → val macro F1 = {f1:.4f}\")\n",
    "\n",
    "        if f1 > best_score:\n",
    "            best_score = f1\n",
    "            best_sigma = sigma\n",
    "\n",
    "    print(f\"⇒ Best sigma = {best_sigma}, validation macro F1 = {best_score:.4f}\")\n",
    "\n",
    "    # Huấn luyện lại với toàn bộ train+val\n",
    "    X_full = np.vstack([X_train, X_val])\n",
    "    y_full = np.hstack([y_train, y_val])\n",
    "\n",
    "    pnn_final = PNN(sigma=best_sigma, batch_size=1000)\n",
    "    pnn_final.fit(X_full, y_full)\n",
    "    y_pred_test = pnn_final.predict(X_test)\n",
    "\n",
    "    print(\"Test classification report:\")\n",
    "    print(classification_report(y_test, y_pred_test))\n",
    "    cm = confusion_matrix(y_test, y_pred_test)\n",
    "    print(\"Test confusion matrix:\\n\", cm)\n",
    "\n",
    "    sns.heatmap(cm, annot=True, fmt=\"d\", cmap=\"Blues\", xticklabels=[\"No Rain\", \"Rain\"], yticklabels=[\"No Rain\", \"Rain\"])\n",
    "    plt.title(f\"{name} – sigma={best_sigma}\")\n",
    "    plt.show()"
   ]
  },
  {
   "cell_type": "code",
   "execution_count": 10,
   "id": "418f585b",
   "metadata": {
    "execution": {
     "iopub.execute_input": "2025-05-06T06:08:43.378799Z",
     "iopub.status.busy": "2025-05-06T06:08:43.378508Z",
     "iopub.status.idle": "2025-05-06T06:08:43.383567Z",
     "shell.execute_reply": "2025-05-06T06:08:43.382555Z"
    },
    "papermill": {
     "duration": 0.012948,
     "end_time": "2025-05-06T06:08:43.385251",
     "exception": false,
     "start_time": "2025-05-06T06:08:43.372303",
     "status": "completed"
    },
    "tags": []
   },
   "outputs": [],
   "source": [
    "models_info = [\n",
    "    (\"Tháng 4 + 10\", X_train_scaled, y_train, X_test_scaled, y_test),\n",
    "]"
   ]
  },
  {
   "cell_type": "code",
   "execution_count": 11,
   "id": "fceffd0a",
   "metadata": {
    "execution": {
     "iopub.execute_input": "2025-05-06T06:08:43.397549Z",
     "iopub.status.busy": "2025-05-06T06:08:43.397187Z",
     "iopub.status.idle": "2025-05-06T06:08:57.690971Z",
     "shell.execute_reply": "2025-05-06T06:08:57.690006Z"
    },
    "papermill": {
     "duration": 14.302014,
     "end_time": "2025-05-06T06:08:57.692613",
     "exception": false,
     "start_time": "2025-05-06T06:08:43.390599",
     "status": "completed"
    },
    "tags": []
   },
   "outputs": [
    {
     "name": "stdout",
     "output_type": "stream",
     "text": [
      "\n",
      "=== Dataset: Tháng 4 + 10 (All Features) ===\n",
      "Tuning sigma...\n",
      " sigma=0.010 → val macro F1 = 0.4571\n",
      " sigma=0.012 → val macro F1 = 0.4571\n",
      " sigma=0.013 → val macro F1 = 0.4571\n",
      " sigma=0.015 → val macro F1 = 0.4571\n",
      " sigma=0.018 → val macro F1 = 0.4571\n",
      " sigma=0.020 → val macro F1 = 0.4571\n",
      " sigma=0.023 → val macro F1 = 0.4571\n",
      " sigma=0.027 → val macro F1 = 0.4571\n",
      " sigma=0.031 → val macro F1 = 0.4571\n",
      " sigma=0.036 → val macro F1 = 0.4571\n",
      " sigma=0.041 → val macro F1 = 0.4571\n",
      " sigma=0.047 → val macro F1 = 0.4571\n",
      " sigma=0.054 → val macro F1 = 0.4571\n",
      " sigma=0.063 → val macro F1 = 0.4571\n",
      " sigma=0.072 → val macro F1 = 0.4571\n",
      " sigma=0.083 → val macro F1 = 0.4571\n",
      " sigma=0.095 → val macro F1 = 0.4571\n",
      " sigma=0.110 → val macro F1 = 0.4571\n",
      " sigma=0.126 → val macro F1 = 0.4571\n",
      " sigma=0.146 → val macro F1 = 0.4571\n",
      " sigma=0.168 → val macro F1 = 0.4571\n",
      " sigma=0.193 → val macro F1 = 0.4571\n",
      " sigma=0.222 → val macro F1 = 0.4572\n",
      " sigma=0.256 → val macro F1 = 0.4587\n",
      " sigma=0.295 → val macro F1 = 0.4669\n",
      " sigma=0.339 → val macro F1 = 0.4901\n",
      " sigma=0.391 → val macro F1 = 0.5393\n",
      " sigma=0.450 → val macro F1 = 0.5857\n",
      " sigma=0.518 → val macro F1 = 0.6255\n",
      " sigma=0.596 → val macro F1 = 0.6577\n",
      " sigma=0.687 → val macro F1 = 0.6828\n",
      " sigma=0.791 → val macro F1 = 0.6990\n",
      " sigma=0.910 → val macro F1 = 0.7070\n",
      " sigma=1.048 → val macro F1 = 0.7073\n",
      " sigma=1.207 → val macro F1 = 0.7071\n",
      " sigma=1.389 → val macro F1 = 0.7076\n",
      " sigma=1.600 → val macro F1 = 0.7062\n",
      " sigma=1.842 → val macro F1 = 0.7049\n",
      " sigma=2.121 → val macro F1 = 0.7048\n",
      " sigma=2.442 → val macro F1 = 0.7049\n",
      " sigma=2.812 → val macro F1 = 0.7049\n",
      " sigma=3.237 → val macro F1 = 0.7049\n",
      " sigma=3.728 → val macro F1 = 0.7049\n",
      " sigma=4.292 → val macro F1 = 0.7049\n",
      " sigma=4.942 → val macro F1 = 0.7049\n",
      " sigma=5.690 → val macro F1 = 0.7049\n",
      " sigma=6.551 → val macro F1 = 0.7049\n",
      " sigma=7.543 → val macro F1 = 0.7049\n",
      " sigma=8.685 → val macro F1 = 0.7049\n",
      " sigma=10.000 → val macro F1 = 0.7049\n",
      "⇒ Best sigma = 1.3894954943731375, validation macro F1 = 0.7076\n",
      "Test classification report:\n",
      "              precision    recall  f1-score   support\n",
      "\n",
      "           0       0.89      0.82      0.85     68556\n",
      "           1       0.52      0.65      0.58     20763\n",
      "\n",
      "    accuracy                           0.78     89319\n",
      "   macro avg       0.70      0.73      0.71     89319\n",
      "weighted avg       0.80      0.78      0.79     89319\n",
      "\n",
      "Test confusion matrix:\n",
      " [[56082 12474]\n",
      " [ 7258 13505]]\n"
     ]
    },
    {
     "data": {
      "image/png": "[encoded data removed]",
      "text/plain": [
       "<Figure size 640x480 with 2 Axes>"
      ]
     },
     "metadata": {},
     "output_type": "display_data"
    },
    {
     "name": "stdout",
     "output_type": "stream",
     "text": [
      "\n",
      "=== Dataset: Tháng 4 + 10 (Top Features) ===\n",
      "Tuning sigma...\n",
      " sigma=0.010 → val macro F1 = 0.4571\n",
      " sigma=0.012 → val macro F1 = 0.4571\n",
      " sigma=0.013 → val macro F1 = 0.4571\n",
      " sigma=0.015 → val macro F1 = 0.4571\n",
      " sigma=0.018 → val macro F1 = 0.4571\n",
      " sigma=0.020 → val macro F1 = 0.4571\n",
      " sigma=0.023 → val macro F1 = 0.4571\n",
      " sigma=0.027 → val macro F1 = 0.4571\n",
      " sigma=0.031 → val macro F1 = 0.4571\n",
      " sigma=0.036 → val macro F1 = 0.4571\n",
      " sigma=0.041 → val macro F1 = 0.4571\n",
      " sigma=0.047 → val macro F1 = 0.4571\n",
      " sigma=0.054 → val macro F1 = 0.4571\n",
      " sigma=0.063 → val macro F1 = 0.4571\n",
      " sigma=0.072 → val macro F1 = 0.4571\n",
      " sigma=0.083 → val macro F1 = 0.4571\n",
      " sigma=0.095 → val macro F1 = 0.4571\n",
      " sigma=0.110 → val macro F1 = 0.4571\n",
      " sigma=0.126 → val macro F1 = 0.4571\n",
      " sigma=0.146 → val macro F1 = 0.4571\n",
      " sigma=0.168 → val macro F1 = 0.4572\n",
      " sigma=0.193 → val macro F1 = 0.4582\n",
      " sigma=0.222 → val macro F1 = 0.4607\n",
      " sigma=0.256 → val macro F1 = 0.4743\n",
      " sigma=0.295 → val macro F1 = 0.5010\n",
      " sigma=0.339 → val macro F1 = 0.5505\n",
      " sigma=0.391 → val macro F1 = 0.6051\n",
      " sigma=0.450 → val macro F1 = 0.6467\n",
      " sigma=0.518 → val macro F1 = 0.6788\n",
      " sigma=0.596 → val macro F1 = 0.7054\n",
      " sigma=0.687 → val macro F1 = 0.7186\n",
      " sigma=0.791 → val macro F1 = 0.7226\n",
      " sigma=0.910 → val macro F1 = 0.7245\n",
      " sigma=1.048 → val macro F1 = 0.7237\n",
      " sigma=1.207 → val macro F1 = 0.7240\n",
      " sigma=1.389 → val macro F1 = 0.7244\n",
      " sigma=1.600 → val macro F1 = 0.7244\n",
      " sigma=1.842 → val macro F1 = 0.7244\n",
      " sigma=2.121 → val macro F1 = 0.7244\n",
      " sigma=2.442 → val macro F1 = 0.7244\n",
      " sigma=2.812 → val macro F1 = 0.7244\n",
      " sigma=3.237 → val macro F1 = 0.7244\n",
      " sigma=3.728 → val macro F1 = 0.7244\n",
      " sigma=4.292 → val macro F1 = 0.7244\n",
      " sigma=4.942 → val macro F1 = 0.7244\n",
      " sigma=5.690 → val macro F1 = 0.7244\n",
      " sigma=6.551 → val macro F1 = 0.7244\n",
      " sigma=7.543 → val macro F1 = 0.7244\n",
      " sigma=8.685 → val macro F1 = 0.7244\n",
      " sigma=10.000 → val macro F1 = 0.7244\n",
      "⇒ Best sigma = 0.9102981779915218, validation macro F1 = 0.7245\n",
      "Test classification report:\n",
      "              precision    recall  f1-score   support\n",
      "\n",
      "           0       0.92      0.77      0.84     68556\n",
      "           1       0.51      0.79      0.62     20763\n",
      "\n",
      "    accuracy                           0.78     89319\n",
      "   macro avg       0.72      0.78      0.73     89319\n",
      "weighted avg       0.83      0.78      0.79     89319\n",
      "\n",
      "Test confusion matrix:\n",
      " [[52960 15596]\n",
      " [ 4360 16403]]\n"
     ]
    },
    {
     "data": {
      "image/png": "[encoded data removed]",
      "text/plain": [
       "<Figure size 640x480 with 2 Axes>"
      ]
     },
     "metadata": {},
     "output_type": "display_data"
    }
   ],
   "source": [
    "for name, X_trval, y_trval, X_test, y_test in models_info:\n",
    "    train_and_evaluate_model(f\"{name} (All Features)\", X_trval, y_trval, X_test, y_test, param_grid=param_grid)\n",
    "    train_and_evaluate_model(f\"{name} (Top Features)\", X_trval, y_trval, X_test, y_test, top_features=top_features, param_grid=param_grid)\n"
   ]
  },
  {
   "cell_type": "markdown",
   "id": "5d31c70a",
   "metadata": {
    "papermill": {
     "duration": 0.009377,
     "end_time": "2025-05-06T06:08:57.712728",
     "exception": false,
     "start_time": "2025-05-06T06:08:57.703351",
     "status": "completed"
    },
    "tags": []
   },
   "source": [
    "# SMOTE"
   ]
  },
  {
   "cell_type": "code",
   "execution_count": 12,
   "id": "0bbaddba",
   "metadata": {
    "execution": {
     "iopub.execute_input": "2025-05-06T06:08:57.733606Z",
     "iopub.status.busy": "2025-05-06T06:08:57.733275Z",
     "iopub.status.idle": "2025-05-06T06:08:57.764109Z",
     "shell.execute_reply": "2025-05-06T06:08:57.763209Z"
    },
    "papermill": {
     "duration": 0.043215,
     "end_time": "2025-05-06T06:08:57.765948",
     "exception": false,
     "start_time": "2025-05-06T06:08:57.722733",
     "status": "completed"
    },
    "tags": []
   },
   "outputs": [],
   "source": [
    "X_train = train_df.drop(columns=['AWS', 'datetime', 'row','col'])\n",
    "y_train = train_df['AWS']\n",
    "\n",
    "X_test = test_df.drop(columns=['AWS', 'datetime', 'row','col'])\n",
    "y_test = test_df['AWS']"
   ]
  },
  {
   "cell_type": "code",
   "execution_count": 13,
   "id": "d0b0d6e1",
   "metadata": {
    "execution": {
     "iopub.execute_input": "2025-05-06T06:08:57.786900Z",
     "iopub.status.busy": "2025-05-06T06:08:57.786544Z",
     "iopub.status.idle": "2025-05-06T06:09:03.948542Z",
     "shell.execute_reply": "2025-05-06T06:09:03.947593Z"
    },
    "papermill": {
     "duration": 6.174456,
     "end_time": "2025-05-06T06:09:03.950262",
     "exception": false,
     "start_time": "2025-05-06T06:08:57.775806",
     "status": "completed"
    },
    "tags": []
   },
   "outputs": [],
   "source": [
    "sm = SMOTE()\n",
    "\n",
    "X_sm, y_sm = sm.fit_resample(X_train, y_train)\n",
    "X_sm.shape, y_sm.shape\n",
    "\n",
    "scaler = StandardScaler()\n",
    "X_train_scaled = scaler.fit_transform(X_sm)\n",
    "X_test_scaled = scaler.transform(X_test)\n",
    "\n",
    "X_train_scaled = pd.DataFrame(X_train_scaled, columns=X_train.columns)\n",
    "X_test_scaled = pd.DataFrame(X_test_scaled, columns=X_test.columns)"
   ]
  },
  {
   "cell_type": "code",
   "execution_count": 14,
   "id": "fce8e9e2",
   "metadata": {
    "execution": {
     "iopub.execute_input": "2025-05-06T06:09:03.970774Z",
     "iopub.status.busy": "2025-05-06T06:09:03.970080Z",
     "iopub.status.idle": "2025-05-06T06:09:03.975013Z",
     "shell.execute_reply": "2025-05-06T06:09:03.974288Z"
    },
    "papermill": {
     "duration": 0.016811,
     "end_time": "2025-05-06T06:09:03.976575",
     "exception": false,
     "start_time": "2025-05-06T06:09:03.959764",
     "status": "completed"
    },
    "tags": []
   },
   "outputs": [],
   "source": [
    "models_info = [\n",
    "    (\"Tháng 4 + 10\", X_train_scaled, y_sm, X_test_scaled, y_test),\n",
    "]"
   ]
  },
  {
   "cell_type": "code",
   "execution_count": 15,
   "id": "5aec0c97",
   "metadata": {
    "execution": {
     "iopub.execute_input": "2025-05-06T06:09:03.997979Z",
     "iopub.status.busy": "2025-05-06T06:09:03.997665Z",
     "iopub.status.idle": "2025-05-06T06:09:29.450407Z",
     "shell.execute_reply": "2025-05-06T06:09:29.449302Z"
    },
    "papermill": {
     "duration": 25.465562,
     "end_time": "2025-05-06T06:09:29.452151",
     "exception": false,
     "start_time": "2025-05-06T06:09:03.986589",
     "status": "completed"
    },
    "tags": []
   },
   "outputs": [
    {
     "name": "stdout",
     "output_type": "stream",
     "text": [
      "\n",
      "=== Dataset: Demo Dataset (All Features) ===\n",
      "Tuning sigma...\n",
      " sigma=0.010 → val macro F1 = 0.3332\n",
      " sigma=0.012 → val macro F1 = 0.3332\n",
      " sigma=0.013 → val macro F1 = 0.3332\n",
      " sigma=0.015 → val macro F1 = 0.3332\n",
      " sigma=0.018 → val macro F1 = 0.3332\n",
      " sigma=0.020 → val macro F1 = 0.3332\n",
      " sigma=0.023 → val macro F1 = 0.3332\n",
      " sigma=0.027 → val macro F1 = 0.3332\n",
      " sigma=0.031 → val macro F1 = 0.3332\n",
      " sigma=0.036 → val macro F1 = 0.3332\n",
      " sigma=0.041 → val macro F1 = 0.3332\n",
      " sigma=0.047 → val macro F1 = 0.3332\n",
      " sigma=0.054 → val macro F1 = 0.3332\n",
      " sigma=0.063 → val macro F1 = 0.3332\n",
      " sigma=0.072 → val macro F1 = 0.3332\n",
      " sigma=0.083 → val macro F1 = 0.3332\n",
      " sigma=0.095 → val macro F1 = 0.3332\n",
      " sigma=0.110 → val macro F1 = 0.3332\n",
      " sigma=0.126 → val macro F1 = 0.3332\n",
      " sigma=0.146 → val macro F1 = 0.3333\n",
      " sigma=0.168 → val macro F1 = 0.3334\n",
      " sigma=0.193 → val macro F1 = 0.3344\n",
      " sigma=0.222 → val macro F1 = 0.3377\n",
      " sigma=0.256 → val macro F1 = 0.3480\n",
      " sigma=0.295 → val macro F1 = 0.3758\n",
      " sigma=0.339 → val macro F1 = 0.4372\n",
      " sigma=0.391 → val macro F1 = 0.5253\n",
      " sigma=0.450 → val macro F1 = 0.6104\n",
      " sigma=0.518 → val macro F1 = 0.6787\n",
      " sigma=0.596 → val macro F1 = 0.7270\n",
      " sigma=0.687 → val macro F1 = 0.7626\n",
      " sigma=0.791 → val macro F1 = 0.7789\n",
      " sigma=0.910 → val macro F1 = 0.7855\n",
      " sigma=1.048 → val macro F1 = 0.7855\n",
      " sigma=1.207 → val macro F1 = 0.7867\n",
      " sigma=1.389 → val macro F1 = 0.7875\n",
      " sigma=1.600 → val macro F1 = 0.7863\n",
      " sigma=1.842 → val macro F1 = 0.7861\n",
      " sigma=2.121 → val macro F1 = 0.7862\n",
      " sigma=2.442 → val macro F1 = 0.7862\n",
      " sigma=2.812 → val macro F1 = 0.7862\n",
      " sigma=3.237 → val macro F1 = 0.7862\n",
      " sigma=3.728 → val macro F1 = 0.7862\n",
      " sigma=4.292 → val macro F1 = 0.7862\n",
      " sigma=4.942 → val macro F1 = 0.7862\n",
      " sigma=5.690 → val macro F1 = 0.7862\n",
      " sigma=6.551 → val macro F1 = 0.7862\n",
      " sigma=7.543 → val macro F1 = 0.7862\n",
      " sigma=8.685 → val macro F1 = 0.7862\n",
      " sigma=10.000 → val macro F1 = 0.7862\n",
      "⇒ Best sigma = 1.3894954943731375, validation macro F1 = 0.7875\n",
      "Test classification report:\n",
      "              precision    recall  f1-score   support\n",
      "\n",
      "           0       0.89      0.81      0.85     68556\n",
      "           1       0.52      0.68      0.59     20763\n",
      "\n",
      "    accuracy                           0.78     89319\n",
      "   macro avg       0.71      0.75      0.72     89319\n",
      "weighted avg       0.81      0.78      0.79     89319\n",
      "\n",
      "Test confusion matrix:\n",
      " [[55596 12960]\n",
      " [ 6631 14132]]\n"
     ]
    },
    {
     "data": {
      "image/png": "[encoded data removed]",
      "text/plain": [
       "<Figure size 640x480 with 2 Axes>"
      ]
     },
     "metadata": {},
     "output_type": "display_data"
    },
    {
     "name": "stdout",
     "output_type": "stream",
     "text": [
      "\n",
      "=== Dataset: Demo Dataset (Top Features) ===\n",
      "Tuning sigma...\n",
      " sigma=0.010 → val macro F1 = 0.3332\n",
      " sigma=0.012 → val macro F1 = 0.3332\n",
      " sigma=0.013 → val macro F1 = 0.3332\n",
      " sigma=0.015 → val macro F1 = 0.3332\n",
      " sigma=0.018 → val macro F1 = 0.3332\n",
      " sigma=0.020 → val macro F1 = 0.3332\n",
      " sigma=0.023 → val macro F1 = 0.3332\n",
      " sigma=0.027 → val macro F1 = 0.3332\n",
      " sigma=0.031 → val macro F1 = 0.3332\n",
      " sigma=0.036 → val macro F1 = 0.3332\n",
      " sigma=0.041 → val macro F1 = 0.3332\n",
      " sigma=0.047 → val macro F1 = 0.3332\n",
      " sigma=0.054 → val macro F1 = 0.3332\n",
      " sigma=0.063 → val macro F1 = 0.3332\n",
      " sigma=0.072 → val macro F1 = 0.3332\n",
      " sigma=0.083 → val macro F1 = 0.3332\n",
      " sigma=0.095 → val macro F1 = 0.3333\n",
      " sigma=0.110 → val macro F1 = 0.3334\n",
      " sigma=0.126 → val macro F1 = 0.3337\n",
      " sigma=0.146 → val macro F1 = 0.3343\n",
      " sigma=0.168 → val macro F1 = 0.3375\n",
      " sigma=0.193 → val macro F1 = 0.3459\n",
      " sigma=0.222 → val macro F1 = 0.3654\n",
      " sigma=0.256 → val macro F1 = 0.4121\n",
      " sigma=0.295 → val macro F1 = 0.4828\n",
      " sigma=0.339 → val macro F1 = 0.5745\n",
      " sigma=0.391 → val macro F1 = 0.6638\n",
      " sigma=0.450 → val macro F1 = 0.7239\n",
      " sigma=0.518 → val macro F1 = 0.7663\n",
      " sigma=0.596 → val macro F1 = 0.7906\n",
      " sigma=0.687 → val macro F1 = 0.8024\n",
      " sigma=0.791 → val macro F1 = 0.8046\n",
      " sigma=0.910 → val macro F1 = 0.8050\n",
      " sigma=1.048 → val macro F1 = 0.8046\n",
      " sigma=1.207 → val macro F1 = 0.8048\n",
      " sigma=1.389 → val macro F1 = 0.8048\n",
      " sigma=1.600 → val macro F1 = 0.8048\n",
      " sigma=1.842 → val macro F1 = 0.8048\n",
      " sigma=2.121 → val macro F1 = 0.8048\n",
      " sigma=2.442 → val macro F1 = 0.8048\n",
      " sigma=2.812 → val macro F1 = 0.8048\n",
      " sigma=3.237 → val macro F1 = 0.8048\n",
      " sigma=3.728 → val macro F1 = 0.8048\n",
      " sigma=4.292 → val macro F1 = 0.8048\n",
      " sigma=4.942 → val macro F1 = 0.8048\n",
      " sigma=5.690 → val macro F1 = 0.8048\n",
      " sigma=6.551 → val macro F1 = 0.8048\n",
      " sigma=7.543 → val macro F1 = 0.8048\n",
      " sigma=8.685 → val macro F1 = 0.8048\n",
      " sigma=10.000 → val macro F1 = 0.8048\n",
      "⇒ Best sigma = 0.9102981779915218, validation macro F1 = 0.8050\n",
      "Test classification report:\n",
      "              precision    recall  f1-score   support\n",
      "\n",
      "           0       0.93      0.75      0.83     68556\n",
      "           1       0.50      0.83      0.63     20763\n",
      "\n",
      "    accuracy                           0.77     89319\n",
      "   macro avg       0.72      0.79      0.73     89319\n",
      "weighted avg       0.83      0.77      0.79     89319\n",
      "\n",
      "Test confusion matrix:\n",
      " [[51650 16906]\n",
      " [ 3594 17169]]\n"
     ]
    },
    {
     "data": {
      "image/png": "[encoded data removed]",
      "text/plain": [
       "<Figure size 640x480 with 2 Axes>"
      ]
     },
     "metadata": {},
     "output_type": "display_data"
    }
   ],
   "source": [
    "for name, X_trval, y_trval, X_test, y_test in models_info:\n",
    "    train_and_evaluate_model(\"Demo Dataset (All Features)\", X_trval, y_trval, X_test, y_test, param_grid=param_grid)\n",
    "    train_and_evaluate_model(\"Demo Dataset (Top Features)\", X_trval, y_trval, X_test, y_test, top_features=top_features, param_grid=param_grid)"
   ]
  },
  {
   "cell_type": "markdown",
   "id": "af443bd5",
   "metadata": {
    "papermill": {
     "duration": 0.015742,
     "end_time": "2025-05-06T06:09:29.485303",
     "exception": false,
     "start_time": "2025-05-06T06:09:29.469561",
     "status": "completed"
    },
    "tags": []
   },
   "source": [
    "# SMOTE ENN"
   ]
  },
  {
   "cell_type": "code",
   "execution_count": 16,
   "id": "337bf3a1",
   "metadata": {
    "execution": {
     "iopub.execute_input": "2025-05-06T06:09:29.518724Z",
     "iopub.status.busy": "2025-05-06T06:09:29.518352Z",
     "iopub.status.idle": "2025-05-06T06:09:29.552046Z",
     "shell.execute_reply": "2025-05-06T06:09:29.551118Z"
    },
    "papermill": {
     "duration": 0.052473,
     "end_time": "2025-05-06T06:09:29.553919",
     "exception": false,
     "start_time": "2025-05-06T06:09:29.501446",
     "status": "completed"
    },
    "tags": []
   },
   "outputs": [],
   "source": [
    "X_train = train_df.drop(columns=['AWS', 'datetime', 'row','col'])\n",
    "y_train = train_df['AWS']\n",
    "\n",
    "X_test = test_df.drop(columns=['AWS', 'datetime', 'row','col'])\n",
    "y_test = test_df['AWS']"
   ]
  },
  {
   "cell_type": "code",
   "execution_count": 17,
   "id": "3056fdda",
   "metadata": {
    "execution": {
     "iopub.execute_input": "2025-05-06T06:09:29.587873Z",
     "iopub.status.busy": "2025-05-06T06:09:29.587544Z",
     "iopub.status.idle": "2025-05-06T06:19:45.884034Z",
     "shell.execute_reply": "2025-05-06T06:19:45.882944Z"
    },
    "papermill": {
     "duration": 616.315987,
     "end_time": "2025-05-06T06:19:45.885906",
     "exception": false,
     "start_time": "2025-05-06T06:09:29.569919",
     "status": "completed"
    },
    "tags": []
   },
   "outputs": [],
   "source": [
    "smenn = SMOTEENN()\n",
    "\n",
    "X_smenn, y_smenn = smenn.fit_resample(X_train, y_train)\n",
    "X_smenn.shape, y_sm.shape\n",
    "\n",
    "scaler = StandardScaler()\n",
    "X_train_scaled = scaler.fit_transform(X_smenn)\n",
    "X_test_scaled = scaler.transform(X_test)\n",
    "\n",
    "X_train_scaled = pd.DataFrame(X_train_scaled, columns=X_train.columns)\n",
    "X_test_scaled = pd.DataFrame(X_test_scaled, columns=X_test.columns)"
   ]
  },
  {
   "cell_type": "code",
   "execution_count": 18,
   "id": "c472ee95",
   "metadata": {
    "execution": {
     "iopub.execute_input": "2025-05-06T06:19:45.920047Z",
     "iopub.status.busy": "2025-05-06T06:19:45.919716Z",
     "iopub.status.idle": "2025-05-06T06:19:45.924617Z",
     "shell.execute_reply": "2025-05-06T06:19:45.923662Z"
    },
    "papermill": {
     "duration": 0.023817,
     "end_time": "2025-05-06T06:19:45.926371",
     "exception": false,
     "start_time": "2025-05-06T06:19:45.902554",
     "status": "completed"
    },
    "tags": []
   },
   "outputs": [],
   "source": [
    "models_info = [\n",
    "    (\"Tháng 4 + 10\", X_train_scaled, y_smenn, X_test_scaled, y_test),\n",
    "]"
   ]
  },
  {
   "cell_type": "code",
   "execution_count": 19,
   "id": "c5911cda",
   "metadata": {
    "execution": {
     "iopub.execute_input": "2025-05-06T06:19:45.960258Z",
     "iopub.status.busy": "2025-05-06T06:19:45.959867Z",
     "iopub.status.idle": "2025-05-06T06:20:05.917444Z",
     "shell.execute_reply": "2025-05-06T06:20:05.916308Z"
    },
    "papermill": {
     "duration": 19.976513,
     "end_time": "2025-05-06T06:20:05.919133",
     "exception": false,
     "start_time": "2025-05-06T06:19:45.942620",
     "status": "completed"
    },
    "tags": []
   },
   "outputs": [
    {
     "name": "stdout",
     "output_type": "stream",
     "text": [
      "\n",
      "=== Dataset: Demo Dataset (All Features) ===\n",
      "Tuning sigma...\n",
      " sigma=0.010 → val macro F1 = 0.3320\n",
      " sigma=0.012 → val macro F1 = 0.3320\n",
      " sigma=0.013 → val macro F1 = 0.3320\n",
      " sigma=0.015 → val macro F1 = 0.3320\n",
      " sigma=0.018 → val macro F1 = 0.3320\n",
      " sigma=0.020 → val macro F1 = 0.3320\n",
      " sigma=0.023 → val macro F1 = 0.3320\n",
      " sigma=0.027 → val macro F1 = 0.3320\n",
      " sigma=0.031 → val macro F1 = 0.3320\n",
      " sigma=0.036 → val macro F1 = 0.3320\n",
      " sigma=0.041 → val macro F1 = 0.3320\n",
      " sigma=0.047 → val macro F1 = 0.3320\n",
      " sigma=0.054 → val macro F1 = 0.3320\n",
      " sigma=0.063 → val macro F1 = 0.3320\n",
      " sigma=0.072 → val macro F1 = 0.3320\n",
      " sigma=0.083 → val macro F1 = 0.3320\n",
      " sigma=0.095 → val macro F1 = 0.3320\n",
      " sigma=0.110 → val macro F1 = 0.3320\n",
      " sigma=0.126 → val macro F1 = 0.3320\n",
      " sigma=0.146 → val macro F1 = 0.3320\n",
      " sigma=0.168 → val macro F1 = 0.3323\n",
      " sigma=0.193 → val macro F1 = 0.3335\n",
      " sigma=0.222 → val macro F1 = 0.3380\n",
      " sigma=0.256 → val macro F1 = 0.3511\n",
      " sigma=0.295 → val macro F1 = 0.3862\n",
      " sigma=0.339 → val macro F1 = 0.4593\n",
      " sigma=0.391 → val macro F1 = 0.5578\n",
      " sigma=0.450 → val macro F1 = 0.6502\n",
      " sigma=0.518 → val macro F1 = 0.7216\n",
      " sigma=0.596 → val macro F1 = 0.7768\n",
      " sigma=0.687 → val macro F1 = 0.8114\n",
      " sigma=0.791 → val macro F1 = 0.8258\n",
      " sigma=0.910 → val macro F1 = 0.8296\n",
      " sigma=1.048 → val macro F1 = 0.8294\n",
      " sigma=1.207 → val macro F1 = 0.8308\n",
      " sigma=1.389 → val macro F1 = 0.8315\n",
      " sigma=1.600 → val macro F1 = 0.8303\n",
      " sigma=1.842 → val macro F1 = 0.8303\n",
      " sigma=2.121 → val macro F1 = 0.8304\n",
      " sigma=2.442 → val macro F1 = 0.8304\n",
      " sigma=2.812 → val macro F1 = 0.8304\n",
      " sigma=3.237 → val macro F1 = 0.8304\n",
      " sigma=3.728 → val macro F1 = 0.8304\n",
      " sigma=4.292 → val macro F1 = 0.8304\n",
      " sigma=4.942 → val macro F1 = 0.8304\n",
      " sigma=5.690 → val macro F1 = 0.8304\n",
      " sigma=6.551 → val macro F1 = 0.8304\n",
      " sigma=7.543 → val macro F1 = 0.8304\n",
      " sigma=8.685 → val macro F1 = 0.8304\n",
      " sigma=10.000 → val macro F1 = 0.8304\n",
      "⇒ Best sigma = 1.3894954943731375, validation macro F1 = 0.8315\n",
      "Test classification report:\n",
      "              precision    recall  f1-score   support\n",
      "\n",
      "           0       0.89      0.81      0.85     68556\n",
      "           1       0.52      0.67      0.59     20763\n",
      "\n",
      "    accuracy                           0.78     89319\n",
      "   macro avg       0.71      0.74      0.72     89319\n",
      "weighted avg       0.81      0.78      0.79     89319\n",
      "\n",
      "Test confusion matrix:\n",
      " [[55783 12773]\n",
      " [ 6755 14008]]\n"
     ]
    },
    {
     "data": {
      "image/png": "[encoded data removed]",
      "text/plain": [
       "<Figure size 640x480 with 2 Axes>"
      ]
     },
     "metadata": {},
     "output_type": "display_data"
    },
    {
     "name": "stdout",
     "output_type": "stream",
     "text": [
      "\n",
      "=== Dataset: Demo Dataset (Top Features) ===\n",
      "Tuning sigma...\n",
      " sigma=0.010 → val macro F1 = 0.3320\n",
      " sigma=0.012 → val macro F1 = 0.3320\n",
      " sigma=0.013 → val macro F1 = 0.3320\n",
      " sigma=0.015 → val macro F1 = 0.3320\n",
      " sigma=0.018 → val macro F1 = 0.3320\n",
      " sigma=0.020 → val macro F1 = 0.3320\n",
      " sigma=0.023 → val macro F1 = 0.3320\n",
      " sigma=0.027 → val macro F1 = 0.3320\n",
      " sigma=0.031 → val macro F1 = 0.3320\n",
      " sigma=0.036 → val macro F1 = 0.3320\n",
      " sigma=0.041 → val macro F1 = 0.3320\n",
      " sigma=0.047 → val macro F1 = 0.3320\n",
      " sigma=0.054 → val macro F1 = 0.3320\n",
      " sigma=0.063 → val macro F1 = 0.3320\n",
      " sigma=0.072 → val macro F1 = 0.3320\n",
      " sigma=0.083 → val macro F1 = 0.3320\n",
      " sigma=0.095 → val macro F1 = 0.3320\n",
      " sigma=0.110 → val macro F1 = 0.3321\n",
      " sigma=0.126 → val macro F1 = 0.3323\n",
      " sigma=0.146 → val macro F1 = 0.3333\n",
      " sigma=0.168 → val macro F1 = 0.3369\n",
      " sigma=0.193 → val macro F1 = 0.3466\n",
      " sigma=0.222 → val macro F1 = 0.3708\n",
      " sigma=0.256 → val macro F1 = 0.4234\n",
      " sigma=0.295 → val macro F1 = 0.5091\n",
      " sigma=0.339 → val macro F1 = 0.6111\n",
      " sigma=0.391 → val macro F1 = 0.7107\n",
      " sigma=0.450 → val macro F1 = 0.7758\n",
      " sigma=0.518 → val macro F1 = 0.8201\n",
      " sigma=0.596 → val macro F1 = 0.8411\n",
      " sigma=0.687 → val macro F1 = 0.8492\n",
      " sigma=0.791 → val macro F1 = 0.8517\n",
      " sigma=0.910 → val macro F1 = 0.8519\n",
      " sigma=1.048 → val macro F1 = 0.8516\n",
      " sigma=1.207 → val macro F1 = 0.8517\n",
      " sigma=1.389 → val macro F1 = 0.8517\n",
      " sigma=1.600 → val macro F1 = 0.8517\n",
      " sigma=1.842 → val macro F1 = 0.8517\n",
      " sigma=2.121 → val macro F1 = 0.8517\n",
      " sigma=2.442 → val macro F1 = 0.8517\n",
      " sigma=2.812 → val macro F1 = 0.8517\n",
      " sigma=3.237 → val macro F1 = 0.8517\n",
      " sigma=3.728 → val macro F1 = 0.8517\n",
      " sigma=4.292 → val macro F1 = 0.8517\n",
      " sigma=4.942 → val macro F1 = 0.8517\n",
      " sigma=5.690 → val macro F1 = 0.8517\n",
      " sigma=6.551 → val macro F1 = 0.8517\n",
      " sigma=7.543 → val macro F1 = 0.8517\n",
      " sigma=8.685 → val macro F1 = 0.8517\n",
      " sigma=10.000 → val macro F1 = 0.8517\n",
      "⇒ Best sigma = 0.9102981779915218, validation macro F1 = 0.8519\n",
      "Test classification report:\n",
      "              precision    recall  f1-score   support\n",
      "\n",
      "           0       0.93      0.76      0.84     68556\n",
      "           1       0.51      0.82      0.63     20763\n",
      "\n",
      "    accuracy                           0.77     89319\n",
      "   macro avg       0.72      0.79      0.73     89319\n",
      "weighted avg       0.84      0.77      0.79     89319\n",
      "\n",
      "Test confusion matrix:\n",
      " [[52061 16495]\n",
      " [ 3672 17091]]\n"
     ]
    },
    {
     "data": {
      "image/png": "[encoded data removed]",
      "text/plain": [
       "<Figure size 640x480 with 2 Axes>"
      ]
     },
     "metadata": {},
     "output_type": "display_data"
    }
   ],
   "source": [
    "for name, X_trval, y_trval, X_test, y_test in models_info:\n",
    "    train_and_evaluate_model(\"Demo Dataset (All Features)\", X_trval, y_trval, X_test, y_test, param_grid=param_grid)\n",
    "    train_and_evaluate_model(\"Demo Dataset (Top Features)\", X_trval, y_trval, X_test, y_test, top_features=top_features, param_grid=param_grid) "
   ]
  }
 ],
 "metadata": {
  "kaggle": {
   "accelerator": "none",
   "dataSources": [
    {
     "datasetId": 7334326,
     "sourceId": 11685547,
     "sourceType": "datasetVersion"
    },
    {
     "datasetId": 7334337,
     "sourceId": 11685564,
     "sourceType": "datasetVersion"
    }
   ],
   "dockerImageVersionId": 31012,
   "isGpuEnabled": false,
   "isInternetEnabled": true,
   "language": "python",
   "sourceType": "notebook"
  },
  "kernelspec": {
   "display_name": "Python 3",
   "language": "python",
   "name": "python3"
  },
  "language_info": {
   "codemirror_mode": {
    "name": "ipython",
    "version": 3
   },
   "file_extension": ".py",
   "mimetype": "text/x-python",
   "name": "python",
   "nbconvert_exporter": "python",
   "pygments_lexer": "ipython3",
   "version": "3.11.11"
  },
  "papermill": {
   "default_parameters": {},
   "duration": 712.640939,
   "end_time": "2025-05-06T06:20:09.485898",
   "environment_variables": {},
   "exception": null,
   "input_path": "__notebook__.ipynb",
   "output_path": "__notebook__.ipynb",
   "parameters": {},
   "start_time": "2025-05-06T06:08:16.844959",
   "version": "2.6.0"
  }
 },
 "nbformat": 4,
 "nbformat_minor": 5
}
