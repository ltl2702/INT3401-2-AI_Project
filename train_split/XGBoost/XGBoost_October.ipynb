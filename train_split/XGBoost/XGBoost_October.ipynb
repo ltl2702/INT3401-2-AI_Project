{
 "cells": [
  {
   "cell_type": "code",
   "execution_count": 1,
   "id": "beb7298c",
   "metadata": {
    "_cell_guid": "b1076dfc-b9ad-4769-8c92-a6c4dae69d19",
    "_uuid": "8f2839f25d086af736a60e9eeb907d3b93b6e0e5",
    "execution": {
     "iopub.execute_input": "2025-05-04T04:18:43.736427Z",
     "iopub.status.busy": "2025-05-04T04:18:43.736052Z",
     "iopub.status.idle": "2025-05-04T04:18:58.605648Z",
     "shell.execute_reply": "2025-05-04T04:18:58.604285Z"
    },
    "papermill": {
     "duration": 14.883399,
     "end_time": "2025-05-04T04:18:58.608193",
     "exception": false,
     "start_time": "2025-05-04T04:18:43.724794",
     "status": "completed"
    },
    "tags": []
   },
   "outputs": [
    {
     "name": "stdout",
     "output_type": "stream",
     "text": [
      "Requirement already satisfied: xgboost in /usr/local/lib/python3.11/dist-packages (2.0.3)\r\n",
      "Requirement already satisfied: numpy in /usr/local/lib/python3.11/dist-packages (from xgboost) (1.26.4)\r\n",
      "Requirement already satisfied: scipy in /usr/local/lib/python3.11/dist-packages (from xgboost) (1.15.2)\r\n",
      "Requirement already satisfied: mkl_fft in /usr/local/lib/python3.11/dist-packages (from numpy->xgboost) (1.3.8)\r\n",
      "Requirement already satisfied: mkl_random in /usr/local/lib/python3.11/dist-packages (from numpy->xgboost) (1.2.4)\r\n",
      "Requirement already satisfied: mkl_umath in /usr/local/lib/python3.11/dist-packages (from numpy->xgboost) (0.1.1)\r\n",
      "Requirement already satisfied: mkl in /usr/local/lib/python3.11/dist-packages (from numpy->xgboost) (2025.1.0)\r\n",
      "Requirement already satisfied: tbb4py in /usr/local/lib/python3.11/dist-packages (from numpy->xgboost) (2022.1.0)\r\n",
      "Requirement already satisfied: mkl-service in /usr/local/lib/python3.11/dist-packages (from numpy->xgboost) (2.4.1)\r\n",
      "Requirement already satisfied: intel-openmp<2026,>=2024 in /usr/local/lib/python3.11/dist-packages (from mkl->numpy->xgboost) (2024.2.0)\r\n",
      "Requirement already satisfied: tbb==2022.* in /usr/local/lib/python3.11/dist-packages (from mkl->numpy->xgboost) (2022.1.0)\r\n",
      "Requirement already satisfied: tcmlib==1.* in /usr/local/lib/python3.11/dist-packages (from tbb==2022.*->mkl->numpy->xgboost) (1.2.0)\r\n",
      "Requirement already satisfied: intel-cmplr-lib-rt in /usr/local/lib/python3.11/dist-packages (from mkl_umath->numpy->xgboost) (2024.2.0)\r\n",
      "Requirement already satisfied: intel-cmplr-lib-ur==2024.2.0 in /usr/local/lib/python3.11/dist-packages (from intel-openmp<2026,>=2024->mkl->numpy->xgboost) (2024.2.0)\r\n",
      "Requirement already satisfied: scikit-learn==1.2.2 in /usr/local/lib/python3.11/dist-packages (1.2.2)\r\n",
      "Collecting imbalanced-learn==0.10.1\r\n",
      "  Downloading imbalanced_learn-0.10.1-py3-none-any.whl.metadata (8.2 kB)\r\n",
      "Requirement already satisfied: numpy>=1.17.3 in /usr/local/lib/python3.11/dist-packages (from scikit-learn==1.2.2) (1.26.4)\r\n",
      "Requirement already satisfied: scipy>=1.3.2 in /usr/local/lib/python3.11/dist-packages (from scikit-learn==1.2.2) (1.15.2)\r\n",
      "Requirement already satisfied: joblib>=1.1.1 in /usr/local/lib/python3.11/dist-packages (from scikit-learn==1.2.2) (1.4.2)\r\n",
      "Requirement already satisfied: threadpoolctl>=2.0.0 in /usr/local/lib/python3.11/dist-packages (from scikit-learn==1.2.2) (3.6.0)\r\n",
      "Requirement already satisfied: mkl_fft in /usr/local/lib/python3.11/dist-packages (from numpy>=1.17.3->scikit-learn==1.2.2) (1.3.8)\r\n",
      "Requirement already satisfied: mkl_random in /usr/local/lib/python3.11/dist-packages (from numpy>=1.17.3->scikit-learn==1.2.2) (1.2.4)\r\n",
      "Requirement already satisfied: mkl_umath in /usr/local/lib/python3.11/dist-packages (from numpy>=1.17.3->scikit-learn==1.2.2) (0.1.1)\r\n",
      "Requirement already satisfied: mkl in /usr/local/lib/python3.11/dist-packages (from numpy>=1.17.3->scikit-learn==1.2.2) (2025.1.0)\r\n",
      "Requirement already satisfied: tbb4py in /usr/local/lib/python3.11/dist-packages (from numpy>=1.17.3->scikit-learn==1.2.2) (2022.1.0)\r\n",
      "Requirement already satisfied: mkl-service in /usr/local/lib/python3.11/dist-packages (from numpy>=1.17.3->scikit-learn==1.2.2) (2.4.1)\r\n",
      "Requirement already satisfied: intel-openmp<2026,>=2024 in /usr/local/lib/python3.11/dist-packages (from mkl->numpy>=1.17.3->scikit-learn==1.2.2) (2024.2.0)\r\n",
      "Requirement already satisfied: tbb==2022.* in /usr/local/lib/python3.11/dist-packages (from mkl->numpy>=1.17.3->scikit-learn==1.2.2) (2022.1.0)\r\n",
      "Requirement already satisfied: tcmlib==1.* in /usr/local/lib/python3.11/dist-packages (from tbb==2022.*->mkl->numpy>=1.17.3->scikit-learn==1.2.2) (1.2.0)\r\n",
      "Requirement already satisfied: intel-cmplr-lib-rt in /usr/local/lib/python3.11/dist-packages (from mkl_umath->numpy>=1.17.3->scikit-learn==1.2.2) (2024.2.0)\r\n",
      "Requirement already satisfied: intel-cmplr-lib-ur==2024.2.0 in /usr/local/lib/python3.11/dist-packages (from intel-openmp<2026,>=2024->mkl->numpy>=1.17.3->scikit-learn==1.2.2) (2024.2.0)\r\n",
      "Downloading imbalanced_learn-0.10.1-py3-none-any.whl (226 kB)\r\n",
      "\u001b[2K   \u001b[90m━━━━━━━━━━━━━━━━━━━━━━━━━━━━━━━━━━━━━━━━\u001b[0m \u001b[32m226.0/226.0 kB\u001b[0m \u001b[31m4.2 MB/s\u001b[0m eta \u001b[36m0:00:00\u001b[0m\r\n",
      "\u001b[?25hInstalling collected packages: imbalanced-learn\r\n",
      "  Attempting uninstall: imbalanced-learn\r\n",
      "    Found existing installation: imbalanced-learn 0.13.0\r\n",
      "    Uninstalling imbalanced-learn-0.13.0:\r\n",
      "      Successfully uninstalled imbalanced-learn-0.13.0\r\n",
      "Successfully installed imbalanced-learn-0.10.1\r\n"
     ]
    }
   ],
   "source": [
    "import pandas as pd\n",
    "import numpy as np\n",
    "from sklearn.model_selection import train_test_split\n",
    "from sklearn.base import BaseEstimator, TransformerMixin\n",
    "from sklearn.pipeline import Pipeline\n",
    "from sklearn.preprocessing import MinMaxScaler\n",
    "from sklearn.preprocessing import StandardScaler\n",
    "import matplotlib.pyplot as plt\n",
    "import matplotlib.gridspec as gridspec\n",
    "import seaborn as sns\n",
    "from sklearn.decomposition import PCA\n",
    "from sklearn.metrics import classification_report\n",
    "from sklearn.linear_model import LogisticRegression\n",
    "from sklearn.metrics import accuracy_score, precision_score, recall_score, f1_score\n",
    "# Cài đặt \n",
    "!pip install xgboost\n",
    "!pip install scikit-learn==1.2.2 imbalanced-learn==0.10.1\n",
    "import warnings\n",
    "warnings.simplefilter('ignore', FutureWarning)"
   ]
  },
  {
   "cell_type": "code",
   "execution_count": 2,
   "id": "e2462f35",
   "metadata": {
    "execution": {
     "iopub.execute_input": "2025-05-04T04:18:58.628827Z",
     "iopub.status.busy": "2025-05-04T04:18:58.628060Z",
     "iopub.status.idle": "2025-05-04T04:19:04.097202Z",
     "shell.execute_reply": "2025-05-04T04:19:04.095877Z"
    },
    "papermill": {
     "duration": 5.481382,
     "end_time": "2025-05-04T04:19:04.099233",
     "exception": false,
     "start_time": "2025-05-04T04:18:58.617851",
     "status": "completed"
    },
    "tags": []
   },
   "outputs": [],
   "source": [
    "import pandas as pd\n",
    "\n",
    "data_filled = pd.read_csv('/kaggle/input/clean-aws-month/final_data/filled_data_october.csv')"
   ]
  },
  {
   "cell_type": "markdown",
   "id": "9eceb431",
   "metadata": {
    "papermill": {
     "duration": 0.010883,
     "end_time": "2025-05-04T04:19:04.120840",
     "exception": false,
     "start_time": "2025-05-04T04:19:04.109957",
     "status": "completed"
    },
    "tags": []
   },
   "source": [
    "# 1. Xử lý dữ liệu bị thiếu"
   ]
  },
  {
   "cell_type": "code",
   "execution_count": 3,
   "id": "69bf71ad",
   "metadata": {
    "execution": {
     "iopub.execute_input": "2025-05-04T04:19:04.141960Z",
     "iopub.status.busy": "2025-05-04T04:19:04.141492Z",
     "iopub.status.idle": "2025-05-04T04:19:04.146338Z",
     "shell.execute_reply": "2025-05-04T04:19:04.145277Z"
    },
    "papermill": {
     "duration": 0.017645,
     "end_time": "2025-05-04T04:19:04.148420",
     "exception": false,
     "start_time": "2025-05-04T04:19:04.130775",
     "status": "completed"
    },
    "tags": []
   },
   "outputs": [],
   "source": [
    "# df_cleaned = data.copy()\n",
    "# df_cleaned = df_cleaned.drop(columns=['B04B', 'B05B', 'B06B', 'VSB', 'CIN'])\n",
    "\n",
    "# df_cleaned = df_cleaned[~((df_cleaned['AWS'] == -np.inf) | (df_cleaned['AWS'].isnull()))]\n",
    "# df_cleaned = df_cleaned[~((df_cleaned['SLHF'] == 9999) | (df_cleaned['SSHF'] == 9999))]"
   ]
  },
  {
   "cell_type": "code",
   "execution_count": 4,
   "id": "45747a7b",
   "metadata": {
    "execution": {
     "iopub.execute_input": "2025-05-04T04:19:04.167517Z",
     "iopub.status.busy": "2025-05-04T04:19:04.167181Z",
     "iopub.status.idle": "2025-05-04T04:19:04.172383Z",
     "shell.execute_reply": "2025-05-04T04:19:04.171122Z"
    },
    "papermill": {
     "duration": 0.016771,
     "end_time": "2025-05-04T04:19:04.174128",
     "exception": false,
     "start_time": "2025-05-04T04:19:04.157357",
     "status": "completed"
    },
    "tags": []
   },
   "outputs": [],
   "source": [
    "# data_filled = df_cleaned.fillna(df_cleaned.median(numeric_only=True))"
   ]
  },
  {
   "cell_type": "markdown",
   "id": "bd719880",
   "metadata": {
    "papermill": {
     "duration": 0.009068,
     "end_time": "2025-05-04T04:19:04.192654",
     "exception": false,
     "start_time": "2025-05-04T04:19:04.183586",
     "status": "completed"
    },
    "tags": []
   },
   "source": [
    "# 2. Chia train test"
   ]
  },
  {
   "cell_type": "code",
   "execution_count": 5,
   "id": "7b1883f5",
   "metadata": {
    "execution": {
     "iopub.execute_input": "2025-05-04T04:19:04.214784Z",
     "iopub.status.busy": "2025-05-04T04:19:04.214419Z",
     "iopub.status.idle": "2025-05-04T04:19:04.616173Z",
     "shell.execute_reply": "2025-05-04T04:19:04.615037Z"
    },
    "papermill": {
     "duration": 0.414359,
     "end_time": "2025-05-04T04:19:04.617978",
     "exception": false,
     "start_time": "2025-05-04T04:19:04.203619",
     "status": "completed"
    },
    "tags": []
   },
   "outputs": [
    {
     "name": "stdout",
     "output_type": "stream",
     "text": [
      "Số ngày trong train: 49\n",
      "Số ngày trong test: 13\n",
      "Train shape: (262501, 34)\n",
      "Test shape: (89319, 34)\n",
      "Ngày trong train:\n",
      "[datetime.date(2019, 10, 1) datetime.date(2019, 10, 2)\n",
      " datetime.date(2019, 10, 3) datetime.date(2019, 10, 4)\n",
      " datetime.date(2019, 10, 5) datetime.date(2019, 10, 6)\n",
      " datetime.date(2019, 10, 7) datetime.date(2019, 10, 8)\n",
      " datetime.date(2019, 10, 9) datetime.date(2019, 10, 10)\n",
      " datetime.date(2019, 10, 11) datetime.date(2019, 10, 12)\n",
      " datetime.date(2019, 10, 13) datetime.date(2019, 10, 14)\n",
      " datetime.date(2019, 10, 15) datetime.date(2019, 10, 16)\n",
      " datetime.date(2019, 10, 17) datetime.date(2019, 10, 18)\n",
      " datetime.date(2019, 10, 19) datetime.date(2019, 10, 20)\n",
      " datetime.date(2019, 10, 21) datetime.date(2019, 10, 22)\n",
      " datetime.date(2019, 10, 23) datetime.date(2019, 10, 24)\n",
      " datetime.date(2019, 10, 25) datetime.date(2019, 10, 26)\n",
      " datetime.date(2019, 10, 27) datetime.date(2019, 10, 28)\n",
      " datetime.date(2019, 10, 29) datetime.date(2019, 10, 30)\n",
      " datetime.date(2019, 10, 31) datetime.date(2020, 10, 1)\n",
      " datetime.date(2020, 10, 2) datetime.date(2020, 10, 3)\n",
      " datetime.date(2020, 10, 4) datetime.date(2020, 10, 5)\n",
      " datetime.date(2020, 10, 6) datetime.date(2020, 10, 7)\n",
      " datetime.date(2020, 10, 8) datetime.date(2020, 10, 9)\n",
      " datetime.date(2020, 10, 10) datetime.date(2020, 10, 11)\n",
      " datetime.date(2020, 10, 12) datetime.date(2020, 10, 13)\n",
      " datetime.date(2020, 10, 14) datetime.date(2020, 10, 15)\n",
      " datetime.date(2020, 10, 16) datetime.date(2020, 10, 17)\n",
      " datetime.date(2020, 10, 18)]\n",
      "Ngày trong test:\n",
      "[datetime.date(2020, 10, 19) datetime.date(2020, 10, 20)\n",
      " datetime.date(2020, 10, 21) datetime.date(2020, 10, 22)\n",
      " datetime.date(2020, 10, 23) datetime.date(2020, 10, 24)\n",
      " datetime.date(2020, 10, 25) datetime.date(2020, 10, 26)\n",
      " datetime.date(2020, 10, 27) datetime.date(2020, 10, 28)\n",
      " datetime.date(2020, 10, 29) datetime.date(2020, 10, 30)\n",
      " datetime.date(2020, 10, 31)]\n"
     ]
    }
   ],
   "source": [
    "def split_by_day(df):\n",
    "    df['datetime'] = pd.to_datetime(df['datetime'])\n",
    "    df['date'] = df['datetime'].dt.date\n",
    "\n",
    "    # Lấy danh sách ngày duy nhất\n",
    "    unique_days = sorted(df['date'].unique())\n",
    "    n_train_days = int(0.8 * len(unique_days))\n",
    "\n",
    "    # Tách theo ngày\n",
    "    train_days = unique_days[:n_train_days]\n",
    "    test_days = unique_days[n_train_days:]\n",
    "\n",
    "    train_df = df[df['date'].isin(train_days)].copy()\n",
    "    test_df = df[df['date'].isin(test_days)].copy()\n",
    "\n",
    "    # In thông tin\n",
    "    print(f\"Số ngày trong train: {len(train_days)}\")\n",
    "    print(f\"Số ngày trong test: {len(test_days)}\")\n",
    "    print(f\"Train shape: {train_df.shape}\")\n",
    "    print(f\"Test shape: {test_df.shape}\")\n",
    "    print(f\"Ngày trong train:\\n{np.array(train_days)}\")\n",
    "    print(f\"Ngày trong test:\\n{np.array(test_days)}\")\n",
    "\n",
    "    # Xóa cột phụ trợ 'date'\n",
    "    train_df.drop(columns='date', inplace=True)\n",
    "    test_df.drop(columns='date', inplace=True)\n",
    "\n",
    "    return train_df, test_df\n",
    "\n",
    "# Chia lại cho từng tháng\n",
    "train_df, test_df = split_by_day(data_filled)"
   ]
  },
  {
   "cell_type": "code",
   "execution_count": 6,
   "id": "66648c2b",
   "metadata": {
    "execution": {
     "iopub.execute_input": "2025-05-04T04:19:04.638052Z",
     "iopub.status.busy": "2025-05-04T04:19:04.637664Z",
     "iopub.status.idle": "2025-05-04T04:19:04.677025Z",
     "shell.execute_reply": "2025-05-04T04:19:04.676073Z"
    },
    "papermill": {
     "duration": 0.051709,
     "end_time": "2025-05-04T04:19:04.678955",
     "exception": false,
     "start_time": "2025-05-04T04:19:04.627246",
     "status": "completed"
    },
    "tags": []
   },
   "outputs": [],
   "source": [
    "X_train = train_df.drop(columns=['AWS', 'datetime', 'row', 'col'])\n",
    "y_train = (train_df['AWS'] > 0).astype(int)\n",
    "\n",
    "X_test = test_df.drop(columns=['AWS', 'datetime', 'row', 'col'])\n",
    "y_test = (test_df['AWS'] > 0).astype(int)"
   ]
  },
  {
   "cell_type": "markdown",
   "id": "23ef122e",
   "metadata": {
    "papermill": {
     "duration": 0.008752,
     "end_time": "2025-05-04T04:19:04.696651",
     "exception": false,
     "start_time": "2025-05-04T04:19:04.687899",
     "status": "completed"
    },
    "tags": []
   },
   "source": [
    "# 3. Chuẩn hóa"
   ]
  },
  {
   "cell_type": "code",
   "execution_count": 7,
   "id": "63febf48",
   "metadata": {
    "execution": {
     "iopub.execute_input": "2025-05-04T04:19:04.716607Z",
     "iopub.status.busy": "2025-05-04T04:19:04.716265Z",
     "iopub.status.idle": "2025-05-04T04:19:04.856146Z",
     "shell.execute_reply": "2025-05-04T04:19:04.855042Z"
    },
    "papermill": {
     "duration": 0.152335,
     "end_time": "2025-05-04T04:19:04.857947",
     "exception": false,
     "start_time": "2025-05-04T04:19:04.705612",
     "status": "completed"
    },
    "tags": []
   },
   "outputs": [],
   "source": [
    "from sklearn.preprocessing import MinMaxScaler\n",
    "from sklearn.preprocessing import StandardScaler\n",
    "\n",
    "scaler = MinMaxScaler()\n",
    "X_train_scaled = scaler.fit_transform(X_train)\n",
    "X_test_scaled = scaler.transform(X_test)\n",
    "\n",
    "X_train_scaled = pd.DataFrame(X_train_scaled, columns=X_train.columns)\n",
    "X_test_scaled = pd.DataFrame(X_test_scaled, columns=X_test.columns)"
   ]
  },
  {
   "cell_type": "markdown",
   "id": "30747d5f",
   "metadata": {
    "papermill": {
     "duration": 0.008734,
     "end_time": "2025-05-04T04:19:04.878791",
     "exception": false,
     "start_time": "2025-05-04T04:19:04.870057",
     "status": "completed"
    },
    "tags": []
   },
   "source": [
    "# 4. Chọn feature"
   ]
  },
  {
   "cell_type": "code",
   "execution_count": 8,
   "id": "b6764999",
   "metadata": {
    "execution": {
     "iopub.execute_input": "2025-05-04T04:19:04.900239Z",
     "iopub.status.busy": "2025-05-04T04:19:04.899823Z",
     "iopub.status.idle": "2025-05-04T04:19:04.904825Z",
     "shell.execute_reply": "2025-05-04T04:19:04.903861Z"
    },
    "papermill": {
     "duration": 0.018146,
     "end_time": "2025-05-04T04:19:04.906500",
     "exception": false,
     "start_time": "2025-05-04T04:19:04.888354",
     "status": "completed"
    },
    "tags": []
   },
   "outputs": [],
   "source": [
    "top_features =  ['EWSS', 'KX', 'PEV', 'R250', 'R500', 'R850', 'SSHF', 'TCLW', 'TCW', 'U250', 'U850', 'V250', 'V850', 'B11B', 'B14B', 'I4B', 'IRB']"
   ]
  },
  {
   "cell_type": "code",
   "execution_count": 9,
   "id": "3b7bb313",
   "metadata": {
    "execution": {
     "iopub.execute_input": "2025-05-04T04:19:04.927853Z",
     "iopub.status.busy": "2025-05-04T04:19:04.926386Z",
     "iopub.status.idle": "2025-05-04T04:19:04.955219Z",
     "shell.execute_reply": "2025-05-04T04:19:04.954030Z"
    },
    "papermill": {
     "duration": 0.041104,
     "end_time": "2025-05-04T04:19:04.957351",
     "exception": false,
     "start_time": "2025-05-04T04:19:04.916247",
     "status": "completed"
    },
    "tags": []
   },
   "outputs": [],
   "source": [
    "X_train_selected = X_train_scaled[top_features]\n",
    "X_test_selected = X_test_scaled[top_features]"
   ]
  },
  {
   "cell_type": "code",
   "execution_count": 10,
   "id": "5bf3ca76",
   "metadata": {
    "execution": {
     "iopub.execute_input": "2025-05-04T04:19:04.977378Z",
     "iopub.status.busy": "2025-05-04T04:19:04.976679Z",
     "iopub.status.idle": "2025-05-04T04:19:04.981340Z",
     "shell.execute_reply": "2025-05-04T04:19:04.980332Z"
    },
    "papermill": {
     "duration": 0.01648,
     "end_time": "2025-05-04T04:19:04.983074",
     "exception": false,
     "start_time": "2025-05-04T04:19:04.966594",
     "status": "completed"
    },
    "tags": []
   },
   "outputs": [],
   "source": [
    "#Performance evaluation\n",
    "def print_scores(y_true, y_pred):\n",
    "  print(classification_report(y_true, y_pred))"
   ]
  },
  {
   "cell_type": "markdown",
   "id": "4f302856",
   "metadata": {
    "papermill": {
     "duration": 0.009288,
     "end_time": "2025-05-04T04:19:05.002117",
     "exception": false,
     "start_time": "2025-05-04T04:19:04.992829",
     "status": "completed"
    },
    "tags": []
   },
   "source": [
    "# 5. Thêm class weight"
   ]
  },
  {
   "cell_type": "code",
   "execution_count": 11,
   "id": "9e8b0842",
   "metadata": {
    "execution": {
     "iopub.execute_input": "2025-05-04T04:19:05.021389Z",
     "iopub.status.busy": "2025-05-04T04:19:05.020988Z",
     "iopub.status.idle": "2025-05-04T04:19:10.237310Z",
     "shell.execute_reply": "2025-05-04T04:19:10.236153Z"
    },
    "papermill": {
     "duration": 5.228031,
     "end_time": "2025-05-04T04:19:10.238987",
     "exception": false,
     "start_time": "2025-05-04T04:19:05.010956",
     "status": "completed"
    },
    "tags": []
   },
   "outputs": [
    {
     "name": "stdout",
     "output_type": "stream",
     "text": [
      "              precision    recall  f1-score   support\n",
      "\n",
      "           0       0.88      0.95      0.91     68556\n",
      "           1       0.78      0.56      0.65     20763\n",
      "\n",
      "    accuracy                           0.86     89319\n",
      "   macro avg       0.83      0.76      0.78     89319\n",
      "weighted avg       0.85      0.86      0.85     89319\n",
      "\n"
     ]
    }
   ],
   "source": [
    "import xgboost as xgb\n",
    "\n",
    "model_xgb = xgb.XGBClassifier(random_state=42, n_estimators = 200)\n",
    "model_xgb.fit(X_train, y_train)\n",
    "\n",
    "y_pred = model_xgb.predict(X_test)\n",
    "print_scores( y_test, y_pred)"
   ]
  },
  {
   "cell_type": "code",
   "execution_count": 12,
   "id": "d4be5c97",
   "metadata": {
    "execution": {
     "iopub.execute_input": "2025-05-04T04:19:10.258038Z",
     "iopub.status.busy": "2025-05-04T04:19:10.257697Z",
     "iopub.status.idle": "2025-05-04T04:19:15.069919Z",
     "shell.execute_reply": "2025-05-04T04:19:15.068883Z"
    },
    "papermill": {
     "duration": 4.824127,
     "end_time": "2025-05-04T04:19:15.071991",
     "exception": false,
     "start_time": "2025-05-04T04:19:10.247864",
     "status": "completed"
    },
    "tags": []
   },
   "outputs": [
    {
     "name": "stdout",
     "output_type": "stream",
     "text": [
      "              precision    recall  f1-score   support\n",
      "\n",
      "           0       0.88      0.95      0.91     68556\n",
      "           1       0.78      0.56      0.65     20763\n",
      "\n",
      "    accuracy                           0.86     89319\n",
      "   macro avg       0.83      0.76      0.78     89319\n",
      "weighted avg       0.85      0.86      0.85     89319\n",
      "\n"
     ]
    }
   ],
   "source": [
    "import xgboost as xgb\n",
    "\n",
    "model_xgb = xgb.XGBClassifier(random_state=42, n_estimators = 200)\n",
    "model_xgb.fit(X_train_scaled, y_train)\n",
    "\n",
    "y_pred = model_xgb.predict(X_test_scaled)\n",
    "print_scores( y_test, y_pred)"
   ]
  },
  {
   "cell_type": "code",
   "execution_count": 13,
   "id": "515ad6e0",
   "metadata": {
    "execution": {
     "iopub.execute_input": "2025-05-04T04:19:15.166737Z",
     "iopub.status.busy": "2025-05-04T04:19:15.166432Z",
     "iopub.status.idle": "2025-05-04T04:19:20.020452Z",
     "shell.execute_reply": "2025-05-04T04:19:20.019149Z"
    },
    "papermill": {
     "duration": 4.939746,
     "end_time": "2025-05-04T04:19:20.022157",
     "exception": false,
     "start_time": "2025-05-04T04:19:15.082411",
     "status": "completed"
    },
    "tags": []
   },
   "outputs": [
    {
     "name": "stdout",
     "output_type": "stream",
     "text": [
      "              precision    recall  f1-score   support\n",
      "\n",
      "           0       0.93      0.86      0.89     68556\n",
      "           1       0.63      0.79      0.70     20763\n",
      "\n",
      "    accuracy                           0.84     89319\n",
      "   macro avg       0.78      0.82      0.80     89319\n",
      "weighted avg       0.86      0.84      0.85     89319\n",
      "\n"
     ]
    }
   ],
   "source": [
    "import xgboost as xgb\n",
    "\n",
    "model_xgb = xgb.XGBClassifier(random_state=42, n_estimators = 200, scale_pos_weight= 5.300729681724353)\n",
    "model_xgb.fit(X_train_scaled, y_train)\n",
    "\n",
    "y_pred = model_xgb.predict(X_test_scaled)\n",
    "print_scores( y_test, y_pred)"
   ]
  },
  {
   "cell_type": "code",
   "execution_count": 14,
   "id": "df1aa848",
   "metadata": {
    "execution": {
     "iopub.execute_input": "2025-05-04T04:19:20.041938Z",
     "iopub.status.busy": "2025-05-04T04:19:20.041623Z",
     "iopub.status.idle": "2025-05-04T04:19:25.117624Z",
     "shell.execute_reply": "2025-05-04T04:19:25.116508Z"
    },
    "papermill": {
     "duration": 5.087815,
     "end_time": "2025-05-04T04:19:25.119409",
     "exception": false,
     "start_time": "2025-05-04T04:19:20.031594",
     "status": "completed"
    },
    "tags": []
   },
   "outputs": [
    {
     "name": "stdout",
     "output_type": "stream",
     "text": [
      "              precision    recall  f1-score   support\n",
      "\n",
      "           0       0.93      0.80      0.86     68556\n",
      "           1       0.55      0.81      0.66     20763\n",
      "\n",
      "    accuracy                           0.80     89319\n",
      "   macro avg       0.74      0.81      0.76     89319\n",
      "weighted avg       0.85      0.80      0.82     89319\n",
      "\n"
     ]
    }
   ],
   "source": [
    "import xgboost as xgb\n",
    "\n",
    "model_xgb = xgb.XGBClassifier(random_state=42, n_estimators = 200, scale_pos_weight= 5.300729681724353)\n",
    "model_xgb.fit(X_train_selected, y_train)\n",
    "\n",
    "y_pred = model_xgb.predict(X_test_selected)\n",
    "print_scores( y_test, y_pred)"
   ]
  },
  {
   "cell_type": "markdown",
   "id": "e9768f19",
   "metadata": {
    "papermill": {
     "duration": 0.009689,
     "end_time": "2025-05-04T04:19:25.138525",
     "exception": false,
     "start_time": "2025-05-04T04:19:25.128836",
     "status": "completed"
    },
    "tags": []
   },
   "source": [
    "=> Giải pháp:\n",
    "\n",
    "1. **Giữ mô hình đã tối ưu + threshold = 0.6** để triển khai hoặc đánh giá cuối cùng.\n",
    "2. Thử thêm:\n",
    "\n",
    "   * Tối ưu `max_depth`, `gamma`, `min_child_weight`, `subsample` bằng GridSearchCV hoặc Optuna.\n",
    "   * Dùng **cross-validation phân tầng (StratifiedKFold)** để đánh giá mô hình ổn định hơn.\n",
    "3. Nếu cần **giải thích mô hình**, có thể dùng SHAP để giải thích đóng góp các feature."
   ]
  },
  {
   "cell_type": "markdown",
   "id": "221ebd81",
   "metadata": {
    "papermill": {
     "duration": 0.009535,
     "end_time": "2025-05-04T04:19:25.157160",
     "exception": false,
     "start_time": "2025-05-04T04:19:25.147625",
     "status": "completed"
    },
    "tags": []
   },
   "source": [
    "**Tuning XGBoost không chọn đặc trưng với optuna**"
   ]
  },
  {
   "cell_type": "code",
   "execution_count": 15,
   "id": "5afe0586",
   "metadata": {
    "execution": {
     "iopub.execute_input": "2025-05-04T04:19:25.178597Z",
     "iopub.status.busy": "2025-05-04T04:19:25.178264Z",
     "iopub.status.idle": "2025-05-04T04:19:30.746985Z",
     "shell.execute_reply": "2025-05-04T04:19:30.745758Z"
    },
    "papermill": {
     "duration": 5.582033,
     "end_time": "2025-05-04T04:19:30.748560",
     "exception": false,
     "start_time": "2025-05-04T04:19:25.166527",
     "status": "completed"
    },
    "tags": []
   },
   "outputs": [
    {
     "name": "stdout",
     "output_type": "stream",
     "text": [
      "              precision    recall  f1-score   support\n",
      "\n",
      "           0       0.95      0.82      0.88     68556\n",
      "           1       0.60      0.86      0.71     20763\n",
      "\n",
      "    accuracy                           0.83     89319\n",
      "   macro avg       0.77      0.84      0.79     89319\n",
      "weighted avg       0.87      0.83      0.84     89319\n",
      "\n",
      "Best threshold: 0.6500000000000001, F1: 0.7174967547994807\n"
     ]
    }
   ],
   "source": [
    "import xgboost as xgb\n",
    "\n",
    "model_xgb = xgb.XGBClassifier(\n",
    "    n_estimators=200,\n",
    "    max_depth=6,\n",
    "    learning_rate=0.1,\n",
    "    subsample=0.8,\n",
    "    colsample_bytree=0.8,\n",
    "    scale_pos_weight=5.300729681724353,\n",
    "    random_state=42\n",
    ")\n",
    "model_xgb.fit(X_train_scaled, y_train)\n",
    "\n",
    "\n",
    "y_pred = model_xgb.predict(X_test_scaled)\n",
    "print_scores( y_test, y_pred)\n",
    "\n",
    "y_probs = model_xgb.predict_proba(X_test_scaled)[:,1]\n",
    "\n",
    "best_thresh = 0.0\n",
    "best_f1 = 0.0\n",
    "for t in np.arange(0.1, 0.9, 0.05):\n",
    "    y_pred = (y_probs >= t).astype(int)\n",
    "    f1 = f1_score(y_test, y_pred)\n",
    "    if f1 > best_f1:\n",
    "        best_f1 = f1\n",
    "        best_thresh = t\n",
    "\n",
    "print(f\"Best threshold: {best_thresh}, F1: {best_f1}\")\n"
   ]
  },
  {
   "cell_type": "code",
   "execution_count": 16,
   "id": "7627d8bc",
   "metadata": {
    "execution": {
     "iopub.execute_input": "2025-05-04T04:19:30.769896Z",
     "iopub.status.busy": "2025-05-04T04:19:30.769574Z",
     "iopub.status.idle": "2025-05-04T04:23:17.902301Z",
     "shell.execute_reply": "2025-05-04T04:23:17.901159Z"
    },
    "papermill": {
     "duration": 227.145861,
     "end_time": "2025-05-04T04:23:17.903908",
     "exception": false,
     "start_time": "2025-05-04T04:19:30.758047",
     "status": "completed"
    },
    "tags": []
   },
   "outputs": [
    {
     "name": "stderr",
     "output_type": "stream",
     "text": [
      "[I 2025-05-04 04:19:31,117] A new study created in memory with name: no-name-5c7a6ecb-6ca3-4ef8-94f5-2405af373ff2\n",
      "[I 2025-05-04 04:19:36,635] Trial 0 finished with value: 0.6970000955383587 and parameters: {'learning_rate': 0.2351520042763188, 'max_depth': 7, 'min_child_weight': 5, 'subsample': 0.6628007684396079, 'colsample_bytree': 0.7265078068790222, 'gamma': 4.9692816226252035}. Best is trial 0 with value: 0.6970000955383587.\n",
      "[I 2025-05-04 04:19:41,196] Trial 1 finished with value: 0.7081427264409881 and parameters: {'learning_rate': 0.21732824138501913, 'max_depth': 6, 'min_child_weight': 5, 'subsample': 0.8905935818722354, 'colsample_bytree': 0.9548165307365866, 'gamma': 0.8886619722209055}. Best is trial 1 with value: 0.7081427264409881.\n",
      "[I 2025-05-04 04:19:45,805] Trial 2 finished with value: 0.6941116056145156 and parameters: {'learning_rate': 0.018045474451335898, 'max_depth': 5, 'min_child_weight': 10, 'subsample': 0.5999609453948862, 'colsample_bytree': 0.5827381461197314, 'gamma': 3.066942325901162}. Best is trial 1 with value: 0.7081427264409881.\n",
      "[I 2025-05-04 04:19:50,383] Trial 3 finished with value: 0.709774790708643 and parameters: {'learning_rate': 0.21770104221949757, 'max_depth': 6, 'min_child_weight': 10, 'subsample': 0.9027758701540758, 'colsample_bytree': 0.9200105865425783, 'gamma': 0.5761335351208025}. Best is trial 3 with value: 0.709774790708643.\n",
      "[I 2025-05-04 04:19:59,552] Trial 4 finished with value: 0.7088789883443589 and parameters: {'learning_rate': 0.037479557802396854, 'max_depth': 8, 'min_child_weight': 3, 'subsample': 0.803861650077191, 'colsample_bytree': 0.7513033215563769, 'gamma': 1.8813418123609016}. Best is trial 3 with value: 0.709774790708643.\n",
      "[I 2025-05-04 04:20:03,677] Trial 5 finished with value: 0.7127465384444147 and parameters: {'learning_rate': 0.26305377780498457, 'max_depth': 5, 'min_child_weight': 8, 'subsample': 0.662606466856485, 'colsample_bytree': 0.9729702068175625, 'gamma': 4.957012603689212}. Best is trial 5 with value: 0.7127465384444147.\n",
      "[I 2025-05-04 04:20:08,277] Trial 6 finished with value: 0.6969659746959833 and parameters: {'learning_rate': 0.2552604344520405, 'max_depth': 9, 'min_child_weight': 8, 'subsample': 0.95096982941463, 'colsample_bytree': 0.6423921373643603, 'gamma': 4.843638700264466}. Best is trial 5 with value: 0.7127465384444147.\n",
      "[I 2025-05-04 04:20:14,941] Trial 7 finished with value: 0.6982338387673617 and parameters: {'learning_rate': 0.14918858863745904, 'max_depth': 8, 'min_child_weight': 8, 'subsample': 0.768256128430371, 'colsample_bytree': 0.994289429302446, 'gamma': 1.230522493284294}. Best is trial 5 with value: 0.7127465384444147.\n",
      "[I 2025-05-04 04:20:19,024] Trial 8 finished with value: 0.7144210811298619 and parameters: {'learning_rate': 0.16633184270750972, 'max_depth': 5, 'min_child_weight': 9, 'subsample': 0.551574134263263, 'colsample_bytree': 0.7213687171979409, 'gamma': 3.458113672811397}. Best is trial 8 with value: 0.7144210811298619.\n",
      "[I 2025-05-04 04:20:23,177] Trial 9 finished with value: 0.7118364153936417 and parameters: {'learning_rate': 0.2890206436182196, 'max_depth': 5, 'min_child_weight': 2, 'subsample': 0.5244447890073807, 'colsample_bytree': 0.9804781862370957, 'gamma': 0.8221127153877567}. Best is trial 8 with value: 0.7144210811298619.\n",
      "[I 2025-05-04 04:20:27,990] Trial 10 finished with value: 0.7056950450741195 and parameters: {'learning_rate': 0.11746676290584551, 'max_depth': 3, 'min_child_weight': 7, 'subsample': 0.5141708360396183, 'colsample_bytree': 0.8247478492094673, 'gamma': 3.2449928671286963}. Best is trial 8 with value: 0.7144210811298619.\n",
      "[I 2025-05-04 04:20:31,081] Trial 11 finished with value: 0.7020907787455328 and parameters: {'learning_rate': 0.09460798410427049, 'max_depth': 3, 'min_child_weight': 7, 'subsample': 0.6580318686852372, 'colsample_bytree': 0.8426464792583361, 'gamma': 3.7791598296350606}. Best is trial 8 with value: 0.7144210811298619.\n",
      "[I 2025-05-04 04:20:34,585] Trial 12 finished with value: 0.711075054267985 and parameters: {'learning_rate': 0.172196162966069, 'max_depth': 4, 'min_child_weight': 9, 'subsample': 0.629224310994904, 'colsample_bytree': 0.508732699179139, 'gamma': 4.1069760597255165}. Best is trial 8 with value: 0.7144210811298619.\n",
      "[I 2025-05-04 04:20:38,573] Trial 13 finished with value: 0.7131269433554144 and parameters: {'learning_rate': 0.1744929248927209, 'max_depth': 5, 'min_child_weight': 6, 'subsample': 0.7057428452501104, 'colsample_bytree': 0.7173113201978312, 'gamma': 2.367536769531774}. Best is trial 8 with value: 0.7144210811298619.\n",
      "[I 2025-05-04 04:20:42,035] Trial 14 finished with value: 0.716264796142043 and parameters: {'learning_rate': 0.17783016568019716, 'max_depth': 4, 'min_child_weight': 4, 'subsample': 0.7198740104600148, 'colsample_bytree': 0.6942068224929622, 'gamma': 2.4352023128292237}. Best is trial 14 with value: 0.716264796142043.\n",
      "[I 2025-05-04 04:20:45,732] Trial 15 finished with value: 0.7112756264236904 and parameters: {'learning_rate': 0.09304712528744306, 'max_depth': 4, 'min_child_weight': 3, 'subsample': 0.5813347156085324, 'colsample_bytree': 0.6294686112986854, 'gamma': 2.010924477396835}. Best is trial 14 with value: 0.716264796142043.\n",
      "[I 2025-05-04 04:20:49,172] Trial 16 finished with value: 0.7144387833198487 and parameters: {'learning_rate': 0.14554723370869402, 'max_depth': 4, 'min_child_weight': 1, 'subsample': 0.8211374780202033, 'colsample_bytree': 0.6721504654036673, 'gamma': 2.951804201188589}. Best is trial 14 with value: 0.716264796142043.\n",
      "[I 2025-05-04 04:21:00,795] Trial 17 finished with value: 0.6810871910805117 and parameters: {'learning_rate': 0.1293374312349287, 'max_depth': 10, 'min_child_weight': 1, 'subsample': 0.8149325358498983, 'colsample_bytree': 0.6633705333077342, 'gamma': 1.5680884823149168}. Best is trial 14 with value: 0.716264796142043.\n",
      "[I 2025-05-04 04:21:03,807] Trial 18 finished with value: 0.712300163132137 and parameters: {'learning_rate': 0.19686669725616676, 'max_depth': 3, 'min_child_weight': 4, 'subsample': 0.734000300900783, 'colsample_bytree': 0.5602000507653634, 'gamma': 2.6802826393665287}. Best is trial 14 with value: 0.716264796142043.\n",
      "[I 2025-05-04 04:21:07,498] Trial 19 finished with value: 0.7072394420353321 and parameters: {'learning_rate': 0.06759616602689285, 'max_depth': 4, 'min_child_weight': 1, 'subsample': 0.8576503478288083, 'colsample_bytree': 0.8001564399824209, 'gamma': 0.11947737759465626}. Best is trial 14 with value: 0.716264796142043.\n",
      "[I 2025-05-04 04:21:12,614] Trial 20 finished with value: 0.7113506389588384 and parameters: {'learning_rate': 0.13842991483786454, 'max_depth': 7, 'min_child_weight': 3, 'subsample': 0.9878965162419022, 'colsample_bytree': 0.6795169380263248, 'gamma': 2.6372778889856825}. Best is trial 14 with value: 0.716264796142043.\n",
      "[I 2025-05-04 04:21:16,227] Trial 21 finished with value: 0.7173410152328576 and parameters: {'learning_rate': 0.1776634149900645, 'max_depth': 4, 'min_child_weight': 4, 'subsample': 0.7840203887970143, 'colsample_bytree': 0.7921980207410589, 'gamma': 3.728602221209726}. Best is trial 21 with value: 0.7173410152328576.\n",
      "[I 2025-05-04 04:21:19,622] Trial 22 finished with value: 0.7130832969908417 and parameters: {'learning_rate': 0.19495688015840865, 'max_depth': 4, 'min_child_weight': 4, 'subsample': 0.7820385128034892, 'colsample_bytree': 0.7766615400094099, 'gamma': 4.255156177840886}. Best is trial 21 with value: 0.7173410152328576.\n",
      "[I 2025-05-04 04:21:22,625] Trial 23 finished with value: 0.7097271268057785 and parameters: {'learning_rate': 0.19221443392256582, 'max_depth': 3, 'min_child_weight': 2, 'subsample': 0.7215817199032597, 'colsample_bytree': 0.8583842794910274, 'gamma': 2.860717354234105}. Best is trial 21 with value: 0.7173410152328576.\n",
      "[I 2025-05-04 04:21:26,153] Trial 24 finished with value: 0.7142949589076555 and parameters: {'learning_rate': 0.1052527304452662, 'max_depth': 4, 'min_child_weight': 4, 'subsample': 0.8465556228028062, 'colsample_bytree': 0.5968730465484812, 'gamma': 3.5533707983602842}. Best is trial 21 with value: 0.7173410152328576.\n",
      "[I 2025-05-04 04:21:32,279] Trial 25 finished with value: 0.7150101189258021 and parameters: {'learning_rate': 0.15308925211242436, 'max_depth': 6, 'min_child_weight': 2, 'subsample': 0.7064378273375324, 'colsample_bytree': 0.6923537261110526, 'gamma': 2.291891984514412}. Best is trial 21 with value: 0.7173410152328576.\n",
      "[I 2025-05-04 04:21:37,135] Trial 26 finished with value: 0.7109691062890768 and parameters: {'learning_rate': 0.16143383800055155, 'max_depth': 6, 'min_child_weight': 2, 'subsample': 0.7022024894009354, 'colsample_bytree': 0.9050166892981042, 'gamma': 2.032699951562443}. Best is trial 21 with value: 0.7173410152328576.\n",
      "[I 2025-05-04 04:21:42,641] Trial 27 finished with value: 0.7120404474846149 and parameters: {'learning_rate': 0.07320547012867239, 'max_depth': 7, 'min_child_weight': 5, 'subsample': 0.7611881187047791, 'colsample_bytree': 0.7717752012389775, 'gamma': 2.313859857808823}. Best is trial 21 with value: 0.7173410152328576.\n",
      "[I 2025-05-04 04:21:47,292] Trial 28 finished with value: 0.7128671426245902 and parameters: {'learning_rate': 0.21226749225276476, 'max_depth': 6, 'min_child_weight': 3, 'subsample': 0.6790882719376894, 'colsample_bytree': 0.7033137967269637, 'gamma': 1.593541138136599}. Best is trial 21 with value: 0.7173410152328576.\n",
      "[I 2025-05-04 04:21:51,236] Trial 29 finished with value: 0.7053717505908016 and parameters: {'learning_rate': 0.18092971334884123, 'max_depth': 5, 'min_child_weight': 6, 'subsample': 0.6262426302939292, 'colsample_bytree': 0.7459153297380268, 'gamma': 4.49510964434224}. Best is trial 21 with value: 0.7173410152328576.\n",
      "[I 2025-05-04 04:21:57,882] Trial 30 finished with value: 0.6844821139224728 and parameters: {'learning_rate': 0.23413476116208787, 'max_depth': 8, 'min_child_weight': 4, 'subsample': 0.7387733536658622, 'colsample_bytree': 0.8816288038582192, 'gamma': 3.943042261626937}. Best is trial 21 with value: 0.7173410152328576.\n",
      "[I 2025-05-04 04:22:01,377] Trial 31 finished with value: 0.7138600411901319 and parameters: {'learning_rate': 0.1454751568366387, 'max_depth': 4, 'min_child_weight': 1, 'subsample': 0.8165427254867833, 'colsample_bytree': 0.6812405559884166, 'gamma': 3.2094361591692024}. Best is trial 21 with value: 0.7173410152328576.\n",
      "[I 2025-05-04 04:22:05,494] Trial 32 finished with value: 0.7017461066540821 and parameters: {'learning_rate': 0.12086701465747698, 'max_depth': 3, 'min_child_weight': 2, 'subsample': 0.8473738972546297, 'colsample_bytree': 0.6230560234014724, 'gamma': 2.395403375300912}. Best is trial 21 with value: 0.7173410152328576.\n",
      "[I 2025-05-04 04:22:08,952] Trial 33 finished with value: 0.7167162351294611 and parameters: {'learning_rate': 0.14642073896856472, 'max_depth': 4, 'min_child_weight': 5, 'subsample': 0.8979513719928693, 'colsample_bytree': 0.6962414420897771, 'gamma': 3.0054802328321912}. Best is trial 21 with value: 0.7173410152328576.\n",
      "[I 2025-05-04 04:22:13,509] Trial 34 finished with value: 0.7110325513061843 and parameters: {'learning_rate': 0.21368004456513634, 'max_depth': 6, 'min_child_weight': 5, 'subsample': 0.8924046323472832, 'colsample_bytree': 0.7935929099480717, 'gamma': 3.6744547924093824}. Best is trial 21 with value: 0.7173410152328576.\n",
      "[I 2025-05-04 04:22:17,479] Trial 35 finished with value: 0.7147735442127966 and parameters: {'learning_rate': 0.15959599037372793, 'max_depth': 5, 'min_child_weight': 5, 'subsample': 0.9348040816172919, 'colsample_bytree': 0.7019711403597457, 'gamma': 3.3613006154395535}. Best is trial 21 with value: 0.7173410152328576.\n",
      "[I 2025-05-04 04:22:21,991] Trial 36 finished with value: 0.7083343057857026 and parameters: {'learning_rate': 0.23001101995455414, 'max_depth': 6, 'min_child_weight': 6, 'subsample': 0.6982931768763868, 'colsample_bytree': 0.7465345169744889, 'gamma': 2.8772219093571842}. Best is trial 21 with value: 0.7173410152328576.\n",
      "[I 2025-05-04 04:22:27,367] Trial 37 finished with value: 0.7000937207122775 and parameters: {'learning_rate': 0.18721802076073904, 'max_depth': 7, 'min_child_weight': 4, 'subsample': 0.7858456608229599, 'colsample_bytree': 0.6017180649485838, 'gamma': 2.1575944489390824}. Best is trial 21 with value: 0.7173410152328576.\n",
      "[I 2025-05-04 04:22:31,246] Trial 38 finished with value: 0.7162935514285087 and parameters: {'learning_rate': 0.11504894547420072, 'max_depth': 5, 'min_child_weight': 5, 'subsample': 0.9232325144524733, 'colsample_bytree': 0.5556198125259053, 'gamma': 1.5921241986403412}. Best is trial 21 with value: 0.7173410152328576.\n",
      "[I 2025-05-04 04:22:36,910] Trial 39 finished with value: 0.7049329688923598 and parameters: {'learning_rate': 0.04958734795505915, 'max_depth': 5, 'min_child_weight': 5, 'subsample': 0.9171225380245854, 'colsample_bytree': 0.5373045691525891, 'gamma': 1.188286104542649}. Best is trial 21 with value: 0.7173410152328576.\n",
      "[I 2025-05-04 04:22:40,216] Trial 40 finished with value: 0.7117285599786268 and parameters: {'learning_rate': 0.25440785980998426, 'max_depth': 4, 'min_child_weight': 7, 'subsample': 0.9859526170978133, 'colsample_bytree': 0.6428265698275135, 'gamma': 1.7367898110495297}. Best is trial 21 with value: 0.7173410152328576.\n",
      "[I 2025-05-04 04:22:44,093] Trial 41 finished with value: 0.7110481586402266 and parameters: {'learning_rate': 0.13084842917063294, 'max_depth': 5, 'min_child_weight': 6, 'subsample': 0.9640149259718792, 'colsample_bytree': 0.7337986181853693, 'gamma': 1.4089244799465876}. Best is trial 21 with value: 0.7173410152328576.\n",
      "[I 2025-05-04 04:22:48,821] Trial 42 finished with value: 0.7130952110629216 and parameters: {'learning_rate': 0.11233885238957354, 'max_depth': 6, 'min_child_weight': 4, 'subsample': 0.8747121150482062, 'colsample_bytree': 0.8108512438687083, 'gamma': 2.6092154949207584}. Best is trial 21 with value: 0.7173410152328576.\n",
      "[I 2025-05-04 04:22:52,188] Trial 43 finished with value: 0.7150560116204856 and parameters: {'learning_rate': 0.1524033156459093, 'max_depth': 4, 'min_child_weight': 3, 'subsample': 0.9214033402758813, 'colsample_bytree': 0.7677099166474552, 'gamma': 3.05180086453805}. Best is trial 21 with value: 0.7173410152328576.\n",
      "[I 2025-05-04 04:22:55,244] Trial 44 finished with value: 0.7008670213893541 and parameters: {'learning_rate': 0.0907481843689607, 'max_depth': 3, 'min_child_weight': 3, 'subsample': 0.9099679058338975, 'colsample_bytree': 0.7603534277654258, 'gamma': 3.2084750783726763}. Best is trial 21 with value: 0.7173410152328576.\n",
      "[I 2025-05-04 04:22:58,798] Trial 45 finished with value: 0.7141561582311279 and parameters: {'learning_rate': 0.13194207087113324, 'max_depth': 4, 'min_child_weight': 5, 'subsample': 0.9423805029017461, 'colsample_bytree': 0.929864387090645, 'gamma': 4.493319153864223}. Best is trial 21 with value: 0.7173410152328576.\n",
      "[I 2025-05-04 04:23:02,736] Trial 46 finished with value: 0.7125136892921798 and parameters: {'learning_rate': 0.16891208939944838, 'max_depth': 5, 'min_child_weight': 3, 'subsample': 0.8777192631123222, 'colsample_bytree': 0.8457642975220814, 'gamma': 3.9174635058620737}. Best is trial 21 with value: 0.7173410152328576.\n",
      "[I 2025-05-04 04:23:06,158] Trial 47 finished with value: 0.7121957563016104 and parameters: {'learning_rate': 0.19999470898465885, 'max_depth': 3, 'min_child_weight': 4, 'subsample': 0.967857539796354, 'colsample_bytree': 0.5184559713245499, 'gamma': 3.5290040503313884}. Best is trial 21 with value: 0.7173410152328576.\n",
      "[I 2025-05-04 04:23:10,301] Trial 48 finished with value: 0.7157096233571492 and parameters: {'learning_rate': 0.17827439961621214, 'max_depth': 4, 'min_child_weight': 5, 'subsample': 0.9281698927453216, 'colsample_bytree': 0.5627734127092815, 'gamma': 1.040313639185242}. Best is trial 21 with value: 0.7173410152328576.\n",
      "[I 2025-05-04 04:23:14,145] Trial 49 finished with value: 0.7098438560760354 and parameters: {'learning_rate': 0.17427200995716582, 'max_depth': 5, 'min_child_weight': 7, 'subsample': 0.9974325992118954, 'colsample_bytree': 0.5577382386247058, 'gamma': 0.8367107613535962}. Best is trial 21 with value: 0.7173410152328576.\n"
     ]
    },
    {
     "name": "stdout",
     "output_type": "stream",
     "text": [
      "Best trial:\n",
      "FrozenTrial(number=21, state=1, values=[0.7173410152328576], datetime_start=datetime.datetime(2025, 5, 4, 4, 21, 12, 615724), datetime_complete=datetime.datetime(2025, 5, 4, 4, 21, 16, 227347), params={'learning_rate': 0.1776634149900645, 'max_depth': 4, 'min_child_weight': 4, 'subsample': 0.7840203887970143, 'colsample_bytree': 0.7921980207410589, 'gamma': 3.728602221209726}, user_attrs={}, system_attrs={}, intermediate_values={}, distributions={'learning_rate': FloatDistribution(high=0.3, log=False, low=0.01, step=None), 'max_depth': IntDistribution(high=10, log=False, low=3, step=1), 'min_child_weight': IntDistribution(high=10, log=False, low=1, step=1), 'subsample': FloatDistribution(high=1.0, log=False, low=0.5, step=None), 'colsample_bytree': FloatDistribution(high=1.0, log=False, low=0.5, step=None), 'gamma': FloatDistribution(high=5.0, log=False, low=0.0, step=None)}, trial_id=21, value=None)\n",
      "Best hyperparameters:\n",
      "learning_rate: 0.1776634149900645\n",
      "max_depth: 4\n",
      "min_child_weight: 4\n",
      "subsample: 0.7840203887970143\n",
      "colsample_bytree: 0.7921980207410589\n",
      "gamma: 3.728602221209726\n",
      "\n",
      "Classification report with threshold = 0.6500000000000001:\n",
      "              precision    recall  f1-score   support\n",
      "\n",
      "           0       0.93      0.87      0.90     68556\n",
      "           1       0.66      0.79      0.72     20763\n",
      "\n",
      "    accuracy                           0.85     89319\n",
      "   macro avg       0.79      0.83      0.81     89319\n",
      "weighted avg       0.87      0.85      0.86     89319\n",
      "\n"
     ]
    }
   ],
   "source": [
    "import optuna\n",
    "import numpy as np\n",
    "from sklearn.metrics import f1_score\n",
    "from sklearn.model_selection import train_test_split\n",
    "import xgboost as xgb\n",
    "\n",
    "\n",
    "THRESHOLD = best_thresh\n",
    "SCALE_POS_WEIGHT =  5.300729681724353 \n",
    "\n",
    "def objective(trial):\n",
    "    # Thử các tham số\n",
    "    param = {\n",
    "        'n_estimators': 200,\n",
    "        'learning_rate': trial.suggest_float('learning_rate', 0.01, 0.3),\n",
    "        'max_depth': trial.suggest_int('max_depth', 3, 10),\n",
    "        'min_child_weight': trial.suggest_int('min_child_weight', 1, 10),\n",
    "        'subsample': trial.suggest_float('subsample', 0.5, 1.0),\n",
    "        'colsample_bytree': trial.suggest_float('colsample_bytree', 0.5, 1.0),\n",
    "        'gamma': trial.suggest_float('gamma', 0, 5),\n",
    "        'scale_pos_weight': SCALE_POS_WEIGHT,\n",
    "        'random_state': 42,\n",
    "        'verbosity': 0,\n",
    "        'n_jobs': -1,\n",
    "        'use_label_encoder': False,\n",
    "        'eval_metric': 'logloss'\n",
    "    }\n",
    "\n",
    "    model = xgb.XGBClassifier(**param)\n",
    "    model.fit(X_train_scaled, y_train)\n",
    "\n",
    "    # Dự đoán xác suất\n",
    "    y_probs = model.predict_proba(X_test_scaled)[:, 1]\n",
    "    y_pred = (y_probs >= THRESHOLD).astype(int)\n",
    "\n",
    "    # Trả về F1-score của lớp mưa (label=1)\n",
    "    return f1_score(y_test, y_pred, pos_label=1)\n",
    "\n",
    "# Tối ưu với Optuna\n",
    "study = optuna.create_study(direction='maximize')\n",
    "study.optimize(objective, n_trials=50)  # Có thể tăng trials lên 100+\n",
    "\n",
    "# In kết quả tốt nhất\n",
    "print(\"Best trial:\")\n",
    "print(study.best_trial)\n",
    "print(\"Best hyperparameters:\")\n",
    "for key, value in study.best_trial.params.items():\n",
    "    print(f\"{key}: {value}\")\n",
    "\n",
    "# Huấn luyện lại với tham số tốt nhất\n",
    "best_params = study.best_trial.params\n",
    "best_params.update({\n",
    "    'n_estimators': 200,\n",
    "    'scale_pos_weight': SCALE_POS_WEIGHT,\n",
    "    'random_state': 42,\n",
    "    'use_label_encoder': False,\n",
    "    'eval_metric': 'logloss'\n",
    "})\n",
    "\n",
    "best_model = xgb.XGBClassifier(**best_params)\n",
    "best_model.fit(X_train_scaled, y_train)\n",
    "\n",
    "# Dự đoán với threshold\n",
    "y_probs = best_model.predict_proba(X_test_scaled)[:, 1]\n",
    "y_pred_thresh = (y_probs >= THRESHOLD).astype(int)\n",
    "\n",
    "# In kết quả\n",
    "from sklearn.metrics import classification_report\n",
    "print(f\"\\nClassification report with threshold = {THRESHOLD}:\")\n",
    "print(classification_report(y_test, y_pred_thresh))"
   ]
  },
  {
   "cell_type": "markdown",
   "id": "d75bb832",
   "metadata": {
    "papermill": {
     "duration": 0.011861,
     "end_time": "2025-05-04T04:23:17.927747",
     "exception": false,
     "start_time": "2025-05-04T04:23:17.915886",
     "status": "completed"
    },
    "tags": []
   },
   "source": [
    "**Tuning XGBoost có chọn đặc trưng với optuna**"
   ]
  },
  {
   "cell_type": "code",
   "execution_count": 17,
   "id": "4e12b7cd",
   "metadata": {
    "execution": {
     "iopub.execute_input": "2025-05-04T04:23:17.953951Z",
     "iopub.status.busy": "2025-05-04T04:23:17.953589Z",
     "iopub.status.idle": "2025-05-04T04:23:22.165465Z",
     "shell.execute_reply": "2025-05-04T04:23:22.164291Z"
    },
    "papermill": {
     "duration": 4.227497,
     "end_time": "2025-05-04T04:23:22.167159",
     "exception": false,
     "start_time": "2025-05-04T04:23:17.939662",
     "status": "completed"
    },
    "tags": []
   },
   "outputs": [
    {
     "name": "stdout",
     "output_type": "stream",
     "text": [
      "              precision    recall  f1-score   support\n",
      "\n",
      "           0       0.95      0.78      0.86     68556\n",
      "           1       0.54      0.86      0.67     20763\n",
      "\n",
      "    accuracy                           0.80     89319\n",
      "   macro avg       0.75      0.82      0.76     89319\n",
      "weighted avg       0.86      0.80      0.81     89319\n",
      "\n",
      "Best threshold: 0.6500000000000001, F1: 0.6883854540706404\n"
     ]
    }
   ],
   "source": [
    "import xgboost as xgb\n",
    "\n",
    "model_xgb = xgb.XGBClassifier(\n",
    "    n_estimators=200,\n",
    "    max_depth=6,\n",
    "    learning_rate=0.1,\n",
    "    subsample=0.8,\n",
    "    colsample_bytree=0.8,\n",
    "    scale_pos_weight= 5.300729681724353,\n",
    "    random_state=42\n",
    ")\n",
    "model_xgb.fit(X_train_selected, y_train)\n",
    "\n",
    "\n",
    "y_pred = model_xgb.predict(X_test_selected)\n",
    "print_scores( y_test, y_pred)\n",
    "\n",
    "y_probs = model_xgb.predict_proba(X_test_selected)[:,1]\n",
    "\n",
    "best_thresh = 0.0\n",
    "best_f1 = 0.0\n",
    "for t in np.arange(0.1, 0.9, 0.05):\n",
    "    y_pred = (y_probs >= t).astype(int)\n",
    "    f1 = f1_score(y_test, y_pred)\n",
    "    if f1 > best_f1:\n",
    "        best_f1 = f1\n",
    "        best_thresh = t\n",
    "\n",
    "print(f\"Best threshold: {best_thresh}, F1: {best_f1}\")"
   ]
  },
  {
   "cell_type": "code",
   "execution_count": 18,
   "id": "2d245ff3",
   "metadata": {
    "execution": {
     "iopub.execute_input": "2025-05-04T04:23:22.194468Z",
     "iopub.status.busy": "2025-05-04T04:23:22.194070Z",
     "iopub.status.idle": "2025-05-04T04:26:22.133259Z",
     "shell.execute_reply": "2025-05-04T04:26:22.132049Z"
    },
    "papermill": {
     "duration": 179.954494,
     "end_time": "2025-05-04T04:26:22.134818",
     "exception": false,
     "start_time": "2025-05-04T04:23:22.180324",
     "status": "completed"
    },
    "tags": []
   },
   "outputs": [
    {
     "name": "stderr",
     "output_type": "stream",
     "text": [
      "[I 2025-05-04 04:23:22,202] A new study created in memory with name: no-name-e35b1f6b-4531-4c38-98f9-518ce59bcd4f\n",
      "[I 2025-05-04 04:23:26,322] Trial 0 finished with value: 0.6854552191634518 and parameters: {'learning_rate': 0.10041802312710581, 'max_depth': 7, 'min_child_weight': 10, 'subsample': 0.6264947837858241, 'colsample_bytree': 0.781668797345177, 'gamma': 1.413570042205417}. Best is trial 0 with value: 0.6854552191634518.\n",
      "[I 2025-05-04 04:23:29,233] Trial 1 finished with value: 0.6903778844340116 and parameters: {'learning_rate': 0.08934066936048565, 'max_depth': 5, 'min_child_weight': 8, 'subsample': 0.907870661679223, 'colsample_bytree': 0.6822118885350956, 'gamma': 2.0683623178701}. Best is trial 1 with value: 0.6903778844340116.\n",
      "[I 2025-05-04 04:23:33,026] Trial 2 finished with value: 0.6862554843064461 and parameters: {'learning_rate': 0.059175656949122926, 'max_depth': 6, 'min_child_weight': 3, 'subsample': 0.8555285883135912, 'colsample_bytree': 0.9594770073956205, 'gamma': 0.058352560065124126}. Best is trial 1 with value: 0.6903778844340116.\n",
      "[I 2025-05-04 04:23:35,798] Trial 3 finished with value: 0.6920403563830908 and parameters: {'learning_rate': 0.15756826109664537, 'max_depth': 4, 'min_child_weight': 7, 'subsample': 0.778000682117814, 'colsample_bytree': 0.8881448497931588, 'gamma': 3.0153222443367538}. Best is trial 3 with value: 0.6920403563830908.\n",
      "[I 2025-05-04 04:23:40,840] Trial 4 finished with value: 0.6835404270213511 and parameters: {'learning_rate': 0.15117092530153808, 'max_depth': 6, 'min_child_weight': 9, 'subsample': 0.6902970639700974, 'colsample_bytree': 0.9723102741381462, 'gamma': 4.732724344359969}. Best is trial 3 with value: 0.6920403563830908.\n",
      "[I 2025-05-04 04:23:47,136] Trial 5 finished with value: 0.6769128704113224 and parameters: {'learning_rate': 0.04667766270486169, 'max_depth': 9, 'min_child_weight': 6, 'subsample': 0.6971054775901195, 'colsample_bytree': 0.9475863966990918, 'gamma': 2.0118983990565016}. Best is trial 3 with value: 0.6920403563830908.\n",
      "[I 2025-05-04 04:23:50,840] Trial 6 finished with value: 0.683338447376496 and parameters: {'learning_rate': 0.14123740563749262, 'max_depth': 7, 'min_child_weight': 9, 'subsample': 0.8108196304515265, 'colsample_bytree': 0.6033351319276259, 'gamma': 0.35451067233366496}. Best is trial 3 with value: 0.6920403563830908.\n",
      "[I 2025-05-04 04:23:53,422] Trial 7 finished with value: 0.6890170984999475 and parameters: {'learning_rate': 0.23524072427303033, 'max_depth': 4, 'min_child_weight': 10, 'subsample': 0.6177319627462414, 'colsample_bytree': 0.5510509609418259, 'gamma': 0.32957621731327436}. Best is trial 3 with value: 0.6920403563830908.\n",
      "[I 2025-05-04 04:23:56,306] Trial 8 finished with value: 0.6846967302783518 and parameters: {'learning_rate': 0.05495276295609628, 'max_depth': 4, 'min_child_weight': 10, 'subsample': 0.6640866850829487, 'colsample_bytree': 0.9915596085064744, 'gamma': 0.4226329231645859}. Best is trial 3 with value: 0.6920403563830908.\n",
      "[I 2025-05-04 04:24:00,161] Trial 9 finished with value: 0.6696816370393589 and parameters: {'learning_rate': 0.2752278214873676, 'max_depth': 7, 'min_child_weight': 4, 'subsample': 0.7935102697654579, 'colsample_bytree': 0.8318470782901618, 'gamma': 4.7493979250604506}. Best is trial 3 with value: 0.6920403563830908.\n",
      "[I 2025-05-04 04:24:02,409] Trial 10 finished with value: 0.6832942751925007 and parameters: {'learning_rate': 0.20668540578831296, 'max_depth': 3, 'min_child_weight': 1, 'subsample': 0.9852213152805072, 'colsample_bytree': 0.8526027787712981, 'gamma': 3.498073842158773}. Best is trial 3 with value: 0.6920403563830908.\n",
      "[I 2025-05-04 04:24:05,339] Trial 11 finished with value: 0.6923883503455949 and parameters: {'learning_rate': 0.12208146054720187, 'max_depth': 5, 'min_child_weight': 7, 'subsample': 0.9268413295934692, 'colsample_bytree': 0.6800279355442558, 'gamma': 2.917047750058941}. Best is trial 11 with value: 0.6923883503455949.\n",
      "[I 2025-05-04 04:24:07,652] Trial 12 finished with value: 0.6883915498849613 and parameters: {'learning_rate': 0.1907902804938444, 'max_depth': 3, 'min_child_weight': 7, 'subsample': 0.9953015619068147, 'colsample_bytree': 0.7015883238094403, 'gamma': 3.274151504070345}. Best is trial 11 with value: 0.6923883503455949.\n",
      "[I 2025-05-04 04:24:12,231] Trial 13 finished with value: 0.6943941354031911 and parameters: {'learning_rate': 0.12460560169089169, 'max_depth': 5, 'min_child_weight': 5, 'subsample': 0.910510531190539, 'colsample_bytree': 0.8707162527312864, 'gamma': 3.2438706901972494}. Best is trial 13 with value: 0.6943941354031911.\n",
      "[I 2025-05-04 04:24:19,681] Trial 14 finished with value: 0.6872742723603144 and parameters: {'learning_rate': 0.012763553822960683, 'max_depth': 9, 'min_child_weight': 4, 'subsample': 0.9072393344475507, 'colsample_bytree': 0.743981311400732, 'gamma': 4.002015593325284}. Best is trial 13 with value: 0.6943941354031911.\n",
      "[I 2025-05-04 04:24:22,737] Trial 15 finished with value: 0.6875266615476495 and parameters: {'learning_rate': 0.11297973871543632, 'max_depth': 5, 'min_child_weight': 5, 'subsample': 0.5097381992737022, 'colsample_bytree': 0.6257157643756712, 'gamma': 2.669641701071245}. Best is trial 13 with value: 0.6943941354031911.\n",
      "[I 2025-05-04 04:24:25,886] Trial 16 finished with value: 0.6926160111456436 and parameters: {'learning_rate': 0.18091423742497637, 'max_depth': 5, 'min_child_weight': 6, 'subsample': 0.894383971684756, 'colsample_bytree': 0.768422728701136, 'gamma': 1.4068828716103767}. Best is trial 13 with value: 0.6943941354031911.\n",
      "[I 2025-05-04 04:24:30,768] Trial 17 finished with value: 0.6557921834776503 and parameters: {'learning_rate': 0.19450114937332114, 'max_depth': 8, 'min_child_weight': 2, 'subsample': 0.849687057116029, 'colsample_bytree': 0.7992403368946484, 'gamma': 1.1095053978947558}. Best is trial 13 with value: 0.6943941354031911.\n",
      "[I 2025-05-04 04:24:34,234] Trial 18 finished with value: 0.669180231639311 and parameters: {'learning_rate': 0.2682677724108468, 'max_depth': 6, 'min_child_weight': 5, 'subsample': 0.94049030647349, 'colsample_bytree': 0.8956793212044224, 'gamma': 1.1738320433359362}. Best is trial 13 with value: 0.6943941354031911.\n",
      "[I 2025-05-04 04:24:37,276] Trial 19 finished with value: 0.674481710626289 and parameters: {'learning_rate': 0.233742164442445, 'max_depth': 5, 'min_child_weight': 6, 'subsample': 0.8554874471460816, 'colsample_bytree': 0.7439082117555332, 'gamma': 2.0675312610603815}. Best is trial 13 with value: 0.6943941354031911.\n",
      "[I 2025-05-04 04:24:42,095] Trial 20 finished with value: 0.6678058943327324 and parameters: {'learning_rate': 0.172443805060921, 'max_depth': 8, 'min_child_weight': 4, 'subsample': 0.7431874539540466, 'colsample_bytree': 0.8933858152653543, 'gamma': 3.992305304041021}. Best is trial 13 with value: 0.6943941354031911.\n",
      "[I 2025-05-04 04:24:46,487] Trial 21 finished with value: 0.6933322058263921 and parameters: {'learning_rate': 0.12362057363849444, 'max_depth': 5, 'min_child_weight': 7, 'subsample': 0.9249219455808757, 'colsample_bytree': 0.6699101029427638, 'gamma': 2.6647291587973965}. Best is trial 13 with value: 0.6943941354031911.\n",
      "[I 2025-05-04 04:24:48,994] Trial 22 finished with value: 0.6891416752843847 and parameters: {'learning_rate': 0.12610548397682866, 'max_depth': 4, 'min_child_weight': 6, 'subsample': 0.9564678552500506, 'colsample_bytree': 0.5019871059682097, 'gamma': 1.6635964379046309}. Best is trial 13 with value: 0.6943941354031911.\n",
      "[I 2025-05-04 04:24:51,916] Trial 23 finished with value: 0.6865305777439669 and parameters: {'learning_rate': 0.09291412920091076, 'max_depth': 5, 'min_child_weight': 8, 'subsample': 0.8897028338793643, 'colsample_bytree': 0.6318037930745722, 'gamma': 2.372774392474392}. Best is trial 13 with value: 0.6943941354031911.\n",
      "[I 2025-05-04 04:24:55,546] Trial 24 finished with value: 0.6904827762292814 and parameters: {'learning_rate': 0.07688928122693858, 'max_depth': 6, 'min_child_weight': 5, 'subsample': 0.8702169996636159, 'colsample_bytree': 0.8027113753446675, 'gamma': 3.6943453153252626}. Best is trial 13 with value: 0.6943941354031911.\n",
      "[I 2025-05-04 04:24:57,819] Trial 25 finished with value: 0.6850433044636909 and parameters: {'learning_rate': 0.17111795739220287, 'max_depth': 3, 'min_child_weight': 8, 'subsample': 0.8150658139374629, 'colsample_bytree': 0.7264858676972848, 'gamma': 2.595358362801461}. Best is trial 13 with value: 0.6943941354031911.\n",
      "[I 2025-05-04 04:25:03,958] Trial 26 finished with value: 0.6420667901667251 and parameters: {'learning_rate': 0.2184947229332491, 'max_depth': 10, 'min_child_weight': 3, 'subsample': 0.9559284781771711, 'colsample_bytree': 0.6578639826846437, 'gamma': 0.9114385756024461}. Best is trial 13 with value: 0.6943941354031911.\n",
      "[I 2025-05-04 04:25:06,702] Trial 27 finished with value: 0.681239388794567 and parameters: {'learning_rate': 0.1473621566533272, 'max_depth': 4, 'min_child_weight': 7, 'subsample': 0.7595977552216795, 'colsample_bytree': 0.8503443435045361, 'gamma': 4.19686881238991}. Best is trial 13 with value: 0.6943941354031911.\n",
      "[I 2025-05-04 04:25:09,568] Trial 28 finished with value: 0.6768569381418676 and parameters: {'learning_rate': 0.2999474749295883, 'max_depth': 5, 'min_child_weight': 6, 'subsample': 0.8323060043864818, 'colsample_bytree': 0.5851129246430766, 'gamma': 1.8096800344797994}. Best is trial 13 with value: 0.6943941354031911.\n",
      "[I 2025-05-04 04:25:13,590] Trial 29 finished with value: 0.6860544292397918 and parameters: {'learning_rate': 0.10500974511093186, 'max_depth': 7, 'min_child_weight': 5, 'subsample': 0.8880270336218798, 'colsample_bytree': 0.7681641420500688, 'gamma': 3.0791773025114173}. Best is trial 13 with value: 0.6943941354031911.\n",
      "[I 2025-05-04 04:25:18,643] Trial 30 finished with value: 0.6884088351464066 and parameters: {'learning_rate': 0.13457489526357366, 'max_depth': 6, 'min_child_weight': 3, 'subsample': 0.9716155468962379, 'colsample_bytree': 0.7924419749875686, 'gamma': 1.5195931107537866}. Best is trial 13 with value: 0.6943941354031911.\n",
      "[I 2025-05-04 04:25:21,551] Trial 31 finished with value: 0.6895870962322006 and parameters: {'learning_rate': 0.11997291854598371, 'max_depth': 5, 'min_child_weight': 7, 'subsample': 0.9268940889115864, 'colsample_bytree': 0.6919771772941331, 'gamma': 2.9998613900808984}. Best is trial 13 with value: 0.6943941354031911.\n",
      "[I 2025-05-04 04:25:24,445] Trial 32 finished with value: 0.6959124337266974 and parameters: {'learning_rate': 0.1758413568131671, 'max_depth': 5, 'min_child_weight': 7, 'subsample': 0.9205497412592422, 'colsample_bytree': 0.7204123473097305, 'gamma': 2.7149398900835893}. Best is trial 32 with value: 0.6959124337266974.\n",
      "[I 2025-05-04 04:25:27,901] Trial 33 finished with value: 0.6884171225145437 and parameters: {'learning_rate': 0.17179174171945086, 'max_depth': 6, 'min_child_weight': 8, 'subsample': 0.9039431170810162, 'colsample_bytree': 0.7208151560125886, 'gamma': 2.3074418347941155}. Best is trial 32 with value: 0.6959124337266974.\n",
      "[I 2025-05-04 04:25:30,529] Trial 34 finished with value: 0.6908228365777851 and parameters: {'learning_rate': 0.0747790473767839, 'max_depth': 4, 'min_child_weight': 6, 'subsample': 0.9205009031434367, 'colsample_bytree': 0.7654173947086228, 'gamma': 2.682526356960052}. Best is trial 32 with value: 0.6959124337266974.\n",
      "[I 2025-05-04 04:25:33,525] Trial 35 finished with value: 0.6903607509771674 and parameters: {'learning_rate': 0.16243179538033356, 'max_depth': 5, 'min_child_weight': 8, 'subsample': 0.8807086409631631, 'colsample_bytree': 0.9249246807716983, 'gamma': 3.377165319449986}. Best is trial 32 with value: 0.6959124337266974.\n",
      "[I 2025-05-04 04:25:36,871] Trial 36 finished with value: 0.6821835157333803 and parameters: {'learning_rate': 0.19602657274687738, 'max_depth': 6, 'min_child_weight': 9, 'subsample': 0.9990444034826819, 'colsample_bytree': 0.6566952128673806, 'gamma': 2.3520182720846887}. Best is trial 32 with value: 0.6959124337266974.\n",
      "[I 2025-05-04 04:25:39,414] Trial 37 finished with value: 0.6893620620387795 and parameters: {'learning_rate': 0.1816629650580183, 'max_depth': 4, 'min_child_weight': 7, 'subsample': 0.9564570146817115, 'colsample_bytree': 0.8199828249104497, 'gamma': 2.809490095504188}. Best is trial 32 with value: 0.6959124337266974.\n",
      "[I 2025-05-04 04:25:42,318] Trial 38 finished with value: 0.6911597833301217 and parameters: {'learning_rate': 0.14052213983835288, 'max_depth': 5, 'min_child_weight': 4, 'subsample': 0.8410051224082538, 'colsample_bytree': 0.7133933038971466, 'gamma': 1.9578040048722476}. Best is trial 32 with value: 0.6959124337266974.\n",
      "[I 2025-05-04 04:25:45,907] Trial 39 finished with value: 0.682940762875725 and parameters: {'learning_rate': 0.15475198819038422, 'max_depth': 6, 'min_child_weight': 9, 'subsample': 0.6034192105721428, 'colsample_bytree': 0.8616702727771434, 'gamma': 0.8085595273340808}. Best is trial 32 with value: 0.6959124337266974.\n",
      "[I 2025-05-04 04:25:51,233] Trial 40 finished with value: 0.6735333836892582 and parameters: {'learning_rate': 0.21532502231371325, 'max_depth': 7, 'min_child_weight': 5, 'subsample': 0.816627391412397, 'colsample_bytree': 0.6678235783279863, 'gamma': 4.428332848644134}. Best is trial 32 with value: 0.6959124337266974.\n",
      "[I 2025-05-04 04:25:54,164] Trial 41 finished with value: 0.6899075582256257 and parameters: {'learning_rate': 0.10262759412379702, 'max_depth': 5, 'min_child_weight': 7, 'subsample': 0.9330042776057833, 'colsample_bytree': 0.6847750567564872, 'gamma': 2.9393527560220445}. Best is trial 32 with value: 0.6959124337266974.\n",
      "[I 2025-05-04 04:25:56,896] Trial 42 finished with value: 0.6901598785837543 and parameters: {'learning_rate': 0.1282908535789393, 'max_depth': 4, 'min_child_weight': 7, 'subsample': 0.9102132132582228, 'colsample_bytree': 0.6261719389403081, 'gamma': 3.5746421408663367}. Best is trial 32 with value: 0.6959124337266974.\n",
      "[I 2025-05-04 04:25:59,849] Trial 43 finished with value: 0.6889711829055464 and parameters: {'learning_rate': 0.0878106871884339, 'max_depth': 5, 'min_child_weight': 6, 'subsample': 0.8639702259655205, 'colsample_bytree': 0.5954437157532133, 'gamma': 3.2556732416912}. Best is trial 32 with value: 0.6959124337266974.\n",
      "[I 2025-05-04 04:26:02,429] Trial 44 finished with value: 0.691084716953755 and parameters: {'learning_rate': 0.11858142708160169, 'max_depth': 4, 'min_child_weight': 8, 'subsample': 0.9766725296612374, 'colsample_bytree': 0.5621797249305582, 'gamma': 2.2103442671979243}. Best is trial 32 with value: 0.6959124337266974.\n",
      "[I 2025-05-04 04:26:05,337] Trial 45 finished with value: 0.689290135313954 and parameters: {'learning_rate': 0.15451629724903795, 'max_depth': 5, 'min_child_weight': 7, 'subsample': 0.8928677448183653, 'colsample_bytree': 0.7406826887927809, 'gamma': 3.757819499893431}. Best is trial 32 with value: 0.6959124337266974.\n",
      "[I 2025-05-04 04:26:08,578] Trial 46 finished with value: 0.6914129620654712 and parameters: {'learning_rate': 0.18462909228164667, 'max_depth': 6, 'min_child_weight': 6, 'subsample': 0.9427970651485088, 'colsample_bytree': 0.6417714290629858, 'gamma': 3.1989065808154438}. Best is trial 32 with value: 0.6959124337266974.\n",
      "[I 2025-05-04 04:26:10,997] Trial 47 finished with value: 0.6778418435078959 and parameters: {'learning_rate': 0.028747438521397953, 'max_depth': 3, 'min_child_weight': 9, 'subsample': 0.7220869204459036, 'colsample_bytree': 0.7689198241209177, 'gamma': 2.8534967563343763}. Best is trial 32 with value: 0.6959124337266974.\n",
      "[I 2025-05-04 04:26:13,902] Trial 48 finished with value: 0.6922075982849464 and parameters: {'learning_rate': 0.1392944708457072, 'max_depth': 5, 'min_child_weight': 6, 'subsample': 0.9145832666982028, 'colsample_bytree': 0.6795036482722775, 'gamma': 2.5593868419957366}. Best is trial 32 with value: 0.6959124337266974.\n",
      "[I 2025-05-04 04:26:16,724] Trial 49 finished with value: 0.6871444349511328 and parameters: {'learning_rate': 0.11051550004698896, 'max_depth': 4, 'min_child_weight': 5, 'subsample': 0.7874000757659039, 'colsample_bytree': 0.9127044659805457, 'gamma': 1.283364720846511}. Best is trial 32 with value: 0.6959124337266974.\n"
     ]
    },
    {
     "name": "stdout",
     "output_type": "stream",
     "text": [
      "Best trial:\n",
      "FrozenTrial(number=32, state=1, values=[0.6959124337266974], datetime_start=datetime.datetime(2025, 5, 4, 4, 25, 21, 552490), datetime_complete=datetime.datetime(2025, 5, 4, 4, 25, 24, 445702), params={'learning_rate': 0.1758413568131671, 'max_depth': 5, 'min_child_weight': 7, 'subsample': 0.9205497412592422, 'colsample_bytree': 0.7204123473097305, 'gamma': 2.7149398900835893}, user_attrs={}, system_attrs={}, intermediate_values={}, distributions={'learning_rate': FloatDistribution(high=0.3, log=False, low=0.01, step=None), 'max_depth': IntDistribution(high=10, log=False, low=3, step=1), 'min_child_weight': IntDistribution(high=10, log=False, low=1, step=1), 'subsample': FloatDistribution(high=1.0, log=False, low=0.5, step=None), 'colsample_bytree': FloatDistribution(high=1.0, log=False, low=0.5, step=None), 'gamma': FloatDistribution(high=5.0, log=False, low=0.0, step=None)}, trial_id=32, value=None)\n",
      "Best hyperparameters:\n",
      "learning_rate: 0.1758413568131671\n",
      "max_depth: 5\n",
      "min_child_weight: 7\n",
      "subsample: 0.9205497412592422\n",
      "colsample_bytree: 0.7204123473097305\n",
      "gamma: 2.7149398900835893\n",
      "\n",
      "Classification report with threshold = 0.6500000000000001:\n",
      "              precision    recall  f1-score   support\n",
      "\n",
      "           0       0.93      0.88      0.90     68556\n",
      "           1       0.67      0.77      0.71     20763\n",
      "\n",
      "    accuracy                           0.86     89319\n",
      "   macro avg       0.80      0.83      0.81     89319\n",
      "weighted avg       0.87      0.86      0.86     89319\n",
      "\n"
     ]
    }
   ],
   "source": [
    "import optuna\n",
    "import numpy as np\n",
    "from sklearn.metrics import f1_score\n",
    "from sklearn.model_selection import train_test_split\n",
    "import xgboost as xgb\n",
    "\n",
    "\n",
    "THRESHOLD = best_thresh\n",
    "SCALE_POS_WEIGHT =  5.300729681724353 \n",
    "\n",
    "def objective(trial):\n",
    "    # Thử các tham số\n",
    "    param = {\n",
    "        'n_estimators': 200,\n",
    "        'learning_rate': trial.suggest_float('learning_rate', 0.01, 0.3),\n",
    "        'max_depth': trial.suggest_int('max_depth', 3, 10),\n",
    "        'min_child_weight': trial.suggest_int('min_child_weight', 1, 10),\n",
    "        'subsample': trial.suggest_float('subsample', 0.5, 1.0),\n",
    "        'colsample_bytree': trial.suggest_float('colsample_bytree', 0.5, 1.0),\n",
    "        'gamma': trial.suggest_float('gamma', 0, 5),\n",
    "        'scale_pos_weight': SCALE_POS_WEIGHT,\n",
    "        'random_state': 42,\n",
    "        'verbosity': 0,\n",
    "        'n_jobs': -1,\n",
    "        'use_label_encoder': False,\n",
    "        'eval_metric': 'logloss'\n",
    "    }\n",
    "\n",
    "    model = xgb.XGBClassifier(**param)\n",
    "    model.fit(X_train_selected, y_train)\n",
    "\n",
    "    # Dự đoán xác suất\n",
    "    y_probs = model.predict_proba(X_test_selected)[:, 1]\n",
    "    y_pred = (y_probs >= THRESHOLD).astype(int)\n",
    "\n",
    "    # Trả về F1-score của lớp mưa (label=1)\n",
    "    return f1_score(y_test, y_pred, pos_label=1)\n",
    "\n",
    "# Tối ưu với Optuna\n",
    "study = optuna.create_study(direction='maximize')\n",
    "study.optimize(objective, n_trials=50)  # Có thể tăng trials lên 100+\n",
    "\n",
    "# In kết quả tốt nhất\n",
    "print(\"Best trial:\")\n",
    "print(study.best_trial)\n",
    "print(\"Best hyperparameters:\")\n",
    "for key, value in study.best_trial.params.items():\n",
    "    print(f\"{key}: {value}\")\n",
    "\n",
    "# Huấn luyện lại với tham số tốt nhất\n",
    "best_params = study.best_trial.params\n",
    "best_params.update({\n",
    "    'n_estimators': 200,\n",
    "    'scale_pos_weight': SCALE_POS_WEIGHT,\n",
    "    'random_state': 42,\n",
    "    'use_label_encoder': False,\n",
    "    'eval_metric': 'logloss'\n",
    "})\n",
    "\n",
    "best_model = xgb.XGBClassifier(**best_params)\n",
    "best_model.fit(X_train_scaled, y_train)\n",
    "\n",
    "# Dự đoán với threshold\n",
    "y_probs = best_model.predict_proba(X_test_scaled)[:, 1]\n",
    "y_pred_thresh = (y_probs >= THRESHOLD).astype(int)\n",
    "\n",
    "# In kết quả\n",
    "from sklearn.metrics import classification_report\n",
    "# print(\"\\nClassification report with threshold = 0.75:\")\n",
    "print(f\"\\nClassification report with threshold = {THRESHOLD}:\")\n",
    "print(classification_report(y_test, y_pred_thresh))"
   ]
  },
  {
   "cell_type": "markdown",
   "id": "51adfa33",
   "metadata": {
    "papermill": {
     "duration": 0.014318,
     "end_time": "2025-05-04T04:26:22.163978",
     "exception": false,
     "start_time": "2025-05-04T04:26:22.149660",
     "status": "completed"
    },
    "tags": []
   },
   "source": [
    "**Đánh giá:**\n",
    "\n",
    "Lớp mưa:\n",
    "* Recall = 0.80: Mô hình phát hiện được 80% các trường hợp có mưa → rất tốt trong bối cảnh nhãn lệch (khó học).\n",
    "* F1-score = 0.70: Mức F1-score cao hơn mô hình mặc định (~0.57) hoặc các cấu hình thủ công trước đó.\n",
    "* Precision = 0.61: Có một số false positives (dự đoán sai là mưa)\n",
    "\n",
    "Lớp không mưa: Rất tốt, vẫn giữ precision 0.93 và F1-score 0.89\n",
    "\n",
    "**Không bắt buộc phải cân bằng dữ liệu khi dùng XGBoost vì đã dùng scale_pos_weight, threshold và tham số bằng optuna) nhưng vẫn nên thử**\n",
    "\n",
    "=> Chọn đặc trưng hay không thì kết quả cũng tương tự nhau."
   ]
  },
  {
   "cell_type": "markdown",
   "id": "d5aa5794",
   "metadata": {
    "papermill": {
     "duration": 0.01438,
     "end_time": "2025-05-04T04:26:22.193970",
     "exception": false,
     "start_time": "2025-05-04T04:26:22.179590",
     "status": "completed"
    },
    "tags": []
   },
   "source": [
    "# 6. Cân bằng dữ liệu (Oversampling)"
   ]
  },
  {
   "cell_type": "markdown",
   "id": "206b753d",
   "metadata": {
    "papermill": {
     "duration": 0.014373,
     "end_time": "2025-05-04T04:26:22.222990",
     "exception": false,
     "start_time": "2025-05-04T04:26:22.208617",
     "status": "completed"
    },
    "tags": []
   },
   "source": [
    "## 6.1 SMOTE"
   ]
  },
  {
   "cell_type": "code",
   "execution_count": 19,
   "id": "4d7e77f9",
   "metadata": {
    "execution": {
     "iopub.execute_input": "2025-05-04T04:26:22.253521Z",
     "iopub.status.busy": "2025-05-04T04:26:22.253230Z",
     "iopub.status.idle": "2025-05-04T04:26:28.140918Z",
     "shell.execute_reply": "2025-05-04T04:26:28.139938Z"
    },
    "papermill": {
     "duration": 5.905036,
     "end_time": "2025-05-04T04:26:28.142647",
     "exception": false,
     "start_time": "2025-05-04T04:26:22.237611",
     "status": "completed"
    },
    "tags": []
   },
   "outputs": [],
   "source": [
    "# SMOTE\n",
    "from imblearn.over_sampling import SMOTE\n",
    "\n",
    "sm = SMOTE()\n",
    "\n",
    "X_sm, y_sm = sm.fit_resample(X_train, y_train)\n",
    "X_sm.shape, y_sm.shape\n",
    "\n",
    "scaler = MinMaxScaler()\n",
    "X_train_scaled = scaler.fit_transform(X_sm)\n",
    "X_test_scaled = scaler.transform(X_test)\n",
    "\n",
    "X_train_scaled = pd.DataFrame(X_train_scaled, columns=X_train.columns)\n",
    "X_test_scaled = pd.DataFrame(X_test_scaled, columns=X_test.columns)\n",
    "\n",
    "X_train_selected = X_train_scaled[top_features]\n",
    "X_test_selected = X_test_scaled[top_features]"
   ]
  },
  {
   "cell_type": "code",
   "execution_count": 20,
   "id": "4fd260b9",
   "metadata": {
    "execution": {
     "iopub.execute_input": "2025-05-04T04:26:28.174123Z",
     "iopub.status.busy": "2025-05-04T04:26:28.173444Z",
     "iopub.status.idle": "2025-05-04T04:26:35.613115Z",
     "shell.execute_reply": "2025-05-04T04:26:35.611857Z"
    },
    "papermill": {
     "duration": 7.457209,
     "end_time": "2025-05-04T04:26:35.614645",
     "exception": false,
     "start_time": "2025-05-04T04:26:28.157436",
     "status": "completed"
    },
    "tags": []
   },
   "outputs": [
    {
     "name": "stdout",
     "output_type": "stream",
     "text": [
      "              precision    recall  f1-score   support\n",
      "\n",
      "           0       0.92      0.88      0.90     68556\n",
      "           1       0.64      0.74      0.69     20763\n",
      "\n",
      "    accuracy                           0.84     89319\n",
      "   macro avg       0.78      0.81      0.79     89319\n",
      "weighted avg       0.85      0.84      0.85     89319\n",
      "\n"
     ]
    }
   ],
   "source": [
    "import xgboost as xgb\n",
    "\n",
    "model_xgb = xgb.XGBClassifier(random_state=42, n_estimators = 200)\n",
    "model_xgb.fit(X_sm, y_sm)\n",
    "\n",
    "y_pred = model_xgb.predict(X_test)\n",
    "print_scores( y_test, y_pred)"
   ]
  },
  {
   "cell_type": "code",
   "execution_count": 21,
   "id": "9376efdd",
   "metadata": {
    "execution": {
     "iopub.execute_input": "2025-05-04T04:26:35.646396Z",
     "iopub.status.busy": "2025-05-04T04:26:35.646013Z",
     "iopub.status.idle": "2025-05-04T04:26:42.799333Z",
     "shell.execute_reply": "2025-05-04T04:26:42.798216Z"
    },
    "papermill": {
     "duration": 7.171059,
     "end_time": "2025-05-04T04:26:42.801052",
     "exception": false,
     "start_time": "2025-05-04T04:26:35.629993",
     "status": "completed"
    },
    "tags": []
   },
   "outputs": [
    {
     "name": "stdout",
     "output_type": "stream",
     "text": [
      "              precision    recall  f1-score   support\n",
      "\n",
      "           0       0.92      0.87      0.89     68556\n",
      "           1       0.63      0.74      0.68     20763\n",
      "\n",
      "    accuracy                           0.84     89319\n",
      "   macro avg       0.77      0.80      0.79     89319\n",
      "weighted avg       0.85      0.84      0.84     89319\n",
      "\n"
     ]
    }
   ],
   "source": [
    "import xgboost as xgb\n",
    "\n",
    "model_xgb = xgb.XGBClassifier(random_state=42, n_estimators = 200)\n",
    "model_xgb.fit(X_train_scaled, y_sm)\n",
    "\n",
    "y_pred = model_xgb.predict(X_test_scaled)\n",
    "print_scores( y_test, y_pred)"
   ]
  },
  {
   "cell_type": "code",
   "execution_count": 22,
   "id": "68aff1cb",
   "metadata": {
    "execution": {
     "iopub.execute_input": "2025-05-04T04:26:42.833624Z",
     "iopub.status.busy": "2025-05-04T04:26:42.833277Z",
     "iopub.status.idle": "2025-05-04T04:26:48.272666Z",
     "shell.execute_reply": "2025-05-04T04:26:48.271497Z"
    },
    "papermill": {
     "duration": 5.457373,
     "end_time": "2025-05-04T04:26:48.274430",
     "exception": false,
     "start_time": "2025-05-04T04:26:42.817057",
     "status": "completed"
    },
    "tags": []
   },
   "outputs": [
    {
     "name": "stdout",
     "output_type": "stream",
     "text": [
      "              precision    recall  f1-score   support\n",
      "\n",
      "           0       0.92      0.75      0.83     68556\n",
      "           1       0.49      0.79      0.61     20763\n",
      "\n",
      "    accuracy                           0.76     89319\n",
      "   macro avg       0.71      0.77      0.72     89319\n",
      "weighted avg       0.82      0.76      0.78     89319\n",
      "\n"
     ]
    }
   ],
   "source": [
    "import xgboost as xgb\n",
    "\n",
    "model_xgb = xgb.XGBClassifier(random_state=42, n_estimators = 200)\n",
    "model_xgb.fit(X_train_scaled[top_features], y_sm)\n",
    "\n",
    "y_pred = model_xgb.predict(X_test_selected)\n",
    "print_scores( y_test, y_pred)"
   ]
  },
  {
   "cell_type": "code",
   "execution_count": 23,
   "id": "d8a97831",
   "metadata": {
    "execution": {
     "iopub.execute_input": "2025-05-04T04:26:48.308803Z",
     "iopub.status.busy": "2025-05-04T04:26:48.308455Z",
     "iopub.status.idle": "2025-05-04T04:26:56.906162Z",
     "shell.execute_reply": "2025-05-04T04:26:56.904859Z"
    },
    "papermill": {
     "duration": 8.617307,
     "end_time": "2025-05-04T04:26:56.908170",
     "exception": false,
     "start_time": "2025-05-04T04:26:48.290863",
     "status": "completed"
    },
    "tags": []
   },
   "outputs": [
    {
     "name": "stdout",
     "output_type": "stream",
     "text": [
      "              precision    recall  f1-score   support\n",
      "\n",
      "           0       0.91      0.87      0.89     68556\n",
      "           1       0.64      0.73      0.68     20763\n",
      "\n",
      "    accuracy                           0.84     89319\n",
      "   macro avg       0.77      0.80      0.79     89319\n",
      "weighted avg       0.85      0.84      0.84     89319\n",
      "\n"
     ]
    }
   ],
   "source": [
    "import xgboost as xgb\n",
    "\n",
    "model_xgb = xgb.XGBClassifier(random_state=42, n_estimators = 200, min_child_weight=5)\n",
    "model_xgb.fit(X_train_scaled, y_sm)\n",
    "\n",
    "y_pred = model_xgb.predict(X_test_scaled)\n",
    "print_scores( y_test, y_pred)"
   ]
  },
  {
   "cell_type": "markdown",
   "id": "f590f6fb",
   "metadata": {
    "papermill": {
     "duration": 0.014679,
     "end_time": "2025-05-04T04:26:56.938201",
     "exception": false,
     "start_time": "2025-05-04T04:26:56.923522",
     "status": "completed"
    },
    "tags": []
   },
   "source": [
    "=> Thêm min_child_weight có cải thiện"
   ]
  },
  {
   "cell_type": "code",
   "execution_count": 24,
   "id": "6910b0c0",
   "metadata": {
    "execution": {
     "iopub.execute_input": "2025-05-04T04:26:56.969677Z",
     "iopub.status.busy": "2025-05-04T04:26:56.969362Z",
     "iopub.status.idle": "2025-05-04T04:27:04.372814Z",
     "shell.execute_reply": "2025-05-04T04:27:04.371359Z"
    },
    "papermill": {
     "duration": 7.421384,
     "end_time": "2025-05-04T04:27:04.374810",
     "exception": false,
     "start_time": "2025-05-04T04:26:56.953426",
     "status": "completed"
    },
    "tags": []
   },
   "outputs": [
    {
     "name": "stdout",
     "output_type": "stream",
     "text": [
      "              precision    recall  f1-score   support\n",
      "\n",
      "           0       0.95      0.76      0.84     68556\n",
      "           1       0.52      0.87      0.65     20763\n",
      "\n",
      "    accuracy                           0.78     89319\n",
      "   macro avg       0.73      0.81      0.75     89319\n",
      "weighted avg       0.85      0.78      0.80     89319\n",
      "\n"
     ]
    }
   ],
   "source": [
    "import xgboost as xgb\n",
    "\n",
    "model_xgb = xgb.XGBClassifier(random_state=42, n_estimators = 200, scale_pos_weight= 5.300729681724353)\n",
    "model_xgb.fit(X_train_scaled, y_sm)\n",
    "\n",
    "y_pred = model_xgb.predict(X_test_scaled)\n",
    "print_scores( y_test, y_pred)"
   ]
  },
  {
   "cell_type": "markdown",
   "id": "e1e77559",
   "metadata": {
    "papermill": {
     "duration": 0.015079,
     "end_time": "2025-05-04T04:27:04.405247",
     "exception": false,
     "start_time": "2025-05-04T04:27:04.390168",
     "status": "completed"
    },
    "tags": []
   },
   "source": [
    "=> Thêm scale_pos_weight giảm"
   ]
  },
  {
   "cell_type": "code",
   "execution_count": 25,
   "id": "07d5d20e",
   "metadata": {
    "execution": {
     "iopub.execute_input": "2025-05-04T04:27:04.438044Z",
     "iopub.status.busy": "2025-05-04T04:27:04.437758Z",
     "iopub.status.idle": "2025-05-04T04:27:12.306522Z",
     "shell.execute_reply": "2025-05-04T04:27:12.305184Z"
    },
    "papermill": {
     "duration": 7.887249,
     "end_time": "2025-05-04T04:27:12.308644",
     "exception": false,
     "start_time": "2025-05-04T04:27:04.421395",
     "status": "completed"
    },
    "tags": []
   },
   "outputs": [
    {
     "name": "stdout",
     "output_type": "stream",
     "text": [
      "              precision    recall  f1-score   support\n",
      "\n",
      "           0       0.93      0.84      0.88     68556\n",
      "           1       0.60      0.80      0.69     20763\n",
      "\n",
      "    accuracy                           0.83     89319\n",
      "   macro avg       0.77      0.82      0.79     89319\n",
      "weighted avg       0.86      0.83      0.84     89319\n",
      "\n",
      "Best threshold: 0.5500000000000002, F1: 0.6889763779527559\n"
     ]
    }
   ],
   "source": [
    "import xgboost as xgb\n",
    "\n",
    "model_xgb = xgb.XGBClassifier(\n",
    "    n_estimators=200,\n",
    "    max_depth=6,\n",
    "    learning_rate=0.1,\n",
    "    subsample=0.8,\n",
    "    colsample_bytree=0.8,\n",
    "    # scale_pos_weight= 5.300729681724353,\n",
    "    random_state=42,\n",
    "    min_child_weight=5\n",
    "    \n",
    ")\n",
    "\n",
    "model_xgb.fit(X_train_scaled, y_sm)\n",
    "\n",
    "y_pred = model_xgb.predict(X_test_scaled)\n",
    "print_scores(y_test, y_pred)\n",
    "\n",
    "y_probs = model_xgb.predict_proba(X_test_scaled)[:,1]\n",
    "\n",
    "best_thresh = 0.0\n",
    "best_f1 = 0.0\n",
    "for t in np.arange(0.1, 0.9, 0.05):\n",
    "    y_pred = (y_probs >= t).astype(int)\n",
    "    f1 = f1_score(y_test, y_pred)\n",
    "    if f1 > best_f1:\n",
    "        best_f1 = f1\n",
    "        best_thresh = t\n",
    "\n",
    "print(f\"Best threshold: {best_thresh}, F1: {best_f1}\")"
   ]
  },
  {
   "cell_type": "code",
   "execution_count": 26,
   "id": "79e8305f",
   "metadata": {
    "execution": {
     "iopub.execute_input": "2025-05-04T04:27:12.344155Z",
     "iopub.status.busy": "2025-05-04T04:27:12.342931Z",
     "iopub.status.idle": "2025-05-04T04:31:41.189510Z",
     "shell.execute_reply": "2025-05-04T04:31:41.187844Z"
    },
    "papermill": {
     "duration": 268.867088,
     "end_time": "2025-05-04T04:31:41.191942",
     "exception": false,
     "start_time": "2025-05-04T04:27:12.324854",
     "status": "completed"
    },
    "tags": []
   },
   "outputs": [
    {
     "name": "stderr",
     "output_type": "stream",
     "text": [
      "[I 2025-05-04 04:27:12,353] A new study created in memory with name: no-name-5b462ffc-1836-4cd2-9cde-af667a4ec0aa\n",
      "[I 2025-05-04 04:27:17,473] Trial 0 finished with value: 0.6879481551165465 and parameters: {'learning_rate': 0.26463339190886404, 'max_depth': 3, 'min_child_weight': 8, 'subsample': 0.5662357931171376, 'colsample_bytree': 0.7904642584315256, 'gamma': 4.185743382884682}. Best is trial 0 with value: 0.6879481551165465.\n",
      "[I 2025-05-04 04:27:28,943] Trial 1 finished with value: 0.689149289536815 and parameters: {'learning_rate': 0.11737568665998574, 'max_depth': 9, 'min_child_weight': 3, 'subsample': 0.8560898290088768, 'colsample_bytree': 0.5282183463814731, 'gamma': 2.0880495406530715}. Best is trial 1 with value: 0.689149289536815.\n",
      "[I 2025-05-04 04:27:40,486] Trial 2 finished with value: 0.6846741518676047 and parameters: {'learning_rate': 0.018309807889233556, 'max_depth': 8, 'min_child_weight': 8, 'subsample': 0.7546643920379273, 'colsample_bytree': 0.8986236763656644, 'gamma': 4.504999868880452}. Best is trial 1 with value: 0.689149289536815.\n",
      "[I 2025-05-04 04:27:48,749] Trial 3 finished with value: 0.6805440567711414 and parameters: {'learning_rate': 0.21294314226232622, 'max_depth': 8, 'min_child_weight': 6, 'subsample': 0.9231865481814581, 'colsample_bytree': 0.6425988466947764, 'gamma': 2.718475473544899}. Best is trial 1 with value: 0.689149289536815.\n",
      "[I 2025-05-04 04:28:01,405] Trial 4 finished with value: 0.6922224395332158 and parameters: {'learning_rate': 0.05381192424556229, 'max_depth': 9, 'min_child_weight': 9, 'subsample': 0.99828421955631, 'colsample_bytree': 0.7803207971258592, 'gamma': 3.1211673503858113}. Best is trial 4 with value: 0.6922224395332158.\n",
      "[I 2025-05-04 04:28:14,043] Trial 5 finished with value: 0.6941423904774691 and parameters: {'learning_rate': 0.062061497830362806, 'max_depth': 10, 'min_child_weight': 5, 'subsample': 0.9787186499303768, 'colsample_bytree': 0.6460607034016956, 'gamma': 3.2781807102477845}. Best is trial 5 with value: 0.6941423904774691.\n",
      "[I 2025-05-04 04:28:23,650] Trial 6 finished with value: 0.6836666982652385 and parameters: {'learning_rate': 0.1915580293553019, 'max_depth': 9, 'min_child_weight': 4, 'subsample': 0.6521405370270725, 'colsample_bytree': 0.8137608887527257, 'gamma': 3.2910565087052808}. Best is trial 5 with value: 0.6941423904774691.\n",
      "[I 2025-05-04 04:28:39,723] Trial 7 finished with value: 0.6902149473873549 and parameters: {'learning_rate': 0.06482182496164385, 'max_depth': 10, 'min_child_weight': 1, 'subsample': 0.7903458700068375, 'colsample_bytree': 0.8638548239511548, 'gamma': 1.7556967645357417}. Best is trial 5 with value: 0.6941423904774691.\n",
      "[I 2025-05-04 04:28:44,798] Trial 8 finished with value: 0.6852833350790823 and parameters: {'learning_rate': 0.24208611129722918, 'max_depth': 3, 'min_child_weight': 4, 'subsample': 0.5876472386076839, 'colsample_bytree': 0.876859182447725, 'gamma': 1.0309551189508253}. Best is trial 5 with value: 0.6941423904774691.\n",
      "[I 2025-05-04 04:28:51,900] Trial 9 finished with value: 0.6886594211085252 and parameters: {'learning_rate': 0.2136872598606215, 'max_depth': 6, 'min_child_weight': 1, 'subsample': 0.5669639847197427, 'colsample_bytree': 0.6214601275035886, 'gamma': 1.1583919922395225}. Best is trial 5 with value: 0.6941423904774691.\n",
      "[I 2025-05-04 04:28:59,124] Trial 10 finished with value: 0.6874836913977559 and parameters: {'learning_rate': 0.11813169601436574, 'max_depth': 6, 'min_child_weight': 6, 'subsample': 0.9915698116728272, 'colsample_bytree': 0.9803115271876243, 'gamma': 3.7068686756591496}. Best is trial 5 with value: 0.6941423904774691.\n",
      "[I 2025-05-04 04:29:15,802] Trial 11 finished with value: 0.6901150466154891 and parameters: {'learning_rate': 0.011693323512049297, 'max_depth': 10, 'min_child_weight': 10, 'subsample': 0.9940266009514468, 'colsample_bytree': 0.6616398731704174, 'gamma': 2.8730137348231963}. Best is trial 5 with value: 0.6941423904774691.\n",
      "[I 2025-05-04 04:29:23,863] Trial 12 finished with value: 0.6955440236737145 and parameters: {'learning_rate': 0.07313993550401465, 'max_depth': 7, 'min_child_weight': 8, 'subsample': 0.8946006919806336, 'colsample_bytree': 0.719733928713923, 'gamma': 4.963548791976756}. Best is trial 12 with value: 0.6955440236737145.\n",
      "[I 2025-05-04 04:29:30,126] Trial 13 finished with value: 0.693776111408677 and parameters: {'learning_rate': 0.10403793702456884, 'max_depth': 5, 'min_child_weight': 7, 'subsample': 0.8599033231377261, 'colsample_bytree': 0.7051862250631833, 'gamma': 4.989012058675138}. Best is trial 12 with value: 0.6955440236737145.\n",
      "[I 2025-05-04 04:29:39,502] Trial 14 finished with value: 0.6896706553218239 and parameters: {'learning_rate': 0.15937449279812446, 'max_depth': 7, 'min_child_weight': 5, 'subsample': 0.9087944167544459, 'colsample_bytree': 0.5533914639891186, 'gamma': 0.017010395848917614}. Best is trial 12 with value: 0.6955440236737145.\n",
      "[I 2025-05-04 04:29:46,028] Trial 15 finished with value: 0.6851659856477811 and parameters: {'learning_rate': 0.05890059468689299, 'max_depth': 5, 'min_child_weight': 7, 'subsample': 0.6702394837329682, 'colsample_bytree': 0.7139304111913451, 'gamma': 3.981557555429765}. Best is trial 12 with value: 0.6955440236737145.\n",
      "[I 2025-05-04 04:29:54,024] Trial 16 finished with value: 0.6947308258776461 and parameters: {'learning_rate': 0.09021108094641309, 'max_depth': 7, 'min_child_weight': 10, 'subsample': 0.9167151114470669, 'colsample_bytree': 0.5908781882645335, 'gamma': 4.64839873855661}. Best is trial 12 with value: 0.6955440236737145.\n",
      "[I 2025-05-04 04:30:01,530] Trial 17 finished with value: 0.689160215757521 and parameters: {'learning_rate': 0.15812580766533235, 'max_depth': 7, 'min_child_weight': 10, 'subsample': 0.8342306894881634, 'colsample_bytree': 0.585219062564891, 'gamma': 4.980202287495963}. Best is trial 12 with value: 0.6955440236737145.\n",
      "[I 2025-05-04 04:30:09,914] Trial 18 finished with value: 0.6905733844124852 and parameters: {'learning_rate': 0.09158907946526891, 'max_depth': 5, 'min_child_weight': 9, 'subsample': 0.9190707060554677, 'colsample_bytree': 0.7081195148881705, 'gamma': 4.314564260122833}. Best is trial 12 with value: 0.6955440236737145.\n",
      "[I 2025-05-04 04:30:18,608] Trial 19 finished with value: 0.6943483800509648 and parameters: {'learning_rate': 0.14026039345399935, 'max_depth': 8, 'min_child_weight': 9, 'subsample': 0.5012153632768177, 'colsample_bytree': 0.5897286721786011, 'gamma': 4.6270585088627465}. Best is trial 12 with value: 0.6955440236737145.\n",
      "[I 2025-05-04 04:30:26,908] Trial 20 finished with value: 0.6922661598600522 and parameters: {'learning_rate': 0.08093053595971225, 'max_depth': 7, 'min_child_weight': 10, 'subsample': 0.8037511412340206, 'colsample_bytree': 0.5073988684845514, 'gamma': 2.1754257967499298}. Best is trial 12 with value: 0.6955440236737145.\n",
      "[I 2025-05-04 04:30:35,360] Trial 21 finished with value: 0.6884366117111996 and parameters: {'learning_rate': 0.1275407646361947, 'max_depth': 8, 'min_child_weight': 9, 'subsample': 0.6631924641926068, 'colsample_bytree': 0.5829704370480842, 'gamma': 4.645526325585635}. Best is trial 12 with value: 0.6955440236737145.\n",
      "[I 2025-05-04 04:30:43,600] Trial 22 finished with value: 0.6954088092223629 and parameters: {'learning_rate': 0.14070769564254346, 'max_depth': 6, 'min_child_weight': 8, 'subsample': 0.7150075649841283, 'colsample_bytree': 0.5869667786939796, 'gamma': 3.912362523587021}. Best is trial 12 with value: 0.6955440236737145.\n",
      "[I 2025-05-04 04:30:50,675] Trial 23 finished with value: 0.6927896880454728 and parameters: {'learning_rate': 0.1523947508302096, 'max_depth': 6, 'min_child_weight': 8, 'subsample': 0.7208662782715244, 'colsample_bytree': 0.6773737835950466, 'gamma': 3.7146236550028853}. Best is trial 12 with value: 0.6955440236737145.\n",
      "[I 2025-05-04 04:30:56,954] Trial 24 finished with value: 0.6768558084070356 and parameters: {'learning_rate': 0.033283893539256024, 'max_depth': 4, 'min_child_weight': 7, 'subsample': 0.7394790956779405, 'colsample_bytree': 0.5471531233296273, 'gamma': 3.7831652915390985}. Best is trial 12 with value: 0.6955440236737145.\n",
      "[I 2025-05-04 04:31:03,067] Trial 25 finished with value: 0.6838281376941111 and parameters: {'learning_rate': 0.2992112050527822, 'max_depth': 7, 'min_child_weight': 8, 'subsample': 0.8927248939544637, 'colsample_bytree': 0.7380777634782464, 'gamma': 4.856373918853623}. Best is trial 12 with value: 0.6955440236737145.\n",
      "[I 2025-05-04 04:31:11,934] Trial 26 finished with value: 0.6945534320550142 and parameters: {'learning_rate': 0.08461908387493793, 'max_depth': 6, 'min_child_weight': 10, 'subsample': 0.9414519594700945, 'colsample_bytree': 0.6157759507301606, 'gamma': 4.209462409759344}. Best is trial 12 with value: 0.6955440236737145.\n",
      "[I 2025-05-04 04:31:18,221] Trial 27 finished with value: 0.6883548175660914 and parameters: {'learning_rate': 0.17782463141404575, 'max_depth': 5, 'min_child_weight': 7, 'subsample': 0.8118843696243593, 'colsample_bytree': 0.5042637535124488, 'gamma': 3.5904795395721893}. Best is trial 12 with value: 0.6955440236737145.\n",
      "[I 2025-05-04 04:31:24,278] Trial 28 finished with value: 0.6746532156368222 and parameters: {'learning_rate': 0.03824068659840354, 'max_depth': 4, 'min_child_weight': 9, 'subsample': 0.7032787033932768, 'colsample_bytree': 0.7639247960152679, 'gamma': 4.463797344954856}. Best is trial 12 with value: 0.6955440236737145.\n",
      "[I 2025-05-04 04:31:32,516] Trial 29 finished with value: 0.6931727618878952 and parameters: {'learning_rate': 0.09814211279553384, 'max_depth': 7, 'min_child_weight': 8, 'subsample': 0.779453209626036, 'colsample_bytree': 0.8147059427373411, 'gamma': 4.16119223572189}. Best is trial 12 with value: 0.6955440236737145.\n"
     ]
    },
    {
     "name": "stdout",
     "output_type": "stream",
     "text": [
      "Best trial:\n",
      "FrozenTrial(number=12, state=1, values=[0.6955440236737145], datetime_start=datetime.datetime(2025, 5, 4, 4, 29, 15, 803283), datetime_complete=datetime.datetime(2025, 5, 4, 4, 29, 23, 863411), params={'learning_rate': 0.07313993550401465, 'max_depth': 7, 'min_child_weight': 8, 'subsample': 0.8946006919806336, 'colsample_bytree': 0.719733928713923, 'gamma': 4.963548791976756}, user_attrs={}, system_attrs={}, intermediate_values={}, distributions={'learning_rate': FloatDistribution(high=0.3, log=False, low=0.01, step=None), 'max_depth': IntDistribution(high=10, log=False, low=3, step=1), 'min_child_weight': IntDistribution(high=10, log=False, low=1, step=1), 'subsample': FloatDistribution(high=1.0, log=False, low=0.5, step=None), 'colsample_bytree': FloatDistribution(high=1.0, log=False, low=0.5, step=None), 'gamma': FloatDistribution(high=5.0, log=False, low=0.0, step=None)}, trial_id=12, value=None)\n",
      "Best hyperparameters:\n",
      "learning_rate: 0.07313993550401465\n",
      "max_depth: 7\n",
      "min_child_weight: 8\n",
      "subsample: 0.8946006919806336\n",
      "colsample_bytree: 0.719733928713923\n",
      "gamma: 4.963548791976756\n",
      "\n",
      "Classification report with threshold = 0.5500000000000002:\n",
      "              precision    recall  f1-score   support\n",
      "\n",
      "           0       0.93      0.86      0.89     68556\n",
      "           1       0.63      0.78      0.70     20763\n",
      "\n",
      "    accuracy                           0.84     89319\n",
      "   macro avg       0.78      0.82      0.79     89319\n",
      "weighted avg       0.86      0.84      0.85     89319\n",
      "\n"
     ]
    }
   ],
   "source": [
    "import optuna\n",
    "import numpy as np\n",
    "from sklearn.metrics import f1_score\n",
    "from sklearn.model_selection import train_test_split\n",
    "import xgboost as xgb\n",
    "\n",
    "THRESHOLD = best_thresh\n",
    "# SCALE_POS_WEIGHT =  5.300729681724353 \n",
    "\n",
    "def objective(trial):\n",
    "    # Thử các tham số\n",
    "    param = {\n",
    "        'n_estimators': 200,\n",
    "        'learning_rate': trial.suggest_float('learning_rate', 0.01, 0.3),\n",
    "        'max_depth': trial.suggest_int('max_depth', 3, 10),\n",
    "        'min_child_weight': trial.suggest_int('min_child_weight', 1, 10),\n",
    "        'subsample': trial.suggest_float('subsample', 0.5, 1.0),\n",
    "        'colsample_bytree': trial.suggest_float('colsample_bytree', 0.5, 1.0),\n",
    "        'gamma': trial.suggest_float('gamma', 0, 5),\n",
    "        # 'scale_pos_weight': SCALE_POS_WEIGHT,\n",
    "        'random_state': 42,\n",
    "        'verbosity': 0,\n",
    "        'n_jobs': -1,\n",
    "        'use_label_encoder': False,\n",
    "        'eval_metric': 'logloss'\n",
    "    }\n",
    "\n",
    "    model = xgb.XGBClassifier(**param)\n",
    "    model.fit(X_train_scaled, y_sm)\n",
    "\n",
    "    # Dự đoán xác suất\n",
    "    y_probs = model.predict_proba(X_test_scaled)[:, 1]\n",
    "    y_pred = (y_probs >= THRESHOLD).astype(int)\n",
    "\n",
    "    # Trả về F1-score của lớp mưa (label=1)\n",
    "    return f1_score(y_test, y_pred, pos_label=1)\n",
    "\n",
    "\n",
    "# Tối ưu với Optuna\n",
    "study = optuna.create_study(direction='maximize')\n",
    "study.optimize(objective, n_trials=30)  # Có thể tăng trials lên 100+\n",
    "\n",
    "# In kết quả tốt nhất\n",
    "print(\"Best trial:\")\n",
    "print(study.best_trial)\n",
    "print(\"Best hyperparameters:\")\n",
    "for key, value in study.best_trial.params.items():\n",
    "    print(f\"{key}: {value}\")\n",
    "\n",
    "# Huấn luyện lại với tham số tốt nhất\n",
    "best_params = study.best_trial.params\n",
    "best_params.update({\n",
    "    'n_estimators': 200,\n",
    "    # 'scale_pos_weight': SCALE_POS_WEIGHT,\n",
    "    'random_state': 42,\n",
    "    'use_label_encoder': False,\n",
    "    'eval_metric': 'logloss'\n",
    "})\n",
    "\n",
    "best_model = xgb.XGBClassifier(**best_params)\n",
    "best_model.fit(X_train_scaled, y_sm)\n",
    "\n",
    "# Dự đoán với threshold\n",
    "y_probs = best_model.predict_proba(X_test_scaled)[:, 1]\n",
    "y_pred_thresh = (y_probs >= THRESHOLD).astype(int)\n",
    "\n",
    "# In kết quả\n",
    "from sklearn.metrics import classification_report\n",
    "print(f\"\\nClassification report with threshold = {THRESHOLD}:\")\n",
    "print(classification_report(y_test, y_pred_thresh))"
   ]
  },
  {
   "cell_type": "code",
   "execution_count": 27,
   "id": "b7a1db5a",
   "metadata": {
    "execution": {
     "iopub.execute_input": "2025-05-04T04:31:41.238195Z",
     "iopub.status.busy": "2025-05-04T04:31:41.237836Z",
     "iopub.status.idle": "2025-05-04T04:31:48.232941Z",
     "shell.execute_reply": "2025-05-04T04:31:48.231713Z"
    },
    "papermill": {
     "duration": 7.016848,
     "end_time": "2025-05-04T04:31:48.234606",
     "exception": false,
     "start_time": "2025-05-04T04:31:41.217758",
     "status": "completed"
    },
    "tags": []
   },
   "outputs": [
    {
     "name": "stdout",
     "output_type": "stream",
     "text": [
      "              precision    recall  f1-score   support\n",
      "\n",
      "           0       0.95      0.74      0.83     68556\n",
      "           1       0.51      0.86      0.64     20763\n",
      "\n",
      "    accuracy                           0.77     89319\n",
      "   macro avg       0.73      0.80      0.74     89319\n",
      "weighted avg       0.84      0.77      0.79     89319\n",
      "\n",
      "Best threshold: 0.6500000000000001, F1: 0.6460005309481508\n"
     ]
    }
   ],
   "source": [
    "import xgboost as xgb\n",
    "\n",
    "model_xgb = xgb.XGBClassifier(\n",
    "    n_estimators=200,\n",
    "    max_depth=6,\n",
    "    learning_rate=0.1,\n",
    "    subsample=0.8,\n",
    "    colsample_bytree=0.8,\n",
    "    # scale_pos_weight= 5.300729681724353,\n",
    "    random_state=42,\n",
    "    min_child_weight=5\n",
    "    \n",
    ")\n",
    "\n",
    "model_xgb.fit(X_train_scaled[top_features], y_sm)\n",
    "\n",
    "y_pred = model_xgb.predict(X_test_selected)\n",
    "print_scores(y_test, y_pred)\n",
    "\n",
    "y_probs = model_xgb.predict_proba(X_test_selected)[:,1]\n",
    "\n",
    "best_thresh = 0.0\n",
    "best_f1 = 0.0\n",
    "for t in np.arange(0.1, 0.9, 0.05):\n",
    "    y_pred = (y_probs >= t).astype(int)\n",
    "    f1 = f1_score(y_test, y_pred)\n",
    "    if f1 > best_f1:\n",
    "        best_f1 = f1\n",
    "        best_thresh = t\n",
    "\n",
    "print(f\"Best threshold: {best_thresh}, F1: {best_f1}\")"
   ]
  },
  {
   "cell_type": "code",
   "execution_count": 28,
   "id": "868f6ac6",
   "metadata": {
    "execution": {
     "iopub.execute_input": "2025-05-04T04:31:48.270535Z",
     "iopub.status.busy": "2025-05-04T04:31:48.269889Z",
     "iopub.status.idle": "2025-05-04T04:35:04.792758Z",
     "shell.execute_reply": "2025-05-04T04:35:04.791421Z"
    },
    "papermill": {
     "duration": 196.561615,
     "end_time": "2025-05-04T04:35:04.813269",
     "exception": false,
     "start_time": "2025-05-04T04:31:48.251654",
     "status": "completed"
    },
    "tags": []
   },
   "outputs": [
    {
     "name": "stderr",
     "output_type": "stream",
     "text": [
      "[I 2025-05-04 04:31:48,277] A new study created in memory with name: no-name-b9eb576e-2df9-4aa5-b6c7-1d013a9a7582\n",
      "[I 2025-05-04 04:31:55,397] Trial 0 finished with value: 0.6047882285993009 and parameters: {'learning_rate': 0.21397203711181165, 'max_depth': 10, 'min_child_weight': 4, 'subsample': 0.9892848753170784, 'colsample_bytree': 0.5131404341312547, 'gamma': 1.6883399208890693}. Best is trial 0 with value: 0.6047882285993009.\n",
      "[I 2025-05-04 04:32:00,321] Trial 1 finished with value: 0.6661021189784253 and parameters: {'learning_rate': 0.019176482323560444, 'max_depth': 4, 'min_child_weight': 9, 'subsample': 0.5762214298474874, 'colsample_bytree': 0.7086829708041282, 'gamma': 2.235584564685942}. Best is trial 1 with value: 0.6661021189784253.\n",
      "[I 2025-05-04 04:32:04,689] Trial 2 finished with value: 0.6605540612176782 and parameters: {'learning_rate': 0.050600314537826305, 'max_depth': 4, 'min_child_weight': 10, 'subsample': 0.9732200485944968, 'colsample_bytree': 0.8948381351816808, 'gamma': 1.8870554907519244}. Best is trial 1 with value: 0.6661021189784253.\n",
      "[I 2025-05-04 04:32:11,217] Trial 3 finished with value: 0.6380227044115533 and parameters: {'learning_rate': 0.0703263228732871, 'max_depth': 7, 'min_child_weight': 7, 'subsample': 0.7730502358151535, 'colsample_bytree': 0.7912027140685957, 'gamma': 0.03253342300434281}. Best is trial 1 with value: 0.6661021189784253.\n",
      "[I 2025-05-04 04:32:17,762] Trial 4 finished with value: 0.588475684511647 and parameters: {'learning_rate': 0.2895907189328347, 'max_depth': 5, 'min_child_weight': 1, 'subsample': 0.7558284597686706, 'colsample_bytree': 0.9611152754389962, 'gamma': 1.5482326573487981}. Best is trial 1 with value: 0.6661021189784253.\n",
      "[I 2025-05-04 04:32:23,315] Trial 5 finished with value: 0.6274711062755323 and parameters: {'learning_rate': 0.139965346149923, 'max_depth': 6, 'min_child_weight': 4, 'subsample': 0.7299334841585083, 'colsample_bytree': 0.8763924703036979, 'gamma': 0.361759114532072}. Best is trial 1 with value: 0.6661021189784253.\n",
      "[I 2025-05-04 04:32:27,203] Trial 6 finished with value: 0.6392672050138605 and parameters: {'learning_rate': 0.25025224263390616, 'max_depth': 3, 'min_child_weight': 6, 'subsample': 0.7766842708248263, 'colsample_bytree': 0.6306711698679655, 'gamma': 4.549112564414155}. Best is trial 1 with value: 0.6661021189784253.\n",
      "[I 2025-05-04 04:32:31,401] Trial 7 finished with value: 0.6536356844294571 and parameters: {'learning_rate': 0.11714720207299649, 'max_depth': 4, 'min_child_weight': 10, 'subsample': 0.9115421625914961, 'colsample_bytree': 0.6338425045663965, 'gamma': 3.315161007034544}. Best is trial 1 with value: 0.6661021189784253.\n",
      "[I 2025-05-04 04:32:38,346] Trial 8 finished with value: 0.5994545905297083 and parameters: {'learning_rate': 0.19847845055573116, 'max_depth': 8, 'min_child_weight': 9, 'subsample': 0.683076216067083, 'colsample_bytree': 0.7368576892628647, 'gamma': 1.6365783522049149}. Best is trial 1 with value: 0.6661021189784253.\n",
      "[I 2025-05-04 04:32:47,697] Trial 9 finished with value: 0.5814875446243664 and parameters: {'learning_rate': 0.21030019901781094, 'max_depth': 9, 'min_child_weight': 1, 'subsample': 0.5820365477926895, 'colsample_bytree': 0.9532105032936629, 'gamma': 3.2102352987191067}. Best is trial 1 with value: 0.6661021189784253.\n",
      "[I 2025-05-04 04:32:54,023] Trial 10 finished with value: 0.6743819870886474 and parameters: {'learning_rate': 0.01523799782913877, 'max_depth': 6, 'min_child_weight': 8, 'subsample': 0.5422931598466758, 'colsample_bytree': 0.7138212713561819, 'gamma': 4.911956667551373}. Best is trial 10 with value: 0.6743819870886474.\n",
      "[I 2025-05-04 04:33:00,531] Trial 11 finished with value: 0.6740171819945365 and parameters: {'learning_rate': 0.013033696600351636, 'max_depth': 6, 'min_child_weight': 8, 'subsample': 0.5180100851187942, 'colsample_bytree': 0.694257038991443, 'gamma': 4.955945077591783}. Best is trial 10 with value: 0.6743819870886474.\n",
      "[I 2025-05-04 04:33:07,000] Trial 12 finished with value: 0.6745512564818509 and parameters: {'learning_rate': 0.011745851095688764, 'max_depth': 6, 'min_child_weight': 7, 'subsample': 0.5169744620782467, 'colsample_bytree': 0.6365706864975532, 'gamma': 4.988231735908286}. Best is trial 12 with value: 0.6745512564818509.\n",
      "[I 2025-05-04 04:33:13,321] Trial 13 finished with value: 0.6397488767157014 and parameters: {'learning_rate': 0.08394839484404791, 'max_depth': 7, 'min_child_weight': 5, 'subsample': 0.5052379209417133, 'colsample_bytree': 0.5531479772467939, 'gamma': 4.067051041219551}. Best is trial 12 with value: 0.6745512564818509.\n",
      "[I 2025-05-04 04:33:22,087] Trial 14 finished with value: 0.6347199704475958 and parameters: {'learning_rate': 0.10887256405871032, 'max_depth': 8, 'min_child_weight': 7, 'subsample': 0.6346556074241103, 'colsample_bytree': 0.792348945486932, 'gamma': 3.898166893019524}. Best is trial 12 with value: 0.6745512564818509.\n",
      "[I 2025-05-04 04:33:27,365] Trial 15 finished with value: 0.6703318279992146 and parameters: {'learning_rate': 0.03264580516746439, 'max_depth': 5, 'min_child_weight': 7, 'subsample': 0.5839775455182513, 'colsample_bytree': 0.6200955731757518, 'gamma': 4.811285142752918}. Best is trial 12 with value: 0.6745512564818509.\n",
      "[I 2025-05-04 04:33:32,996] Trial 16 finished with value: 0.6538826043998145 and parameters: {'learning_rate': 0.06582506170035472, 'max_depth': 6, 'min_child_weight': 5, 'subsample': 0.84367681015592, 'colsample_bytree': 0.5748126303959972, 'gamma': 4.070668602498888}. Best is trial 12 with value: 0.6745512564818509.\n",
      "[I 2025-05-04 04:33:39,802] Trial 17 finished with value: 0.6105847762169225 and parameters: {'learning_rate': 0.17958457814232553, 'max_depth': 8, 'min_child_weight': 8, 'subsample': 0.6503528841679239, 'colsample_bytree': 0.6750745859968756, 'gamma': 3.0930252420238014}. Best is trial 12 with value: 0.6745512564818509.\n",
      "[I 2025-05-04 04:33:44,794] Trial 18 finished with value: 0.651961866532865 and parameters: {'learning_rate': 0.09667967216022771, 'max_depth': 5, 'min_child_weight': 3, 'subsample': 0.5451668184669038, 'colsample_bytree': 0.810082229768774, 'gamma': 4.425195512930369}. Best is trial 12 with value: 0.6745512564818509.\n",
      "[I 2025-05-04 04:33:53,043] Trial 19 finished with value: 0.6584920216005522 and parameters: {'learning_rate': 0.04418688735257489, 'max_depth': 7, 'min_child_weight': 6, 'subsample': 0.6266643932823867, 'colsample_bytree': 0.7569020269794305, 'gamma': 3.6072066009876123}. Best is trial 12 with value: 0.6745512564818509.\n",
      "[I 2025-05-04 04:33:57,040] Trial 20 finished with value: 0.6554280777190621 and parameters: {'learning_rate': 0.152148497584775, 'max_depth': 3, 'min_child_weight': 8, 'subsample': 0.7042342415852796, 'colsample_bytree': 0.5934188211935677, 'gamma': 2.8419793632181385}. Best is trial 12 with value: 0.6745512564818509.\n",
      "[I 2025-05-04 04:34:03,516] Trial 21 finished with value: 0.6740141759009683 and parameters: {'learning_rate': 0.010920538852121476, 'max_depth': 6, 'min_child_weight': 8, 'subsample': 0.500958703627729, 'colsample_bytree': 0.6836070136838176, 'gamma': 4.956898331731687}. Best is trial 12 with value: 0.6745512564818509.\n",
      "[I 2025-05-04 04:34:09,509] Trial 22 finished with value: 0.6623960801638621 and parameters: {'learning_rate': 0.046269784382424774, 'max_depth': 6, 'min_child_weight': 9, 'subsample': 0.5497751574707646, 'colsample_bytree': 0.666993439167306, 'gamma': 4.4552986986819825}. Best is trial 12 with value: 0.6745512564818509.\n",
      "[I 2025-05-04 04:34:15,204] Trial 23 finished with value: 0.6720443959964325 and parameters: {'learning_rate': 0.010897877509764765, 'max_depth': 5, 'min_child_weight': 7, 'subsample': 0.534555697979955, 'colsample_bytree': 0.7346494048133723, 'gamma': 4.9985584448837574}. Best is trial 12 with value: 0.6745512564818509.\n",
      "[I 2025-05-04 04:34:23,645] Trial 24 finished with value: 0.6628632554822607 and parameters: {'learning_rate': 0.03379075445640252, 'max_depth': 7, 'min_child_weight': 8, 'subsample': 0.607495610419655, 'colsample_bytree': 0.8340649425503462, 'gamma': 4.414261730031164}. Best is trial 12 with value: 0.6745512564818509.\n",
      "[I 2025-05-04 04:34:29,477] Trial 25 finished with value: 0.6516754138070247 and parameters: {'learning_rate': 0.07253576725727327, 'max_depth': 6, 'min_child_weight': 6, 'subsample': 0.5047695146872616, 'colsample_bytree': 0.7042826355794992, 'gamma': 3.9710549274448383}. Best is trial 12 with value: 0.6745512564818509.\n",
      "[I 2025-05-04 04:34:34,359] Trial 26 finished with value: 0.6459609631001567 and parameters: {'learning_rate': 0.12559457270102237, 'max_depth': 5, 'min_child_weight': 9, 'subsample': 0.6654575724529372, 'colsample_bytree': 0.515954886382409, 'gamma': 3.6342552754272837}. Best is trial 12 with value: 0.6745512564818509.\n",
      "[I 2025-05-04 04:34:41,805] Trial 27 finished with value: 0.643289596032648 and parameters: {'learning_rate': 0.06120788272943081, 'max_depth': 8, 'min_child_weight': 10, 'subsample': 0.5412055264670318, 'colsample_bytree': 0.760888626816673, 'gamma': 1.1422689916807705}. Best is trial 12 with value: 0.6745512564818509.\n",
      "[I 2025-05-04 04:34:48,523] Trial 28 finished with value: 0.6664406914840587 and parameters: {'learning_rate': 0.0296804933460005, 'max_depth': 7, 'min_child_weight': 8, 'subsample': 0.8334919123942427, 'colsample_bytree': 0.6573831953314929, 'gamma': 4.640328641553401}. Best is trial 12 with value: 0.6745512564818509.\n",
      "[I 2025-05-04 04:34:58,456] Trial 29 finished with value: 0.623671037934886 and parameters: {'learning_rate': 0.09218232000990241, 'max_depth': 10, 'min_child_weight': 4, 'subsample': 0.6019777199493737, 'colsample_bytree': 0.5167110945591837, 'gamma': 4.272667128271075}. Best is trial 12 with value: 0.6745512564818509.\n"
     ]
    },
    {
     "name": "stdout",
     "output_type": "stream",
     "text": [
      "Best trial:\n",
      "FrozenTrial(number=12, state=1, values=[0.6745512564818509], datetime_start=datetime.datetime(2025, 5, 4, 4, 33, 0, 531996), datetime_complete=datetime.datetime(2025, 5, 4, 4, 33, 7, 270), params={'learning_rate': 0.011745851095688764, 'max_depth': 6, 'min_child_weight': 7, 'subsample': 0.5169744620782467, 'colsample_bytree': 0.6365706864975532, 'gamma': 4.988231735908286}, user_attrs={}, system_attrs={}, intermediate_values={}, distributions={'learning_rate': FloatDistribution(high=0.3, log=False, low=0.01, step=None), 'max_depth': IntDistribution(high=10, log=False, low=3, step=1), 'min_child_weight': IntDistribution(high=10, log=False, low=1, step=1), 'subsample': FloatDistribution(high=1.0, log=False, low=0.5, step=None), 'colsample_bytree': FloatDistribution(high=1.0, log=False, low=0.5, step=None), 'gamma': FloatDistribution(high=5.0, log=False, low=0.0, step=None)}, trial_id=12, value=None)\n",
      "Best hyperparameters:\n",
      "learning_rate: 0.011745851095688764\n",
      "max_depth: 6\n",
      "min_child_weight: 7\n",
      "subsample: 0.5169744620782467\n",
      "colsample_bytree: 0.6365706864975532\n",
      "gamma: 4.988231735908286\n",
      "\n",
      "Classification report with threshold = 0.6500000000000001:\n",
      "              precision    recall  f1-score   support\n",
      "\n",
      "           0       0.94      0.82      0.87     68556\n",
      "           1       0.58      0.81      0.67     20763\n",
      "\n",
      "    accuracy                           0.82     89319\n",
      "   macro avg       0.76      0.82      0.77     89319\n",
      "weighted avg       0.85      0.82      0.83     89319\n",
      "\n"
     ]
    }
   ],
   "source": [
    "import optuna\n",
    "import numpy as np\n",
    "from sklearn.metrics import f1_score\n",
    "from sklearn.model_selection import train_test_split\n",
    "import xgboost as xgb\n",
    "\n",
    "\n",
    "THRESHOLD = best_thresh\n",
    "# SCALE_POS_WEIGHT =  5.300729681724353 \n",
    "\n",
    "def objective(trial):\n",
    "    # Thử các tham số\n",
    "    param = {\n",
    "        'n_estimators': 200,\n",
    "        'learning_rate': trial.suggest_float('learning_rate', 0.01, 0.3),\n",
    "        'max_depth': trial.suggest_int('max_depth', 3, 10),\n",
    "        'min_child_weight': trial.suggest_int('min_child_weight', 1, 10),\n",
    "        'subsample': trial.suggest_float('subsample', 0.5, 1.0),\n",
    "        'colsample_bytree': trial.suggest_float('colsample_bytree', 0.5, 1.0),\n",
    "        'gamma': trial.suggest_float('gamma', 0, 5),\n",
    "        # 'scale_pos_weight': SCALE_POS_WEIGHT,\n",
    "        'random_state': 42,\n",
    "        'verbosity': 0,\n",
    "        'n_jobs': -1,\n",
    "        'use_label_encoder': False,\n",
    "        'eval_metric': 'logloss'\n",
    "    }\n",
    "\n",
    "    model = xgb.XGBClassifier(**param)\n",
    "    model.fit(X_train_scaled[top_features], y_sm)\n",
    "\n",
    "    # Dự đoán xác suất\n",
    "    y_probs = model.predict_proba(X_test_selected)[:, 1]\n",
    "    y_pred = (y_probs >= THRESHOLD).astype(int)\n",
    "\n",
    "    # Trả về F1-score của lớp mưa (label=1)\n",
    "    return f1_score(y_test, y_pred, pos_label=1)\n",
    "\n",
    "\n",
    "# Tối ưu với Optuna\n",
    "study = optuna.create_study(direction='maximize')\n",
    "study.optimize(objective, n_trials=30)  # Có thể tăng trials lên 100+\n",
    "\n",
    "# In kết quả tốt nhất\n",
    "print(\"Best trial:\")\n",
    "print(study.best_trial)\n",
    "print(\"Best hyperparameters:\")\n",
    "for key, value in study.best_trial.params.items():\n",
    "    print(f\"{key}: {value}\")\n",
    "\n",
    "# Huấn luyện lại với tham số tốt nhất\n",
    "best_params = study.best_trial.params\n",
    "best_params.update({\n",
    "    'n_estimators': 200,\n",
    "    # 'scale_pos_weight': SCALE_POS_WEIGHT,\n",
    "    'random_state': 42,\n",
    "    'use_label_encoder': False,\n",
    "    'eval_metric': 'logloss'\n",
    "})\n",
    "\n",
    "best_model = xgb.XGBClassifier(**best_params)\n",
    "best_model.fit(X_train_scaled[top_features], y_sm)\n",
    "\n",
    "# Dự đoán với threshold\n",
    "y_probs = best_model.predict_proba(X_test_selected)[:, 1]\n",
    "y_pred_thresh = (y_probs >= THRESHOLD).astype(int)\n",
    "\n",
    "# In kết quả\n",
    "from sklearn.metrics import classification_report\n",
    "print(f\"\\nClassification report with threshold = {THRESHOLD}:\")\n",
    "print(classification_report(y_test, y_pred_thresh))"
   ]
  },
  {
   "cell_type": "markdown",
   "id": "d82da515",
   "metadata": {
    "papermill": {
     "duration": 0.019008,
     "end_time": "2025-05-04T04:35:04.851041",
     "exception": false,
     "start_time": "2025-05-04T04:35:04.832033",
     "status": "completed"
    },
    "tags": []
   },
   "source": [
    "**Đối với dùng SMOTE:** chỉ scale cao hơn scale xong chọn đặc trưng nhưng không SMOTE cao hơn đã SMOTE."
   ]
  },
  {
   "cell_type": "markdown",
   "id": "dafec35a",
   "metadata": {
    "papermill": {
     "duration": 0.018571,
     "end_time": "2025-05-04T04:35:04.890108",
     "exception": false,
     "start_time": "2025-05-04T04:35:04.871537",
     "status": "completed"
    },
    "tags": []
   },
   "source": [
    "## 6.2 SMOTE ENN"
   ]
  },
  {
   "cell_type": "code",
   "execution_count": 29,
   "id": "97e37789",
   "metadata": {
    "execution": {
     "iopub.execute_input": "2025-05-04T04:35:04.930154Z",
     "iopub.status.busy": "2025-05-04T04:35:04.929806Z",
     "iopub.status.idle": "2025-05-04T04:43:54.689245Z",
     "shell.execute_reply": "2025-05-04T04:43:54.688131Z"
    },
    "papermill": {
     "duration": 529.781312,
     "end_time": "2025-05-04T04:43:54.691223",
     "exception": false,
     "start_time": "2025-05-04T04:35:04.909911",
     "status": "completed"
    },
    "tags": []
   },
   "outputs": [],
   "source": [
    "# SMOTE ENN\n",
    "from imblearn.combine import SMOTEENN\n",
    "\n",
    "smenn = SMOTEENN()\n",
    "\n",
    "X_smenn, y_smenn = smenn.fit_resample(X_train, y_train)\n",
    "X_smenn.shape, y_sm.shape\n",
    "\n",
    "scaler = MinMaxScaler()\n",
    "X_train_scaled = scaler.fit_transform(X_smenn)\n",
    "X_test_scaled = scaler.transform(X_test)\n",
    "\n",
    "X_train_scaled = pd.DataFrame(X_train_scaled, columns=X_train.columns)\n",
    "X_test_scaled = pd.DataFrame(X_test_scaled, columns=X_test.columns)\n",
    "\n",
    "X_train_selected = X_train_scaled[top_features]\n",
    "X_test_selected = X_test_scaled[top_features]"
   ]
  },
  {
   "cell_type": "code",
   "execution_count": 30,
   "id": "afe2b9e6",
   "metadata": {
    "execution": {
     "iopub.execute_input": "2025-05-04T04:43:54.731482Z",
     "iopub.status.busy": "2025-05-04T04:43:54.731160Z",
     "iopub.status.idle": "2025-05-04T04:44:00.982486Z",
     "shell.execute_reply": "2025-05-04T04:44:00.981358Z"
    },
    "papermill": {
     "duration": 6.273174,
     "end_time": "2025-05-04T04:44:00.984365",
     "exception": false,
     "start_time": "2025-05-04T04:43:54.711191",
     "status": "completed"
    },
    "tags": []
   },
   "outputs": [
    {
     "name": "stdout",
     "output_type": "stream",
     "text": [
      "              precision    recall  f1-score   support\n",
      "\n",
      "           0       0.92      0.86      0.89     68556\n",
      "           1       0.63      0.76      0.69     20763\n",
      "\n",
      "    accuracy                           0.84     89319\n",
      "   macro avg       0.77      0.81      0.79     89319\n",
      "weighted avg       0.85      0.84      0.84     89319\n",
      "\n"
     ]
    }
   ],
   "source": [
    "import xgboost as xgb\n",
    "\n",
    "model_xgb = xgb.XGBClassifier(random_state=42, n_estimators = 200)\n",
    "model_xgb.fit(X_smenn, y_smenn)\n",
    "\n",
    "y_pred = model_xgb.predict(X_test)\n",
    "print_scores(y_test, y_pred)"
   ]
  },
  {
   "cell_type": "code",
   "execution_count": 31,
   "id": "8e451750",
   "metadata": {
    "execution": {
     "iopub.execute_input": "2025-05-04T04:44:01.024521Z",
     "iopub.status.busy": "2025-05-04T04:44:01.024215Z",
     "iopub.status.idle": "2025-05-04T04:44:07.274256Z",
     "shell.execute_reply": "2025-05-04T04:44:07.273023Z"
    },
    "papermill": {
     "duration": 6.271691,
     "end_time": "2025-05-04T04:44:07.275888",
     "exception": false,
     "start_time": "2025-05-04T04:44:01.004197",
     "status": "completed"
    },
    "tags": []
   },
   "outputs": [
    {
     "name": "stdout",
     "output_type": "stream",
     "text": [
      "              precision    recall  f1-score   support\n",
      "\n",
      "           0       0.93      0.85      0.89     68556\n",
      "           1       0.62      0.77      0.69     20763\n",
      "\n",
      "    accuracy                           0.84     89319\n",
      "   macro avg       0.77      0.81      0.79     89319\n",
      "weighted avg       0.85      0.84      0.84     89319\n",
      "\n"
     ]
    }
   ],
   "source": [
    "import xgboost as xgb\n",
    "\n",
    "model_xgb = xgb.XGBClassifier(random_state=42, n_estimators = 200)\n",
    "model_xgb.fit(X_train_scaled, y_smenn)\n",
    "\n",
    "y_pred = model_xgb.predict(X_test_scaled)\n",
    "print_scores(y_test, y_pred)"
   ]
  },
  {
   "cell_type": "code",
   "execution_count": 32,
   "id": "11396d87",
   "metadata": {
    "execution": {
     "iopub.execute_input": "2025-05-04T04:44:07.315603Z",
     "iopub.status.busy": "2025-05-04T04:44:07.315306Z",
     "iopub.status.idle": "2025-05-04T04:44:11.849595Z",
     "shell.execute_reply": "2025-05-04T04:44:11.848342Z"
    },
    "papermill": {
     "duration": 4.556306,
     "end_time": "2025-05-04T04:44:11.851475",
     "exception": false,
     "start_time": "2025-05-04T04:44:07.295169",
     "status": "completed"
    },
    "tags": []
   },
   "outputs": [
    {
     "name": "stdout",
     "output_type": "stream",
     "text": [
      "              precision    recall  f1-score   support\n",
      "\n",
      "           0       0.94      0.75      0.84     68556\n",
      "           1       0.51      0.83      0.63     20763\n",
      "\n",
      "    accuracy                           0.77     89319\n",
      "   macro avg       0.72      0.79      0.73     89319\n",
      "weighted avg       0.84      0.77      0.79     89319\n",
      "\n"
     ]
    }
   ],
   "source": [
    "import xgboost as xgb\n",
    "\n",
    "model_xgb = xgb.XGBClassifier(random_state=42, n_estimators = 200)\n",
    "model_xgb.fit(X_train_scaled[top_features], y_smenn)\n",
    "\n",
    "y_pred = model_xgb.predict(X_test_selected)\n",
    "print_scores(y_test, y_pred)"
   ]
  },
  {
   "cell_type": "markdown",
   "id": "02c8e5fc",
   "metadata": {
    "papermill": {
     "duration": 0.019657,
     "end_time": "2025-05-04T04:44:11.890418",
     "exception": false,
     "start_time": "2025-05-04T04:44:11.870761",
     "status": "completed"
    },
    "tags": []
   },
   "source": [
    "=> Không chọn đặc trưng, scale hay không cũng như nhau."
   ]
  },
  {
   "cell_type": "code",
   "execution_count": 33,
   "id": "8a529158",
   "metadata": {
    "execution": {
     "iopub.execute_input": "2025-05-04T04:44:11.932867Z",
     "iopub.status.busy": "2025-05-04T04:44:11.932447Z",
     "iopub.status.idle": "2025-05-04T04:44:19.625729Z",
     "shell.execute_reply": "2025-05-04T04:44:19.624298Z"
    },
    "papermill": {
     "duration": 7.715149,
     "end_time": "2025-05-04T04:44:19.627618",
     "exception": false,
     "start_time": "2025-05-04T04:44:11.912469",
     "status": "completed"
    },
    "tags": []
   },
   "outputs": [
    {
     "name": "stdout",
     "output_type": "stream",
     "text": [
      "              precision    recall  f1-score   support\n",
      "\n",
      "           0       0.92      0.87      0.89     68556\n",
      "           1       0.63      0.76      0.69     20763\n",
      "\n",
      "    accuracy                           0.84     89319\n",
      "   macro avg       0.78      0.81      0.79     89319\n",
      "weighted avg       0.85      0.84      0.85     89319\n",
      "\n"
     ]
    }
   ],
   "source": [
    "import xgboost as xgb\n",
    "\n",
    "model_xgb = xgb.XGBClassifier(random_state=42, n_estimators = 200, min_child_weight=5)\n",
    "model_xgb.fit(X_train_scaled, y_smenn)\n",
    "\n",
    "y_pred = model_xgb.predict(X_test_scaled)\n",
    "print_scores(y_test, y_pred)"
   ]
  },
  {
   "cell_type": "code",
   "execution_count": 34,
   "id": "5c3073f9",
   "metadata": {
    "execution": {
     "iopub.execute_input": "2025-05-04T04:44:19.674590Z",
     "iopub.status.busy": "2025-05-04T04:44:19.674222Z",
     "iopub.status.idle": "2025-05-04T04:44:26.668796Z",
     "shell.execute_reply": "2025-05-04T04:44:26.667764Z"
    },
    "papermill": {
     "duration": 7.020904,
     "end_time": "2025-05-04T04:44:26.670339",
     "exception": false,
     "start_time": "2025-05-04T04:44:19.649435",
     "status": "completed"
    },
    "tags": []
   },
   "outputs": [
    {
     "name": "stdout",
     "output_type": "stream",
     "text": [
      "              precision    recall  f1-score   support\n",
      "\n",
      "           0       0.94      0.82      0.88     68556\n",
      "           1       0.58      0.84      0.69     20763\n",
      "\n",
      "    accuracy                           0.82     89319\n",
      "   macro avg       0.76      0.83      0.78     89319\n",
      "weighted avg       0.86      0.82      0.83     89319\n",
      "\n",
      "Best threshold: 0.6000000000000002, F1: 0.6971541302887844\n"
     ]
    }
   ],
   "source": [
    "import xgboost as xgb\n",
    "\n",
    "model_xgb = xgb.XGBClassifier(\n",
    "    n_estimators=200,\n",
    "    max_depth=6,\n",
    "    learning_rate=0.1,\n",
    "    subsample=0.8,\n",
    "    colsample_bytree=0.8,\n",
    "    # scale_pos_weight= 5.300729681724353,\n",
    "    random_state=42\n",
    ")\n",
    "model_xgb.fit(X_train_scaled, y_smenn)\n",
    "\n",
    "y_pred = model_xgb.predict(X_test_scaled)\n",
    "print_scores( y_test, y_pred)\n",
    "\n",
    "y_probs = model_xgb.predict_proba(X_test_scaled)[:,1]\n",
    "\n",
    "best_thresh = 0.0\n",
    "best_f1 = 0.0\n",
    "for t in np.arange(0.1, 0.9, 0.05):\n",
    "    y_pred = (y_probs >= t).astype(int)\n",
    "    f1 = f1_score(y_test, y_pred)\n",
    "    if f1 > best_f1:\n",
    "        best_f1 = f1\n",
    "        best_thresh = t\n",
    "\n",
    "print(f\"Best threshold: {best_thresh}, F1: {best_f1}\")"
   ]
  },
  {
   "cell_type": "code",
   "execution_count": 35,
   "id": "94e70802",
   "metadata": {
    "execution": {
     "iopub.execute_input": "2025-05-04T04:44:26.711032Z",
     "iopub.status.busy": "2025-05-04T04:44:26.710658Z",
     "iopub.status.idle": "2025-05-04T04:47:40.030487Z",
     "shell.execute_reply": "2025-05-04T04:47:40.029398Z"
    },
    "papermill": {
     "duration": 193.362185,
     "end_time": "2025-05-04T04:47:40.052548",
     "exception": false,
     "start_time": "2025-05-04T04:44:26.690363",
     "status": "completed"
    },
    "tags": []
   },
   "outputs": [
    {
     "name": "stderr",
     "output_type": "stream",
     "text": [
      "[I 2025-05-04 04:44:26,717] A new study created in memory with name: no-name-da26e945-bbd2-4759-9da0-5c382a9ac93a\n",
      "[I 2025-05-04 04:44:33,277] Trial 0 finished with value: 0.6928047861530382 and parameters: {'learning_rate': 0.19754066062073516, 'max_depth': 8, 'min_child_weight': 4, 'subsample': 0.8255568280724376, 'colsample_bytree': 0.6729765634547814, 'gamma': 2.7724297146775094}. Best is trial 0 with value: 0.6928047861530382.\n",
      "[I 2025-05-04 04:44:40,105] Trial 1 finished with value: 0.6863910716319326 and parameters: {'learning_rate': 0.27927374840541824, 'max_depth': 8, 'min_child_weight': 5, 'subsample': 0.6318377768137683, 'colsample_bytree': 0.571836302706731, 'gamma': 2.3259584534725333}. Best is trial 0 with value: 0.6928047861530382.\n",
      "[I 2025-05-04 04:44:44,290] Trial 2 finished with value: 0.6930149693854566 and parameters: {'learning_rate': 0.2222060901047481, 'max_depth': 3, 'min_child_weight': 7, 'subsample': 0.6135190484313668, 'colsample_bytree': 0.5112287863478933, 'gamma': 0.015830721091456557}. Best is trial 2 with value: 0.6930149693854566.\n",
      "[I 2025-05-04 04:44:57,626] Trial 3 finished with value: 0.6928481040275778 and parameters: {'learning_rate': 0.06422352002196881, 'max_depth': 10, 'min_child_weight': 3, 'subsample': 0.6544391184057712, 'colsample_bytree': 0.9874604533654603, 'gamma': 0.10613752204833626}. Best is trial 2 with value: 0.6930149693854566.\n",
      "[I 2025-05-04 04:45:01,654] Trial 4 finished with value: 0.6911811652035116 and parameters: {'learning_rate': 0.1725833373940526, 'max_depth': 3, 'min_child_weight': 5, 'subsample': 0.8621765014063885, 'colsample_bytree': 0.9573781873335632, 'gamma': 0.12208664130925917}. Best is trial 2 with value: 0.6930149693854566.\n",
      "[I 2025-05-04 04:45:08,884] Trial 5 finished with value: 0.6904515373880159 and parameters: {'learning_rate': 0.21832509635114267, 'max_depth': 9, 'min_child_weight': 5, 'subsample': 0.6942393894521008, 'colsample_bytree': 0.5806760690803111, 'gamma': 2.4008456784712378}. Best is trial 2 with value: 0.6930149693854566.\n",
      "[I 2025-05-04 04:45:13,104] Trial 6 finished with value: 0.6887774778249132 and parameters: {'learning_rate': 0.1435176353977681, 'max_depth': 3, 'min_child_weight': 9, 'subsample': 0.7203600025436168, 'colsample_bytree': 0.7467233867411962, 'gamma': 3.5354822641634627}. Best is trial 2 with value: 0.6930149693854566.\n",
      "[I 2025-05-04 04:45:18,514] Trial 7 finished with value: 0.683260455207983 and parameters: {'learning_rate': 0.2934741033295648, 'max_depth': 5, 'min_child_weight': 8, 'subsample': 0.6074576454126888, 'colsample_bytree': 0.5424338897580738, 'gamma': 0.4426570244536482}. Best is trial 2 with value: 0.6930149693854566.\n",
      "[I 2025-05-04 04:45:26,208] Trial 8 finished with value: 0.6941502435536487 and parameters: {'learning_rate': 0.18714351100000223, 'max_depth': 8, 'min_child_weight': 8, 'subsample': 0.829765841254872, 'colsample_bytree': 0.5650326129843688, 'gamma': 3.737144204780481}. Best is trial 8 with value: 0.6941502435536487.\n",
      "[I 2025-05-04 04:45:32,454] Trial 9 finished with value: 0.6837622124348857 and parameters: {'learning_rate': 0.2200099232629547, 'max_depth': 9, 'min_child_weight': 3, 'subsample': 0.9947265235067366, 'colsample_bytree': 0.6354976313037936, 'gamma': 2.335362351224452}. Best is trial 8 with value: 0.6941502435536487.\n",
      "[I 2025-05-04 04:45:38,541] Trial 10 finished with value: 0.6907760381211708 and parameters: {'learning_rate': 0.10141683142589192, 'max_depth': 6, 'min_child_weight': 1, 'subsample': 0.9623852790743803, 'colsample_bytree': 0.8568157747783048, 'gamma': 4.978624437274555}. Best is trial 8 with value: 0.6941502435536487.\n",
      "[I 2025-05-04 04:45:43,773] Trial 11 finished with value: 0.6857309077890403 and parameters: {'learning_rate': 0.24903625462905926, 'max_depth': 5, 'min_child_weight': 7, 'subsample': 0.5381105513265942, 'colsample_bytree': 0.5007703539828153, 'gamma': 3.9682415365394133}. Best is trial 8 with value: 0.6941502435536487.\n",
      "[I 2025-05-04 04:45:50,390] Trial 12 finished with value: 0.6878513920748437 and parameters: {'learning_rate': 0.13398283943577932, 'max_depth': 7, 'min_child_weight': 10, 'subsample': 0.8021872397218646, 'colsample_bytree': 0.6937659249154615, 'gamma': 1.3142032753357522}. Best is trial 8 with value: 0.6941502435536487.\n",
      "[I 2025-05-04 04:45:57,289] Trial 13 finished with value: 0.6749222395023329 and parameters: {'learning_rate': 0.016869260975483108, 'max_depth': 4, 'min_child_weight': 7, 'subsample': 0.5027970563569439, 'colsample_bytree': 0.5043285947895135, 'gamma': 1.2610579382461382}. Best is trial 8 with value: 0.6941502435536487.\n",
      "[I 2025-05-04 04:46:03,065] Trial 14 finished with value: 0.6926172109463574 and parameters: {'learning_rate': 0.1872130624731842, 'max_depth': 7, 'min_child_weight': 7, 'subsample': 0.8814003110130083, 'colsample_bytree': 0.6254098718726213, 'gamma': 4.163852222833721}. Best is trial 8 with value: 0.6941502435536487.\n",
      "[I 2025-05-04 04:46:09,030] Trial 15 finished with value: 0.690859082137391 and parameters: {'learning_rate': 0.23764725705095235, 'max_depth': 6, 'min_child_weight': 10, 'subsample': 0.7638573859868134, 'colsample_bytree': 0.8338267832765427, 'gamma': 3.1774557015858047}. Best is trial 8 with value: 0.6941502435536487.\n",
      "[I 2025-05-04 04:46:14,178] Trial 16 finished with value: 0.6954192562830896 and parameters: {'learning_rate': 0.11369662210232037, 'max_depth': 5, 'min_child_weight': 8, 'subsample': 0.5821847914294601, 'colsample_bytree': 0.5939422505307831, 'gamma': 1.4857364206799373}. Best is trial 16 with value: 0.6954192562830896.\n",
      "[I 2025-05-04 04:46:19,487] Trial 17 finished with value: 0.6971764024970027 and parameters: {'learning_rate': 0.10046826298406931, 'max_depth': 5, 'min_child_weight': 9, 'subsample': 0.9175887164909864, 'colsample_bytree': 0.7463307195910306, 'gamma': 1.8660914889306346}. Best is trial 17 with value: 0.6971764024970027.\n",
      "[I 2025-05-04 04:46:26,320] Trial 18 finished with value: 0.6906764018212396 and parameters: {'learning_rate': 0.08287558421376857, 'max_depth': 5, 'min_child_weight': 9, 'subsample': 0.9234501146751614, 'colsample_bytree': 0.8231055255671057, 'gamma': 1.5778375600839045}. Best is trial 17 with value: 0.6971764024970027.\n",
      "[I 2025-05-04 04:46:31,158] Trial 19 finished with value: 0.6834260731319555 and parameters: {'learning_rate': 0.04120693198691652, 'max_depth': 4, 'min_child_weight': 9, 'subsample': 0.5567510180900885, 'colsample_bytree': 0.7602984252142826, 'gamma': 1.7830464596523652}. Best is trial 17 with value: 0.6971764024970027.\n",
      "[I 2025-05-04 04:46:35,811] Trial 20 finished with value: 0.6909306655209804 and parameters: {'learning_rate': 0.11802598633345472, 'max_depth': 4, 'min_child_weight': 6, 'subsample': 0.7512681644210675, 'colsample_bytree': 0.7596592610067829, 'gamma': 0.9960891947637383}. Best is trial 17 with value: 0.6971764024970027.\n",
      "[I 2025-05-04 04:46:41,372] Trial 21 finished with value: 0.6937078848341647 and parameters: {'learning_rate': 0.15907596529200424, 'max_depth': 6, 'min_child_weight': 8, 'subsample': 0.9115859323898187, 'colsample_bytree': 0.603933404209158, 'gamma': 3.0205952286570037}. Best is trial 17 with value: 0.6971764024970027.\n",
      "[I 2025-05-04 04:46:48,599] Trial 22 finished with value: 0.6949235202837508 and parameters: {'learning_rate': 0.10358409142110779, 'max_depth': 8, 'min_child_weight': 8, 'subsample': 0.819385956457332, 'colsample_bytree': 0.6561428518094812, 'gamma': 1.9247284888211023}. Best is trial 17 with value: 0.6971764024970027.\n",
      "[I 2025-05-04 04:46:53,689] Trial 23 finished with value: 0.6945039551746869 and parameters: {'learning_rate': 0.09825839656585622, 'max_depth': 5, 'min_child_weight': 10, 'subsample': 0.7873956654066736, 'colsample_bytree': 0.7006902904733581, 'gamma': 1.830090743107354}. Best is trial 17 with value: 0.6971764024970027.\n",
      "[I 2025-05-04 04:47:02,155] Trial 24 finished with value: 0.6935247520547073 and parameters: {'learning_rate': 0.06381541611231922, 'max_depth': 7, 'min_child_weight': 9, 'subsample': 0.8622033654075898, 'colsample_bytree': 0.6449151387139109, 'gamma': 0.9154770677797912}. Best is trial 17 with value: 0.6971764024970027.\n",
      "[I 2025-05-04 04:47:07,910] Trial 25 finished with value: 0.6966160266023342 and parameters: {'learning_rate': 0.12232894648839406, 'max_depth': 6, 'min_child_weight': 6, 'subsample': 0.9212928671369259, 'colsample_bytree': 0.7268186683974333, 'gamma': 1.9309519770068457}. Best is trial 17 with value: 0.6971764024970027.\n",
      "[I 2025-05-04 04:47:13,601] Trial 26 finished with value: 0.698417502594258 and parameters: {'learning_rate': 0.11948643894962536, 'max_depth': 6, 'min_child_weight': 6, 'subsample': 0.9517251139859564, 'colsample_bytree': 0.722870373172751, 'gamma': 0.8377538521424603}. Best is trial 26 with value: 0.698417502594258.\n",
      "[I 2025-05-04 04:47:19,886] Trial 27 finished with value: 0.6988443826570511 and parameters: {'learning_rate': 0.13443377943422463, 'max_depth': 6, 'min_child_weight': 6, 'subsample': 0.9362751341208229, 'colsample_bytree': 0.7988673841651286, 'gamma': 0.6389467023496083}. Best is trial 27 with value: 0.6988443826570511.\n",
      "[I 2025-05-04 04:47:25,560] Trial 28 finished with value: 0.6934126019788232 and parameters: {'learning_rate': 0.14512268104783396, 'max_depth': 6, 'min_child_weight': 4, 'subsample': 0.9898239801583784, 'colsample_bytree': 0.7968945502125011, 'gamma': 0.7699198324466094}. Best is trial 27 with value: 0.6988443826570511.\n",
      "[I 2025-05-04 04:47:33,975] Trial 29 finished with value: 0.693968091459773 and parameters: {'learning_rate': 0.07813980196252547, 'max_depth': 7, 'min_child_weight': 4, 'subsample': 0.948723099103086, 'colsample_bytree': 0.8868087020461192, 'gamma': 0.5608666392899168}. Best is trial 27 with value: 0.6988443826570511.\n"
     ]
    },
    {
     "name": "stdout",
     "output_type": "stream",
     "text": [
      "Best trial:\n",
      "FrozenTrial(number=27, state=1, values=[0.6988443826570511], datetime_start=datetime.datetime(2025, 5, 4, 4, 47, 13, 602027), datetime_complete=datetime.datetime(2025, 5, 4, 4, 47, 19, 885954), params={'learning_rate': 0.13443377943422463, 'max_depth': 6, 'min_child_weight': 6, 'subsample': 0.9362751341208229, 'colsample_bytree': 0.7988673841651286, 'gamma': 0.6389467023496083}, user_attrs={}, system_attrs={}, intermediate_values={}, distributions={'learning_rate': FloatDistribution(high=0.3, log=False, low=0.01, step=None), 'max_depth': IntDistribution(high=10, log=False, low=3, step=1), 'min_child_weight': IntDistribution(high=10, log=False, low=1, step=1), 'subsample': FloatDistribution(high=1.0, log=False, low=0.5, step=None), 'colsample_bytree': FloatDistribution(high=1.0, log=False, low=0.5, step=None), 'gamma': FloatDistribution(high=5.0, log=False, low=0.0, step=None)}, trial_id=27, value=None)\n",
      "Best hyperparameters:\n",
      "learning_rate: 0.13443377943422463\n",
      "max_depth: 6\n",
      "min_child_weight: 6\n",
      "subsample: 0.9362751341208229\n",
      "colsample_bytree: 0.7988673841651286\n",
      "gamma: 0.6389467023496083\n",
      "\n",
      "Classification report with threshold = 0.6000000000000002:\n",
      "              precision    recall  f1-score   support\n",
      "\n",
      "           0       0.93      0.87      0.90     68556\n",
      "           1       0.64      0.77      0.70     20763\n",
      "\n",
      "    accuracy                           0.84     89319\n",
      "   macro avg       0.78      0.82      0.80     89319\n",
      "weighted avg       0.86      0.84      0.85     89319\n",
      "\n"
     ]
    }
   ],
   "source": [
    "import optuna\n",
    "import numpy as np\n",
    "from sklearn.metrics import f1_score\n",
    "from sklearn.model_selection import train_test_split\n",
    "import xgboost as xgb\n",
    "\n",
    "THRESHOLD = best_thresh\n",
    "# SCALE_POS_WEIGHT =  5.300729681724353\n",
    "\n",
    "def objective(trial):\n",
    "    # Thử các tham số\n",
    "    param = {\n",
    "        'n_estimators': 200,\n",
    "        'learning_rate': trial.suggest_float('learning_rate', 0.01, 0.3),\n",
    "        'max_depth': trial.suggest_int('max_depth', 3, 10),\n",
    "        'min_child_weight': trial.suggest_int('min_child_weight', 1, 10),\n",
    "        'subsample': trial.suggest_float('subsample', 0.5, 1.0),\n",
    "        'colsample_bytree': trial.suggest_float('colsample_bytree', 0.5, 1.0),\n",
    "        'gamma': trial.suggest_float('gamma', 0, 5),\n",
    "        # 'scale_pos_weight': SCALE_POS_WEIGHT,\n",
    "        'random_state': 42,\n",
    "        'verbosity': 0,\n",
    "        'n_jobs': -1,\n",
    "        'use_label_encoder': False,\n",
    "        'eval_metric': 'logloss'\n",
    "    }\n",
    "\n",
    "    model = xgb.XGBClassifier(**param)\n",
    "    model.fit(X_train_scaled, y_smenn)\n",
    "\n",
    "    # Dự đoán xác suất\n",
    "    y_probs = model.predict_proba(X_test_scaled)[:, 1]\n",
    "    y_pred = (y_probs >= THRESHOLD).astype(int)\n",
    "\n",
    "    # Trả về F1-score của lớp mưa (label=1)\n",
    "    return f1_score(y_test, y_pred, pos_label=1)\n",
    "\n",
    "\n",
    "# Tối ưu với Optuna\n",
    "study = optuna.create_study(direction='maximize')\n",
    "study.optimize(objective, n_trials=30)  # Có thể tăng trials lên 100+\n",
    "\n",
    "# In kết quả tốt nhất\n",
    "print(\"Best trial:\")\n",
    "print(study.best_trial)\n",
    "print(\"Best hyperparameters:\")\n",
    "for key, value in study.best_trial.params.items():\n",
    "    print(f\"{key}: {value}\")\n",
    "\n",
    "# Huấn luyện lại với tham số tốt nhất\n",
    "best_params = study.best_trial.params\n",
    "best_params.update({\n",
    "    'n_estimators': 200,\n",
    "    # 'scale_pos_weight': SCALE_POS_WEIGHT,\n",
    "    'random_state': 42,\n",
    "    'use_label_encoder': False,\n",
    "    'eval_metric': 'logloss'\n",
    "})\n",
    "\n",
    "best_model = xgb.XGBClassifier(**best_params)\n",
    "best_model.fit(X_train_scaled, y_smenn)\n",
    "\n",
    "# Dự đoán với threshold \n",
    "y_probs = best_model.predict_proba(X_test_scaled)[:, 1]\n",
    "y_pred_thresh = (y_probs >= THRESHOLD).astype(int)\n",
    "\n",
    "# In kết quả\n",
    "from sklearn.metrics import classification_report\n",
    "print(f\"\\nClassification report with threshold = {THRESHOLD}:\")\n",
    "print(classification_report(y_test, y_pred_thresh))"
   ]
  },
  {
   "cell_type": "code",
   "execution_count": 36,
   "id": "79b53cc1",
   "metadata": {
    "execution": {
     "iopub.execute_input": "2025-05-04T04:47:40.098320Z",
     "iopub.status.busy": "2025-05-04T04:47:40.097926Z",
     "iopub.status.idle": "2025-05-04T04:47:45.324861Z",
     "shell.execute_reply": "2025-05-04T04:47:45.323518Z"
    },
    "papermill": {
     "duration": 5.252703,
     "end_time": "2025-05-04T04:47:45.326860",
     "exception": false,
     "start_time": "2025-05-04T04:47:40.074157",
     "status": "completed"
    },
    "tags": []
   },
   "outputs": [
    {
     "name": "stdout",
     "output_type": "stream",
     "text": [
      "              precision    recall  f1-score   support\n",
      "\n",
      "           0       0.95      0.74      0.84     68556\n",
      "           1       0.51      0.88      0.64     20763\n",
      "\n",
      "    accuracy                           0.77     89319\n",
      "   macro avg       0.73      0.81      0.74     89319\n",
      "weighted avg       0.85      0.77      0.79     89319\n",
      "\n",
      "Best threshold: 0.7000000000000002, F1: 0.6646413570933409\n"
     ]
    }
   ],
   "source": [
    "import xgboost as xgb\n",
    "\n",
    "model_xgb = xgb.XGBClassifier(\n",
    "    n_estimators=200,\n",
    "    max_depth=6,\n",
    "    learning_rate=0.1,\n",
    "    subsample=0.8,\n",
    "    colsample_bytree=0.8,\n",
    "    # scale_pos_weight= 5.300729681724353,\n",
    "    random_state=42\n",
    ")\n",
    "model_xgb.fit(X_train_scaled[top_features], y_smenn)\n",
    "\n",
    "\n",
    "y_pred = model_xgb.predict(X_test_selected)\n",
    "print_scores(y_test, y_pred)\n",
    "\n",
    "y_probs = model_xgb.predict_proba(X_test_selected)[:,1]\n",
    "\n",
    "best_thresh = 0.0\n",
    "best_f1 = 0.0\n",
    "for t in np.arange(0.1, 0.9, 0.05):\n",
    "    y_pred = (y_probs >= t).astype(int)\n",
    "    f1 = f1_score(y_test, y_pred)\n",
    "    if f1 > best_f1:\n",
    "        best_f1 = f1\n",
    "        best_thresh = t\n",
    "\n",
    "print(f\"Best threshold: {best_thresh}, F1: {best_f1}\")"
   ]
  },
  {
   "cell_type": "code",
   "execution_count": 37,
   "id": "e8d31985",
   "metadata": {
    "execution": {
     "iopub.execute_input": "2025-05-04T04:47:45.378175Z",
     "iopub.status.busy": "2025-05-04T04:47:45.377564Z",
     "iopub.status.idle": "2025-05-04T04:50:31.025115Z",
     "shell.execute_reply": "2025-05-04T04:50:31.024032Z"
    },
    "papermill": {
     "duration": 165.678397,
     "end_time": "2025-05-04T04:50:31.026749",
     "exception": false,
     "start_time": "2025-05-04T04:47:45.348352",
     "status": "completed"
    },
    "tags": []
   },
   "outputs": [
    {
     "name": "stderr",
     "output_type": "stream",
     "text": [
      "[I 2025-05-04 04:47:45,388] A new study created in memory with name: no-name-5f7d0ee0-d3a4-49c6-8cb9-e52010e2d5b9\n",
      "[I 2025-05-04 04:47:48,506] Trial 0 finished with value: 0.661296540529573 and parameters: {'learning_rate': 0.16952674463844328, 'max_depth': 3, 'min_child_weight': 8, 'subsample': 0.5656453833446875, 'colsample_bytree': 0.9610105251593003, 'gamma': 4.187022556760638}. Best is trial 0 with value: 0.661296540529573.\n",
      "[I 2025-05-04 04:47:52,559] Trial 1 finished with value: 0.6433575078292401 and parameters: {'learning_rate': 0.23828730355541147, 'max_depth': 9, 'min_child_weight': 4, 'subsample': 0.6885683115125845, 'colsample_bytree': 0.5038060093507879, 'gamma': 4.545312499685777}. Best is trial 0 with value: 0.661296540529573.\n",
      "[I 2025-05-04 04:47:56,736] Trial 2 finished with value: 0.6713526898039059 and parameters: {'learning_rate': 0.05623938745409255, 'max_depth': 5, 'min_child_weight': 5, 'subsample': 0.6647102838581731, 'colsample_bytree': 0.7526771736276772, 'gamma': 0.16174616232472738}. Best is trial 2 with value: 0.6713526898039059.\n",
      "[I 2025-05-04 04:48:04,482] Trial 3 finished with value: 0.6795374560080443 and parameters: {'learning_rate': 0.017085245083696656, 'max_depth': 8, 'min_child_weight': 7, 'subsample': 0.8184791209571431, 'colsample_bytree': 0.587192867952784, 'gamma': 2.3173639701847204}. Best is trial 3 with value: 0.6795374560080443.\n",
      "[I 2025-05-04 04:48:09,785] Trial 4 finished with value: 0.6384130575307045 and parameters: {'learning_rate': 0.20409104656766852, 'max_depth': 9, 'min_child_weight': 7, 'subsample': 0.9604201934519291, 'colsample_bytree': 0.5417198474833078, 'gamma': 1.960519964459848}. Best is trial 3 with value: 0.6795374560080443.\n",
      "[I 2025-05-04 04:48:16,161] Trial 5 finished with value: 0.663780082569731 and parameters: {'learning_rate': 0.03897919952458854, 'max_depth': 8, 'min_child_weight': 9, 'subsample': 0.8291566462641617, 'colsample_bytree': 0.9974598860340009, 'gamma': 1.4063785969226865}. Best is trial 3 with value: 0.6795374560080443.\n",
      "[I 2025-05-04 04:48:21,324] Trial 6 finished with value: 0.6327406246132267 and parameters: {'learning_rate': 0.21275422321087736, 'max_depth': 9, 'min_child_weight': 10, 'subsample': 0.8167104456555148, 'colsample_bytree': 0.5469354182575976, 'gamma': 2.245144735311752}. Best is trial 3 with value: 0.6795374560080443.\n",
      "[I 2025-05-04 04:48:25,054] Trial 7 finished with value: 0.6532875952591254 and parameters: {'learning_rate': 0.13906641099008926, 'max_depth': 5, 'min_child_weight': 10, 'subsample': 0.9351140860006456, 'colsample_bytree': 0.7949539404430191, 'gamma': 3.9326227086937755}. Best is trial 3 with value: 0.6795374560080443.\n",
      "[I 2025-05-04 04:48:28,970] Trial 8 finished with value: 0.6724695548013576 and parameters: {'learning_rate': 0.06507128479155916, 'max_depth': 5, 'min_child_weight': 6, 'subsample': 0.8764616540276504, 'colsample_bytree': 0.5149809796049278, 'gamma': 3.6776026322533055}. Best is trial 3 with value: 0.6795374560080443.\n",
      "[I 2025-05-04 04:48:35,349] Trial 9 finished with value: 0.6520555913330702 and parameters: {'learning_rate': 0.16690069453567016, 'max_depth': 7, 'min_child_weight': 9, 'subsample': 0.7456652939787336, 'colsample_bytree': 0.5404395732572211, 'gamma': 1.7678250229921426}. Best is trial 3 with value: 0.6795374560080443.\n",
      "[I 2025-05-04 04:48:42,119] Trial 10 finished with value: 0.6443437806072478 and parameters: {'learning_rate': 0.10423162685661438, 'max_depth': 10, 'min_child_weight': 2, 'subsample': 0.50126145355274, 'colsample_bytree': 0.6552323980547815, 'gamma': 3.0465159484161237}. Best is trial 3 with value: 0.6795374560080443.\n",
      "[I 2025-05-04 04:48:47,181] Trial 11 finished with value: 0.6792172305714056 and parameters: {'learning_rate': 0.014755941719155258, 'max_depth': 6, 'min_child_weight': 6, 'subsample': 0.8396773170190528, 'colsample_bytree': 0.6554133204429486, 'gamma': 3.103532635690576}. Best is trial 3 with value: 0.6795374560080443.\n",
      "[I 2025-05-04 04:48:52,756] Trial 12 finished with value: 0.6792773129622893 and parameters: {'learning_rate': 0.014302842499882996, 'max_depth': 7, 'min_child_weight': 3, 'subsample': 0.7836543903777577, 'colsample_bytree': 0.641692723345595, 'gamma': 3.135621072703128}. Best is trial 3 with value: 0.6795374560080443.\n",
      "[I 2025-05-04 04:48:57,544] Trial 13 finished with value: 0.630810446021391 and parameters: {'learning_rate': 0.28664687822214074, 'max_depth': 7, 'min_child_weight': 1, 'subsample': 0.7442712885399758, 'colsample_bytree': 0.641128375772199, 'gamma': 2.8044603846152723}. Best is trial 3 with value: 0.6795374560080443.\n",
      "[I 2025-05-04 04:49:02,619] Trial 14 finished with value: 0.6602113037234588 and parameters: {'learning_rate': 0.09517158563268055, 'max_depth': 7, 'min_child_weight': 3, 'subsample': 0.6718245581104486, 'colsample_bytree': 0.6415250022725518, 'gamma': 0.5669685510082805}. Best is trial 3 with value: 0.6795374560080443.\n",
      "[I 2025-05-04 04:49:10,531] Trial 15 finished with value: 0.6727319989602286 and parameters: {'learning_rate': 0.02306375726053994, 'max_depth': 8, 'min_child_weight': 4, 'subsample': 0.9129468880810411, 'colsample_bytree': 0.8520817025353155, 'gamma': 4.9752536240637095}. Best is trial 3 with value: 0.6795374560080443.\n",
      "[I 2025-05-04 04:49:13,516] Trial 16 finished with value: 0.6694069521569866 and parameters: {'learning_rate': 0.0924551951364856, 'max_depth': 3, 'min_child_weight': 1, 'subsample': 0.7715621068513026, 'colsample_bytree': 0.7121387968317479, 'gamma': 1.1802696158734187}. Best is trial 3 with value: 0.6795374560080443.\n",
      "[I 2025-05-04 04:49:18,121] Trial 17 finished with value: 0.6607164942078575 and parameters: {'learning_rate': 0.12598249317670346, 'max_depth': 6, 'min_child_weight': 3, 'subsample': 0.6119590184180501, 'colsample_bytree': 0.5907313998886196, 'gamma': 2.5497741854817266}. Best is trial 3 with value: 0.6795374560080443.\n",
      "[I 2025-05-04 04:49:23,761] Trial 18 finished with value: 0.663308350739239 and parameters: {'learning_rate': 0.06391647136209426, 'max_depth': 8, 'min_child_weight': 7, 'subsample': 0.7823628528279323, 'colsample_bytree': 0.5979099540696913, 'gamma': 3.431680215049402}. Best is trial 3 with value: 0.6795374560080443.\n",
      "[I 2025-05-04 04:49:33,449] Trial 19 finished with value: 0.675836431226766 and parameters: {'learning_rate': 0.011148376989499663, 'max_depth': 10, 'min_child_weight': 5, 'subsample': 0.8874488825564366, 'colsample_bytree': 0.719177097354386, 'gamma': 0.9962682418571904}. Best is trial 3 with value: 0.6795374560080443.\n",
      "[I 2025-05-04 04:49:39,760] Trial 20 finished with value: 0.6664645729760317 and parameters: {'learning_rate': 0.04791691898380618, 'max_depth': 6, 'min_child_weight': 7, 'subsample': 0.7223702772793782, 'colsample_bytree': 0.8358355459055573, 'gamma': 2.371533145854876}. Best is trial 3 with value: 0.6795374560080443.\n",
      "[I 2025-05-04 04:49:44,798] Trial 21 finished with value: 0.6801403508771929 and parameters: {'learning_rate': 0.015927792869107955, 'max_depth': 6, 'min_child_weight': 6, 'subsample': 0.8380601003741719, 'colsample_bytree': 0.6786766947584587, 'gamma': 3.27733769790871}. Best is trial 21 with value: 0.6801403508771929.\n",
      "[I 2025-05-04 04:49:48,403] Trial 22 finished with value: 0.6741710606868495 and parameters: {'learning_rate': 0.037740684237071, 'max_depth': 4, 'min_child_weight': 4, 'subsample': 0.8577318980976572, 'colsample_bytree': 0.6002056357256135, 'gamma': 3.4042991195149876}. Best is trial 21 with value: 0.6801403508771929.\n",
      "[I 2025-05-04 04:49:53,390] Trial 23 finished with value: 0.6643717026867373 and parameters: {'learning_rate': 0.06945961032335633, 'max_depth': 7, 'min_child_weight': 8, 'subsample': 0.7948564006102822, 'colsample_bytree': 0.6963779990156237, 'gamma': 2.961965155452562}. Best is trial 21 with value: 0.6801403508771929.\n",
      "[I 2025-05-04 04:50:00,426] Trial 24 finished with value: 0.6773417440003235 and parameters: {'learning_rate': 0.011837209610041305, 'max_depth': 8, 'min_child_weight': 6, 'subsample': 0.9820130270566724, 'colsample_bytree': 0.7664554970494487, 'gamma': 1.8746278042912747}. Best is trial 21 with value: 0.6801403508771929.\n",
      "[I 2025-05-04 04:50:04,887] Trial 25 finished with value: 0.6646587554966568 and parameters: {'learning_rate': 0.08435114528980614, 'max_depth': 6, 'min_child_weight': 5, 'subsample': 0.8997137705160098, 'colsample_bytree': 0.6808187948981295, 'gamma': 3.439854654321752}. Best is trial 21 with value: 0.6801403508771929.\n",
      "[I 2025-05-04 04:50:08,612] Trial 26 finished with value: 0.6733577360569921 and parameters: {'learning_rate': 0.03514456238830538, 'max_depth': 4, 'min_child_weight': 3, 'subsample': 0.8131288295635157, 'colsample_bytree': 0.5996910298190746, 'gamma': 2.5222758939363414}. Best is trial 21 with value: 0.6801403508771929.\n",
      "[I 2025-05-04 04:50:13,895] Trial 27 finished with value: 0.6303005266962718 and parameters: {'learning_rate': 0.2978629833662069, 'max_depth': 7, 'min_child_weight': 8, 'subsample': 0.7169989454731249, 'colsample_bytree': 0.5810743484587264, 'gamma': 3.8658661203406988}. Best is trial 21 with value: 0.6801403508771929.\n",
      "[I 2025-05-04 04:50:19,434] Trial 28 finished with value: 0.6580034250025184 and parameters: {'learning_rate': 0.11178223689616006, 'max_depth': 8, 'min_child_weight': 2, 'subsample': 0.852918314186312, 'colsample_bytree': 0.6786452275724325, 'gamma': 4.375185884042649}. Best is trial 21 with value: 0.6801403508771929.\n",
      "[I 2025-05-04 04:50:26,109] Trial 29 finished with value: 0.6583752637558837 and parameters: {'learning_rate': 0.07724265470722466, 'max_depth': 9, 'min_child_weight': 7, 'subsample': 0.777198198330243, 'colsample_bytree': 0.8826751595685228, 'gamma': 2.846600963506905}. Best is trial 21 with value: 0.6801403508771929.\n"
     ]
    },
    {
     "name": "stdout",
     "output_type": "stream",
     "text": [
      "Best trial:\n",
      "FrozenTrial(number=21, state=1, values=[0.6801403508771929], datetime_start=datetime.datetime(2025, 5, 4, 4, 49, 39, 761428), datetime_complete=datetime.datetime(2025, 5, 4, 4, 49, 44, 798035), params={'learning_rate': 0.015927792869107955, 'max_depth': 6, 'min_child_weight': 6, 'subsample': 0.8380601003741719, 'colsample_bytree': 0.6786766947584587, 'gamma': 3.27733769790871}, user_attrs={}, system_attrs={}, intermediate_values={}, distributions={'learning_rate': FloatDistribution(high=0.3, log=False, low=0.01, step=None), 'max_depth': IntDistribution(high=10, log=False, low=3, step=1), 'min_child_weight': IntDistribution(high=10, log=False, low=1, step=1), 'subsample': FloatDistribution(high=1.0, log=False, low=0.5, step=None), 'colsample_bytree': FloatDistribution(high=1.0, log=False, low=0.5, step=None), 'gamma': FloatDistribution(high=5.0, log=False, low=0.0, step=None)}, trial_id=21, value=None)\n",
      "Best hyperparameters:\n",
      "learning_rate: 0.015927792869107955\n",
      "max_depth: 6\n",
      "min_child_weight: 6\n",
      "subsample: 0.8380601003741719\n",
      "colsample_bytree: 0.6786766947584587\n",
      "gamma: 3.27733769790871\n",
      "\n",
      "Classification report with threshold = 0.7000000000000002:\n",
      "              precision    recall  f1-score   support\n",
      "\n",
      "           0       0.94      0.82      0.88     68556\n",
      "           1       0.58      0.82      0.68     20763\n",
      "\n",
      "    accuracy                           0.82     89319\n",
      "   macro avg       0.76      0.82      0.78     89319\n",
      "weighted avg       0.85      0.82      0.83     89319\n",
      "\n"
     ]
    }
   ],
   "source": [
    "import optuna\n",
    "import numpy as np\n",
    "from sklearn.metrics import f1_score\n",
    "from sklearn.model_selection import train_test_split\n",
    "import xgboost as xgb\n",
    "\n",
    "THRESHOLD = best_thresh\n",
    "# SCALE_POS_WEIGHT =  5.300729681724353\n",
    "\n",
    "def objective(trial):\n",
    "    # Thử các tham số\n",
    "    param = {\n",
    "        'n_estimators': 200,\n",
    "        'learning_rate': trial.suggest_float('learning_rate', 0.01, 0.3),\n",
    "        'max_depth': trial.suggest_int('max_depth', 3, 10),\n",
    "        'min_child_weight': trial.suggest_int('min_child_weight', 1, 10),\n",
    "        'subsample': trial.suggest_float('subsample', 0.5, 1.0),\n",
    "        'colsample_bytree': trial.suggest_float('colsample_bytree', 0.5, 1.0),\n",
    "        'gamma': trial.suggest_float('gamma', 0, 5),\n",
    "        # 'scale_pos_weight': SCALE_POS_WEIGHT,\n",
    "        'random_state': 42,\n",
    "        'verbosity': 0,\n",
    "        'n_jobs': -1,\n",
    "        'use_label_encoder': False,\n",
    "        'eval_metric': 'logloss'\n",
    "    }\n",
    "\n",
    "    model = xgb.XGBClassifier(**param)\n",
    "    model.fit(X_train_scaled[top_features], y_smenn)\n",
    "\n",
    "    # Dự đoán xác suất\n",
    "    y_probs = model.predict_proba(X_test_selected)[:, 1]\n",
    "    y_pred = (y_probs >= THRESHOLD).astype(int)\n",
    "\n",
    "    # Trả về F1-score của lớp mưa (label=1)\n",
    "    return f1_score(y_test, y_pred, pos_label=1)\n",
    "\n",
    "\n",
    "# Tối ưu với Optuna\n",
    "study = optuna.create_study(direction='maximize')\n",
    "study.optimize(objective, n_trials=30)  # Có thể tăng trials lên 100+\n",
    "\n",
    "# In kết quả tốt nhất\n",
    "print(\"Best trial:\")\n",
    "print(study.best_trial)\n",
    "print(\"Best hyperparameters:\")\n",
    "for key, value in study.best_trial.params.items():\n",
    "    print(f\"{key}: {value}\")\n",
    "\n",
    "# Huấn luyện lại với tham số tốt nhất\n",
    "best_params = study.best_trial.params\n",
    "best_params.update({\n",
    "    'n_estimators': 200,\n",
    "    # 'scale_pos_weight': SCALE_POS_WEIGHT,\n",
    "    'random_state': 42,\n",
    "    'use_label_encoder': False,\n",
    "    'eval_metric': 'logloss'\n",
    "})\n",
    "\n",
    "best_model = xgb.XGBClassifier(**best_params)\n",
    "best_model.fit(X_train_scaled[top_features], y_smenn)\n",
    "\n",
    "# Dự đoán với threshold\n",
    "y_probs = best_model.predict_proba(X_test_selected)[:, 1]\n",
    "y_pred_thresh = (y_probs >= THRESHOLD).astype(int)\n",
    "\n",
    "# In kết quả\n",
    "from sklearn.metrics import classification_report\n",
    "print(f\"\\nClassification report with threshold = {THRESHOLD}:\")\n",
    "print(classification_report(y_test, y_pred_thresh))"
   ]
  },
  {
   "cell_type": "markdown",
   "id": "af140cba",
   "metadata": {
    "papermill": {
     "duration": 0.022983,
     "end_time": "2025-05-04T04:50:31.072516",
     "exception": false,
     "start_time": "2025-05-04T04:50:31.049533",
     "status": "completed"
    },
    "tags": []
   },
   "source": [
    "# 7. Kết luận"
   ]
  },
  {
   "cell_type": "markdown",
   "id": "53fc9ce7",
   "metadata": {
    "papermill": {
     "duration": 0.023196,
     "end_time": "2025-05-04T04:50:31.118392",
     "exception": false,
     "start_time": "2025-05-04T04:50:31.095196",
     "status": "completed"
    },
    "tags": []
   },
   "source": [
    "Mô hình XGBoost ban đầu (không SMOTE hay SMOTE ENN) là tốt nhất."
   ]
  }
 ],
 "metadata": {
  "kaggle": {
   "accelerator": "none",
   "dataSources": [
    {
     "datasetId": 6979951,
     "sourceId": 11182321,
     "sourceType": "datasetVersion"
    },
    {
     "datasetId": 6988906,
     "sourceId": 11449400,
     "sourceType": "datasetVersion"
    }
   ],
   "dockerImageVersionId": 31012,
   "isGpuEnabled": false,
   "isInternetEnabled": true,
   "language": "python",
   "sourceType": "notebook"
  },
  "kernelspec": {
   "display_name": "Python 3",
   "language": "python",
   "name": "python3"
  },
  "language_info": {
   "codemirror_mode": {
    "name": "ipython",
    "version": 3
   },
   "file_extension": ".py",
   "mimetype": "text/x-python",
   "name": "python",
   "nbconvert_exporter": "python",
   "pygments_lexer": "ipython3",
   "version": "3.11.11"
  },
  "papermill": {
   "default_parameters": {},
   "duration": 1913.785719,
   "end_time": "2025-05-04T04:50:32.066131",
   "environment_variables": {},
   "exception": null,
   "input_path": "__notebook__.ipynb",
   "output_path": "__notebook__.ipynb",
   "parameters": {},
   "start_time": "2025-05-04T04:18:38.280412",
   "version": "2.6.0"
  }
 },
 "nbformat": 4,
 "nbformat_minor": 5
}
