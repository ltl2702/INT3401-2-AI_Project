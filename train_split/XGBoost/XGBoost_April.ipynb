{
 "cells": [
  {
   "cell_type": "code",
   "execution_count": 1,
   "id": "2006ca88",
   "metadata": {
    "_cell_guid": "b1076dfc-b9ad-4769-8c92-a6c4dae69d19",
    "_uuid": "8f2839f25d086af736a60e9eeb907d3b93b6e0e5",
    "execution": {
     "iopub.execute_input": "2025-05-04T04:21:28.754281Z",
     "iopub.status.busy": "2025-05-04T04:21:28.753980Z",
     "iopub.status.idle": "2025-05-04T04:21:41.362461Z",
     "shell.execute_reply": "2025-05-04T04:21:41.361309Z"
    },
    "papermill": {
     "duration": 12.620488,
     "end_time": "2025-05-04T04:21:41.364296",
     "exception": false,
     "start_time": "2025-05-04T04:21:28.743808",
     "status": "completed"
    },
    "tags": []
   },
   "outputs": [
    {
     "name": "stdout",
     "output_type": "stream",
     "text": [
      "Requirement already satisfied: xgboost in /usr/local/lib/python3.11/dist-packages (2.0.3)\r\n",
      "Requirement already satisfied: numpy in /usr/local/lib/python3.11/dist-packages (from xgboost) (1.26.4)\r\n",
      "Requirement already satisfied: scipy in /usr/local/lib/python3.11/dist-packages (from xgboost) (1.15.2)\r\n",
      "Requirement already satisfied: mkl_fft in /usr/local/lib/python3.11/dist-packages (from numpy->xgboost) (1.3.8)\r\n",
      "Requirement already satisfied: mkl_random in /usr/local/lib/python3.11/dist-packages (from numpy->xgboost) (1.2.4)\r\n",
      "Requirement already satisfied: mkl_umath in /usr/local/lib/python3.11/dist-packages (from numpy->xgboost) (0.1.1)\r\n",
      "Requirement already satisfied: mkl in /usr/local/lib/python3.11/dist-packages (from numpy->xgboost) (2025.1.0)\r\n",
      "Requirement already satisfied: tbb4py in /usr/local/lib/python3.11/dist-packages (from numpy->xgboost) (2022.1.0)\r\n",
      "Requirement already satisfied: mkl-service in /usr/local/lib/python3.11/dist-packages (from numpy->xgboost) (2.4.1)\r\n",
      "Requirement already satisfied: intel-openmp<2026,>=2024 in /usr/local/lib/python3.11/dist-packages (from mkl->numpy->xgboost) (2024.2.0)\r\n",
      "Requirement already satisfied: tbb==2022.* in /usr/local/lib/python3.11/dist-packages (from mkl->numpy->xgboost) (2022.1.0)\r\n",
      "Requirement already satisfied: tcmlib==1.* in /usr/local/lib/python3.11/dist-packages (from tbb==2022.*->mkl->numpy->xgboost) (1.2.0)\r\n",
      "Requirement already satisfied: intel-cmplr-lib-rt in /usr/local/lib/python3.11/dist-packages (from mkl_umath->numpy->xgboost) (2024.2.0)\r\n",
      "Requirement already satisfied: intel-cmplr-lib-ur==2024.2.0 in /usr/local/lib/python3.11/dist-packages (from intel-openmp<2026,>=2024->mkl->numpy->xgboost) (2024.2.0)\r\n",
      "Requirement already satisfied: scikit-learn==1.2.2 in /usr/local/lib/python3.11/dist-packages (1.2.2)\r\n",
      "Collecting imbalanced-learn==0.10.1\r\n",
      "  Downloading imbalanced_learn-0.10.1-py3-none-any.whl.metadata (8.2 kB)\r\n",
      "Requirement already satisfied: numpy>=1.17.3 in /usr/local/lib/python3.11/dist-packages (from scikit-learn==1.2.2) (1.26.4)\r\n",
      "Requirement already satisfied: scipy>=1.3.2 in /usr/local/lib/python3.11/dist-packages (from scikit-learn==1.2.2) (1.15.2)\r\n",
      "Requirement already satisfied: joblib>=1.1.1 in /usr/local/lib/python3.11/dist-packages (from scikit-learn==1.2.2) (1.4.2)\r\n",
      "Requirement already satisfied: threadpoolctl>=2.0.0 in /usr/local/lib/python3.11/dist-packages (from scikit-learn==1.2.2) (3.6.0)\r\n",
      "Requirement already satisfied: mkl_fft in /usr/local/lib/python3.11/dist-packages (from numpy>=1.17.3->scikit-learn==1.2.2) (1.3.8)\r\n",
      "Requirement already satisfied: mkl_random in /usr/local/lib/python3.11/dist-packages (from numpy>=1.17.3->scikit-learn==1.2.2) (1.2.4)\r\n",
      "Requirement already satisfied: mkl_umath in /usr/local/lib/python3.11/dist-packages (from numpy>=1.17.3->scikit-learn==1.2.2) (0.1.1)\r\n",
      "Requirement already satisfied: mkl in /usr/local/lib/python3.11/dist-packages (from numpy>=1.17.3->scikit-learn==1.2.2) (2025.1.0)\r\n",
      "Requirement already satisfied: tbb4py in /usr/local/lib/python3.11/dist-packages (from numpy>=1.17.3->scikit-learn==1.2.2) (2022.1.0)\r\n",
      "Requirement already satisfied: mkl-service in /usr/local/lib/python3.11/dist-packages (from numpy>=1.17.3->scikit-learn==1.2.2) (2.4.1)\r\n",
      "Requirement already satisfied: intel-openmp<2026,>=2024 in /usr/local/lib/python3.11/dist-packages (from mkl->numpy>=1.17.3->scikit-learn==1.2.2) (2024.2.0)\r\n",
      "Requirement already satisfied: tbb==2022.* in /usr/local/lib/python3.11/dist-packages (from mkl->numpy>=1.17.3->scikit-learn==1.2.2) (2022.1.0)\r\n",
      "Requirement already satisfied: tcmlib==1.* in /usr/local/lib/python3.11/dist-packages (from tbb==2022.*->mkl->numpy>=1.17.3->scikit-learn==1.2.2) (1.2.0)\r\n",
      "Requirement already satisfied: intel-cmplr-lib-rt in /usr/local/lib/python3.11/dist-packages (from mkl_umath->numpy>=1.17.3->scikit-learn==1.2.2) (2024.2.0)\r\n",
      "Requirement already satisfied: intel-cmplr-lib-ur==2024.2.0 in /usr/local/lib/python3.11/dist-packages (from intel-openmp<2026,>=2024->mkl->numpy>=1.17.3->scikit-learn==1.2.2) (2024.2.0)\r\n",
      "Downloading imbalanced_learn-0.10.1-py3-none-any.whl (226 kB)\r\n",
      "\u001b[2K   \u001b[90m━━━━━━━━━━━━━━━━━━━━━━━━━━━━━━━━━━━━━━━━\u001b[0m \u001b[32m226.0/226.0 kB\u001b[0m \u001b[31m5.0 MB/s\u001b[0m eta \u001b[36m0:00:00\u001b[0m\r\n",
      "\u001b[?25hInstalling collected packages: imbalanced-learn\r\n",
      "  Attempting uninstall: imbalanced-learn\r\n",
      "    Found existing installation: imbalanced-learn 0.13.0\r\n",
      "    Uninstalling imbalanced-learn-0.13.0:\r\n",
      "      Successfully uninstalled imbalanced-learn-0.13.0\r\n",
      "Successfully installed imbalanced-learn-0.10.1\r\n"
     ]
    }
   ],
   "source": [
    "import pandas as pd\n",
    "import numpy as np\n",
    "from sklearn.model_selection import train_test_split\n",
    "from sklearn.base import BaseEstimator, TransformerMixin\n",
    "from sklearn.pipeline import Pipeline\n",
    "from sklearn.preprocessing import MinMaxScaler\n",
    "from sklearn.preprocessing import StandardScaler\n",
    "import matplotlib.pyplot as plt\n",
    "import matplotlib.gridspec as gridspec\n",
    "import seaborn as sns\n",
    "from sklearn.decomposition import PCA\n",
    "from sklearn.metrics import classification_report\n",
    "from sklearn.linear_model import LogisticRegression\n",
    "from sklearn.metrics import accuracy_score, precision_score, recall_score, f1_score\n",
    "# Cài đặt \n",
    "!pip install xgboost\n",
    "!pip install scikit-learn==1.2.2 imbalanced-learn==0.10.1\n",
    "import warnings\n",
    "warnings.simplefilter('ignore', FutureWarning)"
   ]
  },
  {
   "cell_type": "code",
   "execution_count": 2,
   "id": "d1c18b89",
   "metadata": {
    "execution": {
     "iopub.execute_input": "2025-05-04T04:21:41.383547Z",
     "iopub.status.busy": "2025-05-04T04:21:41.382835Z",
     "iopub.status.idle": "2025-05-04T04:21:44.811371Z",
     "shell.execute_reply": "2025-05-04T04:21:44.810540Z"
    },
    "papermill": {
     "duration": 3.439772,
     "end_time": "2025-05-04T04:21:44.813068",
     "exception": false,
     "start_time": "2025-05-04T04:21:41.373296",
     "status": "completed"
    },
    "tags": []
   },
   "outputs": [],
   "source": [
    "import pandas as pd\n",
    "\n",
    "data_filled = pd.read_csv('/kaggle/input/clean-aws-month/final_data/filled_data_april.csv')"
   ]
  },
  {
   "cell_type": "markdown",
   "id": "da1a262a",
   "metadata": {
    "papermill": {
     "duration": 0.008142,
     "end_time": "2025-05-04T04:21:44.829934",
     "exception": false,
     "start_time": "2025-05-04T04:21:44.821792",
     "status": "completed"
    },
    "tags": []
   },
   "source": [
    "# 1. Xử lý dữ liệu bị thiếu"
   ]
  },
  {
   "cell_type": "code",
   "execution_count": 3,
   "id": "5499ff65",
   "metadata": {
    "execution": {
     "iopub.execute_input": "2025-05-04T04:21:44.848542Z",
     "iopub.status.busy": "2025-05-04T04:21:44.847644Z",
     "iopub.status.idle": "2025-05-04T04:21:44.852146Z",
     "shell.execute_reply": "2025-05-04T04:21:44.851342Z"
    },
    "papermill": {
     "duration": 0.015219,
     "end_time": "2025-05-04T04:21:44.853438",
     "exception": false,
     "start_time": "2025-05-04T04:21:44.838219",
     "status": "completed"
    },
    "tags": []
   },
   "outputs": [],
   "source": [
    "# df_cleaned = data.copy()\n",
    "# df_cleaned = df_cleaned.drop(columns=['B04B', 'B05B', 'B06B', 'VSB', 'CIN'])\n",
    "\n",
    "# df_cleaned = df_cleaned[~((df_cleaned['AWS'] == -np.inf) | (df_cleaned['AWS'].isnull()))]\n",
    "# df_cleaned = df_cleaned[~((df_cleaned['SLHF'] == 9999) | (df_cleaned['SSHF'] == 9999))]"
   ]
  },
  {
   "cell_type": "code",
   "execution_count": 4,
   "id": "8004fbde",
   "metadata": {
    "execution": {
     "iopub.execute_input": "2025-05-04T04:21:44.872488Z",
     "iopub.status.busy": "2025-05-04T04:21:44.871642Z",
     "iopub.status.idle": "2025-05-04T04:21:44.876209Z",
     "shell.execute_reply": "2025-05-04T04:21:44.875310Z"
    },
    "papermill": {
     "duration": 0.016014,
     "end_time": "2025-05-04T04:21:44.877829",
     "exception": false,
     "start_time": "2025-05-04T04:21:44.861815",
     "status": "completed"
    },
    "tags": []
   },
   "outputs": [],
   "source": [
    "# data_filled = df_cleaned.fillna(df_cleaned.median(numeric_only=True))"
   ]
  },
  {
   "cell_type": "markdown",
   "id": "2a07e645",
   "metadata": {
    "papermill": {
     "duration": 0.008006,
     "end_time": "2025-05-04T04:21:44.894444",
     "exception": false,
     "start_time": "2025-05-04T04:21:44.886438",
     "status": "completed"
    },
    "tags": []
   },
   "source": [
    "# 2. Chia train test"
   ]
  },
  {
   "cell_type": "code",
   "execution_count": 5,
   "id": "f995ac6c",
   "metadata": {
    "execution": {
     "iopub.execute_input": "2025-05-04T04:21:44.912531Z",
     "iopub.status.busy": "2025-05-04T04:21:44.912192Z",
     "iopub.status.idle": "2025-05-04T04:21:45.228546Z",
     "shell.execute_reply": "2025-05-04T04:21:45.227392Z"
    },
    "papermill": {
     "duration": 0.327421,
     "end_time": "2025-05-04T04:21:45.230114",
     "exception": false,
     "start_time": "2025-05-04T04:21:44.902693",
     "status": "completed"
    },
    "tags": []
   },
   "outputs": [
    {
     "name": "stdout",
     "output_type": "stream",
     "text": [
      "Số ngày trong train: 48\n",
      "Số ngày trong test: 12\n",
      "Train shape: (249931, 34)\n",
      "Test shape: (55915, 34)\n",
      "Ngày trong train:\n",
      "[datetime.date(2019, 4, 1) datetime.date(2019, 4, 2)\n",
      " datetime.date(2019, 4, 3) datetime.date(2019, 4, 4)\n",
      " datetime.date(2019, 4, 5) datetime.date(2019, 4, 6)\n",
      " datetime.date(2019, 4, 7) datetime.date(2019, 4, 8)\n",
      " datetime.date(2019, 4, 9) datetime.date(2019, 4, 10)\n",
      " datetime.date(2019, 4, 11) datetime.date(2019, 4, 12)\n",
      " datetime.date(2019, 4, 13) datetime.date(2019, 4, 14)\n",
      " datetime.date(2019, 4, 15) datetime.date(2019, 4, 16)\n",
      " datetime.date(2019, 4, 17) datetime.date(2019, 4, 18)\n",
      " datetime.date(2019, 4, 19) datetime.date(2019, 4, 20)\n",
      " datetime.date(2019, 4, 21) datetime.date(2019, 4, 22)\n",
      " datetime.date(2019, 4, 23) datetime.date(2019, 4, 24)\n",
      " datetime.date(2019, 4, 25) datetime.date(2019, 4, 26)\n",
      " datetime.date(2019, 4, 27) datetime.date(2019, 4, 28)\n",
      " datetime.date(2019, 4, 29) datetime.date(2019, 4, 30)\n",
      " datetime.date(2020, 4, 1) datetime.date(2020, 4, 2)\n",
      " datetime.date(2020, 4, 3) datetime.date(2020, 4, 4)\n",
      " datetime.date(2020, 4, 5) datetime.date(2020, 4, 6)\n",
      " datetime.date(2020, 4, 7) datetime.date(2020, 4, 8)\n",
      " datetime.date(2020, 4, 9) datetime.date(2020, 4, 10)\n",
      " datetime.date(2020, 4, 11) datetime.date(2020, 4, 12)\n",
      " datetime.date(2020, 4, 13) datetime.date(2020, 4, 14)\n",
      " datetime.date(2020, 4, 15) datetime.date(2020, 4, 16)\n",
      " datetime.date(2020, 4, 17) datetime.date(2020, 4, 18)]\n",
      "Ngày trong test:\n",
      "[datetime.date(2020, 4, 19) datetime.date(2020, 4, 20)\n",
      " datetime.date(2020, 4, 21) datetime.date(2020, 4, 22)\n",
      " datetime.date(2020, 4, 23) datetime.date(2020, 4, 24)\n",
      " datetime.date(2020, 4, 25) datetime.date(2020, 4, 26)\n",
      " datetime.date(2020, 4, 27) datetime.date(2020, 4, 28)\n",
      " datetime.date(2020, 4, 29) datetime.date(2020, 4, 30)]\n"
     ]
    }
   ],
   "source": [
    "def split_by_day(df):\n",
    "    df['datetime'] = pd.to_datetime(df['datetime'])\n",
    "    df['date'] = df['datetime'].dt.date\n",
    "\n",
    "    # Lấy danh sách ngày duy nhất\n",
    "    unique_days = sorted(df['date'].unique())\n",
    "    n_train_days = int(0.8 * len(unique_days))\n",
    "\n",
    "    # Tách theo ngày\n",
    "    train_days = unique_days[:n_train_days]\n",
    "    test_days = unique_days[n_train_days:]\n",
    "\n",
    "    train_df = df[df['date'].isin(train_days)].copy()\n",
    "    test_df = df[df['date'].isin(test_days)].copy()\n",
    "\n",
    "    # In thông tin\n",
    "    print(f\"Số ngày trong train: {len(train_days)}\")\n",
    "    print(f\"Số ngày trong test: {len(test_days)}\")\n",
    "    print(f\"Train shape: {train_df.shape}\")\n",
    "    print(f\"Test shape: {test_df.shape}\")\n",
    "    print(f\"Ngày trong train:\\n{np.array(train_days)}\")\n",
    "    print(f\"Ngày trong test:\\n{np.array(test_days)}\")\n",
    "\n",
    "    # Xóa cột phụ trợ 'date'\n",
    "    train_df.drop(columns='date', inplace=True)\n",
    "    test_df.drop(columns='date', inplace=True)\n",
    "\n",
    "    return train_df, test_df\n",
    "\n",
    "# Chia lại cho từng tháng\n",
    "train_df, test_df = split_by_day(data_filled)"
   ]
  },
  {
   "cell_type": "code",
   "execution_count": 6,
   "id": "bc9b3fc3",
   "metadata": {
    "execution": {
     "iopub.execute_input": "2025-05-04T04:21:45.249901Z",
     "iopub.status.busy": "2025-05-04T04:21:45.249313Z",
     "iopub.status.idle": "2025-05-04T04:21:45.279313Z",
     "shell.execute_reply": "2025-05-04T04:21:45.278462Z"
    },
    "papermill": {
     "duration": 0.040877,
     "end_time": "2025-05-04T04:21:45.280950",
     "exception": false,
     "start_time": "2025-05-04T04:21:45.240073",
     "status": "completed"
    },
    "tags": []
   },
   "outputs": [],
   "source": [
    "X_train = train_df.drop(columns=['AWS', 'datetime', 'row', 'col'])\n",
    "y_train = (train_df['AWS'] > 0).astype(int)\n",
    "\n",
    "X_test = test_df.drop(columns=['AWS', 'datetime', 'row', 'col'])\n",
    "y_test = (test_df['AWS'] > 0).astype(int)"
   ]
  },
  {
   "cell_type": "markdown",
   "id": "705df945",
   "metadata": {
    "papermill": {
     "duration": 0.008037,
     "end_time": "2025-05-04T04:21:45.297872",
     "exception": false,
     "start_time": "2025-05-04T04:21:45.289835",
     "status": "completed"
    },
    "tags": []
   },
   "source": [
    "# 3. Chuẩn hóa"
   ]
  },
  {
   "cell_type": "code",
   "execution_count": 7,
   "id": "5be9f846",
   "metadata": {
    "execution": {
     "iopub.execute_input": "2025-05-04T04:21:45.315853Z",
     "iopub.status.busy": "2025-05-04T04:21:45.315553Z",
     "iopub.status.idle": "2025-05-04T04:21:45.411519Z",
     "shell.execute_reply": "2025-05-04T04:21:45.410740Z"
    },
    "papermill": {
     "duration": 0.107085,
     "end_time": "2025-05-04T04:21:45.413115",
     "exception": false,
     "start_time": "2025-05-04T04:21:45.306030",
     "status": "completed"
    },
    "tags": []
   },
   "outputs": [],
   "source": [
    "from sklearn.preprocessing import MinMaxScaler\n",
    "from sklearn.preprocessing import StandardScaler\n",
    "\n",
    "scaler = MinMaxScaler()\n",
    "X_train_scaled = scaler.fit_transform(X_train)\n",
    "X_test_scaled = scaler.transform(X_test)\n",
    "\n",
    "X_train_scaled = pd.DataFrame(X_train_scaled, columns=X_train.columns)\n",
    "X_test_scaled = pd.DataFrame(X_test_scaled, columns=X_test.columns)"
   ]
  },
  {
   "cell_type": "markdown",
   "id": "e1dfe310",
   "metadata": {
    "papermill": {
     "duration": 0.008057,
     "end_time": "2025-05-04T04:21:45.429852",
     "exception": false,
     "start_time": "2025-05-04T04:21:45.421795",
     "status": "completed"
    },
    "tags": []
   },
   "source": [
    "# 4. Chọn feature"
   ]
  },
  {
   "cell_type": "code",
   "execution_count": 8,
   "id": "ce52d7c4",
   "metadata": {
    "execution": {
     "iopub.execute_input": "2025-05-04T04:21:45.448328Z",
     "iopub.status.busy": "2025-05-04T04:21:45.447517Z",
     "iopub.status.idle": "2025-05-04T04:21:45.452119Z",
     "shell.execute_reply": "2025-05-04T04:21:45.451398Z"
    },
    "papermill": {
     "duration": 0.015069,
     "end_time": "2025-05-04T04:21:45.453375",
     "exception": false,
     "start_time": "2025-05-04T04:21:45.438306",
     "status": "completed"
    },
    "tags": []
   },
   "outputs": [],
   "source": [
    "top_features =  ['CAPE', 'KX', 'R500', 'R850', 'TCLW', 'TCW', 'U250', 'U850', 'V250', 'V850', 'B10B', 'B11B', 'B14B', 'I2B', 'I4B', 'IRB', 'WVB']"
   ]
  },
  {
   "cell_type": "code",
   "execution_count": 9,
   "id": "5c09a6d4",
   "metadata": {
    "execution": {
     "iopub.execute_input": "2025-05-04T04:21:45.470823Z",
     "iopub.status.busy": "2025-05-04T04:21:45.470543Z",
     "iopub.status.idle": "2025-05-04T04:21:45.489733Z",
     "shell.execute_reply": "2025-05-04T04:21:45.488905Z"
    },
    "papermill": {
     "duration": 0.029643,
     "end_time": "2025-05-04T04:21:45.491291",
     "exception": false,
     "start_time": "2025-05-04T04:21:45.461648",
     "status": "completed"
    },
    "tags": []
   },
   "outputs": [],
   "source": [
    "X_train_selected = X_train_scaled[top_features]\n",
    "X_test_selected = X_test_scaled[top_features]"
   ]
  },
  {
   "cell_type": "code",
   "execution_count": 10,
   "id": "5efe5365",
   "metadata": {
    "execution": {
     "iopub.execute_input": "2025-05-04T04:21:45.509010Z",
     "iopub.status.busy": "2025-05-04T04:21:45.508712Z",
     "iopub.status.idle": "2025-05-04T04:21:45.512796Z",
     "shell.execute_reply": "2025-05-04T04:21:45.512118Z"
    },
    "papermill": {
     "duration": 0.014221,
     "end_time": "2025-05-04T04:21:45.514001",
     "exception": false,
     "start_time": "2025-05-04T04:21:45.499780",
     "status": "completed"
    },
    "tags": []
   },
   "outputs": [],
   "source": [
    "#Performance evaluation\n",
    "def print_scores(y_true, y_pred):\n",
    "  print(classification_report(y_true, y_pred))"
   ]
  },
  {
   "cell_type": "markdown",
   "id": "d13837a4",
   "metadata": {
    "papermill": {
     "duration": 0.00802,
     "end_time": "2025-05-04T04:21:45.530303",
     "exception": false,
     "start_time": "2025-05-04T04:21:45.522283",
     "status": "completed"
    },
    "tags": []
   },
   "source": [
    "# 5. Thêm class weight"
   ]
  },
  {
   "cell_type": "code",
   "execution_count": 11,
   "id": "ada15d30",
   "metadata": {
    "execution": {
     "iopub.execute_input": "2025-05-04T04:21:45.548995Z",
     "iopub.status.busy": "2025-05-04T04:21:45.548343Z",
     "iopub.status.idle": "2025-05-04T04:21:49.933576Z",
     "shell.execute_reply": "2025-05-04T04:21:49.932414Z"
    },
    "papermill": {
     "duration": 4.39635,
     "end_time": "2025-05-04T04:21:49.934924",
     "exception": false,
     "start_time": "2025-05-04T04:21:45.538574",
     "status": "completed"
    },
    "tags": []
   },
   "outputs": [
    {
     "name": "stdout",
     "output_type": "stream",
     "text": [
      "              precision    recall  f1-score   support\n",
      "\n",
      "           0       0.93      0.96      0.94     50316\n",
      "           1       0.48      0.33      0.39      5599\n",
      "\n",
      "    accuracy                           0.90     55915\n",
      "   macro avg       0.71      0.64      0.67     55915\n",
      "weighted avg       0.88      0.90      0.89     55915\n",
      "\n"
     ]
    }
   ],
   "source": [
    "import xgboost as xgb\n",
    "\n",
    "model_xgb = xgb.XGBClassifier(random_state=42, n_estimators = 200)\n",
    "model_xgb.fit(X_train, y_train)\n",
    "\n",
    "y_pred = model_xgb.predict(X_test)\n",
    "print_scores( y_test, y_pred)"
   ]
  },
  {
   "cell_type": "code",
   "execution_count": 12,
   "id": "fefcdf98",
   "metadata": {
    "execution": {
     "iopub.execute_input": "2025-05-04T04:21:49.952867Z",
     "iopub.status.busy": "2025-05-04T04:21:49.952567Z",
     "iopub.status.idle": "2025-05-04T04:21:54.092039Z",
     "shell.execute_reply": "2025-05-04T04:21:54.091036Z"
    },
    "papermill": {
     "duration": 4.150182,
     "end_time": "2025-05-04T04:21:54.093541",
     "exception": false,
     "start_time": "2025-05-04T04:21:49.943359",
     "status": "completed"
    },
    "tags": []
   },
   "outputs": [
    {
     "name": "stdout",
     "output_type": "stream",
     "text": [
      "              precision    recall  f1-score   support\n",
      "\n",
      "           0       0.93      0.96      0.94     50316\n",
      "           1       0.48      0.33      0.39      5599\n",
      "\n",
      "    accuracy                           0.90     55915\n",
      "   macro avg       0.71      0.64      0.67     55915\n",
      "weighted avg       0.88      0.90      0.89     55915\n",
      "\n"
     ]
    }
   ],
   "source": [
    "import xgboost as xgb\n",
    "\n",
    "model_xgb = xgb.XGBClassifier(random_state=42, n_estimators = 200)\n",
    "model_xgb.fit(X_train_scaled, y_train)\n",
    "\n",
    "y_pred = model_xgb.predict(X_test_scaled)\n",
    "print_scores( y_test, y_pred)"
   ]
  },
  {
   "cell_type": "code",
   "execution_count": 13,
   "id": "cfb7d16a",
   "metadata": {
    "execution": {
     "iopub.execute_input": "2025-05-04T04:21:54.170561Z",
     "iopub.status.busy": "2025-05-04T04:21:54.169927Z",
     "iopub.status.idle": "2025-05-04T04:21:58.342543Z",
     "shell.execute_reply": "2025-05-04T04:21:58.341306Z"
    },
    "papermill": {
     "duration": 4.183527,
     "end_time": "2025-05-04T04:21:58.343992",
     "exception": false,
     "start_time": "2025-05-04T04:21:54.160465",
     "status": "completed"
    },
    "tags": []
   },
   "outputs": [
    {
     "name": "stdout",
     "output_type": "stream",
     "text": [
      "              precision    recall  f1-score   support\n",
      "\n",
      "           0       0.96      0.83      0.89     50316\n",
      "           1       0.30      0.65      0.41      5599\n",
      "\n",
      "    accuracy                           0.81     55915\n",
      "   macro avg       0.63      0.74      0.65     55915\n",
      "weighted avg       0.89      0.81      0.84     55915\n",
      "\n"
     ]
    }
   ],
   "source": [
    "import xgboost as xgb\n",
    "\n",
    "model_xgb = xgb.XGBClassifier(random_state=42, n_estimators = 200, scale_pos_weight= 13.09729821196909)\n",
    "model_xgb.fit(X_train_scaled, y_train)\n",
    "\n",
    "y_pred = model_xgb.predict(X_test_scaled)\n",
    "print_scores( y_test, y_pred)"
   ]
  },
  {
   "cell_type": "code",
   "execution_count": 14,
   "id": "ee25d5a5",
   "metadata": {
    "execution": {
     "iopub.execute_input": "2025-05-04T04:21:58.363525Z",
     "iopub.status.busy": "2025-05-04T04:21:58.363207Z",
     "iopub.status.idle": "2025-05-04T04:22:01.371069Z",
     "shell.execute_reply": "2025-05-04T04:22:01.370024Z"
    },
    "papermill": {
     "duration": 3.018988,
     "end_time": "2025-05-04T04:22:01.372522",
     "exception": false,
     "start_time": "2025-05-04T04:21:58.353534",
     "status": "completed"
    },
    "tags": []
   },
   "outputs": [
    {
     "name": "stdout",
     "output_type": "stream",
     "text": [
      "              precision    recall  f1-score   support\n",
      "\n",
      "           0       0.95      0.80      0.87     50316\n",
      "           1       0.26      0.64      0.37      5599\n",
      "\n",
      "    accuracy                           0.79     55915\n",
      "   macro avg       0.61      0.72      0.62     55915\n",
      "weighted avg       0.88      0.79      0.82     55915\n",
      "\n"
     ]
    }
   ],
   "source": [
    "import xgboost as xgb\n",
    "\n",
    "model_xgb = xgb.XGBClassifier(random_state=42, n_estimators = 200, scale_pos_weight= 13.09729821196909)\n",
    "model_xgb.fit(X_train_selected, y_train)\n",
    "\n",
    "y_pred = model_xgb.predict(X_test_selected)\n",
    "print_scores( y_test, y_pred)"
   ]
  },
  {
   "cell_type": "markdown",
   "id": "da74d449",
   "metadata": {
    "papermill": {
     "duration": 0.008364,
     "end_time": "2025-05-04T04:22:01.389606",
     "exception": false,
     "start_time": "2025-05-04T04:22:01.381242",
     "status": "completed"
    },
    "tags": []
   },
   "source": [
    "=> Giải pháp:\n",
    "\n",
    "1. **Giữ mô hình đã tối ưu + threshold = 0.6** để triển khai hoặc đánh giá cuối cùng.\n",
    "2. Thử thêm:\n",
    "\n",
    "   * Tối ưu `max_depth`, `gamma`, `min_child_weight`, `subsample` bằng GridSearchCV hoặc Optuna.\n",
    "   * Dùng **cross-validation phân tầng (StratifiedKFold)** để đánh giá mô hình ổn định hơn.\n",
    "3. Nếu cần **giải thích mô hình**, có thể dùng SHAP để giải thích đóng góp các feature."
   ]
  },
  {
   "cell_type": "markdown",
   "id": "e4ae4c49",
   "metadata": {
    "papermill": {
     "duration": 0.008457,
     "end_time": "2025-05-04T04:22:01.406553",
     "exception": false,
     "start_time": "2025-05-04T04:22:01.398096",
     "status": "completed"
    },
    "tags": []
   },
   "source": [
    "**Tuning XGBoost không chọn đặc trưng với optuna**"
   ]
  },
  {
   "cell_type": "code",
   "execution_count": 15,
   "id": "51a809e9",
   "metadata": {
    "execution": {
     "iopub.execute_input": "2025-05-04T04:22:01.424629Z",
     "iopub.status.busy": "2025-05-04T04:22:01.424294Z",
     "iopub.status.idle": "2025-05-04T04:22:05.910169Z",
     "shell.execute_reply": "2025-05-04T04:22:05.909217Z"
    },
    "papermill": {
     "duration": 4.496711,
     "end_time": "2025-05-04T04:22:05.911687",
     "exception": false,
     "start_time": "2025-05-04T04:22:01.414976",
     "status": "completed"
    },
    "tags": []
   },
   "outputs": [
    {
     "name": "stdout",
     "output_type": "stream",
     "text": [
      "              precision    recall  f1-score   support\n",
      "\n",
      "           0       0.97      0.76      0.85     50316\n",
      "           1       0.27      0.80      0.41      5599\n",
      "\n",
      "    accuracy                           0.76     55915\n",
      "   macro avg       0.62      0.78      0.63     55915\n",
      "weighted avg       0.90      0.76      0.81     55915\n",
      "\n",
      "Best threshold: 0.7000000000000002, F1: 0.4369704417566781\n"
     ]
    }
   ],
   "source": [
    "import xgboost as xgb\n",
    "\n",
    "model_xgb = xgb.XGBClassifier(\n",
    "    n_estimators=200,\n",
    "    max_depth=6,\n",
    "    learning_rate=0.1,\n",
    "    subsample=0.8,\n",
    "    colsample_bytree=0.8,\n",
    "    scale_pos_weight=13.09729821196909,\n",
    "    random_state=42\n",
    ")\n",
    "model_xgb.fit(X_train_scaled, y_train)\n",
    "\n",
    "\n",
    "y_pred = model_xgb.predict(X_test_scaled)\n",
    "print_scores( y_test, y_pred)\n",
    "\n",
    "y_probs = model_xgb.predict_proba(X_test_scaled)[:,1]\n",
    "\n",
    "best_thresh = 0.0\n",
    "best_f1 = 0.0\n",
    "for t in np.arange(0.1, 0.9, 0.05):\n",
    "    y_pred = (y_probs >= t).astype(int)\n",
    "    f1 = f1_score(y_test, y_pred)\n",
    "    if f1 > best_f1:\n",
    "        best_f1 = f1\n",
    "        best_thresh = t\n",
    "\n",
    "print(f\"Best threshold: {best_thresh}, F1: {best_f1}\")\n"
   ]
  },
  {
   "cell_type": "code",
   "execution_count": 16,
   "id": "89f29406",
   "metadata": {
    "execution": {
     "iopub.execute_input": "2025-05-04T04:22:05.930518Z",
     "iopub.status.busy": "2025-05-04T04:22:05.930206Z",
     "iopub.status.idle": "2025-05-04T04:25:21.781225Z",
     "shell.execute_reply": "2025-05-04T04:25:21.780082Z"
    },
    "papermill": {
     "duration": 195.86201,
     "end_time": "2025-05-04T04:25:21.782681",
     "exception": false,
     "start_time": "2025-05-04T04:22:05.920671",
     "status": "completed"
    },
    "tags": []
   },
   "outputs": [
    {
     "name": "stderr",
     "output_type": "stream",
     "text": [
      "[I 2025-05-04 04:22:06,199] A new study created in memory with name: no-name-09833a78-8e7d-462b-9670-bd99153bbc82\n",
      "[I 2025-05-04 04:22:10,114] Trial 0 finished with value: 0.4335562471032246 and parameters: {'learning_rate': 0.12290323182489198, 'max_depth': 6, 'min_child_weight': 9, 'subsample': 0.8753470916392962, 'colsample_bytree': 0.8829669140688723, 'gamma': 1.7281584461521922}. Best is trial 0 with value: 0.4335562471032246.\n",
      "[I 2025-05-04 04:22:18,507] Trial 1 finished with value: 0.4096050803730899 and parameters: {'learning_rate': 0.01738879074110561, 'max_depth': 8, 'min_child_weight': 1, 'subsample': 0.7783532427626169, 'colsample_bytree': 0.6743134064739722, 'gamma': 3.2633661223593253}. Best is trial 0 with value: 0.4335562471032246.\n",
      "[I 2025-05-04 04:22:22,872] Trial 2 finished with value: 0.40415795717756053 and parameters: {'learning_rate': 0.03728966065239204, 'max_depth': 6, 'min_child_weight': 9, 'subsample': 0.7615116625499359, 'colsample_bytree': 0.8817925484303584, 'gamma': 1.201714554373443}. Best is trial 0 with value: 0.4335562471032246.\n",
      "[I 2025-05-04 04:22:26,877] Trial 3 finished with value: 0.4176749703440095 and parameters: {'learning_rate': 0.08029464440672336, 'max_depth': 6, 'min_child_weight': 2, 'subsample': 0.5300831613915162, 'colsample_bytree': 0.6782809556653449, 'gamma': 2.372336208289032}. Best is trial 0 with value: 0.4335562471032246.\n",
      "[I 2025-05-04 04:22:31,492] Trial 4 finished with value: 0.4309079201545396 and parameters: {'learning_rate': 0.06795069330416312, 'max_depth': 7, 'min_child_weight': 4, 'subsample': 0.7352005856399986, 'colsample_bytree': 0.550129753566402, 'gamma': 1.2648697119284664}. Best is trial 0 with value: 0.4335562471032246.\n",
      "[I 2025-05-04 04:22:34,151] Trial 5 finished with value: 0.4184592161302496 and parameters: {'learning_rate': 0.26441252832396056, 'max_depth': 3, 'min_child_weight': 1, 'subsample': 0.5553455340043535, 'colsample_bytree': 0.9240471062212172, 'gamma': 3.662913560008138}. Best is trial 0 with value: 0.4335562471032246.\n",
      "[I 2025-05-04 04:22:42,403] Trial 6 finished with value: 0.41668059501922106 and parameters: {'learning_rate': 0.08688412601828828, 'max_depth': 10, 'min_child_weight': 9, 'subsample': 0.5551844618247663, 'colsample_bytree': 0.9730119785709639, 'gamma': 0.1425184090082232}. Best is trial 0 with value: 0.4335562471032246.\n",
      "[I 2025-05-04 04:22:45,064] Trial 7 finished with value: 0.41422038648768256 and parameters: {'learning_rate': 0.08945218509794904, 'max_depth': 3, 'min_child_weight': 10, 'subsample': 0.5016359886088282, 'colsample_bytree': 0.711821620570652, 'gamma': 2.6924061389968905}. Best is trial 0 with value: 0.4335562471032246.\n",
      "[I 2025-05-04 04:22:51,407] Trial 8 finished with value: 0.4281760309991696 and parameters: {'learning_rate': 0.11166191252918159, 'max_depth': 7, 'min_child_weight': 3, 'subsample': 0.5260162550039521, 'colsample_bytree': 0.5955329125246884, 'gamma': 1.4430113114743621}. Best is trial 0 with value: 0.4335562471032246.\n",
      "[I 2025-05-04 04:22:55,252] Trial 9 finished with value: 0.4271844660194175 and parameters: {'learning_rate': 0.17490122299552824, 'max_depth': 6, 'min_child_weight': 9, 'subsample': 0.8602735609554473, 'colsample_bytree': 0.7778585413826431, 'gamma': 2.464495427286098}. Best is trial 0 with value: 0.4335562471032246.\n",
      "[I 2025-05-04 04:22:58,108] Trial 10 finished with value: 0.42845084688537505 and parameters: {'learning_rate': 0.18363902104859364, 'max_depth': 4, 'min_child_weight': 6, 'subsample': 0.9901118965556623, 'colsample_bytree': 0.8262493150637539, 'gamma': 4.923706269268653}. Best is trial 0 with value: 0.4335562471032246.\n",
      "[I 2025-05-04 04:23:03,329] Trial 11 finished with value: 0.4136845593108019 and parameters: {'learning_rate': 0.14302841175094475, 'max_depth': 8, 'min_child_weight': 5, 'subsample': 0.8925452980830679, 'colsample_bytree': 0.5656921201496375, 'gamma': 1.0683547645657203}. Best is trial 0 with value: 0.4335562471032246.\n",
      "[I 2025-05-04 04:23:06,677] Trial 12 finished with value: 0.4352874361077807 and parameters: {'learning_rate': 0.2689128310943245, 'max_depth': 5, 'min_child_weight': 6, 'subsample': 0.6637804583478889, 'colsample_bytree': 0.5012502286951135, 'gamma': 1.7436426279644897}. Best is trial 12 with value: 0.4352874361077807.\n",
      "[I 2025-05-04 04:23:10,014] Trial 13 finished with value: 0.43532338308457713 and parameters: {'learning_rate': 0.2956463996433027, 'max_depth': 5, 'min_child_weight': 7, 'subsample': 0.6864263176840951, 'colsample_bytree': 0.5064518811743934, 'gamma': 1.8795936970697509}. Best is trial 13 with value: 0.43532338308457713.\n",
      "[I 2025-05-04 04:23:13,017] Trial 14 finished with value: 0.4442905775777508 and parameters: {'learning_rate': 0.2991892758705283, 'max_depth': 4, 'min_child_weight': 7, 'subsample': 0.6598941701125521, 'colsample_bytree': 0.6252097030460609, 'gamma': 0.4898315511719087}. Best is trial 14 with value: 0.4442905775777508.\n",
      "[I 2025-05-04 04:23:15,966] Trial 15 finished with value: 0.43709629629629637 and parameters: {'learning_rate': 0.2938699614139531, 'max_depth': 4, 'min_child_weight': 8, 'subsample': 0.6254724095677332, 'colsample_bytree': 0.6180291216039537, 'gamma': 0.1380699657800073}. Best is trial 14 with value: 0.4442905775777508.\n",
      "[I 2025-05-04 04:23:18,934] Trial 16 finished with value: 0.4151455213337101 and parameters: {'learning_rate': 0.2461580082276431, 'max_depth': 4, 'min_child_weight': 7, 'subsample': 0.619240157842028, 'colsample_bytree': 0.6387987283357055, 'gamma': 0.1307322576341538}. Best is trial 14 with value: 0.4442905775777508.\n",
      "[I 2025-05-04 04:23:23,307] Trial 17 finished with value: 0.43960625361899247 and parameters: {'learning_rate': 0.22022382037342875, 'max_depth': 4, 'min_child_weight': 7, 'subsample': 0.6217257439259232, 'colsample_bytree': 0.7482995308577807, 'gamma': 0.6568568513574451}. Best is trial 14 with value: 0.4442905775777508.\n",
      "[I 2025-05-04 04:23:25,961] Trial 18 finished with value: 0.4453061001583747 and parameters: {'learning_rate': 0.22222464138247533, 'max_depth': 3, 'min_child_weight': 5, 'subsample': 0.6081105152172036, 'colsample_bytree': 0.7675876213226771, 'gamma': 0.7001777022333793}. Best is trial 18 with value: 0.4453061001583747.\n",
      "[I 2025-05-04 04:23:28,587] Trial 19 finished with value: 0.407279403823307 and parameters: {'learning_rate': 0.22009079967098844, 'max_depth': 3, 'min_child_weight': 4, 'subsample': 0.7045343238145149, 'colsample_bytree': 0.7885234728574544, 'gamma': 0.610074894231301}. Best is trial 18 with value: 0.4453061001583747.\n",
      "[I 2025-05-04 04:23:32,054] Trial 20 finished with value: 0.4443899448191294 and parameters: {'learning_rate': 0.21504474605220594, 'max_depth': 5, 'min_child_weight': 5, 'subsample': 0.8063966812428194, 'colsample_bytree': 0.7237451448340384, 'gamma': 0.7005455778773233}. Best is trial 18 with value: 0.4453061001583747.\n",
      "[I 2025-05-04 04:23:35,367] Trial 21 finished with value: 0.4423407917383821 and parameters: {'learning_rate': 0.20569052308953306, 'max_depth': 5, 'min_child_weight': 5, 'subsample': 0.7984240945607851, 'colsample_bytree': 0.7129443077848076, 'gamma': 0.6989351554941506}. Best is trial 18 with value: 0.4453061001583747.\n",
      "[I 2025-05-04 04:23:37,930] Trial 22 finished with value: 0.41256006257682426 and parameters: {'learning_rate': 0.24041381550216456, 'max_depth': 3, 'min_child_weight': 4, 'subsample': 0.8181548330233535, 'colsample_bytree': 0.8282743176745703, 'gamma': 0.87224014110998}. Best is trial 18 with value: 0.4453061001583747.\n",
      "[I 2025-05-04 04:23:41,410] Trial 23 finished with value: 0.4320259319286872 and parameters: {'learning_rate': 0.190116770641243, 'max_depth': 5, 'min_child_weight': 6, 'subsample': 0.6004946344029313, 'colsample_bytree': 0.6596258715044545, 'gamma': 0.012385226908043667}. Best is trial 18 with value: 0.4453061001583747.\n",
      "[I 2025-05-04 04:23:44,385] Trial 24 finished with value: 0.4258173687073185 and parameters: {'learning_rate': 0.26924590560762307, 'max_depth': 4, 'min_child_weight': 5, 'subsample': 0.7147864101313677, 'colsample_bytree': 0.7301569510765651, 'gamma': 0.465888058309579}. Best is trial 18 with value: 0.4453061001583747.\n",
      "[I 2025-05-04 04:23:46,987] Trial 25 finished with value: 0.44506738544474395 and parameters: {'learning_rate': 0.23869716088601245, 'max_depth': 3, 'min_child_weight': 3, 'subsample': 0.6569399682981232, 'colsample_bytree': 0.8093370267013579, 'gamma': 4.549225273726771}. Best is trial 18 with value: 0.4453061001583747.\n",
      "[I 2025-05-04 04:23:49,514] Trial 26 finished with value: 0.42050093231870184 and parameters: {'learning_rate': 0.15382648017864495, 'max_depth': 3, 'min_child_weight': 3, 'subsample': 0.935545050891143, 'colsample_bytree': 0.8117583222095877, 'gamma': 4.789022116290228}. Best is trial 18 with value: 0.4453061001583747.\n",
      "[I 2025-05-04 04:23:53,889] Trial 27 finished with value: 0.42637822749476617 and parameters: {'learning_rate': 0.23645672114930494, 'max_depth': 3, 'min_child_weight': 3, 'subsample': 0.8239226303476007, 'colsample_bytree': 0.8776420319274351, 'gamma': 4.356124990389966}. Best is trial 18 with value: 0.4453061001583747.\n",
      "[I 2025-05-04 04:23:57,410] Trial 28 finished with value: 0.4267787599678556 and parameters: {'learning_rate': 0.2058729130731607, 'max_depth': 5, 'min_child_weight': 2, 'subsample': 0.5915090522454853, 'colsample_bytree': 0.777011907160041, 'gamma': 3.8977214742570787}. Best is trial 18 with value: 0.4453061001583747.\n",
      "[I 2025-05-04 04:24:05,894] Trial 29 finished with value: 0.41514623636196935 and parameters: {'learning_rate': 0.17387716003118037, 'max_depth': 10, 'min_child_weight': 4, 'subsample': 0.663379343078389, 'colsample_bytree': 0.8627023867784089, 'gamma': 2.058172121752916}. Best is trial 18 with value: 0.4453061001583747.\n",
      "[I 2025-05-04 04:24:13,399] Trial 30 finished with value: 0.3916083916083916 and parameters: {'learning_rate': 0.2562238685639133, 'max_depth': 9, 'min_child_weight': 2, 'subsample': 0.7397275869082804, 'colsample_bytree': 0.931106997038316, 'gamma': 3.043565221135281}. Best is trial 18 with value: 0.4453061001583747.\n",
      "[I 2025-05-04 04:24:16,385] Trial 31 finished with value: 0.44024438988180203 and parameters: {'learning_rate': 0.21978630850588357, 'max_depth': 4, 'min_child_weight': 8, 'subsample': 0.6617646455133627, 'colsample_bytree': 0.6930618511352775, 'gamma': 1.4593886016611302}. Best is trial 18 with value: 0.4453061001583747.\n",
      "[I 2025-05-04 04:24:19,406] Trial 32 finished with value: 0.422606149341142 and parameters: {'learning_rate': 0.28273440160055036, 'max_depth': 4, 'min_child_weight': 5, 'subsample': 0.57735249162892, 'colsample_bytree': 0.7498996904030458, 'gamma': 0.5262002449918746}. Best is trial 18 with value: 0.4453061001583747.\n",
      "[I 2025-05-04 04:24:22,128] Trial 33 finished with value: 0.42705292724569033 and parameters: {'learning_rate': 0.2314113717660905, 'max_depth': 3, 'min_child_weight': 6, 'subsample': 0.6511222002140744, 'colsample_bytree': 0.8419445695190042, 'gamma': 0.9339592485157173}. Best is trial 18 with value: 0.4453061001583747.\n",
      "[I 2025-05-04 04:24:27,153] Trial 34 finished with value: 0.4369747899159664 and parameters: {'learning_rate': 0.20161084825282638, 'max_depth': 5, 'min_child_weight': 8, 'subsample': 0.7650985296018251, 'colsample_bytree': 0.7878242380127245, 'gamma': 3.6891653857207602}. Best is trial 18 with value: 0.4453061001583747.\n",
      "[I 2025-05-04 04:24:30,139] Trial 35 finished with value: 0.439742742080904 and parameters: {'learning_rate': 0.2845184860731478, 'max_depth': 4, 'min_child_weight': 3, 'subsample': 0.7042267523235123, 'colsample_bytree': 0.6879137089235868, 'gamma': 2.1432259051269162}. Best is trial 18 with value: 0.4453061001583747.\n",
      "[I 2025-05-04 04:24:32,813] Trial 36 finished with value: 0.4228099173553719 and parameters: {'learning_rate': 0.2526918263656403, 'max_depth': 3, 'min_child_weight': 7, 'subsample': 0.6392059696873676, 'colsample_bytree': 0.6480121937369573, 'gamma': 2.887441434157345}. Best is trial 18 with value: 0.4453061001583747.\n",
      "[I 2025-05-04 04:24:37,013] Trial 37 finished with value: 0.4313188523059687 and parameters: {'learning_rate': 0.13704820768021017, 'max_depth': 6, 'min_child_weight': 4, 'subsample': 0.7792635649828225, 'colsample_bytree': 0.9214498947406451, 'gamma': 1.3862240672797868}. Best is trial 18 with value: 0.4453061001583747.\n",
      "[I 2025-05-04 04:24:39,660] Trial 38 finished with value: 0.42622950819672134 and parameters: {'learning_rate': 0.16393879013264723, 'max_depth': 3, 'min_child_weight': 5, 'subsample': 0.5612476846260771, 'colsample_bytree': 0.591927763417851, 'gamma': 0.34099564638168645}. Best is trial 18 with value: 0.4453061001583747.\n",
      "[I 2025-05-04 04:24:43,913] Trial 39 finished with value: 0.40265455815578066 and parameters: {'learning_rate': 0.2765106962472824, 'max_depth': 6, 'min_child_weight': 1, 'subsample': 0.6875438424329465, 'colsample_bytree': 0.7257438442095343, 'gamma': 4.210725348382767}. Best is trial 18 with value: 0.4453061001583747.\n",
      "[I 2025-05-04 04:24:46,929] Trial 40 finished with value: 0.4240131779635166 and parameters: {'learning_rate': 0.2564984729772458, 'max_depth': 4, 'min_child_weight': 6, 'subsample': 0.7379498922732743, 'colsample_bytree': 0.8068995253862823, 'gamma': 1.145195162264855}. Best is trial 18 with value: 0.4453061001583747.\n",
      "[I 2025-05-04 04:24:50,374] Trial 41 finished with value: 0.42004048582995945 and parameters: {'learning_rate': 0.20270323765003684, 'max_depth': 5, 'min_child_weight': 5, 'subsample': 0.8041361222132131, 'colsample_bytree': 0.704230996449999, 'gamma': 0.6484155554416301}. Best is trial 18 with value: 0.4453061001583747.\n",
      "[I 2025-05-04 04:24:54,216] Trial 42 finished with value: 0.4111900532859681 and parameters: {'learning_rate': 0.01920630374944024, 'max_depth': 5, 'min_child_weight': 5, 'subsample': 0.8557910078237019, 'colsample_bytree': 0.7313230407481717, 'gamma': 0.8282687955175736}. Best is trial 18 with value: 0.4453061001583747.\n",
      "[I 2025-05-04 04:25:00,676] Trial 43 finished with value: 0.4416103257529195 and parameters: {'learning_rate': 0.22564713648345391, 'max_depth': 7, 'min_child_weight': 4, 'subsample': 0.7867434495686533, 'colsample_bytree': 0.7672385246322778, 'gamma': 3.3624864032004904}. Best is trial 18 with value: 0.4453061001583747.\n",
      "[I 2025-05-04 04:25:04,590] Trial 44 finished with value: 0.43862718707940784 and parameters: {'learning_rate': 0.19046974152794596, 'max_depth': 6, 'min_child_weight': 3, 'subsample': 0.9018099970346487, 'colsample_bytree': 0.6684955911527451, 'gamma': 1.6411375008771285}. Best is trial 18 with value: 0.4453061001583747.\n",
      "[I 2025-05-04 04:25:07,521] Trial 45 finished with value: 0.445458220246001 and parameters: {'learning_rate': 0.20866845677801613, 'max_depth': 4, 'min_child_weight': 6, 'subsample': 0.8331184048355713, 'colsample_bytree': 0.6260333690168361, 'gamma': 0.3571860177779096}. Best is trial 45 with value: 0.445458220246001.\n",
      "[I 2025-05-04 04:25:10,493] Trial 46 finished with value: 0.44291076401501395 and parameters: {'learning_rate': 0.21344530280940333, 'max_depth': 4, 'min_child_weight': 7, 'subsample': 0.8450489428914438, 'colsample_bytree': 0.544553893938101, 'gamma': 0.3721255163679855}. Best is trial 45 with value: 0.445458220246001.\n",
      "[I 2025-05-04 04:25:13,148] Trial 47 finished with value: 0.42122719734660036 and parameters: {'learning_rate': 0.11296337928790318, 'max_depth': 3, 'min_child_weight': 10, 'subsample': 0.5340672284298316, 'colsample_bytree': 0.5881813467756878, 'gamma': 1.102702987724036}. Best is trial 45 with value: 0.445458220246001.\n",
      "[I 2025-05-04 04:25:16,094] Trial 48 finished with value: 0.43283754179637957 and parameters: {'learning_rate': 0.24194983205129167, 'max_depth': 4, 'min_child_weight': 6, 'subsample': 0.757932754922929, 'colsample_bytree': 0.5413021009688294, 'gamma': 0.9474346137406968}. Best is trial 45 with value: 0.445458220246001.\n",
      "[I 2025-05-04 04:25:18,701] Trial 49 finished with value: 0.4075806529391908 and parameters: {'learning_rate': 0.05655791054036069, 'max_depth': 3, 'min_child_weight': 2, 'subsample': 0.8813856999545783, 'colsample_bytree': 0.6216950758270953, 'gamma': 0.2501413543260052}. Best is trial 45 with value: 0.445458220246001.\n"
     ]
    },
    {
     "name": "stdout",
     "output_type": "stream",
     "text": [
      "Best trial:\n",
      "FrozenTrial(number=45, state=1, values=[0.445458220246001], datetime_start=datetime.datetime(2025, 5, 4, 4, 25, 4, 591282), datetime_complete=datetime.datetime(2025, 5, 4, 4, 25, 7, 520835), params={'learning_rate': 0.20866845677801613, 'max_depth': 4, 'min_child_weight': 6, 'subsample': 0.8331184048355713, 'colsample_bytree': 0.6260333690168361, 'gamma': 0.3571860177779096}, user_attrs={}, system_attrs={}, intermediate_values={}, distributions={'learning_rate': FloatDistribution(high=0.3, log=False, low=0.01, step=None), 'max_depth': IntDistribution(high=10, log=False, low=3, step=1), 'min_child_weight': IntDistribution(high=10, log=False, low=1, step=1), 'subsample': FloatDistribution(high=1.0, log=False, low=0.5, step=None), 'colsample_bytree': FloatDistribution(high=1.0, log=False, low=0.5, step=None), 'gamma': FloatDistribution(high=5.0, log=False, low=0.0, step=None)}, trial_id=45, value=None)\n",
      "Best hyperparameters:\n",
      "learning_rate: 0.20866845677801613\n",
      "max_depth: 4\n",
      "min_child_weight: 6\n",
      "subsample: 0.8331184048355713\n",
      "colsample_bytree: 0.6260333690168361\n",
      "gamma: 0.3571860177779096\n",
      "\n",
      "Classification report with threshold = 0.7000000000000002:\n",
      "              precision    recall  f1-score   support\n",
      "\n",
      "           0       0.96      0.84      0.90     50316\n",
      "           1       0.33      0.69      0.45      5599\n",
      "\n",
      "    accuracy                           0.83     55915\n",
      "   macro avg       0.64      0.77      0.67     55915\n",
      "weighted avg       0.90      0.83      0.85     55915\n",
      "\n"
     ]
    }
   ],
   "source": [
    "import optuna\n",
    "import numpy as np\n",
    "from sklearn.metrics import f1_score\n",
    "from sklearn.model_selection import train_test_split\n",
    "import xgboost as xgb\n",
    "\n",
    "\n",
    "THRESHOLD = best_thresh\n",
    "SCALE_POS_WEIGHT =  13.09729821196909 \n",
    "\n",
    "def objective(trial):\n",
    "    # Thử các tham số\n",
    "    param = {\n",
    "        'n_estimators': 200,\n",
    "        'learning_rate': trial.suggest_float('learning_rate', 0.01, 0.3),\n",
    "        'max_depth': trial.suggest_int('max_depth', 3, 10),\n",
    "        'min_child_weight': trial.suggest_int('min_child_weight', 1, 10),\n",
    "        'subsample': trial.suggest_float('subsample', 0.5, 1.0),\n",
    "        'colsample_bytree': trial.suggest_float('colsample_bytree', 0.5, 1.0),\n",
    "        'gamma': trial.suggest_float('gamma', 0, 5),\n",
    "        'scale_pos_weight': SCALE_POS_WEIGHT,\n",
    "        'random_state': 42,\n",
    "        'verbosity': 0,\n",
    "        'n_jobs': -1,\n",
    "        'use_label_encoder': False,\n",
    "        'eval_metric': 'logloss'\n",
    "    }\n",
    "\n",
    "    model = xgb.XGBClassifier(**param)\n",
    "    model.fit(X_train_scaled, y_train)\n",
    "\n",
    "    # Dự đoán xác suất\n",
    "    y_probs = model.predict_proba(X_test_scaled)[:, 1]\n",
    "    y_pred = (y_probs >= THRESHOLD).astype(int)\n",
    "\n",
    "    # Trả về F1-score của lớp mưa (label=1)\n",
    "    return f1_score(y_test, y_pred, pos_label=1)\n",
    "\n",
    "# Tối ưu với Optuna\n",
    "study = optuna.create_study(direction='maximize')\n",
    "study.optimize(objective, n_trials=50)  # Có thể tăng trials lên 100+\n",
    "\n",
    "# In kết quả tốt nhất\n",
    "print(\"Best trial:\")\n",
    "print(study.best_trial)\n",
    "print(\"Best hyperparameters:\")\n",
    "for key, value in study.best_trial.params.items():\n",
    "    print(f\"{key}: {value}\")\n",
    "\n",
    "# Huấn luyện lại với tham số tốt nhất\n",
    "best_params = study.best_trial.params\n",
    "best_params.update({\n",
    "    'n_estimators': 200,\n",
    "    'scale_pos_weight': SCALE_POS_WEIGHT,\n",
    "    'random_state': 42,\n",
    "    'use_label_encoder': False,\n",
    "    'eval_metric': 'logloss'\n",
    "})\n",
    "\n",
    "best_model = xgb.XGBClassifier(**best_params)\n",
    "best_model.fit(X_train_scaled, y_train)\n",
    "\n",
    "# Dự đoán với threshold\n",
    "y_probs = best_model.predict_proba(X_test_scaled)[:, 1]\n",
    "y_pred_thresh = (y_probs >= THRESHOLD).astype(int)\n",
    "\n",
    "# In kết quả\n",
    "from sklearn.metrics import classification_report\n",
    "print(f\"\\nClassification report with threshold = {THRESHOLD}:\")\n",
    "print(classification_report(y_test, y_pred_thresh))"
   ]
  },
  {
   "cell_type": "markdown",
   "id": "1b80fc96",
   "metadata": {
    "papermill": {
     "duration": 0.011053,
     "end_time": "2025-05-04T04:25:21.805247",
     "exception": false,
     "start_time": "2025-05-04T04:25:21.794194",
     "status": "completed"
    },
    "tags": []
   },
   "source": [
    "**Tuning XGBoost có chọn đặc trưng với optuna**"
   ]
  },
  {
   "cell_type": "code",
   "execution_count": 17,
   "id": "a5da69fd",
   "metadata": {
    "execution": {
     "iopub.execute_input": "2025-05-04T04:25:21.829060Z",
     "iopub.status.busy": "2025-05-04T04:25:21.828759Z",
     "iopub.status.idle": "2025-05-04T04:25:25.111720Z",
     "shell.execute_reply": "2025-05-04T04:25:25.110668Z"
    },
    "papermill": {
     "duration": 3.29665,
     "end_time": "2025-05-04T04:25:25.113150",
     "exception": false,
     "start_time": "2025-05-04T04:25:21.816500",
     "status": "completed"
    },
    "tags": []
   },
   "outputs": [
    {
     "name": "stdout",
     "output_type": "stream",
     "text": [
      "              precision    recall  f1-score   support\n",
      "\n",
      "           0       0.97      0.72      0.83     50316\n",
      "           1       0.25      0.83      0.38      5599\n",
      "\n",
      "    accuracy                           0.73     55915\n",
      "   macro avg       0.61      0.78      0.61     55915\n",
      "weighted avg       0.90      0.73      0.78     55915\n",
      "\n",
      "Best threshold: 0.7000000000000002, F1: 0.3975746585821954\n"
     ]
    }
   ],
   "source": [
    "import xgboost as xgb\n",
    "\n",
    "model_xgb = xgb.XGBClassifier(\n",
    "    n_estimators=200,\n",
    "    max_depth=6,\n",
    "    learning_rate=0.1,\n",
    "    subsample=0.8,\n",
    "    colsample_bytree=0.8,\n",
    "    scale_pos_weight= 13.09729821196909,\n",
    "    random_state=42\n",
    ")\n",
    "model_xgb.fit(X_train_selected, y_train)\n",
    "\n",
    "\n",
    "y_pred = model_xgb.predict(X_test_selected)\n",
    "print_scores( y_test, y_pred)\n",
    "\n",
    "y_probs = model_xgb.predict_proba(X_test_selected)[:,1]\n",
    "\n",
    "best_thresh = 0.0\n",
    "best_f1 = 0.0\n",
    "for t in np.arange(0.1, 0.9, 0.05):\n",
    "    y_pred = (y_probs >= t).astype(int)\n",
    "    f1 = f1_score(y_test, y_pred)\n",
    "    if f1 > best_f1:\n",
    "        best_f1 = f1\n",
    "        best_thresh = t\n",
    "\n",
    "print(f\"Best threshold: {best_thresh}, F1: {best_f1}\")"
   ]
  },
  {
   "cell_type": "code",
   "execution_count": 18,
   "id": "cfef3402",
   "metadata": {
    "execution": {
     "iopub.execute_input": "2025-05-04T04:25:25.137855Z",
     "iopub.status.busy": "2025-05-04T04:25:25.137187Z",
     "iopub.status.idle": "2025-05-04T04:27:49.907089Z",
     "shell.execute_reply": "2025-05-04T04:27:49.906160Z"
    },
    "papermill": {
     "duration": 144.784019,
     "end_time": "2025-05-04T04:27:49.908816",
     "exception": false,
     "start_time": "2025-05-04T04:25:25.124797",
     "status": "completed"
    },
    "tags": []
   },
   "outputs": [
    {
     "name": "stderr",
     "output_type": "stream",
     "text": [
      "[I 2025-05-04 04:25:25,144] A new study created in memory with name: no-name-5f726245-4997-4b6c-8cf9-85e40d121b4b\n",
      "[I 2025-05-04 04:25:31,370] Trial 0 finished with value: 0.3921849280755743 and parameters: {'learning_rate': 0.10529495853619515, 'max_depth': 9, 'min_child_weight': 9, 'subsample': 0.5483078595211718, 'colsample_bytree': 0.8550417500030691, 'gamma': 2.630475152259553}. Best is trial 0 with value: 0.3921849280755743.\n",
      "[I 2025-05-04 04:25:35,203] Trial 1 finished with value: 0.3705591843237216 and parameters: {'learning_rate': 0.2337089649998992, 'max_depth': 8, 'min_child_weight': 5, 'subsample': 0.6275330815358686, 'colsample_bytree': 0.700651440346747, 'gamma': 0.6985544313760644}. Best is trial 0 with value: 0.3921849280755743.\n",
      "[I 2025-05-04 04:25:38,781] Trial 2 finished with value: 0.3962366172812804 and parameters: {'learning_rate': 0.01931033594077459, 'max_depth': 7, 'min_child_weight': 2, 'subsample': 0.8704129772200201, 'colsample_bytree': 0.5174361413131987, 'gamma': 4.982842440095324}. Best is trial 2 with value: 0.3962366172812804.\n",
      "[I 2025-05-04 04:25:41,045] Trial 3 finished with value: 0.4093360792389919 and parameters: {'learning_rate': 0.07889935427094984, 'max_depth': 4, 'min_child_weight': 3, 'subsample': 0.8135529343992106, 'colsample_bytree': 0.8863932683497626, 'gamma': 0.8182373922847108}. Best is trial 3 with value: 0.4093360792389919.\n",
      "[I 2025-05-04 04:25:43,769] Trial 4 finished with value: 0.4062839879154079 and parameters: {'learning_rate': 0.1528174932301256, 'max_depth': 6, 'min_child_weight': 3, 'subsample': 0.9179895033829725, 'colsample_bytree': 0.7305412080166928, 'gamma': 2.802594854474604}. Best is trial 3 with value: 0.4093360792389919.\n",
      "[I 2025-05-04 04:25:46,240] Trial 5 finished with value: 0.4022284681790805 and parameters: {'learning_rate': 0.07437761971290265, 'max_depth': 5, 'min_child_weight': 9, 'subsample': 0.8560769303973456, 'colsample_bytree': 0.9774744206973265, 'gamma': 1.9500075837333308}. Best is trial 3 with value: 0.4093360792389919.\n",
      "[I 2025-05-04 04:25:48,413] Trial 6 finished with value: 0.430336696519669 and parameters: {'learning_rate': 0.2259373587023201, 'max_depth': 4, 'min_child_weight': 2, 'subsample': 0.6746386792178822, 'colsample_bytree': 0.7629284117838611, 'gamma': 1.5786263739636737}. Best is trial 6 with value: 0.430336696519669.\n",
      "[I 2025-05-04 04:25:50,678] Trial 7 finished with value: 0.40700977324153864 and parameters: {'learning_rate': 0.06688583437476137, 'max_depth': 4, 'min_child_weight': 2, 'subsample': 0.8909357515039729, 'colsample_bytree': 0.9471352692888161, 'gamma': 2.5266625686602144}. Best is trial 6 with value: 0.430336696519669.\n",
      "[I 2025-05-04 04:25:54,095] Trial 8 finished with value: 0.406162240231084 and parameters: {'learning_rate': 0.2294398960403429, 'max_depth': 8, 'min_child_weight': 4, 'subsample': 0.9214683975109845, 'colsample_bytree': 0.6597063393013791, 'gamma': 4.014503378166594}. Best is trial 6 with value: 0.430336696519669.\n",
      "[I 2025-05-04 04:25:56,929] Trial 9 finished with value: 0.38551820171076195 and parameters: {'learning_rate': 0.2800857536857609, 'max_depth': 6, 'min_child_weight': 6, 'subsample': 0.6588015869717342, 'colsample_bytree': 0.5670550445195292, 'gamma': 3.4897605149850595}. Best is trial 6 with value: 0.430336696519669.\n",
      "[I 2025-05-04 04:25:58,877] Trial 10 finished with value: 0.40961305925030234 and parameters: {'learning_rate': 0.18319471256912762, 'max_depth': 3, 'min_child_weight': 1, 'subsample': 0.7177259661254096, 'colsample_bytree': 0.850738487561445, 'gamma': 1.430886405849766}. Best is trial 6 with value: 0.430336696519669.\n",
      "[I 2025-05-04 04:26:02,221] Trial 11 finished with value: 0.4072344817417801 and parameters: {'learning_rate': 0.19354975141968045, 'max_depth': 3, 'min_child_weight': 1, 'subsample': 0.7219976310084717, 'colsample_bytree': 0.8152236031916524, 'gamma': 1.4389269296790084}. Best is trial 6 with value: 0.430336696519669.\n",
      "[I 2025-05-04 04:26:04,166] Trial 12 finished with value: 0.4089355842301219 and parameters: {'learning_rate': 0.16589147028305884, 'max_depth': 3, 'min_child_weight': 1, 'subsample': 0.7509375402466225, 'colsample_bytree': 0.7876639757042627, 'gamma': 1.646652024442826}. Best is trial 6 with value: 0.430336696519669.\n",
      "[I 2025-05-04 04:26:06,385] Trial 13 finished with value: 0.40590128755364807 and parameters: {'learning_rate': 0.27767723679332407, 'max_depth': 4, 'min_child_weight': 7, 'subsample': 0.5840437826546514, 'colsample_bytree': 0.6317080510621828, 'gamma': 0.6382516216777337}. Best is trial 6 with value: 0.430336696519669.\n",
      "[I 2025-05-04 04:26:08,315] Trial 14 finished with value: 0.40425531914893625 and parameters: {'learning_rate': 0.21538221519219644, 'max_depth': 3, 'min_child_weight': 1, 'subsample': 0.729523836704266, 'colsample_bytree': 0.9068760908671574, 'gamma': 0.10850136089808604}. Best is trial 6 with value: 0.430336696519669.\n",
      "[I 2025-05-04 04:26:10,945] Trial 15 finished with value: 0.3890816036394655 and parameters: {'learning_rate': 0.14373545485667777, 'max_depth': 5, 'min_child_weight': 4, 'subsample': 0.5055203516867427, 'colsample_bytree': 0.7720721161919187, 'gamma': 1.2561279262138725}. Best is trial 6 with value: 0.430336696519669.\n",
      "[I 2025-05-04 04:26:16,693] Trial 16 finished with value: 0.3714366356195315 and parameters: {'learning_rate': 0.25042851958559836, 'max_depth': 10, 'min_child_weight': 3, 'subsample': 0.6693296481387394, 'colsample_bytree': 0.8417888077340901, 'gamma': 2.02924417737008}. Best is trial 6 with value: 0.430336696519669.\n",
      "[I 2025-05-04 04:26:19,023] Trial 17 finished with value: 0.3927244920253441 and parameters: {'learning_rate': 0.1849861486327039, 'max_depth': 5, 'min_child_weight': 7, 'subsample': 0.996984582784268, 'colsample_bytree': 0.7203160816013018, 'gamma': 3.1859528719885835}. Best is trial 6 with value: 0.430336696519669.\n",
      "[I 2025-05-04 04:26:21,269] Trial 18 finished with value: 0.407077846138201 and parameters: {'learning_rate': 0.11816414741776904, 'max_depth': 4, 'min_child_weight': 2, 'subsample': 0.7631320770051377, 'colsample_bytree': 0.6353897251513505, 'gamma': 0.026238576457209728}. Best is trial 6 with value: 0.430336696519669.\n",
      "[I 2025-05-04 04:26:23,175] Trial 19 finished with value: 0.40187053901058334 and parameters: {'learning_rate': 0.2045313856891252, 'max_depth': 3, 'min_child_weight': 5, 'subsample': 0.7993131786661362, 'colsample_bytree': 0.9177309004223568, 'gamma': 2.0497515619870397}. Best is trial 6 with value: 0.430336696519669.\n",
      "[I 2025-05-04 04:26:25,730] Trial 20 finished with value: 0.41798972345707525 and parameters: {'learning_rate': 0.2580607870333433, 'max_depth': 5, 'min_child_weight': 4, 'subsample': 0.6157381645769248, 'colsample_bytree': 0.8125138863559842, 'gamma': 1.1601378135713696}. Best is trial 6 with value: 0.430336696519669.\n",
      "[I 2025-05-04 04:26:28,249] Trial 21 finished with value: 0.40798024434624386 and parameters: {'learning_rate': 0.25694893942319375, 'max_depth': 5, 'min_child_weight': 4, 'subsample': 0.6902669332108925, 'colsample_bytree': 0.8099380657243167, 'gamma': 1.1444813000303289}. Best is trial 6 with value: 0.430336696519669.\n",
      "[I 2025-05-04 04:26:30,588] Trial 22 finished with value: 0.3783610755441741 and parameters: {'learning_rate': 0.29705143736442385, 'max_depth': 4, 'min_child_weight': 2, 'subsample': 0.6083887404808148, 'colsample_bytree': 0.8651247737350204, 'gamma': 1.7217417151169399}. Best is trial 6 with value: 0.430336696519669.\n",
      "[I 2025-05-04 04:26:35,070] Trial 23 finished with value: 0.3880005286110744 and parameters: {'learning_rate': 0.25671673352344365, 'max_depth': 6, 'min_child_weight': 3, 'subsample': 0.6322034595363675, 'colsample_bytree': 0.7504324464159557, 'gamma': 1.1901379564889298}. Best is trial 6 with value: 0.430336696519669.\n",
      "[I 2025-05-04 04:26:37,584] Trial 24 finished with value: 0.3803763440860215 and parameters: {'learning_rate': 0.17669532645631558, 'max_depth': 5, 'min_child_weight': 1, 'subsample': 0.558161683224605, 'colsample_bytree': 0.6857950127190258, 'gamma': 0.46506383499234216}. Best is trial 6 with value: 0.430336696519669.\n",
      "[I 2025-05-04 04:26:39,528] Trial 25 finished with value: 0.4204498125780924 and parameters: {'learning_rate': 0.21852099541639752, 'max_depth': 3, 'min_child_weight': 2, 'subsample': 0.7024687636124068, 'colsample_bytree': 0.8258789262106374, 'gamma': 2.3007819154155325}. Best is trial 6 with value: 0.430336696519669.\n",
      "[I 2025-05-04 04:26:41,832] Trial 26 finished with value: 0.420471484569094 and parameters: {'learning_rate': 0.2156710281435174, 'max_depth': 4, 'min_child_weight': 4, 'subsample': 0.6884616458552756, 'colsample_bytree': 0.7723142189364774, 'gamma': 2.283962443801593}. Best is trial 6 with value: 0.430336696519669.\n",
      "[I 2025-05-04 04:26:44,002] Trial 27 finished with value: 0.39373784917630206 and parameters: {'learning_rate': 0.22069586821037923, 'max_depth': 4, 'min_child_weight': 10, 'subsample': 0.7856476292323554, 'colsample_bytree': 0.7622728682442687, 'gamma': 2.3002475320238434}. Best is trial 6 with value: 0.430336696519669.\n",
      "[I 2025-05-04 04:26:47,357] Trial 28 finished with value: 0.3917597765363129 and parameters: {'learning_rate': 0.206814605238029, 'max_depth': 7, 'min_child_weight': 6, 'subsample': 0.6654319607149187, 'colsample_bytree': 0.7855921557230322, 'gamma': 3.283589055538493}. Best is trial 6 with value: 0.430336696519669.\n",
      "[I 2025-05-04 04:26:49,319] Trial 29 finished with value: 0.4113306355629612 and parameters: {'learning_rate': 0.1395154921661959, 'max_depth': 3, 'min_child_weight': 3, 'subsample': 0.5153981087930748, 'colsample_bytree': 0.6782549671268903, 'gamma': 2.7576017067378684}. Best is trial 6 with value: 0.430336696519669.\n",
      "[I 2025-05-04 04:26:51,565] Trial 30 finished with value: 0.40971850583324415 and parameters: {'learning_rate': 0.23384132163349353, 'max_depth': 4, 'min_child_weight': 5, 'subsample': 0.6966143174466826, 'colsample_bytree': 0.5988065510352696, 'gamma': 2.259562798131327}. Best is trial 6 with value: 0.430336696519669.\n",
      "[I 2025-05-04 04:26:54,116] Trial 31 finished with value: 0.40945691279767005 and parameters: {'learning_rate': 0.24910563871340005, 'max_depth': 5, 'min_child_weight': 4, 'subsample': 0.5975172089528269, 'colsample_bytree': 0.8122153201843211, 'gamma': 1.6973158425972787}. Best is trial 6 with value: 0.430336696519669.\n",
      "[I 2025-05-04 04:26:56,323] Trial 32 finished with value: 0.37870216306156407 and parameters: {'learning_rate': 0.2826954269691495, 'max_depth': 4, 'min_child_weight': 2, 'subsample': 0.6282579462608184, 'colsample_bytree': 0.7356619295265998, 'gamma': 0.9432042038087814}. Best is trial 6 with value: 0.430336696519669.\n",
      "[I 2025-05-04 04:26:59,305] Trial 33 finished with value: 0.3929958528075834 and parameters: {'learning_rate': 0.24363041172990468, 'max_depth': 6, 'min_child_weight': 4, 'subsample': 0.5560213506332224, 'colsample_bytree': 0.8376537923487439, 'gamma': 2.5057849402825503}. Best is trial 6 with value: 0.430336696519669.\n",
      "[I 2025-05-04 04:27:01,364] Trial 34 finished with value: 0.42347727506956606 and parameters: {'learning_rate': 0.2698083689013649, 'max_depth': 3, 'min_child_weight': 5, 'subsample': 0.6947655419638731, 'colsample_bytree': 0.8801418312677718, 'gamma': 3.8435525189131825}. Best is trial 6 with value: 0.430336696519669.\n",
      "[I 2025-05-04 04:27:04,957] Trial 35 finished with value: 0.3986171494421455 and parameters: {'learning_rate': 0.2699606339581833, 'max_depth': 3, 'min_child_weight': 7, 'subsample': 0.6924591306957509, 'colsample_bytree': 0.8948023962727636, 'gamma': 4.977383191167526}. Best is trial 6 with value: 0.430336696519669.\n",
      "[I 2025-05-04 04:27:06,839] Trial 36 finished with value: 0.40779423226812156 and parameters: {'learning_rate': 0.20130519886338857, 'max_depth': 3, 'min_child_weight': 5, 'subsample': 0.8341929715691097, 'colsample_bytree': 0.9398644580049498, 'gamma': 3.898900162640219}. Best is trial 6 with value: 0.430336696519669.\n",
      "[I 2025-05-04 04:27:11,577] Trial 37 finished with value: 0.39321528852214777 and parameters: {'learning_rate': 0.018936562252256428, 'max_depth': 8, 'min_child_weight': 6, 'subsample': 0.7695771385440905, 'colsample_bytree': 0.7086292061737094, 'gamma': 2.986112888993176}. Best is trial 6 with value: 0.430336696519669.\n",
      "[I 2025-05-04 04:27:13,809] Trial 38 finished with value: 0.39249539594843463 and parameters: {'learning_rate': 0.2957595661007129, 'max_depth': 4, 'min_child_weight': 3, 'subsample': 0.6477330512825585, 'colsample_bytree': 0.99876438215285, 'gamma': 4.675081847064703}. Best is trial 6 with value: 0.430336696519669.\n",
      "[I 2025-05-04 04:27:15,722] Trial 39 finished with value: 0.3923640167364017 and parameters: {'learning_rate': 0.22899911293558323, 'max_depth': 3, 'min_child_weight': 2, 'subsample': 0.7317890893999422, 'colsample_bytree': 0.8871369101069069, 'gamma': 4.199863328468515}. Best is trial 6 with value: 0.430336696519669.\n",
      "[I 2025-05-04 04:27:21,564] Trial 40 finished with value: 0.38694198051475936 and parameters: {'learning_rate': 0.046405353669308744, 'max_depth': 10, 'min_child_weight': 8, 'subsample': 0.6862477580534283, 'colsample_bytree': 0.8642254203057921, 'gamma': 3.670107057660646}. Best is trial 6 with value: 0.430336696519669.\n",
      "[I 2025-05-04 04:27:23,775] Trial 41 finished with value: 0.3937155342836334 and parameters: {'learning_rate': 0.2632213251146748, 'max_depth': 4, 'min_child_weight': 5, 'subsample': 0.6160738982078315, 'colsample_bytree': 0.7947916644244453, 'gamma': 2.2620568969884607}. Best is trial 6 with value: 0.430336696519669.\n",
      "[I 2025-05-04 04:27:26,299] Trial 42 finished with value: 0.4030188679245283 and parameters: {'learning_rate': 0.23626142632581534, 'max_depth': 5, 'min_child_weight': 4, 'subsample': 0.6507117805946387, 'colsample_bytree': 0.8212672090167654, 'gamma': 1.8554172481336164}. Best is trial 6 with value: 0.430336696519669.\n",
      "[I 2025-05-04 04:27:29,643] Trial 43 finished with value: 0.39850796880298406 and parameters: {'learning_rate': 0.21717718591608312, 'max_depth': 7, 'min_child_weight': 2, 'subsample': 0.7020979746675993, 'colsample_bytree': 0.7576842464864952, 'gamma': 1.4962123153961584}. Best is trial 6 with value: 0.430336696519669.\n",
      "[I 2025-05-04 04:27:31,680] Trial 44 finished with value: 0.39178678834387637 and parameters: {'learning_rate': 0.27275729136262883, 'max_depth': 3, 'min_child_weight': 3, 'subsample': 0.7380532129831893, 'colsample_bytree': 0.8738652502523571, 'gamma': 2.9230282258683613}. Best is trial 6 with value: 0.430336696519669.\n",
      "[I 2025-05-04 04:27:33,914] Trial 45 finished with value: 0.4100376411543287 and parameters: {'learning_rate': 0.16640017828857184, 'max_depth': 4, 'min_child_weight': 4, 'subsample': 0.5711919304880295, 'colsample_bytree': 0.8296823545797753, 'gamma': 0.9637282700673651}. Best is trial 6 with value: 0.430336696519669.\n",
      "[I 2025-05-04 04:27:37,786] Trial 46 finished with value: 0.41057890096973254 and parameters: {'learning_rate': 0.2873522050479308, 'max_depth': 4, 'min_child_weight': 5, 'subsample': 0.7105599642965176, 'colsample_bytree': 0.9278688390679567, 'gamma': 2.6298372556648553}. Best is trial 6 with value: 0.430336696519669.\n",
      "[I 2025-05-04 04:27:40,362] Trial 47 finished with value: 0.3975671091876718 and parameters: {'learning_rate': 0.24067556248543948, 'max_depth': 5, 'min_child_weight': 6, 'subsample': 0.6733503901336678, 'colsample_bytree': 0.7890725797882252, 'gamma': 2.1026670393818128}. Best is trial 6 with value: 0.430336696519669.\n",
      "[I 2025-05-04 04:27:42,308] Trial 48 finished with value: 0.4138893194853511 and parameters: {'learning_rate': 0.19162329172731857, 'max_depth': 3, 'min_child_weight': 3, 'subsample': 0.6388313763466684, 'colsample_bytree': 0.9614467369378156, 'gamma': 0.6171689283621842}. Best is trial 6 with value: 0.430336696519669.\n",
      "[I 2025-05-04 04:27:46,888] Trial 49 finished with value: 0.37746383554690804 and parameters: {'learning_rate': 0.22363517737077188, 'max_depth': 9, 'min_child_weight': 3, 'subsample': 0.7522638227975241, 'colsample_bytree': 0.7300294553981655, 'gamma': 1.4711178477277118}. Best is trial 6 with value: 0.430336696519669.\n"
     ]
    },
    {
     "name": "stdout",
     "output_type": "stream",
     "text": [
      "Best trial:\n",
      "FrozenTrial(number=6, state=1, values=[0.430336696519669], datetime_start=datetime.datetime(2025, 5, 4, 4, 25, 46, 240988), datetime_complete=datetime.datetime(2025, 5, 4, 4, 25, 48, 412852), params={'learning_rate': 0.2259373587023201, 'max_depth': 4, 'min_child_weight': 2, 'subsample': 0.6746386792178822, 'colsample_bytree': 0.7629284117838611, 'gamma': 1.5786263739636737}, user_attrs={}, system_attrs={}, intermediate_values={}, distributions={'learning_rate': FloatDistribution(high=0.3, log=False, low=0.01, step=None), 'max_depth': IntDistribution(high=10, log=False, low=3, step=1), 'min_child_weight': IntDistribution(high=10, log=False, low=1, step=1), 'subsample': FloatDistribution(high=1.0, log=False, low=0.5, step=None), 'colsample_bytree': FloatDistribution(high=1.0, log=False, low=0.5, step=None), 'gamma': FloatDistribution(high=5.0, log=False, low=0.0, step=None)}, trial_id=6, value=None)\n",
      "Best hyperparameters:\n",
      "learning_rate: 0.2259373587023201\n",
      "max_depth: 4\n",
      "min_child_weight: 2\n",
      "subsample: 0.6746386792178822\n",
      "colsample_bytree: 0.7629284117838611\n",
      "gamma: 1.5786263739636737\n",
      "\n",
      "Classification report with threshold = 0.7000000000000002:\n",
      "              precision    recall  f1-score   support\n",
      "\n",
      "           0       0.96      0.85      0.90     50316\n",
      "           1       0.32      0.66      0.43      5599\n",
      "\n",
      "    accuracy                           0.83     55915\n",
      "   macro avg       0.64      0.75      0.67     55915\n",
      "weighted avg       0.89      0.83      0.85     55915\n",
      "\n"
     ]
    }
   ],
   "source": [
    "import optuna\n",
    "import numpy as np\n",
    "from sklearn.metrics import f1_score\n",
    "from sklearn.model_selection import train_test_split\n",
    "import xgboost as xgb\n",
    "\n",
    "\n",
    "THRESHOLD = best_thresh\n",
    "SCALE_POS_WEIGHT =  13.09729821196909 \n",
    "\n",
    "def objective(trial):\n",
    "    # Thử các tham số\n",
    "    param = {\n",
    "        'n_estimators': 200,\n",
    "        'learning_rate': trial.suggest_float('learning_rate', 0.01, 0.3),\n",
    "        'max_depth': trial.suggest_int('max_depth', 3, 10),\n",
    "        'min_child_weight': trial.suggest_int('min_child_weight', 1, 10),\n",
    "        'subsample': trial.suggest_float('subsample', 0.5, 1.0),\n",
    "        'colsample_bytree': trial.suggest_float('colsample_bytree', 0.5, 1.0),\n",
    "        'gamma': trial.suggest_float('gamma', 0, 5),\n",
    "        'scale_pos_weight': SCALE_POS_WEIGHT,\n",
    "        'random_state': 42,\n",
    "        'verbosity': 0,\n",
    "        'n_jobs': -1,\n",
    "        'use_label_encoder': False,\n",
    "        'eval_metric': 'logloss'\n",
    "    }\n",
    "\n",
    "    model = xgb.XGBClassifier(**param)\n",
    "    model.fit(X_train_selected, y_train)\n",
    "\n",
    "    # Dự đoán xác suất\n",
    "    y_probs = model.predict_proba(X_test_selected)[:, 1]\n",
    "    y_pred = (y_probs >= THRESHOLD).astype(int)\n",
    "\n",
    "    # Trả về F1-score của lớp mưa (label=1)\n",
    "    return f1_score(y_test, y_pred, pos_label=1)\n",
    "\n",
    "# Tối ưu với Optuna\n",
    "study = optuna.create_study(direction='maximize')\n",
    "study.optimize(objective, n_trials=50)  # Có thể tăng trials lên 100+\n",
    "\n",
    "# In kết quả tốt nhất\n",
    "print(\"Best trial:\")\n",
    "print(study.best_trial)\n",
    "print(\"Best hyperparameters:\")\n",
    "for key, value in study.best_trial.params.items():\n",
    "    print(f\"{key}: {value}\")\n",
    "\n",
    "# Huấn luyện lại với tham số tốt nhất\n",
    "best_params = study.best_trial.params\n",
    "best_params.update({\n",
    "    'n_estimators': 200,\n",
    "    'scale_pos_weight': SCALE_POS_WEIGHT,\n",
    "    'random_state': 42,\n",
    "    'use_label_encoder': False,\n",
    "    'eval_metric': 'logloss'\n",
    "})\n",
    "\n",
    "best_model = xgb.XGBClassifier(**best_params)\n",
    "best_model.fit(X_train_scaled, y_train)\n",
    "\n",
    "# Dự đoán với threshold\n",
    "y_probs = best_model.predict_proba(X_test_scaled)[:, 1]\n",
    "y_pred_thresh = (y_probs >= THRESHOLD).astype(int)\n",
    "\n",
    "# In kết quả\n",
    "from sklearn.metrics import classification_report\n",
    "# print(\"\\nClassification report with threshold = 0.75:\")\n",
    "print(f\"\\nClassification report with threshold = {THRESHOLD}:\")\n",
    "print(classification_report(y_test, y_pred_thresh))"
   ]
  },
  {
   "cell_type": "markdown",
   "id": "9a61d765",
   "metadata": {
    "papermill": {
     "duration": 0.013707,
     "end_time": "2025-05-04T04:27:49.936654",
     "exception": false,
     "start_time": "2025-05-04T04:27:49.922947",
     "status": "completed"
    },
    "tags": []
   },
   "source": [
    "**Đánh giá:**\n",
    "\n",
    "Lớp mưa:\n",
    "* Recall = 0.80: Mô hình phát hiện được 80% các trường hợp có mưa → rất tốt trong bối cảnh nhãn lệch (khó học).\n",
    "* F1-score = 0.70: Mức F1-score cao hơn mô hình mặc định (~0.57) hoặc các cấu hình thủ công trước đó.\n",
    "* Precision = 0.61: Có một số false positives (dự đoán sai là mưa)\n",
    "\n",
    "Lớp không mưa: Rất tốt, vẫn giữ precision 0.93 và F1-score 0.89\n",
    "\n",
    "**Không bắt buộc phải cân bằng dữ liệu khi dùng XGBoost vì đã dùng scale_pos_weight, threshold và tham số bằng optuna) nhưng vẫn nên thử**\n",
    "\n",
    "=> Chọn đặc trưng hay không thì kết quả cũng tương tự nhau."
   ]
  },
  {
   "cell_type": "markdown",
   "id": "f4518b5b",
   "metadata": {
    "papermill": {
     "duration": 0.01355,
     "end_time": "2025-05-04T04:27:49.964073",
     "exception": false,
     "start_time": "2025-05-04T04:27:49.950523",
     "status": "completed"
    },
    "tags": []
   },
   "source": [
    "# 6. Cân bằng dữ liệu (Oversampling)"
   ]
  },
  {
   "cell_type": "markdown",
   "id": "1a1180ea",
   "metadata": {
    "papermill": {
     "duration": 0.01356,
     "end_time": "2025-05-04T04:27:49.991396",
     "exception": false,
     "start_time": "2025-05-04T04:27:49.977836",
     "status": "completed"
    },
    "tags": []
   },
   "source": [
    "## 6.1 SMOTE"
   ]
  },
  {
   "cell_type": "code",
   "execution_count": 19,
   "id": "dae96ccd",
   "metadata": {
    "execution": {
     "iopub.execute_input": "2025-05-04T04:27:50.020543Z",
     "iopub.status.busy": "2025-05-04T04:27:50.019841Z",
     "iopub.status.idle": "2025-05-04T04:27:51.881551Z",
     "shell.execute_reply": "2025-05-04T04:27:51.880673Z"
    },
    "papermill": {
     "duration": 1.877997,
     "end_time": "2025-05-04T04:27:51.883112",
     "exception": false,
     "start_time": "2025-05-04T04:27:50.005115",
     "status": "completed"
    },
    "tags": []
   },
   "outputs": [],
   "source": [
    "# SMOTE\n",
    "from imblearn.over_sampling import SMOTE\n",
    "\n",
    "sm = SMOTE()\n",
    "\n",
    "X_sm, y_sm = sm.fit_resample(X_train, y_train)\n",
    "X_sm.shape, y_sm.shape\n",
    "\n",
    "scaler = MinMaxScaler()\n",
    "X_train_scaled = scaler.fit_transform(X_sm)\n",
    "X_test_scaled = scaler.transform(X_test)\n",
    "\n",
    "X_train_scaled = pd.DataFrame(X_train_scaled, columns=X_train.columns)\n",
    "X_test_scaled = pd.DataFrame(X_test_scaled, columns=X_test.columns)\n",
    "\n",
    "X_train_selected = X_train_scaled[top_features]\n",
    "X_test_selected = X_test_scaled[top_features]"
   ]
  },
  {
   "cell_type": "code",
   "execution_count": 20,
   "id": "a3d20cb3",
   "metadata": {
    "execution": {
     "iopub.execute_input": "2025-05-04T04:27:51.912970Z",
     "iopub.status.busy": "2025-05-04T04:27:51.912656Z",
     "iopub.status.idle": "2025-05-04T04:27:59.101995Z",
     "shell.execute_reply": "2025-05-04T04:27:59.100861Z"
    },
    "papermill": {
     "duration": 7.206078,
     "end_time": "2025-05-04T04:27:59.103427",
     "exception": false,
     "start_time": "2025-05-04T04:27:51.897349",
     "status": "completed"
    },
    "tags": []
   },
   "outputs": [
    {
     "name": "stdout",
     "output_type": "stream",
     "text": [
      "              precision    recall  f1-score   support\n",
      "\n",
      "           0       0.94      0.93      0.93     50316\n",
      "           1       0.41      0.44      0.42      5599\n",
      "\n",
      "    accuracy                           0.88     55915\n",
      "   macro avg       0.67      0.68      0.68     55915\n",
      "weighted avg       0.88      0.88      0.88     55915\n",
      "\n"
     ]
    }
   ],
   "source": [
    "import xgboost as xgb\n",
    "\n",
    "model_xgb = xgb.XGBClassifier(random_state=42, n_estimators = 200)\n",
    "model_xgb.fit(X_sm, y_sm)\n",
    "\n",
    "y_pred = model_xgb.predict(X_test)\n",
    "print_scores( y_test, y_pred)"
   ]
  },
  {
   "cell_type": "code",
   "execution_count": 21,
   "id": "b2bc2a32",
   "metadata": {
    "execution": {
     "iopub.execute_input": "2025-05-04T04:27:59.133040Z",
     "iopub.status.busy": "2025-05-04T04:27:59.132742Z",
     "iopub.status.idle": "2025-05-04T04:28:06.023756Z",
     "shell.execute_reply": "2025-05-04T04:28:06.022671Z"
    },
    "papermill": {
     "duration": 6.907573,
     "end_time": "2025-05-04T04:28:06.025211",
     "exception": false,
     "start_time": "2025-05-04T04:27:59.117638",
     "status": "completed"
    },
    "tags": []
   },
   "outputs": [
    {
     "name": "stdout",
     "output_type": "stream",
     "text": [
      "              precision    recall  f1-score   support\n",
      "\n",
      "           0       0.94      0.93      0.93     50316\n",
      "           1       0.42      0.49      0.45      5599\n",
      "\n",
      "    accuracy                           0.88     55915\n",
      "   macro avg       0.68      0.71      0.69     55915\n",
      "weighted avg       0.89      0.88      0.89     55915\n",
      "\n"
     ]
    }
   ],
   "source": [
    "import xgboost as xgb\n",
    "\n",
    "model_xgb = xgb.XGBClassifier(random_state=42, n_estimators = 200)\n",
    "model_xgb.fit(X_train_scaled, y_sm)\n",
    "\n",
    "y_pred = model_xgb.predict(X_test_scaled)\n",
    "print_scores( y_test, y_pred)"
   ]
  },
  {
   "cell_type": "code",
   "execution_count": 22,
   "id": "f7d5fa9b",
   "metadata": {
    "execution": {
     "iopub.execute_input": "2025-05-04T04:28:06.055294Z",
     "iopub.status.busy": "2025-05-04T04:28:06.054735Z",
     "iopub.status.idle": "2025-05-04T04:28:12.746969Z",
     "shell.execute_reply": "2025-05-04T04:28:12.745874Z"
    },
    "papermill": {
     "duration": 6.708831,
     "end_time": "2025-05-04T04:28:12.748512",
     "exception": false,
     "start_time": "2025-05-04T04:28:06.039681",
     "status": "completed"
    },
    "tags": []
   },
   "outputs": [
    {
     "name": "stdout",
     "output_type": "stream",
     "text": [
      "              precision    recall  f1-score   support\n",
      "\n",
      "           0       0.94      0.83      0.88     50316\n",
      "           1       0.27      0.56      0.36      5599\n",
      "\n",
      "    accuracy                           0.80     55915\n",
      "   macro avg       0.61      0.70      0.62     55915\n",
      "weighted avg       0.88      0.80      0.83     55915\n",
      "\n"
     ]
    }
   ],
   "source": [
    "import xgboost as xgb\n",
    "\n",
    "model_xgb = xgb.XGBClassifier(random_state=42, n_estimators = 200)\n",
    "model_xgb.fit(X_train_scaled[top_features], y_sm)\n",
    "\n",
    "y_pred = model_xgb.predict(X_test_selected)\n",
    "print_scores( y_test, y_pred)"
   ]
  },
  {
   "cell_type": "code",
   "execution_count": 23,
   "id": "5d538989",
   "metadata": {
    "execution": {
     "iopub.execute_input": "2025-05-04T04:28:12.779227Z",
     "iopub.status.busy": "2025-05-04T04:28:12.778912Z",
     "iopub.status.idle": "2025-05-04T04:28:19.742007Z",
     "shell.execute_reply": "2025-05-04T04:28:19.741131Z"
    },
    "papermill": {
     "duration": 6.98016,
     "end_time": "2025-05-04T04:28:19.743512",
     "exception": false,
     "start_time": "2025-05-04T04:28:12.763352",
     "status": "completed"
    },
    "tags": []
   },
   "outputs": [
    {
     "name": "stdout",
     "output_type": "stream",
     "text": [
      "              precision    recall  f1-score   support\n",
      "\n",
      "           0       0.94      0.92      0.93     50316\n",
      "           1       0.37      0.43      0.40      5599\n",
      "\n",
      "    accuracy                           0.87     55915\n",
      "   macro avg       0.65      0.68      0.66     55915\n",
      "weighted avg       0.88      0.87      0.87     55915\n",
      "\n"
     ]
    }
   ],
   "source": [
    "import xgboost as xgb\n",
    "\n",
    "model_xgb = xgb.XGBClassifier(random_state=42, n_estimators = 200, min_child_weight=5)\n",
    "model_xgb.fit(X_train_scaled, y_sm)\n",
    "\n",
    "y_pred = model_xgb.predict(X_test_scaled)\n",
    "print_scores( y_test, y_pred)"
   ]
  },
  {
   "cell_type": "markdown",
   "id": "0b4c37c2",
   "metadata": {
    "papermill": {
     "duration": 0.014269,
     "end_time": "2025-05-04T04:28:19.772203",
     "exception": false,
     "start_time": "2025-05-04T04:28:19.757934",
     "status": "completed"
    },
    "tags": []
   },
   "source": [
    "=> Thêm min_child_weight có cải thiện"
   ]
  },
  {
   "cell_type": "code",
   "execution_count": 24,
   "id": "0ad5b9d1",
   "metadata": {
    "execution": {
     "iopub.execute_input": "2025-05-04T04:28:19.802089Z",
     "iopub.status.busy": "2025-05-04T04:28:19.801519Z",
     "iopub.status.idle": "2025-05-04T04:28:26.767564Z",
     "shell.execute_reply": "2025-05-04T04:28:26.766521Z"
    },
    "papermill": {
     "duration": 6.982555,
     "end_time": "2025-05-04T04:28:26.768929",
     "exception": false,
     "start_time": "2025-05-04T04:28:19.786374",
     "status": "completed"
    },
    "tags": []
   },
   "outputs": [
    {
     "name": "stdout",
     "output_type": "stream",
     "text": [
      "              precision    recall  f1-score   support\n",
      "\n",
      "           0       0.96      0.74      0.83     50316\n",
      "           1       0.23      0.72      0.35      5599\n",
      "\n",
      "    accuracy                           0.73     55915\n",
      "   macro avg       0.60      0.73      0.59     55915\n",
      "weighted avg       0.89      0.73      0.78     55915\n",
      "\n"
     ]
    }
   ],
   "source": [
    "import xgboost as xgb\n",
    "\n",
    "model_xgb = xgb.XGBClassifier(random_state=42, n_estimators = 200, scale_pos_weight= 13.09729821196909)\n",
    "model_xgb.fit(X_train_scaled, y_sm)\n",
    "\n",
    "y_pred = model_xgb.predict(X_test_scaled)\n",
    "print_scores( y_test, y_pred)"
   ]
  },
  {
   "cell_type": "markdown",
   "id": "b2cfcde1",
   "metadata": {
    "papermill": {
     "duration": 0.014198,
     "end_time": "2025-05-04T04:28:26.797794",
     "exception": false,
     "start_time": "2025-05-04T04:28:26.783596",
     "status": "completed"
    },
    "tags": []
   },
   "source": [
    "=> Thêm scale_pos_weight giảm"
   ]
  },
  {
   "cell_type": "code",
   "execution_count": 25,
   "id": "a871f35e",
   "metadata": {
    "execution": {
     "iopub.execute_input": "2025-05-04T04:28:26.827889Z",
     "iopub.status.busy": "2025-05-04T04:28:26.827025Z",
     "iopub.status.idle": "2025-05-04T04:28:34.114352Z",
     "shell.execute_reply": "2025-05-04T04:28:34.113487Z"
    },
    "papermill": {
     "duration": 7.30389,
     "end_time": "2025-05-04T04:28:34.115872",
     "exception": false,
     "start_time": "2025-05-04T04:28:26.811982",
     "status": "completed"
    },
    "tags": []
   },
   "outputs": [
    {
     "name": "stdout",
     "output_type": "stream",
     "text": [
      "              precision    recall  f1-score   support\n",
      "\n",
      "           0       0.95      0.87      0.91     50316\n",
      "           1       0.35      0.62      0.45      5599\n",
      "\n",
      "    accuracy                           0.85     55915\n",
      "   macro avg       0.65      0.75      0.68     55915\n",
      "weighted avg       0.89      0.85      0.87     55915\n",
      "\n",
      "Best threshold: 0.5000000000000001, F1: 0.4486746361746362\n"
     ]
    }
   ],
   "source": [
    "import xgboost as xgb\n",
    "\n",
    "model_xgb = xgb.XGBClassifier(\n",
    "    n_estimators=200,\n",
    "    max_depth=6,\n",
    "    learning_rate=0.1,\n",
    "    subsample=0.8,\n",
    "    colsample_bytree=0.8,\n",
    "    # scale_pos_weight= 13.09729821196909,\n",
    "    random_state=42,\n",
    "    min_child_weight=5\n",
    "    \n",
    ")\n",
    "\n",
    "model_xgb.fit(X_train_scaled, y_sm)\n",
    "\n",
    "y_pred = model_xgb.predict(X_test_scaled)\n",
    "print_scores(y_test, y_pred)\n",
    "\n",
    "y_probs = model_xgb.predict_proba(X_test_scaled)[:,1]\n",
    "\n",
    "best_thresh = 0.0\n",
    "best_f1 = 0.0\n",
    "for t in np.arange(0.1, 0.9, 0.05):\n",
    "    y_pred = (y_probs >= t).astype(int)\n",
    "    f1 = f1_score(y_test, y_pred)\n",
    "    if f1 > best_f1:\n",
    "        best_f1 = f1\n",
    "        best_thresh = t\n",
    "\n",
    "print(f\"Best threshold: {best_thresh}, F1: {best_f1}\")"
   ]
  },
  {
   "cell_type": "code",
   "execution_count": 26,
   "id": "ad16c7dd",
   "metadata": {
    "execution": {
     "iopub.execute_input": "2025-05-04T04:28:34.146877Z",
     "iopub.status.busy": "2025-05-04T04:28:34.146098Z",
     "iopub.status.idle": "2025-05-04T04:32:29.797677Z",
     "shell.execute_reply": "2025-05-04T04:32:29.796660Z"
    },
    "papermill": {
     "duration": 235.668643,
     "end_time": "2025-05-04T04:32:29.799189",
     "exception": false,
     "start_time": "2025-05-04T04:28:34.130546",
     "status": "completed"
    },
    "tags": []
   },
   "outputs": [
    {
     "name": "stderr",
     "output_type": "stream",
     "text": [
      "[I 2025-05-04 04:28:34,155] A new study created in memory with name: no-name-61c5ca0c-08e0-470c-900a-56ba01e5f783\n",
      "[I 2025-05-04 04:28:42,722] Trial 0 finished with value: 0.4516320474777448 and parameters: {'learning_rate': 0.16081083938860552, 'max_depth': 6, 'min_child_weight': 1, 'subsample': 0.6680309270242579, 'colsample_bytree': 0.7842062869304804, 'gamma': 3.941145457074967}. Best is trial 0 with value: 0.4516320474777448.\n",
      "[I 2025-05-04 04:28:48,158] Trial 1 finished with value: 0.43796610169491523 and parameters: {'learning_rate': 0.12600854808702144, 'max_depth': 4, 'min_child_weight': 10, 'subsample': 0.5545070920087263, 'colsample_bytree': 0.6598016692251338, 'gamma': 3.230115049796632}. Best is trial 0 with value: 0.4516320474777448.\n",
      "[I 2025-05-04 04:28:54,208] Trial 2 finished with value: 0.3717773733697301 and parameters: {'learning_rate': 0.018778733958757832, 'max_depth': 4, 'min_child_weight': 8, 'subsample': 0.54767876518066, 'colsample_bytree': 0.8528077076930538, 'gamma': 1.2527670169813043}. Best is trial 0 with value: 0.4516320474777448.\n",
      "[I 2025-05-04 04:29:05,002] Trial 3 finished with value: 0.39375114196966926 and parameters: {'learning_rate': 0.2105071520735274, 'max_depth': 9, 'min_child_weight': 1, 'subsample': 0.6593199809142709, 'colsample_bytree': 0.8840120193422667, 'gamma': 1.8117759323375808}. Best is trial 0 with value: 0.4516320474777448.\n",
      "[I 2025-05-04 04:29:17,406] Trial 4 finished with value: 0.39633646222546254 and parameters: {'learning_rate': 0.01402733655454931, 'max_depth': 8, 'min_child_weight': 1, 'subsample': 0.6926239967115044, 'colsample_bytree': 0.598806888031485, 'gamma': 3.815077142758101}. Best is trial 0 with value: 0.4516320474777448.\n",
      "[I 2025-05-04 04:29:26,597] Trial 5 finished with value: 0.43674581549240954 and parameters: {'learning_rate': 0.09982084003019226, 'max_depth': 8, 'min_child_weight': 5, 'subsample': 0.6908538822019539, 'colsample_bytree': 0.6078895486524659, 'gamma': 0.07187732957857906}. Best is trial 0 with value: 0.4516320474777448.\n",
      "[I 2025-05-04 04:29:34,229] Trial 6 finished with value: 0.3958956819153484 and parameters: {'learning_rate': 0.28716915267072146, 'max_depth': 10, 'min_child_weight': 5, 'subsample': 0.7138117648757657, 'colsample_bytree': 0.7964656010609372, 'gamma': 3.825803021018431}. Best is trial 0 with value: 0.4516320474777448.\n",
      "[I 2025-05-04 04:29:47,687] Trial 7 finished with value: 0.43200532313066625 and parameters: {'learning_rate': 0.08961525540399204, 'max_depth': 10, 'min_child_weight': 10, 'subsample': 0.8640121043170159, 'colsample_bytree': 0.909394741559026, 'gamma': 1.7402306914773025}. Best is trial 0 with value: 0.4516320474777448.\n",
      "[I 2025-05-04 04:29:52,732] Trial 8 finished with value: 0.40451790153067896 and parameters: {'learning_rate': 0.07816462223391474, 'max_depth': 3, 'min_child_weight': 5, 'subsample': 0.831468458435871, 'colsample_bytree': 0.618978444216403, 'gamma': 3.880352623668042}. Best is trial 0 with value: 0.4516320474777448.\n",
      "[I 2025-05-04 04:30:03,103] Trial 9 finished with value: 0.42032124165313123 and parameters: {'learning_rate': 0.2383315072019871, 'max_depth': 9, 'min_child_weight': 9, 'subsample': 0.6279078752056275, 'colsample_bytree': 0.9220741922696299, 'gamma': 2.0858238316439266}. Best is trial 0 with value: 0.4516320474777448.\n",
      "[I 2025-05-04 04:30:09,551] Trial 10 finished with value: 0.4505698005698006 and parameters: {'learning_rate': 0.19071230191737223, 'max_depth': 6, 'min_child_weight': 3, 'subsample': 0.9620603550796202, 'colsample_bytree': 0.501766608323502, 'gamma': 4.997466496827466}. Best is trial 0 with value: 0.4516320474777448.\n",
      "[I 2025-05-04 04:30:17,871] Trial 11 finished with value: 0.4479182323763716 and parameters: {'learning_rate': 0.1809353015352848, 'max_depth': 6, 'min_child_weight': 3, 'subsample': 0.9494108399206831, 'colsample_bytree': 0.5073512203159117, 'gamma': 4.9949236667417605}. Best is trial 0 with value: 0.4516320474777448.\n",
      "[I 2025-05-04 04:30:24,637] Trial 12 finished with value: 0.43981848303680765 and parameters: {'learning_rate': 0.16107855616851072, 'max_depth': 6, 'min_child_weight': 3, 'subsample': 0.9774862021949082, 'colsample_bytree': 0.7164203179026043, 'gamma': 4.999189249768963}. Best is trial 0 with value: 0.4516320474777448.\n",
      "[I 2025-05-04 04:30:31,056] Trial 13 finished with value: 0.42834339648830594 and parameters: {'learning_rate': 0.2312279738401108, 'max_depth': 5, 'min_child_weight': 3, 'subsample': 0.8011108965728457, 'colsample_bytree': 0.9978077240156039, 'gamma': 4.431508373861587}. Best is trial 0 with value: 0.4516320474777448.\n",
      "[I 2025-05-04 04:30:38,471] Trial 14 finished with value: 0.42617528939286564 and parameters: {'learning_rate': 0.1861678450865544, 'max_depth': 7, 'min_child_weight': 2, 'subsample': 0.8986927254529611, 'colsample_bytree': 0.506433260960047, 'gamma': 2.928435602523061}. Best is trial 0 with value: 0.4516320474777448.\n",
      "[I 2025-05-04 04:30:44,791] Trial 15 finished with value: 0.44498048953529623 and parameters: {'learning_rate': 0.27824378110071457, 'max_depth': 5, 'min_child_weight': 7, 'subsample': 0.7873339210629337, 'colsample_bytree': 0.7605064757362827, 'gamma': 4.3822991179331625}. Best is trial 0 with value: 0.4516320474777448.\n",
      "[I 2025-05-04 04:30:54,172] Trial 16 finished with value: 0.42210295562778744 and parameters: {'learning_rate': 0.1347364030100531, 'max_depth': 7, 'min_child_weight': 2, 'subsample': 0.6266806974196772, 'colsample_bytree': 0.7167545002494635, 'gamma': 3.082115938460865}. Best is trial 0 with value: 0.4516320474777448.\n",
      "[I 2025-05-04 04:31:00,243] Trial 17 finished with value: 0.43092783505154636 and parameters: {'learning_rate': 0.252722823932667, 'max_depth': 5, 'min_child_weight': 4, 'subsample': 0.7516134187326867, 'colsample_bytree': 0.8198182214777441, 'gamma': 4.393256215530377}. Best is trial 0 with value: 0.4516320474777448.\n",
      "[I 2025-05-04 04:31:07,198] Trial 18 finished with value: 0.44360561678997434 and parameters: {'learning_rate': 0.2016507730528618, 'max_depth': 6, 'min_child_weight': 1, 'subsample': 0.5085490252875293, 'colsample_bytree': 0.6986036738129765, 'gamma': 3.5434499481374924}. Best is trial 0 with value: 0.4516320474777448.\n",
      "[I 2025-05-04 04:31:14,577] Trial 19 finished with value: 0.4126065535309299 and parameters: {'learning_rate': 0.16413187179506075, 'max_depth': 7, 'min_child_weight': 6, 'subsample': 0.8980355609459694, 'colsample_bytree': 0.5562086948672208, 'gamma': 4.595285969416845}. Best is trial 0 with value: 0.4516320474777448.\n",
      "[I 2025-05-04 04:31:21,211] Trial 20 finished with value: 0.3837728194726166 and parameters: {'learning_rate': 0.05446649510683223, 'max_depth': 3, 'min_child_weight': 2, 'subsample': 0.9893402500287417, 'colsample_bytree': 0.7700150730752124, 'gamma': 2.351522083379441}. Best is trial 0 with value: 0.4516320474777448.\n",
      "[I 2025-05-04 04:31:27,704] Trial 21 finished with value: 0.4379386120365776 and parameters: {'learning_rate': 0.1837870118565601, 'max_depth': 6, 'min_child_weight': 3, 'subsample': 0.9381386396971877, 'colsample_bytree': 0.5133849270843738, 'gamma': 4.82124270611225}. Best is trial 0 with value: 0.4516320474777448.\n",
      "[I 2025-05-04 04:31:34,650] Trial 22 finished with value: 0.43435381138278206 and parameters: {'learning_rate': 0.13056554285716462, 'max_depth': 6, 'min_child_weight': 4, 'subsample': 0.9326498689615703, 'colsample_bytree': 0.5575098318560378, 'gamma': 4.990939693310166}. Best is trial 0 with value: 0.4516320474777448.\n",
      "[I 2025-05-04 04:31:40,726] Trial 23 finished with value: 0.44835572024085224 and parameters: {'learning_rate': 0.16824208377863728, 'max_depth': 5, 'min_child_weight': 4, 'subsample': 0.8604687405498544, 'colsample_bytree': 0.6601126748098716, 'gamma': 4.096386937160537}. Best is trial 0 with value: 0.4516320474777448.\n",
      "[I 2025-05-04 04:31:46,340] Trial 24 finished with value: 0.43086853131015734 and parameters: {'learning_rate': 0.14470201397039326, 'max_depth': 4, 'min_child_weight': 4, 'subsample': 0.8689604115119041, 'colsample_bytree': 0.6842029841839923, 'gamma': 4.097409378155165}. Best is trial 0 with value: 0.4516320474777448.\n",
      "[I 2025-05-04 04:31:54,021] Trial 25 finished with value: 0.42726702446504494 and parameters: {'learning_rate': 0.21333281913769825, 'max_depth': 5, 'min_child_weight': 2, 'subsample': 0.825374624155089, 'colsample_bytree': 0.6520764876092218, 'gamma': 2.695100079512051}. Best is trial 0 with value: 0.4516320474777448.\n",
      "[I 2025-05-04 04:32:00,421] Trial 26 finished with value: 0.4404513675947504 and parameters: {'learning_rate': 0.10864980080202702, 'max_depth': 5, 'min_child_weight': 6, 'subsample': 0.7462534336655019, 'colsample_bytree': 0.5610490912491436, 'gamma': 3.424373136724126}. Best is trial 0 with value: 0.4516320474777448.\n",
      "[I 2025-05-04 04:32:08,394] Trial 27 finished with value: 0.4167423429373401 and parameters: {'learning_rate': 0.1733313028711716, 'max_depth': 8, 'min_child_weight': 4, 'subsample': 0.8906159458576813, 'colsample_bytree': 0.8250181235811757, 'gamma': 4.097824976483663}. Best is trial 0 with value: 0.4516320474777448.\n",
      "[I 2025-05-04 04:32:13,932] Trial 28 finished with value: 0.4334564518050757 and parameters: {'learning_rate': 0.14978337767342478, 'max_depth': 4, 'min_child_weight': 1, 'subsample': 0.7579985430485182, 'colsample_bytree': 0.7367320276997463, 'gamma': 4.60046906734137}. Best is trial 0 with value: 0.4516320474777448.\n",
      "[I 2025-05-04 04:32:21,696] Trial 29 finished with value: 0.4389882056227283 and parameters: {'learning_rate': 0.11683632064582108, 'max_depth': 7, 'min_child_weight': 2, 'subsample': 0.5996120774745393, 'colsample_bytree': 0.6535426484206155, 'gamma': 3.3762862276188765}. Best is trial 0 with value: 0.4516320474777448.\n"
     ]
    },
    {
     "name": "stdout",
     "output_type": "stream",
     "text": [
      "Best trial:\n",
      "FrozenTrial(number=0, state=1, values=[0.4516320474777448], datetime_start=datetime.datetime(2025, 5, 4, 4, 28, 34, 157173), datetime_complete=datetime.datetime(2025, 5, 4, 4, 28, 42, 722069), params={'learning_rate': 0.16081083938860552, 'max_depth': 6, 'min_child_weight': 1, 'subsample': 0.6680309270242579, 'colsample_bytree': 0.7842062869304804, 'gamma': 3.941145457074967}, user_attrs={}, system_attrs={}, intermediate_values={}, distributions={'learning_rate': FloatDistribution(high=0.3, log=False, low=0.01, step=None), 'max_depth': IntDistribution(high=10, log=False, low=3, step=1), 'min_child_weight': IntDistribution(high=10, log=False, low=1, step=1), 'subsample': FloatDistribution(high=1.0, log=False, low=0.5, step=None), 'colsample_bytree': FloatDistribution(high=1.0, log=False, low=0.5, step=None), 'gamma': FloatDistribution(high=5.0, log=False, low=0.0, step=None)}, trial_id=0, value=None)\n",
      "Best hyperparameters:\n",
      "learning_rate: 0.16081083938860552\n",
      "max_depth: 6\n",
      "min_child_weight: 1\n",
      "subsample: 0.6680309270242579\n",
      "colsample_bytree: 0.7842062869304804\n",
      "gamma: 3.941145457074967\n",
      "\n",
      "Classification report with threshold = 0.5000000000000001:\n",
      "              precision    recall  f1-score   support\n",
      "\n",
      "           0       0.95      0.90      0.92     50316\n",
      "           1       0.39      0.54      0.45      5599\n",
      "\n",
      "    accuracy                           0.87     55915\n",
      "   macro avg       0.67      0.72      0.69     55915\n",
      "weighted avg       0.89      0.87      0.88     55915\n",
      "\n"
     ]
    }
   ],
   "source": [
    "import optuna\n",
    "import numpy as np\n",
    "from sklearn.metrics import f1_score\n",
    "from sklearn.model_selection import train_test_split\n",
    "import xgboost as xgb\n",
    "\n",
    "THRESHOLD = best_thresh\n",
    "# SCALE_POS_WEIGHT =  13.09729821196909 \n",
    "\n",
    "def objective(trial):\n",
    "    # Thử các tham số\n",
    "    param = {\n",
    "        'n_estimators': 200,\n",
    "        'learning_rate': trial.suggest_float('learning_rate', 0.01, 0.3),\n",
    "        'max_depth': trial.suggest_int('max_depth', 3, 10),\n",
    "        'min_child_weight': trial.suggest_int('min_child_weight', 1, 10),\n",
    "        'subsample': trial.suggest_float('subsample', 0.5, 1.0),\n",
    "        'colsample_bytree': trial.suggest_float('colsample_bytree', 0.5, 1.0),\n",
    "        'gamma': trial.suggest_float('gamma', 0, 5),\n",
    "        # 'scale_pos_weight': SCALE_POS_WEIGHT,\n",
    "        'random_state': 42,\n",
    "        'verbosity': 0,\n",
    "        'n_jobs': -1,\n",
    "        'use_label_encoder': False,\n",
    "        'eval_metric': 'logloss'\n",
    "    }\n",
    "\n",
    "    model = xgb.XGBClassifier(**param)\n",
    "    model.fit(X_train_scaled, y_sm)\n",
    "\n",
    "    # Dự đoán xác suất\n",
    "    y_probs = model.predict_proba(X_test_scaled)[:, 1]\n",
    "    y_pred = (y_probs >= THRESHOLD).astype(int)\n",
    "\n",
    "    # Trả về F1-score của lớp mưa (label=1)\n",
    "    return f1_score(y_test, y_pred, pos_label=1)\n",
    "\n",
    "\n",
    "# Tối ưu với Optuna\n",
    "study = optuna.create_study(direction='maximize')\n",
    "study.optimize(objective, n_trials=30)  # Có thể tăng trials lên 100+\n",
    "\n",
    "# In kết quả tốt nhất\n",
    "print(\"Best trial:\")\n",
    "print(study.best_trial)\n",
    "print(\"Best hyperparameters:\")\n",
    "for key, value in study.best_trial.params.items():\n",
    "    print(f\"{key}: {value}\")\n",
    "\n",
    "# Huấn luyện lại với tham số tốt nhất\n",
    "best_params = study.best_trial.params\n",
    "best_params.update({\n",
    "    'n_estimators': 200,\n",
    "    # 'scale_pos_weight': SCALE_POS_WEIGHT,\n",
    "    'random_state': 42,\n",
    "    'use_label_encoder': False,\n",
    "    'eval_metric': 'logloss'\n",
    "})\n",
    "\n",
    "best_model = xgb.XGBClassifier(**best_params)\n",
    "best_model.fit(X_train_scaled, y_sm)\n",
    "\n",
    "# Dự đoán với threshold\n",
    "y_probs = best_model.predict_proba(X_test_scaled)[:, 1]\n",
    "y_pred_thresh = (y_probs >= THRESHOLD).astype(int)\n",
    "\n",
    "# In kết quả\n",
    "from sklearn.metrics import classification_report\n",
    "print(f\"\\nClassification report with threshold = {THRESHOLD}:\")\n",
    "print(classification_report(y_test, y_pred_thresh))"
   ]
  },
  {
   "cell_type": "code",
   "execution_count": 27,
   "id": "525976dd",
   "metadata": {
    "execution": {
     "iopub.execute_input": "2025-05-04T04:32:29.833420Z",
     "iopub.status.busy": "2025-05-04T04:32:29.832737Z",
     "iopub.status.idle": "2025-05-04T04:32:35.425188Z",
     "shell.execute_reply": "2025-05-04T04:32:35.424185Z"
    },
    "papermill": {
     "duration": 5.610914,
     "end_time": "2025-05-04T04:32:35.426693",
     "exception": false,
     "start_time": "2025-05-04T04:32:29.815779",
     "status": "completed"
    },
    "tags": []
   },
   "outputs": [
    {
     "name": "stdout",
     "output_type": "stream",
     "text": [
      "              precision    recall  f1-score   support\n",
      "\n",
      "           0       0.96      0.81      0.87     50316\n",
      "           1       0.28      0.66      0.39      5599\n",
      "\n",
      "    accuracy                           0.79     55915\n",
      "   macro avg       0.62      0.74      0.63     55915\n",
      "weighted avg       0.89      0.79      0.83     55915\n",
      "\n",
      "Best threshold: 0.6500000000000001, F1: 0.3995312607706624\n"
     ]
    }
   ],
   "source": [
    "import xgboost as xgb\n",
    "\n",
    "model_xgb = xgb.XGBClassifier(\n",
    "    n_estimators=200,\n",
    "    max_depth=6,\n",
    "    learning_rate=0.1,\n",
    "    subsample=0.8,\n",
    "    colsample_bytree=0.8,\n",
    "    # scale_pos_weight= 13.09729821196909,\n",
    "    random_state=42,\n",
    "    min_child_weight=5\n",
    "    \n",
    ")\n",
    "\n",
    "model_xgb.fit(X_train_scaled[top_features], y_sm)\n",
    "\n",
    "y_pred = model_xgb.predict(X_test_selected)\n",
    "print_scores(y_test, y_pred)\n",
    "\n",
    "y_probs = model_xgb.predict_proba(X_test_selected)[:,1]\n",
    "\n",
    "best_thresh = 0.0\n",
    "best_f1 = 0.0\n",
    "for t in np.arange(0.1, 0.9, 0.05):\n",
    "    y_pred = (y_probs >= t).astype(int)\n",
    "    f1 = f1_score(y_test, y_pred)\n",
    "    if f1 > best_f1:\n",
    "        best_f1 = f1\n",
    "        best_thresh = t\n",
    "\n",
    "print(f\"Best threshold: {best_thresh}, F1: {best_f1}\")"
   ]
  },
  {
   "cell_type": "code",
   "execution_count": 28,
   "id": "a9d705a0",
   "metadata": {
    "execution": {
     "iopub.execute_input": "2025-05-04T04:32:35.460542Z",
     "iopub.status.busy": "2025-05-04T04:32:35.460228Z",
     "iopub.status.idle": "2025-05-04T04:35:07.233272Z",
     "shell.execute_reply": "2025-05-04T04:35:07.232252Z"
    },
    "papermill": {
     "duration": 151.791727,
     "end_time": "2025-05-04T04:35:07.234939",
     "exception": false,
     "start_time": "2025-05-04T04:32:35.443212",
     "status": "completed"
    },
    "tags": []
   },
   "outputs": [
    {
     "name": "stderr",
     "output_type": "stream",
     "text": [
      "[I 2025-05-04 04:32:35,466] A new study created in memory with name: no-name-c28b86c3-a835-4ea5-b7de-2198bae4de31\n",
      "[I 2025-05-04 04:32:41,349] Trial 0 finished with value: 0.39097523333578305 and parameters: {'learning_rate': 0.11596671917265597, 'max_depth': 7, 'min_child_weight': 4, 'subsample': 0.697395400684699, 'colsample_bytree': 0.7201606045635833, 'gamma': 2.4257111650123147}. Best is trial 0 with value: 0.39097523333578305.\n",
      "[I 2025-05-04 04:32:49,676] Trial 1 finished with value: 0.3886628508378733 and parameters: {'learning_rate': 0.060514995150434, 'max_depth': 9, 'min_child_weight': 1, 'subsample': 0.6007186706121943, 'colsample_bytree': 0.8119609942475609, 'gamma': 3.3899721198518717}. Best is trial 0 with value: 0.39097523333578305.\n",
      "[I 2025-05-04 04:32:57,459] Trial 2 finished with value: 0.38477988348941816 and parameters: {'learning_rate': 0.18961712750571172, 'max_depth': 8, 'min_child_weight': 9, 'subsample': 0.5530902497382189, 'colsample_bytree': 0.7020605657730364, 'gamma': 4.0872686414355375}. Best is trial 0 with value: 0.39097523333578305.\n",
      "[I 2025-05-04 04:33:02,612] Trial 3 finished with value: 0.3898578337974498 and parameters: {'learning_rate': 0.10933336735589315, 'max_depth': 6, 'min_child_weight': 5, 'subsample': 0.9045488414792435, 'colsample_bytree': 0.7122595217823995, 'gamma': 0.2477415553972323}. Best is trial 0 with value: 0.39097523333578305.\n",
      "[I 2025-05-04 04:33:06,381] Trial 4 finished with value: 0.40862422997946607 and parameters: {'learning_rate': 0.039675319624094284, 'max_depth': 3, 'min_child_weight': 8, 'subsample': 0.615200731670936, 'colsample_bytree': 0.5923682704438334, 'gamma': 1.2463300169579266}. Best is trial 4 with value: 0.40862422997946607.\n",
      "[I 2025-05-04 04:33:11,683] Trial 5 finished with value: 0.3831898438640012 and parameters: {'learning_rate': 0.19657804928253014, 'max_depth': 6, 'min_child_weight': 3, 'subsample': 0.6721807756931232, 'colsample_bytree': 0.6444191918563238, 'gamma': 0.6986956077232326}. Best is trial 4 with value: 0.40862422997946607.\n",
      "[I 2025-05-04 04:33:17,311] Trial 6 finished with value: 0.39741448180695765 and parameters: {'learning_rate': 0.18510826321918222, 'max_depth': 7, 'min_child_weight': 10, 'subsample': 0.9588684666345012, 'colsample_bytree': 0.6237587437077173, 'gamma': 3.3217239141002155}. Best is trial 4 with value: 0.40862422997946607.\n",
      "[I 2025-05-04 04:33:24,166] Trial 7 finished with value: 0.376316538571022 and parameters: {'learning_rate': 0.22707660311837824, 'max_depth': 10, 'min_child_weight': 4, 'subsample': 0.8723078644821983, 'colsample_bytree': 0.8621976927230031, 'gamma': 2.669076946185171}. Best is trial 4 with value: 0.40862422997946607.\n",
      "[I 2025-05-04 04:33:33,933] Trial 8 finished with value: 0.3938836188588418 and parameters: {'learning_rate': 0.06264745174017083, 'max_depth': 9, 'min_child_weight': 5, 'subsample': 0.5702318273312227, 'colsample_bytree': 0.9417480138909304, 'gamma': 2.2906456240894393}. Best is trial 4 with value: 0.40862422997946607.\n",
      "[I 2025-05-04 04:33:37,587] Trial 9 finished with value: 0.4182409739714526 and parameters: {'learning_rate': 0.09413557722939124, 'max_depth': 3, 'min_child_weight': 6, 'subsample': 0.6556097579054379, 'colsample_bytree': 0.624799617244362, 'gamma': 2.155492564051788}. Best is trial 9 with value: 0.4182409739714526.\n",
      "[I 2025-05-04 04:33:41,260] Trial 10 finished with value: 0.42155895411938826 and parameters: {'learning_rate': 0.2989291547723118, 'max_depth': 3, 'min_child_weight': 7, 'subsample': 0.7902546060840123, 'colsample_bytree': 0.5188413789142464, 'gamma': 1.4933284547580334}. Best is trial 10 with value: 0.42155895411938826.\n",
      "[I 2025-05-04 04:33:44,854] Trial 11 finished with value: 0.4014396812134456 and parameters: {'learning_rate': 0.29982208159077106, 'max_depth': 3, 'min_child_weight': 7, 'subsample': 0.7872603185258418, 'colsample_bytree': 0.5038318066202639, 'gamma': 1.5245313172406703}. Best is trial 10 with value: 0.42155895411938826.\n",
      "[I 2025-05-04 04:33:48,847] Trial 12 finished with value: 0.41026694045174533 and parameters: {'learning_rate': 0.28695051684929285, 'max_depth': 4, 'min_child_weight': 7, 'subsample': 0.7869752622776074, 'colsample_bytree': 0.502902527816176, 'gamma': 1.6002294646644346}. Best is trial 10 with value: 0.42155895411938826.\n",
      "[I 2025-05-04 04:33:53,507] Trial 13 finished with value: 0.38923367512142476 and parameters: {'learning_rate': 0.11182965779889475, 'max_depth': 5, 'min_child_weight': 7, 'subsample': 0.7316892120675069, 'colsample_bytree': 0.5727996877314251, 'gamma': 1.841753515033385}. Best is trial 10 with value: 0.42155895411938826.\n",
      "[I 2025-05-04 04:33:57,509] Trial 14 finished with value: 0.3960119919124311 and parameters: {'learning_rate': 0.24835266168528128, 'max_depth': 4, 'min_child_weight': 6, 'subsample': 0.8259729147970238, 'colsample_bytree': 0.5612725340807252, 'gamma': 4.798473985021504}. Best is trial 10 with value: 0.42155895411938826.\n",
      "[I 2025-05-04 04:34:03,190] Trial 15 finished with value: 0.41418028133476315 and parameters: {'learning_rate': 0.1447324234733509, 'max_depth': 4, 'min_child_weight': 8, 'subsample': 0.6669579404310804, 'colsample_bytree': 0.6359385731842677, 'gamma': 0.6387637595249136}. Best is trial 10 with value: 0.42155895411938826.\n",
      "[I 2025-05-04 04:34:07,178] Trial 16 finished with value: 0.40342144686609 and parameters: {'learning_rate': 0.013249071978486016, 'max_depth': 3, 'min_child_weight': 2, 'subsample': 0.5039551587251886, 'colsample_bytree': 0.5389144997163794, 'gamma': 2.8827587217275377}. Best is trial 10 with value: 0.42155895411938826.\n",
      "[I 2025-05-04 04:34:11,752] Trial 17 finished with value: 0.3938218589832387 and parameters: {'learning_rate': 0.15174616419629602, 'max_depth': 5, 'min_child_weight': 6, 'subsample': 0.7542631765463441, 'colsample_bytree': 0.7685344251669772, 'gamma': 0.9790891363450418}. Best is trial 10 with value: 0.42155895411938826.\n",
      "[I 2025-05-04 04:34:16,245] Trial 18 finished with value: 0.3869205892921308 and parameters: {'learning_rate': 0.254753527326377, 'max_depth': 5, 'min_child_weight': 10, 'subsample': 0.8390925629832457, 'colsample_bytree': 0.6706500960761455, 'gamma': 2.016054198230783}. Best is trial 10 with value: 0.42155895411938826.\n",
      "[I 2025-05-04 04:34:19,896] Trial 19 finished with value: 0.41532692999126813 and parameters: {'learning_rate': 0.08333382806293317, 'max_depth': 3, 'min_child_weight': 8, 'subsample': 0.6302722422170308, 'colsample_bytree': 0.5984231365462513, 'gamma': 0.28160940456908357}. Best is trial 10 with value: 0.42155895411938826.\n",
      "[I 2025-05-04 04:34:23,796] Trial 20 finished with value: 0.3973194984868137 and parameters: {'learning_rate': 0.21788424687638963, 'max_depth': 4, 'min_child_weight': 4, 'subsample': 0.9772678412621842, 'colsample_bytree': 0.7776095865509467, 'gamma': 3.683311651396238}. Best is trial 10 with value: 0.42155895411938826.\n",
      "[I 2025-05-04 04:34:27,515] Trial 21 finished with value: 0.4182230935919926 and parameters: {'learning_rate': 0.0950779393288928, 'max_depth': 3, 'min_child_weight': 8, 'subsample': 0.667208077527392, 'colsample_bytree': 0.6041088561316557, 'gamma': 0.0032351681021450807}. Best is trial 10 with value: 0.42155895411938826.\n",
      "[I 2025-05-04 04:34:32,801] Trial 22 finished with value: 0.42146720579740593 and parameters: {'learning_rate': 0.1278323233338905, 'max_depth': 3, 'min_child_weight': 9, 'subsample': 0.724885830025246, 'colsample_bytree': 0.544447661417366, 'gamma': 0.10052607452077504}. Best is trial 10 with value: 0.42155895411938826.\n",
      "[I 2025-05-04 04:34:36,867] Trial 23 finished with value: 0.39085965820818225 and parameters: {'learning_rate': 0.13406762516351844, 'max_depth': 4, 'min_child_weight': 9, 'subsample': 0.7268771314046591, 'colsample_bytree': 0.5402829198222834, 'gamma': 0.9960399165376002}. Best is trial 10 with value: 0.42155895411938826.\n",
      "[I 2025-05-04 04:34:41,430] Trial 24 finished with value: 0.39868226435390614 and parameters: {'learning_rate': 0.16923690659629825, 'max_depth': 5, 'min_child_weight': 9, 'subsample': 0.7747358871935072, 'colsample_bytree': 0.5199441448709515, 'gamma': 2.0208593452755643}. Best is trial 10 with value: 0.42155895411938826.\n",
      "[I 2025-05-04 04:34:45,024] Trial 25 finished with value: 0.42069376048487467 and parameters: {'learning_rate': 0.13213786043597195, 'max_depth': 3, 'min_child_weight': 6, 'subsample': 0.8235198640476172, 'colsample_bytree': 0.9973005601093453, 'gamma': 2.9647014419156896}. Best is trial 10 with value: 0.42155895411938826.\n",
      "[I 2025-05-04 04:34:48,968] Trial 26 finished with value: 0.40736848612227233 and parameters: {'learning_rate': 0.12640408977867484, 'max_depth': 4, 'min_child_weight': 7, 'subsample': 0.9214075137288341, 'colsample_bytree': 0.9928817428899013, 'gamma': 2.9490233054791477}. Best is trial 10 with value: 0.42155895411938826.\n",
      "[I 2025-05-04 04:34:52,594] Trial 27 finished with value: 0.4049572145175568 and parameters: {'learning_rate': 0.16544397980271866, 'max_depth': 3, 'min_child_weight': 9, 'subsample': 0.8306168187834384, 'colsample_bytree': 0.8969821516675578, 'gamma': 4.32535337391122}. Best is trial 10 with value: 0.42155895411938826.\n",
      "[I 2025-05-04 04:34:57,729] Trial 28 finished with value: 0.3747289719626169 and parameters: {'learning_rate': 0.26614384474937935, 'max_depth': 6, 'min_child_weight': 5, 'subsample': 0.87151570873751, 'colsample_bytree': 0.8342092979406259, 'gamma': 1.3485781307081943}. Best is trial 10 with value: 0.42155895411938826.\n",
      "[I 2025-05-04 04:35:03,464] Trial 29 finished with value: 0.38389280287332506 and parameters: {'learning_rate': 0.21250687779225397, 'max_depth': 5, 'min_child_weight': 10, 'subsample': 0.727585731951967, 'colsample_bytree': 0.9835893686865901, 'gamma': 2.517666535658284}. Best is trial 10 with value: 0.42155895411938826.\n"
     ]
    },
    {
     "name": "stdout",
     "output_type": "stream",
     "text": [
      "Best trial:\n",
      "FrozenTrial(number=10, state=1, values=[0.42155895411938826], datetime_start=datetime.datetime(2025, 5, 4, 4, 33, 37, 588185), datetime_complete=datetime.datetime(2025, 5, 4, 4, 33, 41, 260378), params={'learning_rate': 0.2989291547723118, 'max_depth': 3, 'min_child_weight': 7, 'subsample': 0.7902546060840123, 'colsample_bytree': 0.5188413789142464, 'gamma': 1.4933284547580334}, user_attrs={}, system_attrs={}, intermediate_values={}, distributions={'learning_rate': FloatDistribution(high=0.3, log=False, low=0.01, step=None), 'max_depth': IntDistribution(high=10, log=False, low=3, step=1), 'min_child_weight': IntDistribution(high=10, log=False, low=1, step=1), 'subsample': FloatDistribution(high=1.0, log=False, low=0.5, step=None), 'colsample_bytree': FloatDistribution(high=1.0, log=False, low=0.5, step=None), 'gamma': FloatDistribution(high=5.0, log=False, low=0.0, step=None)}, trial_id=10, value=None)\n",
      "Best hyperparameters:\n",
      "learning_rate: 0.2989291547723118\n",
      "max_depth: 3\n",
      "min_child_weight: 7\n",
      "subsample: 0.7902546060840123\n",
      "colsample_bytree: 0.5188413789142464\n",
      "gamma: 1.4933284547580334\n",
      "\n",
      "Classification report with threshold = 0.6500000000000001:\n",
      "              precision    recall  f1-score   support\n",
      "\n",
      "           0       0.95      0.86      0.90     50316\n",
      "           1       0.32      0.61      0.42      5599\n",
      "\n",
      "    accuracy                           0.83     55915\n",
      "   macro avg       0.64      0.73      0.66     55915\n",
      "weighted avg       0.89      0.83      0.85     55915\n",
      "\n"
     ]
    }
   ],
   "source": [
    "import optuna\n",
    "import numpy as np\n",
    "from sklearn.metrics import f1_score\n",
    "from sklearn.model_selection import train_test_split\n",
    "import xgboost as xgb\n",
    "\n",
    "\n",
    "THRESHOLD = best_thresh\n",
    "# SCALE_POS_WEIGHT =  13.09729821196909 \n",
    "\n",
    "def objective(trial):\n",
    "    # Thử các tham số\n",
    "    param = {\n",
    "        'n_estimators': 200,\n",
    "        'learning_rate': trial.suggest_float('learning_rate', 0.01, 0.3),\n",
    "        'max_depth': trial.suggest_int('max_depth', 3, 10),\n",
    "        'min_child_weight': trial.suggest_int('min_child_weight', 1, 10),\n",
    "        'subsample': trial.suggest_float('subsample', 0.5, 1.0),\n",
    "        'colsample_bytree': trial.suggest_float('colsample_bytree', 0.5, 1.0),\n",
    "        'gamma': trial.suggest_float('gamma', 0, 5),\n",
    "        # 'scale_pos_weight': SCALE_POS_WEIGHT,\n",
    "        'random_state': 42,\n",
    "        'verbosity': 0,\n",
    "        'n_jobs': -1,\n",
    "        'use_label_encoder': False,\n",
    "        'eval_metric': 'logloss'\n",
    "    }\n",
    "\n",
    "    model = xgb.XGBClassifier(**param)\n",
    "    model.fit(X_train_scaled[top_features], y_sm)\n",
    "\n",
    "    # Dự đoán xác suất\n",
    "    y_probs = model.predict_proba(X_test_selected)[:, 1]\n",
    "    y_pred = (y_probs >= THRESHOLD).astype(int)\n",
    "\n",
    "    # Trả về F1-score của lớp mưa (label=1)\n",
    "    return f1_score(y_test, y_pred, pos_label=1)\n",
    "\n",
    "\n",
    "# Tối ưu với Optuna\n",
    "study = optuna.create_study(direction='maximize')\n",
    "study.optimize(objective, n_trials=30)  # Có thể tăng trials lên 100+\n",
    "\n",
    "# In kết quả tốt nhất\n",
    "print(\"Best trial:\")\n",
    "print(study.best_trial)\n",
    "print(\"Best hyperparameters:\")\n",
    "for key, value in study.best_trial.params.items():\n",
    "    print(f\"{key}: {value}\")\n",
    "\n",
    "# Huấn luyện lại với tham số tốt nhất\n",
    "best_params = study.best_trial.params\n",
    "best_params.update({\n",
    "    'n_estimators': 200,\n",
    "    # 'scale_pos_weight': SCALE_POS_WEIGHT,\n",
    "    'random_state': 42,\n",
    "    'use_label_encoder': False,\n",
    "    'eval_metric': 'logloss'\n",
    "})\n",
    "\n",
    "best_model = xgb.XGBClassifier(**best_params)\n",
    "best_model.fit(X_train_scaled[top_features], y_sm)\n",
    "\n",
    "# Dự đoán với threshold\n",
    "y_probs = best_model.predict_proba(X_test_selected)[:, 1]\n",
    "y_pred_thresh = (y_probs >= THRESHOLD).astype(int)\n",
    "\n",
    "# In kết quả\n",
    "from sklearn.metrics import classification_report\n",
    "print(f\"\\nClassification report with threshold = {THRESHOLD}:\")\n",
    "print(classification_report(y_test, y_pred_thresh))"
   ]
  },
  {
   "cell_type": "markdown",
   "id": "b2071c87",
   "metadata": {
    "papermill": {
     "duration": 0.017499,
     "end_time": "2025-05-04T04:35:07.270759",
     "exception": false,
     "start_time": "2025-05-04T04:35:07.253260",
     "status": "completed"
    },
    "tags": []
   },
   "source": [
    "**Đối với dùng SMOTE:** chỉ scale cao hơn scale xong chọn đặc trưng nhưng không SMOTE cao hơn đã SMOTE."
   ]
  },
  {
   "cell_type": "markdown",
   "id": "d0f27a49",
   "metadata": {
    "papermill": {
     "duration": 0.017317,
     "end_time": "2025-05-04T04:35:07.305994",
     "exception": false,
     "start_time": "2025-05-04T04:35:07.288677",
     "status": "completed"
    },
    "tags": []
   },
   "source": [
    "## 6.2 SMOTE ENN"
   ]
  },
  {
   "cell_type": "code",
   "execution_count": 29,
   "id": "02500096",
   "metadata": {
    "execution": {
     "iopub.execute_input": "2025-05-04T04:35:07.343840Z",
     "iopub.status.busy": "2025-05-04T04:35:07.343061Z",
     "iopub.status.idle": "2025-05-04T04:43:32.836035Z",
     "shell.execute_reply": "2025-05-04T04:43:32.835234Z"
    },
    "papermill": {
     "duration": 505.513601,
     "end_time": "2025-05-04T04:43:32.837838",
     "exception": false,
     "start_time": "2025-05-04T04:35:07.324237",
     "status": "completed"
    },
    "tags": []
   },
   "outputs": [],
   "source": [
    "# SMOTE ENN\n",
    "from imblearn.combine import SMOTEENN\n",
    "\n",
    "smenn = SMOTEENN()\n",
    "\n",
    "X_smenn, y_smenn = smenn.fit_resample(X_train, y_train)\n",
    "X_smenn.shape, y_sm.shape\n",
    "\n",
    "scaler = MinMaxScaler()\n",
    "X_train_scaled = scaler.fit_transform(X_smenn)\n",
    "X_test_scaled = scaler.transform(X_test)\n",
    "\n",
    "X_train_scaled = pd.DataFrame(X_train_scaled, columns=X_train.columns)\n",
    "X_test_scaled = pd.DataFrame(X_test_scaled, columns=X_test.columns)\n",
    "\n",
    "X_train_selected = X_train_scaled[top_features]\n",
    "X_test_selected = X_test_scaled[top_features]"
   ]
  },
  {
   "cell_type": "code",
   "execution_count": 30,
   "id": "99932bba",
   "metadata": {
    "execution": {
     "iopub.execute_input": "2025-05-04T04:43:32.876267Z",
     "iopub.status.busy": "2025-05-04T04:43:32.875469Z",
     "iopub.status.idle": "2025-05-04T04:43:39.034419Z",
     "shell.execute_reply": "2025-05-04T04:43:39.033350Z"
    },
    "papermill": {
     "duration": 6.178984,
     "end_time": "2025-05-04T04:43:39.035906",
     "exception": false,
     "start_time": "2025-05-04T04:43:32.856922",
     "status": "completed"
    },
    "tags": []
   },
   "outputs": [
    {
     "name": "stdout",
     "output_type": "stream",
     "text": [
      "              precision    recall  f1-score   support\n",
      "\n",
      "           0       0.95      0.89      0.92     50316\n",
      "           1       0.35      0.55      0.43      5599\n",
      "\n",
      "    accuracy                           0.85     55915\n",
      "   macro avg       0.65      0.72      0.67     55915\n",
      "weighted avg       0.89      0.85      0.87     55915\n",
      "\n"
     ]
    }
   ],
   "source": [
    "import xgboost as xgb\n",
    "\n",
    "model_xgb = xgb.XGBClassifier(random_state=42, n_estimators = 200)\n",
    "model_xgb.fit(X_smenn, y_smenn)\n",
    "\n",
    "y_pred = model_xgb.predict(X_test)\n",
    "print_scores(y_test, y_pred)"
   ]
  },
  {
   "cell_type": "code",
   "execution_count": 31,
   "id": "d0286fd6",
   "metadata": {
    "execution": {
     "iopub.execute_input": "2025-05-04T04:43:39.073441Z",
     "iopub.status.busy": "2025-05-04T04:43:39.073126Z",
     "iopub.status.idle": "2025-05-04T04:43:46.679852Z",
     "shell.execute_reply": "2025-05-04T04:43:46.678788Z"
    },
    "papermill": {
     "duration": 7.627192,
     "end_time": "2025-05-04T04:43:46.681299",
     "exception": false,
     "start_time": "2025-05-04T04:43:39.054107",
     "status": "completed"
    },
    "tags": []
   },
   "outputs": [
    {
     "name": "stdout",
     "output_type": "stream",
     "text": [
      "              precision    recall  f1-score   support\n",
      "\n",
      "           0       0.95      0.89      0.92     50316\n",
      "           1       0.35      0.54      0.43      5599\n",
      "\n",
      "    accuracy                           0.85     55915\n",
      "   macro avg       0.65      0.72      0.67     55915\n",
      "weighted avg       0.89      0.85      0.87     55915\n",
      "\n"
     ]
    }
   ],
   "source": [
    "import xgboost as xgb\n",
    "\n",
    "model_xgb = xgb.XGBClassifier(random_state=42, n_estimators = 200)\n",
    "model_xgb.fit(X_train_scaled, y_smenn)\n",
    "\n",
    "y_pred = model_xgb.predict(X_test_scaled)\n",
    "print_scores(y_test, y_pred)"
   ]
  },
  {
   "cell_type": "code",
   "execution_count": 32,
   "id": "5fbef9ae",
   "metadata": {
    "execution": {
     "iopub.execute_input": "2025-05-04T04:43:46.719218Z",
     "iopub.status.busy": "2025-05-04T04:43:46.718604Z",
     "iopub.status.idle": "2025-05-04T04:43:51.156610Z",
     "shell.execute_reply": "2025-05-04T04:43:51.155556Z"
    },
    "papermill": {
     "duration": 4.45836,
     "end_time": "2025-05-04T04:43:51.158032",
     "exception": false,
     "start_time": "2025-05-04T04:43:46.699672",
     "status": "completed"
    },
    "tags": []
   },
   "outputs": [
    {
     "name": "stdout",
     "output_type": "stream",
     "text": [
      "              precision    recall  f1-score   support\n",
      "\n",
      "           0       0.95      0.82      0.88     50316\n",
      "           1       0.26      0.59      0.36      5599\n",
      "\n",
      "    accuracy                           0.79     55915\n",
      "   macro avg       0.61      0.70      0.62     55915\n",
      "weighted avg       0.88      0.79      0.83     55915\n",
      "\n"
     ]
    }
   ],
   "source": [
    "import xgboost as xgb\n",
    "\n",
    "model_xgb = xgb.XGBClassifier(random_state=42, n_estimators = 200)\n",
    "model_xgb.fit(X_train_scaled[top_features], y_smenn)\n",
    "\n",
    "y_pred = model_xgb.predict(X_test_selected)\n",
    "print_scores(y_test, y_pred)"
   ]
  },
  {
   "cell_type": "markdown",
   "id": "158ca67c",
   "metadata": {
    "papermill": {
     "duration": 0.018159,
     "end_time": "2025-05-04T04:43:51.194657",
     "exception": false,
     "start_time": "2025-05-04T04:43:51.176498",
     "status": "completed"
    },
    "tags": []
   },
   "source": [
    "=> Không chọn đặc trưng, scale hay không cũng như nhau."
   ]
  },
  {
   "cell_type": "code",
   "execution_count": 33,
   "id": "5d6cf615",
   "metadata": {
    "execution": {
     "iopub.execute_input": "2025-05-04T04:43:51.232293Z",
     "iopub.status.busy": "2025-05-04T04:43:51.231505Z",
     "iopub.status.idle": "2025-05-04T04:43:57.013670Z",
     "shell.execute_reply": "2025-05-04T04:43:57.012550Z"
    },
    "papermill": {
     "duration": 5.802515,
     "end_time": "2025-05-04T04:43:57.015063",
     "exception": false,
     "start_time": "2025-05-04T04:43:51.212548",
     "status": "completed"
    },
    "tags": []
   },
   "outputs": [
    {
     "name": "stdout",
     "output_type": "stream",
     "text": [
      "              precision    recall  f1-score   support\n",
      "\n",
      "           0       0.95      0.89      0.92     50316\n",
      "           1       0.35      0.55      0.43      5599\n",
      "\n",
      "    accuracy                           0.85     55915\n",
      "   macro avg       0.65      0.72      0.67     55915\n",
      "weighted avg       0.89      0.85      0.87     55915\n",
      "\n"
     ]
    }
   ],
   "source": [
    "import xgboost as xgb\n",
    "\n",
    "model_xgb = xgb.XGBClassifier(random_state=42, n_estimators = 200, min_child_weight=5)\n",
    "model_xgb.fit(X_train_scaled, y_smenn)\n",
    "\n",
    "y_pred = model_xgb.predict(X_test_scaled)\n",
    "print_scores(y_test, y_pred)"
   ]
  },
  {
   "cell_type": "code",
   "execution_count": 34,
   "id": "afbfc73c",
   "metadata": {
    "execution": {
     "iopub.execute_input": "2025-05-04T04:43:57.052947Z",
     "iopub.status.busy": "2025-05-04T04:43:57.052628Z",
     "iopub.status.idle": "2025-05-04T04:44:03.397502Z",
     "shell.execute_reply": "2025-05-04T04:44:03.396514Z"
    },
    "papermill": {
     "duration": 6.365363,
     "end_time": "2025-05-04T04:44:03.398877",
     "exception": false,
     "start_time": "2025-05-04T04:43:57.033514",
     "status": "completed"
    },
    "tags": []
   },
   "outputs": [
    {
     "name": "stdout",
     "output_type": "stream",
     "text": [
      "              precision    recall  f1-score   support\n",
      "\n",
      "           0       0.95      0.85      0.90     50316\n",
      "           1       0.33      0.64      0.43      5599\n",
      "\n",
      "    accuracy                           0.83     55915\n",
      "   macro avg       0.64      0.75      0.67     55915\n",
      "weighted avg       0.89      0.83      0.85     55915\n",
      "\n",
      "Best threshold: 0.6000000000000002, F1: 0.43656821378340366\n"
     ]
    }
   ],
   "source": [
    "import xgboost as xgb\n",
    "\n",
    "model_xgb = xgb.XGBClassifier(\n",
    "    n_estimators=200,\n",
    "    max_depth=6,\n",
    "    learning_rate=0.1,\n",
    "    subsample=0.8,\n",
    "    colsample_bytree=0.8,\n",
    "    # scale_pos_weight= 13.09729821196909,\n",
    "    random_state=42\n",
    ")\n",
    "model_xgb.fit(X_train_scaled, y_smenn)\n",
    "\n",
    "y_pred = model_xgb.predict(X_test_scaled)\n",
    "print_scores( y_test, y_pred)\n",
    "\n",
    "y_probs = model_xgb.predict_proba(X_test_scaled)[:,1]\n",
    "\n",
    "best_thresh = 0.0\n",
    "best_f1 = 0.0\n",
    "for t in np.arange(0.1, 0.9, 0.05):\n",
    "    y_pred = (y_probs >= t).astype(int)\n",
    "    f1 = f1_score(y_test, y_pred)\n",
    "    if f1 > best_f1:\n",
    "        best_f1 = f1\n",
    "        best_thresh = t\n",
    "\n",
    "print(f\"Best threshold: {best_thresh}, F1: {best_f1}\")"
   ]
  },
  {
   "cell_type": "code",
   "execution_count": 35,
   "id": "d0b1cec8",
   "metadata": {
    "execution": {
     "iopub.execute_input": "2025-05-04T04:44:03.436630Z",
     "iopub.status.busy": "2025-05-04T04:44:03.436297Z",
     "iopub.status.idle": "2025-05-04T04:47:05.639527Z",
     "shell.execute_reply": "2025-05-04T04:47:05.638546Z"
    },
    "papermill": {
     "duration": 182.223708,
     "end_time": "2025-05-04T04:47:05.641047",
     "exception": false,
     "start_time": "2025-05-04T04:44:03.417339",
     "status": "completed"
    },
    "tags": []
   },
   "outputs": [
    {
     "name": "stderr",
     "output_type": "stream",
     "text": [
      "[I 2025-05-04 04:44:03,443] A new study created in memory with name: no-name-52c34318-8b34-4b68-adcf-8ff52f2a7fe9\n",
      "[I 2025-05-04 04:44:09,163] Trial 0 finished with value: 0.4381281407035175 and parameters: {'learning_rate': 0.2521620055437126, 'max_depth': 7, 'min_child_weight': 10, 'subsample': 0.9877871626097963, 'colsample_bytree': 0.843030384066573, 'gamma': 3.567652042677088}. Best is trial 0 with value: 0.4381281407035175.\n",
      "[I 2025-05-04 04:44:16,771] Trial 1 finished with value: 0.4366683095120749 and parameters: {'learning_rate': 0.22730047495459002, 'max_depth': 6, 'min_child_weight': 2, 'subsample': 0.5015973770725426, 'colsample_bytree': 0.8955423564159255, 'gamma': 1.478417163196792}. Best is trial 0 with value: 0.4381281407035175.\n",
      "[I 2025-05-04 04:44:23,423] Trial 2 finished with value: 0.4369499297389246 and parameters: {'learning_rate': 0.07455627661648312, 'max_depth': 7, 'min_child_weight': 7, 'subsample': 0.7176439905253271, 'colsample_bytree': 0.7208809632851667, 'gamma': 1.6173690500041253}. Best is trial 0 with value: 0.4381281407035175.\n",
      "[I 2025-05-04 04:44:27,739] Trial 3 finished with value: 0.39862754585844373 and parameters: {'learning_rate': 0.04913781349874964, 'max_depth': 3, 'min_child_weight': 4, 'subsample': 0.5490637851790197, 'colsample_bytree': 0.7833713648572332, 'gamma': 1.982188571724014}. Best is trial 0 with value: 0.4381281407035175.\n",
      "[I 2025-05-04 04:44:31,983] Trial 4 finished with value: 0.43230433426878706 and parameters: {'learning_rate': 0.2795718202418286, 'max_depth': 3, 'min_child_weight': 3, 'subsample': 0.6355259530266142, 'colsample_bytree': 0.7320901108822102, 'gamma': 3.0227612465923115}. Best is trial 0 with value: 0.4381281407035175.\n",
      "[I 2025-05-04 04:44:38,436] Trial 5 finished with value: 0.4022753533019287 and parameters: {'learning_rate': 0.27746471053501776, 'max_depth': 9, 'min_child_weight': 5, 'subsample': 0.558230304759391, 'colsample_bytree': 0.5755516037756079, 'gamma': 2.7364538693784155}. Best is trial 0 with value: 0.4381281407035175.\n",
      "[I 2025-05-04 04:44:45,409] Trial 6 finished with value: 0.4270719623813922 and parameters: {'learning_rate': 0.17818319922931228, 'max_depth': 8, 'min_child_weight': 1, 'subsample': 0.671987124802222, 'colsample_bytree': 0.643478828414725, 'gamma': 3.363980693385683}. Best is trial 0 with value: 0.4381281407035175.\n",
      "[I 2025-05-04 04:44:53,573] Trial 7 finished with value: 0.4425567703952902 and parameters: {'learning_rate': 0.18092876764357108, 'max_depth': 7, 'min_child_weight': 6, 'subsample': 0.6449593345755755, 'colsample_bytree': 0.8086893932131161, 'gamma': 3.6396613960887563}. Best is trial 7 with value: 0.4425567703952902.\n",
      "[I 2025-05-04 04:44:58,710] Trial 8 finished with value: 0.4317148305706322 and parameters: {'learning_rate': 0.23774574831885617, 'max_depth': 5, 'min_child_weight': 8, 'subsample': 0.6143602349655206, 'colsample_bytree': 0.9194083082700583, 'gamma': 1.8999613539315878}. Best is trial 7 with value: 0.4425567703952902.\n",
      "[I 2025-05-04 04:45:03,673] Trial 9 finished with value: 0.41815641112128366 and parameters: {'learning_rate': 0.03706539430328439, 'max_depth': 4, 'min_child_weight': 5, 'subsample': 0.8342318747533675, 'colsample_bytree': 0.8262085722899648, 'gamma': 0.028068906026754714}. Best is trial 7 with value: 0.4425567703952902.\n",
      "[I 2025-05-04 04:45:11,426] Trial 10 finished with value: 0.4169146436961629 and parameters: {'learning_rate': 0.12584802708067996, 'max_depth': 10, 'min_child_weight': 7, 'subsample': 0.8183285404671077, 'colsample_bytree': 0.9915373293852501, 'gamma': 4.871326662622644}. Best is trial 7 with value: 0.4425567703952902.\n",
      "[I 2025-05-04 04:45:17,706] Trial 11 finished with value: 0.42577619663648125 and parameters: {'learning_rate': 0.17161351972120759, 'max_depth': 7, 'min_child_weight': 10, 'subsample': 0.9576569146664784, 'colsample_bytree': 0.8528735188635852, 'gamma': 4.158043430330339}. Best is trial 7 with value: 0.4425567703952902.\n",
      "[I 2025-05-04 04:45:24,545] Trial 12 finished with value: 0.418821182143154 and parameters: {'learning_rate': 0.22100597225302004, 'max_depth': 6, 'min_child_weight': 10, 'subsample': 0.9927725982532445, 'colsample_bytree': 0.6718032612710725, 'gamma': 3.983193504575866}. Best is trial 7 with value: 0.4425567703952902.\n",
      "[I 2025-05-04 04:45:32,035] Trial 13 finished with value: 0.41708542713567837 and parameters: {'learning_rate': 0.11287255126947165, 'max_depth': 8, 'min_child_weight': 8, 'subsample': 0.9005908681673443, 'colsample_bytree': 0.9560084211013404, 'gamma': 3.6784141432314823}. Best is trial 7 with value: 0.4425567703952902.\n",
      "[I 2025-05-04 04:45:38,190] Trial 14 finished with value: 0.430828454567327 and parameters: {'learning_rate': 0.19742400422562245, 'max_depth': 8, 'min_child_weight': 9, 'subsample': 0.7752739512486653, 'colsample_bytree': 0.8135555526879532, 'gamma': 4.618090820673629}. Best is trial 7 with value: 0.4425567703952902.\n",
      "[I 2025-05-04 04:45:43,459] Trial 15 finished with value: 0.4177728320483269 and parameters: {'learning_rate': 0.29864050429705663, 'max_depth': 5, 'min_child_weight': 6, 'subsample': 0.7281982093912407, 'colsample_bytree': 0.8621762769935704, 'gamma': 2.5162099436714174}. Best is trial 7 with value: 0.4425567703952902.\n",
      "[I 2025-05-04 04:45:52,625] Trial 16 finished with value: 0.43357081343458853 and parameters: {'learning_rate': 0.13528178726577433, 'max_depth': 10, 'min_child_weight': 9, 'subsample': 0.9115753604829302, 'colsample_bytree': 0.7655146094034109, 'gamma': 3.32704508406973}. Best is trial 7 with value: 0.4425567703952902.\n",
      "[I 2025-05-04 04:45:58,390] Trial 17 finished with value: 0.4236087689713322 and parameters: {'learning_rate': 0.25346552180215287, 'max_depth': 7, 'min_child_weight': 6, 'subsample': 0.6699565323400655, 'colsample_bytree': 0.6684573759812537, 'gamma': 4.322055494072354}. Best is trial 7 with value: 0.4425567703952902.\n",
      "[I 2025-05-04 04:46:03,633] Trial 18 finished with value: 0.4537444933920705 and parameters: {'learning_rate': 0.19553694167700647, 'max_depth': 5, 'min_child_weight': 4, 'subsample': 0.8371697143469166, 'colsample_bytree': 0.55995013213359, 'gamma': 3.6813928492860253}. Best is trial 18 with value: 0.4537444933920705.\n",
      "[I 2025-05-04 04:46:08,630] Trial 19 finished with value: 0.42459862385321107 and parameters: {'learning_rate': 0.1526380192517627, 'max_depth': 5, 'min_child_weight': 4, 'subsample': 0.8089126132601996, 'colsample_bytree': 0.5389429273761969, 'gamma': 0.7434762598633327}. Best is trial 18 with value: 0.4537444933920705.\n",
      "[I 2025-05-04 04:46:13,411] Trial 20 finished with value: 0.44739138021287733 and parameters: {'learning_rate': 0.09653422776947188, 'max_depth': 4, 'min_child_weight': 3, 'subsample': 0.8755570674763771, 'colsample_bytree': 0.6062376252462504, 'gamma': 3.0926773167356796}. Best is trial 18 with value: 0.4537444933920705.\n",
      "[I 2025-05-04 04:46:17,890] Trial 21 finished with value: 0.4402480270574972 and parameters: {'learning_rate': 0.09395331587504205, 'max_depth': 4, 'min_child_weight': 3, 'subsample': 0.8851916374565518, 'colsample_bytree': 0.608362900017593, 'gamma': 2.9234792184541822}. Best is trial 18 with value: 0.4537444933920705.\n",
      "[I 2025-05-04 04:46:22,801] Trial 22 finished with value: 0.43174825174825177 and parameters: {'learning_rate': 0.20038647613171748, 'max_depth': 4, 'min_child_weight': 4, 'subsample': 0.8567714969688948, 'colsample_bytree': 0.5022563184220179, 'gamma': 3.8500048703681347}. Best is trial 18 with value: 0.4537444933920705.\n",
      "[I 2025-05-04 04:46:28,972] Trial 23 finished with value: 0.4370179948586118 and parameters: {'learning_rate': 0.15315051728426488, 'max_depth': 6, 'min_child_weight': 2, 'subsample': 0.7652498081175532, 'colsample_bytree': 0.5854904961526555, 'gamma': 3.1838635966256508}. Best is trial 18 with value: 0.4537444933920705.\n",
      "[I 2025-05-04 04:46:34,343] Trial 24 finished with value: 0.44427039402337626 and parameters: {'learning_rate': 0.07290505560053759, 'max_depth': 5, 'min_child_weight': 3, 'subsample': 0.9260470701670234, 'colsample_bytree': 0.5146692254383863, 'gamma': 2.3991010499418186}. Best is trial 18 with value: 0.4537444933920705.\n",
      "[I 2025-05-04 04:46:39,416] Trial 25 finished with value: 0.4478084844217567 and parameters: {'learning_rate': 0.06756548483034822, 'max_depth': 5, 'min_child_weight': 3, 'subsample': 0.9446267885240205, 'colsample_bytree': 0.5134768528971342, 'gamma': 2.2286952639596467}. Best is trial 18 with value: 0.4537444933920705.\n",
      "[I 2025-05-04 04:46:44,411] Trial 26 finished with value: 0.38703511323498857 and parameters: {'learning_rate': 0.017713235640721595, 'max_depth': 4, 'min_child_weight': 1, 'subsample': 0.8577870455111274, 'colsample_bytree': 0.556258494907726, 'gamma': 2.2183707175516862}. Best is trial 18 with value: 0.4537444933920705.\n",
      "[I 2025-05-04 04:46:48,403] Trial 27 finished with value: 0.4247932196466864 and parameters: {'learning_rate': 0.09789828613162449, 'max_depth': 3, 'min_child_weight': 3, 'subsample': 0.9624900125368233, 'colsample_bytree': 0.6190180804553878, 'gamma': 1.2033311427028819}. Best is trial 18 with value: 0.4537444933920705.\n",
      "[I 2025-05-04 04:46:53,760] Trial 28 finished with value: 0.44001836758121915 and parameters: {'learning_rate': 0.06585789941334445, 'max_depth': 5, 'min_child_weight': 2, 'subsample': 0.9419400157516364, 'colsample_bytree': 0.539443943415884, 'gamma': 2.7079061589445135}. Best is trial 18 with value: 0.4537444933920705.\n",
      "[I 2025-05-04 04:47:00,467] Trial 29 finished with value: 0.381139489194499 and parameters: {'learning_rate': 0.01048943360024581, 'max_depth': 4, 'min_child_weight': 4, 'subsample': 0.7932218825606585, 'colsample_bytree': 0.6700918925000097, 'gamma': 1.0619651857249468}. Best is trial 18 with value: 0.4537444933920705.\n"
     ]
    },
    {
     "name": "stdout",
     "output_type": "stream",
     "text": [
      "Best trial:\n",
      "FrozenTrial(number=18, state=1, values=[0.4537444933920705], datetime_start=datetime.datetime(2025, 5, 4, 4, 45, 58, 390934), datetime_complete=datetime.datetime(2025, 5, 4, 4, 46, 3, 633052), params={'learning_rate': 0.19553694167700647, 'max_depth': 5, 'min_child_weight': 4, 'subsample': 0.8371697143469166, 'colsample_bytree': 0.55995013213359, 'gamma': 3.6813928492860253}, user_attrs={}, system_attrs={}, intermediate_values={}, distributions={'learning_rate': FloatDistribution(high=0.3, log=False, low=0.01, step=None), 'max_depth': IntDistribution(high=10, log=False, low=3, step=1), 'min_child_weight': IntDistribution(high=10, log=False, low=1, step=1), 'subsample': FloatDistribution(high=1.0, log=False, low=0.5, step=None), 'colsample_bytree': FloatDistribution(high=1.0, log=False, low=0.5, step=None), 'gamma': FloatDistribution(high=5.0, log=False, low=0.0, step=None)}, trial_id=18, value=None)\n",
      "Best hyperparameters:\n",
      "learning_rate: 0.19553694167700647\n",
      "max_depth: 5\n",
      "min_child_weight: 4\n",
      "subsample: 0.8371697143469166\n",
      "colsample_bytree: 0.55995013213359\n",
      "gamma: 3.6813928492860253\n",
      "\n",
      "Classification report with threshold = 0.6000000000000002:\n",
      "              precision    recall  f1-score   support\n",
      "\n",
      "           0       0.95      0.90      0.92     50316\n",
      "           1       0.39      0.55      0.45      5599\n",
      "\n",
      "    accuracy                           0.87     55915\n",
      "   macro avg       0.67      0.73      0.69     55915\n",
      "weighted avg       0.89      0.87      0.88     55915\n",
      "\n"
     ]
    }
   ],
   "source": [
    "import optuna\n",
    "import numpy as np\n",
    "from sklearn.metrics import f1_score\n",
    "from sklearn.model_selection import train_test_split\n",
    "import xgboost as xgb\n",
    "\n",
    "THRESHOLD = best_thresh\n",
    "# SCALE_POS_WEIGHT =  13.09729821196909\n",
    "\n",
    "def objective(trial):\n",
    "    # Thử các tham số\n",
    "    param = {\n",
    "        'n_estimators': 200,\n",
    "        'learning_rate': trial.suggest_float('learning_rate', 0.01, 0.3),\n",
    "        'max_depth': trial.suggest_int('max_depth', 3, 10),\n",
    "        'min_child_weight': trial.suggest_int('min_child_weight', 1, 10),\n",
    "        'subsample': trial.suggest_float('subsample', 0.5, 1.0),\n",
    "        'colsample_bytree': trial.suggest_float('colsample_bytree', 0.5, 1.0),\n",
    "        'gamma': trial.suggest_float('gamma', 0, 5),\n",
    "        # 'scale_pos_weight': SCALE_POS_WEIGHT,\n",
    "        'random_state': 42,\n",
    "        'verbosity': 0,\n",
    "        'n_jobs': -1,\n",
    "        'use_label_encoder': False,\n",
    "        'eval_metric': 'logloss'\n",
    "    }\n",
    "\n",
    "    model = xgb.XGBClassifier(**param)\n",
    "    model.fit(X_train_scaled, y_smenn)\n",
    "\n",
    "    # Dự đoán xác suất\n",
    "    y_probs = model.predict_proba(X_test_scaled)[:, 1]\n",
    "    y_pred = (y_probs >= THRESHOLD).astype(int)\n",
    "\n",
    "    # Trả về F1-score của lớp mưa (label=1)\n",
    "    return f1_score(y_test, y_pred, pos_label=1)\n",
    "\n",
    "\n",
    "# Tối ưu với Optuna\n",
    "study = optuna.create_study(direction='maximize')\n",
    "study.optimize(objective, n_trials=30)  # Có thể tăng trials lên 100+\n",
    "\n",
    "# In kết quả tốt nhất\n",
    "print(\"Best trial:\")\n",
    "print(study.best_trial)\n",
    "print(\"Best hyperparameters:\")\n",
    "for key, value in study.best_trial.params.items():\n",
    "    print(f\"{key}: {value}\")\n",
    "\n",
    "# Huấn luyện lại với tham số tốt nhất\n",
    "best_params = study.best_trial.params\n",
    "best_params.update({\n",
    "    'n_estimators': 200,\n",
    "    # 'scale_pos_weight': SCALE_POS_WEIGHT,\n",
    "    'random_state': 42,\n",
    "    'use_label_encoder': False,\n",
    "    'eval_metric': 'logloss'\n",
    "})\n",
    "\n",
    "best_model = xgb.XGBClassifier(**best_params)\n",
    "best_model.fit(X_train_scaled, y_smenn)\n",
    "\n",
    "# Dự đoán với threshold \n",
    "y_probs = best_model.predict_proba(X_test_scaled)[:, 1]\n",
    "y_pred_thresh = (y_probs >= THRESHOLD).astype(int)\n",
    "\n",
    "# In kết quả\n",
    "from sklearn.metrics import classification_report\n",
    "print(f\"\\nClassification report with threshold = {THRESHOLD}:\")\n",
    "print(classification_report(y_test, y_pred_thresh))"
   ]
  },
  {
   "cell_type": "code",
   "execution_count": 36,
   "id": "6c3ec698",
   "metadata": {
    "execution": {
     "iopub.execute_input": "2025-05-04T04:47:05.683350Z",
     "iopub.status.busy": "2025-05-04T04:47:05.682524Z",
     "iopub.status.idle": "2025-05-04T04:47:10.476102Z",
     "shell.execute_reply": "2025-05-04T04:47:10.475312Z"
    },
    "papermill": {
     "duration": 4.815668,
     "end_time": "2025-05-04T04:47:10.477363",
     "exception": false,
     "start_time": "2025-05-04T04:47:05.661695",
     "status": "completed"
    },
    "tags": []
   },
   "outputs": [
    {
     "name": "stdout",
     "output_type": "stream",
     "text": [
      "              precision    recall  f1-score   support\n",
      "\n",
      "           0       0.96      0.79      0.86     50316\n",
      "           1       0.26      0.68      0.38      5599\n",
      "\n",
      "    accuracy                           0.78     55915\n",
      "   macro avg       0.61      0.73      0.62     55915\n",
      "weighted avg       0.89      0.78      0.82     55915\n",
      "\n",
      "Best threshold: 0.6500000000000001, F1: 0.38606891441274543\n"
     ]
    }
   ],
   "source": [
    "import xgboost as xgb\n",
    "\n",
    "model_xgb = xgb.XGBClassifier(\n",
    "    n_estimators=200,\n",
    "    max_depth=6,\n",
    "    learning_rate=0.1,\n",
    "    subsample=0.8,\n",
    "    colsample_bytree=0.8,\n",
    "    # scale_pos_weight= 13.09729821196909,\n",
    "    random_state=42\n",
    ")\n",
    "model_xgb.fit(X_train_scaled[top_features], y_smenn)\n",
    "\n",
    "\n",
    "y_pred = model_xgb.predict(X_test_selected)\n",
    "print_scores(y_test, y_pred)\n",
    "\n",
    "y_probs = model_xgb.predict_proba(X_test_selected)[:,1]\n",
    "\n",
    "best_thresh = 0.0\n",
    "best_f1 = 0.0\n",
    "for t in np.arange(0.1, 0.9, 0.05):\n",
    "    y_pred = (y_probs >= t).astype(int)\n",
    "    f1 = f1_score(y_test, y_pred)\n",
    "    if f1 > best_f1:\n",
    "        best_f1 = f1\n",
    "        best_thresh = t\n",
    "\n",
    "print(f\"Best threshold: {best_thresh}, F1: {best_f1}\")"
   ]
  },
  {
   "cell_type": "code",
   "execution_count": 37,
   "id": "1a59a178",
   "metadata": {
    "execution": {
     "iopub.execute_input": "2025-05-04T04:47:10.519664Z",
     "iopub.status.busy": "2025-05-04T04:47:10.519159Z",
     "iopub.status.idle": "2025-05-04T04:49:28.986440Z",
     "shell.execute_reply": "2025-05-04T04:49:28.985393Z"
    },
    "papermill": {
     "duration": 138.490176,
     "end_time": "2025-05-04T04:49:28.987950",
     "exception": false,
     "start_time": "2025-05-04T04:47:10.497774",
     "status": "completed"
    },
    "tags": []
   },
   "outputs": [
    {
     "name": "stderr",
     "output_type": "stream",
     "text": [
      "[I 2025-05-04 04:47:10,526] A new study created in memory with name: no-name-2e948ad6-d413-42d3-b39f-12cbbae5c208\n",
      "[I 2025-05-04 04:47:16,751] Trial 0 finished with value: 0.3796019584154638 and parameters: {'learning_rate': 0.07387577981512576, 'max_depth': 9, 'min_child_weight': 6, 'subsample': 0.7751170175214386, 'colsample_bytree': 0.5583121590840239, 'gamma': 2.673301380603133}. Best is trial 0 with value: 0.3796019584154638.\n",
      "[I 2025-05-04 04:47:20,622] Trial 1 finished with value: 0.4074860900354072 and parameters: {'learning_rate': 0.056338105859110386, 'max_depth': 5, 'min_child_weight': 10, 'subsample': 0.9412970846612885, 'colsample_bytree': 0.9324561828511961, 'gamma': 1.9114516924253784}. Best is trial 1 with value: 0.4074860900354072.\n",
      "[I 2025-05-04 04:47:23,900] Trial 2 finished with value: 0.3987488415199259 and parameters: {'learning_rate': 0.2994362917936699, 'max_depth': 4, 'min_child_weight': 3, 'subsample': 0.8261141784552808, 'colsample_bytree': 0.6396730679388528, 'gamma': 2.962686790815936}. Best is trial 1 with value: 0.4074860900354072.\n",
      "[I 2025-05-04 04:47:29,997] Trial 3 finished with value: 0.36428903809080637 and parameters: {'learning_rate': 0.265163657435515, 'max_depth': 7, 'min_child_weight': 7, 'subsample': 0.6701973607450855, 'colsample_bytree': 0.5771985823309944, 'gamma': 3.4024006543889924}. Best is trial 1 with value: 0.4074860900354072.\n",
      "[I 2025-05-04 04:47:33,328] Trial 4 finished with value: 0.3870346984184256 and parameters: {'learning_rate': 0.299249767788363, 'max_depth': 4, 'min_child_weight': 10, 'subsample': 0.7509449902937432, 'colsample_bytree': 0.7369790651314474, 'gamma': 2.5794244212237927}. Best is trial 1 with value: 0.4074860900354072.\n",
      "[I 2025-05-04 04:47:36,289] Trial 5 finished with value: 0.3914708740639113 and parameters: {'learning_rate': 0.255328845960885, 'max_depth': 3, 'min_child_weight': 9, 'subsample': 0.7448160736093268, 'colsample_bytree': 0.7853584269185374, 'gamma': 3.6780704809574107}. Best is trial 1 with value: 0.4074860900354072.\n",
      "[I 2025-05-04 04:47:43,162] Trial 6 finished with value: 0.3920556822272891 and parameters: {'learning_rate': 0.10941237879814936, 'max_depth': 9, 'min_child_weight': 1, 'subsample': 0.9763862900647717, 'colsample_bytree': 0.9310275642997277, 'gamma': 1.726633200226913}. Best is trial 1 with value: 0.4074860900354072.\n",
      "[I 2025-05-04 04:47:49,772] Trial 7 finished with value: 0.3865128660159717 and parameters: {'learning_rate': 0.04497262594739603, 'max_depth': 9, 'min_child_weight': 8, 'subsample': 0.9065508289453372, 'colsample_bytree': 0.8747411919579946, 'gamma': 2.3517719205398926}. Best is trial 1 with value: 0.4074860900354072.\n",
      "[I 2025-05-04 04:47:55,238] Trial 8 finished with value: 0.36986031870942354 and parameters: {'learning_rate': 0.14014991732758025, 'max_depth': 8, 'min_child_weight': 5, 'subsample': 0.7680294422395817, 'colsample_bytree': 0.7971720694805722, 'gamma': 1.087932010080015}. Best is trial 1 with value: 0.4074860900354072.\n",
      "[I 2025-05-04 04:48:04,143] Trial 9 finished with value: 0.3865219300997679 and parameters: {'learning_rate': 0.08685443097193336, 'max_depth': 10, 'min_child_weight': 6, 'subsample': 0.5727161065686934, 'colsample_bytree': 0.8425410774635022, 'gamma': 1.2065004670907458}. Best is trial 1 with value: 0.4074860900354072.\n",
      "[I 2025-05-04 04:48:09,035] Trial 10 finished with value: 0.3889736741701641 and parameters: {'learning_rate': 0.011697826352858189, 'max_depth': 6, 'min_child_weight': 4, 'subsample': 0.9979466641384199, 'colsample_bytree': 0.9890546975975009, 'gamma': 4.771051123633249}. Best is trial 1 with value: 0.4074860900354072.\n",
      "[I 2025-05-04 04:48:12,907] Trial 11 finished with value: 0.3841262076556194 and parameters: {'learning_rate': 0.19836978166341543, 'max_depth': 5, 'min_child_weight': 2, 'subsample': 0.8740015735993621, 'colsample_bytree': 0.6765263906713784, 'gamma': 0.4163782723728815}. Best is trial 1 with value: 0.4074860900354072.\n",
      "[I 2025-05-04 04:48:16,622] Trial 12 finished with value: 0.3923649304432223 and parameters: {'learning_rate': 0.18869177283661648, 'max_depth': 5, 'min_child_weight': 3, 'subsample': 0.8737584175620274, 'colsample_bytree': 0.6360301045716155, 'gamma': 3.8585673122634807}. Best is trial 1 with value: 0.4074860900354072.\n",
      "[I 2025-05-04 04:48:19,536] Trial 13 finished with value: 0.39642567018684 and parameters: {'learning_rate': 0.19716747337891433, 'max_depth': 3, 'min_child_weight': 4, 'subsample': 0.9198453594171545, 'colsample_bytree': 0.6881570984494709, 'gamma': 1.8351583390028086}. Best is trial 1 with value: 0.4074860900354072.\n",
      "[I 2025-05-04 04:48:23,369] Trial 14 finished with value: 0.38844506194280426 and parameters: {'learning_rate': 0.1423274680331519, 'max_depth': 5, 'min_child_weight': 10, 'subsample': 0.819305732799103, 'colsample_bytree': 0.5133725410201047, 'gamma': 0.12380157943975156}. Best is trial 1 with value: 0.4074860900354072.\n",
      "[I 2025-05-04 04:48:26,752] Trial 15 finished with value: 0.4043688717885069 and parameters: {'learning_rate': 0.23699251609155197, 'max_depth': 4, 'min_child_weight': 1, 'subsample': 0.6801285830515771, 'colsample_bytree': 0.989322124216598, 'gamma': 3.1269238579084897}. Best is trial 1 with value: 0.4074860900354072.\n",
      "[I 2025-05-04 04:48:32,769] Trial 16 finished with value: 0.38656838656838655 and parameters: {'learning_rate': 0.25001887745688106, 'max_depth': 6, 'min_child_weight': 1, 'subsample': 0.6316941482358236, 'colsample_bytree': 0.9918408458362842, 'gamma': 4.560023412733729}. Best is trial 1 with value: 0.4074860900354072.\n",
      "[I 2025-05-04 04:48:36,196] Trial 17 finished with value: 0.3948034418761599 and parameters: {'learning_rate': 0.1748694048116456, 'max_depth': 4, 'min_child_weight': 8, 'subsample': 0.5099114811641988, 'colsample_bytree': 0.9027639331365062, 'gamma': 1.9817375478846346}. Best is trial 1 with value: 0.4074860900354072.\n",
      "[I 2025-05-04 04:48:40,913] Trial 18 finished with value: 0.36960623977858853 and parameters: {'learning_rate': 0.22616211428463545, 'max_depth': 7, 'min_child_weight': 7, 'subsample': 0.6782245164814018, 'colsample_bytree': 0.9412451691891905, 'gamma': 4.106065808897556}. Best is trial 1 with value: 0.4074860900354072.\n",
      "[I 2025-05-04 04:48:43,955] Trial 19 finished with value: 0.40253597665291335 and parameters: {'learning_rate': 0.11002196847940734, 'max_depth': 3, 'min_child_weight': 5, 'subsample': 0.6146712248792305, 'colsample_bytree': 0.8365795830457052, 'gamma': 3.0035368901427524}. Best is trial 1 with value: 0.4074860900354072.\n",
      "[I 2025-05-04 04:48:48,963] Trial 20 finished with value: 0.3946289752650178 and parameters: {'learning_rate': 0.014408973025229976, 'max_depth': 6, 'min_child_weight': 2, 'subsample': 0.7017847431604769, 'colsample_bytree': 0.9557747796815332, 'gamma': 1.091401706414174}. Best is trial 1 with value: 0.4074860900354072.\n",
      "[I 2025-05-04 04:48:52,199] Trial 21 finished with value: 0.40407673860911264 and parameters: {'learning_rate': 0.11398975965756815, 'max_depth': 3, 'min_child_weight': 5, 'subsample': 0.5881883915594549, 'colsample_bytree': 0.8552180685703233, 'gamma': 3.19910927215082}. Best is trial 1 with value: 0.4074860900354072.\n",
      "[I 2025-05-04 04:48:55,705] Trial 22 finished with value: 0.4111936036550543 and parameters: {'learning_rate': 0.05603491517060531, 'max_depth': 4, 'min_child_weight': 9, 'subsample': 0.5566390952930633, 'colsample_bytree': 0.8854871613334213, 'gamma': 3.2727790501076495}. Best is trial 22 with value: 0.4111936036550543.\n",
      "[I 2025-05-04 04:48:59,302] Trial 23 finished with value: 0.40541175365246396 and parameters: {'learning_rate': 0.0582822999573389, 'max_depth': 4, 'min_child_weight': 9, 'subsample': 0.5257449751413719, 'colsample_bytree': 0.902157796160863, 'gamma': 4.189030234263351}. Best is trial 22 with value: 0.4111936036550543.\n",
      "[I 2025-05-04 04:49:05,036] Trial 24 finished with value: 0.40139476961394766 and parameters: {'learning_rate': 0.049172224759781114, 'max_depth': 5, 'min_child_weight': 9, 'subsample': 0.5213629252304859, 'colsample_bytree': 0.8961461719499845, 'gamma': 4.379417569240544}. Best is trial 22 with value: 0.4111936036550543.\n",
      "[I 2025-05-04 04:49:08,600] Trial 25 finished with value: 0.4087814367097401 and parameters: {'learning_rate': 0.046578497511190135, 'max_depth': 4, 'min_child_weight': 9, 'subsample': 0.5638307961852085, 'colsample_bytree': 0.8117952660763197, 'gamma': 3.6803369711475007}. Best is trial 22 with value: 0.4111936036550543.\n",
      "[I 2025-05-04 04:49:12,823] Trial 26 finished with value: 0.4121775325492474 and parameters: {'learning_rate': 0.03412969623229642, 'max_depth': 5, 'min_child_weight': 10, 'subsample': 0.5587134418128034, 'colsample_bytree': 0.8024427679372479, 'gamma': 3.576190704496534}. Best is trial 26 with value: 0.4121775325492474.\n",
      "[I 2025-05-04 04:49:16,528] Trial 27 finished with value: 0.3938166775527977 and parameters: {'learning_rate': 0.023081477713971274, 'max_depth': 4, 'min_child_weight': 8, 'subsample': 0.559339143974722, 'colsample_bytree': 0.7978494062749681, 'gamma': 3.676715925616449}. Best is trial 26 with value: 0.4121775325492474.\n",
      "[I 2025-05-04 04:49:20,940] Trial 28 finished with value: 0.3868821292775665 and parameters: {'learning_rate': 0.09343511767475683, 'max_depth': 6, 'min_child_weight': 9, 'subsample': 0.6205695647590459, 'colsample_bytree': 0.7399065514335985, 'gamma': 4.99423714385917}. Best is trial 26 with value: 0.4121775325492474.\n",
      "[I 2025-05-04 04:49:24,858] Trial 29 finished with value: 0.4035640551993915 and parameters: {'learning_rate': 0.07398460463718676, 'max_depth': 5, 'min_child_weight': 7, 'subsample': 0.5517026195835552, 'colsample_bytree': 0.774568208646897, 'gamma': 3.4633096792402958}. Best is trial 26 with value: 0.4121775325492474.\n"
     ]
    },
    {
     "name": "stdout",
     "output_type": "stream",
     "text": [
      "Best trial:\n",
      "FrozenTrial(number=26, state=1, values=[0.4121775325492474], datetime_start=datetime.datetime(2025, 5, 4, 4, 49, 8, 601230), datetime_complete=datetime.datetime(2025, 5, 4, 4, 49, 12, 823406), params={'learning_rate': 0.03412969623229642, 'max_depth': 5, 'min_child_weight': 10, 'subsample': 0.5587134418128034, 'colsample_bytree': 0.8024427679372479, 'gamma': 3.576190704496534}, user_attrs={}, system_attrs={}, intermediate_values={}, distributions={'learning_rate': FloatDistribution(high=0.3, log=False, low=0.01, step=None), 'max_depth': IntDistribution(high=10, log=False, low=3, step=1), 'min_child_weight': IntDistribution(high=10, log=False, low=1, step=1), 'subsample': FloatDistribution(high=1.0, log=False, low=0.5, step=None), 'colsample_bytree': FloatDistribution(high=1.0, log=False, low=0.5, step=None), 'gamma': FloatDistribution(high=5.0, log=False, low=0.0, step=None)}, trial_id=26, value=None)\n",
      "Best hyperparameters:\n",
      "learning_rate: 0.03412969623229642\n",
      "max_depth: 5\n",
      "min_child_weight: 10\n",
      "subsample: 0.5587134418128034\n",
      "colsample_bytree: 0.8024427679372479\n",
      "gamma: 3.576190704496534\n",
      "\n",
      "Classification report with threshold = 0.6500000000000001:\n",
      "              precision    recall  f1-score   support\n",
      "\n",
      "           0       0.97      0.79      0.87     50316\n",
      "           1       0.28      0.76      0.41      5599\n",
      "\n",
      "    accuracy                           0.78     55915\n",
      "   macro avg       0.62      0.77      0.64     55915\n",
      "weighted avg       0.90      0.78      0.82     55915\n",
      "\n"
     ]
    }
   ],
   "source": [
    "import optuna\n",
    "import numpy as np\n",
    "from sklearn.metrics import f1_score\n",
    "from sklearn.model_selection import train_test_split\n",
    "import xgboost as xgb\n",
    "\n",
    "THRESHOLD = best_thresh\n",
    "# SCALE_POS_WEIGHT =  13.09729821196909\n",
    "\n",
    "def objective(trial):\n",
    "    # Thử các tham số\n",
    "    param = {\n",
    "        'n_estimators': 200,\n",
    "        'learning_rate': trial.suggest_float('learning_rate', 0.01, 0.3),\n",
    "        'max_depth': trial.suggest_int('max_depth', 3, 10),\n",
    "        'min_child_weight': trial.suggest_int('min_child_weight', 1, 10),\n",
    "        'subsample': trial.suggest_float('subsample', 0.5, 1.0),\n",
    "        'colsample_bytree': trial.suggest_float('colsample_bytree', 0.5, 1.0),\n",
    "        'gamma': trial.suggest_float('gamma', 0, 5),\n",
    "        # 'scale_pos_weight': SCALE_POS_WEIGHT,\n",
    "        'random_state': 42,\n",
    "        'verbosity': 0,\n",
    "        'n_jobs': -1,\n",
    "        'use_label_encoder': False,\n",
    "        'eval_metric': 'logloss'\n",
    "    }\n",
    "\n",
    "    model = xgb.XGBClassifier(**param)\n",
    "    model.fit(X_train_scaled[top_features], y_smenn)\n",
    "\n",
    "    # Dự đoán xác suất\n",
    "    y_probs = model.predict_proba(X_test_selected)[:, 1]\n",
    "    y_pred = (y_probs >= THRESHOLD).astype(int)\n",
    "\n",
    "    # Trả về F1-score của lớp mưa (label=1)\n",
    "    return f1_score(y_test, y_pred, pos_label=1)\n",
    "\n",
    "\n",
    "# Tối ưu với Optuna\n",
    "study = optuna.create_study(direction='maximize')\n",
    "study.optimize(objective, n_trials=30)  # Có thể tăng trials lên 100+\n",
    "\n",
    "# In kết quả tốt nhất\n",
    "print(\"Best trial:\")\n",
    "print(study.best_trial)\n",
    "print(\"Best hyperparameters:\")\n",
    "for key, value in study.best_trial.params.items():\n",
    "    print(f\"{key}: {value}\")\n",
    "\n",
    "# Huấn luyện lại với tham số tốt nhất\n",
    "best_params = study.best_trial.params\n",
    "best_params.update({\n",
    "    'n_estimators': 200,\n",
    "    # 'scale_pos_weight': SCALE_POS_WEIGHT,\n",
    "    'random_state': 42,\n",
    "    'use_label_encoder': False,\n",
    "    'eval_metric': 'logloss'\n",
    "})\n",
    "\n",
    "best_model = xgb.XGBClassifier(**best_params)\n",
    "best_model.fit(X_train_scaled[top_features], y_smenn)\n",
    "\n",
    "# Dự đoán với threshold\n",
    "y_probs = best_model.predict_proba(X_test_selected)[:, 1]\n",
    "y_pred_thresh = (y_probs >= THRESHOLD).astype(int)\n",
    "\n",
    "# In kết quả\n",
    "from sklearn.metrics import classification_report\n",
    "print(f\"\\nClassification report with threshold = {THRESHOLD}:\")\n",
    "print(classification_report(y_test, y_pred_thresh))"
   ]
  },
  {
   "cell_type": "markdown",
   "id": "6d53a45f",
   "metadata": {
    "papermill": {
     "duration": 0.021342,
     "end_time": "2025-05-04T04:49:29.031032",
     "exception": false,
     "start_time": "2025-05-04T04:49:29.009690",
     "status": "completed"
    },
    "tags": []
   },
   "source": [
    "# 7. Kết luận"
   ]
  },
  {
   "cell_type": "markdown",
   "id": "ffb955fb",
   "metadata": {
    "papermill": {
     "duration": 0.021447,
     "end_time": "2025-05-04T04:49:29.074183",
     "exception": false,
     "start_time": "2025-05-04T04:49:29.052736",
     "status": "completed"
    },
    "tags": []
   },
   "source": [
    "Mô hình XGBoost ban đầu (không SMOTE hay SMOTE ENN) là tốt nhất."
   ]
  }
 ],
 "metadata": {
  "kaggle": {
   "accelerator": "none",
   "dataSources": [
    {
     "datasetId": 6979951,
     "sourceId": 11182321,
     "sourceType": "datasetVersion"
    },
    {
     "datasetId": 6988906,
     "sourceId": 11449400,
     "sourceType": "datasetVersion"
    }
   ],
   "dockerImageVersionId": 31012,
   "isGpuEnabled": false,
   "isInternetEnabled": true,
   "language": "python",
   "sourceType": "notebook"
  },
  "kernelspec": {
   "display_name": "Python 3",
   "language": "python",
   "name": "python3"
  },
  "language_info": {
   "codemirror_mode": {
    "name": "ipython",
    "version": 3
   },
   "file_extension": ".py",
   "mimetype": "text/x-python",
   "name": "python",
   "nbconvert_exporter": "python",
   "pygments_lexer": "ipython3",
   "version": "3.11.11"
  },
  "papermill": {
   "default_parameters": {},
   "duration": 1686.320928,
   "end_time": "2025-05-04T04:49:29.817355",
   "environment_variables": {},
   "exception": null,
   "input_path": "__notebook__.ipynb",
   "output_path": "__notebook__.ipynb",
   "parameters": {},
   "start_time": "2025-05-04T04:21:23.496427",
   "version": "2.6.0"
  }
 },
 "nbformat": 4,
 "nbformat_minor": 5
}
