{
 "cells": [
  {
   "cell_type": "markdown",
   "id": "5623c5d8",
   "metadata": {
    "papermill": {
     "duration": 0.005148,
     "end_time": "2025-05-06T06:08:46.906751",
     "exception": false,
     "start_time": "2025-05-06T06:08:46.901603",
     "status": "completed"
    },
    "tags": []
   },
   "source": [
    "# Cài đặt các thư viện cần thiết"
   ]
  },
  {
   "cell_type": "code",
   "execution_count": 1,
   "id": "1a1b316f",
   "metadata": {
    "_cell_guid": "b1076dfc-b9ad-4769-8c92-a6c4dae69d19",
    "_uuid": "8f2839f25d086af736a60e9eeb907d3b93b6e0e5",
    "execution": {
     "iopub.execute_input": "2025-05-06T06:08:46.917382Z",
     "iopub.status.busy": "2025-05-06T06:08:46.916959Z",
     "iopub.status.idle": "2025-05-06T06:09:03.489298Z",
     "shell.execute_reply": "2025-05-06T06:09:03.487508Z"
    },
    "papermill": {
     "duration": 16.580291,
     "end_time": "2025-05-06T06:09:03.491687",
     "exception": false,
     "start_time": "2025-05-06T06:08:46.911396",
     "status": "completed"
    },
    "tags": []
   },
   "outputs": [
    {
     "name": "stdout",
     "output_type": "stream",
     "text": [
      "Requirement already satisfied: scikit-learn==1.2.2 in /usr/local/lib/python3.11/dist-packages (1.2.2)\r\n",
      "Collecting imbalanced-learn==0.10.1\r\n",
      "  Downloading imbalanced_learn-0.10.1-py3-none-any.whl.metadata (8.2 kB)\r\n",
      "Requirement already satisfied: numpy>=1.17.3 in /usr/local/lib/python3.11/dist-packages (from scikit-learn==1.2.2) (1.26.4)\r\n",
      "Requirement already satisfied: scipy>=1.3.2 in /usr/local/lib/python3.11/dist-packages (from scikit-learn==1.2.2) (1.15.2)\r\n",
      "Requirement already satisfied: joblib>=1.1.1 in /usr/local/lib/python3.11/dist-packages (from scikit-learn==1.2.2) (1.4.2)\r\n",
      "Requirement already satisfied: threadpoolctl>=2.0.0 in /usr/local/lib/python3.11/dist-packages (from scikit-learn==1.2.2) (3.6.0)\r\n",
      "Requirement already satisfied: mkl_fft in /usr/local/lib/python3.11/dist-packages (from numpy>=1.17.3->scikit-learn==1.2.2) (1.3.8)\r\n",
      "Requirement already satisfied: mkl_random in /usr/local/lib/python3.11/dist-packages (from numpy>=1.17.3->scikit-learn==1.2.2) (1.2.4)\r\n",
      "Requirement already satisfied: mkl_umath in /usr/local/lib/python3.11/dist-packages (from numpy>=1.17.3->scikit-learn==1.2.2) (0.1.1)\r\n",
      "Requirement already satisfied: mkl in /usr/local/lib/python3.11/dist-packages (from numpy>=1.17.3->scikit-learn==1.2.2) (2025.1.0)\r\n",
      "Requirement already satisfied: tbb4py in /usr/local/lib/python3.11/dist-packages (from numpy>=1.17.3->scikit-learn==1.2.2) (2022.1.0)\r\n",
      "Requirement already satisfied: mkl-service in /usr/local/lib/python3.11/dist-packages (from numpy>=1.17.3->scikit-learn==1.2.2) (2.4.1)\r\n",
      "Requirement already satisfied: intel-openmp<2026,>=2024 in /usr/local/lib/python3.11/dist-packages (from mkl->numpy>=1.17.3->scikit-learn==1.2.2) (2024.2.0)\r\n",
      "Requirement already satisfied: tbb==2022.* in /usr/local/lib/python3.11/dist-packages (from mkl->numpy>=1.17.3->scikit-learn==1.2.2) (2022.1.0)\r\n",
      "Requirement already satisfied: tcmlib==1.* in /usr/local/lib/python3.11/dist-packages (from tbb==2022.*->mkl->numpy>=1.17.3->scikit-learn==1.2.2) (1.2.0)\r\n",
      "Requirement already satisfied: intel-cmplr-lib-rt in /usr/local/lib/python3.11/dist-packages (from mkl_umath->numpy>=1.17.3->scikit-learn==1.2.2) (2024.2.0)\r\n",
      "Requirement already satisfied: intel-cmplr-lib-ur==2024.2.0 in /usr/local/lib/python3.11/dist-packages (from intel-openmp<2026,>=2024->mkl->numpy>=1.17.3->scikit-learn==1.2.2) (2024.2.0)\r\n",
      "Downloading imbalanced_learn-0.10.1-py3-none-any.whl (226 kB)\r\n",
      "\u001b[2K   \u001b[90m━━━━━━━━━━━━━━━━━━━━━━━━━━━━━━━━━━━━━━━━\u001b[0m \u001b[32m226.0/226.0 kB\u001b[0m \u001b[31m6.1 MB/s\u001b[0m eta \u001b[36m0:00:00\u001b[0m\r\n",
      "\u001b[?25hInstalling collected packages: imbalanced-learn\r\n",
      "  Attempting uninstall: imbalanced-learn\r\n",
      "    Found existing installation: imbalanced-learn 0.13.0\r\n",
      "    Uninstalling imbalanced-learn-0.13.0:\r\n",
      "      Successfully uninstalled imbalanced-learn-0.13.0\r\n",
      "Successfully installed imbalanced-learn-0.10.1\r\n"
     ]
    }
   ],
   "source": [
    "import pandas as pd\n",
    "import numpy as np\n",
    "from sklearn.model_selection import train_test_split\n",
    "from sklearn.base import BaseEstimator, TransformerMixin\n",
    "from sklearn.pipeline import Pipeline\n",
    "from sklearn.preprocessing import MinMaxScaler\n",
    "from sklearn.preprocessing import StandardScaler\n",
    "import matplotlib.pyplot as plt\n",
    "import matplotlib.gridspec as gridspec\n",
    "import seaborn as sns\n",
    "from tqdm import tqdm\n",
    "from sklearn.metrics import classification_report, confusion_matrix, ConfusionMatrixDisplay\n",
    "import matplotlib.pyplot as plt\n",
    "import torch.nn as nn\n",
    "from sklearn.decomposition import PCA\n",
    "from sklearn.metrics import classification_report\n",
    "from sklearn.linear_model import LogisticRegression\n",
    "from sklearn.preprocessing import OneHotEncoder\n",
    "from sklearn.metrics.pairwise import pairwise_distances\n",
    "from sklearn.base import BaseEstimator, ClassifierMixin\n",
    "from sklearn.metrics import f1_score, classification_report, confusion_matrix, roc_curve, auc\n",
    "\n",
    "!pip install scikit-learn==1.2.2 imbalanced-learn==0.10.1\n",
    "\n",
    "from imblearn.over_sampling import SMOTE\n",
    "from imblearn.combine import SMOTEENN\n",
    "\n",
    "import warnings\n",
    "warnings.simplefilter('ignore', FutureWarning)"
   ]
  },
  {
   "cell_type": "code",
   "execution_count": 2,
   "id": "2855e8cb",
   "metadata": {
    "execution": {
     "iopub.execute_input": "2025-05-06T06:09:03.505588Z",
     "iopub.status.busy": "2025-05-06T06:09:03.504641Z",
     "iopub.status.idle": "2025-05-06T06:09:07.953332Z",
     "shell.execute_reply": "2025-05-06T06:09:07.952321Z"
    },
    "papermill": {
     "duration": 4.45753,
     "end_time": "2025-05-06T06:09:07.955120",
     "exception": false,
     "start_time": "2025-05-06T06:09:03.497590",
     "status": "completed"
    },
    "tags": []
   },
   "outputs": [],
   "source": [
    "train_df = pd.read_csv('/kaggle/input/data-split/train_split/04/train_april.csv')\n",
    "test_df = pd.read_csv('/kaggle/input/data-split/train_split/04/test_april.csv')"
   ]
  },
  {
   "cell_type": "code",
   "execution_count": 3,
   "id": "49facfcd",
   "metadata": {
    "execution": {
     "iopub.execute_input": "2025-05-06T06:09:07.968064Z",
     "iopub.status.busy": "2025-05-06T06:09:07.967650Z",
     "iopub.status.idle": "2025-05-06T06:09:08.016940Z",
     "shell.execute_reply": "2025-05-06T06:09:08.015900Z"
    },
    "papermill": {
     "duration": 0.057809,
     "end_time": "2025-05-06T06:09:08.018831",
     "exception": false,
     "start_time": "2025-05-06T06:09:07.961022",
     "status": "completed"
    },
    "tags": []
   },
   "outputs": [],
   "source": [
    "X_train = train_df.drop(columns=['AWS', 'datetime', 'row','col'])\n",
    "y_train = train_df['AWS']\n",
    "\n",
    "X_test = test_df.drop(columns=['AWS', 'datetime', 'row','col'])\n",
    "y_test = test_df['AWS']"
   ]
  },
  {
   "cell_type": "markdown",
   "id": "836388fa",
   "metadata": {
    "papermill": {
     "duration": 0.004748,
     "end_time": "2025-05-06T06:09:08.028706",
     "exception": false,
     "start_time": "2025-05-06T06:09:08.023958",
     "status": "completed"
    },
    "tags": []
   },
   "source": [
    "# Chuẩn hóa"
   ]
  },
  {
   "cell_type": "code",
   "execution_count": 4,
   "id": "18b66c13",
   "metadata": {
    "execution": {
     "iopub.execute_input": "2025-05-06T06:09:08.039879Z",
     "iopub.status.busy": "2025-05-06T06:09:08.039563Z",
     "iopub.status.idle": "2025-05-06T06:09:08.228270Z",
     "shell.execute_reply": "2025-05-06T06:09:08.226816Z"
    },
    "papermill": {
     "duration": 0.196901,
     "end_time": "2025-05-06T06:09:08.230520",
     "exception": false,
     "start_time": "2025-05-06T06:09:08.033619",
     "status": "completed"
    },
    "tags": []
   },
   "outputs": [],
   "source": [
    "scaler = StandardScaler()\n",
    "X_train_scaled = scaler.fit_transform(X_train)\n",
    "X_test_scaled = scaler.transform(X_test)\n",
    "\n",
    "X_train_scaled = pd.DataFrame(X_train_scaled, columns=X_train.columns)\n",
    "X_test_scaled = pd.DataFrame(X_test_scaled, columns=X_test.columns)"
   ]
  },
  {
   "cell_type": "markdown",
   "id": "ffc64e78",
   "metadata": {
    "papermill": {
     "duration": 0.006388,
     "end_time": "2025-05-06T06:09:08.243483",
     "exception": false,
     "start_time": "2025-05-06T06:09:08.237095",
     "status": "completed"
    },
    "tags": []
   },
   "source": [
    "# Chọn feature"
   ]
  },
  {
   "cell_type": "code",
   "execution_count": 5,
   "id": "954e126f",
   "metadata": {
    "execution": {
     "iopub.execute_input": "2025-05-06T06:09:08.254741Z",
     "iopub.status.busy": "2025-05-06T06:09:08.254405Z",
     "iopub.status.idle": "2025-05-06T06:09:08.259533Z",
     "shell.execute_reply": "2025-05-06T06:09:08.258598Z"
    },
    "papermill": {
     "duration": 0.012503,
     "end_time": "2025-05-06T06:09:08.261089",
     "exception": false,
     "start_time": "2025-05-06T06:09:08.248586",
     "status": "completed"
    },
    "tags": []
   },
   "outputs": [],
   "source": [
    "top_features =  ['CAPE', 'KX', 'R500', 'R850', 'TCLW', 'TCW', 'U250', 'U850', 'V250', 'V850', 'B10B', 'B11B', 'B14B', 'I2B', 'I4B', 'IRB', 'WVB']"
   ]
  },
  {
   "cell_type": "code",
   "execution_count": 6,
   "id": "5acce101",
   "metadata": {
    "execution": {
     "iopub.execute_input": "2025-05-06T06:09:08.272183Z",
     "iopub.status.busy": "2025-05-06T06:09:08.271887Z",
     "iopub.status.idle": "2025-05-06T06:09:08.277608Z",
     "shell.execute_reply": "2025-05-06T06:09:08.276585Z"
    },
    "papermill": {
     "duration": 0.013027,
     "end_time": "2025-05-06T06:09:08.279136",
     "exception": false,
     "start_time": "2025-05-06T06:09:08.266109",
     "status": "completed"
    },
    "tags": []
   },
   "outputs": [],
   "source": [
    "def print_scores(y_true, y_pred):\n",
    "    cm = confusion_matrix(y_true, y_pred)\n",
    "    sns.heatmap(cm, annot=True, fmt=\"d\", cmap=\"Blues\")\n",
    "    plt.xlabel(\"Predicted\")\n",
    "    plt.ylabel(\"True\")\n",
    "    plt.title(\"Confusion Matrix\")\n",
    "    plt.show()\n",
    "    print(classification_report(y_true, y_pred))"
   ]
  },
  {
   "cell_type": "code",
   "execution_count": 7,
   "id": "1a5f0994",
   "metadata": {
    "execution": {
     "iopub.execute_input": "2025-05-06T06:09:08.290850Z",
     "iopub.status.busy": "2025-05-06T06:09:08.289882Z",
     "iopub.status.idle": "2025-05-06T06:09:08.295186Z",
     "shell.execute_reply": "2025-05-06T06:09:08.294275Z"
    },
    "papermill": {
     "duration": 0.01266,
     "end_time": "2025-05-06T06:09:08.296795",
     "exception": false,
     "start_time": "2025-05-06T06:09:08.284135",
     "status": "completed"
    },
    "tags": []
   },
   "outputs": [],
   "source": [
    "sigmas = np.logspace(-2, 1, 50)\n",
    "param_grid = {'sigma': sigmas.tolist()}  # Grid search for sigma values"
   ]
  },
  {
   "cell_type": "markdown",
   "id": "de69ff2e",
   "metadata": {
    "papermill": {
     "duration": 0.005129,
     "end_time": "2025-05-06T06:09:08.307270",
     "exception": false,
     "start_time": "2025-05-06T06:09:08.302141",
     "status": "completed"
    },
    "tags": []
   },
   "source": [
    "# Hàm bổ trợ"
   ]
  },
  {
   "cell_type": "code",
   "execution_count": 8,
   "id": "87e8ba71",
   "metadata": {
    "execution": {
     "iopub.execute_input": "2025-05-06T06:09:08.318668Z",
     "iopub.status.busy": "2025-05-06T06:09:08.318338Z",
     "iopub.status.idle": "2025-05-06T06:09:08.330465Z",
     "shell.execute_reply": "2025-05-06T06:09:08.329287Z"
    },
    "papermill": {
     "duration": 0.019689,
     "end_time": "2025-05-06T06:09:08.332167",
     "exception": false,
     "start_time": "2025-05-06T06:09:08.312478",
     "status": "completed"
    },
    "tags": []
   },
   "outputs": [],
   "source": [
    "class RBFLayer:\n",
    "    def __init__(self, centers, sigma=1.0):\n",
    "        self.centers = centers\n",
    "        self.sigma = sigma\n",
    "\n",
    "    def compute(self, X):\n",
    "        diff = X[:, np.newaxis, :] - self.centers\n",
    "        dist_sq = np.sum(diff**2, axis=2)\n",
    "        return np.exp(-dist_sq / (2 * self.sigma**2))\n",
    "\n",
    "def softmax(z):\n",
    "    # z: (n_samples, n_classes)\n",
    "    z_max = np.max(z, axis=1, keepdims=True)\n",
    "    e_z = np.exp(z - z_max)\n",
    "    return e_z / e_z.sum(axis=1, keepdims=True)\n",
    "\n",
    "#Define PNN Model\n",
    "class PNN:\n",
    "    def __init__(self, sigma=1.0, batch_size=1000):\n",
    "        self.sigma = sigma\n",
    "        self.centers = None\n",
    "        self.batch_size = batch_size\n",
    "\n",
    "    def fit(self, X_train, y_train):\n",
    "        if isinstance(X_train, pd.DataFrame):\n",
    "            X_train = X_train.values\n",
    "        else:\n",
    "            X_train = X_train\n",
    "        if isinstance(y_train, pd.Series):\n",
    "            y_train = y_train.values\n",
    "        else:\n",
    "            y_train = y_train\n",
    "\n",
    "        classes = np.unique(y_train)\n",
    "        centers = []\n",
    "        for c in classes:\n",
    "            centers.append(X_train[y_train == c].mean(axis=0))\n",
    "        self.centers = np.vstack(centers)\n",
    "        self.rbf = RBFLayer(self.centers, sigma=self.sigma)\n",
    "\n",
    "    def predict_proba(self, X):\n",
    "        if isinstance(X, pd.DataFrame):\n",
    "            X = X.values\n",
    "        else:\n",
    "            X = X\n",
    "            \n",
    "        n = X.shape[0]\n",
    "        if self.batch_size is None:\n",
    "            raw = self.rbf.compute(X)\n",
    "            return softmax(raw)\n",
    "        # batch processing\n",
    "        probs = []\n",
    "        for start in range(0, n, self.batch_size):\n",
    "            end = min(start + self.batch_size, n)\n",
    "            raw = self.rbf.compute(X[start:end])\n",
    "            probs.append(softmax(raw))\n",
    "        return np.vstack(probs)\n",
    "\n",
    "    def predict(self, X):\n",
    "        # trả về nhãn 0 hoặc 1\n",
    "        probs = self.predict_proba(X)\n",
    "        return np.argmax(probs, axis=1)"
   ]
  },
  {
   "cell_type": "code",
   "execution_count": 9,
   "id": "278ad718",
   "metadata": {
    "execution": {
     "iopub.execute_input": "2025-05-06T06:09:08.343654Z",
     "iopub.status.busy": "2025-05-06T06:09:08.343129Z",
     "iopub.status.idle": "2025-05-06T06:09:08.353133Z",
     "shell.execute_reply": "2025-05-06T06:09:08.352175Z"
    },
    "papermill": {
     "duration": 0.017829,
     "end_time": "2025-05-06T06:09:08.354959",
     "exception": false,
     "start_time": "2025-05-06T06:09:08.337130",
     "status": "completed"
    },
    "tags": []
   },
   "outputs": [],
   "source": [
    "def train_and_evaluate_model(name, X_trval, y_trval, X_test, y_test, top_features=None, param_grid=None):\n",
    "    print(f\"\\n=== Dataset: {name} ===\")\n",
    "\n",
    "    if top_features is not None:\n",
    "        X_trval = X_trval[top_features]\n",
    "        X_test = X_test[top_features]\n",
    "\n",
    "    # Tách train/val\n",
    "    X_train, X_val, y_train, y_val = train_test_split(\n",
    "        X_trval, y_trval, test_size=0.2, random_state=42\n",
    "    )\n",
    "\n",
    "    best_sigma = 0.0\n",
    "    best_score = 0.0\n",
    "\n",
    "    print(\"Tuning sigma...\")\n",
    "    for sigma in param_grid['sigma']:\n",
    "        pnn = PNN(sigma=sigma, batch_size=2048)\n",
    "        pnn.fit(X_train, y_train)\n",
    "        y_val_pred = pnn.predict(X_val)\n",
    "        f1 = classification_report(y_val, y_val_pred, output_dict=True, zero_division=0)['macro avg']['f1-score']\n",
    "        print(f\" sigma={sigma:.3f} → val macro F1 = {f1:.4f}\")\n",
    "\n",
    "        if f1 > best_score:\n",
    "            best_score = f1\n",
    "            best_sigma = sigma\n",
    "\n",
    "    print(f\"⇒ Best sigma = {best_sigma}, validation macro F1 = {best_score:.4f}\")\n",
    "\n",
    "    # Huấn luyện lại với toàn bộ train+val\n",
    "    X_full = np.vstack([X_train, X_val])\n",
    "    y_full = np.hstack([y_train, y_val])\n",
    "\n",
    "    pnn_final = PNN(sigma=best_sigma, batch_size=1000)\n",
    "    pnn_final.fit(X_full, y_full)\n",
    "    y_pred_test = pnn_final.predict(X_test)\n",
    "\n",
    "    print(\"Test classification report:\")\n",
    "    print(classification_report(y_test, y_pred_test))\n",
    "    cm = confusion_matrix(y_test, y_pred_test)\n",
    "    print(\"Test confusion matrix:\\n\", cm)\n",
    "\n",
    "    sns.heatmap(cm, annot=True, fmt=\"d\", cmap=\"Blues\", xticklabels=[\"No Rain\", \"Rain\"], yticklabels=[\"No Rain\", \"Rain\"])\n",
    "    plt.title(f\"{name} – sigma={best_sigma}\")\n",
    "    plt.show()"
   ]
  },
  {
   "cell_type": "code",
   "execution_count": 10,
   "id": "2540a370",
   "metadata": {
    "execution": {
     "iopub.execute_input": "2025-05-06T06:09:08.366210Z",
     "iopub.status.busy": "2025-05-06T06:09:08.365895Z",
     "iopub.status.idle": "2025-05-06T06:09:08.370136Z",
     "shell.execute_reply": "2025-05-06T06:09:08.369394Z"
    },
    "papermill": {
     "duration": 0.01157,
     "end_time": "2025-05-06T06:09:08.371637",
     "exception": false,
     "start_time": "2025-05-06T06:09:08.360067",
     "status": "completed"
    },
    "tags": []
   },
   "outputs": [],
   "source": [
    "models_info = [\n",
    "    (\"Tháng 4 + 10\", X_train_scaled, y_train, X_test_scaled, y_test),\n",
    "]"
   ]
  },
  {
   "cell_type": "code",
   "execution_count": 11,
   "id": "06ed13f5",
   "metadata": {
    "execution": {
     "iopub.execute_input": "2025-05-06T06:09:08.383521Z",
     "iopub.status.busy": "2025-05-06T06:09:08.383126Z",
     "iopub.status.idle": "2025-05-06T06:09:20.817904Z",
     "shell.execute_reply": "2025-05-06T06:09:20.816907Z"
    },
    "papermill": {
     "duration": 12.442942,
     "end_time": "2025-05-06T06:09:20.819507",
     "exception": false,
     "start_time": "2025-05-06T06:09:08.376565",
     "status": "completed"
    },
    "tags": []
   },
   "outputs": [
    {
     "name": "stdout",
     "output_type": "stream",
     "text": [
      "\n",
      "=== Dataset: Tháng 4 + 10 (All Features) ===\n",
      "Tuning sigma...\n",
      " sigma=0.010 → val macro F1 = 0.4811\n",
      " sigma=0.012 → val macro F1 = 0.4811\n",
      " sigma=0.013 → val macro F1 = 0.4811\n",
      " sigma=0.015 → val macro F1 = 0.4811\n",
      " sigma=0.018 → val macro F1 = 0.4811\n",
      " sigma=0.020 → val macro F1 = 0.4811\n",
      " sigma=0.023 → val macro F1 = 0.4811\n",
      " sigma=0.027 → val macro F1 = 0.4811\n",
      " sigma=0.031 → val macro F1 = 0.4811\n",
      " sigma=0.036 → val macro F1 = 0.4811\n",
      " sigma=0.041 → val macro F1 = 0.4811\n",
      " sigma=0.047 → val macro F1 = 0.4811\n",
      " sigma=0.054 → val macro F1 = 0.4811\n",
      " sigma=0.063 → val macro F1 = 0.4811\n",
      " sigma=0.072 → val macro F1 = 0.4811\n",
      " sigma=0.083 → val macro F1 = 0.4811\n",
      " sigma=0.095 → val macro F1 = 0.4811\n",
      " sigma=0.110 → val macro F1 = 0.4811\n",
      " sigma=0.126 → val macro F1 = 0.4811\n",
      " sigma=0.146 → val macro F1 = 0.4811\n",
      " sigma=0.168 → val macro F1 = 0.4811\n",
      " sigma=0.193 → val macro F1 = 0.4811\n",
      " sigma=0.222 → val macro F1 = 0.4811\n",
      " sigma=0.256 → val macro F1 = 0.4816\n",
      " sigma=0.295 → val macro F1 = 0.4842\n",
      " sigma=0.339 → val macro F1 = 0.4994\n",
      " sigma=0.391 → val macro F1 = 0.5168\n",
      " sigma=0.450 → val macro F1 = 0.5459\n",
      " sigma=0.518 → val macro F1 = 0.5597\n",
      " sigma=0.596 → val macro F1 = 0.5634\n",
      " sigma=0.687 → val macro F1 = 0.5585\n",
      " sigma=0.791 → val macro F1 = 0.5549\n",
      " sigma=0.910 → val macro F1 = 0.5531\n",
      " sigma=1.048 → val macro F1 = 0.5543\n",
      " sigma=1.207 → val macro F1 = 0.5571\n",
      " sigma=1.389 → val macro F1 = 0.5590\n",
      " sigma=1.600 → val macro F1 = 0.5605\n",
      " sigma=1.842 → val macro F1 = 0.5603\n",
      " sigma=2.121 → val macro F1 = 0.5594\n",
      " sigma=2.442 → val macro F1 = 0.5592\n",
      " sigma=2.812 → val macro F1 = 0.5592\n",
      " sigma=3.237 → val macro F1 = 0.5592\n",
      " sigma=3.728 → val macro F1 = 0.5592\n",
      " sigma=4.292 → val macro F1 = 0.5589\n",
      " sigma=4.942 → val macro F1 = 0.5589\n",
      " sigma=5.690 → val macro F1 = 0.5589\n",
      " sigma=6.551 → val macro F1 = 0.5589\n",
      " sigma=7.543 → val macro F1 = 0.5589\n",
      " sigma=8.685 → val macro F1 = 0.5589\n",
      " sigma=10.000 → val macro F1 = 0.5589\n",
      "⇒ Best sigma = 0.5963623316594643, validation macro F1 = 0.5634\n",
      "Test classification report:\n",
      "              precision    recall  f1-score   support\n",
      "\n",
      "           0       0.91      0.70      0.79     50316\n",
      "           1       0.11      0.35      0.17      5599\n",
      "\n",
      "    accuracy                           0.66     55915\n",
      "   macro avg       0.51      0.52      0.48     55915\n",
      "weighted avg       0.83      0.66      0.73     55915\n",
      "\n",
      "Test confusion matrix:\n",
      " [[35026 15290]\n",
      " [ 3623  1976]]\n"
     ]
    },
    {
     "data": {
      "image/png": "[encoded data removed]",
      "text/plain": [
       "<Figure size 640x480 with 2 Axes>"
      ]
     },
     "metadata": {},
     "output_type": "display_data"
    },
    {
     "name": "stdout",
     "output_type": "stream",
     "text": [
      "\n",
      "=== Dataset: Tháng 4 + 10 (Top Features) ===\n",
      "Tuning sigma...\n",
      " sigma=0.010 → val macro F1 = 0.4811\n",
      " sigma=0.012 → val macro F1 = 0.4811\n",
      " sigma=0.013 → val macro F1 = 0.4811\n",
      " sigma=0.015 → val macro F1 = 0.4811\n",
      " sigma=0.018 → val macro F1 = 0.4811\n",
      " sigma=0.020 → val macro F1 = 0.4811\n",
      " sigma=0.023 → val macro F1 = 0.4811\n",
      " sigma=0.027 → val macro F1 = 0.4811\n",
      " sigma=0.031 → val macro F1 = 0.4811\n",
      " sigma=0.036 → val macro F1 = 0.4811\n",
      " sigma=0.041 → val macro F1 = 0.4811\n",
      " sigma=0.047 → val macro F1 = 0.4811\n",
      " sigma=0.054 → val macro F1 = 0.4811\n",
      " sigma=0.063 → val macro F1 = 0.4811\n",
      " sigma=0.072 → val macro F1 = 0.4811\n",
      " sigma=0.083 → val macro F1 = 0.4811\n",
      " sigma=0.095 → val macro F1 = 0.4811\n",
      " sigma=0.110 → val macro F1 = 0.4811\n",
      " sigma=0.126 → val macro F1 = 0.4811\n",
      " sigma=0.146 → val macro F1 = 0.4811\n",
      " sigma=0.168 → val macro F1 = 0.4811\n",
      " sigma=0.193 → val macro F1 = 0.4816\n",
      " sigma=0.222 → val macro F1 = 0.4850\n",
      " sigma=0.256 → val macro F1 = 0.4929\n",
      " sigma=0.295 → val macro F1 = 0.5130\n",
      " sigma=0.339 → val macro F1 = 0.5289\n",
      " sigma=0.391 → val macro F1 = 0.5481\n",
      " sigma=0.450 → val macro F1 = 0.5611\n",
      " sigma=0.518 → val macro F1 = 0.5600\n",
      " sigma=0.596 → val macro F1 = 0.5586\n",
      " sigma=0.687 → val macro F1 = 0.5567\n",
      " sigma=0.791 → val macro F1 = 0.5564\n",
      " sigma=0.910 → val macro F1 = 0.5579\n",
      " sigma=1.048 → val macro F1 = 0.5623\n",
      " sigma=1.207 → val macro F1 = 0.5630\n",
      " sigma=1.389 → val macro F1 = 0.5636\n",
      " sigma=1.600 → val macro F1 = 0.5632\n",
      " sigma=1.842 → val macro F1 = 0.5625\n",
      " sigma=2.121 → val macro F1 = 0.5625\n",
      " sigma=2.442 → val macro F1 = 0.5625\n",
      " sigma=2.812 → val macro F1 = 0.5625\n",
      " sigma=3.237 → val macro F1 = 0.5622\n",
      " sigma=3.728 → val macro F1 = 0.5622\n",
      " sigma=4.292 → val macro F1 = 0.5622\n",
      " sigma=4.942 → val macro F1 = 0.5622\n",
      " sigma=5.690 → val macro F1 = 0.5622\n",
      " sigma=6.551 → val macro F1 = 0.5622\n",
      " sigma=7.543 → val macro F1 = 0.5622\n",
      " sigma=8.685 → val macro F1 = 0.5622\n",
      " sigma=10.000 → val macro F1 = 0.5622\n",
      "⇒ Best sigma = 1.3894954943731375, validation macro F1 = 0.5636\n",
      "Test classification report:\n",
      "              precision    recall  f1-score   support\n",
      "\n",
      "           0       0.98      0.46      0.63     50316\n",
      "           1       0.16      0.93      0.27      5599\n",
      "\n",
      "    accuracy                           0.51     55915\n",
      "   macro avg       0.57      0.70      0.45     55915\n",
      "weighted avg       0.90      0.51      0.59     55915\n",
      "\n",
      "Test confusion matrix:\n",
      " [[23141 27175]\n",
      " [  376  5223]]\n"
     ]
    },
    {
     "data": {
      "image/png": "[encoded data removed]",
      "text/plain": [
       "<Figure size 640x480 with 2 Axes>"
      ]
     },
     "metadata": {},
     "output_type": "display_data"
    }
   ],
   "source": [
    "for name, X_trval, y_trval, X_test, y_test in models_info:\n",
    "    train_and_evaluate_model(f\"{name} (All Features)\", X_trval, y_trval, X_test, y_test, param_grid=param_grid)\n",
    "    train_and_evaluate_model(f\"{name} (Top Features)\", X_trval, y_trval, X_test, y_test, top_features=top_features, param_grid=param_grid)\n"
   ]
  },
  {
   "cell_type": "markdown",
   "id": "b7570545",
   "metadata": {
    "papermill": {
     "duration": 0.009944,
     "end_time": "2025-05-06T06:09:20.838948",
     "exception": false,
     "start_time": "2025-05-06T06:09:20.829004",
     "status": "completed"
    },
    "tags": []
   },
   "source": [
    "# SMOTE"
   ]
  },
  {
   "cell_type": "code",
   "execution_count": 12,
   "id": "edbe8aaf",
   "metadata": {
    "execution": {
     "iopub.execute_input": "2025-05-06T06:09:20.857882Z",
     "iopub.status.busy": "2025-05-06T06:09:20.857566Z",
     "iopub.status.idle": "2025-05-06T06:09:20.887440Z",
     "shell.execute_reply": "2025-05-06T06:09:20.886594Z"
    },
    "papermill": {
     "duration": 0.041826,
     "end_time": "2025-05-06T06:09:20.889205",
     "exception": false,
     "start_time": "2025-05-06T06:09:20.847379",
     "status": "completed"
    },
    "tags": []
   },
   "outputs": [],
   "source": [
    "X_train = train_df.drop(columns=['AWS', 'datetime', 'row','col'])\n",
    "y_train = train_df['AWS']\n",
    "\n",
    "X_test = test_df.drop(columns=['AWS', 'datetime', 'row','col'])\n",
    "y_test = test_df['AWS']"
   ]
  },
  {
   "cell_type": "code",
   "execution_count": 13,
   "id": "70f782ee",
   "metadata": {
    "execution": {
     "iopub.execute_input": "2025-05-06T06:09:20.907595Z",
     "iopub.status.busy": "2025-05-06T06:09:20.907277Z",
     "iopub.status.idle": "2025-05-06T06:09:22.877461Z",
     "shell.execute_reply": "2025-05-06T06:09:22.876443Z"
    },
    "papermill": {
     "duration": 1.981403,
     "end_time": "2025-05-06T06:09:22.879286",
     "exception": false,
     "start_time": "2025-05-06T06:09:20.897883",
     "status": "completed"
    },
    "tags": []
   },
   "outputs": [],
   "source": [
    "sm = SMOTE()\n",
    "\n",
    "X_sm, y_sm = sm.fit_resample(X_train, y_train)\n",
    "X_sm.shape, y_sm.shape\n",
    "\n",
    "scaler = StandardScaler()\n",
    "X_train_scaled = scaler.fit_transform(X_sm)\n",
    "X_test_scaled = scaler.transform(X_test)\n",
    "\n",
    "X_train_scaled = pd.DataFrame(X_train_scaled, columns=X_train.columns)\n",
    "X_test_scaled = pd.DataFrame(X_test_scaled, columns=X_test.columns)"
   ]
  },
  {
   "cell_type": "code",
   "execution_count": 14,
   "id": "77b06908",
   "metadata": {
    "execution": {
     "iopub.execute_input": "2025-05-06T06:09:22.899912Z",
     "iopub.status.busy": "2025-05-06T06:09:22.899590Z",
     "iopub.status.idle": "2025-05-06T06:09:22.904106Z",
     "shell.execute_reply": "2025-05-06T06:09:22.903395Z"
    },
    "papermill": {
     "duration": 0.015402,
     "end_time": "2025-05-06T06:09:22.905455",
     "exception": false,
     "start_time": "2025-05-06T06:09:22.890053",
     "status": "completed"
    },
    "tags": []
   },
   "outputs": [],
   "source": [
    "models_info = [\n",
    "    (\"Tháng 4 + 10\", X_train_scaled, y_sm, X_test_scaled, y_test),\n",
    "]"
   ]
  },
  {
   "cell_type": "code",
   "execution_count": 15,
   "id": "7a800d93",
   "metadata": {
    "execution": {
     "iopub.execute_input": "2025-05-06T06:09:22.923290Z",
     "iopub.status.busy": "2025-05-06T06:09:22.922920Z",
     "iopub.status.idle": "2025-05-06T06:09:47.431743Z",
     "shell.execute_reply": "2025-05-06T06:09:47.430790Z"
    },
    "papermill": {
     "duration": 24.519724,
     "end_time": "2025-05-06T06:09:47.433461",
     "exception": false,
     "start_time": "2025-05-06T06:09:22.913737",
     "status": "completed"
    },
    "tags": []
   },
   "outputs": [
    {
     "name": "stdout",
     "output_type": "stream",
     "text": [
      "\n",
      "=== Dataset: Demo Dataset (All Features) ===\n",
      "Tuning sigma...\n",
      " sigma=0.010 → val macro F1 = 0.3329\n",
      " sigma=0.012 → val macro F1 = 0.3329\n",
      " sigma=0.013 → val macro F1 = 0.3329\n",
      " sigma=0.015 → val macro F1 = 0.3329\n",
      " sigma=0.018 → val macro F1 = 0.3329\n",
      " sigma=0.020 → val macro F1 = 0.3329\n",
      " sigma=0.023 → val macro F1 = 0.3329\n",
      " sigma=0.027 → val macro F1 = 0.3329\n",
      " sigma=0.031 → val macro F1 = 0.3329\n",
      " sigma=0.036 → val macro F1 = 0.3329\n",
      " sigma=0.041 → val macro F1 = 0.3329\n",
      " sigma=0.047 → val macro F1 = 0.3329\n",
      " sigma=0.054 → val macro F1 = 0.3329\n",
      " sigma=0.063 → val macro F1 = 0.3329\n",
      " sigma=0.072 → val macro F1 = 0.3329\n",
      " sigma=0.083 → val macro F1 = 0.3329\n",
      " sigma=0.095 → val macro F1 = 0.3329\n",
      " sigma=0.110 → val macro F1 = 0.3329\n",
      " sigma=0.126 → val macro F1 = 0.3329\n",
      " sigma=0.146 → val macro F1 = 0.3329\n",
      " sigma=0.168 → val macro F1 = 0.3329\n",
      " sigma=0.193 → val macro F1 = 0.3332\n",
      " sigma=0.222 → val macro F1 = 0.3349\n",
      " sigma=0.256 → val macro F1 = 0.3419\n",
      " sigma=0.295 → val macro F1 = 0.3648\n",
      " sigma=0.339 → val macro F1 = 0.4135\n",
      " sigma=0.391 → val macro F1 = 0.4872\n",
      " sigma=0.450 → val macro F1 = 0.5654\n",
      " sigma=0.518 → val macro F1 = 0.6277\n",
      " sigma=0.596 → val macro F1 = 0.6577\n",
      " sigma=0.687 → val macro F1 = 0.6711\n",
      " sigma=0.791 → val macro F1 = 0.6842\n",
      " sigma=0.910 → val macro F1 = 0.6948\n",
      " sigma=1.048 → val macro F1 = 0.7049\n",
      " sigma=1.207 → val macro F1 = 0.7154\n",
      " sigma=1.389 → val macro F1 = 0.7183\n",
      " sigma=1.600 → val macro F1 = 0.7200\n",
      " sigma=1.842 → val macro F1 = 0.7197\n",
      " sigma=2.121 → val macro F1 = 0.7193\n",
      " sigma=2.442 → val macro F1 = 0.7192\n",
      " sigma=2.812 → val macro F1 = 0.7193\n",
      " sigma=3.237 → val macro F1 = 0.7193\n",
      " sigma=3.728 → val macro F1 = 0.7190\n",
      " sigma=4.292 → val macro F1 = 0.7190\n",
      " sigma=4.942 → val macro F1 = 0.7190\n",
      " sigma=5.690 → val macro F1 = 0.7190\n",
      " sigma=6.551 → val macro F1 = 0.7190\n",
      " sigma=7.543 → val macro F1 = 0.7190\n",
      " sigma=8.685 → val macro F1 = 0.7190\n",
      " sigma=10.000 → val macro F1 = 0.7190\n",
      "⇒ Best sigma = 1.5998587196060574, validation macro F1 = 0.7200\n",
      "Test classification report:\n",
      "              precision    recall  f1-score   support\n",
      "\n",
      "           0       0.98      0.46      0.63     50316\n",
      "           1       0.16      0.93      0.27      5599\n",
      "\n",
      "    accuracy                           0.51     55915\n",
      "   macro avg       0.57      0.70      0.45     55915\n",
      "weighted avg       0.90      0.51      0.60     55915\n",
      "\n",
      "Test confusion matrix:\n",
      " [[23391 26925]\n",
      " [  417  5182]]\n"
     ]
    },
    {
     "data": {
      "image/png": "[encoded data removed]",
      "text/plain": [
       "<Figure size 640x480 with 2 Axes>"
      ]
     },
     "metadata": {},
     "output_type": "display_data"
    },
    {
     "name": "stdout",
     "output_type": "stream",
     "text": [
      "\n",
      "=== Dataset: Demo Dataset (Top Features) ===\n",
      "Tuning sigma...\n",
      " sigma=0.010 → val macro F1 = 0.3329\n",
      " sigma=0.012 → val macro F1 = 0.3329\n",
      " sigma=0.013 → val macro F1 = 0.3329\n",
      " sigma=0.015 → val macro F1 = 0.3329\n",
      " sigma=0.018 → val macro F1 = 0.3329\n",
      " sigma=0.020 → val macro F1 = 0.3329\n",
      " sigma=0.023 → val macro F1 = 0.3329\n",
      " sigma=0.027 → val macro F1 = 0.3329\n",
      " sigma=0.031 → val macro F1 = 0.3329\n",
      " sigma=0.036 → val macro F1 = 0.3329\n",
      " sigma=0.041 → val macro F1 = 0.3329\n",
      " sigma=0.047 → val macro F1 = 0.3329\n",
      " sigma=0.054 → val macro F1 = 0.3329\n",
      " sigma=0.063 → val macro F1 = 0.3329\n",
      " sigma=0.072 → val macro F1 = 0.3329\n",
      " sigma=0.083 → val macro F1 = 0.3329\n",
      " sigma=0.095 → val macro F1 = 0.3329\n",
      " sigma=0.110 → val macro F1 = 0.3330\n",
      " sigma=0.126 → val macro F1 = 0.3333\n",
      " sigma=0.146 → val macro F1 = 0.3344\n",
      " sigma=0.168 → val macro F1 = 0.3371\n",
      " sigma=0.193 → val macro F1 = 0.3456\n",
      " sigma=0.222 → val macro F1 = 0.3688\n",
      " sigma=0.256 → val macro F1 = 0.4115\n",
      " sigma=0.295 → val macro F1 = 0.4755\n",
      " sigma=0.339 → val macro F1 = 0.5436\n",
      " sigma=0.391 → val macro F1 = 0.6079\n",
      " sigma=0.450 → val macro F1 = 0.6540\n",
      " sigma=0.518 → val macro F1 = 0.6738\n",
      " sigma=0.596 → val macro F1 = 0.6878\n",
      " sigma=0.687 → val macro F1 = 0.7004\n",
      " sigma=0.791 → val macro F1 = 0.7118\n",
      " sigma=0.910 → val macro F1 = 0.7224\n",
      " sigma=1.048 → val macro F1 = 0.7279\n",
      " sigma=1.207 → val macro F1 = 0.7306\n",
      " sigma=1.389 → val macro F1 = 0.7310\n",
      " sigma=1.600 → val macro F1 = 0.7307\n",
      " sigma=1.842 → val macro F1 = 0.7306\n",
      " sigma=2.121 → val macro F1 = 0.7306\n",
      " sigma=2.442 → val macro F1 = 0.7307\n",
      " sigma=2.812 → val macro F1 = 0.7304\n",
      " sigma=3.237 → val macro F1 = 0.7304\n",
      " sigma=3.728 → val macro F1 = 0.7304\n",
      " sigma=4.292 → val macro F1 = 0.7304\n",
      " sigma=4.942 → val macro F1 = 0.7304\n",
      " sigma=5.690 → val macro F1 = 0.7304\n",
      " sigma=6.551 → val macro F1 = 0.7304\n",
      " sigma=7.543 → val macro F1 = 0.7304\n",
      " sigma=8.685 → val macro F1 = 0.7304\n",
      " sigma=10.000 → val macro F1 = 0.7304\n",
      "⇒ Best sigma = 1.3894954943731375, validation macro F1 = 0.7310\n",
      "Test classification report:\n",
      "              precision    recall  f1-score   support\n",
      "\n",
      "           0       0.98      0.45      0.62     50316\n",
      "           1       0.16      0.94      0.27      5599\n",
      "\n",
      "    accuracy                           0.50     55915\n",
      "   macro avg       0.57      0.69      0.45     55915\n",
      "weighted avg       0.90      0.50      0.58     55915\n",
      "\n",
      "Test confusion matrix:\n",
      " [[22695 27621]\n",
      " [  346  5253]]\n"
     ]
    },
    {
     "data": {
      "image/png": "[encoded data removed]",
      "text/plain": [
       "<Figure size 640x480 with 2 Axes>"
      ]
     },
     "metadata": {},
     "output_type": "display_data"
    }
   ],
   "source": [
    "for name, X_trval, y_trval, X_test, y_test in models_info:\n",
    "    train_and_evaluate_model(\"Demo Dataset (All Features)\", X_trval, y_trval, X_test, y_test, param_grid=param_grid)\n",
    "    train_and_evaluate_model(\"Demo Dataset (Top Features)\", X_trval, y_trval, X_test, y_test, top_features=top_features, param_grid=param_grid)"
   ]
  },
  {
   "cell_type": "markdown",
   "id": "91e5e66b",
   "metadata": {
    "papermill": {
     "duration": 0.014298,
     "end_time": "2025-05-06T06:09:47.462690",
     "exception": false,
     "start_time": "2025-05-06T06:09:47.448392",
     "status": "completed"
    },
    "tags": []
   },
   "source": [
    "# SMOTE ENN"
   ]
  },
  {
   "cell_type": "code",
   "execution_count": 16,
   "id": "04a029eb",
   "metadata": {
    "execution": {
     "iopub.execute_input": "2025-05-06T06:09:47.492979Z",
     "iopub.status.busy": "2025-05-06T06:09:47.492138Z",
     "iopub.status.idle": "2025-05-06T06:09:47.521338Z",
     "shell.execute_reply": "2025-05-06T06:09:47.520451Z"
    },
    "papermill": {
     "duration": 0.045928,
     "end_time": "2025-05-06T06:09:47.522922",
     "exception": false,
     "start_time": "2025-05-06T06:09:47.476994",
     "status": "completed"
    },
    "tags": []
   },
   "outputs": [],
   "source": [
    "X_train = train_df.drop(columns=['AWS', 'datetime', 'row','col'])\n",
    "y_train = train_df['AWS']\n",
    "\n",
    "X_test = test_df.drop(columns=['AWS', 'datetime', 'row','col'])\n",
    "y_test = test_df['AWS']"
   ]
  },
  {
   "cell_type": "code",
   "execution_count": 17,
   "id": "f14b2b85",
   "metadata": {
    "execution": {
     "iopub.execute_input": "2025-05-06T06:09:47.552365Z",
     "iopub.status.busy": "2025-05-06T06:09:47.551976Z",
     "iopub.status.idle": "2025-05-06T06:21:58.842893Z",
     "shell.execute_reply": "2025-05-06T06:21:58.841624Z"
    },
    "papermill": {
     "duration": 731.307754,
     "end_time": "2025-05-06T06:21:58.844949",
     "exception": false,
     "start_time": "2025-05-06T06:09:47.537195",
     "status": "completed"
    },
    "tags": []
   },
   "outputs": [],
   "source": [
    "smenn = SMOTEENN()\n",
    "\n",
    "X_smenn, y_smenn = smenn.fit_resample(X_train, y_train)\n",
    "X_smenn.shape, y_sm.shape\n",
    "\n",
    "scaler = StandardScaler()\n",
    "X_train_scaled = scaler.fit_transform(X_smenn)\n",
    "X_test_scaled = scaler.transform(X_test)\n",
    "\n",
    "X_train_scaled = pd.DataFrame(X_train_scaled, columns=X_train.columns)\n",
    "X_test_scaled = pd.DataFrame(X_test_scaled, columns=X_test.columns)"
   ]
  },
  {
   "cell_type": "code",
   "execution_count": 18,
   "id": "01619bde",
   "metadata": {
    "execution": {
     "iopub.execute_input": "2025-05-06T06:21:58.875916Z",
     "iopub.status.busy": "2025-05-06T06:21:58.875598Z",
     "iopub.status.idle": "2025-05-06T06:21:58.880702Z",
     "shell.execute_reply": "2025-05-06T06:21:58.879653Z"
    },
    "papermill": {
     "duration": 0.022013,
     "end_time": "2025-05-06T06:21:58.882390",
     "exception": false,
     "start_time": "2025-05-06T06:21:58.860377",
     "status": "completed"
    },
    "tags": []
   },
   "outputs": [],
   "source": [
    "models_info = [\n",
    "    (\"Tháng 4 + 10\", X_train_scaled, y_smenn, X_test_scaled, y_test),\n",
    "]"
   ]
  },
  {
   "cell_type": "code",
   "execution_count": 19,
   "id": "c75ada76",
   "metadata": {
    "execution": {
     "iopub.execute_input": "2025-05-06T06:21:58.922595Z",
     "iopub.status.busy": "2025-05-06T06:21:58.921852Z",
     "iopub.status.idle": "2025-05-06T06:22:19.603293Z",
     "shell.execute_reply": "2025-05-06T06:22:19.602303Z"
    },
    "papermill": {
     "duration": 20.701739,
     "end_time": "2025-05-06T06:22:19.605830",
     "exception": false,
     "start_time": "2025-05-06T06:21:58.904091",
     "status": "completed"
    },
    "tags": []
   },
   "outputs": [
    {
     "name": "stdout",
     "output_type": "stream",
     "text": [
      "\n",
      "=== Dataset: Demo Dataset (All Features) ===\n",
      "Tuning sigma...\n",
      " sigma=0.010 → val macro F1 = 0.3320\n",
      " sigma=0.012 → val macro F1 = 0.3320\n",
      " sigma=0.013 → val macro F1 = 0.3320\n",
      " sigma=0.015 → val macro F1 = 0.3320\n",
      " sigma=0.018 → val macro F1 = 0.3320\n",
      " sigma=0.020 → val macro F1 = 0.3320\n",
      " sigma=0.023 → val macro F1 = 0.3320\n",
      " sigma=0.027 → val macro F1 = 0.3320\n",
      " sigma=0.031 → val macro F1 = 0.3320\n",
      " sigma=0.036 → val macro F1 = 0.3320\n",
      " sigma=0.041 → val macro F1 = 0.3320\n",
      " sigma=0.047 → val macro F1 = 0.3320\n",
      " sigma=0.054 → val macro F1 = 0.3320\n",
      " sigma=0.063 → val macro F1 = 0.3320\n",
      " sigma=0.072 → val macro F1 = 0.3320\n",
      " sigma=0.083 → val macro F1 = 0.3320\n",
      " sigma=0.095 → val macro F1 = 0.3320\n",
      " sigma=0.110 → val macro F1 = 0.3320\n",
      " sigma=0.126 → val macro F1 = 0.3320\n",
      " sigma=0.146 → val macro F1 = 0.3320\n",
      " sigma=0.168 → val macro F1 = 0.3321\n",
      " sigma=0.193 → val macro F1 = 0.3324\n",
      " sigma=0.222 → val macro F1 = 0.3341\n",
      " sigma=0.256 → val macro F1 = 0.3434\n",
      " sigma=0.295 → val macro F1 = 0.3698\n",
      " sigma=0.339 → val macro F1 = 0.4240\n",
      " sigma=0.391 → val macro F1 = 0.5012\n",
      " sigma=0.450 → val macro F1 = 0.5830\n",
      " sigma=0.518 → val macro F1 = 0.6492\n",
      " sigma=0.596 → val macro F1 = 0.6830\n",
      " sigma=0.687 → val macro F1 = 0.6970\n",
      " sigma=0.791 → val macro F1 = 0.7122\n",
      " sigma=0.910 → val macro F1 = 0.7238\n",
      " sigma=1.048 → val macro F1 = 0.7342\n",
      " sigma=1.207 → val macro F1 = 0.7447\n",
      " sigma=1.389 → val macro F1 = 0.7473\n",
      " sigma=1.600 → val macro F1 = 0.7491\n",
      " sigma=1.842 → val macro F1 = 0.7487\n",
      " sigma=2.121 → val macro F1 = 0.7483\n",
      " sigma=2.442 → val macro F1 = 0.7483\n",
      " sigma=2.812 → val macro F1 = 0.7483\n",
      " sigma=3.237 → val macro F1 = 0.7484\n",
      " sigma=3.728 → val macro F1 = 0.7484\n",
      " sigma=4.292 → val macro F1 = 0.7484\n",
      " sigma=4.942 → val macro F1 = 0.7484\n",
      " sigma=5.690 → val macro F1 = 0.7484\n",
      " sigma=6.551 → val macro F1 = 0.7484\n",
      " sigma=7.543 → val macro F1 = 0.7484\n",
      " sigma=8.685 → val macro F1 = 0.7484\n",
      " sigma=10.000 → val macro F1 = 0.7484\n",
      "⇒ Best sigma = 1.5998587196060574, validation macro F1 = 0.7491\n",
      "Test classification report:\n",
      "              precision    recall  f1-score   support\n",
      "\n",
      "           0       0.98      0.46      0.63     50316\n",
      "           1       0.16      0.92      0.27      5599\n",
      "\n",
      "    accuracy                           0.51     55915\n",
      "   macro avg       0.57      0.69      0.45     55915\n",
      "weighted avg       0.90      0.51      0.60     55915\n",
      "\n",
      "Test confusion matrix:\n",
      " [[23371 26945]\n",
      " [  422  5177]]\n"
     ]
    },
    {
     "data": {
      "image/png": "[encoded data removed]",
      "text/plain": [
       "<Figure size 640x480 with 2 Axes>"
      ]
     },
     "metadata": {},
     "output_type": "display_data"
    },
    {
     "name": "stdout",
     "output_type": "stream",
     "text": [
      "\n",
      "=== Dataset: Demo Dataset (Top Features) ===\n",
      "Tuning sigma...\n",
      " sigma=0.010 → val macro F1 = 0.3320\n",
      " sigma=0.012 → val macro F1 = 0.3320\n",
      " sigma=0.013 → val macro F1 = 0.3320\n",
      " sigma=0.015 → val macro F1 = 0.3320\n",
      " sigma=0.018 → val macro F1 = 0.3320\n",
      " sigma=0.020 → val macro F1 = 0.3320\n",
      " sigma=0.023 → val macro F1 = 0.3320\n",
      " sigma=0.027 → val macro F1 = 0.3320\n",
      " sigma=0.031 → val macro F1 = 0.3320\n",
      " sigma=0.036 → val macro F1 = 0.3320\n",
      " sigma=0.041 → val macro F1 = 0.3320\n",
      " sigma=0.047 → val macro F1 = 0.3320\n",
      " sigma=0.054 → val macro F1 = 0.3320\n",
      " sigma=0.063 → val macro F1 = 0.3320\n",
      " sigma=0.072 → val macro F1 = 0.3320\n",
      " sigma=0.083 → val macro F1 = 0.3320\n",
      " sigma=0.095 → val macro F1 = 0.3320\n",
      " sigma=0.110 → val macro F1 = 0.3320\n",
      " sigma=0.126 → val macro F1 = 0.3323\n",
      " sigma=0.146 → val macro F1 = 0.3334\n",
      " sigma=0.168 → val macro F1 = 0.3370\n",
      " sigma=0.193 → val macro F1 = 0.3473\n",
      " sigma=0.222 → val macro F1 = 0.3738\n",
      " sigma=0.256 → val macro F1 = 0.4193\n",
      " sigma=0.295 → val macro F1 = 0.4885\n",
      " sigma=0.339 → val macro F1 = 0.5624\n",
      " sigma=0.391 → val macro F1 = 0.6289\n",
      " sigma=0.450 → val macro F1 = 0.6766\n",
      " sigma=0.518 → val macro F1 = 0.6997\n",
      " sigma=0.596 → val macro F1 = 0.7142\n",
      " sigma=0.687 → val macro F1 = 0.7285\n",
      " sigma=0.791 → val macro F1 = 0.7407\n",
      " sigma=0.910 → val macro F1 = 0.7526\n",
      " sigma=1.048 → val macro F1 = 0.7571\n",
      " sigma=1.207 → val macro F1 = 0.7596\n",
      " sigma=1.389 → val macro F1 = 0.7600\n",
      " sigma=1.600 → val macro F1 = 0.7596\n",
      " sigma=1.842 → val macro F1 = 0.7596\n",
      " sigma=2.121 → val macro F1 = 0.7597\n",
      " sigma=2.442 → val macro F1 = 0.7597\n",
      " sigma=2.812 → val macro F1 = 0.7597\n",
      " sigma=3.237 → val macro F1 = 0.7597\n",
      " sigma=3.728 → val macro F1 = 0.7597\n",
      " sigma=4.292 → val macro F1 = 0.7597\n",
      " sigma=4.942 → val macro F1 = 0.7597\n",
      " sigma=5.690 → val macro F1 = 0.7597\n",
      " sigma=6.551 → val macro F1 = 0.7597\n",
      " sigma=7.543 → val macro F1 = 0.7597\n",
      " sigma=8.685 → val macro F1 = 0.7597\n",
      " sigma=10.000 → val macro F1 = 0.7597\n",
      "⇒ Best sigma = 1.3894954943731375, validation macro F1 = 0.7600\n",
      "Test classification report:\n",
      "              precision    recall  f1-score   support\n",
      "\n",
      "           0       0.99      0.45      0.62     50316\n",
      "           1       0.16      0.94      0.27      5599\n",
      "\n",
      "    accuracy                           0.50     55915\n",
      "   macro avg       0.57      0.69      0.44     55915\n",
      "weighted avg       0.90      0.50      0.58     55915\n",
      "\n",
      "Test confusion matrix:\n",
      " [[22608 27708]\n",
      " [  344  5255]]\n"
     ]
    },
    {
     "data": {
      "image/png": "[encoded data removed]",
      "text/plain": [
       "<Figure size 640x480 with 2 Axes>"
      ]
     },
     "metadata": {},
     "output_type": "display_data"
    }
   ],
   "source": [
    "for name, X_trval, y_trval, X_test, y_test in models_info:\n",
    "    train_and_evaluate_model(\"Demo Dataset (All Features)\", X_trval, y_trval, X_test, y_test, param_grid=param_grid)\n",
    "    train_and_evaluate_model(\"Demo Dataset (Top Features)\", X_trval, y_trval, X_test, y_test, top_features=top_features, param_grid=param_grid) "
   ]
  }
 ],
 "metadata": {
  "kaggle": {
   "accelerator": "none",
   "dataSources": [
    {
     "datasetId": 7334326,
     "sourceId": 11685547,
     "sourceType": "datasetVersion"
    },
    {
     "datasetId": 7334337,
     "sourceId": 11685564,
     "sourceType": "datasetVersion"
    }
   ],
   "dockerImageVersionId": 31012,
   "isGpuEnabled": false,
   "isInternetEnabled": true,
   "language": "python",
   "sourceType": "notebook"
  },
  "kernelspec": {
   "display_name": "Python 3",
   "language": "python",
   "name": "python3"
  },
  "language_info": {
   "codemirror_mode": {
    "name": "ipython",
    "version": 3
   },
   "file_extension": ".py",
   "mimetype": "text/x-python",
   "name": "python",
   "nbconvert_exporter": "python",
   "pygments_lexer": "ipython3",
   "version": "3.11.11"
  },
  "papermill": {
   "default_parameters": {},
   "duration": 820.69233,
   "end_time": "2025-05-06T06:22:22.447053",
   "environment_variables": {},
   "exception": null,
   "input_path": "__notebook__.ipynb",
   "output_path": "__notebook__.ipynb",
   "parameters": {},
   "start_time": "2025-05-06T06:08:41.754723",
   "version": "2.6.0"
  }
 },
 "nbformat": 4,
 "nbformat_minor": 5
}
