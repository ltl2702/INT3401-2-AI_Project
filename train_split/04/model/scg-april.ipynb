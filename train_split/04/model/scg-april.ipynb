{
 "cells": [
  {
   "cell_type": "code",
   "execution_count": 1,
   "id": "3fe9965a",
   "metadata": {
    "_cell_guid": "b1076dfc-b9ad-4769-8c92-a6c4dae69d19",
    "_uuid": "8f2839f25d086af736a60e9eeb907d3b93b6e0e5",
    "execution": {
     "iopub.execute_input": "2025-05-05T18:44:57.600401Z",
     "iopub.status.busy": "2025-05-05T18:44:57.600038Z",
     "iopub.status.idle": "2025-05-05T18:45:18.243843Z",
     "shell.execute_reply": "2025-05-05T18:45:18.241466Z"
    },
    "papermill": {
     "duration": 20.654953,
     "end_time": "2025-05-05T18:45:18.247239",
     "exception": false,
     "start_time": "2025-05-05T18:44:57.592286",
     "status": "completed"
    },
    "tags": []
   },
   "outputs": [
    {
     "name": "stdout",
     "output_type": "stream",
     "text": [
      "Requirement already satisfied: scikit-learn==1.2.2 in /usr/local/lib/python3.11/dist-packages (1.2.2)\r\n",
      "Collecting imbalanced-learn==0.10.1\r\n",
      "  Downloading imbalanced_learn-0.10.1-py3-none-any.whl.metadata (8.2 kB)\r\n",
      "Requirement already satisfied: numpy>=1.17.3 in /usr/local/lib/python3.11/dist-packages (from scikit-learn==1.2.2) (1.26.4)\r\n",
      "Requirement already satisfied: scipy>=1.3.2 in /usr/local/lib/python3.11/dist-packages (from scikit-learn==1.2.2) (1.15.2)\r\n",
      "Requirement already satisfied: joblib>=1.1.1 in /usr/local/lib/python3.11/dist-packages (from scikit-learn==1.2.2) (1.4.2)\r\n",
      "Requirement already satisfied: threadpoolctl>=2.0.0 in /usr/local/lib/python3.11/dist-packages (from scikit-learn==1.2.2) (3.6.0)\r\n",
      "Requirement already satisfied: mkl_fft in /usr/local/lib/python3.11/dist-packages (from numpy>=1.17.3->scikit-learn==1.2.2) (1.3.8)\r\n",
      "Requirement already satisfied: mkl_random in /usr/local/lib/python3.11/dist-packages (from numpy>=1.17.3->scikit-learn==1.2.2) (1.2.4)\r\n",
      "Requirement already satisfied: mkl_umath in /usr/local/lib/python3.11/dist-packages (from numpy>=1.17.3->scikit-learn==1.2.2) (0.1.1)\r\n",
      "Requirement already satisfied: mkl in /usr/local/lib/python3.11/dist-packages (from numpy>=1.17.3->scikit-learn==1.2.2) (2025.1.0)\r\n",
      "Requirement already satisfied: tbb4py in /usr/local/lib/python3.11/dist-packages (from numpy>=1.17.3->scikit-learn==1.2.2) (2022.1.0)\r\n",
      "Requirement already satisfied: mkl-service in /usr/local/lib/python3.11/dist-packages (from numpy>=1.17.3->scikit-learn==1.2.2) (2.4.1)\r\n",
      "Requirement already satisfied: intel-openmp<2026,>=2024 in /usr/local/lib/python3.11/dist-packages (from mkl->numpy>=1.17.3->scikit-learn==1.2.2) (2024.2.0)\r\n",
      "Requirement already satisfied: tbb==2022.* in /usr/local/lib/python3.11/dist-packages (from mkl->numpy>=1.17.3->scikit-learn==1.2.2) (2022.1.0)\r\n",
      "Requirement already satisfied: tcmlib==1.* in /usr/local/lib/python3.11/dist-packages (from tbb==2022.*->mkl->numpy>=1.17.3->scikit-learn==1.2.2) (1.2.0)\r\n",
      "Requirement already satisfied: intel-cmplr-lib-rt in /usr/local/lib/python3.11/dist-packages (from mkl_umath->numpy>=1.17.3->scikit-learn==1.2.2) (2024.2.0)\r\n",
      "Requirement already satisfied: intel-cmplr-lib-ur==2024.2.0 in /usr/local/lib/python3.11/dist-packages (from intel-openmp<2026,>=2024->mkl->numpy>=1.17.3->scikit-learn==1.2.2) (2024.2.0)\r\n",
      "Downloading imbalanced_learn-0.10.1-py3-none-any.whl (226 kB)\r\n",
      "\u001b[2K   \u001b[90m━━━━━━━━━━━━━━━━━━━━━━━━━━━━━━━━━━━━━━━━\u001b[0m \u001b[32m226.0/226.0 kB\u001b[0m \u001b[31m7.2 MB/s\u001b[0m eta \u001b[36m0:00:00\u001b[0m\r\n",
      "\u001b[?25hInstalling collected packages: imbalanced-learn\r\n",
      "  Attempting uninstall: imbalanced-learn\r\n",
      "    Found existing installation: imbalanced-learn 0.13.0\r\n",
      "    Uninstalling imbalanced-learn-0.13.0:\r\n",
      "      Successfully uninstalled imbalanced-learn-0.13.0\r\n",
      "Successfully installed imbalanced-learn-0.10.1\r\n"
     ]
    }
   ],
   "source": [
    "import pandas as pd\n",
    "import numpy as np\n",
    "from sklearn.model_selection import train_test_split\n",
    "from sklearn.base import BaseEstimator, TransformerMixin\n",
    "from sklearn.pipeline import Pipeline\n",
    "from sklearn.preprocessing import MinMaxScaler\n",
    "from sklearn.preprocessing import StandardScaler\n",
    "import matplotlib.pyplot as plt\n",
    "import matplotlib.gridspec as gridspec\n",
    "import seaborn as sns\n",
    "from tqdm import tqdm\n",
    "from sklearn.metrics import classification_report, confusion_matrix, ConfusionMatrixDisplay\n",
    "import matplotlib.pyplot as plt\n",
    "import torch.nn as nn\n",
    "from sklearn.decomposition import PCA\n",
    "from sklearn.metrics import classification_report\n",
    "from sklearn.linear_model import LogisticRegression\n",
    "from sklearn.preprocessing import OneHotEncoder\n",
    "from sklearn.metrics import f1_score, classification_report, confusion_matrix, roc_curve, auc\n",
    "\n",
    "!pip install scikit-learn==1.2.2 imbalanced-learn==0.10.1\n",
    "\n",
    "from imblearn.over_sampling import SMOTE\n",
    "from imblearn.combine import SMOTEENN\n",
    "\n",
    "import warnings\n",
    "warnings.simplefilter('ignore', FutureWarning)"
   ]
  },
  {
   "cell_type": "code",
   "execution_count": 2,
   "id": "45207f21",
   "metadata": {
    "execution": {
     "iopub.execute_input": "2025-05-05T18:45:18.262332Z",
     "iopub.status.busy": "2025-05-05T18:45:18.261224Z",
     "iopub.status.idle": "2025-05-05T18:45:23.041435Z",
     "shell.execute_reply": "2025-05-05T18:45:23.040263Z"
    },
    "papermill": {
     "duration": 4.79002,
     "end_time": "2025-05-05T18:45:23.043841",
     "exception": false,
     "start_time": "2025-05-05T18:45:18.253821",
     "status": "completed"
    },
    "tags": []
   },
   "outputs": [],
   "source": [
    "train_df = pd.read_csv('/kaggle/input/data-split/train_split/04/train_april.csv')\n",
    "test_df = pd.read_csv('/kaggle/input/data-split/train_split/04/test_april.csv')"
   ]
  },
  {
   "cell_type": "code",
   "execution_count": 3,
   "id": "5ad9d81d",
   "metadata": {
    "execution": {
     "iopub.execute_input": "2025-05-05T18:45:23.058496Z",
     "iopub.status.busy": "2025-05-05T18:45:23.058145Z",
     "iopub.status.idle": "2025-05-05T18:45:23.122015Z",
     "shell.execute_reply": "2025-05-05T18:45:23.120767Z"
    },
    "papermill": {
     "duration": 0.073855,
     "end_time": "2025-05-05T18:45:23.124255",
     "exception": false,
     "start_time": "2025-05-05T18:45:23.050400",
     "status": "completed"
    },
    "tags": []
   },
   "outputs": [],
   "source": [
    "X_train = train_df.drop(columns=['AWS', 'datetime', 'row','col'])\n",
    "y_train = train_df['AWS']\n",
    "\n",
    "X_test = test_df.drop(columns=['AWS', 'datetime', 'row','col'])\n",
    "y_test = test_df['AWS']"
   ]
  },
  {
   "cell_type": "markdown",
   "id": "2f7149ee",
   "metadata": {
    "papermill": {
     "duration": 0.005287,
     "end_time": "2025-05-05T18:45:23.136118",
     "exception": false,
     "start_time": "2025-05-05T18:45:23.130831",
     "status": "completed"
    },
    "tags": []
   },
   "source": [
    "# Chuẩn hóa"
   ]
  },
  {
   "cell_type": "code",
   "execution_count": 4,
   "id": "3543e585",
   "metadata": {
    "execution": {
     "iopub.execute_input": "2025-05-05T18:45:23.149521Z",
     "iopub.status.busy": "2025-05-05T18:45:23.149093Z",
     "iopub.status.idle": "2025-05-05T18:45:23.378072Z",
     "shell.execute_reply": "2025-05-05T18:45:23.376758Z"
    },
    "papermill": {
     "duration": 0.238037,
     "end_time": "2025-05-05T18:45:23.379845",
     "exception": false,
     "start_time": "2025-05-05T18:45:23.141808",
     "status": "completed"
    },
    "tags": []
   },
   "outputs": [],
   "source": [
    "scaler = StandardScaler()\n",
    "X_train_scaled = scaler.fit_transform(X_train)\n",
    "X_test_scaled = scaler.transform(X_test)\n",
    "\n",
    "X_train_scaled = pd.DataFrame(X_train_scaled, columns=X_train.columns)\n",
    "X_test_scaled = pd.DataFrame(X_test_scaled, columns=X_test.columns)"
   ]
  },
  {
   "cell_type": "markdown",
   "id": "361fcd9b",
   "metadata": {
    "papermill": {
     "duration": 0.005746,
     "end_time": "2025-05-05T18:45:23.392946",
     "exception": false,
     "start_time": "2025-05-05T18:45:23.387200",
     "status": "completed"
    },
    "tags": []
   },
   "source": [
    "# Chọn feature"
   ]
  },
  {
   "cell_type": "code",
   "execution_count": 5,
   "id": "45d752af",
   "metadata": {
    "execution": {
     "iopub.execute_input": "2025-05-05T18:45:23.407220Z",
     "iopub.status.busy": "2025-05-05T18:45:23.406867Z",
     "iopub.status.idle": "2025-05-05T18:45:23.414802Z",
     "shell.execute_reply": "2025-05-05T18:45:23.412618Z"
    },
    "papermill": {
     "duration": 0.01751,
     "end_time": "2025-05-05T18:45:23.416871",
     "exception": false,
     "start_time": "2025-05-05T18:45:23.399361",
     "status": "completed"
    },
    "tags": []
   },
   "outputs": [],
   "source": [
    "top_features =  ['CAPE', 'KX', 'R500', 'R850', 'TCLW', 'TCW', 'U250', 'U850', 'V250', 'V850', 'B10B', 'B11B', 'B14B', 'I2B', 'I4B', 'IRB', 'WVB']"
   ]
  },
  {
   "cell_type": "code",
   "execution_count": 6,
   "id": "13f023ec",
   "metadata": {
    "execution": {
     "iopub.execute_input": "2025-05-05T18:45:23.431006Z",
     "iopub.status.busy": "2025-05-05T18:45:23.430623Z",
     "iopub.status.idle": "2025-05-05T18:45:23.437504Z",
     "shell.execute_reply": "2025-05-05T18:45:23.435974Z"
    },
    "papermill": {
     "duration": 0.015403,
     "end_time": "2025-05-05T18:45:23.439219",
     "exception": false,
     "start_time": "2025-05-05T18:45:23.423816",
     "status": "completed"
    },
    "tags": []
   },
   "outputs": [],
   "source": [
    "def print_scores(y_true, y_pred):\n",
    "    cm = confusion_matrix(y_true, y_pred)\n",
    "    sns.heatmap(cm, annot=True, fmt=\"d\", cmap=\"Blues\")\n",
    "    plt.xlabel(\"Predicted\")\n",
    "    plt.ylabel(\"True\")\n",
    "    plt.title(\"Confusion Matrix\")\n",
    "    plt.show()\n",
    "    print(classification_report(y_true, y_pred))"
   ]
  },
  {
   "cell_type": "code",
   "execution_count": 7,
   "id": "e46eaf6c",
   "metadata": {
    "execution": {
     "iopub.execute_input": "2025-05-05T18:45:23.454377Z",
     "iopub.status.busy": "2025-05-05T18:45:23.453991Z",
     "iopub.status.idle": "2025-05-05T18:45:23.461984Z",
     "shell.execute_reply": "2025-05-05T18:45:23.460288Z"
    },
    "papermill": {
     "duration": 0.019804,
     "end_time": "2025-05-05T18:45:23.464818",
     "exception": false,
     "start_time": "2025-05-05T18:45:23.445014",
     "status": "completed"
    },
    "tags": []
   },
   "outputs": [],
   "source": [
    "models_info = [\n",
    "    (\"Tháng 4\", X_train_scaled, y_train, X_test_scaled, y_test),\n",
    "]"
   ]
  },
  {
   "cell_type": "markdown",
   "id": "88d88074",
   "metadata": {
    "papermill": {
     "duration": 0.006392,
     "end_time": "2025-05-05T18:45:23.477024",
     "exception": false,
     "start_time": "2025-05-05T18:45:23.470632",
     "status": "completed"
    },
    "tags": []
   },
   "source": [
    "# Hàm bổ trợ"
   ]
  },
  {
   "cell_type": "code",
   "execution_count": 8,
   "id": "4e8662ba",
   "metadata": {
    "execution": {
     "iopub.execute_input": "2025-05-05T18:45:23.493784Z",
     "iopub.status.busy": "2025-05-05T18:45:23.493369Z",
     "iopub.status.idle": "2025-05-05T18:45:23.501689Z",
     "shell.execute_reply": "2025-05-05T18:45:23.499719Z"
    },
    "papermill": {
     "duration": 0.017179,
     "end_time": "2025-05-05T18:45:23.503683",
     "exception": false,
     "start_time": "2025-05-05T18:45:23.486504",
     "status": "completed"
    },
    "tags": []
   },
   "outputs": [],
   "source": [
    "# ——— Utility functions ———\n",
    "def softmax(Z):\n",
    "    # Ensure Z is a numpy array of shape (n_samples, n_classes)\n",
    "    Z_arr = Z.values if hasattr(Z, \"values\") else np.array(Z)\n",
    "    # 1) subtract the max for numerical stability\n",
    "    #    max_per_row: shape (n_samples,)\n",
    "    max_per_row = np.max(Z_arr, axis=1)\n",
    "    #    reshape to (n_samples, 1) so broadcasting works\n",
    "    max_per_row = max_per_row.reshape(-1, 1)\n",
    "    # 2) exponentiate\n",
    "    expZ = np.exp(Z_arr - max_per_row)\n",
    "    # 3) sum per row, then reshape to (n_samples, 1)\n",
    "    sum_per_row = np.sum(expZ, axis=1).reshape(-1, 1)\n",
    "    # 4) divide\n",
    "    return expZ / sum_per_row"
   ]
  },
  {
   "cell_type": "code",
   "execution_count": 9,
   "id": "3ba60f64",
   "metadata": {
    "execution": {
     "iopub.execute_input": "2025-05-05T18:45:23.520121Z",
     "iopub.status.busy": "2025-05-05T18:45:23.518531Z",
     "iopub.status.idle": "2025-05-05T18:45:23.532162Z",
     "shell.execute_reply": "2025-05-05T18:45:23.529100Z"
    },
    "papermill": {
     "duration": 0.026121,
     "end_time": "2025-05-05T18:45:23.537004",
     "exception": false,
     "start_time": "2025-05-05T18:45:23.510883",
     "status": "completed"
    },
    "tags": []
   },
   "outputs": [],
   "source": [
    "def pack(W1, b1, W2, b2):\n",
    "    \"\"\"\n",
    "    Flatten and concatenate parameters, handling pandas DataFrame/Series inputs.\n",
    "    \"\"\"\n",
    "    # Convert DataFrame/Series to numpy arrays\n",
    "    W1_arr = W1.values if isinstance(W1, pd.DataFrame) else np.array(W1)\n",
    "    b1_arr = b1.values if isinstance(b1, (pd.Series, pd.DataFrame)) else np.array(b1)\n",
    "    W2_arr = W2.values if isinstance(W2, pd.DataFrame) else np.array(W2)\n",
    "    b2_arr = b2.values if isinstance(b2, (pd.Series, pd.DataFrame)) else np.array(b2)\n",
    "    # Flatten and concatenate\n",
    "    return np.hstack([\n",
    "        W1_arr.ravel(),\n",
    "        b1_arr.ravel(),\n",
    "        W2_arr.ravel(),\n",
    "        b2_arr.ravel()\n",
    "    ])"
   ]
  },
  {
   "cell_type": "code",
   "execution_count": 10,
   "id": "e64f58a9",
   "metadata": {
    "execution": {
     "iopub.execute_input": "2025-05-05T18:45:23.555142Z",
     "iopub.status.busy": "2025-05-05T18:45:23.552275Z",
     "iopub.status.idle": "2025-05-05T18:45:23.562666Z",
     "shell.execute_reply": "2025-05-05T18:45:23.560559Z"
    },
    "papermill": {
     "duration": 0.021184,
     "end_time": "2025-05-05T18:45:23.565373",
     "exception": false,
     "start_time": "2025-05-05T18:45:23.544189",
     "status": "completed"
    },
    "tags": []
   },
   "outputs": [],
   "source": [
    "def unpack(p, input_dim, hidden_dim, output_dim):\n",
    "    idx = 0\n",
    "    W1 = p[idx:idx + hidden_dim*input_dim].reshape(hidden_dim, input_dim)\n",
    "    idx += hidden_dim*input_dim\n",
    "    b1 = p[idx:idx + hidden_dim]\n",
    "    idx += hidden_dim\n",
    "    W2 = p[idx:idx + output_dim*hidden_dim].reshape(output_dim, hidden_dim)\n",
    "    idx += output_dim*hidden_dim\n",
    "    b2 = p[idx:idx + output_dim]\n",
    "    return W1, b1, W2, b2"
   ]
  },
  {
   "cell_type": "code",
   "execution_count": 11,
   "id": "d493082b",
   "metadata": {
    "execution": {
     "iopub.execute_input": "2025-05-05T18:45:23.581355Z",
     "iopub.status.busy": "2025-05-05T18:45:23.580963Z",
     "iopub.status.idle": "2025-05-05T18:45:23.593397Z",
     "shell.execute_reply": "2025-05-05T18:45:23.591891Z"
    },
    "papermill": {
     "duration": 0.023442,
     "end_time": "2025-05-05T18:45:23.595634",
     "exception": false,
     "start_time": "2025-05-05T18:45:23.572192",
     "status": "completed"
    },
    "tags": []
   },
   "outputs": [],
   "source": [
    "def trainscg(loss_grad_func, x0, epochs=8, **lg_kwargs):\n",
    "    sigma0, lambd = 1e-6, 1e-6\n",
    "    x = x0.copy()\n",
    "    f, g = loss_grad_func(x, **lg_kwargs)\n",
    "    d = -g\n",
    "    errors = [f]\n",
    "    for epoch in range(epochs):\n",
    "        mu = d.dot(d)\n",
    "        sigma = sigma0 / np.sqrt(mu) if mu > 0 else sigma0\n",
    "        _, g1 = loss_grad_func(x + sigma*d, **lg_kwargs)\n",
    "        s = (g1 - g) / sigma\n",
    "        delta = d.dot(s)\n",
    "        if delta <= 0:\n",
    "            delta = lambd * mu\n",
    "            lambd -= delta / mu\n",
    "        alpha = -d.dot(g) / (delta + lambd*mu)\n",
    "        x_new = x + alpha*d\n",
    "        f_new, g_new = loss_grad_func(x_new, **lg_kwargs)\n",
    "        Delta = 2*(f - f_new) / (alpha * d.dot(g))\n",
    "        if Delta >= 0:\n",
    "            x, f, g = x_new, f_new, g_new\n",
    "            lambd *= max(1/3, 1 - (2*Delta - 1)**3)\n",
    "            beta = (g.dot(g) - g.dot(g_new)) / (d.dot(g))\n",
    "            d = -g + beta*d\n",
    "        else:\n",
    "            lambd += mu * (1 - Delta)\n",
    "        errors.append(f)\n",
    "    return x, errors"
   ]
  },
  {
   "cell_type": "code",
   "execution_count": 12,
   "id": "e1675287",
   "metadata": {
    "execution": {
     "iopub.execute_input": "2025-05-05T18:45:23.608448Z",
     "iopub.status.busy": "2025-05-05T18:45:23.608001Z",
     "iopub.status.idle": "2025-05-05T18:45:23.615707Z",
     "shell.execute_reply": "2025-05-05T18:45:23.614244Z"
    },
    "papermill": {
     "duration": 0.016004,
     "end_time": "2025-05-05T18:45:23.617492",
     "exception": false,
     "start_time": "2025-05-05T18:45:23.601488",
     "status": "completed"
    },
    "tags": []
   },
   "outputs": [],
   "source": [
    "def loss_grad_factory(X, Y_oh, input_dim, hidden_dim, output_dim):\n",
    "    def loss_and_grad(p):\n",
    "        W1, b1, W2, b2 = unpack(p, input_dim, hidden_dim, output_dim)\n",
    "        m = X.shape[0]\n",
    "        Z1 = X.dot(W1.T) + b1\n",
    "        A1 = np.tanh(Z1)\n",
    "        Z2 = A1.dot(W2.T) + b2\n",
    "        A2 = softmax(Z2)\n",
    "        loss = -np.mean(np.sum(Y_oh * np.log(A2 + 1e-12), axis=1))\n",
    "        dZ2 = (A2 - Y_oh) / m\n",
    "        dW2 = dZ2.T.dot(A1)\n",
    "        db2 = dZ2.sum(axis=0)\n",
    "        dA1 = dZ2.dot(W2)\n",
    "        dZ1 = dA1 * (1 - np.tanh(Z1)**2)\n",
    "        dW1 = dZ1.T.dot(X)\n",
    "        db1 = dZ1.sum(axis=0)\n",
    "        return loss, pack(dW1, db1, dW2, db2)\n",
    "    return loss_and_grad\n"
   ]
  },
  {
   "cell_type": "code",
   "execution_count": 13,
   "id": "2c55b0f7",
   "metadata": {
    "execution": {
     "iopub.execute_input": "2025-05-05T18:45:23.629870Z",
     "iopub.status.busy": "2025-05-05T18:45:23.629473Z",
     "iopub.status.idle": "2025-05-05T18:45:23.635623Z",
     "shell.execute_reply": "2025-05-05T18:45:23.634486Z"
    },
    "papermill": {
     "duration": 0.014521,
     "end_time": "2025-05-05T18:45:23.637499",
     "exception": false,
     "start_time": "2025-05-05T18:45:23.622978",
     "status": "completed"
    },
    "tags": []
   },
   "outputs": [],
   "source": [
    "param_grid = {'hidden_dim': [10, 20, 50, 100, 150, 17, 25, 34, 50, 68, 85]}"
   ]
  },
  {
   "cell_type": "code",
   "execution_count": 14,
   "id": "678e1c9b",
   "metadata": {
    "execution": {
     "iopub.execute_input": "2025-05-05T18:45:23.651135Z",
     "iopub.status.busy": "2025-05-05T18:45:23.650791Z",
     "iopub.status.idle": "2025-05-05T18:45:23.677928Z",
     "shell.execute_reply": "2025-05-05T18:45:23.676126Z"
    },
    "papermill": {
     "duration": 0.037179,
     "end_time": "2025-05-05T18:45:23.680306",
     "exception": false,
     "start_time": "2025-05-05T18:45:23.643127",
     "status": "completed"
    },
    "tags": []
   },
   "outputs": [],
   "source": [
    "def train_and_evaluate_model(name, X_trval, y_trval, X_test, y_test, top_features=None, param_grid=param_grid):\n",
    "    print(f\"\\n=== Dataset: {name} ===\")\n",
    "\n",
    "    if top_features is not None:\n",
    "        X_trval = X_trval[top_features]\n",
    "        X_test = X_test[top_features]\n",
    "\n",
    "    X_train, X_val, y_train, y_val = train_test_split(\n",
    "        X_trval, y_trval, test_size=0.2, random_state=42\n",
    "    )\n",
    "\n",
    "    # One-hot encode\n",
    "    encoder = OneHotEncoder(sparse=False, categories='auto')\n",
    "    Y_train_oh = encoder.fit_transform(y_train.to_numpy().reshape(-1, 1))\n",
    "    Y_val_oh   = encoder.transform(y_val.to_numpy().reshape(-1, 1))\n",
    "\n",
    "    input_dim  = X_train.shape[1]\n",
    "    output_dim = Y_train_oh.shape[1]\n",
    "\n",
    "    best_h, best_loss = None, np.inf\n",
    "    for h in param_grid['hidden_dim']:\n",
    "        param_size = h*input_dim + h + output_dim*h + output_dim\n",
    "        init_p = 0.01 * np.random.randn(param_size)\n",
    "        lg = loss_grad_factory(X_train, Y_train_oh, input_dim, h, output_dim)\n",
    "        opt_p, _ = trainscg(lg, init_p, epochs=8)\n",
    "\n",
    "        W1, b1, W2, b2 = unpack(opt_p, input_dim, h, output_dim)\n",
    "        Z1_val = X_val @ W1.T + b1\n",
    "        A1_val = np.tanh(Z1_val)\n",
    "        Z2_val = A1_val @ W2.T + b2\n",
    "        A2_val = softmax(Z2_val)\n",
    "\n",
    "        val_loss = -np.mean(np.sum(Y_val_oh * np.log(A2_val + 1e-12), axis=1))\n",
    "        print(f\" hidden_dim={h:<3} → val loss = {val_loss:.6f}\")\n",
    "        if val_loss < best_loss:\n",
    "            best_loss, best_h = val_loss, h\n",
    "\n",
    "    print(f\"⇒ Best hidden_dim = {best_h}, validation loss = {best_loss:.6f}\")\n",
    "\n",
    "    # retrain on full train+val\n",
    "    X_full = np.vstack([X_train, X_val])\n",
    "    y_full = np.hstack([y_train, y_val])\n",
    "    Y_full_oh = encoder.fit_transform(y_full.reshape(-1,1))\n",
    "\n",
    "    param_size = best_h*input_dim + best_h + output_dim*best_h + output_dim\n",
    "    init_p_full = 0.01 * np.random.randn(param_size)\n",
    "    lg_full = loss_grad_factory(X_full, Y_full_oh, input_dim, best_h, output_dim)\n",
    "    opt_p_full, _ = trainscg(lg_full, init_p_full, epochs=8)\n",
    "\n",
    "    # evaluate\n",
    "    W1f, b1f, W2f, b2f = unpack(opt_p_full, input_dim, best_h, output_dim)\n",
    "    A1_test = np.tanh(X_test @ W1f.T + b1f)\n",
    "    probs_test = softmax(A1_test @ W2f.T + b2f)\n",
    "    preds_test = np.argmax(probs_test, axis=1)\n",
    "\n",
    "    print(\"Test classification report:\")\n",
    "    print(classification_report(y_test, preds_test))\n",
    "    cm = confusion_matrix(y_test, preds_test)\n",
    "    print(\"Test confusion matrix:\\n\", cm)\n",
    "    sns.heatmap(cm, annot=True, fmt=\"d\", cmap=\"Blues\")\n",
    "    plt.title(f\"{name} – hidden_dim={best_h}\")\n",
    "    plt.show()\n"
   ]
  },
  {
   "cell_type": "code",
   "execution_count": 15,
   "id": "974ba5ba",
   "metadata": {
    "execution": {
     "iopub.execute_input": "2025-05-05T18:45:23.694091Z",
     "iopub.status.busy": "2025-05-05T18:45:23.693709Z",
     "iopub.status.idle": "2025-05-05T18:49:15.940620Z",
     "shell.execute_reply": "2025-05-05T18:49:15.938721Z"
    },
    "papermill": {
     "duration": 232.257027,
     "end_time": "2025-05-05T18:49:15.943564",
     "exception": false,
     "start_time": "2025-05-05T18:45:23.686537",
     "status": "completed"
    },
    "tags": []
   },
   "outputs": [
    {
     "name": "stdout",
     "output_type": "stream",
     "text": [
      "\n",
      "=== Dataset: Tháng 4 (All Features) ===\n",
      " hidden_dim=10  → val loss = 0.697775\n",
      " hidden_dim=20  → val loss = 0.705335\n",
      " hidden_dim=50  → val loss = 0.688052\n",
      " hidden_dim=100 → val loss = 0.687476\n",
      " hidden_dim=150 → val loss = 0.690362\n",
      " hidden_dim=17  → val loss = 0.688222\n",
      " hidden_dim=25  → val loss = 0.687511\n",
      " hidden_dim=34  → val loss = 0.687286\n",
      " hidden_dim=50  → val loss = 0.695260\n",
      " hidden_dim=68  → val loss = 0.696111\n",
      " hidden_dim=85  → val loss = 0.700963\n",
      "⇒ Best hidden_dim = 34, validation loss = 0.687286\n",
      "Test classification report:\n",
      "              precision    recall  f1-score   support\n",
      "\n",
      "           0       0.89      0.83      0.86     50316\n",
      "           1       0.05      0.08      0.06      5599\n",
      "\n",
      "    accuracy                           0.76     55915\n",
      "   macro avg       0.47      0.46      0.46     55915\n",
      "weighted avg       0.81      0.76      0.78     55915\n",
      "\n",
      "Test confusion matrix:\n",
      " [[42004  8312]\n",
      " [ 5159   440]]\n"
     ]
    },
    {
     "data": {
      "image/png": "[encoded data removed]",
      "text/plain": [
       "<Figure size 640x480 with 2 Axes>"
      ]
     },
     "metadata": {},
     "output_type": "display_data"
    },
    {
     "name": "stdout",
     "output_type": "stream",
     "text": [
      "\n",
      "=== Dataset: Tháng 4 (Top Features) ===\n",
      " hidden_dim=10  → val loss = 0.691232\n",
      " hidden_dim=20  → val loss = 0.693233\n",
      " hidden_dim=50  → val loss = 0.691716\n",
      " hidden_dim=100 → val loss = 0.691694\n",
      " hidden_dim=150 → val loss = 0.691374\n",
      " hidden_dim=17  → val loss = 0.680222\n",
      " hidden_dim=25  → val loss = 0.689629\n",
      " hidden_dim=34  → val loss = 0.696347\n",
      " hidden_dim=50  → val loss = 0.697023\n",
      " hidden_dim=68  → val loss = 0.696262\n",
      " hidden_dim=85  → val loss = 0.693993\n",
      "⇒ Best hidden_dim = 17, validation loss = 0.680222\n",
      "Test classification report:\n",
      "              precision    recall  f1-score   support\n",
      "\n",
      "           0       0.82      0.36      0.50     50316\n",
      "           1       0.04      0.27      0.08      5599\n",
      "\n",
      "    accuracy                           0.35     55915\n",
      "   macro avg       0.43      0.31      0.29     55915\n",
      "weighted avg       0.74      0.35      0.46     55915\n",
      "\n",
      "Test confusion matrix:\n",
      " [[18283 32033]\n",
      " [ 4109  1490]]\n"
     ]
    },
    {
     "data": {
      "image/png": "[encoded data removed]",
      "text/plain": [
       "<Figure size 640x480 with 2 Axes>"
      ]
     },
     "metadata": {},
     "output_type": "display_data"
    }
   ],
   "source": [
    "for name, X_trval, y_trval, X_test, y_test in models_info:\n",
    "    \n",
    "    train_and_evaluate_model(name + \" (All Features)\", X_trval, y_trval, X_test, y_test)\n",
    "\n",
    "    train_and_evaluate_model(name + \" (Top Features)\", X_trval, y_trval, X_test, y_test, top_features=top_features)"
   ]
  },
  {
   "cell_type": "markdown",
   "id": "98f48ff6",
   "metadata": {
    "papermill": {
     "duration": 0.010569,
     "end_time": "2025-05-05T18:49:15.962328",
     "exception": false,
     "start_time": "2025-05-05T18:49:15.951759",
     "status": "completed"
    },
    "tags": []
   },
   "source": [
    "# Oversampling"
   ]
  },
  {
   "cell_type": "markdown",
   "id": "f28882fc",
   "metadata": {
    "papermill": {
     "duration": 0.010752,
     "end_time": "2025-05-05T18:49:15.981610",
     "exception": false,
     "start_time": "2025-05-05T18:49:15.970858",
     "status": "completed"
    },
    "tags": []
   },
   "source": [
    "##  SMOTE"
   ]
  },
  {
   "cell_type": "code",
   "execution_count": 16,
   "id": "fa829e41",
   "metadata": {
    "execution": {
     "iopub.execute_input": "2025-05-05T18:49:16.002422Z",
     "iopub.status.busy": "2025-05-05T18:49:16.002011Z",
     "iopub.status.idle": "2025-05-05T18:49:18.089670Z",
     "shell.execute_reply": "2025-05-05T18:49:18.088319Z"
    },
    "papermill": {
     "duration": 2.099851,
     "end_time": "2025-05-05T18:49:18.091525",
     "exception": false,
     "start_time": "2025-05-05T18:49:15.991674",
     "status": "completed"
    },
    "tags": []
   },
   "outputs": [],
   "source": [
    "sm = SMOTE()\n",
    "\n",
    "X_sm, y_sm = sm.fit_resample(X_train, y_train)\n",
    "X_sm.shape, y_sm.shape\n",
    "\n",
    "scaler = StandardScaler()\n",
    "X_train_scaled = scaler.fit_transform(X_sm)\n",
    "X_test_scaled = scaler.transform(X_test)\n",
    "\n",
    "X_train_scaled = pd.DataFrame(X_train_scaled, columns=X_train.columns)\n",
    "X_test_scaled = pd.DataFrame(X_test_scaled, columns=X_test.columns)"
   ]
  },
  {
   "cell_type": "code",
   "execution_count": 17,
   "id": "c6935b27",
   "metadata": {
    "execution": {
     "iopub.execute_input": "2025-05-05T18:49:18.121155Z",
     "iopub.status.busy": "2025-05-05T18:49:18.120792Z",
     "iopub.status.idle": "2025-05-05T18:49:18.128693Z",
     "shell.execute_reply": "2025-05-05T18:49:18.126287Z"
    },
    "papermill": {
     "duration": 0.022984,
     "end_time": "2025-05-05T18:49:18.131241",
     "exception": false,
     "start_time": "2025-05-05T18:49:18.108257",
     "status": "completed"
    },
    "tags": []
   },
   "outputs": [],
   "source": [
    "models_info = [\n",
    "    (\"Tháng 4 smote\", X_train_scaled, y_sm, X_test_scaled, y_test),\n",
    "]"
   ]
  },
  {
   "cell_type": "code",
   "execution_count": 18,
   "id": "c71d7b15",
   "metadata": {
    "execution": {
     "iopub.execute_input": "2025-05-05T18:49:18.150677Z",
     "iopub.status.busy": "2025-05-05T18:49:18.149898Z",
     "iopub.status.idle": "2025-05-05T18:56:22.120595Z",
     "shell.execute_reply": "2025-05-05T18:56:22.119434Z"
    },
    "papermill": {
     "duration": 423.982313,
     "end_time": "2025-05-05T18:56:22.122521",
     "exception": false,
     "start_time": "2025-05-05T18:49:18.140208",
     "status": "completed"
    },
    "tags": []
   },
   "outputs": [
    {
     "name": "stdout",
     "output_type": "stream",
     "text": [
      "\n",
      "=== Dataset: Tháng 4 smote (All Features) ===\n",
      " hidden_dim=10  → val loss = 0.693530\n",
      " hidden_dim=20  → val loss = 0.694118\n",
      " hidden_dim=50  → val loss = 0.694689\n",
      " hidden_dim=100 → val loss = 0.693446\n",
      " hidden_dim=150 → val loss = 0.693986\n"
     ]
    },
    {
     "name": "stderr",
     "output_type": "stream",
     "text": [
      "/tmp/ipykernel_13/3941530362.py:16: RuntimeWarning: divide by zero encountered in scalar divide\n",
      "  alpha = -d.dot(g) / (delta + lambd*mu)\n",
      "/usr/local/lib/python3.11/dist-packages/pandas/core/internals/blocks.py:393: RuntimeWarning: invalid value encountered in tanh\n",
      "  result = func(self.values, **kwargs)\n",
      "/tmp/ipykernel_13/2642452818.py:9: RuntimeWarning: invalid value encountered in log\n",
      "  loss = -np.mean(np.sum(Y_oh * np.log(A2 + 1e-12), axis=1))\n",
      "/tmp/ipykernel_13/2642452818.py:9: RuntimeWarning: invalid value encountered in log\n",
      "  loss = -np.mean(np.sum(Y_oh * np.log(A2 + 1e-12), axis=1))\n",
      "/tmp/ipykernel_13/2642452818.py:9: RuntimeWarning: invalid value encountered in log\n",
      "  loss = -np.mean(np.sum(Y_oh * np.log(A2 + 1e-12), axis=1))\n",
      "/tmp/ipykernel_13/2642452818.py:9: RuntimeWarning: invalid value encountered in log\n",
      "  loss = -np.mean(np.sum(Y_oh * np.log(A2 + 1e-12), axis=1))\n",
      "/tmp/ipykernel_13/2642452818.py:9: RuntimeWarning: invalid value encountered in log\n",
      "  loss = -np.mean(np.sum(Y_oh * np.log(A2 + 1e-12), axis=1))\n",
      "/tmp/ipykernel_13/2642452818.py:9: RuntimeWarning: invalid value encountered in log\n",
      "  loss = -np.mean(np.sum(Y_oh * np.log(A2 + 1e-12), axis=1))\n",
      "/tmp/ipykernel_13/2642452818.py:9: RuntimeWarning: invalid value encountered in log\n",
      "  loss = -np.mean(np.sum(Y_oh * np.log(A2 + 1e-12), axis=1))\n"
     ]
    },
    {
     "name": "stdout",
     "output_type": "stream",
     "text": [
      " hidden_dim=17  → val loss = 7.770695\n",
      " hidden_dim=25  → val loss = 7.794791\n",
      " hidden_dim=34  → val loss = 0.693543\n"
     ]
    },
    {
     "name": "stderr",
     "output_type": "stream",
     "text": [
      "/tmp/ipykernel_13/3941530362.py:16: RuntimeWarning: divide by zero encountered in scalar divide\n",
      "  alpha = -d.dot(g) / (delta + lambd*mu)\n",
      "/usr/local/lib/python3.11/dist-packages/pandas/core/internals/blocks.py:393: RuntimeWarning: invalid value encountered in tanh\n",
      "  result = func(self.values, **kwargs)\n",
      "/tmp/ipykernel_13/2642452818.py:9: RuntimeWarning: invalid value encountered in log\n",
      "  loss = -np.mean(np.sum(Y_oh * np.log(A2 + 1e-12), axis=1))\n",
      "/tmp/ipykernel_13/2642452818.py:9: RuntimeWarning: invalid value encountered in log\n",
      "  loss = -np.mean(np.sum(Y_oh * np.log(A2 + 1e-12), axis=1))\n",
      "/tmp/ipykernel_13/2642452818.py:9: RuntimeWarning: invalid value encountered in log\n",
      "  loss = -np.mean(np.sum(Y_oh * np.log(A2 + 1e-12), axis=1))\n",
      "/tmp/ipykernel_13/2642452818.py:9: RuntimeWarning: invalid value encountered in log\n",
      "  loss = -np.mean(np.sum(Y_oh * np.log(A2 + 1e-12), axis=1))\n",
      "/tmp/ipykernel_13/2642452818.py:9: RuntimeWarning: invalid value encountered in log\n",
      "  loss = -np.mean(np.sum(Y_oh * np.log(A2 + 1e-12), axis=1))\n",
      "/tmp/ipykernel_13/2642452818.py:9: RuntimeWarning: invalid value encountered in log\n",
      "  loss = -np.mean(np.sum(Y_oh * np.log(A2 + 1e-12), axis=1))\n",
      "/tmp/ipykernel_13/2642452818.py:9: RuntimeWarning: invalid value encountered in log\n",
      "  loss = -np.mean(np.sum(Y_oh * np.log(A2 + 1e-12), axis=1))\n"
     ]
    },
    {
     "name": "stdout",
     "output_type": "stream",
     "text": [
      " hidden_dim=50  → val loss = 7.783189\n"
     ]
    },
    {
     "name": "stderr",
     "output_type": "stream",
     "text": [
      "/tmp/ipykernel_13/3941530362.py:16: RuntimeWarning: divide by zero encountered in scalar divide\n",
      "  alpha = -d.dot(g) / (delta + lambd*mu)\n",
      "/usr/local/lib/python3.11/dist-packages/pandas/core/internals/blocks.py:393: RuntimeWarning: invalid value encountered in tanh\n",
      "  result = func(self.values, **kwargs)\n",
      "/tmp/ipykernel_13/2642452818.py:9: RuntimeWarning: invalid value encountered in log\n",
      "  loss = -np.mean(np.sum(Y_oh * np.log(A2 + 1e-12), axis=1))\n",
      "/tmp/ipykernel_13/2642452818.py:9: RuntimeWarning: invalid value encountered in log\n",
      "  loss = -np.mean(np.sum(Y_oh * np.log(A2 + 1e-12), axis=1))\n",
      "/tmp/ipykernel_13/2642452818.py:9: RuntimeWarning: invalid value encountered in log\n",
      "  loss = -np.mean(np.sum(Y_oh * np.log(A2 + 1e-12), axis=1))\n",
      "/tmp/ipykernel_13/2642452818.py:9: RuntimeWarning: invalid value encountered in log\n",
      "  loss = -np.mean(np.sum(Y_oh * np.log(A2 + 1e-12), axis=1))\n",
      "/tmp/ipykernel_13/2642452818.py:9: RuntimeWarning: invalid value encountered in log\n",
      "  loss = -np.mean(np.sum(Y_oh * np.log(A2 + 1e-12), axis=1))\n",
      "/tmp/ipykernel_13/2642452818.py:9: RuntimeWarning: invalid value encountered in log\n",
      "  loss = -np.mean(np.sum(Y_oh * np.log(A2 + 1e-12), axis=1))\n",
      "/tmp/ipykernel_13/2642452818.py:9: RuntimeWarning: invalid value encountered in log\n",
      "  loss = -np.mean(np.sum(Y_oh * np.log(A2 + 1e-12), axis=1))\n"
     ]
    },
    {
     "name": "stdout",
     "output_type": "stream",
     "text": [
      " hidden_dim=68  → val loss = 7.759390\n",
      " hidden_dim=85  → val loss = 0.693319\n",
      "⇒ Best hidden_dim = 85, validation loss = 0.693319\n"
     ]
    },
    {
     "name": "stderr",
     "output_type": "stream",
     "text": [
      "/tmp/ipykernel_13/3941530362.py:16: RuntimeWarning: divide by zero encountered in scalar divide\n",
      "  alpha = -d.dot(g) / (delta + lambd*mu)\n",
      "/tmp/ipykernel_13/2642452818.py:5: RuntimeWarning: invalid value encountered in add\n",
      "  Z1 = X.dot(W1.T) + b1\n",
      "/tmp/ipykernel_13/2642452818.py:6: RuntimeWarning: invalid value encountered in tanh\n",
      "  A1 = np.tanh(Z1)\n",
      "/tmp/ipykernel_13/2642452818.py:9: RuntimeWarning: invalid value encountered in log\n",
      "  loss = -np.mean(np.sum(Y_oh * np.log(A2 + 1e-12), axis=1))\n",
      "/tmp/ipykernel_13/2642452818.py:14: RuntimeWarning: invalid value encountered in tanh\n",
      "  dZ1 = dA1 * (1 - np.tanh(Z1)**2)\n"
     ]
    },
    {
     "name": "stdout",
     "output_type": "stream",
     "text": [
      "Test classification report:\n",
      "              precision    recall  f1-score   support\n",
      "\n",
      "           0       0.91      0.35      0.50     50316\n",
      "           1       0.10      0.69      0.18      5599\n",
      "\n",
      "    accuracy                           0.38     55915\n",
      "   macro avg       0.51      0.52      0.34     55915\n",
      "weighted avg       0.83      0.38      0.47     55915\n",
      "\n",
      "Test confusion matrix:\n",
      " [[17436 32880]\n",
      " [ 1749  3850]]\n"
     ]
    },
    {
     "data": {
      "image/png": "[encoded data removed]",
      "text/plain": [
       "<Figure size 640x480 with 2 Axes>"
      ]
     },
     "metadata": {},
     "output_type": "display_data"
    },
    {
     "name": "stdout",
     "output_type": "stream",
     "text": [
      "\n",
      "=== Dataset: Tháng 4 smote (Top Features) ===\n",
      " hidden_dim=10  → val loss = 0.693551\n"
     ]
    },
    {
     "name": "stderr",
     "output_type": "stream",
     "text": [
      "/tmp/ipykernel_13/3941530362.py:16: RuntimeWarning: divide by zero encountered in scalar divide\n",
      "  alpha = -d.dot(g) / (delta + lambd*mu)\n",
      "/usr/local/lib/python3.11/dist-packages/pandas/core/internals/blocks.py:393: RuntimeWarning: invalid value encountered in tanh\n",
      "  result = func(self.values, **kwargs)\n",
      "/tmp/ipykernel_13/2642452818.py:9: RuntimeWarning: invalid value encountered in log\n",
      "  loss = -np.mean(np.sum(Y_oh * np.log(A2 + 1e-12), axis=1))\n",
      "/tmp/ipykernel_13/2642452818.py:9: RuntimeWarning: invalid value encountered in log\n",
      "  loss = -np.mean(np.sum(Y_oh * np.log(A2 + 1e-12), axis=1))\n",
      "/tmp/ipykernel_13/2642452818.py:9: RuntimeWarning: invalid value encountered in log\n",
      "  loss = -np.mean(np.sum(Y_oh * np.log(A2 + 1e-12), axis=1))\n",
      "/tmp/ipykernel_13/2642452818.py:9: RuntimeWarning: invalid value encountered in log\n",
      "  loss = -np.mean(np.sum(Y_oh * np.log(A2 + 1e-12), axis=1))\n",
      "/tmp/ipykernel_13/2642452818.py:9: RuntimeWarning: invalid value encountered in log\n",
      "  loss = -np.mean(np.sum(Y_oh * np.log(A2 + 1e-12), axis=1))\n",
      "/tmp/ipykernel_13/2642452818.py:9: RuntimeWarning: invalid value encountered in log\n",
      "  loss = -np.mean(np.sum(Y_oh * np.log(A2 + 1e-12), axis=1))\n",
      "/tmp/ipykernel_13/2642452818.py:9: RuntimeWarning: invalid value encountered in log\n",
      "  loss = -np.mean(np.sum(Y_oh * np.log(A2 + 1e-12), axis=1))\n"
     ]
    },
    {
     "name": "stdout",
     "output_type": "stream",
     "text": [
      " hidden_dim=20  → val loss = 7.491948\n",
      " hidden_dim=50  → val loss = 0.694026\n",
      " hidden_dim=100 → val loss = 0.693199\n",
      " hidden_dim=150 → val loss = 0.694068\n"
     ]
    },
    {
     "name": "stderr",
     "output_type": "stream",
     "text": [
      "/tmp/ipykernel_13/3941530362.py:16: RuntimeWarning: divide by zero encountered in scalar divide\n",
      "  alpha = -d.dot(g) / (delta + lambd*mu)\n",
      "/usr/local/lib/python3.11/dist-packages/pandas/core/internals/blocks.py:393: RuntimeWarning: invalid value encountered in tanh\n",
      "  result = func(self.values, **kwargs)\n",
      "/tmp/ipykernel_13/2642452818.py:9: RuntimeWarning: invalid value encountered in log\n",
      "  loss = -np.mean(np.sum(Y_oh * np.log(A2 + 1e-12), axis=1))\n",
      "/tmp/ipykernel_13/2642452818.py:9: RuntimeWarning: invalid value encountered in log\n",
      "  loss = -np.mean(np.sum(Y_oh * np.log(A2 + 1e-12), axis=1))\n",
      "/tmp/ipykernel_13/2642452818.py:9: RuntimeWarning: invalid value encountered in log\n",
      "  loss = -np.mean(np.sum(Y_oh * np.log(A2 + 1e-12), axis=1))\n",
      "/tmp/ipykernel_13/2642452818.py:9: RuntimeWarning: invalid value encountered in log\n",
      "  loss = -np.mean(np.sum(Y_oh * np.log(A2 + 1e-12), axis=1))\n",
      "/tmp/ipykernel_13/2642452818.py:9: RuntimeWarning: invalid value encountered in log\n",
      "  loss = -np.mean(np.sum(Y_oh * np.log(A2 + 1e-12), axis=1))\n",
      "/tmp/ipykernel_13/2642452818.py:9: RuntimeWarning: invalid value encountered in log\n",
      "  loss = -np.mean(np.sum(Y_oh * np.log(A2 + 1e-12), axis=1))\n",
      "/tmp/ipykernel_13/2642452818.py:9: RuntimeWarning: invalid value encountered in log\n",
      "  loss = -np.mean(np.sum(Y_oh * np.log(A2 + 1e-12), axis=1))\n"
     ]
    },
    {
     "name": "stdout",
     "output_type": "stream",
     "text": [
      " hidden_dim=17  → val loss = 13.836483\n",
      " hidden_dim=25  → val loss = 7.478264\n",
      " hidden_dim=34  → val loss = 13.799297\n",
      " hidden_dim=50  → val loss = 0.693415\n",
      " hidden_dim=68  → val loss = 0.693604\n",
      " hidden_dim=85  → val loss = 0.693323\n",
      "⇒ Best hidden_dim = 100, validation loss = 0.693199\n",
      "Test classification report:\n",
      "              precision    recall  f1-score   support\n",
      "\n",
      "           0       0.00      0.00      0.00     50316\n",
      "           1       0.10      1.00      0.18      5599\n",
      "\n",
      "    accuracy                           0.10     55915\n",
      "   macro avg       0.05      0.50      0.09     55915\n",
      "weighted avg       0.01      0.10      0.02     55915\n",
      "\n",
      "Test confusion matrix:\n",
      " [[    0 50316]\n",
      " [    0  5599]]\n"
     ]
    },
    {
     "name": "stderr",
     "output_type": "stream",
     "text": [
      "/usr/local/lib/python3.11/dist-packages/sklearn/metrics/_classification.py:1344: UndefinedMetricWarning: Precision and F-score are ill-defined and being set to 0.0 in labels with no predicted samples. Use `zero_division` parameter to control this behavior.\n",
      "  _warn_prf(average, modifier, msg_start, len(result))\n",
      "/usr/local/lib/python3.11/dist-packages/sklearn/metrics/_classification.py:1344: UndefinedMetricWarning: Precision and F-score are ill-defined and being set to 0.0 in labels with no predicted samples. Use `zero_division` parameter to control this behavior.\n",
      "  _warn_prf(average, modifier, msg_start, len(result))\n",
      "/usr/local/lib/python3.11/dist-packages/sklearn/metrics/_classification.py:1344: UndefinedMetricWarning: Precision and F-score are ill-defined and being set to 0.0 in labels with no predicted samples. Use `zero_division` parameter to control this behavior.\n",
      "  _warn_prf(average, modifier, msg_start, len(result))\n"
     ]
    },
    {
     "data": {
      "image/png": "[encoded data removed]",
      "text/plain": [
       "<Figure size 640x480 with 2 Axes>"
      ]
     },
     "metadata": {},
     "output_type": "display_data"
    }
   ],
   "source": [
    "for name, X_trval, y_trval, X_test, y_test in models_info:\n",
    "    \n",
    "    train_and_evaluate_model(name + \" (All Features)\", X_trval, y_trval, X_test, y_test)\n",
    "\n",
    "    train_and_evaluate_model(name + \" (Top Features)\", X_trval, y_trval, X_test, y_test, top_features=top_features)"
   ]
  },
  {
   "cell_type": "markdown",
   "id": "a09a41c0",
   "metadata": {
    "papermill": {
     "duration": 0.101215,
     "end_time": "2025-05-05T18:56:22.236580",
     "exception": false,
     "start_time": "2025-05-05T18:56:22.135365",
     "status": "completed"
    },
    "tags": []
   },
   "source": [
    "## SMOTE ENN"
   ]
  },
  {
   "cell_type": "code",
   "execution_count": 19,
   "id": "64cf8b4f",
   "metadata": {
    "execution": {
     "iopub.execute_input": "2025-05-05T18:56:22.263387Z",
     "iopub.status.busy": "2025-05-05T18:56:22.262980Z",
     "iopub.status.idle": "2025-05-05T19:07:20.558679Z",
     "shell.execute_reply": "2025-05-05T19:07:20.557108Z"
    },
    "papermill": {
     "duration": 658.313542,
     "end_time": "2025-05-05T19:07:20.562284",
     "exception": false,
     "start_time": "2025-05-05T18:56:22.248742",
     "status": "completed"
    },
    "tags": []
   },
   "outputs": [],
   "source": [
    "smenn = SMOTEENN()\n",
    "\n",
    "X_smenn, y_smenn = smenn.fit_resample(X_train, y_train)\n",
    "X_smenn.shape, y_sm.shape\n",
    "\n",
    "scaler = StandardScaler()\n",
    "X_train_scaled = scaler.fit_transform(X_smenn)\n",
    "X_test_scaled = scaler.transform(X_test)\n",
    "\n",
    "X_train_scaled = pd.DataFrame(X_train_scaled, columns=X_train.columns)\n",
    "X_test_scaled = pd.DataFrame(X_test_scaled, columns=X_test.columns)"
   ]
  },
  {
   "cell_type": "code",
   "execution_count": 20,
   "id": "21ce6853",
   "metadata": {
    "execution": {
     "iopub.execute_input": "2025-05-05T19:07:20.594667Z",
     "iopub.status.busy": "2025-05-05T19:07:20.594256Z",
     "iopub.status.idle": "2025-05-05T19:07:20.601110Z",
     "shell.execute_reply": "2025-05-05T19:07:20.599608Z"
    },
    "papermill": {
     "duration": 0.025369,
     "end_time": "2025-05-05T19:07:20.603424",
     "exception": false,
     "start_time": "2025-05-05T19:07:20.578055",
     "status": "completed"
    },
    "tags": []
   },
   "outputs": [],
   "source": [
    "models_info = [\n",
    "    (\"Tháng 4 smote\", X_train_scaled, y_smenn, X_test_scaled, y_test),\n",
    "]"
   ]
  },
  {
   "cell_type": "code",
   "execution_count": 21,
   "id": "204b7b51",
   "metadata": {
    "execution": {
     "iopub.execute_input": "2025-05-05T19:07:20.636356Z",
     "iopub.status.busy": "2025-05-05T19:07:20.635900Z",
     "iopub.status.idle": "2025-05-05T19:12:46.375429Z",
     "shell.execute_reply": "2025-05-05T19:12:46.374041Z"
    },
    "papermill": {
     "duration": 325.758422,
     "end_time": "2025-05-05T19:12:46.377449",
     "exception": false,
     "start_time": "2025-05-05T19:07:20.619027",
     "status": "completed"
    },
    "tags": []
   },
   "outputs": [
    {
     "name": "stdout",
     "output_type": "stream",
     "text": [
      "\n",
      "=== Dataset: Tháng 4 smote (All Features) ===\n"
     ]
    },
    {
     "name": "stderr",
     "output_type": "stream",
     "text": [
      "/tmp/ipykernel_13/3941530362.py:16: RuntimeWarning: divide by zero encountered in scalar divide\n",
      "  alpha = -d.dot(g) / (delta + lambd*mu)\n",
      "/usr/local/lib/python3.11/dist-packages/pandas/core/internals/blocks.py:393: RuntimeWarning: invalid value encountered in tanh\n",
      "  result = func(self.values, **kwargs)\n",
      "/tmp/ipykernel_13/2642452818.py:9: RuntimeWarning: invalid value encountered in log\n",
      "  loss = -np.mean(np.sum(Y_oh * np.log(A2 + 1e-12), axis=1))\n",
      "/tmp/ipykernel_13/2642452818.py:9: RuntimeWarning: invalid value encountered in log\n",
      "  loss = -np.mean(np.sum(Y_oh * np.log(A2 + 1e-12), axis=1))\n",
      "/tmp/ipykernel_13/2642452818.py:9: RuntimeWarning: invalid value encountered in log\n",
      "  loss = -np.mean(np.sum(Y_oh * np.log(A2 + 1e-12), axis=1))\n",
      "/tmp/ipykernel_13/2642452818.py:9: RuntimeWarning: invalid value encountered in log\n",
      "  loss = -np.mean(np.sum(Y_oh * np.log(A2 + 1e-12), axis=1))\n",
      "/tmp/ipykernel_13/2642452818.py:9: RuntimeWarning: invalid value encountered in log\n",
      "  loss = -np.mean(np.sum(Y_oh * np.log(A2 + 1e-12), axis=1))\n",
      "/tmp/ipykernel_13/2642452818.py:9: RuntimeWarning: invalid value encountered in log\n",
      "  loss = -np.mean(np.sum(Y_oh * np.log(A2 + 1e-12), axis=1))\n",
      "/tmp/ipykernel_13/2642452818.py:9: RuntimeWarning: invalid value encountered in log\n",
      "  loss = -np.mean(np.sum(Y_oh * np.log(A2 + 1e-12), axis=1))\n"
     ]
    },
    {
     "name": "stdout",
     "output_type": "stream",
     "text": [
      " hidden_dim=10  → val loss = 6.906222\n",
      " hidden_dim=20  → val loss = 6.906222\n",
      " hidden_dim=50  → val loss = 6.879160\n",
      " hidden_dim=100 → val loss = 0.694909\n",
      " hidden_dim=150 → val loss = 0.693864\n"
     ]
    },
    {
     "name": "stderr",
     "output_type": "stream",
     "text": [
      "/tmp/ipykernel_13/3941530362.py:16: RuntimeWarning: divide by zero encountered in scalar divide\n",
      "  alpha = -d.dot(g) / (delta + lambd*mu)\n",
      "/usr/local/lib/python3.11/dist-packages/pandas/core/internals/blocks.py:393: RuntimeWarning: invalid value encountered in tanh\n",
      "  result = func(self.values, **kwargs)\n",
      "/tmp/ipykernel_13/2642452818.py:9: RuntimeWarning: invalid value encountered in log\n",
      "  loss = -np.mean(np.sum(Y_oh * np.log(A2 + 1e-12), axis=1))\n",
      "/tmp/ipykernel_13/2642452818.py:9: RuntimeWarning: invalid value encountered in log\n",
      "  loss = -np.mean(np.sum(Y_oh * np.log(A2 + 1e-12), axis=1))\n",
      "/tmp/ipykernel_13/2642452818.py:9: RuntimeWarning: invalid value encountered in log\n",
      "  loss = -np.mean(np.sum(Y_oh * np.log(A2 + 1e-12), axis=1))\n",
      "/tmp/ipykernel_13/2642452818.py:9: RuntimeWarning: invalid value encountered in log\n",
      "  loss = -np.mean(np.sum(Y_oh * np.log(A2 + 1e-12), axis=1))\n",
      "/tmp/ipykernel_13/2642452818.py:9: RuntimeWarning: invalid value encountered in log\n",
      "  loss = -np.mean(np.sum(Y_oh * np.log(A2 + 1e-12), axis=1))\n",
      "/tmp/ipykernel_13/2642452818.py:9: RuntimeWarning: invalid value encountered in log\n",
      "  loss = -np.mean(np.sum(Y_oh * np.log(A2 + 1e-12), axis=1))\n",
      "/tmp/ipykernel_13/2642452818.py:9: RuntimeWarning: invalid value encountered in log\n",
      "  loss = -np.mean(np.sum(Y_oh * np.log(A2 + 1e-12), axis=1))\n"
     ]
    },
    {
     "name": "stdout",
     "output_type": "stream",
     "text": [
      " hidden_dim=17  → val loss = 6.895036\n"
     ]
    },
    {
     "name": "stderr",
     "output_type": "stream",
     "text": [
      "/tmp/ipykernel_13/3941530362.py:16: RuntimeWarning: divide by zero encountered in scalar divide\n",
      "  alpha = -d.dot(g) / (delta + lambd*mu)\n",
      "/usr/local/lib/python3.11/dist-packages/pandas/core/internals/blocks.py:393: RuntimeWarning: invalid value encountered in tanh\n",
      "  result = func(self.values, **kwargs)\n",
      "/tmp/ipykernel_13/2642452818.py:9: RuntimeWarning: invalid value encountered in log\n",
      "  loss = -np.mean(np.sum(Y_oh * np.log(A2 + 1e-12), axis=1))\n",
      "/tmp/ipykernel_13/2642452818.py:9: RuntimeWarning: invalid value encountered in log\n",
      "  loss = -np.mean(np.sum(Y_oh * np.log(A2 + 1e-12), axis=1))\n",
      "/tmp/ipykernel_13/2642452818.py:9: RuntimeWarning: invalid value encountered in log\n",
      "  loss = -np.mean(np.sum(Y_oh * np.log(A2 + 1e-12), axis=1))\n",
      "/tmp/ipykernel_13/2642452818.py:9: RuntimeWarning: invalid value encountered in log\n",
      "  loss = -np.mean(np.sum(Y_oh * np.log(A2 + 1e-12), axis=1))\n",
      "/tmp/ipykernel_13/2642452818.py:9: RuntimeWarning: invalid value encountered in log\n",
      "  loss = -np.mean(np.sum(Y_oh * np.log(A2 + 1e-12), axis=1))\n",
      "/tmp/ipykernel_13/2642452818.py:9: RuntimeWarning: invalid value encountered in log\n",
      "  loss = -np.mean(np.sum(Y_oh * np.log(A2 + 1e-12), axis=1))\n",
      "/tmp/ipykernel_13/2642452818.py:9: RuntimeWarning: invalid value encountered in log\n",
      "  loss = -np.mean(np.sum(Y_oh * np.log(A2 + 1e-12), axis=1))\n"
     ]
    },
    {
     "name": "stdout",
     "output_type": "stream",
     "text": [
      " hidden_dim=25  → val loss = 6.920655\n",
      " hidden_dim=34  → val loss = 0.693556\n",
      " hidden_dim=50  → val loss = 0.693350\n"
     ]
    },
    {
     "name": "stderr",
     "output_type": "stream",
     "text": [
      "/tmp/ipykernel_13/3941530362.py:16: RuntimeWarning: divide by zero encountered in scalar divide\n",
      "  alpha = -d.dot(g) / (delta + lambd*mu)\n",
      "/usr/local/lib/python3.11/dist-packages/pandas/core/internals/blocks.py:393: RuntimeWarning: invalid value encountered in tanh\n",
      "  result = func(self.values, **kwargs)\n",
      "/tmp/ipykernel_13/2642452818.py:9: RuntimeWarning: invalid value encountered in log\n",
      "  loss = -np.mean(np.sum(Y_oh * np.log(A2 + 1e-12), axis=1))\n",
      "/tmp/ipykernel_13/2642452818.py:9: RuntimeWarning: invalid value encountered in log\n",
      "  loss = -np.mean(np.sum(Y_oh * np.log(A2 + 1e-12), axis=1))\n",
      "/tmp/ipykernel_13/2642452818.py:9: RuntimeWarning: invalid value encountered in log\n",
      "  loss = -np.mean(np.sum(Y_oh * np.log(A2 + 1e-12), axis=1))\n",
      "/tmp/ipykernel_13/2642452818.py:9: RuntimeWarning: invalid value encountered in log\n",
      "  loss = -np.mean(np.sum(Y_oh * np.log(A2 + 1e-12), axis=1))\n",
      "/tmp/ipykernel_13/2642452818.py:9: RuntimeWarning: invalid value encountered in log\n",
      "  loss = -np.mean(np.sum(Y_oh * np.log(A2 + 1e-12), axis=1))\n",
      "/tmp/ipykernel_13/2642452818.py:9: RuntimeWarning: invalid value encountered in log\n",
      "  loss = -np.mean(np.sum(Y_oh * np.log(A2 + 1e-12), axis=1))\n",
      "/tmp/ipykernel_13/2642452818.py:9: RuntimeWarning: invalid value encountered in log\n",
      "  loss = -np.mean(np.sum(Y_oh * np.log(A2 + 1e-12), axis=1))\n"
     ]
    },
    {
     "name": "stdout",
     "output_type": "stream",
     "text": [
      " hidden_dim=68  → val loss = 20.759439\n",
      " hidden_dim=85  → val loss = 0.694596\n",
      "⇒ Best hidden_dim = 50, validation loss = 0.693350\n",
      "Test classification report:\n",
      "              precision    recall  f1-score   support\n",
      "\n",
      "           0       0.91      0.94      0.93     50316\n",
      "           1       0.26      0.19      0.22      5599\n",
      "\n",
      "    accuracy                           0.87     55915\n",
      "   macro avg       0.59      0.57      0.57     55915\n",
      "weighted avg       0.85      0.87      0.86     55915\n",
      "\n",
      "Test confusion matrix:\n",
      " [[47304  3012]\n",
      " [ 4525  1074]]\n"
     ]
    },
    {
     "data": {
      "image/png": "[encoded data removed]",
      "text/plain": [
       "<Figure size 640x480 with 2 Axes>"
      ]
     },
     "metadata": {},
     "output_type": "display_data"
    },
    {
     "name": "stdout",
     "output_type": "stream",
     "text": [
      "\n",
      "=== Dataset: Tháng 4 smote (Top Features) ===\n"
     ]
    },
    {
     "name": "stderr",
     "output_type": "stream",
     "text": [
      "/tmp/ipykernel_13/3941530362.py:16: RuntimeWarning: divide by zero encountered in scalar divide\n",
      "  alpha = -d.dot(g) / (delta + lambd*mu)\n",
      "/usr/local/lib/python3.11/dist-packages/pandas/core/internals/blocks.py:393: RuntimeWarning: invalid value encountered in tanh\n",
      "  result = func(self.values, **kwargs)\n",
      "/tmp/ipykernel_13/2642452818.py:9: RuntimeWarning: invalid value encountered in log\n",
      "  loss = -np.mean(np.sum(Y_oh * np.log(A2 + 1e-12), axis=1))\n",
      "/tmp/ipykernel_13/2642452818.py:9: RuntimeWarning: invalid value encountered in log\n",
      "  loss = -np.mean(np.sum(Y_oh * np.log(A2 + 1e-12), axis=1))\n",
      "/tmp/ipykernel_13/2642452818.py:9: RuntimeWarning: invalid value encountered in log\n",
      "  loss = -np.mean(np.sum(Y_oh * np.log(A2 + 1e-12), axis=1))\n",
      "/tmp/ipykernel_13/2642452818.py:9: RuntimeWarning: invalid value encountered in log\n",
      "  loss = -np.mean(np.sum(Y_oh * np.log(A2 + 1e-12), axis=1))\n",
      "/tmp/ipykernel_13/2642452818.py:9: RuntimeWarning: invalid value encountered in log\n",
      "  loss = -np.mean(np.sum(Y_oh * np.log(A2 + 1e-12), axis=1))\n",
      "/tmp/ipykernel_13/2642452818.py:9: RuntimeWarning: invalid value encountered in log\n",
      "  loss = -np.mean(np.sum(Y_oh * np.log(A2 + 1e-12), axis=1))\n",
      "/tmp/ipykernel_13/2642452818.py:9: RuntimeWarning: invalid value encountered in log\n",
      "  loss = -np.mean(np.sum(Y_oh * np.log(A2 + 1e-12), axis=1))\n"
     ]
    },
    {
     "name": "stdout",
     "output_type": "stream",
     "text": [
      " hidden_dim=10  → val loss = 21.026467\n",
      " hidden_dim=20  → val loss = 0.693514\n"
     ]
    },
    {
     "name": "stderr",
     "output_type": "stream",
     "text": [
      "/tmp/ipykernel_13/3941530362.py:16: RuntimeWarning: divide by zero encountered in scalar divide\n",
      "  alpha = -d.dot(g) / (delta + lambd*mu)\n",
      "/usr/local/lib/python3.11/dist-packages/pandas/core/internals/blocks.py:393: RuntimeWarning: invalid value encountered in tanh\n",
      "  result = func(self.values, **kwargs)\n",
      "/tmp/ipykernel_13/2642452818.py:9: RuntimeWarning: invalid value encountered in log\n",
      "  loss = -np.mean(np.sum(Y_oh * np.log(A2 + 1e-12), axis=1))\n",
      "/tmp/ipykernel_13/2642452818.py:9: RuntimeWarning: invalid value encountered in log\n",
      "  loss = -np.mean(np.sum(Y_oh * np.log(A2 + 1e-12), axis=1))\n",
      "/tmp/ipykernel_13/2642452818.py:9: RuntimeWarning: invalid value encountered in log\n",
      "  loss = -np.mean(np.sum(Y_oh * np.log(A2 + 1e-12), axis=1))\n",
      "/tmp/ipykernel_13/2642452818.py:9: RuntimeWarning: invalid value encountered in log\n",
      "  loss = -np.mean(np.sum(Y_oh * np.log(A2 + 1e-12), axis=1))\n",
      "/tmp/ipykernel_13/2642452818.py:9: RuntimeWarning: invalid value encountered in log\n",
      "  loss = -np.mean(np.sum(Y_oh * np.log(A2 + 1e-12), axis=1))\n",
      "/tmp/ipykernel_13/2642452818.py:9: RuntimeWarning: invalid value encountered in log\n",
      "  loss = -np.mean(np.sum(Y_oh * np.log(A2 + 1e-12), axis=1))\n",
      "/tmp/ipykernel_13/2642452818.py:9: RuntimeWarning: invalid value encountered in log\n",
      "  loss = -np.mean(np.sum(Y_oh * np.log(A2 + 1e-12), axis=1))\n"
     ]
    },
    {
     "name": "stdout",
     "output_type": "stream",
     "text": [
      " hidden_dim=50  → val loss = 6.571735\n",
      " hidden_dim=100 → val loss = 0.693850\n",
      " hidden_dim=150 → val loss = 0.694343\n",
      " hidden_dim=17  → val loss = 0.693486\n"
     ]
    },
    {
     "name": "stderr",
     "output_type": "stream",
     "text": [
      "/tmp/ipykernel_13/3941530362.py:16: RuntimeWarning: divide by zero encountered in scalar divide\n",
      "  alpha = -d.dot(g) / (delta + lambd*mu)\n",
      "/usr/local/lib/python3.11/dist-packages/pandas/core/internals/blocks.py:393: RuntimeWarning: invalid value encountered in tanh\n",
      "  result = func(self.values, **kwargs)\n",
      "/tmp/ipykernel_13/2642452818.py:9: RuntimeWarning: invalid value encountered in log\n",
      "  loss = -np.mean(np.sum(Y_oh * np.log(A2 + 1e-12), axis=1))\n",
      "/tmp/ipykernel_13/2642452818.py:9: RuntimeWarning: invalid value encountered in log\n",
      "  loss = -np.mean(np.sum(Y_oh * np.log(A2 + 1e-12), axis=1))\n",
      "/tmp/ipykernel_13/2642452818.py:9: RuntimeWarning: invalid value encountered in log\n",
      "  loss = -np.mean(np.sum(Y_oh * np.log(A2 + 1e-12), axis=1))\n",
      "/tmp/ipykernel_13/2642452818.py:9: RuntimeWarning: invalid value encountered in log\n",
      "  loss = -np.mean(np.sum(Y_oh * np.log(A2 + 1e-12), axis=1))\n",
      "/tmp/ipykernel_13/2642452818.py:9: RuntimeWarning: invalid value encountered in log\n",
      "  loss = -np.mean(np.sum(Y_oh * np.log(A2 + 1e-12), axis=1))\n",
      "/tmp/ipykernel_13/2642452818.py:9: RuntimeWarning: invalid value encountered in log\n",
      "  loss = -np.mean(np.sum(Y_oh * np.log(A2 + 1e-12), axis=1))\n",
      "/tmp/ipykernel_13/2642452818.py:9: RuntimeWarning: invalid value encountered in log\n",
      "  loss = -np.mean(np.sum(Y_oh * np.log(A2 + 1e-12), axis=1))\n"
     ]
    },
    {
     "name": "stdout",
     "output_type": "stream",
     "text": [
      " hidden_dim=25  → val loss = 6.594468\n",
      " hidden_dim=34  → val loss = 1.768542\n",
      " hidden_dim=50  → val loss = 6.601684\n",
      " hidden_dim=68  → val loss = 6.613591\n",
      " hidden_dim=85  → val loss = 0.693799\n",
      "⇒ Best hidden_dim = 17, validation loss = 0.693486\n",
      "Test classification report:\n",
      "              precision    recall  f1-score   support\n",
      "\n",
      "           0       0.70      0.15      0.25     50316\n",
      "           1       0.05      0.41      0.09      5599\n",
      "\n",
      "    accuracy                           0.18     55915\n",
      "   macro avg       0.38      0.28      0.17     55915\n",
      "weighted avg       0.63      0.18      0.24     55915\n",
      "\n",
      "Test confusion matrix:\n",
      " [[ 7702 42614]\n",
      " [ 3308  2291]]\n"
     ]
    },
    {
     "data": {
      "image/png": "[encoded data removed]",
      "text/plain": [
       "<Figure size 640x480 with 2 Axes>"
      ]
     },
     "metadata": {},
     "output_type": "display_data"
    }
   ],
   "source": [
    "for name, X_trval, y_trval, X_test, y_test in models_info:\n",
    "    \n",
    "    train_and_evaluate_model(name + \" (All Features)\", X_trval, y_trval, X_test, y_test)\n",
    "\n",
    "    train_and_evaluate_model(name + \" (Top Features)\", X_trval, y_trval, X_test, y_test, top_features=top_features)"
   ]
  }
 ],
 "metadata": {
  "kaggle": {
   "accelerator": "none",
   "dataSources": [
    {
     "datasetId": 6979951,
     "sourceId": 11182321,
     "sourceType": "datasetVersion"
    },
    {
     "datasetId": 6988906,
     "sourceId": 11449400,
     "sourceType": "datasetVersion"
    },
    {
     "datasetId": 7334326,
     "sourceId": 11685547,
     "sourceType": "datasetVersion"
    },
    {
     "datasetId": 7334337,
     "sourceId": 11685564,
     "sourceType": "datasetVersion"
    }
   ],
   "dockerImageVersionId": 31012,
   "isGpuEnabled": false,
   "isInternetEnabled": true,
   "language": "python",
   "sourceType": "notebook"
  },
  "kernelspec": {
   "display_name": "Python 3",
   "language": "python",
   "name": "python3"
  },
  "language_info": {
   "codemirror_mode": {
    "name": "ipython",
    "version": 3
   },
   "file_extension": ".py",
   "mimetype": "text/x-python",
   "name": "python",
   "nbconvert_exporter": "python",
   "pygments_lexer": "ipython3",
   "version": "3.11.11"
  },
  "papermill": {
   "default_parameters": {},
   "duration": 1680.504636,
   "end_time": "2025-05-05T19:12:49.794783",
   "environment_variables": {},
   "exception": null,
   "input_path": "__notebook__.ipynb",
   "output_path": "__notebook__.ipynb",
   "parameters": {},
   "start_time": "2025-05-05T18:44:49.290147",
   "version": "2.6.0"
  }
 },
 "nbformat": 4,
 "nbformat_minor": 5
}
