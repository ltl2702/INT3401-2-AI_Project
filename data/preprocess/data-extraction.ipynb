{
 "cells": [
  {
   "cell_type": "code",
   "execution_count": 1,
   "id": "57411913",
   "metadata": {
    "_cell_guid": "b1076dfc-b9ad-4769-8c92-a6c4dae69d19",
    "_uuid": "8f2839f25d086af736a60e9eeb907d3b93b6e0e5",
    "execution": {
     "iopub.execute_input": "2025-03-27T13:38:34.060431Z",
     "iopub.status.busy": "2025-03-27T13:38:34.060027Z",
     "iopub.status.idle": "2025-03-27T13:38:46.226416Z",
     "shell.execute_reply": "2025-03-27T13:38:46.224946Z"
    },
    "papermill": {
     "duration": 12.175352,
     "end_time": "2025-03-27T13:38:46.228938",
     "exception": false,
     "start_time": "2025-03-27T13:38:34.053586",
     "status": "completed"
    },
    "tags": []
   },
   "outputs": [
    {
     "name": "stdout",
     "output_type": "stream",
     "text": [
      "Requirement already satisfied: tqdm in /usr/local/lib/python3.10/dist-packages (4.67.1)\r\n",
      "Collecting rasterio\r\n",
      "  Downloading rasterio-1.4.3-cp310-cp310-manylinux_2_17_x86_64.manylinux2014_x86_64.whl.metadata (9.1 kB)\r\n",
      "Collecting affine (from rasterio)\r\n",
      "  Downloading affine-2.4.0-py3-none-any.whl.metadata (4.0 kB)\r\n",
      "Requirement already satisfied: attrs in /usr/local/lib/python3.10/dist-packages (from rasterio) (25.1.0)\r\n",
      "Requirement already satisfied: certifi in /usr/local/lib/python3.10/dist-packages (from rasterio) (2025.1.31)\r\n",
      "Requirement already satisfied: click>=4.0 in /usr/local/lib/python3.10/dist-packages (from rasterio) (8.1.7)\r\n",
      "Requirement already satisfied: cligj>=0.5 in /usr/local/lib/python3.10/dist-packages (from rasterio) (0.7.2)\r\n",
      "Requirement already satisfied: numpy>=1.24 in /usr/local/lib/python3.10/dist-packages (from rasterio) (1.26.4)\r\n",
      "Requirement already satisfied: click-plugins in /usr/local/lib/python3.10/dist-packages (from rasterio) (1.1.1)\r\n",
      "Requirement already satisfied: pyparsing in /usr/local/lib/python3.10/dist-packages (from rasterio) (3.2.0)\r\n",
      "Requirement already satisfied: mkl_fft in /usr/local/lib/python3.10/dist-packages (from numpy>=1.24->rasterio) (1.3.8)\r\n",
      "Requirement already satisfied: mkl_random in /usr/local/lib/python3.10/dist-packages (from numpy>=1.24->rasterio) (1.2.4)\r\n",
      "Requirement already satisfied: mkl_umath in /usr/local/lib/python3.10/dist-packages (from numpy>=1.24->rasterio) (0.1.1)\r\n",
      "Requirement already satisfied: mkl in /usr/local/lib/python3.10/dist-packages (from numpy>=1.24->rasterio) (2025.0.1)\r\n",
      "Requirement already satisfied: tbb4py in /usr/local/lib/python3.10/dist-packages (from numpy>=1.24->rasterio) (2022.0.0)\r\n",
      "Requirement already satisfied: mkl-service in /usr/local/lib/python3.10/dist-packages (from numpy>=1.24->rasterio) (2.4.1)\r\n",
      "Requirement already satisfied: intel-openmp>=2024 in /usr/local/lib/python3.10/dist-packages (from mkl->numpy>=1.24->rasterio) (2024.2.0)\r\n",
      "Requirement already satisfied: tbb==2022.* in /usr/local/lib/python3.10/dist-packages (from mkl->numpy>=1.24->rasterio) (2022.0.0)\r\n",
      "Requirement already satisfied: tcmlib==1.* in /usr/local/lib/python3.10/dist-packages (from tbb==2022.*->mkl->numpy>=1.24->rasterio) (1.2.0)\r\n",
      "Requirement already satisfied: intel-cmplr-lib-rt in /usr/local/lib/python3.10/dist-packages (from mkl_umath->numpy>=1.24->rasterio) (2024.2.0)\r\n",
      "Requirement already satisfied: intel-cmplr-lib-ur==2024.2.0 in /usr/local/lib/python3.10/dist-packages (from intel-openmp>=2024->mkl->numpy>=1.24->rasterio) (2024.2.0)\r\n",
      "Downloading rasterio-1.4.3-cp310-cp310-manylinux_2_17_x86_64.manylinux2014_x86_64.whl (22.2 MB)\r\n",
      "\u001b[2K   \u001b[90m━━━━━━━━━━━━━━━━━━━━━━━━━━━━━━━━━━━━━━━━\u001b[0m \u001b[32m22.2/22.2 MB\u001b[0m \u001b[31m62.0 MB/s\u001b[0m eta \u001b[36m0:00:00\u001b[0m\r\n",
      "\u001b[?25hDownloading affine-2.4.0-py3-none-any.whl (15 kB)\r\n",
      "Installing collected packages: affine, rasterio\r\n",
      "Successfully installed affine-2.4.0 rasterio-1.4.3\r\n"
     ]
    }
   ],
   "source": [
    "!pip install tqdm\n",
    "!pip install rasterio"
   ]
  },
  {
   "cell_type": "code",
   "execution_count": 2,
   "id": "452d7c3a",
   "metadata": {
    "execution": {
     "iopub.execute_input": "2025-03-27T13:38:46.245269Z",
     "iopub.status.busy": "2025-03-27T13:38:46.244828Z",
     "iopub.status.idle": "2025-03-27T13:38:48.367864Z",
     "shell.execute_reply": "2025-03-27T13:38:48.366210Z"
    },
    "papermill": {
     "duration": 2.1323,
     "end_time": "2025-03-27T13:38:48.370132",
     "exception": false,
     "start_time": "2025-03-27T13:38:46.237832",
     "status": "completed"
    },
    "tags": []
   },
   "outputs": [],
   "source": [
    "import os\n",
    "import rasterio\n",
    "import numpy as np\n",
    "import pandas as pd\n",
    "from datetime import datetime, timedelta\n",
    "from collections import defaultdict\n",
    "import calendar\n",
    "from tqdm import tqdm \n",
    "import re\n",
    "from osgeo import gdal"
   ]
  },
  {
   "cell_type": "markdown",
   "id": "4d054720",
   "metadata": {
    "papermill": {
     "duration": 0.009288,
     "end_time": "2025-03-27T13:38:48.388713",
     "exception": false,
     "start_time": "2025-03-27T13:38:48.379425",
     "status": "completed"
    },
    "tags": []
   },
   "source": [
    "# Extract AWS"
   ]
  },
  {
   "cell_type": "code",
   "execution_count": null,
   "id": "926bea70",
   "metadata": {
    "execution": {
     "iopub.execute_input": "2025-03-27T13:38:48.407337Z",
     "iopub.status.busy": "2025-03-27T13:38:48.406787Z",
     "iopub.status.idle": "2025-03-27T13:38:48.414407Z",
     "shell.execute_reply": "2025-03-27T13:38:48.412928Z"
    },
    "papermill": {
     "duration": 0.020484,
     "end_time": "2025-03-27T13:38:48.417925",
     "exception": false,
     "start_time": "2025-03-27T13:38:48.397441",
     "status": "completed"
    },
    "tags": []
   },
   "outputs": [],
   "source": [
    "def extract_datetime_from_filename(filename):\n",
    "    # Trường hợp 1: Định dạng B04B_20201016.Z2100_TB.tif\n",
    "    match1 = re.search(r'^(.*?)_(\\d{8})\\.Z(\\d{4})_TB', filename)\n",
    "    \n",
    "    if match1:\n",
    "        date_part, time_part = match1.group(2), match1.group(3)\n",
    "        dt_str = f\"{date_part}{time_part}00\"  # Ghép thành YYYYMMDDhhmm00\n",
    "        \n",
    "        try:\n",
    "            return datetime.strptime(dt_str, \"%Y%m%d%H%M%S\")\n",
    "        except ValueError:\n",
    "            return None\n",
    "\n",
    "    # Trường hợp 2: Định dạng AWS_20190420000000.tif\n",
    "    match2 = re.search(r'^(.*?)_(\\d{14})\\.tif$', filename)\n",
    "\n",
    "    if match2:\n",
    "        dt_str = match2.group(2)  # Lấy chuỗi YYYYMMDDHHMMSS\n",
    "        \n",
    "        try:\n",
    "            return datetime.strptime(dt_str, \"%Y%m%d%H%M%S\")\n",
    "        except ValueError:\n",
    "            return None\n",
    "\n",
    "    return None"
   ]
  },
  {
   "cell_type": "code",
   "execution_count": null,
   "id": "ffe636a2",
   "metadata": {
    "execution": {
     "iopub.execute_input": "2025-03-27T13:38:48.439095Z",
     "iopub.status.busy": "2025-03-27T13:38:48.438489Z",
     "iopub.status.idle": "2025-03-27T13:38:48.454941Z",
     "shell.execute_reply": "2025-03-27T13:38:48.453838Z"
    },
    "papermill": {
     "duration": 0.029891,
     "end_time": "2025-03-27T13:38:48.457024",
     "exception": false,
     "start_time": "2025-03-27T13:38:48.427133",
     "status": "completed"
    },
    "tags": []
   },
   "outputs": [],
   "source": [
    "def extract_data(root_dir, option=1, coordinates=None):\n",
    "    \"\"\"\n",
    "    Trích xuất dữ liệu từ các file GeoTIFF trong thư mục root_dir và bổ sung dữ liệu bị thiếu.\n",
    "    \n",
    "    - root_dir: đường dẫn thư mục gốc\n",
    "    - option: \n",
    "        + 1 - Trả về toàn bộ dữ liệu\n",
    "        + 2 - Chỉ lấy dữ liệu ở các tọa độ cụ thể (row, col) trong tập `coordinates`\n",
    "    - coordinates: set chứa các tọa độ (row, col) nếu option = 2\n",
    "    \n",
    "    Returns:\n",
    "    - dict chứa DataFrame của từng tháng, với key là \"YYYY-MM\".\n",
    "    \"\"\"\n",
    "    \n",
    "    monthly_data = {}\n",
    "    param_name = root_dir.split('/')[-1]  # Tự động lấy tên biến khí tượng\n",
    "\n",
    "    for year in ['2019', '2020']:\n",
    "        year_path = os.path.join(root_dir, year)\n",
    "        if not os.path.isdir(year_path):\n",
    "            continue\n",
    "\n",
    "        for month in sorted(os.listdir(year_path)):\n",
    "            month_path = os.path.join(year_path, month)\n",
    "            if not os.path.isdir(month_path):\n",
    "                continue\n",
    "\n",
    "            available_timestamps = set()\n",
    "            pixel_values = {}  # Lưu dữ liệu của từng pixel\n",
    "\n",
    "            for day in tqdm(sorted(os.listdir(month_path)), desc=f\"Đang xử lý {year}/{month}\"):\n",
    "                day_path = os.path.join(month_path, day)\n",
    "                if not os.path.isdir(day_path):\n",
    "                    continue\n",
    "\n",
    "                for file in sorted(os.listdir(day_path)):\n",
    "                    if not file.endswith(\".tif\"):\n",
    "                        continue\n",
    "                    file_path = os.path.join(day_path, file)\n",
    "\n",
    "                    dataset = gdal.Open(file_path)\n",
    "                    if dataset is None:\n",
    "                        print(f\" Không mở được file: {file_path}\")\n",
    "                        continue\n",
    "\n",
    "                    band = dataset.GetRasterBand(1)\n",
    "                    data = band.ReadAsArray()\n",
    "\n",
    "                    # Xử lý tên file để lấy datetime\n",
    "                    dt = extract_datetime_from_filename(file)\n",
    "\n",
    "                    if dt is None:\n",
    "                        print(f\" Lỗi xử lý datetime cho file: {file}\")\n",
    "                        continue\n",
    "                    \n",
    "                    available_timestamps.add(dt)\n",
    "\n",
    "                    rows, cols = data.shape\n",
    "                    row_idx, col_idx = np.indices((rows, cols))\n",
    "\n",
    "                    # Áp dụng điều kiện lọc dữ liệu hợp lệ\n",
    "                    valid_mask = np.ones_like(data, dtype=bool)\n",
    "\n",
    "                    # Nếu option == 2, chỉ giữ lại các tọa độ có trong `coordinates`\n",
    "                    if option == 2 and coordinates:\n",
    "                        coord_mask = np.vectorize(lambda r, c: (r, c) in coordinates)(row_idx, col_idx)\n",
    "                        valid_mask &= coord_mask\n",
    "\n",
    "                    values = data[valid_mask]\n",
    "                    row_idx = row_idx[valid_mask]\n",
    "                    col_idx = col_idx[valid_mask]\n",
    "\n",
    "                    for r, c, v in zip(row_idx, col_idx, values):\n",
    "                        if (r, c) not in pixel_values:\n",
    "                            pixel_values[(r, c)] = {}\n",
    "                        pixel_values[(r, c)][dt] = v\n",
    "\n",
    "            # Tạo danh sách timestamp đầy đủ cho tháng đó\n",
    "            start_date = datetime(int(year), int(month), 1, 0, 0, 0)\n",
    "            num_days_in_month = calendar.monthrange(int(year), int(month))[1]\n",
    "            end_date = datetime(int(year), int(month), num_days_in_month, 23, 59, 59)\n",
    "            all_timestamps = {start_date + timedelta(hours=i) for i in range((end_date - start_date).days * 24 + 24)}\n",
    "\n",
    "            missing_timestamps = all_timestamps - available_timestamps\n",
    "\n",
    "            # Điền NaN vào các timestamp bị thiếu\n",
    "            for pixel, values in pixel_values.items():\n",
    "                for ts in missing_timestamps:\n",
    "                    values[ts] = np.nan\n",
    "\n",
    "            # Chuyển dữ liệu thành DataFrame\n",
    "            data_list = []\n",
    "            for (r, c), values in pixel_values.items():\n",
    "                for ts, v in values.items():\n",
    "                    data_list.append([ts, r, c, v])\n",
    "\n",
    "            month_key = f\"{year}-{month}\"\n",
    "            df = pd.DataFrame(data_list, columns=[\"datetime\", \"row\", \"col\", param_name])\n",
    "            df[\"datetime\"] = pd.to_datetime(df[\"datetime\"])\n",
    "            df[\"row\"] = df[\"row\"].astype(int)\n",
    "            df[\"col\"] = df[\"col\"].astype(int)\n",
    "            df[param_name] = df[param_name].astype(float)\n",
    "\n",
    "            monthly_data[month_key] = df\n",
    "\n",
    "    return monthly_data"
   ]
  },
  {
   "cell_type": "code",
   "execution_count": 6,
   "id": "be13fc9c",
   "metadata": {
    "execution": {
     "iopub.execute_input": "2025-03-27T13:38:48.489571Z",
     "iopub.status.busy": "2025-03-27T13:38:48.489192Z",
     "iopub.status.idle": "2025-03-27T13:46:54.593619Z",
     "shell.execute_reply": "2025-03-27T13:46:54.592437Z"
    },
    "papermill": {
     "duration": 486.126058,
     "end_time": "2025-03-27T13:46:54.608344",
     "exception": false,
     "start_time": "2025-03-27T13:38:48.482286",
     "status": "completed"
    },
    "tags": []
   },
   "outputs": [
    {
     "name": "stderr",
     "output_type": "stream",
     "text": [
      "Đang xử lý 2019/04: 100%|██████████| 30/30 [00:25<00:00,  1.18it/s]\n",
      "Đang xử lý 2019/10: 100%|██████████| 31/31 [00:21<00:00,  1.47it/s]\n",
      "Đang xử lý 2020/04: 100%|██████████| 30/30 [00:24<00:00,  1.23it/s]\n",
      "Đang xử lý 2020/10: 100%|██████████| 31/31 [00:26<00:00,  1.19it/s]\n"
     ]
    },
    {
     "data": {
      "text/plain": [
       "dict_keys(['2019-04', '2019-10', '2020-04', '2020-10'])"
      ]
     },
     "execution_count": 6,
     "metadata": {},
     "output_type": "execute_result"
    }
   ],
   "source": [
    "# AWS raw data\n",
    "aws_raw_data = extract_data('/kaggle/input/dataai/DATA_SV/Precipitation/AWS')\n",
    "aws_raw_data.keys()"
   ]
  },
  {
   "cell_type": "code",
   "execution_count": 7,
   "id": "edb7d088",
   "metadata": {
    "execution": {
     "iopub.execute_input": "2025-03-27T13:46:54.635833Z",
     "iopub.status.busy": "2025-03-27T13:46:54.635419Z",
     "iopub.status.idle": "2025-03-27T13:46:54.641463Z",
     "shell.execute_reply": "2025-03-27T13:46:54.640112Z"
    },
    "papermill": {
     "duration": 0.022208,
     "end_time": "2025-03-27T13:46:54.643460",
     "exception": false,
     "start_time": "2025-03-27T13:46:54.621252",
     "status": "completed"
    },
    "tags": []
   },
   "outputs": [],
   "source": [
    "def get_valid_pixels(result):\n",
    "    \"\"\"\n",
    "    Xác định các pixel có ít nhất một giá trị hợp lệ trong bất kỳ tháng nào.\n",
    "    \"\"\"\n",
    "    if not result:\n",
    "        return set()\n",
    "\n",
    "    valid_pixels = set()\n",
    "    param_name = next(iter(result.values())).columns[-1]  # Lấy tên cột giá trị khí tượng\n",
    "\n",
    "    for df in tqdm(result.values()):\n",
    "        valid_pixels.update(\n",
    "            (row, col) for row, col, value in zip(df[\"row\"], df[\"col\"], df[param_name])\n",
    "            if value != -np.inf and not pd.isna(value)\n",
    "        )\n",
    "\n",
    "    return valid_pixels"
   ]
  },
  {
   "cell_type": "code",
   "execution_count": 8,
   "id": "658d0c89",
   "metadata": {
    "execution": {
     "iopub.execute_input": "2025-03-27T13:46:54.670191Z",
     "iopub.status.busy": "2025-03-27T13:46:54.669601Z",
     "iopub.status.idle": "2025-03-27T13:47:18.872794Z",
     "shell.execute_reply": "2025-03-27T13:47:18.871630Z"
    },
    "papermill": {
     "duration": 24.218397,
     "end_time": "2025-03-27T13:47:18.874537",
     "exception": false,
     "start_time": "2025-03-27T13:46:54.656140",
     "status": "completed"
    },
    "tags": []
   },
   "outputs": [
    {
     "name": "stderr",
     "output_type": "stream",
     "text": [
      "100%|██████████| 4/4 [00:24<00:00,  6.05s/it]\n"
     ]
    },
    {
     "data": {
      "text/plain": [
       "334"
      ]
     },
     "execution_count": 8,
     "metadata": {},
     "output_type": "execute_result"
    }
   ],
   "source": [
    "aws_valid_pixels = get_valid_pixels(aws_raw_data)\n",
    "\n",
    "len(aws_valid_pixels)"
   ]
  },
  {
   "cell_type": "code",
   "execution_count": 9,
   "id": "b0c2b521",
   "metadata": {
    "execution": {
     "iopub.execute_input": "2025-03-27T13:47:18.902670Z",
     "iopub.status.busy": "2025-03-27T13:47:18.902302Z",
     "iopub.status.idle": "2025-03-27T13:47:44.674269Z",
     "shell.execute_reply": "2025-03-27T13:47:44.673085Z"
    },
    "papermill": {
     "duration": 25.788164,
     "end_time": "2025-03-27T13:47:44.676190",
     "exception": false,
     "start_time": "2025-03-27T13:47:18.888026",
     "status": "completed"
    },
    "tags": []
   },
   "outputs": [
    {
     "name": "stderr",
     "output_type": "stream",
     "text": [
      "Đang xử lý 2019/04: 100%|██████████| 30/30 [00:05<00:00,  5.92it/s]\n",
      "Đang xử lý 2019/10: 100%|██████████| 31/31 [00:04<00:00,  7.11it/s]\n",
      "Đang xử lý 2020/04: 100%|██████████| 30/30 [00:05<00:00,  5.98it/s]\n",
      "Đang xử lý 2020/10: 100%|██████████| 31/31 [00:05<00:00,  6.04it/s]\n"
     ]
    }
   ],
   "source": [
    "filtered_aws_data = extract_data('/kaggle/input/dataai/DATA_SV/Precipitation/AWS', option = 2, coordinates=aws_valid_pixels)"
   ]
  },
  {
   "cell_type": "code",
   "execution_count": 10,
   "id": "ed174028",
   "metadata": {
    "execution": {
     "iopub.execute_input": "2025-03-27T13:47:44.719108Z",
     "iopub.status.busy": "2025-03-27T13:47:44.718684Z",
     "iopub.status.idle": "2025-03-27T13:47:44.769687Z",
     "shell.execute_reply": "2025-03-27T13:47:44.768256Z"
    },
    "papermill": {
     "duration": 0.073548,
     "end_time": "2025-03-27T13:47:44.771532",
     "exception": false,
     "start_time": "2025-03-27T13:47:44.697984",
     "status": "completed"
    },
    "tags": []
   },
   "outputs": [
    {
     "name": "stdout",
     "output_type": "stream",
     "text": [
      "2019-04\n",
      "<class 'pandas.core.frame.DataFrame'>\n",
      "RangeIndex: 240480 entries, 0 to 240479\n",
      "Data columns (total 4 columns):\n",
      " #   Column    Non-Null Count   Dtype         \n",
      "---  ------    --------------   -----         \n",
      " 0   datetime  240480 non-null  datetime64[ns]\n",
      " 1   row       240480 non-null  int64         \n",
      " 2   col       240480 non-null  int64         \n",
      " 3   AWS       240480 non-null  float64       \n",
      "dtypes: datetime64[ns](1), float64(1), int64(2)\n",
      "memory usage: 7.3 MB\n",
      "None\n",
      "2019-10\n",
      "<class 'pandas.core.frame.DataFrame'>\n",
      "RangeIndex: 248496 entries, 0 to 248495\n",
      "Data columns (total 4 columns):\n",
      " #   Column    Non-Null Count   Dtype         \n",
      "---  ------    --------------   -----         \n",
      " 0   datetime  248496 non-null  datetime64[ns]\n",
      " 1   row       248496 non-null  int64         \n",
      " 2   col       248496 non-null  int64         \n",
      " 3   AWS       209418 non-null  float64       \n",
      "dtypes: datetime64[ns](1), float64(1), int64(2)\n",
      "memory usage: 7.6 MB\n",
      "None\n",
      "2020-04\n",
      "<class 'pandas.core.frame.DataFrame'>\n",
      "RangeIndex: 240480 entries, 0 to 240479\n",
      "Data columns (total 4 columns):\n",
      " #   Column    Non-Null Count   Dtype         \n",
      "---  ------    --------------   -----         \n",
      " 0   datetime  240480 non-null  datetime64[ns]\n",
      " 1   row       240480 non-null  int64         \n",
      " 2   col       240480 non-null  int64         \n",
      " 3   AWS       239812 non-null  float64       \n",
      "dtypes: datetime64[ns](1), float64(1), int64(2)\n",
      "memory usage: 7.3 MB\n",
      "None\n",
      "2020-10\n",
      "<class 'pandas.core.frame.DataFrame'>\n",
      "RangeIndex: 248496 entries, 0 to 248495\n",
      "Data columns (total 4 columns):\n",
      " #   Column    Non-Null Count   Dtype         \n",
      "---  ------    --------------   -----         \n",
      " 0   datetime  248496 non-null  datetime64[ns]\n",
      " 1   row       248496 non-null  int64         \n",
      " 2   col       248496 non-null  int64         \n",
      " 3   AWS       247828 non-null  float64       \n",
      "dtypes: datetime64[ns](1), float64(1), int64(2)\n",
      "memory usage: 7.6 MB\n",
      "None\n"
     ]
    }
   ],
   "source": [
    "for key, value in filtered_aws_data.items():\n",
    "    print(key)\n",
    "    print(value.info())"
   ]
  },
  {
   "cell_type": "markdown",
   "id": "fbae107d",
   "metadata": {
    "papermill": {
     "duration": 0.019203,
     "end_time": "2025-03-27T13:47:44.810616",
     "exception": false,
     "start_time": "2025-03-27T13:47:44.791413",
     "status": "completed"
    },
    "tags": []
   },
   "source": [
    "# Extract ERA5"
   ]
  },
  {
   "cell_type": "markdown",
   "id": "f870a034",
   "metadata": {
    "papermill": {
     "duration": 0.019196,
     "end_time": "2025-03-27T13:47:44.849363",
     "exception": false,
     "start_time": "2025-03-27T13:47:44.830167",
     "status": "completed"
    },
    "tags": []
   },
   "source": [
    "# Extract Himawari"
   ]
  },
  {
   "cell_type": "code",
   "execution_count": 11,
   "id": "3c87926f",
   "metadata": {
    "execution": {
     "iopub.execute_input": "2025-03-27T13:47:44.892787Z",
     "iopub.status.busy": "2025-03-27T13:47:44.892373Z",
     "iopub.status.idle": "2025-03-27T13:59:08.109640Z",
     "shell.execute_reply": "2025-03-27T13:59:08.108386Z"
    },
    "papermill": {
     "duration": 683.241794,
     "end_time": "2025-03-27T13:59:08.112256",
     "exception": false,
     "start_time": "2025-03-27T13:47:44.870462",
     "status": "completed"
    },
    "tags": []
   },
   "outputs": [
    {
     "name": "stdout",
     "output_type": "stream",
     "text": [
      " Đang xử lý folder con: B04B\n"
     ]
    },
    {
     "name": "stderr",
     "output_type": "stream",
     "text": [
      "Đang xử lý 2019/04: 100%|██████████| 26/26 [00:05<00:00,  4.54it/s]\n",
      "Đang xử lý 2019/10: 100%|██████████| 31/31 [00:06<00:00,  5.11it/s]\n",
      "Đang xử lý 2020/04: 100%|██████████| 30/30 [00:07<00:00,  4.23it/s]\n",
      "Đang xử lý 2020/10: 100%|██████████| 31/31 [00:06<00:00,  5.08it/s]\n"
     ]
    },
    {
     "name": "stdout",
     "output_type": "stream",
     "text": [
      " Đang xử lý folder con: B05B\n"
     ]
    },
    {
     "name": "stderr",
     "output_type": "stream",
     "text": [
      "Đang xử lý 2019/04: 100%|██████████| 26/26 [00:05<00:00,  4.81it/s]\n",
      "Đang xử lý 2019/10: 100%|██████████| 31/31 [00:05<00:00,  5.43it/s]\n",
      "Đang xử lý 2020/04: 100%|██████████| 30/30 [00:06<00:00,  4.64it/s]\n",
      "Đang xử lý 2020/10: 100%|██████████| 31/31 [00:05<00:00,  5.57it/s]\n"
     ]
    },
    {
     "name": "stdout",
     "output_type": "stream",
     "text": [
      " Đang xử lý folder con: B06B\n"
     ]
    },
    {
     "name": "stderr",
     "output_type": "stream",
     "text": [
      "Đang xử lý 2019/04: 100%|██████████| 26/26 [00:04<00:00,  5.27it/s]\n",
      "Đang xử lý 2019/10: 100%|██████████| 26/26 [00:03<00:00,  8.09it/s]\n",
      "Đang xử lý 2020/04: 100%|██████████| 30/30 [00:06<00:00,  4.73it/s]\n",
      "Đang xử lý 2020/10: 100%|██████████| 30/30 [00:05<00:00,  5.41it/s]\n"
     ]
    },
    {
     "name": "stdout",
     "output_type": "stream",
     "text": [
      " Đang xử lý folder con: B09B\n"
     ]
    },
    {
     "name": "stderr",
     "output_type": "stream",
     "text": [
      "Đang xử lý 2019/04: 100%|██████████| 26/26 [00:10<00:00,  2.54it/s]\n",
      "Đang xử lý 2019/10: 100%|██████████| 31/31 [00:11<00:00,  2.59it/s]\n",
      "Đang xử lý 2020/04: 100%|██████████| 30/30 [00:12<00:00,  2.40it/s]\n",
      "Đang xử lý 2020/10: 100%|██████████| 31/31 [00:13<00:00,  2.33it/s]\n"
     ]
    },
    {
     "name": "stdout",
     "output_type": "stream",
     "text": [
      " Đang xử lý folder con: B10B\n"
     ]
    },
    {
     "name": "stderr",
     "output_type": "stream",
     "text": [
      "Đang xử lý 2019/04: 100%|██████████| 26/26 [00:10<00:00,  2.46it/s]\n",
      "Đang xử lý 2019/10: 100%|██████████| 31/31 [00:12<00:00,  2.57it/s]\n",
      "Đang xử lý 2020/04: 100%|██████████| 30/30 [00:12<00:00,  2.36it/s]\n",
      "Đang xử lý 2020/10: 100%|██████████| 31/31 [00:13<00:00,  2.33it/s]\n"
     ]
    },
    {
     "name": "stdout",
     "output_type": "stream",
     "text": [
      " Đang xử lý folder con: B11B\n"
     ]
    },
    {
     "name": "stderr",
     "output_type": "stream",
     "text": [
      "Đang xử lý 2019/04: 100%|██████████| 26/26 [00:11<00:00,  2.34it/s]\n",
      "Đang xử lý 2019/10: 100%|██████████| 31/31 [00:12<00:00,  2.39it/s]\n",
      "Đang xử lý 2020/04: 100%|██████████| 30/30 [00:12<00:00,  2.39it/s]\n",
      "Đang xử lý 2020/10: 100%|██████████| 31/31 [00:13<00:00,  2.33it/s]\n"
     ]
    },
    {
     "name": "stdout",
     "output_type": "stream",
     "text": [
      " Đang xử lý folder con: B12B\n"
     ]
    },
    {
     "name": "stderr",
     "output_type": "stream",
     "text": [
      "Đang xử lý 2019/04: 100%|██████████| 26/26 [00:10<00:00,  2.51it/s]\n",
      "Đang xử lý 2019/10: 100%|██████████| 31/31 [00:12<00:00,  2.41it/s]\n",
      "Đang xử lý 2020/04: 100%|██████████| 30/30 [00:13<00:00,  2.31it/s]\n",
      "Đang xử lý 2020/10: 100%|██████████| 31/31 [00:13<00:00,  2.29it/s]\n"
     ]
    },
    {
     "name": "stdout",
     "output_type": "stream",
     "text": [
      " Đang xử lý folder con: B14B\n"
     ]
    },
    {
     "name": "stderr",
     "output_type": "stream",
     "text": [
      "Đang xử lý 2019/04: 100%|██████████| 26/26 [00:11<00:00,  2.36it/s]\n",
      "Đang xử lý 2019/10: 100%|██████████| 31/31 [00:12<00:00,  2.42it/s]\n",
      "Đang xử lý 2020/04: 100%|██████████| 30/30 [00:13<00:00,  2.19it/s]\n",
      "Đang xử lý 2020/10: 100%|██████████| 31/31 [00:13<00:00,  2.38it/s]\n"
     ]
    },
    {
     "name": "stdout",
     "output_type": "stream",
     "text": [
      " Đang xử lý folder con: B16B\n"
     ]
    },
    {
     "name": "stderr",
     "output_type": "stream",
     "text": [
      "Đang xử lý 2019/04: 100%|██████████| 26/26 [00:11<00:00,  2.33it/s]\n",
      "Đang xử lý 2019/10: 100%|██████████| 31/31 [00:12<00:00,  2.43it/s]\n",
      "Đang xử lý 2020/04: 100%|██████████| 30/30 [00:13<00:00,  2.16it/s]\n",
      "Đang xử lý 2020/10: 100%|██████████| 31/31 [00:13<00:00,  2.30it/s]\n"
     ]
    },
    {
     "name": "stdout",
     "output_type": "stream",
     "text": [
      " Đang xử lý folder con: I2B\n"
     ]
    },
    {
     "name": "stderr",
     "output_type": "stream",
     "text": [
      "Đang xử lý 2019/04: 100%|██████████| 26/26 [00:11<00:00,  2.36it/s]\n",
      "Đang xử lý 2019/10: 100%|██████████| 31/31 [00:13<00:00,  2.23it/s]\n",
      "Đang xử lý 2020/04: 100%|██████████| 30/30 [00:13<00:00,  2.30it/s]\n",
      "Đang xử lý 2020/10: 100%|██████████| 31/31 [00:13<00:00,  2.31it/s]\n"
     ]
    },
    {
     "name": "stdout",
     "output_type": "stream",
     "text": [
      " Đang xử lý folder con: I4B\n"
     ]
    },
    {
     "name": "stderr",
     "output_type": "stream",
     "text": [
      "Đang xử lý 2019/04: 100%|██████████| 26/26 [00:09<00:00,  2.67it/s]\n",
      "Đang xử lý 2019/10: 100%|██████████| 31/31 [00:13<00:00,  2.25it/s]\n",
      "Đang xử lý 2020/04: 100%|██████████| 30/30 [00:12<00:00,  2.40it/s]\n",
      "Đang xử lý 2020/10: 100%|██████████| 31/31 [00:13<00:00,  2.26it/s]\n"
     ]
    },
    {
     "name": "stdout",
     "output_type": "stream",
     "text": [
      " Đang xử lý folder con: IRB\n"
     ]
    },
    {
     "name": "stderr",
     "output_type": "stream",
     "text": [
      "Đang xử lý 2019/04: 100%|██████████| 26/26 [00:10<00:00,  2.42it/s]\n",
      "Đang xử lý 2019/10: 100%|██████████| 31/31 [00:13<00:00,  2.25it/s]\n",
      "Đang xử lý 2020/04: 100%|██████████| 30/30 [00:14<00:00,  2.09it/s]\n",
      "Đang xử lý 2020/10: 100%|██████████| 31/31 [00:13<00:00,  2.28it/s]\n"
     ]
    },
    {
     "name": "stdout",
     "output_type": "stream",
     "text": [
      " Đang xử lý folder con: VSB\n"
     ]
    },
    {
     "name": "stderr",
     "output_type": "stream",
     "text": [
      "Đang xử lý 2019/04: 100%|██████████| 26/26 [00:05<00:00,  4.61it/s]\n",
      "Đang xử lý 2019/10: 100%|██████████| 31/31 [00:05<00:00,  5.17it/s]\n",
      "Đang xử lý 2020/04: 100%|██████████| 30/30 [00:07<00:00,  4.27it/s]\n",
      "Đang xử lý 2020/10: 100%|██████████| 31/31 [00:06<00:00,  4.79it/s]\n"
     ]
    },
    {
     "name": "stdout",
     "output_type": "stream",
     "text": [
      " Đang xử lý folder con: WVB\n"
     ]
    },
    {
     "name": "stderr",
     "output_type": "stream",
     "text": [
      "Đang xử lý 2019/04: 100%|██████████| 26/26 [00:10<00:00,  2.48it/s]\n",
      "Đang xử lý 2019/10: 100%|██████████| 31/31 [00:12<00:00,  2.47it/s]\n",
      "Đang xử lý 2020/04: 100%|██████████| 30/30 [00:13<00:00,  2.25it/s]\n",
      "Đang xử lý 2020/10: 100%|██████████| 31/31 [00:14<00:00,  2.21it/s]\n"
     ]
    }
   ],
   "source": [
    "hima_root = \"/kaggle/input/dataai/DATA_SV/Hima\"\n",
    "\n",
    "hima_data_dict = {}\n",
    "\n",
    "for subdir in sorted(os.listdir(hima_root)):\n",
    "    subdir_path = os.path.join(hima_root, subdir)\n",
    "    \n",
    "    if os.path.isdir(subdir_path): \n",
    "        print(f\" Đang xử lý folder con: {subdir}\")\n",
    "        hima_data_dict[subdir] = extract_data(subdir_path, option=2, coordinates=aws_valid_pixels)"
   ]
  },
  {
   "cell_type": "code",
   "execution_count": 12,
   "id": "ad83ff41",
   "metadata": {
    "execution": {
     "iopub.execute_input": "2025-03-27T13:59:08.389366Z",
     "iopub.status.busy": "2025-03-27T13:59:08.388686Z",
     "iopub.status.idle": "2025-03-27T14:16:25.244971Z",
     "shell.execute_reply": "2025-03-27T14:16:25.243405Z"
    },
    "papermill": {
     "duration": 1037.003696,
     "end_time": "2025-03-27T14:16:25.247547",
     "exception": false,
     "start_time": "2025-03-27T13:59:08.243851",
     "status": "completed"
    },
    "tags": []
   },
   "outputs": [
    {
     "name": "stdout",
     "output_type": "stream",
     "text": [
      " Đang xử lý folder con: CAPE\n"
     ]
    },
    {
     "name": "stderr",
     "output_type": "stream",
     "text": [
      "Đang xử lý 2019/04: 100%|██████████| 30/30 [00:11<00:00,  2.60it/s]\n",
      "Đang xử lý 2019/10: 100%|██████████| 31/31 [00:11<00:00,  2.76it/s]\n",
      "Đang xử lý 2020/04: 100%|██████████| 30/30 [00:10<00:00,  2.81it/s]\n",
      "Đang xử lý 2020/10: 100%|██████████| 31/31 [00:11<00:00,  2.81it/s]\n"
     ]
    },
    {
     "name": "stdout",
     "output_type": "stream",
     "text": [
      " Đang xử lý folder con: CIN\n"
     ]
    },
    {
     "name": "stderr",
     "output_type": "stream",
     "text": [
      "Đang xử lý 2019/04: 100%|██████████| 30/30 [00:12<00:00,  2.34it/s]\n",
      "Đang xử lý 2019/10: 100%|██████████| 31/31 [00:10<00:00,  2.85it/s]\n",
      "Đang xử lý 2020/04: 100%|██████████| 30/30 [00:09<00:00,  3.02it/s]\n",
      "Đang xử lý 2020/10: 100%|██████████| 31/31 [00:09<00:00,  3.18it/s]\n"
     ]
    },
    {
     "name": "stdout",
     "output_type": "stream",
     "text": [
      " Đang xử lý folder con: EWSS\n"
     ]
    },
    {
     "name": "stderr",
     "output_type": "stream",
     "text": [
      "Đang xử lý 2019/04: 100%|██████████| 30/30 [00:10<00:00,  2.73it/s]\n",
      "Đang xử lý 2019/10: 100%|██████████| 31/31 [00:11<00:00,  2.69it/s]\n",
      "Đang xử lý 2020/04: 100%|██████████| 30/30 [00:11<00:00,  2.66it/s]\n",
      "Đang xử lý 2020/10: 100%|██████████| 31/31 [00:11<00:00,  2.78it/s]\n"
     ]
    },
    {
     "name": "stdout",
     "output_type": "stream",
     "text": [
      " Đang xử lý folder con: IE\n"
     ]
    },
    {
     "name": "stderr",
     "output_type": "stream",
     "text": [
      "Đang xử lý 2019/04: 100%|██████████| 30/30 [00:10<00:00,  2.76it/s]\n",
      "Đang xử lý 2019/10: 100%|██████████| 31/31 [00:11<00:00,  2.74it/s]\n",
      "Đang xử lý 2020/04: 100%|██████████| 30/30 [00:10<00:00,  2.76it/s]\n",
      "Đang xử lý 2020/10: 100%|██████████| 31/31 [00:11<00:00,  2.70it/s]\n"
     ]
    },
    {
     "name": "stdout",
     "output_type": "stream",
     "text": [
      " Đang xử lý folder con: ISOR\n"
     ]
    },
    {
     "name": "stderr",
     "output_type": "stream",
     "text": [
      "Đang xử lý 2019/04: 100%|██████████| 30/30 [00:10<00:00,  2.83it/s]\n",
      "Đang xử lý 2019/10: 100%|██████████| 31/31 [00:11<00:00,  2.75it/s]\n",
      "Đang xử lý 2020/04: 100%|██████████| 30/30 [00:11<00:00,  2.72it/s]\n",
      "Đang xử lý 2020/10: 100%|██████████| 31/31 [00:10<00:00,  2.86it/s]\n"
     ]
    },
    {
     "name": "stdout",
     "output_type": "stream",
     "text": [
      " Đang xử lý folder con: KX\n"
     ]
    },
    {
     "name": "stderr",
     "output_type": "stream",
     "text": [
      "Đang xử lý 2019/04: 100%|██████████| 30/30 [00:10<00:00,  2.74it/s]\n",
      "Đang xử lý 2019/10: 100%|██████████| 31/31 [00:11<00:00,  2.80it/s]\n",
      "Đang xử lý 2020/04: 100%|██████████| 30/30 [00:11<00:00,  2.71it/s]\n",
      "Đang xử lý 2020/10: 100%|██████████| 31/31 [00:11<00:00,  2.69it/s]\n"
     ]
    },
    {
     "name": "stdout",
     "output_type": "stream",
     "text": [
      " Đang xử lý folder con: PEV\n"
     ]
    },
    {
     "name": "stderr",
     "output_type": "stream",
     "text": [
      "Đang xử lý 2019/04: 100%|██████████| 30/30 [00:10<00:00,  2.85it/s]\n",
      "Đang xử lý 2019/10: 100%|██████████| 31/31 [00:11<00:00,  2.73it/s]\n",
      "Đang xử lý 2020/04: 100%|██████████| 30/30 [00:10<00:00,  2.81it/s]\n",
      "Đang xử lý 2020/10: 100%|██████████| 31/31 [00:11<00:00,  2.75it/s]\n"
     ]
    },
    {
     "name": "stdout",
     "output_type": "stream",
     "text": [
      " Đang xử lý folder con: R250\n"
     ]
    },
    {
     "name": "stderr",
     "output_type": "stream",
     "text": [
      "Đang xử lý 2019/04: 100%|██████████| 30/30 [00:11<00:00,  2.66it/s]\n",
      "Đang xử lý 2019/10: 100%|██████████| 31/31 [00:11<00:00,  2.66it/s]\n",
      "Đang xử lý 2020/04: 100%|██████████| 30/30 [00:11<00:00,  2.71it/s]\n",
      "Đang xử lý 2020/10: 100%|██████████| 31/31 [00:11<00:00,  2.68it/s]\n"
     ]
    },
    {
     "name": "stdout",
     "output_type": "stream",
     "text": [
      " Đang xử lý folder con: R500\n"
     ]
    },
    {
     "name": "stderr",
     "output_type": "stream",
     "text": [
      "Đang xử lý 2019/04: 100%|██████████| 30/30 [00:11<00:00,  2.63it/s]\n",
      "Đang xử lý 2019/10: 100%|██████████| 31/31 [00:11<00:00,  2.65it/s]\n",
      "Đang xử lý 2020/04: 100%|██████████| 30/30 [00:11<00:00,  2.72it/s]\n",
      "Đang xử lý 2020/10: 100%|██████████| 31/31 [00:11<00:00,  2.74it/s]\n"
     ]
    },
    {
     "name": "stdout",
     "output_type": "stream",
     "text": [
      " Đang xử lý folder con: R850\n"
     ]
    },
    {
     "name": "stderr",
     "output_type": "stream",
     "text": [
      "Đang xử lý 2019/04: 100%|██████████| 30/30 [00:11<00:00,  2.70it/s]\n",
      "Đang xử lý 2019/10: 100%|██████████| 31/31 [00:11<00:00,  2.63it/s]\n",
      "Đang xử lý 2020/04: 100%|██████████| 30/30 [00:10<00:00,  2.80it/s]\n",
      "Đang xử lý 2020/10: 100%|██████████| 31/31 [00:11<00:00,  2.72it/s]\n"
     ]
    },
    {
     "name": "stdout",
     "output_type": "stream",
     "text": [
      " Đang xử lý folder con: SLHF\n"
     ]
    },
    {
     "name": "stderr",
     "output_type": "stream",
     "text": [
      "Đang xử lý 2019/04: 100%|██████████| 30/30 [00:11<00:00,  2.68it/s]\n",
      "Đang xử lý 2019/10: 100%|██████████| 31/31 [00:11<00:00,  2.59it/s]\n",
      "Đang xử lý 2020/04: 100%|██████████| 30/30 [00:11<00:00,  2.63it/s]\n",
      "Đang xử lý 2020/10: 100%|██████████| 31/31 [00:11<00:00,  2.73it/s]\n"
     ]
    },
    {
     "name": "stdout",
     "output_type": "stream",
     "text": [
      " Đang xử lý folder con: SLOR\n"
     ]
    },
    {
     "name": "stderr",
     "output_type": "stream",
     "text": [
      "Đang xử lý 2019/04: 100%|██████████| 30/30 [00:10<00:00,  2.75it/s]\n",
      "Đang xử lý 2019/10: 100%|██████████| 31/31 [00:11<00:00,  2.62it/s]\n",
      "Đang xử lý 2020/04: 100%|██████████| 30/30 [00:11<00:00,  2.59it/s]\n",
      "Đang xử lý 2020/10: 100%|██████████| 31/31 [00:12<00:00,  2.51it/s]\n"
     ]
    },
    {
     "name": "stdout",
     "output_type": "stream",
     "text": [
      " Đang xử lý folder con: SSHF\n"
     ]
    },
    {
     "name": "stderr",
     "output_type": "stream",
     "text": [
      "Đang xử lý 2019/04: 100%|██████████| 30/30 [00:11<00:00,  2.72it/s]\n",
      "Đang xử lý 2019/10: 100%|██████████| 31/31 [00:11<00:00,  2.66it/s]\n",
      "Đang xử lý 2020/04: 100%|██████████| 30/30 [00:11<00:00,  2.60it/s]\n",
      "Đang xử lý 2020/10: 100%|██████████| 31/31 [00:11<00:00,  2.63it/s]\n"
     ]
    },
    {
     "name": "stdout",
     "output_type": "stream",
     "text": [
      " Đang xử lý folder con: TCLW\n"
     ]
    },
    {
     "name": "stderr",
     "output_type": "stream",
     "text": [
      "Đang xử lý 2019/04: 100%|██████████| 30/30 [00:11<00:00,  2.68it/s]\n",
      "Đang xử lý 2019/10: 100%|██████████| 31/31 [00:11<00:00,  2.72it/s]\n",
      "Đang xử lý 2020/04: 100%|██████████| 30/30 [00:11<00:00,  2.62it/s]\n",
      "Đang xử lý 2020/10: 100%|██████████| 31/31 [00:11<00:00,  2.69it/s]\n"
     ]
    },
    {
     "name": "stdout",
     "output_type": "stream",
     "text": [
      " Đang xử lý folder con: TCW\n"
     ]
    },
    {
     "name": "stderr",
     "output_type": "stream",
     "text": [
      "Đang xử lý 2019/04: 100%|██████████| 30/30 [00:11<00:00,  2.71it/s]\n",
      "Đang xử lý 2019/10: 100%|██████████| 31/31 [00:12<00:00,  2.56it/s]\n",
      "Đang xử lý 2020/04: 100%|██████████| 30/30 [00:12<00:00,  2.46it/s]\n",
      "Đang xử lý 2020/10: 100%|██████████| 31/31 [00:11<00:00,  2.63it/s]\n"
     ]
    },
    {
     "name": "stdout",
     "output_type": "stream",
     "text": [
      " Đang xử lý folder con: TCWV\n"
     ]
    },
    {
     "name": "stderr",
     "output_type": "stream",
     "text": [
      "Đang xử lý 2019/04: 100%|██████████| 30/30 [00:11<00:00,  2.62it/s]\n",
      "Đang xử lý 2019/10: 100%|██████████| 31/31 [00:11<00:00,  2.67it/s]\n",
      "Đang xử lý 2020/04: 100%|██████████| 30/30 [00:11<00:00,  2.64it/s]\n",
      "Đang xử lý 2020/10: 100%|██████████| 31/31 [00:11<00:00,  2.72it/s]\n"
     ]
    },
    {
     "name": "stdout",
     "output_type": "stream",
     "text": [
      " Đang xử lý folder con: U250\n"
     ]
    },
    {
     "name": "stderr",
     "output_type": "stream",
     "text": [
      "Đang xử lý 2019/04: 100%|██████████| 30/30 [00:11<00:00,  2.64it/s]\n",
      "Đang xử lý 2019/10: 100%|██████████| 31/31 [00:11<00:00,  2.70it/s]\n",
      "Đang xử lý 2020/04: 100%|██████████| 30/30 [00:11<00:00,  2.70it/s]\n",
      "Đang xử lý 2020/10: 100%|██████████| 31/31 [00:11<00:00,  2.73it/s]\n"
     ]
    },
    {
     "name": "stdout",
     "output_type": "stream",
     "text": [
      " Đang xử lý folder con: U850\n"
     ]
    },
    {
     "name": "stderr",
     "output_type": "stream",
     "text": [
      "Đang xử lý 2019/04: 100%|██████████| 30/30 [00:11<00:00,  2.69it/s]\n",
      "Đang xử lý 2019/10: 100%|██████████| 31/31 [00:11<00:00,  2.65it/s]\n",
      "Đang xử lý 2020/04: 100%|██████████| 30/30 [00:11<00:00,  2.72it/s]\n",
      "Đang xử lý 2020/10: 100%|██████████| 31/31 [00:11<00:00,  2.66it/s]\n"
     ]
    },
    {
     "name": "stdout",
     "output_type": "stream",
     "text": [
      " Đang xử lý folder con: V250\n"
     ]
    },
    {
     "name": "stderr",
     "output_type": "stream",
     "text": [
      "Đang xử lý 2019/04: 100%|██████████| 30/30 [00:11<00:00,  2.68it/s]\n",
      "Đang xử lý 2019/10: 100%|██████████| 31/31 [00:11<00:00,  2.59it/s]\n",
      "Đang xử lý 2020/04: 100%|██████████| 30/30 [00:11<00:00,  2.58it/s]\n",
      "Đang xử lý 2020/10: 100%|██████████| 31/31 [00:11<00:00,  2.69it/s]\n"
     ]
    },
    {
     "name": "stdout",
     "output_type": "stream",
     "text": [
      " Đang xử lý folder con: V850\n"
     ]
    },
    {
     "name": "stderr",
     "output_type": "stream",
     "text": [
      "Đang xử lý 2019/04: 100%|██████████| 30/30 [00:11<00:00,  2.68it/s]\n",
      "Đang xử lý 2019/10: 100%|██████████| 31/31 [00:11<00:00,  2.63it/s]\n",
      "Đang xử lý 2020/04: 100%|██████████| 30/30 [00:11<00:00,  2.62it/s]\n",
      "Đang xử lý 2020/10: 100%|██████████| 31/31 [00:11<00:00,  2.69it/s]\n"
     ]
    }
   ],
   "source": [
    "era5_root = \"/kaggle/input/dataai/DATA_SV/ERA5\"\n",
    "era5_data_dict = {}\n",
    "\n",
    "for subdir in sorted(os.listdir(era5_root)):\n",
    "    subdir_path = os.path.join(era5_root, subdir)\n",
    "    \n",
    "    if os.path.isdir(subdir_path): \n",
    "        print(f\" Đang xử lý folder con: {subdir}\")\n",
    "        era5_data_dict[subdir] = extract_data(subdir_path, option=2, coordinates=aws_valid_pixels)"
   ]
  },
  {
   "cell_type": "code",
   "execution_count": 13,
   "id": "de821d18",
   "metadata": {
    "execution": {
     "iopub.execute_input": "2025-03-27T14:16:25.790105Z",
     "iopub.status.busy": "2025-03-27T14:16:25.789688Z",
     "iopub.status.idle": "2025-03-27T14:16:25.795168Z",
     "shell.execute_reply": "2025-03-27T14:16:25.793722Z"
    },
    "papermill": {
     "duration": 0.274084,
     "end_time": "2025-03-27T14:16:25.796914",
     "exception": false,
     "start_time": "2025-03-27T14:16:25.522830",
     "status": "completed"
    },
    "tags": []
   },
   "outputs": [
    {
     "name": "stdout",
     "output_type": "stream",
     "text": [
      "dict_keys(['CAPE', 'CIN', 'EWSS', 'IE', 'ISOR', 'KX', 'PEV', 'R250', 'R500', 'R850', 'SLHF', 'SLOR', 'SSHF', 'TCLW', 'TCW', 'TCWV', 'U250', 'U850', 'V250', 'V850'])\n"
     ]
    }
   ],
   "source": [
    "print(era5_data_dict.keys()) "
   ]
  },
  {
   "cell_type": "code",
   "execution_count": 14,
   "id": "59bece49",
   "metadata": {
    "execution": {
     "iopub.execute_input": "2025-03-27T14:16:26.435360Z",
     "iopub.status.busy": "2025-03-27T14:16:26.434901Z",
     "iopub.status.idle": "2025-03-27T14:16:26.441262Z",
     "shell.execute_reply": "2025-03-27T14:16:26.439500Z"
    },
    "papermill": {
     "duration": 0.287099,
     "end_time": "2025-03-27T14:16:26.443527",
     "exception": false,
     "start_time": "2025-03-27T14:16:26.156428",
     "status": "completed"
    },
    "tags": []
   },
   "outputs": [
    {
     "name": "stdout",
     "output_type": "stream",
     "text": [
      "dict_keys(['B04B', 'B05B', 'B06B', 'B09B', 'B10B', 'B11B', 'B12B', 'B14B', 'B16B', 'I2B', 'I4B', 'IRB', 'VSB', 'WVB'])\n"
     ]
    }
   ],
   "source": [
    "print(hima_data_dict.keys())"
   ]
  },
  {
   "cell_type": "markdown",
   "id": "a9fa0cd1",
   "metadata": {
    "papermill": {
     "duration": 0.264695,
     "end_time": "2025-03-27T14:16:26.974893",
     "exception": false,
     "start_time": "2025-03-27T14:16:26.710198",
     "status": "completed"
    },
    "tags": []
   },
   "source": [
    "# Merge Data"
   ]
  },
  {
   "cell_type": "code",
   "execution_count": 15,
   "id": "41194654",
   "metadata": {
    "execution": {
     "iopub.execute_input": "2025-03-27T14:16:27.522635Z",
     "iopub.status.busy": "2025-03-27T14:16:27.522062Z",
     "iopub.status.idle": "2025-03-27T14:17:33.357107Z",
     "shell.execute_reply": "2025-03-27T14:17:33.355579Z"
    },
    "papermill": {
     "duration": 66.376917,
     "end_time": "2025-03-27T14:17:33.628115",
     "exception": false,
     "start_time": "2025-03-27T14:16:27.251198",
     "status": "completed"
    },
    "tags": []
   },
   "outputs": [
    {
     "name": "stdout",
     "output_type": "stream",
     "text": [
      "Đã lưu /kaggle/working/merged_data/merged_2019-04.csv\n",
      "Đã lưu /kaggle/working/merged_data/merged_2019-10.csv\n",
      "Đã lưu /kaggle/working/merged_data/merged_2020-04.csv\n",
      "Đã lưu /kaggle/working/merged_data/merged_2020-10.csv\n",
      "Done!\n"
     ]
    }
   ],
   "source": [
    "output_dir = \"/kaggle/working/merged_data\"\n",
    "os.makedirs(output_dir, exist_ok=True)\n",
    "\n",
    "for month in filtered_aws_data.keys():\n",
    "    df = filtered_aws_data[month]\n",
    "\n",
    "    # Merge với Himawari\n",
    "    for band_name, band_dict in hima_data_dict.items():\n",
    "        if month in band_dict:\n",
    "            df = df.merge(band_dict[month], on=[\"datetime\", \"row\", \"col\"], how=\"left\", suffixes=(\"\", f\"_{band_name}\"))\n",
    "    \n",
    "    # Merge với ERA5\n",
    "    for var_name, era5_dict in era5_data_dict.items():\n",
    "        if month in era5_dict:\n",
    "            df = df.merge(era5_dict[month], on=[\"datetime\", \"row\", \"col\"], how=\"left\", suffixes=(\"\", f\"_{var_name}\"))\n",
    "\n",
    "    output_path = os.path.join(output_dir, f\"merged_{month}.csv\")\n",
    "    df.to_csv(output_path, index=False)\n",
    "    print(f\"Đã lưu {output_path}\")\n",
    "\n",
    "print(\"Done!\")\n"
   ]
  }
 ],
 "metadata": {
  "kaggle": {
   "accelerator": "none",
   "dataSources": [
    {
     "datasetId": 6946261,
     "sourceId": 11136735,
     "sourceType": "datasetVersion"
    },
    {
     "datasetId": 6982232,
     "sourceId": 11185307,
     "sourceType": "datasetVersion"
    }
   ],
   "dockerImageVersionId": 30919,
   "isGpuEnabled": false,
   "isInternetEnabled": true,
   "language": "python",
   "sourceType": "notebook"
  },
  "kernelspec": {
   "display_name": "Python 3",
   "language": "python",
   "name": "python3"
  },
  "language_info": {
   "codemirror_mode": {
    "name": "ipython",
    "version": 3
   },
   "file_extension": ".py",
   "mimetype": "text/x-python",
   "name": "python",
   "nbconvert_exporter": "python",
   "pygments_lexer": "ipython3",
   "version": "3.10.12"
  },
  "papermill": {
   "default_parameters": {},
   "duration": 2344.111007,
   "end_time": "2025-03-27T14:17:35.015034",
   "environment_variables": {},
   "exception": null,
   "input_path": "__notebook__.ipynb",
   "output_path": "__notebook__.ipynb",
   "parameters": {},
   "start_time": "2025-03-27T13:38:30.904027",
   "version": "2.6.0"
  }
 },
 "nbformat": 4,
 "nbformat_minor": 5
}
