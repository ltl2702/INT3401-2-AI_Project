{
 "cells": [
  {
   "cell_type": "code",
   "execution_count": 1,
   "id": "bdc14884",
   "metadata": {
    "_cell_guid": "b1076dfc-b9ad-4769-8c92-a6c4dae69d19",
    "_uuid": "8f2839f25d086af736a60e9eeb907d3b93b6e0e5",
    "execution": {
     "iopub.execute_input": "2025-05-04T10:04:11.770930Z",
     "iopub.status.busy": "2025-05-04T10:04:11.770611Z",
     "iopub.status.idle": "2025-05-04T10:04:15.552900Z",
     "shell.execute_reply": "2025-05-04T10:04:15.551979Z"
    },
    "papermill": {
     "duration": 3.791618,
     "end_time": "2025-05-04T10:04:15.554693",
     "exception": false,
     "start_time": "2025-05-04T10:04:11.763075",
     "status": "completed"
    },
    "tags": []
   },
   "outputs": [],
   "source": [
    "import pandas as pd\n",
    "import numpy as np\n",
    "import matplotlib.pyplot as plt\n",
    "import matplotlib.gridspec as gridspec\n",
    "import seaborn as sns\n",
    "import warnings\n",
    "warnings.simplefilter('ignore', FutureWarning)"
   ]
  },
  {
   "cell_type": "code",
   "execution_count": 2,
   "id": "1b08c94f",
   "metadata": {
    "execution": {
     "iopub.execute_input": "2025-05-04T10:04:15.567583Z",
     "iopub.status.busy": "2025-05-04T10:04:15.567135Z",
     "iopub.status.idle": "2025-05-04T10:04:21.085097Z",
     "shell.execute_reply": "2025-05-04T10:04:21.084096Z"
    },
    "papermill": {
     "duration": 5.52589,
     "end_time": "2025-05-04T10:04:21.086785",
     "exception": false,
     "start_time": "2025-05-04T10:04:15.560895",
     "status": "completed"
    },
    "tags": []
   },
   "outputs": [
    {
     "name": "stdout",
     "output_type": "stream",
     "text": [
      "Requirement already satisfied: scikit-learn==1.2.2 in /usr/local/lib/python3.11/dist-packages (1.2.2)\r\n",
      "Collecting imbalanced-learn==0.10.1\r\n",
      "  Downloading imbalanced_learn-0.10.1-py3-none-any.whl.metadata (8.2 kB)\r\n",
      "Requirement already satisfied: numpy>=1.17.3 in /usr/local/lib/python3.11/dist-packages (from scikit-learn==1.2.2) (1.26.4)\r\n",
      "Requirement already satisfied: scipy>=1.3.2 in /usr/local/lib/python3.11/dist-packages (from scikit-learn==1.2.2) (1.15.2)\r\n",
      "Requirement already satisfied: joblib>=1.1.1 in /usr/local/lib/python3.11/dist-packages (from scikit-learn==1.2.2) (1.4.2)\r\n",
      "Requirement already satisfied: threadpoolctl>=2.0.0 in /usr/local/lib/python3.11/dist-packages (from scikit-learn==1.2.2) (3.6.0)\r\n",
      "Requirement already satisfied: mkl_fft in /usr/local/lib/python3.11/dist-packages (from numpy>=1.17.3->scikit-learn==1.2.2) (1.3.8)\r\n",
      "Requirement already satisfied: mkl_random in /usr/local/lib/python3.11/dist-packages (from numpy>=1.17.3->scikit-learn==1.2.2) (1.2.4)\r\n",
      "Requirement already satisfied: mkl_umath in /usr/local/lib/python3.11/dist-packages (from numpy>=1.17.3->scikit-learn==1.2.2) (0.1.1)\r\n",
      "Requirement already satisfied: mkl in /usr/local/lib/python3.11/dist-packages (from numpy>=1.17.3->scikit-learn==1.2.2) (2025.1.0)\r\n",
      "Requirement already satisfied: tbb4py in /usr/local/lib/python3.11/dist-packages (from numpy>=1.17.3->scikit-learn==1.2.2) (2022.1.0)\r\n",
      "Requirement already satisfied: mkl-service in /usr/local/lib/python3.11/dist-packages (from numpy>=1.17.3->scikit-learn==1.2.2) (2.4.1)\r\n",
      "Requirement already satisfied: intel-openmp<2026,>=2024 in /usr/local/lib/python3.11/dist-packages (from mkl->numpy>=1.17.3->scikit-learn==1.2.2) (2024.2.0)\r\n",
      "Requirement already satisfied: tbb==2022.* in /usr/local/lib/python3.11/dist-packages (from mkl->numpy>=1.17.3->scikit-learn==1.2.2) (2022.1.0)\r\n",
      "Requirement already satisfied: tcmlib==1.* in /usr/local/lib/python3.11/dist-packages (from tbb==2022.*->mkl->numpy>=1.17.3->scikit-learn==1.2.2) (1.2.0)\r\n",
      "Requirement already satisfied: intel-cmplr-lib-rt in /usr/local/lib/python3.11/dist-packages (from mkl_umath->numpy>=1.17.3->scikit-learn==1.2.2) (2024.2.0)\r\n",
      "Requirement already satisfied: intel-cmplr-lib-ur==2024.2.0 in /usr/local/lib/python3.11/dist-packages (from intel-openmp<2026,>=2024->mkl->numpy>=1.17.3->scikit-learn==1.2.2) (2024.2.0)\r\n",
      "Downloading imbalanced_learn-0.10.1-py3-none-any.whl (226 kB)\r\n",
      "\u001b[2K   \u001b[90m━━━━━━━━━━━━━━━━━━━━━━━━━━━━━━━━━━━━━━━━\u001b[0m \u001b[32m226.0/226.0 kB\u001b[0m \u001b[31m8.2 MB/s\u001b[0m eta \u001b[36m0:00:00\u001b[0m\r\n",
      "\u001b[?25hInstalling collected packages: imbalanced-learn\r\n",
      "  Attempting uninstall: imbalanced-learn\r\n",
      "    Found existing installation: imbalanced-learn 0.13.0\r\n",
      "    Uninstalling imbalanced-learn-0.13.0:\r\n",
      "      Successfully uninstalled imbalanced-learn-0.13.0\r\n",
      "Successfully installed imbalanced-learn-0.10.1\r\n"
     ]
    }
   ],
   "source": [
    "!pip install scikit-learn==1.2.2 imbalanced-learn==0.10.1"
   ]
  },
  {
   "cell_type": "markdown",
   "id": "ddd053d1",
   "metadata": {
    "papermill": {
     "duration": 0.005565,
     "end_time": "2025-05-04T10:04:21.099848",
     "exception": false,
     "start_time": "2025-05-04T10:04:21.094283",
     "status": "completed"
    },
    "tags": []
   },
   "source": [
    "# Data đã xử lý"
   ]
  },
  {
   "cell_type": "code",
   "execution_count": 3,
   "id": "59151b13",
   "metadata": {
    "execution": {
     "iopub.execute_input": "2025-05-04T10:04:21.113169Z",
     "iopub.status.busy": "2025-05-04T10:04:21.112781Z",
     "iopub.status.idle": "2025-05-04T10:04:30.041947Z",
     "shell.execute_reply": "2025-05-04T10:04:30.041136Z"
    },
    "papermill": {
     "duration": 8.93792,
     "end_time": "2025-05-04T10:04:30.043641",
     "exception": false,
     "start_time": "2025-05-04T10:04:21.105721",
     "status": "completed"
    },
    "tags": []
   },
   "outputs": [],
   "source": [
    "df_april = pd.read_csv('/kaggle/input/clean-aws-month/final_data/filled_data_april.csv')\n",
    "df_october = pd.read_csv('/kaggle/input/clean-aws-month/final_data/filled_data_october.csv')"
   ]
  },
  {
   "cell_type": "code",
   "execution_count": 4,
   "id": "1264dc64",
   "metadata": {
    "execution": {
     "iopub.execute_input": "2025-05-04T10:04:30.057579Z",
     "iopub.status.busy": "2025-05-04T10:04:30.057262Z",
     "iopub.status.idle": "2025-05-04T10:04:30.098023Z",
     "shell.execute_reply": "2025-05-04T10:04:30.097096Z"
    },
    "papermill": {
     "duration": 0.049574,
     "end_time": "2025-05-04T10:04:30.099575",
     "exception": false,
     "start_time": "2025-05-04T10:04:30.050001",
     "status": "completed"
    },
    "tags": []
   },
   "outputs": [
    {
     "data": {
      "text/html": [
       "<div>\n",
       "<style scoped>\n",
       "    .dataframe tbody tr th:only-of-type {\n",
       "        vertical-align: middle;\n",
       "    }\n",
       "\n",
       "    .dataframe tbody tr th {\n",
       "        vertical-align: top;\n",
       "    }\n",
       "\n",
       "    .dataframe thead th {\n",
       "        text-align: right;\n",
       "    }\n",
       "</style>\n",
       "<table border=\"1\" class=\"dataframe\">\n",
       "  <thead>\n",
       "    <tr style=\"text-align: right;\">\n",
       "      <th></th>\n",
       "      <th>datetime</th>\n",
       "      <th>row</th>\n",
       "      <th>col</th>\n",
       "      <th>AWS</th>\n",
       "      <th>CAPE</th>\n",
       "      <th>EWSS</th>\n",
       "      <th>IE</th>\n",
       "      <th>ISOR</th>\n",
       "      <th>KX</th>\n",
       "      <th>PEV</th>\n",
       "      <th>...</th>\n",
       "      <th>B09B</th>\n",
       "      <th>B10B</th>\n",
       "      <th>B11B</th>\n",
       "      <th>B12B</th>\n",
       "      <th>B14B</th>\n",
       "      <th>B16B</th>\n",
       "      <th>I2B</th>\n",
       "      <th>I4B</th>\n",
       "      <th>IRB</th>\n",
       "      <th>WVB</th>\n",
       "    </tr>\n",
       "  </thead>\n",
       "  <tbody>\n",
       "    <tr>\n",
       "      <th>0</th>\n",
       "      <td>2019-04-01 00:00:00</td>\n",
       "      <td>0</td>\n",
       "      <td>114</td>\n",
       "      <td>0.0</td>\n",
       "      <td>446.125</td>\n",
       "      <td>-641.113281</td>\n",
       "      <td>-0.000014</td>\n",
       "      <td>0.588248</td>\n",
       "      <td>37.360176</td>\n",
       "      <td>-0.000016</td>\n",
       "      <td>...</td>\n",
       "      <td>253.877518</td>\n",
       "      <td>261.638123</td>\n",
       "      <td>281.487091</td>\n",
       "      <td>260.333344</td>\n",
       "      <td>285.000702</td>\n",
       "      <td>269.992981</td>\n",
       "      <td>281.766937</td>\n",
       "      <td>286.364563</td>\n",
       "      <td>285.240051</td>\n",
       "      <td>244.275345</td>\n",
       "    </tr>\n",
       "    <tr>\n",
       "      <th>1</th>\n",
       "      <td>2019-04-01 02:00:00</td>\n",
       "      <td>0</td>\n",
       "      <td>114</td>\n",
       "      <td>9.2</td>\n",
       "      <td>519.750</td>\n",
       "      <td>-201.390625</td>\n",
       "      <td>-0.000037</td>\n",
       "      <td>0.588248</td>\n",
       "      <td>36.553154</td>\n",
       "      <td>-0.000070</td>\n",
       "      <td>...</td>\n",
       "      <td>250.888718</td>\n",
       "      <td>253.995895</td>\n",
       "      <td>261.295807</td>\n",
       "      <td>247.252029</td>\n",
       "      <td>262.435974</td>\n",
       "      <td>255.327316</td>\n",
       "      <td>261.579437</td>\n",
       "      <td>283.843597</td>\n",
       "      <td>262.818237</td>\n",
       "      <td>243.474976</td>\n",
       "    </tr>\n",
       "    <tr>\n",
       "      <th>2</th>\n",
       "      <td>2019-04-01 03:00:00</td>\n",
       "      <td>0</td>\n",
       "      <td>114</td>\n",
       "      <td>7.4</td>\n",
       "      <td>447.500</td>\n",
       "      <td>-80.894531</td>\n",
       "      <td>-0.000043</td>\n",
       "      <td>0.588248</td>\n",
       "      <td>34.931915</td>\n",
       "      <td>-0.000094</td>\n",
       "      <td>...</td>\n",
       "      <td>251.353149</td>\n",
       "      <td>255.523193</td>\n",
       "      <td>268.688995</td>\n",
       "      <td>252.243011</td>\n",
       "      <td>269.938660</td>\n",
       "      <td>259.248505</td>\n",
       "      <td>268.137817</td>\n",
       "      <td>288.332275</td>\n",
       "      <td>269.414612</td>\n",
       "      <td>243.472137</td>\n",
       "    </tr>\n",
       "    <tr>\n",
       "      <th>3</th>\n",
       "      <td>2019-04-01 04:00:00</td>\n",
       "      <td>0</td>\n",
       "      <td>114</td>\n",
       "      <td>0.0</td>\n",
       "      <td>421.500</td>\n",
       "      <td>-33.917969</td>\n",
       "      <td>-0.000043</td>\n",
       "      <td>0.588248</td>\n",
       "      <td>32.517395</td>\n",
       "      <td>-0.000102</td>\n",
       "      <td>...</td>\n",
       "      <td>253.576904</td>\n",
       "      <td>259.337555</td>\n",
       "      <td>277.587189</td>\n",
       "      <td>257.868683</td>\n",
       "      <td>279.395111</td>\n",
       "      <td>265.641571</td>\n",
       "      <td>276.697174</td>\n",
       "      <td>303.794434</td>\n",
       "      <td>280.188019</td>\n",
       "      <td>244.486572</td>\n",
       "    </tr>\n",
       "    <tr>\n",
       "      <th>4</th>\n",
       "      <td>2019-04-01 05:00:00</td>\n",
       "      <td>0</td>\n",
       "      <td>114</td>\n",
       "      <td>0.0</td>\n",
       "      <td>435.625</td>\n",
       "      <td>11.640625</td>\n",
       "      <td>-0.000039</td>\n",
       "      <td>0.588248</td>\n",
       "      <td>31.718704</td>\n",
       "      <td>-0.000118</td>\n",
       "      <td>...</td>\n",
       "      <td>252.470215</td>\n",
       "      <td>256.889984</td>\n",
       "      <td>267.289856</td>\n",
       "      <td>251.395325</td>\n",
       "      <td>268.833862</td>\n",
       "      <td>260.088013</td>\n",
       "      <td>267.634430</td>\n",
       "      <td>295.567719</td>\n",
       "      <td>269.526978</td>\n",
       "      <td>244.371689</td>\n",
       "    </tr>\n",
       "  </tbody>\n",
       "</table>\n",
       "<p>5 rows × 33 columns</p>\n",
       "</div>"
      ],
      "text/plain": [
       "              datetime  row  col  AWS     CAPE        EWSS        IE  \\\n",
       "0  2019-04-01 00:00:00    0  114  0.0  446.125 -641.113281 -0.000014   \n",
       "1  2019-04-01 02:00:00    0  114  9.2  519.750 -201.390625 -0.000037   \n",
       "2  2019-04-01 03:00:00    0  114  7.4  447.500  -80.894531 -0.000043   \n",
       "3  2019-04-01 04:00:00    0  114  0.0  421.500  -33.917969 -0.000043   \n",
       "4  2019-04-01 05:00:00    0  114  0.0  435.625   11.640625 -0.000039   \n",
       "\n",
       "       ISOR         KX       PEV  ...        B09B        B10B        B11B  \\\n",
       "0  0.588248  37.360176 -0.000016  ...  253.877518  261.638123  281.487091   \n",
       "1  0.588248  36.553154 -0.000070  ...  250.888718  253.995895  261.295807   \n",
       "2  0.588248  34.931915 -0.000094  ...  251.353149  255.523193  268.688995   \n",
       "3  0.588248  32.517395 -0.000102  ...  253.576904  259.337555  277.587189   \n",
       "4  0.588248  31.718704 -0.000118  ...  252.470215  256.889984  267.289856   \n",
       "\n",
       "         B12B        B14B        B16B         I2B         I4B         IRB  \\\n",
       "0  260.333344  285.000702  269.992981  281.766937  286.364563  285.240051   \n",
       "1  247.252029  262.435974  255.327316  261.579437  283.843597  262.818237   \n",
       "2  252.243011  269.938660  259.248505  268.137817  288.332275  269.414612   \n",
       "3  257.868683  279.395111  265.641571  276.697174  303.794434  280.188019   \n",
       "4  251.395325  268.833862  260.088013  267.634430  295.567719  269.526978   \n",
       "\n",
       "          WVB  \n",
       "0  244.275345  \n",
       "1  243.474976  \n",
       "2  243.472137  \n",
       "3  244.486572  \n",
       "4  244.371689  \n",
       "\n",
       "[5 rows x 33 columns]"
      ]
     },
     "execution_count": 4,
     "metadata": {},
     "output_type": "execute_result"
    }
   ],
   "source": [
    "df_april.head()"
   ]
  },
  {
   "cell_type": "markdown",
   "id": "61d85721",
   "metadata": {
    "papermill": {
     "duration": 0.006101,
     "end_time": "2025-05-04T10:04:30.112240",
     "exception": false,
     "start_time": "2025-05-04T10:04:30.106139",
     "status": "completed"
    },
    "tags": []
   },
   "source": [
    "# Feature đã chọn dựa trên phương án 1\n",
    "- T4:  CAPE, KX, R500, R850, TCLW, TCW, U250, U850, V250, V850, B10B, B11B, B14B, I2B, I4B, IRB, WVB\n",
    "- T10:  EWSS, KX, PEV, R250, R500, R850, SSHF, TCLW, TCW, U250, U850, V250, V850, B11B,  B14B, I4B, IRB"
   ]
  },
  {
   "cell_type": "code",
   "execution_count": 5,
   "id": "71b7f100",
   "metadata": {
    "execution": {
     "iopub.execute_input": "2025-05-04T10:04:30.125976Z",
     "iopub.status.busy": "2025-05-04T10:04:30.125647Z",
     "iopub.status.idle": "2025-05-04T10:04:30.130276Z",
     "shell.execute_reply": "2025-05-04T10:04:30.129488Z"
    },
    "papermill": {
     "duration": 0.013223,
     "end_time": "2025-05-04T10:04:30.131691",
     "exception": false,
     "start_time": "2025-05-04T10:04:30.118468",
     "status": "completed"
    },
    "tags": []
   },
   "outputs": [],
   "source": [
    "features_april = ['CAPE', 'KX', 'R500', 'R850', 'TCLW', 'TCW', 'U250', 'U850', 'V250', 'V850', 'B10B', 'B11B', 'B14B', 'I2B', 'I4B', 'IRB', 'WVB']\n",
    "features_october = ['EWSS', 'KX', 'PEV', 'R250', 'R500', 'R850', 'SSHF', 'TCLW', 'TCW', 'U250', 'U850', 'V250', 'V850', 'B11B', 'B14B', 'I4B', 'IRB']"
   ]
  },
  {
   "cell_type": "markdown",
   "id": "928aec1b",
   "metadata": {
    "papermill": {
     "duration": 0.005963,
     "end_time": "2025-05-04T10:04:30.144283",
     "exception": false,
     "start_time": "2025-05-04T10:04:30.138320",
     "status": "completed"
    },
    "tags": []
   },
   "source": [
    "# Chia train test theo thời gian"
   ]
  },
  {
   "cell_type": "code",
   "execution_count": 6,
   "id": "ba2e17fb",
   "metadata": {
    "execution": {
     "iopub.execute_input": "2025-05-04T10:04:30.158338Z",
     "iopub.status.busy": "2025-05-04T10:04:30.157980Z",
     "iopub.status.idle": "2025-05-04T10:04:30.723858Z",
     "shell.execute_reply": "2025-05-04T10:04:30.722826Z"
    },
    "papermill": {
     "duration": 0.575264,
     "end_time": "2025-05-04T10:04:30.725868",
     "exception": false,
     "start_time": "2025-05-04T10:04:30.150604",
     "status": "completed"
    },
    "tags": []
   },
   "outputs": [
    {
     "name": "stdout",
     "output_type": "stream",
     "text": [
      "T4:\n",
      "2020-04-06 04:00:00\n",
      "2020-04-13 05:00:00\n",
      "T10:\n",
      "2019-10-07 11:00:00\n",
      "2019-10-07 12:00:00\n",
      "2019-10-07 13:00:00\n",
      "2019-10-07 14:00:00\n",
      "2019-10-07 16:00:00\n",
      "2019-10-08 20:00:00\n",
      "2019-10-08 21:00:00\n",
      "2019-10-08 22:00:00\n",
      "2019-10-08 23:00:00\n",
      "2019-10-09 00:00:00\n",
      "2019-10-09 01:00:00\n",
      "2019-10-09 02:00:00\n",
      "2019-10-09 18:00:00\n",
      "2019-10-09 19:00:00\n",
      "2019-10-09 20:00:00\n",
      "2019-10-09 21:00:00\n",
      "2019-10-09 22:00:00\n",
      "2019-10-09 23:00:00\n",
      "2019-10-10 00:00:00\n",
      "2019-10-10 03:00:00\n",
      "2019-10-10 04:00:00\n",
      "2019-10-10 05:00:00\n",
      "2019-10-10 06:00:00\n",
      "2019-10-10 07:00:00\n",
      "2019-10-15 13:00:00\n",
      "2019-10-15 16:00:00\n",
      "2019-10-15 18:00:00\n",
      "2019-10-15 19:00:00\n",
      "2019-10-15 20:00:00\n",
      "2019-10-15 21:00:00\n",
      "2019-10-16 02:00:00\n",
      "2019-10-16 03:00:00\n",
      "2019-10-16 04:00:00\n",
      "2019-10-16 05:00:00\n",
      "2019-10-16 18:00:00\n",
      "2019-10-16 20:00:00\n",
      "2019-10-16 21:00:00\n",
      "2019-10-16 22:00:00\n",
      "2019-10-16 23:00:00\n",
      "2019-10-17 00:00:00\n",
      "2019-10-17 01:00:00\n",
      "2019-10-17 18:00:00\n",
      "2019-10-17 19:00:00\n",
      "2019-10-17 20:00:00\n",
      "2019-10-17 21:00:00\n",
      "2019-10-17 22:00:00\n",
      "2019-10-17 23:00:00\n",
      "2019-10-18 00:00:00\n",
      "2019-10-18 01:00:00\n",
      "2019-10-18 02:00:00\n",
      "2019-10-18 03:00:00\n",
      "2019-10-18 18:00:00\n",
      "2019-10-18 19:00:00\n",
      "2019-10-18 20:00:00\n",
      "2019-10-18 21:00:00\n",
      "2019-10-18 22:00:00\n",
      "2019-10-18 23:00:00\n",
      "2019-10-19 00:00:00\n",
      "2019-10-19 18:00:00\n",
      "2019-10-19 19:00:00\n",
      "2019-10-19 20:00:00\n",
      "2019-10-19 21:00:00\n",
      "2019-10-19 22:00:00\n",
      "2019-10-19 23:00:00\n",
      "2019-10-20 00:00:00\n",
      "2019-10-20 01:00:00\n",
      "2019-10-20 02:00:00\n",
      "2019-10-20 03:00:00\n",
      "2019-10-20 04:00:00\n",
      "2019-10-20 05:00:00\n",
      "2019-10-20 06:00:00\n",
      "2019-10-20 07:00:00\n",
      "2019-10-20 08:00:00\n",
      "2019-10-20 09:00:00\n",
      "2019-10-20 11:00:00\n",
      "2019-10-20 12:00:00\n",
      "2019-10-20 13:00:00\n",
      "2019-10-20 14:00:00\n",
      "2019-10-20 15:00:00\n",
      "2019-10-20 16:00:00\n",
      "2019-10-20 17:00:00\n",
      "2019-10-20 18:00:00\n",
      "2019-10-20 19:00:00\n",
      "2019-10-20 20:00:00\n",
      "2019-10-20 21:00:00\n",
      "2019-10-20 22:00:00\n",
      "2019-10-20 23:00:00\n",
      "2019-10-21 00:00:00\n",
      "2019-10-21 01:00:00\n",
      "2019-10-23 18:00:00\n",
      "2019-10-23 19:00:00\n",
      "2019-10-23 20:00:00\n",
      "2019-10-23 21:00:00\n",
      "2019-10-23 22:00:00\n",
      "2019-10-26 19:00:00\n",
      "2019-10-26 20:00:00\n",
      "2019-10-26 21:00:00\n",
      "2019-10-26 22:00:00\n",
      "2019-10-26 23:00:00\n",
      "2019-10-27 00:00:00\n",
      "2019-10-27 01:00:00\n",
      "2019-10-27 02:00:00\n",
      "2019-10-27 03:00:00\n",
      "2019-10-27 04:00:00\n",
      "2019-10-27 05:00:00\n",
      "2019-10-27 06:00:00\n",
      "2019-10-27 07:00:00\n",
      "2019-10-27 08:00:00\n",
      "2019-10-27 09:00:00\n",
      "2019-10-29 14:00:00\n",
      "2019-10-29 18:00:00\n",
      "2019-10-29 19:00:00\n",
      "2019-10-29 20:00:00\n",
      "2019-10-29 21:00:00\n",
      "2019-10-29 22:00:00\n",
      "2019-10-29 23:00:00\n",
      "2019-10-30 00:00:00\n",
      "2020-10-27 15:00:00\n",
      "2020-10-27 16:00:00\n"
     ]
    }
   ],
   "source": [
    "def check_missing_hours(df, month):\n",
    "    df['datetime'] = pd.to_datetime(df['datetime']) \n",
    "    df = df[df['datetime'].dt.month == month].copy()\n",
    "\n",
    "    all_dates = df['datetime'].dt.date.unique()\n",
    "    all_expected_hours = []\n",
    "    for date in all_dates:\n",
    "        hours = pd.date_range(f\"{date} 00:00:00\", f\"{date} 23:00:00\", freq=\"H\")\n",
    "        all_expected_hours.extend(hours)\n",
    "    \n",
    "    expected_df = pd.DataFrame(all_expected_hours, columns=[\"datetime\"])\n",
    "    missing_times = expected_df[~expected_df['datetime'].isin(df['datetime'])]\n",
    "    return missing_times\n",
    "\n",
    "missing_april = check_missing_hours(df_april, 4)\n",
    "missing_october = check_missing_hours(df_october, 10)\n",
    "\n",
    "print(\"T4:\")\n",
    "print(missing_april['datetime'].dt.strftime('%Y-%m-%d %H:%M:%S').to_string(index=False))\n",
    "\n",
    "print(\"T10:\")\n",
    "print(missing_october['datetime'].dt.strftime('%Y-%m-%d %H:%M:%S').to_string(index=False))\n"
   ]
  },
  {
   "cell_type": "code",
   "execution_count": 7,
   "id": "20d636bb",
   "metadata": {
    "execution": {
     "iopub.execute_input": "2025-05-04T10:04:30.739930Z",
     "iopub.status.busy": "2025-05-04T10:04:30.739625Z",
     "iopub.status.idle": "2025-05-04T10:04:31.270657Z",
     "shell.execute_reply": "2025-05-04T10:04:31.269714Z"
    },
    "papermill": {
     "duration": 0.539826,
     "end_time": "2025-05-04T10:04:31.272173",
     "exception": false,
     "start_time": "2025-05-04T10:04:30.732347",
     "status": "completed"
    },
    "tags": []
   },
   "outputs": [
    {
     "data": {
      "image/png": "[encoded data removed]",
      "text/plain": [
       "<Figure size 1600x800 with 2 Axes>"
      ]
     },
     "metadata": {},
     "output_type": "display_data"
    }
   ],
   "source": [
    "def create_missing_hours_heatmap(missing_times, month_name):\n",
    "    missing_times['Year'] = missing_times['datetime'].dt.year\n",
    "    missing_times['Month'] = missing_times['datetime'].dt.month\n",
    "    missing_times['Day'] = missing_times['datetime'].dt.day\n",
    "    missing_times['Hour'] = missing_times['datetime'].dt.hour\n",
    "    \n",
    "    missing_counts = missing_times.groupby(['Year', 'Month', 'Day']).size().reset_index(name='Missing_Hours')\n",
    "\n",
    "    pivot_data = missing_counts.pivot_table(\n",
    "        index=['Year', 'Month'], columns='Day', values='Missing_Hours', fill_value=0\n",
    "    )\n",
    "    \n",
    "    pivot_data.index = [f'{year} - Tháng {month}' for year, month in pivot_data.index]\n",
    "\n",
    "    plt.figure(figsize=(16, 8))\n",
    "    sns.heatmap(pivot_data, cmap='YlGnBu', annot=True, fmt='g', linewidths=0.5, square=True, vmin=0, vmax=24)\n",
    "    plt.ylabel('Năm - Tháng', fontsize=12)\n",
    "    plt.show()\n",
    "\n",
    "create_missing_hours_heatmap(missing_october, \"Tháng 10\")"
   ]
  },
  {
   "cell_type": "markdown",
   "id": "2b2cdc5a",
   "metadata": {
    "papermill": {
     "duration": 0.007649,
     "end_time": "2025-05-04T10:04:31.287161",
     "exception": false,
     "start_time": "2025-05-04T10:04:31.279512",
     "status": "completed"
    },
    "tags": []
   },
   "source": [
    "- Tháng 4 thiếu giờ ở ngày 2020-04-06 và 2020-04-13\n",
    "- Tháng 10 thiếu giờ chủ yếu ở năm 2019 trong ngày 7,8,9,19,15-21,23,26,27,29,30\n",
    "\n",
    "  => quyết định chia tập train từ 4/4/2019 đến 28/4/2019 và 4/4/2020 đến 28/4/2020, tập test là những ngày còn lại\n",
    " -  tương tự cho tháng 10"
   ]
  },
  {
   "cell_type": "code",
   "execution_count": 8,
   "id": "35c73955",
   "metadata": {
    "execution": {
     "iopub.execute_input": "2025-05-04T10:04:31.302229Z",
     "iopub.status.busy": "2025-05-04T10:04:31.301857Z",
     "iopub.status.idle": "2025-05-04T10:04:31.684861Z",
     "shell.execute_reply": "2025-05-04T10:04:31.683755Z"
    },
    "papermill": {
     "duration": 0.392404,
     "end_time": "2025-05-04T10:04:31.686283",
     "exception": false,
     "start_time": "2025-05-04T10:04:31.293879",
     "status": "completed"
    },
    "tags": []
   },
   "outputs": [
    {
     "name": "stdout",
     "output_type": "stream",
     "text": [
      "Tháng 4 - Train: (253767, 33)\n",
      "Tháng 4 - Test: (52079, 33)\n",
      "Tháng 10 - Train: (281128, 33)\n",
      "Tháng 10 - Test: (70692, 33)\n"
     ]
    }
   ],
   "source": [
    "def split_data_by_multiple_ranges(df, train_ranges):\n",
    "    train_mask = False\n",
    "    for start, end in train_ranges:\n",
    "        train_mask |= (df['datetime'] >= start) & (df['datetime'] < end)\n",
    "    train_df = df[train_mask]\n",
    "    test_df = df[~train_mask]\n",
    "    return train_df, test_df\n",
    "\n",
    "def convert_rain_label(df):\n",
    "    df['AWS'] = df['AWS'].apply(lambda x: 1 if x > 0 else 0)\n",
    "    return df\n",
    "\n",
    "df_april = convert_rain_label(df_april)\n",
    "df_october = convert_rain_label(df_october)\n",
    "\n",
    "train_ranges_april = [(\"2019-04-04\", \"2019-04-29\"), (\"2020-04-04\", \"2020-04-29\")]\n",
    "train_ranges_october = [(\"2019-10-04\", \"2019-10-29\"), (\"2020-10-04\", \"2020-10-29\")]\n",
    "\n",
    "train_april, test_april = split_data_by_multiple_ranges(df_april, train_ranges_april)\n",
    "train_october, test_october = split_data_by_multiple_ranges(df_october, train_ranges_october)\n",
    "\n",
    "print(f\"Tháng 4 - Train: {train_april.shape}\")\n",
    "print(f\"Tháng 4 - Test: {test_april.shape}\")\n",
    "print(f\"Tháng 10 - Train: {train_october.shape}\")\n",
    "print(f\"Tháng 10 - Test: {test_october.shape}\")\n"
   ]
  },
  {
   "cell_type": "code",
   "execution_count": 9,
   "id": "5fbb2cb3",
   "metadata": {
    "execution": {
     "iopub.execute_input": "2025-05-04T10:04:31.701339Z",
     "iopub.status.busy": "2025-05-04T10:04:31.701053Z",
     "iopub.status.idle": "2025-05-04T10:04:31.999283Z",
     "shell.execute_reply": "2025-05-04T10:04:31.998100Z"
    },
    "papermill": {
     "duration": 0.307887,
     "end_time": "2025-05-04T10:04:32.001117",
     "exception": false,
     "start_time": "2025-05-04T10:04:31.693230",
     "status": "completed"
    },
    "tags": []
   },
   "outputs": [
    {
     "data": {
      "image/png": "[encoded data removed]",
      "text/plain": [
       "<Figure size 1200x600 with 2 Axes>"
      ]
     },
     "metadata": {},
     "output_type": "display_data"
    }
   ],
   "source": [
    "rain_april = train_april[train_april['AWS'] == 1].shape[0]\n",
    "no_rain_april = train_april[train_april['AWS'] == 0].shape[0]\n",
    "total_april = train_april.shape[0]\n",
    "rain_ratio_april = rain_april / total_april\n",
    "no_rain_ratio_april = no_rain_april / total_april\n",
    "\n",
    "rain_october = train_october[train_october['AWS'] == 1].shape[0]\n",
    "no_rain_october = train_october[train_october['AWS'] == 0].shape[0]\n",
    "total_october = train_october.shape[0]\n",
    "rain_ratio_october = rain_october / total_october\n",
    "no_rain_ratio_october = no_rain_october / total_october\n",
    "\n",
    "labels = ['Mưa', 'Không mưa']\n",
    "rain_data_april = [rain_ratio_april, no_rain_ratio_april]\n",
    "rain_data_october = [rain_ratio_october, no_rain_ratio_october]\n",
    "\n",
    "fig, axes = plt.subplots(1, 2, figsize=(12, 6))\n",
    "\n",
    "axes[0].pie(rain_data_april, labels=labels, autopct='%1.2f%%', startangle=90, colors=['#1f77b4', '#ff7f0e'])\n",
    "axes[0].set_title(f\"Tỷ lệ mưa và không mưa - Tháng 4\")\n",
    "\n",
    "axes[1].pie(rain_data_october, labels=labels, autopct='%1.2f%%', startangle=90, colors=['#1f77b4', '#ff7f0e'])\n",
    "axes[1].set_title(f\"Tỷ lệ mưa và không mưa - Tháng 10\")\n",
    "\n",
    "plt.tight_layout()\n",
    "plt.show()"
   ]
  },
  {
   "cell_type": "markdown",
   "id": "14a947e3",
   "metadata": {
    "papermill": {
     "duration": 0.007398,
     "end_time": "2025-05-04T10:04:32.016705",
     "exception": false,
     "start_time": "2025-05-04T10:04:32.009307",
     "status": "completed"
    },
    "tags": []
   },
   "source": [
    "# Min-max normalization"
   ]
  },
  {
   "cell_type": "code",
   "execution_count": 10,
   "id": "bd215baf",
   "metadata": {
    "execution": {
     "iopub.execute_input": "2025-05-04T10:04:32.033959Z",
     "iopub.status.busy": "2025-05-04T10:04:32.033620Z",
     "iopub.status.idle": "2025-05-04T10:04:32.039223Z",
     "shell.execute_reply": "2025-05-04T10:04:32.038446Z"
    },
    "papermill": {
     "duration": 0.015851,
     "end_time": "2025-05-04T10:04:32.040536",
     "exception": false,
     "start_time": "2025-05-04T10:04:32.024685",
     "status": "completed"
    },
    "tags": []
   },
   "outputs": [
    {
     "data": {
      "text/plain": [
       "33"
      ]
     },
     "execution_count": 10,
     "metadata": {},
     "output_type": "execute_result"
    }
   ],
   "source": [
    "train_april.shape[1]"
   ]
  },
  {
   "cell_type": "code",
   "execution_count": 11,
   "id": "6b7aae0b",
   "metadata": {
    "execution": {
     "iopub.execute_input": "2025-05-04T10:04:32.057479Z",
     "iopub.status.busy": "2025-05-04T10:04:32.057148Z",
     "iopub.status.idle": "2025-05-04T10:04:32.103939Z",
     "shell.execute_reply": "2025-05-04T10:04:32.103060Z"
    },
    "papermill": {
     "duration": 0.057269,
     "end_time": "2025-05-04T10:04:32.105702",
     "exception": false,
     "start_time": "2025-05-04T10:04:32.048433",
     "status": "completed"
    },
    "tags": []
   },
   "outputs": [],
   "source": [
    "X_train_april = train_april[features_april]\n",
    "y_train_april = train_april['AWS']\n",
    "\n",
    "X_test_april = test_april[features_april]\n",
    "y_test_april = test_april['AWS']\n",
    "\n",
    "X_train_october = train_october[features_october]\n",
    "y_train_october = train_october['AWS']\n",
    "\n",
    "X_test_october = test_october[features_october]\n",
    "y_test_october = test_october['AWS']"
   ]
  },
  {
   "cell_type": "code",
   "execution_count": 12,
   "id": "37c6c51e",
   "metadata": {
    "execution": {
     "iopub.execute_input": "2025-05-04T10:04:32.122861Z",
     "iopub.status.busy": "2025-05-04T10:04:32.122577Z",
     "iopub.status.idle": "2025-05-04T10:04:32.435023Z",
     "shell.execute_reply": "2025-05-04T10:04:32.434222Z"
    },
    "papermill": {
     "duration": 0.322834,
     "end_time": "2025-05-04T10:04:32.436657",
     "exception": false,
     "start_time": "2025-05-04T10:04:32.113823",
     "status": "completed"
    },
    "tags": []
   },
   "outputs": [],
   "source": [
    "from sklearn.preprocessing import MinMaxScaler\n",
    "\n",
    "scaler_april = MinMaxScaler()\n",
    "X_train_april_scaled = scaler_april.fit_transform(X_train_april)\n",
    "X_test_april_scaled = scaler_april.transform(X_test_april)\n",
    "\n",
    "scaler_october = MinMaxScaler()\n",
    "X_train_october_scaled = scaler_october.fit_transform(X_train_october)\n",
    "X_test_october_scaled = scaler_october.transform(X_test_october)"
   ]
  },
  {
   "cell_type": "code",
   "execution_count": 13,
   "id": "7ff03e3a",
   "metadata": {
    "execution": {
     "iopub.execute_input": "2025-05-04T10:04:32.453860Z",
     "iopub.status.busy": "2025-05-04T10:04:32.453289Z",
     "iopub.status.idle": "2025-05-04T10:04:32.458168Z",
     "shell.execute_reply": "2025-05-04T10:04:32.457450Z"
    },
    "papermill": {
     "duration": 0.014825,
     "end_time": "2025-05-04T10:04:32.459617",
     "exception": false,
     "start_time": "2025-05-04T10:04:32.444792",
     "status": "completed"
    },
    "tags": []
   },
   "outputs": [],
   "source": [
    "X_train_april_scaled = pd.DataFrame(X_train_april_scaled, columns=X_train_april.columns)\n",
    "X_test_april_scaled = pd.DataFrame(X_test_april_scaled, columns=X_test_april.columns)\n",
    "\n",
    "X_train_october_scaled = pd.DataFrame(X_train_october_scaled, columns=X_train_october.columns)\n",
    "X_test_october_scaled = pd.DataFrame(X_test_october_scaled, columns=X_test_october.columns)"
   ]
  },
  {
   "cell_type": "markdown",
   "id": "e437e07d",
   "metadata": {
    "papermill": {
     "duration": 0.007584,
     "end_time": "2025-05-04T10:04:32.474984",
     "exception": false,
     "start_time": "2025-05-04T10:04:32.467400",
     "status": "completed"
    },
    "tags": []
   },
   "source": [
    "# Train lúc chưa cân bằng"
   ]
  },
  {
   "cell_type": "code",
   "execution_count": 14,
   "id": "e3bf3f15",
   "metadata": {
    "execution": {
     "iopub.execute_input": "2025-05-04T10:04:32.492106Z",
     "iopub.status.busy": "2025-05-04T10:04:32.491760Z",
     "iopub.status.idle": "2025-05-04T10:04:32.496416Z",
     "shell.execute_reply": "2025-05-04T10:04:32.495418Z"
    },
    "papermill": {
     "duration": 0.015246,
     "end_time": "2025-05-04T10:04:32.498102",
     "exception": false,
     "start_time": "2025-05-04T10:04:32.482856",
     "status": "completed"
    },
    "tags": []
   },
   "outputs": [],
   "source": [
    "models_info = [\n",
    "    (\"Tháng 4\", X_train_april_scaled, y_train_april, X_test_april_scaled, y_test_april),\n",
    "    (\"Tháng 10\", X_train_october_scaled, y_train_october, X_test_october_scaled, y_test_october)\n",
    "]"
   ]
  },
  {
   "cell_type": "markdown",
   "id": "7006d051",
   "metadata": {
    "papermill": {
     "duration": 0.007596,
     "end_time": "2025-05-04T10:04:32.513922",
     "exception": false,
     "start_time": "2025-05-04T10:04:32.506326",
     "status": "completed"
    },
    "tags": []
   },
   "source": [
    "## PNN"
   ]
  },
  {
   "cell_type": "code",
   "execution_count": 15,
   "id": "0817c850",
   "metadata": {
    "execution": {
     "iopub.execute_input": "2025-05-04T10:04:32.531609Z",
     "iopub.status.busy": "2025-05-04T10:04:32.531303Z",
     "iopub.status.idle": "2025-05-04T10:04:32.641440Z",
     "shell.execute_reply": "2025-05-04T10:04:32.640686Z"
    },
    "papermill": {
     "duration": 0.120584,
     "end_time": "2025-05-04T10:04:32.643045",
     "exception": false,
     "start_time": "2025-05-04T10:04:32.522461",
     "status": "completed"
    },
    "tags": []
   },
   "outputs": [],
   "source": [
    "from sklearn.metrics.pairwise import pairwise_distances\n",
    "from sklearn.base import BaseEstimator, ClassifierMixin\n",
    "from sklearn.model_selection import train_test_split\n",
    "from sklearn.metrics import accuracy_score, precision_score, recall_score, f1_score, classification_report, confusion_matrix"
   ]
  },
  {
   "cell_type": "code",
   "execution_count": 16,
   "id": "c7da2ae0",
   "metadata": {
    "execution": {
     "iopub.execute_input": "2025-05-04T10:04:32.660492Z",
     "iopub.status.busy": "2025-05-04T10:04:32.659722Z",
     "iopub.status.idle": "2025-05-04T10:04:32.671110Z",
     "shell.execute_reply": "2025-05-04T10:04:32.670101Z"
    },
    "papermill": {
     "duration": 0.021753,
     "end_time": "2025-05-04T10:04:32.672682",
     "exception": false,
     "start_time": "2025-05-04T10:04:32.650929",
     "status": "completed"
    },
    "tags": []
   },
   "outputs": [],
   "source": [
    "from sklearn.metrics import pairwise_distances\n",
    "\n",
    "class RBFLayer:\n",
    "    def __init__(self, centers, sigma=1.0):\n",
    "        self.centers = centers\n",
    "        self.sigma = sigma\n",
    "\n",
    "    def compute(self, X):\n",
    "        diff = X[:, np.newaxis, :] - self.centers\n",
    "        dist_sq = np.sum(diff**2, axis=2)\n",
    "        return np.exp(-dist_sq / (2 * self.sigma**2))\n",
    "\n",
    "def softmax(z):\n",
    "    # z: (n_samples, n_classes)\n",
    "    z_max = np.max(z, axis=1, keepdims=True)\n",
    "    e_z = np.exp(z - z_max)\n",
    "    return e_z / e_z.sum(axis=1, keepdims=True)\n",
    "\n",
    "\n",
    "#Define PNN Model\n",
    "class PNN:\n",
    "    def __init__(self, sigma=1.0, batch_size=1000):\n",
    "        self.sigma = sigma\n",
    "        self.centers = None\n",
    "        self.batch_size = batch_size\n",
    "\n",
    "    def fit(self, X_train, y_train):\n",
    "        if isinstance(X_train, pd.DataFrame):\n",
    "            X_train = X_train.values\n",
    "        else:\n",
    "            X_train = X_train\n",
    "        if isinstance(y_train, pd.Series):\n",
    "            y_train = y_train.values\n",
    "        else:\n",
    "            y_train = y_train\n",
    "\n",
    "        classes = np.unique(y_train)\n",
    "        centers = []\n",
    "        for c in classes:\n",
    "            centers.append(X_train[y_train == c].mean(axis=0))\n",
    "        self.centers = np.vstack(centers)\n",
    "        self.rbf = RBFLayer(self.centers, sigma=self.sigma)\n",
    "\n",
    "    def predict_proba(self, X):\n",
    "        if isinstance(X, pd.DataFrame):\n",
    "            X = X.values\n",
    "        else:\n",
    "            X = X\n",
    "            \n",
    "        n = X.shape[0]\n",
    "        if self.batch_size is None:\n",
    "            raw = self.rbf.compute(X)\n",
    "            return softmax(raw)\n",
    "        # batch processing\n",
    "        probs = []\n",
    "        for start in range(0, n, self.batch_size):\n",
    "            end = min(start + self.batch_size, n)\n",
    "            raw = self.rbf.compute(X[start:end])\n",
    "            probs.append(softmax(raw))\n",
    "        return np.vstack(probs)\n",
    "\n",
    "    def predict(self, X):\n",
    "        # trả về nhãn 0 hoặc 1\n",
    "        probs = self.predict_proba(X)\n",
    "        return np.argmax(probs, axis=1)"
   ]
  },
  {
   "cell_type": "code",
   "execution_count": 17,
   "id": "7edffcd7",
   "metadata": {
    "execution": {
     "iopub.execute_input": "2025-05-04T10:04:32.689596Z",
     "iopub.status.busy": "2025-05-04T10:04:32.689288Z",
     "iopub.status.idle": "2025-05-04T10:04:44.426181Z",
     "shell.execute_reply": "2025-05-04T10:04:44.425247Z"
    },
    "papermill": {
     "duration": 11.746981,
     "end_time": "2025-05-04T10:04:44.427597",
     "exception": false,
     "start_time": "2025-05-04T10:04:32.680616",
     "status": "completed"
    },
    "tags": []
   },
   "outputs": [
    {
     "name": "stdout",
     "output_type": "stream",
     "text": [
      "Fine tuning...\n",
      "Tháng 4...\n",
      "Best sigma: 0.2559547922699536 with f1: 0.5916058517360576\n",
      "Tháng 10...\n",
      "Best sigma: 0.10985411419875583 with f1: 0.7338666487371215\n",
      "Train with best param...\n",
      "Tháng 4...\n",
      "(253767, 17)\n",
      "Classification Report:\n",
      "              precision    recall  f1-score   support\n",
      "\n",
      "           0       0.93      0.69      0.79     46790\n",
      "           1       0.16      0.54      0.25      5289\n",
      "\n",
      "    accuracy                           0.67     52079\n",
      "   macro avg       0.55      0.61      0.52     52079\n",
      "weighted avg       0.85      0.67      0.73     52079\n",
      "\n",
      "Confusion Matrix:\n",
      "[[32119 14671]\n",
      " [ 2447  2842]]\n"
     ]
    },
    {
     "data": {
      "image/png": "[encoded data removed]",
      "text/plain": [
       "<Figure size 640x480 with 2 Axes>"
      ]
     },
     "metadata": {},
     "output_type": "display_data"
    },
    {
     "name": "stdout",
     "output_type": "stream",
     "text": [
      "Tháng 10...\n",
      "(281128, 17)\n",
      "Classification Report:\n",
      "              precision    recall  f1-score   support\n",
      "\n",
      "           0       0.94      0.70      0.80     57109\n",
      "           1       0.39      0.81      0.52     13583\n",
      "\n",
      "    accuracy                           0.72     70692\n",
      "   macro avg       0.66      0.75      0.66     70692\n",
      "weighted avg       0.83      0.72      0.75     70692\n",
      "\n",
      "Confusion Matrix:\n",
      "[[39785 17324]\n",
      " [ 2583 11000]]\n"
     ]
    },
    {
     "data": {
      "image/png": "[encoded data removed]",
      "text/plain": [
       "<Figure size 640x480 with 2 Axes>"
      ]
     },
     "metadata": {},
     "output_type": "display_data"
    }
   ],
   "source": [
    "#Fine-tune + train\n",
    "sigmas = np.logspace(-2, 1, 50)\n",
    "param_grid = {'sigma': sigmas.tolist()}  # Grid search for sigma values\n",
    "\n",
    "best_score = 0\n",
    "best_sigma = 0\n",
    "\n",
    "# Perform grid search over the values of sigma\n",
    "print(\"Fine tuning...\")\n",
    "for name, train_X, train_Y, X_test, y_test in models_info:\n",
    "    X_train, X_val, y_train, y_val = train_test_split(\n",
    "        train_X, train_Y, test_size=0.2, random_state=42\n",
    "    )\n",
    "    print(f\"{name}...\")\n",
    "    for sigma in param_grid['sigma']:\n",
    "        pnn_batch = PNN(sigma=sigma, batch_size=2048)\n",
    "        pnn_batch.fit(X_train, y_train)\n",
    "        y_pred = pnn_batch.predict(X_val)\n",
    "        score = classification_report(y_val, y_pred, zero_division=0, output_dict=True)['macro avg']['f1-score']\n",
    "    \n",
    "        if score > best_score:\n",
    "            best_score = score\n",
    "            best_sigma = sigma\n",
    "\n",
    "    print(f\"Best sigma: {best_sigma} with f1: {best_score}\")\n",
    "\n",
    "# Final evaluation with the best sigma\n",
    "print(\"Train with best param...\")\n",
    "for name, X_train, y_train, X_test, y_test in models_info:\n",
    "    print(f\"{name}...\")\n",
    "    print(X_train.shape)\n",
    "    pnn_batch = PNN(sigma=best_sigma, batch_size=1000)\n",
    "    pnn_batch.fit(X_train, y_train)\n",
    "    y_pred = pnn_batch.predict(X_test)\n",
    "\n",
    "    print(\"Classification Report:\")\n",
    "    print(classification_report(y_test, y_pred))\n",
    "    print(\"Confusion Matrix:\")\n",
    "    print(confusion_matrix(y_test, y_pred))\n",
    "\n",
    "    # Optionally, plot the confusion matrix\n",
    "    cm = confusion_matrix(y_test, y_pred)\n",
    "    sns.heatmap(cm, annot=True, fmt=\"d\", cmap=\"Blues\", xticklabels=[\"No Rain\", \"Rain\"], yticklabels=[\"No Rain\", \"Rain\"])\n",
    "    plt.title(\"Confusion Matrix\")\n",
    "    plt.show()\n",
    "\n"
   ]
  },
  {
   "cell_type": "markdown",
   "id": "328920b0",
   "metadata": {
    "papermill": {
     "duration": 0.008669,
     "end_time": "2025-05-04T10:04:44.445601",
     "exception": false,
     "start_time": "2025-05-04T10:04:44.436932",
     "status": "completed"
    },
    "tags": []
   },
   "source": [
    "# Cân bằng dữ liệu bằng 3 phương pháp SMOTE"
   ]
  },
  {
   "cell_type": "code",
   "execution_count": 18,
   "id": "05cb7456",
   "metadata": {
    "execution": {
     "iopub.execute_input": "2025-05-04T10:04:44.465274Z",
     "iopub.status.busy": "2025-05-04T10:04:44.464581Z",
     "iopub.status.idle": "2025-05-04T10:04:45.015642Z",
     "shell.execute_reply": "2025-05-04T10:04:45.014837Z"
    },
    "papermill": {
     "duration": 0.562453,
     "end_time": "2025-05-04T10:04:45.017258",
     "exception": false,
     "start_time": "2025-05-04T10:04:44.454805",
     "status": "completed"
    },
    "tags": []
   },
   "outputs": [],
   "source": [
    "from imblearn.over_sampling import SMOTE\n",
    "from imblearn.combine import SMOTEENN, SMOTETomek\n",
    "from imblearn.under_sampling import CondensedNearestNeighbour\n",
    "from sklearn.model_selection import train_test_split\n",
    "import numpy as np\n",
    "\n",
    "def balance_datasets(models_info, method=\"smote\", random_state=42):\n",
    "    balanced_data = []\n",
    "\n",
    "    for name, X_train, y_train, X_test, y_test in models_info:\n",
    "        print(f\"\\n{name} - Đang cân bằng với phương pháp: {method.upper()}\")\n",
    "\n",
    "        if method == \"smote\":\n",
    "            sampler = SMOTE(random_state=random_state)\n",
    "        elif method == \"smoteenn\":\n",
    "            sampler = SMOTEENN(random_state=random_state)\n",
    "        elif method == \"smotecnn\":\n",
    "            # CNN chỉ hỗ trợ under-sampling, nên cần dùng SMOTE trước rồi mới dùng CNN\n",
    "            X_temp, y_temp = SMOTE(random_state=random_state).fit_resample(X_train, y_train)\n",
    "            sampler = CondensedNearestNeighbour()\n",
    "            X_res, y_res = sampler.fit_resample(X_temp, y_temp)\n",
    "\n",
    "            unique, counts = np.unique(y_res, return_counts=True)\n",
    "            print(f\"Số lượng mẫu sau cân bằng (SMOTECNN): {dict(zip(unique, counts))}\")\n",
    "            balanced_data.append((name, X_res, y_res, X_test, y_test))\n",
    "            continue\n",
    "        else:\n",
    "            raise ValueError(\"Phương pháp không hợp lệ. Chọn: smote, smoteenn hoặc smotecnn\")\n",
    "\n",
    "        X_res, y_res = sampler.fit_resample(X_train, y_train)\n",
    "        unique, counts = np.unique(y_res, return_counts=True)\n",
    "        print(f\"Số lượng mẫu sau cân bằng: {dict(zip(unique, counts))}\")\n",
    "\n",
    "        balanced_data.append((name, X_res, y_res, X_test, y_test))\n",
    "\n",
    "    return balanced_data\n"
   ]
  },
  {
   "cell_type": "markdown",
   "id": "6189ab92",
   "metadata": {
    "papermill": {
     "duration": 0.009326,
     "end_time": "2025-05-04T10:04:45.035749",
     "exception": false,
     "start_time": "2025-05-04T10:04:45.026423",
     "status": "completed"
    },
    "tags": []
   },
   "source": [
    "## SMOTE"
   ]
  },
  {
   "cell_type": "code",
   "execution_count": 19,
   "id": "db5e9fc1",
   "metadata": {
    "execution": {
     "iopub.execute_input": "2025-05-04T10:04:45.055238Z",
     "iopub.status.busy": "2025-05-04T10:04:45.054867Z",
     "iopub.status.idle": "2025-05-04T10:04:52.543466Z",
     "shell.execute_reply": "2025-05-04T10:04:52.542313Z"
    },
    "papermill": {
     "duration": 7.500174,
     "end_time": "2025-05-04T10:04:52.545107",
     "exception": false,
     "start_time": "2025-05-04T10:04:45.044933",
     "status": "completed"
    },
    "tags": []
   },
   "outputs": [
    {
     "name": "stdout",
     "output_type": "stream",
     "text": [
      "\n",
      "Tháng 4 - Đang cân bằng với phương pháp: SMOTE\n",
      "Số lượng mẫu sau cân bằng: {0: 235728, 1: 235728}\n",
      "\n",
      "Tháng 10 - Đang cân bằng với phương pháp: SMOTE\n",
      "Số lượng mẫu sau cân bằng: {0: 232286, 1: 232286}\n"
     ]
    }
   ],
   "source": [
    "balanced_models_smote = balance_datasets(models_info, method=\"smote\")"
   ]
  },
  {
   "cell_type": "markdown",
   "id": "6ce15c8e",
   "metadata": {
    "papermill": {
     "duration": 0.009305,
     "end_time": "2025-05-04T10:04:52.564227",
     "exception": false,
     "start_time": "2025-05-04T10:04:52.554922",
     "status": "completed"
    },
    "tags": []
   },
   "source": [
    "### PNN after SMOTE"
   ]
  },
  {
   "cell_type": "code",
   "execution_count": 20,
   "id": "c55cf6b4",
   "metadata": {
    "execution": {
     "iopub.execute_input": "2025-05-04T10:04:52.583942Z",
     "iopub.status.busy": "2025-05-04T10:04:52.583632Z",
     "iopub.status.idle": "2025-05-04T10:05:16.562912Z",
     "shell.execute_reply": "2025-05-04T10:05:16.562012Z"
    },
    "papermill": {
     "duration": 23.991096,
     "end_time": "2025-05-04T10:05:16.564465",
     "exception": false,
     "start_time": "2025-05-04T10:04:52.573369",
     "status": "completed"
    },
    "tags": []
   },
   "outputs": [
    {
     "name": "stdout",
     "output_type": "stream",
     "text": [
      "Fine tuning...\n",
      "Tháng 4...\n",
      "Best sigma: 0.2559547922699536 with f1: 0.7598985179460291\n",
      "Tháng 10...\n",
      "Best sigma: 0.19306977288832497 with f1: 0.8008447232932384\n",
      "Train with best param...\n",
      "Tháng 4...\n",
      "(471456, 17)\n",
      "Classification Report:\n",
      "              precision    recall  f1-score   support\n",
      "\n",
      "           0       0.93      0.69      0.79     46790\n",
      "           1       0.16      0.54      0.25      5289\n",
      "\n",
      "    accuracy                           0.67     52079\n",
      "   macro avg       0.55      0.61      0.52     52079\n",
      "weighted avg       0.85      0.67      0.73     52079\n",
      "\n",
      "Confusion Matrix:\n",
      "[[32058 14732]\n",
      " [ 2434  2855]]\n"
     ]
    },
    {
     "data": {
      "image/png": "[encoded data removed]",
      "text/plain": [
       "<Figure size 640x480 with 2 Axes>"
      ]
     },
     "metadata": {},
     "output_type": "display_data"
    },
    {
     "name": "stdout",
     "output_type": "stream",
     "text": [
      "Tháng 10...\n",
      "(464572, 17)\n",
      "Classification Report:\n",
      "              precision    recall  f1-score   support\n",
      "\n",
      "           0       0.94      0.69      0.80     57109\n",
      "           1       0.39      0.82      0.53     13583\n",
      "\n",
      "    accuracy                           0.72     70692\n",
      "   macro avg       0.66      0.76      0.66     70692\n",
      "weighted avg       0.83      0.72      0.75     70692\n",
      "\n",
      "Confusion Matrix:\n",
      "[[39656 17453]\n",
      " [ 2503 11080]]\n"
     ]
    },
    {
     "data": {
      "image/png": "[encoded data removed]",
      "text/plain": [
       "<Figure size 640x480 with 2 Axes>"
      ]
     },
     "metadata": {},
     "output_type": "display_data"
    }
   ],
   "source": [
    "#Fine-tune + train\n",
    "sigmas = np.logspace(-2, 1, 50)\n",
    "param_grid = {'sigma': sigmas.tolist()}  # Grid search for sigma values\n",
    "\n",
    "best_score = 0\n",
    "best_sigma = 0\n",
    "\n",
    "# Perform grid search over the values of sigma\n",
    "print(\"Fine tuning...\")\n",
    "for name, train_X, train_Y, X_test, y_test in balanced_models_smote:\n",
    "    X_train, X_val, y_train, y_val = train_test_split(\n",
    "        train_X, train_Y, test_size=0.2, random_state=42\n",
    "    )\n",
    "    print(f\"{name}...\")\n",
    "    for sigma in param_grid['sigma']:\n",
    "        pnn_batch = PNN(sigma=sigma, batch_size=2048)\n",
    "        pnn_batch.fit(X_train, y_train)\n",
    "        y_pred = pnn_batch.predict(X_val)\n",
    "        score = classification_report(y_val, y_pred, zero_division=0, output_dict=True)['macro avg']['f1-score']\n",
    "    \n",
    "        if score > best_score:\n",
    "            best_score = score\n",
    "            best_sigma = sigma\n",
    "\n",
    "    print(f\"Best sigma: {best_sigma} with f1: {best_score}\")\n",
    "\n",
    "# Final evaluation with the best sigma\n",
    "print(\"Train with best param...\")\n",
    "for name, X_train, y_train, X_test, y_test in balanced_models_smote:\n",
    "    print(f\"{name}...\")\n",
    "    print(X_train.shape)\n",
    "    pnn_batch = PNN(sigma=best_sigma, batch_size=1000)\n",
    "    pnn_batch.fit(X_train, y_train)\n",
    "    y_pred = pnn_batch.predict(X_test)\n",
    "\n",
    "    print(\"Classification Report:\")\n",
    "    print(classification_report(y_test, y_pred))\n",
    "    print(\"Confusion Matrix:\")\n",
    "    print(confusion_matrix(y_test, y_pred))\n",
    "\n",
    "    # Optionally, plot the confusion matrix\n",
    "    cm = confusion_matrix(y_test, y_pred)\n",
    "    sns.heatmap(cm, annot=True, fmt=\"d\", cmap=\"Blues\", xticklabels=[\"No Rain\", \"Rain\"], yticklabels=[\"No Rain\", \"Rain\"])\n",
    "    plt.title(\"Confusion Matrix\")\n",
    "    plt.show()\n",
    "\n"
   ]
  },
  {
   "cell_type": "markdown",
   "id": "9c027af7",
   "metadata": {
    "papermill": {
     "duration": 0.009988,
     "end_time": "2025-05-04T10:05:16.585507",
     "exception": false,
     "start_time": "2025-05-04T10:05:16.575519",
     "status": "completed"
    },
    "tags": []
   },
   "source": [
    "## SMOTE ENN"
   ]
  },
  {
   "cell_type": "code",
   "execution_count": 21,
   "id": "83b61524",
   "metadata": {
    "execution": {
     "iopub.execute_input": "2025-05-04T10:05:16.607448Z",
     "iopub.status.busy": "2025-05-04T10:05:16.607120Z",
     "iopub.status.idle": "2025-05-04T10:21:48.093266Z",
     "shell.execute_reply": "2025-05-04T10:21:48.092066Z"
    },
    "papermill": {
     "duration": 991.508502,
     "end_time": "2025-05-04T10:21:48.104376",
     "exception": false,
     "start_time": "2025-05-04T10:05:16.595874",
     "status": "completed"
    },
    "tags": []
   },
   "outputs": [
    {
     "name": "stdout",
     "output_type": "stream",
     "text": [
      "\n",
      "Tháng 4 - Đang cân bằng với phương pháp: SMOTEENN\n",
      "Số lượng mẫu sau cân bằng: {0: 210329, 1: 218649}\n",
      "\n",
      "Tháng 10 - Đang cân bằng với phương pháp: SMOTEENN\n",
      "Số lượng mẫu sau cân bằng: {0: 200549, 1: 205165}\n"
     ]
    }
   ],
   "source": [
    "# # Dùng SMOTE + ENN\n",
    "balanced_models_smoteenn = balance_datasets(models_info, method=\"smoteenn\")"
   ]
  },
  {
   "cell_type": "markdown",
   "id": "4cfb163a",
   "metadata": {
    "papermill": {
     "duration": 0.01324,
     "end_time": "2025-05-04T10:21:48.128413",
     "exception": false,
     "start_time": "2025-05-04T10:21:48.115173",
     "status": "completed"
    },
    "tags": []
   },
   "source": [
    "### PNN"
   ]
  },
  {
   "cell_type": "code",
   "execution_count": 22,
   "id": "ac77ef28",
   "metadata": {
    "execution": {
     "iopub.execute_input": "2025-05-04T10:21:48.151781Z",
     "iopub.status.busy": "2025-05-04T10:21:48.151173Z",
     "iopub.status.idle": "2025-05-04T10:22:09.512135Z",
     "shell.execute_reply": "2025-05-04T10:22:09.511242Z"
    },
    "papermill": {
     "duration": 21.374699,
     "end_time": "2025-05-04T10:22:09.513682",
     "exception": false,
     "start_time": "2025-05-04T10:21:48.138983",
     "status": "completed"
    },
    "tags": []
   },
   "outputs": [
    {
     "name": "stdout",
     "output_type": "stream",
     "text": [
      "Fine tuning...\n",
      "Tháng 4...\n",
      "Best sigma: 0.2559547922699536 with f1: 0.78962816611219\n",
      "Tháng 10...\n",
      "Best sigma: 0.16768329368110083 with f1: 0.8458266538279607\n",
      "Train with best param...\n",
      "Tháng 4...\n",
      "(428978, 17)\n",
      "Classification Report:\n",
      "              precision    recall  f1-score   support\n",
      "\n",
      "           0       0.93      0.68      0.78     46790\n",
      "           1       0.16      0.55      0.25      5289\n",
      "\n",
      "    accuracy                           0.66     52079\n",
      "   macro avg       0.55      0.62      0.52     52079\n",
      "weighted avg       0.85      0.66      0.73     52079\n",
      "\n",
      "Confusion Matrix:\n",
      "[[31606 15184]\n",
      " [ 2355  2934]]\n"
     ]
    },
    {
     "data": {
      "image/png": "[encoded data removed]",
      "text/plain": [
       "<Figure size 640x480 with 2 Axes>"
      ]
     },
     "metadata": {},
     "output_type": "display_data"
    },
    {
     "name": "stdout",
     "output_type": "stream",
     "text": [
      "Tháng 10...\n",
      "(405714, 17)\n",
      "Classification Report:\n",
      "              precision    recall  f1-score   support\n",
      "\n",
      "           0       0.94      0.68      0.79     57109\n",
      "           1       0.38      0.82      0.52     13583\n",
      "\n",
      "    accuracy                           0.71     70692\n",
      "   macro avg       0.66      0.75      0.66     70692\n",
      "weighted avg       0.83      0.71      0.74     70692\n",
      "\n",
      "Confusion Matrix:\n",
      "[[39094 18015]\n",
      " [ 2402 11181]]\n"
     ]
    },
    {
     "data": {
      "image/png": "[encoded data removed]",
      "text/plain": [
       "<Figure size 640x480 with 2 Axes>"
      ]
     },
     "metadata": {},
     "output_type": "display_data"
    }
   ],
   "source": [
    "#Fine-tune + train\n",
    "sigmas = np.logspace(-2, 1, 50)\n",
    "param_grid = {'sigma': sigmas.tolist()}  # Grid search for sigma values\n",
    "\n",
    "best_score = 0\n",
    "best_sigma = 0\n",
    "\n",
    "# Perform grid search over the values of sigma\n",
    "print(\"Fine tuning...\")\n",
    "for name, train_X, train_Y, X_test, y_test in balanced_models_smoteenn:\n",
    "    X_train, X_val, y_train, y_val = train_test_split(\n",
    "        train_X, train_Y, test_size=0.2, random_state=42\n",
    "    )\n",
    "    print(f\"{name}...\")\n",
    "    for sigma in param_grid['sigma']:\n",
    "        pnn_batch = PNN(sigma=sigma, batch_size=2048)\n",
    "        pnn_batch.fit(X_train, y_train)\n",
    "        y_pred = pnn_batch.predict(X_val)\n",
    "        score = classification_report(y_val, y_pred, zero_division=0, output_dict=True)['macro avg']['f1-score']\n",
    "    \n",
    "        if score > best_score:\n",
    "            best_score = score\n",
    "            best_sigma = sigma\n",
    "\n",
    "    print(f\"Best sigma: {best_sigma} with f1: {best_score}\")\n",
    "\n",
    "# Final evaluation with the best sigma\n",
    "print(\"Train with best param...\")\n",
    "for name, X_train, y_train, X_test, y_test in balanced_models_smoteenn:\n",
    "    print(f\"{name}...\")\n",
    "    print(X_train.shape)\n",
    "    pnn_batch = PNN(sigma=best_sigma, batch_size=1000)\n",
    "    pnn_batch.fit(X_train, y_train)\n",
    "    y_pred = pnn_batch.predict(X_test)\n",
    "\n",
    "    print(\"Classification Report:\")\n",
    "    print(classification_report(y_test, y_pred))\n",
    "    print(\"Confusion Matrix:\")\n",
    "    print(confusion_matrix(y_test, y_pred))\n",
    "\n",
    "    # Optionally, plot the confusion matrix\n",
    "    cm = confusion_matrix(y_test, y_pred)\n",
    "    sns.heatmap(cm, annot=True, fmt=\"d\", cmap=\"Blues\", xticklabels=[\"No Rain\", \"Rain\"], yticklabels=[\"No Rain\", \"Rain\"])\n",
    "    plt.title(\"Confusion Matrix\")\n",
    "    plt.show()"
   ]
  },
  {
   "cell_type": "code",
   "execution_count": null,
   "id": "9a04cd1e",
   "metadata": {
    "papermill": {
     "duration": 0.011543,
     "end_time": "2025-05-04T10:22:09.537599",
     "exception": false,
     "start_time": "2025-05-04T10:22:09.526056",
     "status": "completed"
    },
    "tags": []
   },
   "outputs": [],
   "source": []
  }
 ],
 "metadata": {
  "kaggle": {
   "accelerator": "none",
   "dataSources": [
    {
     "datasetId": 6988906,
     "sourceId": 11449400,
     "sourceType": "datasetVersion"
    }
   ],
   "dockerImageVersionId": 31012,
   "isGpuEnabled": false,
   "isInternetEnabled": true,
   "language": "python",
   "sourceType": "notebook"
  },
  "kernelspec": {
   "display_name": "Python 3",
   "language": "python",
   "name": "python3"
  },
  "language_info": {
   "codemirror_mode": {
    "name": "ipython",
    "version": 3
   },
   "file_extension": ".py",
   "mimetype": "text/x-python",
   "name": "python",
   "nbconvert_exporter": "python",
   "pygments_lexer": "ipython3",
   "version": "3.11.11"
  },
  "papermill": {
   "default_parameters": {},
   "duration": 1083.240463,
   "end_time": "2025-05-04T10:22:10.371948",
   "environment_variables": {},
   "exception": null,
   "input_path": "__notebook__.ipynb",
   "output_path": "__notebook__.ipynb",
   "parameters": {},
   "start_time": "2025-05-04T10:04:07.131485",
   "version": "2.6.0"
  }
 },
 "nbformat": 4,
 "nbformat_minor": 5
}
