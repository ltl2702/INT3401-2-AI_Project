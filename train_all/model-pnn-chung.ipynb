{
 "cells": [
  {
   "cell_type": "code",
   "execution_count": 1,
   "id": "4bd2b3dc",
   "metadata": {
    "_cell_guid": "b1076dfc-b9ad-4769-8c92-a6c4dae69d19",
    "_uuid": "8f2839f25d086af736a60e9eeb907d3b93b6e0e5",
    "execution": {
     "iopub.execute_input": "2025-05-04T14:16:21.787277Z",
     "iopub.status.busy": "2025-05-04T14:16:21.786885Z",
     "iopub.status.idle": "2025-05-04T14:16:36.832227Z",
     "shell.execute_reply": "2025-05-04T14:16:36.830887Z"
    },
    "papermill": {
     "duration": 15.056247,
     "end_time": "2025-05-04T14:16:36.834363",
     "exception": false,
     "start_time": "2025-05-04T14:16:21.778116",
     "status": "completed"
    },
    "tags": []
   },
   "outputs": [
    {
     "name": "stdout",
     "output_type": "stream",
     "text": [
      "Requirement already satisfied: xgboost in /usr/local/lib/python3.11/dist-packages (2.0.3)\r\n",
      "Requirement already satisfied: numpy in /usr/local/lib/python3.11/dist-packages (from xgboost) (1.26.4)\r\n",
      "Requirement already satisfied: scipy in /usr/local/lib/python3.11/dist-packages (from xgboost) (1.15.2)\r\n",
      "Requirement already satisfied: mkl_fft in /usr/local/lib/python3.11/dist-packages (from numpy->xgboost) (1.3.8)\r\n",
      "Requirement already satisfied: mkl_random in /usr/local/lib/python3.11/dist-packages (from numpy->xgboost) (1.2.4)\r\n",
      "Requirement already satisfied: mkl_umath in /usr/local/lib/python3.11/dist-packages (from numpy->xgboost) (0.1.1)\r\n",
      "Requirement already satisfied: mkl in /usr/local/lib/python3.11/dist-packages (from numpy->xgboost) (2025.1.0)\r\n",
      "Requirement already satisfied: tbb4py in /usr/local/lib/python3.11/dist-packages (from numpy->xgboost) (2022.1.0)\r\n",
      "Requirement already satisfied: mkl-service in /usr/local/lib/python3.11/dist-packages (from numpy->xgboost) (2.4.1)\r\n",
      "Requirement already satisfied: intel-openmp<2026,>=2024 in /usr/local/lib/python3.11/dist-packages (from mkl->numpy->xgboost) (2024.2.0)\r\n",
      "Requirement already satisfied: tbb==2022.* in /usr/local/lib/python3.11/dist-packages (from mkl->numpy->xgboost) (2022.1.0)\r\n",
      "Requirement already satisfied: tcmlib==1.* in /usr/local/lib/python3.11/dist-packages (from tbb==2022.*->mkl->numpy->xgboost) (1.2.0)\r\n",
      "Requirement already satisfied: intel-cmplr-lib-rt in /usr/local/lib/python3.11/dist-packages (from mkl_umath->numpy->xgboost) (2024.2.0)\r\n",
      "Requirement already satisfied: intel-cmplr-lib-ur==2024.2.0 in /usr/local/lib/python3.11/dist-packages (from intel-openmp<2026,>=2024->mkl->numpy->xgboost) (2024.2.0)\r\n",
      "Requirement already satisfied: scikit-learn==1.2.2 in /usr/local/lib/python3.11/dist-packages (1.2.2)\r\n",
      "Collecting imbalanced-learn==0.10.1\r\n",
      "  Downloading imbalanced_learn-0.10.1-py3-none-any.whl.metadata (8.2 kB)\r\n",
      "Requirement already satisfied: numpy>=1.17.3 in /usr/local/lib/python3.11/dist-packages (from scikit-learn==1.2.2) (1.26.4)\r\n",
      "Requirement already satisfied: scipy>=1.3.2 in /usr/local/lib/python3.11/dist-packages (from scikit-learn==1.2.2) (1.15.2)\r\n",
      "Requirement already satisfied: joblib>=1.1.1 in /usr/local/lib/python3.11/dist-packages (from scikit-learn==1.2.2) (1.4.2)\r\n",
      "Requirement already satisfied: threadpoolctl>=2.0.0 in /usr/local/lib/python3.11/dist-packages (from scikit-learn==1.2.2) (3.6.0)\r\n",
      "Requirement already satisfied: mkl_fft in /usr/local/lib/python3.11/dist-packages (from numpy>=1.17.3->scikit-learn==1.2.2) (1.3.8)\r\n",
      "Requirement already satisfied: mkl_random in /usr/local/lib/python3.11/dist-packages (from numpy>=1.17.3->scikit-learn==1.2.2) (1.2.4)\r\n",
      "Requirement already satisfied: mkl_umath in /usr/local/lib/python3.11/dist-packages (from numpy>=1.17.3->scikit-learn==1.2.2) (0.1.1)\r\n",
      "Requirement already satisfied: mkl in /usr/local/lib/python3.11/dist-packages (from numpy>=1.17.3->scikit-learn==1.2.2) (2025.1.0)\r\n",
      "Requirement already satisfied: tbb4py in /usr/local/lib/python3.11/dist-packages (from numpy>=1.17.3->scikit-learn==1.2.2) (2022.1.0)\r\n",
      "Requirement already satisfied: mkl-service in /usr/local/lib/python3.11/dist-packages (from numpy>=1.17.3->scikit-learn==1.2.2) (2.4.1)\r\n",
      "Requirement already satisfied: intel-openmp<2026,>=2024 in /usr/local/lib/python3.11/dist-packages (from mkl->numpy>=1.17.3->scikit-learn==1.2.2) (2024.2.0)\r\n",
      "Requirement already satisfied: tbb==2022.* in /usr/local/lib/python3.11/dist-packages (from mkl->numpy>=1.17.3->scikit-learn==1.2.2) (2022.1.0)\r\n",
      "Requirement already satisfied: tcmlib==1.* in /usr/local/lib/python3.11/dist-packages (from tbb==2022.*->mkl->numpy>=1.17.3->scikit-learn==1.2.2) (1.2.0)\r\n",
      "Requirement already satisfied: intel-cmplr-lib-rt in /usr/local/lib/python3.11/dist-packages (from mkl_umath->numpy>=1.17.3->scikit-learn==1.2.2) (2024.2.0)\r\n",
      "Requirement already satisfied: intel-cmplr-lib-ur==2024.2.0 in /usr/local/lib/python3.11/dist-packages (from intel-openmp<2026,>=2024->mkl->numpy>=1.17.3->scikit-learn==1.2.2) (2024.2.0)\r\n",
      "Downloading imbalanced_learn-0.10.1-py3-none-any.whl (226 kB)\r\n",
      "\u001b[2K   \u001b[90m━━━━━━━━━━━━━━━━━━━━━━━━━━━━━━━━━━━━━━━━\u001b[0m \u001b[32m226.0/226.0 kB\u001b[0m \u001b[31m6.0 MB/s\u001b[0m eta \u001b[36m0:00:00\u001b[0m\r\n",
      "\u001b[?25hInstalling collected packages: imbalanced-learn\r\n",
      "  Attempting uninstall: imbalanced-learn\r\n",
      "    Found existing installation: imbalanced-learn 0.13.0\r\n",
      "    Uninstalling imbalanced-learn-0.13.0:\r\n",
      "      Successfully uninstalled imbalanced-learn-0.13.0\r\n",
      "Successfully installed imbalanced-learn-0.10.1\r\n"
     ]
    }
   ],
   "source": [
    "import pandas as pd\n",
    "import numpy as np\n",
    "from sklearn.model_selection import train_test_split\n",
    "from sklearn.base import BaseEstimator, TransformerMixin\n",
    "from sklearn.pipeline import Pipeline\n",
    "from sklearn.preprocessing import MinMaxScaler\n",
    "from sklearn.preprocessing import StandardScaler\n",
    "import matplotlib.pyplot as plt\n",
    "import matplotlib.gridspec as gridspec\n",
    "import seaborn as sns\n",
    "from sklearn.decomposition import PCA\n",
    "from sklearn.metrics import classification_report\n",
    "from sklearn.linear_model import LogisticRegression\n",
    "from sklearn.metrics import accuracy_score, precision_score, recall_score, f1_score\n",
    "# Cài đặt \n",
    "!pip install xgboost\n",
    "!pip install scikit-learn==1.2.2 imbalanced-learn==0.10.1\n",
    "import warnings\n",
    "warnings.simplefilter('ignore', FutureWarning)"
   ]
  },
  {
   "cell_type": "code",
   "execution_count": 2,
   "id": "7e2e47dd",
   "metadata": {
    "execution": {
     "iopub.execute_input": "2025-05-04T14:16:36.851942Z",
     "iopub.status.busy": "2025-05-04T14:16:36.851039Z",
     "iopub.status.idle": "2025-05-04T14:16:48.764640Z",
     "shell.execute_reply": "2025-05-04T14:16:48.763499Z"
    },
    "papermill": {
     "duration": 11.924358,
     "end_time": "2025-05-04T14:16:48.766763",
     "exception": false,
     "start_time": "2025-05-04T14:16:36.842405",
     "status": "completed"
    },
    "tags": []
   },
   "outputs": [],
   "source": [
    "import pandas as pd\n",
    "\n",
    "df01 = pd.read_csv('/kaggle/input/clean-aws-month/final_data/filled_data_april.csv')\n",
    "df02 = pd.read_csv('/kaggle/input/clean-aws-month/final_data/filled_data_october.csv')\n",
    "\n",
    "# Ghép 2 file lại với nhau\n",
    "data_filled = pd.concat([df01, df02], ignore_index=True)"
   ]
  },
  {
   "cell_type": "markdown",
   "id": "9a3a3cab",
   "metadata": {
    "papermill": {
     "duration": 0.006611,
     "end_time": "2025-05-04T14:16:48.782610",
     "exception": false,
     "start_time": "2025-05-04T14:16:48.775999",
     "status": "completed"
    },
    "tags": []
   },
   "source": [
    "# 1. Xử lý dữ liệu bị thiếu"
   ]
  },
  {
   "cell_type": "code",
   "execution_count": 3,
   "id": "3b0788c2",
   "metadata": {
    "execution": {
     "iopub.execute_input": "2025-05-04T14:16:48.796919Z",
     "iopub.status.busy": "2025-05-04T14:16:48.796251Z",
     "iopub.status.idle": "2025-05-04T14:16:48.800660Z",
     "shell.execute_reply": "2025-05-04T14:16:48.799827Z"
    },
    "papermill": {
     "duration": 0.013214,
     "end_time": "2025-05-04T14:16:48.802151",
     "exception": false,
     "start_time": "2025-05-04T14:16:48.788937",
     "status": "completed"
    },
    "tags": []
   },
   "outputs": [],
   "source": [
    "# df_cleaned = data.copy()\n",
    "# df_cleaned = df_cleaned.drop(columns=['B04B', 'B05B', 'B06B', 'VSB', 'CIN'])\n",
    "\n",
    "# df_cleaned = df_cleaned[~((df_cleaned['AWS'] == -np.inf) | (df_cleaned['AWS'].isnull()))]\n",
    "# df_cleaned = df_cleaned[~((df_cleaned['SLHF'] == 9999) | (df_cleaned['SSHF'] == 9999))]"
   ]
  },
  {
   "cell_type": "code",
   "execution_count": 4,
   "id": "670f1b59",
   "metadata": {
    "execution": {
     "iopub.execute_input": "2025-05-04T14:16:48.817532Z",
     "iopub.status.busy": "2025-05-04T14:16:48.816756Z",
     "iopub.status.idle": "2025-05-04T14:16:48.821314Z",
     "shell.execute_reply": "2025-05-04T14:16:48.820509Z"
    },
    "papermill": {
     "duration": 0.013926,
     "end_time": "2025-05-04T14:16:48.822800",
     "exception": false,
     "start_time": "2025-05-04T14:16:48.808874",
     "status": "completed"
    },
    "tags": []
   },
   "outputs": [],
   "source": [
    "# data_filled = df_cleaned.fillna(df_cleaned.median(numeric_only=True))"
   ]
  },
  {
   "cell_type": "markdown",
   "id": "11bc73fa",
   "metadata": {
    "papermill": {
     "duration": 0.006343,
     "end_time": "2025-05-04T14:16:48.837557",
     "exception": false,
     "start_time": "2025-05-04T14:16:48.831214",
     "status": "completed"
    },
    "tags": []
   },
   "source": [
    "# 2. Chia train test"
   ]
  },
  {
   "cell_type": "code",
   "execution_count": 5,
   "id": "6f7d9cb6",
   "metadata": {
    "execution": {
     "iopub.execute_input": "2025-05-04T14:16:48.852706Z",
     "iopub.status.busy": "2025-05-04T14:16:48.851793Z",
     "iopub.status.idle": "2025-05-04T14:16:49.574066Z",
     "shell.execute_reply": "2025-05-04T14:16:49.572994Z"
    },
    "papermill": {
     "duration": 0.73204,
     "end_time": "2025-05-04T14:16:49.575974",
     "exception": false,
     "start_time": "2025-05-04T14:16:48.843934",
     "status": "completed"
    },
    "tags": []
   },
   "outputs": [
    {
     "name": "stdout",
     "output_type": "stream",
     "text": [
      "Train set: (428242, 33)\n",
      "Test set (October 2020): (207094, 33)\n"
     ]
    }
   ],
   "source": [
    "def split_data_by_multiple_ranges(df, train_ranges):\n",
    "    train_mask = False\n",
    "    for start, end in train_ranges:\n",
    "        train_mask |= (df['datetime'] >= start) & (df['datetime'] < end)\n",
    "    train_df = df[train_mask]\n",
    "    test_df = df[~train_mask]\n",
    "    return train_df, test_df\n",
    "\n",
    "def convert_rain_label(df):\n",
    "    df['AWS'] = df['AWS'].apply(lambda x: 1 if x > 0 else 0)\n",
    "    return df\n",
    "\n",
    "# Gắn nhãn\n",
    "df_all1 = convert_rain_label(data_filled)\n",
    "\n",
    "# Chuyển datetime nếu chưa\n",
    "df_all1['datetime'] = pd.to_datetime(df_all1['datetime'])\n",
    "\n",
    "# Chọn các khoảng train: tháng 4/2019, 10/2019, 4/2020\n",
    "train_ranges = [\n",
    "    (\"2019-04-01\", \"2019-04-30\"),\n",
    "    (\"2019-10-01\", \"2019-10-31\"),\n",
    "    (\"2020-04-01\", \"2020-04-30\"),\n",
    "]\n",
    "\n",
    "# Tách train/test theo mốc trên\n",
    "train_df, test_df = split_data_by_multiple_ranges(df_all1, train_ranges)\n",
    "\n",
    "# Giữ lại chỉ test tháng 10/2020\n",
    "test_df = test_df[\n",
    "    (test_df['datetime'] >= \"2020-10-01\") & (test_df['datetime'] <= \"2020-10-31\")\n",
    "]\n",
    "\n",
    "# Kết quả\n",
    "print(f\"Train set: {train_df.shape}\")\n",
    "print(f\"Test set (October 2020): {test_df.shape}\")"
   ]
  },
  {
   "cell_type": "code",
   "execution_count": 6,
   "id": "1a20013a",
   "metadata": {
    "execution": {
     "iopub.execute_input": "2025-05-04T14:16:49.591333Z",
     "iopub.status.busy": "2025-05-04T14:16:49.590936Z",
     "iopub.status.idle": "2025-05-04T14:16:49.698942Z",
     "shell.execute_reply": "2025-05-04T14:16:49.697859Z"
    },
    "papermill": {
     "duration": 0.118212,
     "end_time": "2025-05-04T14:16:49.701120",
     "exception": false,
     "start_time": "2025-05-04T14:16:49.582908",
     "status": "completed"
    },
    "tags": []
   },
   "outputs": [],
   "source": [
    "X_train = train_df.drop(columns=['AWS', 'datetime', 'row','col'])\n",
    "y_train = train_df['AWS']\n",
    "\n",
    "X_test = test_df.drop(columns=['AWS', 'datetime', 'row','col'])\n",
    "y_test = test_df['AWS']"
   ]
  },
  {
   "cell_type": "markdown",
   "id": "a60ee62b",
   "metadata": {
    "papermill": {
     "duration": 0.006383,
     "end_time": "2025-05-04T14:16:49.714330",
     "exception": false,
     "start_time": "2025-05-04T14:16:49.707947",
     "status": "completed"
    },
    "tags": []
   },
   "source": [
    "# 3. Chuẩn hóa"
   ]
  },
  {
   "cell_type": "code",
   "execution_count": 7,
   "id": "05365cf7",
   "metadata": {
    "execution": {
     "iopub.execute_input": "2025-05-04T14:16:49.729593Z",
     "iopub.status.busy": "2025-05-04T14:16:49.728480Z",
     "iopub.status.idle": "2025-05-04T14:16:50.100584Z",
     "shell.execute_reply": "2025-05-04T14:16:50.099670Z"
    },
    "papermill": {
     "duration": 0.381688,
     "end_time": "2025-05-04T14:16:50.102434",
     "exception": false,
     "start_time": "2025-05-04T14:16:49.720746",
     "status": "completed"
    },
    "tags": []
   },
   "outputs": [],
   "source": [
    "from sklearn.preprocessing import MinMaxScaler\n",
    "from sklearn.preprocessing import StandardScaler\n",
    "\n",
    "scaler = StandardScaler()\n",
    "X_train_scaled = scaler.fit_transform(X_train)\n",
    "X_test_scaled = scaler.transform(X_test)\n",
    "\n",
    "X_train_scaled = pd.DataFrame(X_train_scaled, columns=X_train.columns)\n",
    "X_test_scaled = pd.DataFrame(X_test_scaled, columns=X_test.columns)"
   ]
  },
  {
   "cell_type": "markdown",
   "id": "9495ea48",
   "metadata": {
    "papermill": {
     "duration": 0.005892,
     "end_time": "2025-05-04T14:16:50.114929",
     "exception": false,
     "start_time": "2025-05-04T14:16:50.109037",
     "status": "completed"
    },
    "tags": []
   },
   "source": [
    "# 4. Chọn feature"
   ]
  },
  {
   "cell_type": "code",
   "execution_count": 8,
   "id": "6db03376",
   "metadata": {
    "execution": {
     "iopub.execute_input": "2025-05-04T14:16:50.128428Z",
     "iopub.status.busy": "2025-05-04T14:16:50.128053Z",
     "iopub.status.idle": "2025-05-04T14:16:50.133540Z",
     "shell.execute_reply": "2025-05-04T14:16:50.132355Z"
    },
    "papermill": {
     "duration": 0.014077,
     "end_time": "2025-05-04T14:16:50.135055",
     "exception": false,
     "start_time": "2025-05-04T14:16:50.120978",
     "status": "completed"
    },
    "tags": []
   },
   "outputs": [],
   "source": [
    "top_features = ['B14B', 'I2B', 'TCLW', 'R500', 'R850', 'CAPE', 'U850', 'B10B', 'PEV', 'SLOR', 'R250', 'KX', 'V250', 'U250', 'TCWV']"
   ]
  },
  {
   "cell_type": "code",
   "execution_count": 9,
   "id": "fc483901",
   "metadata": {
    "execution": {
     "iopub.execute_input": "2025-05-04T14:16:50.148866Z",
     "iopub.status.busy": "2025-05-04T14:16:50.148577Z",
     "iopub.status.idle": "2025-05-04T14:16:50.152643Z",
     "shell.execute_reply": "2025-05-04T14:16:50.151753Z"
    },
    "papermill": {
     "duration": 0.012674,
     "end_time": "2025-05-04T14:16:50.154039",
     "exception": false,
     "start_time": "2025-05-04T14:16:50.141365",
     "status": "completed"
    },
    "tags": []
   },
   "outputs": [],
   "source": [
    "# X_train_selected = X_train_scaled[top_features]\n",
    "# X_test_selected = X_test_scaled[top_features]"
   ]
  },
  {
   "cell_type": "code",
   "execution_count": 10,
   "id": "7749a820",
   "metadata": {
    "execution": {
     "iopub.execute_input": "2025-05-04T14:16:50.167939Z",
     "iopub.status.busy": "2025-05-04T14:16:50.167655Z",
     "iopub.status.idle": "2025-05-04T14:16:50.172196Z",
     "shell.execute_reply": "2025-05-04T14:16:50.171446Z"
    },
    "papermill": {
     "duration": 0.013148,
     "end_time": "2025-05-04T14:16:50.173681",
     "exception": false,
     "start_time": "2025-05-04T14:16:50.160533",
     "status": "completed"
    },
    "tags": []
   },
   "outputs": [],
   "source": [
    "#Performance evaluation\n",
    "def print_scores(y_true, y_pred):\n",
    "  print(classification_report(y_true, y_pred))"
   ]
  },
  {
   "cell_type": "markdown",
   "id": "f74c070e",
   "metadata": {
    "papermill": {
     "duration": 0.006071,
     "end_time": "2025-05-04T14:16:50.186139",
     "exception": false,
     "start_time": "2025-05-04T14:16:50.180068",
     "status": "completed"
    },
    "tags": []
   },
   "source": [
    "# 5. Implement PNN"
   ]
  },
  {
   "cell_type": "code",
   "execution_count": 11,
   "id": "5d4a17c3",
   "metadata": {
    "execution": {
     "iopub.execute_input": "2025-05-04T14:16:50.199873Z",
     "iopub.status.busy": "2025-05-04T14:16:50.199188Z",
     "iopub.status.idle": "2025-05-04T14:16:50.204172Z",
     "shell.execute_reply": "2025-05-04T14:16:50.203241Z"
    },
    "papermill": {
     "duration": 0.013513,
     "end_time": "2025-05-04T14:16:50.205694",
     "exception": false,
     "start_time": "2025-05-04T14:16:50.192181",
     "status": "completed"
    },
    "tags": []
   },
   "outputs": [],
   "source": [
    "from sklearn.metrics.pairwise import pairwise_distances\n",
    "from sklearn.base import BaseEstimator, ClassifierMixin\n",
    "from sklearn.model_selection import train_test_split\n",
    "from sklearn.metrics import accuracy_score, precision_score, recall_score, f1_score, classification_report, confusion_matrix"
   ]
  },
  {
   "cell_type": "code",
   "execution_count": 12,
   "id": "797d8d05",
   "metadata": {
    "execution": {
     "iopub.execute_input": "2025-05-04T14:16:50.219824Z",
     "iopub.status.busy": "2025-05-04T14:16:50.219417Z",
     "iopub.status.idle": "2025-05-04T14:16:50.230982Z",
     "shell.execute_reply": "2025-05-04T14:16:50.230006Z"
    },
    "papermill": {
     "duration": 0.020621,
     "end_time": "2025-05-04T14:16:50.232673",
     "exception": false,
     "start_time": "2025-05-04T14:16:50.212052",
     "status": "completed"
    },
    "tags": []
   },
   "outputs": [],
   "source": [
    "from sklearn.metrics import pairwise_distances\n",
    "\n",
    "class RBFLayer:\n",
    "    def __init__(self, centers, sigma=1.0):\n",
    "        self.centers = centers\n",
    "        self.sigma = sigma\n",
    "\n",
    "    def compute(self, X):\n",
    "        diff = X[:, np.newaxis, :] - self.centers\n",
    "        dist_sq = np.sum(diff**2, axis=2)\n",
    "        return np.exp(-dist_sq / (2 * self.sigma**2))\n",
    "\n",
    "def softmax(z):\n",
    "    # z: (n_samples, n_classes)\n",
    "    z_max = np.max(z, axis=1, keepdims=True)\n",
    "    e_z = np.exp(z - z_max)\n",
    "    return e_z / e_z.sum(axis=1, keepdims=True)\n",
    "\n",
    "#Define PNN Model\n",
    "class PNN:\n",
    "    def __init__(self, sigma=1.0, batch_size=1000):\n",
    "        self.sigma = sigma\n",
    "        self.centers = None\n",
    "        self.batch_size = batch_size\n",
    "\n",
    "    def fit(self, X_train, y_train):\n",
    "        if isinstance(X_train, pd.DataFrame):\n",
    "            X_train = X_train.values\n",
    "        else:\n",
    "            X_train = X_train\n",
    "        if isinstance(y_train, pd.Series):\n",
    "            y_train = y_train.values\n",
    "        else:\n",
    "            y_train = y_train\n",
    "\n",
    "        classes = np.unique(y_train)\n",
    "        centers = []\n",
    "        for c in classes:\n",
    "            centers.append(X_train[y_train == c].mean(axis=0))\n",
    "        self.centers = np.vstack(centers)\n",
    "        self.rbf = RBFLayer(self.centers, sigma=self.sigma)\n",
    "\n",
    "    def predict_proba(self, X):\n",
    "        if isinstance(X, pd.DataFrame):\n",
    "            X = X.values\n",
    "        else:\n",
    "            X = X\n",
    "            \n",
    "        n = X.shape[0]\n",
    "        if self.batch_size is None:\n",
    "            raw = self.rbf.compute(X)\n",
    "            return softmax(raw)\n",
    "        # batch processing\n",
    "        probs = []\n",
    "        for start in range(0, n, self.batch_size):\n",
    "            end = min(start + self.batch_size, n)\n",
    "            raw = self.rbf.compute(X[start:end])\n",
    "            probs.append(softmax(raw))\n",
    "        return np.vstack(probs)\n",
    "\n",
    "    def predict(self, X):\n",
    "        # trả về nhãn 0 hoặc 1\n",
    "        probs = self.predict_proba(X)\n",
    "        return np.argmax(probs, axis=1)"
   ]
  },
  {
   "cell_type": "code",
   "execution_count": 13,
   "id": "2efb86e4",
   "metadata": {
    "execution": {
     "iopub.execute_input": "2025-05-04T14:16:50.246647Z",
     "iopub.status.busy": "2025-05-04T14:16:50.246224Z",
     "iopub.status.idle": "2025-05-04T14:16:50.250644Z",
     "shell.execute_reply": "2025-05-04T14:16:50.249879Z"
    },
    "papermill": {
     "duration": 0.013144,
     "end_time": "2025-05-04T14:16:50.252047",
     "exception": false,
     "start_time": "2025-05-04T14:16:50.238903",
     "status": "completed"
    },
    "tags": []
   },
   "outputs": [],
   "source": [
    "models_info = [\n",
    "    (\"Tháng 4 + 10\", X_train_scaled, y_train, X_test_scaled, y_test),\n",
    "]\n"
   ]
  },
  {
   "cell_type": "code",
   "execution_count": 14,
   "id": "cf207bbc",
   "metadata": {
    "execution": {
     "iopub.execute_input": "2025-05-04T14:16:50.265976Z",
     "iopub.status.busy": "2025-05-04T14:16:50.265638Z",
     "iopub.status.idle": "2025-05-04T14:17:02.684735Z",
     "shell.execute_reply": "2025-05-04T14:17:02.683756Z"
    },
    "papermill": {
     "duration": 12.427839,
     "end_time": "2025-05-04T14:17:02.686342",
     "exception": false,
     "start_time": "2025-05-04T14:16:50.258503",
     "status": "completed"
    },
    "tags": []
   },
   "outputs": [
    {
     "name": "stdout",
     "output_type": "stream",
     "text": [
      "Fine tuning...\n",
      "Tháng 4 + 10...\n",
      "Best sigma: 1.3894954943731375 with f1: 0.6018785176100467\n",
      "Train with best param...\n",
      "Tháng 4 + 10...\n",
      "(428242, 29)\n",
      "Classification Report:\n",
      "              precision    recall  f1-score   support\n",
      "\n",
      "           0       0.97      0.53      0.69    159566\n",
      "           1       0.37      0.94      0.53     47528\n",
      "\n",
      "    accuracy                           0.63    207094\n",
      "   macro avg       0.67      0.73      0.61    207094\n",
      "weighted avg       0.83      0.63      0.65    207094\n",
      "\n",
      "Confusion Matrix:\n",
      "[[85192 74374]\n",
      " [ 3050 44478]]\n"
     ]
    },
    {
     "data": {
      "image/png": "[encoded data removed]",
      "text/plain": [
       "<Figure size 640x480 with 2 Axes>"
      ]
     },
     "metadata": {},
     "output_type": "display_data"
    }
   ],
   "source": [
    "#Fine-tune + train\n",
    "sigmas = np.logspace(-2, 1, 50)\n",
    "param_grid = {'sigma': sigmas.tolist()}  # Grid search for sigma values\n",
    "\n",
    "best_score = 0\n",
    "best_sigma = 0\n",
    "\n",
    "# Perform grid search over the values of sigma\n",
    "print(\"Fine tuning...\")\n",
    "for name, train_X, train_Y, X_test, y_test in models_info:\n",
    "    X_train, X_val, y_train, y_val = train_test_split(\n",
    "        train_X, train_Y, test_size=0.2, random_state=42\n",
    "    )\n",
    "    print(f\"{name}...\")\n",
    "    for sigma in param_grid['sigma']:\n",
    "        pnn_batch = PNN(sigma=sigma, batch_size=2048)\n",
    "        pnn_batch.fit(X_train, y_train)\n",
    "        y_pred = pnn_batch.predict(X_val)\n",
    "        score = classification_report(y_val, y_pred, zero_division=0, output_dict=True)['macro avg']['f1-score']\n",
    "    \n",
    "        if score > best_score:\n",
    "            best_score = score\n",
    "            best_sigma = sigma\n",
    "\n",
    "    print(f\"Best sigma: {best_sigma} with f1: {best_score}\")\n",
    "\n",
    "# Final evaluation with the best sigma\n",
    "print(\"Train with best param...\")\n",
    "for name, X_train, y_train, X_test, y_test in models_info:\n",
    "    print(f\"{name}...\")\n",
    "    print(X_train.shape)\n",
    "    pnn_batch = PNN(sigma=best_sigma, batch_size=1000)\n",
    "    pnn_batch.fit(X_train, y_train)\n",
    "    y_pred = pnn_batch.predict(X_test)\n",
    "\n",
    "    print(\"Classification Report:\")\n",
    "    print(classification_report(y_test, y_pred))\n",
    "    print(\"Confusion Matrix:\")\n",
    "    print(confusion_matrix(y_test, y_pred))\n",
    "\n",
    "    # Optionally, plot the confusion matrix\n",
    "    cm = confusion_matrix(y_test, y_pred)\n",
    "    sns.heatmap(cm, annot=True, fmt=\"d\", cmap=\"Blues\", xticklabels=[\"No Rain\", \"Rain\"], yticklabels=[\"No Rain\", \"Rain\"])\n",
    "    plt.title(\"Confusion Matrix\")\n",
    "    plt.show()"
   ]
  },
  {
   "cell_type": "code",
   "execution_count": 15,
   "id": "a94495ec",
   "metadata": {
    "execution": {
     "iopub.execute_input": "2025-05-04T14:17:02.701805Z",
     "iopub.status.busy": "2025-05-04T14:17:02.701492Z",
     "iopub.status.idle": "2025-05-04T14:17:12.821729Z",
     "shell.execute_reply": "2025-05-04T14:17:12.820481Z"
    },
    "papermill": {
     "duration": 10.129878,
     "end_time": "2025-05-04T14:17:12.823596",
     "exception": false,
     "start_time": "2025-05-04T14:17:02.693718",
     "status": "completed"
    },
    "tags": []
   },
   "outputs": [
    {
     "name": "stdout",
     "output_type": "stream",
     "text": [
      "Fine tuning...\n",
      "Tháng 4 + 10...\n",
      "Best sigma: 1.0481131341546852 with f1: 0.6080966341506577\n",
      "Train with best param...\n",
      "Tháng 4 + 10...\n",
      "(428242, 29)\n",
      "Classification Report:\n",
      "              precision    recall  f1-score   support\n",
      "\n",
      "           0       0.99      0.45      0.62    159566\n",
      "           1       0.35      0.98      0.51     47528\n",
      "\n",
      "    accuracy                           0.57    207094\n",
      "   macro avg       0.67      0.72      0.57    207094\n",
      "weighted avg       0.84      0.57      0.60    207094\n",
      "\n",
      "Confusion Matrix:\n",
      "[[72147 87419]\n",
      " [  934 46594]]\n"
     ]
    },
    {
     "data": {
      "image/png": "[encoded data removed]",
      "text/plain": [
       "<Figure size 640x480 with 2 Axes>"
      ]
     },
     "metadata": {},
     "output_type": "display_data"
    }
   ],
   "source": [
    "#Fine-tune + train\n",
    "sigmas = np.logspace(-2, 1, 50)\n",
    "param_grid = {'sigma': sigmas.tolist()}  # Grid search for sigma values\n",
    "\n",
    "best_score = 0\n",
    "best_sigma = 0\n",
    "\n",
    "# Perform grid search over the values of sigma\n",
    "print(\"Fine tuning...\")\n",
    "for name, train_X, train_Y, X_test, y_test in models_info:\n",
    "    train_X = train_X[top_features]\n",
    "    X_test = X_test[top_features]\n",
    "    X_train, X_val, y_train, y_val = train_test_split(\n",
    "        train_X, train_Y, test_size=0.2, random_state=42\n",
    "    )\n",
    "    print(f\"{name}...\")\n",
    "    for sigma in param_grid['sigma']:\n",
    "        pnn_batch = PNN(sigma=sigma, batch_size=2048)\n",
    "        pnn_batch.fit(X_train, y_train)\n",
    "        y_pred = pnn_batch.predict(X_val)\n",
    "        score = classification_report(y_val, y_pred, zero_division=0, output_dict=True)['macro avg']['f1-score']\n",
    "    \n",
    "        if score > best_score:\n",
    "            best_score = score\n",
    "            best_sigma = sigma\n",
    "\n",
    "    print(f\"Best sigma: {best_sigma} with f1: {best_score}\")\n",
    "\n",
    "# Final evaluation with the best sigma\n",
    "print(\"Train with best param...\")\n",
    "for name, X_train, y_train, X_test, y_test in models_info:\n",
    "    print(f\"{name}...\")\n",
    "    print(X_train.shape)\n",
    "    X_train = X_train[top_features]\n",
    "    X_test = X_test[top_features]\n",
    "    pnn_batch = PNN(sigma=best_sigma, batch_size=1000)\n",
    "    pnn_batch.fit(X_train, y_train)\n",
    "    y_pred = pnn_batch.predict(X_test)\n",
    "\n",
    "    print(\"Classification Report:\")\n",
    "    print(classification_report(y_test, y_pred))\n",
    "    print(\"Confusion Matrix:\")\n",
    "    print(confusion_matrix(y_test, y_pred))\n",
    "\n",
    "    # Optionally, plot the confusion matrix\n",
    "    cm = confusion_matrix(y_test, y_pred)\n",
    "    sns.heatmap(cm, annot=True, fmt=\"d\", cmap=\"Blues\", xticklabels=[\"No Rain\", \"Rain\"], yticklabels=[\"No Rain\", \"Rain\"])\n",
    "    plt.title(\"Confusion Matrix\")\n",
    "    plt.show()"
   ]
  },
  {
   "cell_type": "markdown",
   "id": "d04ebac3",
   "metadata": {
    "papermill": {
     "duration": 0.007904,
     "end_time": "2025-05-04T14:17:12.839865",
     "exception": false,
     "start_time": "2025-05-04T14:17:12.831961",
     "status": "completed"
    },
    "tags": []
   },
   "source": [
    "# 6. Cân bằng dữ liệu (Oversampling)"
   ]
  },
  {
   "cell_type": "markdown",
   "id": "26872e52",
   "metadata": {
    "papermill": {
     "duration": 0.007992,
     "end_time": "2025-05-04T14:17:12.856034",
     "exception": false,
     "start_time": "2025-05-04T14:17:12.848042",
     "status": "completed"
    },
    "tags": []
   },
   "source": [
    "## 6.1 SMOTE"
   ]
  },
  {
   "cell_type": "code",
   "execution_count": 16,
   "id": "27368b53",
   "metadata": {
    "execution": {
     "iopub.execute_input": "2025-05-04T14:17:12.876117Z",
     "iopub.status.busy": "2025-05-04T14:17:12.875696Z",
     "iopub.status.idle": "2025-05-04T14:17:19.106771Z",
     "shell.execute_reply": "2025-05-04T14:17:19.105618Z"
    },
    "papermill": {
     "duration": 6.243392,
     "end_time": "2025-05-04T14:17:19.108809",
     "exception": false,
     "start_time": "2025-05-04T14:17:12.865417",
     "status": "completed"
    },
    "tags": []
   },
   "outputs": [],
   "source": [
    "# SMOTE\n",
    "from imblearn.over_sampling import SMOTE\n",
    "\n",
    "sm = SMOTE()\n",
    "\n",
    "X_sm, y_sm = sm.fit_resample(X_train, y_train)\n",
    "X_sm.shape, y_sm.shape\n",
    "\n",
    "scaler = StandardScaler()\n",
    "X_train_scaled = scaler.fit_transform(X_sm)\n",
    "X_test_scaled = scaler.transform(X_test)\n",
    "\n",
    "X_train_scaled = pd.DataFrame(X_train_scaled, columns=X_train.columns)\n",
    "X_test_scaled = pd.DataFrame(X_test_scaled, columns=X_test.columns)"
   ]
  },
  {
   "cell_type": "code",
   "execution_count": 17,
   "id": "f10e8643",
   "metadata": {
    "execution": {
     "iopub.execute_input": "2025-05-04T14:17:19.128438Z",
     "iopub.status.busy": "2025-05-04T14:17:19.128083Z",
     "iopub.status.idle": "2025-05-04T14:17:19.133652Z",
     "shell.execute_reply": "2025-05-04T14:17:19.132703Z"
    },
    "papermill": {
     "duration": 0.01611,
     "end_time": "2025-05-04T14:17:19.135051",
     "exception": false,
     "start_time": "2025-05-04T14:17:19.118941",
     "status": "completed"
    },
    "tags": []
   },
   "outputs": [],
   "source": [
    "models_info = [\n",
    "    (\"Tháng 4 + 10 smote\", X_train_scaled, y_sm, X_test_scaled, y_test),\n",
    "]\n"
   ]
  },
  {
   "cell_type": "code",
   "execution_count": 18,
   "id": "6123d858",
   "metadata": {
    "execution": {
     "iopub.execute_input": "2025-05-04T14:17:19.151450Z",
     "iopub.status.busy": "2025-05-04T14:17:19.151066Z",
     "iopub.status.idle": "2025-05-04T14:17:39.839994Z",
     "shell.execute_reply": "2025-05-04T14:17:39.838724Z"
    },
    "papermill": {
     "duration": 20.69945,
     "end_time": "2025-05-04T14:17:39.842078",
     "exception": false,
     "start_time": "2025-05-04T14:17:19.142628",
     "status": "completed"
    },
    "tags": []
   },
   "outputs": [
    {
     "name": "stdout",
     "output_type": "stream",
     "text": [
      "Fine tuning...\n",
      "Tháng 4 + 10 smote...\n",
      "Best sigma: 1.5998587196060574 with f1: 0.75511401006523\n",
      "Train with best param...\n",
      "Tháng 4 + 10 smote...\n",
      "(786988, 15)\n",
      "Classification Report:\n",
      "              precision    recall  f1-score   support\n",
      "\n",
      "           0       0.99      0.40      0.57    159566\n",
      "           1       0.33      0.99      0.49     47528\n",
      "\n",
      "    accuracy                           0.53    207094\n",
      "   macro avg       0.66      0.69      0.53    207094\n",
      "weighted avg       0.84      0.53      0.55    207094\n",
      "\n",
      "Confusion Matrix:\n",
      "[[63234 96332]\n",
      " [  623 46905]]\n"
     ]
    },
    {
     "data": {
      "image/png": "[encoded data removed]",
      "text/plain": [
       "<Figure size 640x480 with 2 Axes>"
      ]
     },
     "metadata": {},
     "output_type": "display_data"
    }
   ],
   "source": [
    "#Fine-tune + train\n",
    "sigmas = np.logspace(-2, 1, 50)\n",
    "param_grid = {'sigma': sigmas.tolist()}  # Grid search for sigma values\n",
    "\n",
    "best_score = 0\n",
    "best_sigma = 0\n",
    "\n",
    "# Perform grid search over the values of sigma\n",
    "print(\"Fine tuning...\")\n",
    "for name, train_X, train_Y, X_test, y_test in models_info:\n",
    "    X_train, X_val, y_train, y_val = train_test_split(\n",
    "        train_X, train_Y, test_size=0.2, random_state=42\n",
    "    )\n",
    "    print(f\"{name}...\")\n",
    "    for sigma in param_grid['sigma']:\n",
    "        pnn_batch = PNN(sigma=sigma, batch_size=2048)\n",
    "        pnn_batch.fit(X_train, y_train)\n",
    "        y_pred = pnn_batch.predict(X_val)\n",
    "        score = classification_report(y_val, y_pred, zero_division=0, output_dict=True)['macro avg']['f1-score']\n",
    "    \n",
    "        if score > best_score:\n",
    "            best_score = score\n",
    "            best_sigma = sigma\n",
    "\n",
    "    print(f\"Best sigma: {best_sigma} with f1: {best_score}\")\n",
    "\n",
    "# Final evaluation with the best sigma\n",
    "print(\"Train with best param...\")\n",
    "for name, X_train, y_train, X_test, y_test in models_info:\n",
    "    print(f\"{name}...\")\n",
    "    print(X_train.shape)\n",
    "    pnn_batch = PNN(sigma=best_sigma, batch_size=1000)\n",
    "    pnn_batch.fit(X_train, y_train)\n",
    "    y_pred = pnn_batch.predict(X_test)\n",
    "\n",
    "    print(\"Classification Report:\")\n",
    "    print(classification_report(y_test, y_pred))\n",
    "    print(\"Confusion Matrix:\")\n",
    "    print(confusion_matrix(y_test, y_pred))\n",
    "\n",
    "    # Optionally, plot the confusion matrix\n",
    "    cm = confusion_matrix(y_test, y_pred)\n",
    "    sns.heatmap(cm, annot=True, fmt=\"d\", cmap=\"Blues\", xticklabels=[\"No Rain\", \"Rain\"], yticklabels=[\"No Rain\", \"Rain\"])\n",
    "    plt.title(\"Confusion Matrix\")\n",
    "    plt.show()"
   ]
  },
  {
   "cell_type": "code",
   "execution_count": 19,
   "id": "80886774",
   "metadata": {
    "execution": {
     "iopub.execute_input": "2025-05-04T14:17:39.862491Z",
     "iopub.status.busy": "2025-05-04T14:17:39.862074Z",
     "iopub.status.idle": "2025-05-04T14:18:00.478765Z",
     "shell.execute_reply": "2025-05-04T14:18:00.477668Z"
    },
    "papermill": {
     "duration": 20.628429,
     "end_time": "2025-05-04T14:18:00.480480",
     "exception": false,
     "start_time": "2025-05-04T14:17:39.852051",
     "status": "completed"
    },
    "tags": []
   },
   "outputs": [
    {
     "name": "stdout",
     "output_type": "stream",
     "text": [
      "Fine tuning...\n",
      "Tháng 4 + 10 smote...\n",
      "Best sigma: 1.5998587196060574 with f1: 0.75511401006523\n",
      "Train with best param...\n",
      "Tháng 4 + 10 smote...\n",
      "(786988, 15)\n",
      "Classification Report:\n",
      "              precision    recall  f1-score   support\n",
      "\n",
      "           0       0.99      0.40      0.57    159566\n",
      "           1       0.33      0.99      0.49     47528\n",
      "\n",
      "    accuracy                           0.53    207094\n",
      "   macro avg       0.66      0.69      0.53    207094\n",
      "weighted avg       0.84      0.53      0.55    207094\n",
      "\n",
      "Confusion Matrix:\n",
      "[[63234 96332]\n",
      " [  623 46905]]\n"
     ]
    },
    {
     "data": {
      "image/png": "[encoded data removed]",
      "text/plain": [
       "<Figure size 640x480 with 2 Axes>"
      ]
     },
     "metadata": {},
     "output_type": "display_data"
    }
   ],
   "source": [
    "#Fine-tune + train\n",
    "sigmas = np.logspace(-2, 1, 50)\n",
    "param_grid = {'sigma': sigmas.tolist()}  # Grid search for sigma values\n",
    "\n",
    "best_score = 0\n",
    "best_sigma = 0\n",
    "\n",
    "# Perform grid search over the values of sigma\n",
    "print(\"Fine tuning...\")\n",
    "for name, train_X, train_Y, X_test, y_test in models_info:\n",
    "    train_X = train_X[top_features]\n",
    "    X_test = X_test[top_features]\n",
    "    X_train, X_val, y_train, y_val = train_test_split(\n",
    "        train_X, train_Y, test_size=0.2, random_state=42\n",
    "    )\n",
    "    print(f\"{name}...\")\n",
    "    for sigma in param_grid['sigma']:\n",
    "        pnn_batch = PNN(sigma=sigma, batch_size=2048)\n",
    "        pnn_batch.fit(X_train, y_train)\n",
    "        y_pred = pnn_batch.predict(X_val)\n",
    "        score = classification_report(y_val, y_pred, zero_division=0, output_dict=True)['macro avg']['f1-score']\n",
    "    \n",
    "        if score > best_score:\n",
    "            best_score = score\n",
    "            best_sigma = sigma\n",
    "\n",
    "    print(f\"Best sigma: {best_sigma} with f1: {best_score}\")\n",
    "\n",
    "# Final evaluation with the best sigma\n",
    "print(\"Train with best param...\")\n",
    "for name, X_train, y_train, X_test, y_test in models_info:\n",
    "    print(f\"{name}...\")\n",
    "    print(X_train.shape)\n",
    "    X_train = X_train[top_features]\n",
    "    X_test = X_test[top_features]\n",
    "    pnn_batch = PNN(sigma=best_sigma, batch_size=1000)\n",
    "    pnn_batch.fit(X_train, y_train)\n",
    "    y_pred = pnn_batch.predict(X_test)\n",
    "\n",
    "    print(\"Classification Report:\")\n",
    "    print(classification_report(y_test, y_pred))\n",
    "    print(\"Confusion Matrix:\")\n",
    "    print(confusion_matrix(y_test, y_pred))\n",
    "\n",
    "    # Optionally, plot the confusion matrix\n",
    "    cm = confusion_matrix(y_test, y_pred)\n",
    "    sns.heatmap(cm, annot=True, fmt=\"d\", cmap=\"Blues\", xticklabels=[\"No Rain\", \"Rain\"], yticklabels=[\"No Rain\", \"Rain\"])\n",
    "    plt.title(\"Confusion Matrix\")\n",
    "    plt.show()"
   ]
  },
  {
   "cell_type": "markdown",
   "id": "fc3e6297",
   "metadata": {
    "papermill": {
     "duration": 0.008573,
     "end_time": "2025-05-04T14:18:00.498598",
     "exception": false,
     "start_time": "2025-05-04T14:18:00.490025",
     "status": "completed"
    },
    "tags": []
   },
   "source": [
    "## 6.2 SMOTE ENN"
   ]
  },
  {
   "cell_type": "code",
   "execution_count": 20,
   "id": "02b6d0ae",
   "metadata": {
    "execution": {
     "iopub.execute_input": "2025-05-04T14:18:00.517938Z",
     "iopub.status.busy": "2025-05-04T14:18:00.517602Z",
     "iopub.status.idle": "2025-05-04T14:19:35.102543Z",
     "shell.execute_reply": "2025-05-04T14:19:35.101176Z"
    },
    "papermill": {
     "duration": 94.597776,
     "end_time": "2025-05-04T14:19:35.105048",
     "exception": false,
     "start_time": "2025-05-04T14:18:00.507272",
     "status": "completed"
    },
    "tags": []
   },
   "outputs": [],
   "source": [
    "# SMOTE ENN\n",
    "from imblearn.combine import SMOTEENN\n",
    "\n",
    "smenn = SMOTEENN()\n",
    "\n",
    "X_smenn, y_smenn = smenn.fit_resample(X_train, y_train)\n",
    "X_smenn.shape, y_sm.shape\n",
    "\n",
    "scaler = StandardScaler()\n",
    "X_train_scaled = scaler.fit_transform(X_smenn)\n",
    "X_test_scaled = scaler.transform(X_test)\n",
    "\n",
    "X_train_scaled = pd.DataFrame(X_train_scaled, columns=X_train.columns)\n",
    "X_test_scaled = pd.DataFrame(X_test_scaled, columns=X_test.columns)"
   ]
  },
  {
   "cell_type": "code",
   "execution_count": 21,
   "id": "01f290e6",
   "metadata": {
    "execution": {
     "iopub.execute_input": "2025-05-04T14:19:35.126169Z",
     "iopub.status.busy": "2025-05-04T14:19:35.125210Z",
     "iopub.status.idle": "2025-05-04T14:19:35.130998Z",
     "shell.execute_reply": "2025-05-04T14:19:35.130102Z"
    },
    "papermill": {
     "duration": 0.01768,
     "end_time": "2025-05-04T14:19:35.132530",
     "exception": false,
     "start_time": "2025-05-04T14:19:35.114850",
     "status": "completed"
    },
    "tags": []
   },
   "outputs": [],
   "source": [
    "models_info = [\n",
    "    (\"Tháng 4 + 10 smoteenn\", X_train_scaled, y_smenn, X_test_scaled, y_test),\n",
    "]\n"
   ]
  },
  {
   "cell_type": "code",
   "execution_count": 22,
   "id": "5e7f164c",
   "metadata": {
    "execution": {
     "iopub.execute_input": "2025-05-04T14:19:35.152922Z",
     "iopub.status.busy": "2025-05-04T14:19:35.152463Z",
     "iopub.status.idle": "2025-05-04T14:19:53.338371Z",
     "shell.execute_reply": "2025-05-04T14:19:53.337213Z"
    },
    "papermill": {
     "duration": 18.198717,
     "end_time": "2025-05-04T14:19:53.340817",
     "exception": false,
     "start_time": "2025-05-04T14:19:35.142100",
     "status": "completed"
    },
    "tags": []
   },
   "outputs": [
    {
     "name": "stdout",
     "output_type": "stream",
     "text": [
      "Fine tuning...\n",
      "Tháng 4 + 10 smoteenn...\n",
      "Best sigma: 1.5998587196060574 with f1: 0.7874994438807961\n",
      "Train with best param...\n",
      "Tháng 4 + 10 smoteenn...\n",
      "(704873, 15)\n",
      "Classification Report:\n",
      "              precision    recall  f1-score   support\n",
      "\n",
      "           0       0.99      0.39      0.56    159566\n",
      "           1       0.32      0.99      0.49     47528\n",
      "\n",
      "    accuracy                           0.52    207094\n",
      "   macro avg       0.66      0.69      0.52    207094\n",
      "weighted avg       0.84      0.52      0.54    207094\n",
      "\n",
      "Confusion Matrix:\n",
      "[[61761 97805]\n",
      " [  593 46935]]\n"
     ]
    },
    {
     "data": {
      "image/png": "[encoded data removed]",
      "text/plain": [
       "<Figure size 640x480 with 2 Axes>"
      ]
     },
     "metadata": {},
     "output_type": "display_data"
    }
   ],
   "source": [
    "#Fine-tune + train\n",
    "sigmas = np.logspace(-2, 1, 50)\n",
    "param_grid = {'sigma': sigmas.tolist()}  # Grid search for sigma values\n",
    "\n",
    "best_score = 0\n",
    "best_sigma = 0\n",
    "\n",
    "# Perform grid search over the values of sigma\n",
    "print(\"Fine tuning...\")\n",
    "for name, train_X, train_Y, X_test, y_test in models_info:\n",
    "    X_train, X_val, y_train, y_val = train_test_split(\n",
    "        train_X, train_Y, test_size=0.2, random_state=42\n",
    "    )\n",
    "    print(f\"{name}...\")\n",
    "    for sigma in param_grid['sigma']:\n",
    "        pnn_batch = PNN(sigma=sigma, batch_size=2048)\n",
    "        pnn_batch.fit(X_train, y_train)\n",
    "        y_pred = pnn_batch.predict(X_val)\n",
    "        score = classification_report(y_val, y_pred, zero_division=0, output_dict=True)['macro avg']['f1-score']\n",
    "    \n",
    "        if score > best_score:\n",
    "            best_score = score\n",
    "            best_sigma = sigma\n",
    "\n",
    "    print(f\"Best sigma: {best_sigma} with f1: {best_score}\")\n",
    "\n",
    "# Final evaluation with the best sigma\n",
    "print(\"Train with best param...\")\n",
    "for name, X_train, y_train, X_test, y_test in models_info:\n",
    "    print(f\"{name}...\")\n",
    "    print(X_train.shape)\n",
    "    pnn_batch = PNN(sigma=best_sigma, batch_size=1000)\n",
    "    pnn_batch.fit(X_train, y_train)\n",
    "    y_pred = pnn_batch.predict(X_test)\n",
    "\n",
    "    print(\"Classification Report:\")\n",
    "    print(classification_report(y_test, y_pred))\n",
    "    print(\"Confusion Matrix:\")\n",
    "    print(confusion_matrix(y_test, y_pred))\n",
    "\n",
    "    # Optionally, plot the confusion matrix\n",
    "    cm = confusion_matrix(y_test, y_pred)\n",
    "    sns.heatmap(cm, annot=True, fmt=\"d\", cmap=\"Blues\", xticklabels=[\"No Rain\", \"Rain\"], yticklabels=[\"No Rain\", \"Rain\"])\n",
    "    plt.title(\"Confusion Matrix\")\n",
    "    plt.show()"
   ]
  },
  {
   "cell_type": "code",
   "execution_count": 23,
   "id": "a52a295f",
   "metadata": {
    "execution": {
     "iopub.execute_input": "2025-05-04T14:19:53.374214Z",
     "iopub.status.busy": "2025-05-04T14:19:53.373067Z",
     "iopub.status.idle": "2025-05-04T14:20:11.551836Z",
     "shell.execute_reply": "2025-05-04T14:20:11.550873Z"
    },
    "papermill": {
     "duration": 18.198176,
     "end_time": "2025-05-04T14:20:11.553548",
     "exception": false,
     "start_time": "2025-05-04T14:19:53.355372",
     "status": "completed"
    },
    "tags": []
   },
   "outputs": [
    {
     "name": "stdout",
     "output_type": "stream",
     "text": [
      "Fine tuning...\n",
      "Tháng 4 + 10 smoteenn...\n",
      "Best sigma: 1.5998587196060574 with f1: 0.7874994438807961\n",
      "Train with best param...\n",
      "Tháng 4 + 10 smoteenn...\n",
      "(704873, 15)\n",
      "Classification Report:\n",
      "              precision    recall  f1-score   support\n",
      "\n",
      "           0       0.99      0.39      0.56    159566\n",
      "           1       0.32      0.99      0.49     47528\n",
      "\n",
      "    accuracy                           0.52    207094\n",
      "   macro avg       0.66      0.69      0.52    207094\n",
      "weighted avg       0.84      0.52      0.54    207094\n",
      "\n",
      "Confusion Matrix:\n",
      "[[61761 97805]\n",
      " [  593 46935]]\n"
     ]
    },
    {
     "data": {
      "image/png": "[encoded data removed]",
      "text/plain": [
       "<Figure size 640x480 with 2 Axes>"
      ]
     },
     "metadata": {},
     "output_type": "display_data"
    }
   ],
   "source": [
    "#Fine-tune + train\n",
    "sigmas = np.logspace(-2, 1, 50)\n",
    "param_grid = {'sigma': sigmas.tolist()}  # Grid search for sigma values\n",
    "\n",
    "best_score = 0\n",
    "best_sigma = 0\n",
    "\n",
    "# Perform grid search over the values of sigma\n",
    "print(\"Fine tuning...\")\n",
    "for name, train_X, train_Y, X_test, y_test in models_info:\n",
    "    train_X = train_X[top_features]\n",
    "    X_test = X_test[top_features]\n",
    "    X_train, X_val, y_train, y_val = train_test_split(\n",
    "        train_X, train_Y, test_size=0.2, random_state=42\n",
    "    )\n",
    "    print(f\"{name}...\")\n",
    "    for sigma in param_grid['sigma']:\n",
    "        pnn_batch = PNN(sigma=sigma, batch_size=2048)\n",
    "        pnn_batch.fit(X_train, y_train)\n",
    "        y_pred = pnn_batch.predict(X_val)\n",
    "        score = classification_report(y_val, y_pred, zero_division=0, output_dict=True)['macro avg']['f1-score']\n",
    "    \n",
    "        if score > best_score:\n",
    "            best_score = score\n",
    "            best_sigma = sigma\n",
    "\n",
    "    print(f\"Best sigma: {best_sigma} with f1: {best_score}\")\n",
    "\n",
    "# Final evaluation with the best sigma\n",
    "print(\"Train with best param...\")\n",
    "for name, X_train, y_train, X_test, y_test in models_info:\n",
    "    print(f\"{name}...\")\n",
    "    print(X_train.shape)\n",
    "    X_train = X_train[top_features]\n",
    "    X_test = X_test[top_features]\n",
    "    pnn_batch = PNN(sigma=best_sigma, batch_size=1000)\n",
    "    pnn_batch.fit(X_train, y_train)\n",
    "    y_pred = pnn_batch.predict(X_test)\n",
    "\n",
    "    print(\"Classification Report:\")\n",
    "    print(classification_report(y_test, y_pred))\n",
    "    print(\"Confusion Matrix:\")\n",
    "    print(confusion_matrix(y_test, y_pred))\n",
    "\n",
    "    # Optionally, plot the confusion matrix\n",
    "    cm = confusion_matrix(y_test, y_pred)\n",
    "    sns.heatmap(cm, annot=True, fmt=\"d\", cmap=\"Blues\", xticklabels=[\"No Rain\", \"Rain\"], yticklabels=[\"No Rain\", \"Rain\"])\n",
    "    plt.title(\"Confusion Matrix\")\n",
    "    plt.show()"
   ]
  },
  {
   "cell_type": "markdown",
   "id": "678b3dd5",
   "metadata": {
    "papermill": {
     "duration": 0.01161,
     "end_time": "2025-05-04T14:20:11.683889",
     "exception": false,
     "start_time": "2025-05-04T14:20:11.672279",
     "status": "completed"
    },
    "tags": []
   },
   "source": [
    "# 7. Kết luận"
   ]
  },
  {
   "cell_type": "markdown",
   "id": "7d29b6a5",
   "metadata": {
    "papermill": {
     "duration": 0.011443,
     "end_time": "2025-05-04T14:20:11.707031",
     "exception": false,
     "start_time": "2025-05-04T14:20:11.695588",
     "status": "completed"
    },
    "tags": []
   },
   "source": [
    "- PNN hoạt động tốt khi không chọn lọc đặc trưng hơn\n",
    "- Kết quả cao hơn so với chia theo thời gian riêng từng bộ\n",
    "- Kết quả tốt nhất khi không oversampling, lấy tất cả các đặc trưng => Khả năng học của PNN không bị phụ thuộc bởi việc tăng thêm nhiều dữ liệu"
   ]
  }
 ],
 "metadata": {
  "kaggle": {
   "accelerator": "none",
   "dataSources": [
    {
     "datasetId": 6979951,
     "sourceId": 11182321,
     "sourceType": "datasetVersion"
    },
    {
     "datasetId": 6988906,
     "sourceId": 11449400,
     "sourceType": "datasetVersion"
    }
   ],
   "dockerImageVersionId": 31012,
   "isGpuEnabled": false,
   "isInternetEnabled": true,
   "language": "python",
   "sourceType": "notebook"
  },
  "kernelspec": {
   "display_name": "Python 3",
   "language": "python",
   "name": "python3"
  },
  "language_info": {
   "codemirror_mode": {
    "name": "ipython",
    "version": 3
   },
   "file_extension": ".py",
   "mimetype": "text/x-python",
   "name": "python",
   "nbconvert_exporter": "python",
   "pygments_lexer": "ipython3",
   "version": "3.11.11"
  },
  "papermill": {
   "default_parameters": {},
   "duration": 236.285835,
   "end_time": "2025-05-04T14:20:12.842756",
   "environment_variables": {},
   "exception": null,
   "input_path": "__notebook__.ipynb",
   "output_path": "__notebook__.ipynb",
   "parameters": {},
   "start_time": "2025-05-04T14:16:16.556921",
   "version": "2.6.0"
  }
 },
 "nbformat": 4,
 "nbformat_minor": 5
}
