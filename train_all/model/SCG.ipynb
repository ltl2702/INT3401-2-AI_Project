{
 "cells": [
  {
   "cell_type": "code",
   "execution_count": 1,
   "id": "9bb19614",
   "metadata": {
    "_cell_guid": "b1076dfc-b9ad-4769-8c92-a6c4dae69d19",
    "_uuid": "8f2839f25d086af736a60e9eeb907d3b93b6e0e5",
    "execution": {
     "iopub.execute_input": "2025-05-04T15:03:08.313921Z",
     "iopub.status.busy": "2025-05-04T15:03:08.313516Z",
     "iopub.status.idle": "2025-05-04T15:03:23.938002Z",
     "shell.execute_reply": "2025-05-04T15:03:23.936633Z"
    },
    "papermill": {
     "duration": 15.635514,
     "end_time": "2025-05-04T15:03:23.939971",
     "exception": false,
     "start_time": "2025-05-04T15:03:08.304457",
     "status": "completed"
    },
    "tags": []
   },
   "outputs": [
    {
     "name": "stdout",
     "output_type": "stream",
     "text": [
      "Requirement already satisfied: xgboost in /usr/local/lib/python3.11/dist-packages (2.0.3)\r\n",
      "Requirement already satisfied: numpy in /usr/local/lib/python3.11/dist-packages (from xgboost) (1.26.4)\r\n",
      "Requirement already satisfied: scipy in /usr/local/lib/python3.11/dist-packages (from xgboost) (1.15.2)\r\n",
      "Requirement already satisfied: mkl_fft in /usr/local/lib/python3.11/dist-packages (from numpy->xgboost) (1.3.8)\r\n",
      "Requirement already satisfied: mkl_random in /usr/local/lib/python3.11/dist-packages (from numpy->xgboost) (1.2.4)\r\n",
      "Requirement already satisfied: mkl_umath in /usr/local/lib/python3.11/dist-packages (from numpy->xgboost) (0.1.1)\r\n",
      "Requirement already satisfied: mkl in /usr/local/lib/python3.11/dist-packages (from numpy->xgboost) (2025.1.0)\r\n",
      "Requirement already satisfied: tbb4py in /usr/local/lib/python3.11/dist-packages (from numpy->xgboost) (2022.1.0)\r\n",
      "Requirement already satisfied: mkl-service in /usr/local/lib/python3.11/dist-packages (from numpy->xgboost) (2.4.1)\r\n",
      "Requirement already satisfied: intel-openmp<2026,>=2024 in /usr/local/lib/python3.11/dist-packages (from mkl->numpy->xgboost) (2024.2.0)\r\n",
      "Requirement already satisfied: tbb==2022.* in /usr/local/lib/python3.11/dist-packages (from mkl->numpy->xgboost) (2022.1.0)\r\n",
      "Requirement already satisfied: tcmlib==1.* in /usr/local/lib/python3.11/dist-packages (from tbb==2022.*->mkl->numpy->xgboost) (1.2.0)\r\n",
      "Requirement already satisfied: intel-cmplr-lib-rt in /usr/local/lib/python3.11/dist-packages (from mkl_umath->numpy->xgboost) (2024.2.0)\r\n",
      "Requirement already satisfied: intel-cmplr-lib-ur==2024.2.0 in /usr/local/lib/python3.11/dist-packages (from intel-openmp<2026,>=2024->mkl->numpy->xgboost) (2024.2.0)\r\n",
      "Requirement already satisfied: scikit-learn==1.2.2 in /usr/local/lib/python3.11/dist-packages (1.2.2)\r\n",
      "Collecting imbalanced-learn==0.10.1\r\n",
      "  Downloading imbalanced_learn-0.10.1-py3-none-any.whl.metadata (8.2 kB)\r\n",
      "Requirement already satisfied: numpy>=1.17.3 in /usr/local/lib/python3.11/dist-packages (from scikit-learn==1.2.2) (1.26.4)\r\n",
      "Requirement already satisfied: scipy>=1.3.2 in /usr/local/lib/python3.11/dist-packages (from scikit-learn==1.2.2) (1.15.2)\r\n",
      "Requirement already satisfied: joblib>=1.1.1 in /usr/local/lib/python3.11/dist-packages (from scikit-learn==1.2.2) (1.4.2)\r\n",
      "Requirement already satisfied: threadpoolctl>=2.0.0 in /usr/local/lib/python3.11/dist-packages (from scikit-learn==1.2.2) (3.6.0)\r\n",
      "Requirement already satisfied: mkl_fft in /usr/local/lib/python3.11/dist-packages (from numpy>=1.17.3->scikit-learn==1.2.2) (1.3.8)\r\n",
      "Requirement already satisfied: mkl_random in /usr/local/lib/python3.11/dist-packages (from numpy>=1.17.3->scikit-learn==1.2.2) (1.2.4)\r\n",
      "Requirement already satisfied: mkl_umath in /usr/local/lib/python3.11/dist-packages (from numpy>=1.17.3->scikit-learn==1.2.2) (0.1.1)\r\n",
      "Requirement already satisfied: mkl in /usr/local/lib/python3.11/dist-packages (from numpy>=1.17.3->scikit-learn==1.2.2) (2025.1.0)\r\n",
      "Requirement already satisfied: tbb4py in /usr/local/lib/python3.11/dist-packages (from numpy>=1.17.3->scikit-learn==1.2.2) (2022.1.0)\r\n",
      "Requirement already satisfied: mkl-service in /usr/local/lib/python3.11/dist-packages (from numpy>=1.17.3->scikit-learn==1.2.2) (2.4.1)\r\n",
      "Requirement already satisfied: intel-openmp<2026,>=2024 in /usr/local/lib/python3.11/dist-packages (from mkl->numpy>=1.17.3->scikit-learn==1.2.2) (2024.2.0)\r\n",
      "Requirement already satisfied: tbb==2022.* in /usr/local/lib/python3.11/dist-packages (from mkl->numpy>=1.17.3->scikit-learn==1.2.2) (2022.1.0)\r\n",
      "Requirement already satisfied: tcmlib==1.* in /usr/local/lib/python3.11/dist-packages (from tbb==2022.*->mkl->numpy>=1.17.3->scikit-learn==1.2.2) (1.2.0)\r\n",
      "Requirement already satisfied: intel-cmplr-lib-rt in /usr/local/lib/python3.11/dist-packages (from mkl_umath->numpy>=1.17.3->scikit-learn==1.2.2) (2024.2.0)\r\n",
      "Requirement already satisfied: intel-cmplr-lib-ur==2024.2.0 in /usr/local/lib/python3.11/dist-packages (from intel-openmp<2026,>=2024->mkl->numpy>=1.17.3->scikit-learn==1.2.2) (2024.2.0)\r\n",
      "Downloading imbalanced_learn-0.10.1-py3-none-any.whl (226 kB)\r\n",
      "\u001b[2K   \u001b[90m━━━━━━━━━━━━━━━━━━━━━━━━━━━━━━━━━━━━━━━━\u001b[0m \u001b[32m226.0/226.0 kB\u001b[0m \u001b[31m4.7 MB/s\u001b[0m eta \u001b[36m0:00:00\u001b[0m\r\n",
      "\u001b[?25hInstalling collected packages: imbalanced-learn\r\n",
      "  Attempting uninstall: imbalanced-learn\r\n",
      "    Found existing installation: imbalanced-learn 0.13.0\r\n",
      "    Uninstalling imbalanced-learn-0.13.0:\r\n",
      "      Successfully uninstalled imbalanced-learn-0.13.0\r\n",
      "Successfully installed imbalanced-learn-0.10.1\r\n"
     ]
    }
   ],
   "source": [
    "import pandas as pd\n",
    "import numpy as np\n",
    "from sklearn.model_selection import train_test_split\n",
    "from sklearn.base import BaseEstimator, TransformerMixin\n",
    "from sklearn.pipeline import Pipeline\n",
    "from sklearn.preprocessing import MinMaxScaler\n",
    "from sklearn.preprocessing import StandardScaler\n",
    "import matplotlib.pyplot as plt\n",
    "import matplotlib.gridspec as gridspec\n",
    "import seaborn as sns\n",
    "from sklearn.decomposition import PCA\n",
    "from sklearn.metrics import classification_report\n",
    "from sklearn.linear_model import LogisticRegression\n",
    "from sklearn.metrics import accuracy_score, precision_score, recall_score, f1_score\n",
    "# Cài đặt \n",
    "!pip install xgboost\n",
    "!pip install scikit-learn==1.2.2 imbalanced-learn==0.10.1\n",
    "import warnings\n",
    "warnings.simplefilter('ignore', FutureWarning)"
   ]
  },
  {
   "cell_type": "code",
   "execution_count": 2,
   "id": "64ec6bac",
   "metadata": {
    "execution": {
     "iopub.execute_input": "2025-05-04T15:03:23.956475Z",
     "iopub.status.busy": "2025-05-04T15:03:23.955542Z",
     "iopub.status.idle": "2025-05-04T15:03:33.080099Z",
     "shell.execute_reply": "2025-05-04T15:03:33.079103Z"
    },
    "papermill": {
     "duration": 9.134568,
     "end_time": "2025-05-04T15:03:33.081901",
     "exception": false,
     "start_time": "2025-05-04T15:03:23.947333",
     "status": "completed"
    },
    "tags": []
   },
   "outputs": [],
   "source": [
    "import pandas as pd\n",
    "\n",
    "df01 = pd.read_csv('/kaggle/input/clean-aws-month/final_data/filled_data_april.csv')\n",
    "df02 = pd.read_csv('/kaggle/input/clean-aws-month/final_data/filled_data_october.csv')\n",
    "\n",
    "# Ghép 2 file lại với nhau\n",
    "data_filled = pd.concat([df01, df02], ignore_index=True)"
   ]
  },
  {
   "cell_type": "markdown",
   "id": "3896d2e4",
   "metadata": {
    "papermill": {
     "duration": 0.006429,
     "end_time": "2025-05-04T15:03:33.096552",
     "exception": false,
     "start_time": "2025-05-04T15:03:33.090123",
     "status": "completed"
    },
    "tags": []
   },
   "source": [
    "# 1. Xử lý dữ liệu bị thiếu"
   ]
  },
  {
   "cell_type": "code",
   "execution_count": 3,
   "id": "70b8d04c",
   "metadata": {
    "execution": {
     "iopub.execute_input": "2025-05-04T15:03:33.112156Z",
     "iopub.status.busy": "2025-05-04T15:03:33.111798Z",
     "iopub.status.idle": "2025-05-04T15:03:33.116208Z",
     "shell.execute_reply": "2025-05-04T15:03:33.115257Z"
    },
    "papermill": {
     "duration": 0.01403,
     "end_time": "2025-05-04T15:03:33.117785",
     "exception": false,
     "start_time": "2025-05-04T15:03:33.103755",
     "status": "completed"
    },
    "tags": []
   },
   "outputs": [],
   "source": [
    "# df_cleaned = data.copy()\n",
    "# df_cleaned = df_cleaned.drop(columns=['B04B', 'B05B', 'B06B', 'VSB', 'CIN'])\n",
    "\n",
    "# df_cleaned = df_cleaned[~((df_cleaned['AWS'] == -np.inf) | (df_cleaned['AWS'].isnull()))]\n",
    "# df_cleaned = df_cleaned[~((df_cleaned['SLHF'] == 9999) | (df_cleaned['SSHF'] == 9999))]"
   ]
  },
  {
   "cell_type": "code",
   "execution_count": 4,
   "id": "c1af727c",
   "metadata": {
    "execution": {
     "iopub.execute_input": "2025-05-04T15:03:33.133904Z",
     "iopub.status.busy": "2025-05-04T15:03:33.133580Z",
     "iopub.status.idle": "2025-05-04T15:03:33.138331Z",
     "shell.execute_reply": "2025-05-04T15:03:33.137363Z"
    },
    "papermill": {
     "duration": 0.015069,
     "end_time": "2025-05-04T15:03:33.139904",
     "exception": false,
     "start_time": "2025-05-04T15:03:33.124835",
     "status": "completed"
    },
    "tags": []
   },
   "outputs": [],
   "source": [
    "# data_filled = df_cleaned.fillna(df_cleaned.median(numeric_only=True))"
   ]
  },
  {
   "cell_type": "markdown",
   "id": "d43a9d1e",
   "metadata": {
    "papermill": {
     "duration": 0.00812,
     "end_time": "2025-05-04T15:03:33.154901",
     "exception": false,
     "start_time": "2025-05-04T15:03:33.146781",
     "status": "completed"
    },
    "tags": []
   },
   "source": [
    "# 2. Chia train test"
   ]
  },
  {
   "cell_type": "code",
   "execution_count": 5,
   "id": "38b1d2a6",
   "metadata": {
    "execution": {
     "iopub.execute_input": "2025-05-04T15:03:33.171639Z",
     "iopub.status.busy": "2025-05-04T15:03:33.171256Z",
     "iopub.status.idle": "2025-05-04T15:03:33.789205Z",
     "shell.execute_reply": "2025-05-04T15:03:33.787846Z"
    },
    "papermill": {
     "duration": 0.629422,
     "end_time": "2025-05-04T15:03:33.791350",
     "exception": false,
     "start_time": "2025-05-04T15:03:33.161928",
     "status": "completed"
    },
    "tags": []
   },
   "outputs": [
    {
     "name": "stdout",
     "output_type": "stream",
     "text": [
      "Train set: (428242, 33)\n",
      "Test set (October 2020): (207094, 33)\n"
     ]
    }
   ],
   "source": [
    "def split_data_by_multiple_ranges(df, train_ranges):\n",
    "    train_mask = False\n",
    "    for start, end in train_ranges:\n",
    "        train_mask |= (df['datetime'] >= start) & (df['datetime'] < end)\n",
    "    train_df = df[train_mask]\n",
    "    test_df = df[~train_mask]\n",
    "    return train_df, test_df\n",
    "\n",
    "def convert_rain_label(df):\n",
    "    df['AWS'] = df['AWS'].apply(lambda x: 1 if x > 0 else 0)\n",
    "    return df\n",
    "\n",
    "# Gắn nhãn\n",
    "df_all1 = convert_rain_label(data_filled)\n",
    "\n",
    "# Chuyển datetime nếu chưa\n",
    "df_all1['datetime'] = pd.to_datetime(df_all1['datetime'])\n",
    "\n",
    "# Chọn các khoảng train: tháng 4/2019, 10/2019, 4/2020\n",
    "train_ranges = [\n",
    "    (\"2019-04-01\", \"2019-04-30\"),\n",
    "    (\"2019-10-01\", \"2019-10-31\"),\n",
    "    (\"2020-04-01\", \"2020-04-30\"),\n",
    "]\n",
    "\n",
    "# Tách train/test theo mốc trên\n",
    "train_df, test_df = split_data_by_multiple_ranges(df_all1, train_ranges)\n",
    "\n",
    "# Giữ lại chỉ test tháng 10/2020\n",
    "test_df = test_df[\n",
    "    (test_df['datetime'] >= \"2020-10-01\") & (test_df['datetime'] <= \"2020-10-31\")\n",
    "]\n",
    "\n",
    "# Kết quả\n",
    "print(f\"Train set: {train_df.shape}\")\n",
    "print(f\"Test set (October 2020): {test_df.shape}\")"
   ]
  },
  {
   "cell_type": "code",
   "execution_count": 6,
   "id": "0d80a41a",
   "metadata": {
    "execution": {
     "iopub.execute_input": "2025-05-04T15:03:33.808009Z",
     "iopub.status.busy": "2025-05-04T15:03:33.807606Z",
     "iopub.status.idle": "2025-05-04T15:03:33.884045Z",
     "shell.execute_reply": "2025-05-04T15:03:33.882971Z"
    },
    "papermill": {
     "duration": 0.087313,
     "end_time": "2025-05-04T15:03:33.885889",
     "exception": false,
     "start_time": "2025-05-04T15:03:33.798576",
     "status": "completed"
    },
    "tags": []
   },
   "outputs": [],
   "source": [
    "X_train = train_df.drop(columns=['AWS', 'datetime', 'row','col'])\n",
    "y_train = train_df['AWS']\n",
    "\n",
    "X_test = test_df.drop(columns=['AWS', 'datetime', 'row','col'])\n",
    "y_test = test_df['AWS']"
   ]
  },
  {
   "cell_type": "markdown",
   "id": "fbcaaa95",
   "metadata": {
    "papermill": {
     "duration": 0.007305,
     "end_time": "2025-05-04T15:03:33.901748",
     "exception": false,
     "start_time": "2025-05-04T15:03:33.894443",
     "status": "completed"
    },
    "tags": []
   },
   "source": [
    "# 3. Chuẩn hóa"
   ]
  },
  {
   "cell_type": "code",
   "execution_count": 7,
   "id": "6f09b487",
   "metadata": {
    "execution": {
     "iopub.execute_input": "2025-05-04T15:03:33.918588Z",
     "iopub.status.busy": "2025-05-04T15:03:33.918266Z",
     "iopub.status.idle": "2025-05-04T15:03:34.244386Z",
     "shell.execute_reply": "2025-05-04T15:03:34.243164Z"
    },
    "papermill": {
     "duration": 0.336559,
     "end_time": "2025-05-04T15:03:34.246168",
     "exception": false,
     "start_time": "2025-05-04T15:03:33.909609",
     "status": "completed"
    },
    "tags": []
   },
   "outputs": [],
   "source": [
    "from sklearn.preprocessing import MinMaxScaler\n",
    "from sklearn.preprocessing import StandardScaler\n",
    "\n",
    "scaler = StandardScaler()\n",
    "X_train_scaled = scaler.fit_transform(X_train)\n",
    "X_test_scaled = scaler.transform(X_test)\n",
    "\n",
    "X_train_scaled = pd.DataFrame(X_train_scaled, columns=X_train.columns)\n",
    "X_test_scaled = pd.DataFrame(X_test_scaled, columns=X_test.columns)"
   ]
  },
  {
   "cell_type": "markdown",
   "id": "c4b96ef1",
   "metadata": {
    "papermill": {
     "duration": 0.00707,
     "end_time": "2025-05-04T15:03:34.264652",
     "exception": false,
     "start_time": "2025-05-04T15:03:34.257582",
     "status": "completed"
    },
    "tags": []
   },
   "source": [
    "# 4. Chọn feature"
   ]
  },
  {
   "cell_type": "code",
   "execution_count": 8,
   "id": "63416e4e",
   "metadata": {
    "execution": {
     "iopub.execute_input": "2025-05-04T15:03:34.281535Z",
     "iopub.status.busy": "2025-05-04T15:03:34.281148Z",
     "iopub.status.idle": "2025-05-04T15:03:34.286341Z",
     "shell.execute_reply": "2025-05-04T15:03:34.285397Z"
    },
    "papermill": {
     "duration": 0.017155,
     "end_time": "2025-05-04T15:03:34.288786",
     "exception": false,
     "start_time": "2025-05-04T15:03:34.271631",
     "status": "completed"
    },
    "tags": []
   },
   "outputs": [],
   "source": [
    "top_features = ['B14B', 'I2B', 'TCLW', 'R500', 'R850', 'CAPE', 'U850', 'B10B', 'PEV', 'SLOR', 'R250', 'KX', 'V250', 'U250', 'TCWV']"
   ]
  },
  {
   "cell_type": "code",
   "execution_count": 9,
   "id": "93a3fc0e",
   "metadata": {
    "execution": {
     "iopub.execute_input": "2025-05-04T15:03:34.306443Z",
     "iopub.status.busy": "2025-05-04T15:03:34.306085Z",
     "iopub.status.idle": "2025-05-04T15:03:34.311169Z",
     "shell.execute_reply": "2025-05-04T15:03:34.309941Z"
    },
    "papermill": {
     "duration": 0.016949,
     "end_time": "2025-05-04T15:03:34.313485",
     "exception": false,
     "start_time": "2025-05-04T15:03:34.296536",
     "status": "completed"
    },
    "tags": []
   },
   "outputs": [],
   "source": [
    "# X_train_selected = X_train_scaled[top_features]\n",
    "# X_test_selected = X_test_scaled[top_features]"
   ]
  },
  {
   "cell_type": "code",
   "execution_count": 10,
   "id": "2489ae36",
   "metadata": {
    "execution": {
     "iopub.execute_input": "2025-05-04T15:03:34.329513Z",
     "iopub.status.busy": "2025-05-04T15:03:34.329158Z",
     "iopub.status.idle": "2025-05-04T15:03:34.334987Z",
     "shell.execute_reply": "2025-05-04T15:03:34.333188Z"
    },
    "papermill": {
     "duration": 0.015543,
     "end_time": "2025-05-04T15:03:34.336648",
     "exception": false,
     "start_time": "2025-05-04T15:03:34.321105",
     "status": "completed"
    },
    "tags": []
   },
   "outputs": [],
   "source": [
    "#Performance evaluation\n",
    "def print_scores(y_true, y_pred):\n",
    "  print(classification_report(y_true, y_pred))"
   ]
  },
  {
   "cell_type": "markdown",
   "id": "8438dc7c",
   "metadata": {
    "papermill": {
     "duration": 0.007166,
     "end_time": "2025-05-04T15:03:34.351558",
     "exception": false,
     "start_time": "2025-05-04T15:03:34.344392",
     "status": "completed"
    },
    "tags": []
   },
   "source": [
    "# 5. SCG"
   ]
  },
  {
   "cell_type": "code",
   "execution_count": 11,
   "id": "27c3dc3a",
   "metadata": {
    "execution": {
     "iopub.execute_input": "2025-05-04T15:03:34.367856Z",
     "iopub.status.busy": "2025-05-04T15:03:34.367376Z",
     "iopub.status.idle": "2025-05-04T15:03:34.372523Z",
     "shell.execute_reply": "2025-05-04T15:03:34.371352Z"
    },
    "papermill": {
     "duration": 0.015411,
     "end_time": "2025-05-04T15:03:34.374201",
     "exception": false,
     "start_time": "2025-05-04T15:03:34.358790",
     "status": "completed"
    },
    "tags": []
   },
   "outputs": [],
   "source": [
    "import numpy as np\n",
    "import pandas as pd\n",
    "from sklearn.preprocessing import OneHotEncoder\n",
    "from sklearn.metrics import classification_report, confusion_matrix, roc_curve, auc\n",
    "import matplotlib.pyplot as plt"
   ]
  },
  {
   "cell_type": "code",
   "execution_count": 12,
   "id": "71a9b1a9",
   "metadata": {
    "execution": {
     "iopub.execute_input": "2025-05-04T15:03:34.390103Z",
     "iopub.status.busy": "2025-05-04T15:03:34.389773Z",
     "iopub.status.idle": "2025-05-04T15:03:34.394631Z",
     "shell.execute_reply": "2025-05-04T15:03:34.393665Z"
    },
    "papermill": {
     "duration": 0.014419,
     "end_time": "2025-05-04T15:03:34.396164",
     "exception": false,
     "start_time": "2025-05-04T15:03:34.381745",
     "status": "completed"
    },
    "tags": []
   },
   "outputs": [],
   "source": [
    "models_info = [\n",
    "    (\"Tháng 4 + 10\", X_train_scaled, y_train, X_test_scaled, y_test),\n",
    "]"
   ]
  },
  {
   "cell_type": "markdown",
   "id": "ba2d1878",
   "metadata": {
    "papermill": {
     "duration": 0.007106,
     "end_time": "2025-05-04T15:03:34.410472",
     "exception": false,
     "start_time": "2025-05-04T15:03:34.403366",
     "status": "completed"
    },
    "tags": []
   },
   "source": [
    "### Chọn tất"
   ]
  },
  {
   "cell_type": "code",
   "execution_count": 13,
   "id": "c992681a",
   "metadata": {
    "execution": {
     "iopub.execute_input": "2025-05-04T15:03:34.427133Z",
     "iopub.status.busy": "2025-05-04T15:03:34.426806Z",
     "iopub.status.idle": "2025-05-04T15:06:34.602600Z",
     "shell.execute_reply": "2025-05-04T15:06:34.601261Z"
    },
    "papermill": {
     "duration": 180.186989,
     "end_time": "2025-05-04T15:06:34.605042",
     "exception": false,
     "start_time": "2025-05-04T15:03:34.418053",
     "status": "completed"
    },
    "tags": []
   },
   "outputs": [
    {
     "name": "stdout",
     "output_type": "stream",
     "text": [
      "\n",
      "=== Dataset: Tháng 4 + 10 ===\n",
      " hidden_dim=10  → val loss = 0.696859\n",
      " hidden_dim=20  → val loss = 0.682030\n",
      " hidden_dim=50  → val loss = 0.688931\n",
      " hidden_dim=100 → val loss = 0.694015\n",
      " hidden_dim=150 → val loss = 0.705080\n",
      " hidden_dim=17  → val loss = 0.697219\n",
      " hidden_dim=25  → val loss = 0.695556\n",
      " hidden_dim=34  → val loss = 0.692650\n",
      " hidden_dim=50  → val loss = 0.692332\n",
      " hidden_dim=68  → val loss = 0.695137\n",
      " hidden_dim=85  → val loss = 0.693351\n",
      "⇒ Best hidden_dim = 20, validation loss = 0.682030\n",
      "Test classification report:\n"
     ]
    },
    {
     "name": "stderr",
     "output_type": "stream",
     "text": [
      "/usr/local/lib/python3.11/dist-packages/sklearn/metrics/_classification.py:1344: UndefinedMetricWarning: Precision and F-score are ill-defined and being set to 0.0 in labels with no predicted samples. Use `zero_division` parameter to control this behavior.\n",
      "  _warn_prf(average, modifier, msg_start, len(result))\n",
      "/usr/local/lib/python3.11/dist-packages/sklearn/metrics/_classification.py:1344: UndefinedMetricWarning: Precision and F-score are ill-defined and being set to 0.0 in labels with no predicted samples. Use `zero_division` parameter to control this behavior.\n",
      "  _warn_prf(average, modifier, msg_start, len(result))\n",
      "/usr/local/lib/python3.11/dist-packages/sklearn/metrics/_classification.py:1344: UndefinedMetricWarning: Precision and F-score are ill-defined and being set to 0.0 in labels with no predicted samples. Use `zero_division` parameter to control this behavior.\n",
      "  _warn_prf(average, modifier, msg_start, len(result))\n"
     ]
    },
    {
     "name": "stdout",
     "output_type": "stream",
     "text": [
      "              precision    recall  f1-score   support\n",
      "\n",
      "           0       0.00      0.00      0.00    159566\n",
      "           1       0.23      1.00      0.37     47528\n",
      "\n",
      "    accuracy                           0.23    207094\n",
      "   macro avg       0.11      0.50      0.19    207094\n",
      "weighted avg       0.05      0.23      0.09    207094\n",
      "\n",
      "Test confusion matrix:\n",
      " [[     0 159566]\n",
      " [     0  47528]]\n"
     ]
    },
    {
     "data": {
      "image/png": "[encoded data removed]",
      "text/plain": [
       "<Figure size 640x480 with 2 Axes>"
      ]
     },
     "metadata": {},
     "output_type": "display_data"
    }
   ],
   "source": [
    "import numpy as np\n",
    "from sklearn.model_selection import train_test_split\n",
    "from sklearn.preprocessing import OneHotEncoder\n",
    "from sklearn.metrics import f1_score, classification_report, confusion_matrix, roc_curve, auc\n",
    "import matplotlib.pyplot as plt\n",
    "import seaborn as sns\n",
    "\n",
    "# ——— Utility functions ———\n",
    "def softmax(Z):\n",
    "    # Ensure Z is a numpy array of shape (n_samples, n_classes)\n",
    "    Z_arr = Z.values if hasattr(Z, \"values\") else np.array(Z)\n",
    "    # 1) subtract the max for numerical stability\n",
    "    #    max_per_row: shape (n_samples,)\n",
    "    max_per_row = np.max(Z_arr, axis=1)\n",
    "    #    reshape to (n_samples, 1) so broadcasting works\n",
    "    max_per_row = max_per_row.reshape(-1, 1)\n",
    "    # 2) exponentiate\n",
    "    expZ = np.exp(Z_arr - max_per_row)\n",
    "    # 3) sum per row, then reshape to (n_samples, 1)\n",
    "    sum_per_row = np.sum(expZ, axis=1).reshape(-1, 1)\n",
    "    # 4) divide\n",
    "    return expZ / sum_per_row\n",
    "\n",
    "def pack(W1, b1, W2, b2):\n",
    "    \"\"\"\n",
    "    Flatten and concatenate parameters, handling pandas DataFrame/Series inputs.\n",
    "    \"\"\"\n",
    "    # Convert DataFrame/Series to numpy arrays\n",
    "    W1_arr = W1.values if isinstance(W1, pd.DataFrame) else np.array(W1)\n",
    "    b1_arr = b1.values if isinstance(b1, (pd.Series, pd.DataFrame)) else np.array(b1)\n",
    "    W2_arr = W2.values if isinstance(W2, pd.DataFrame) else np.array(W2)\n",
    "    b2_arr = b2.values if isinstance(b2, (pd.Series, pd.DataFrame)) else np.array(b2)\n",
    "    # Flatten and concatenate\n",
    "    return np.hstack([\n",
    "        W1_arr.ravel(),\n",
    "        b1_arr.ravel(),\n",
    "        W2_arr.ravel(),\n",
    "        b2_arr.ravel()\n",
    "    ])\n",
    "\n",
    "def unpack(p, input_dim, hidden_dim, output_dim):\n",
    "    idx = 0\n",
    "    W1 = p[idx:idx + hidden_dim*input_dim].reshape(hidden_dim, input_dim)\n",
    "    idx += hidden_dim*input_dim\n",
    "    b1 = p[idx:idx + hidden_dim]\n",
    "    idx += hidden_dim\n",
    "    W2 = p[idx:idx + output_dim*hidden_dim].reshape(output_dim, hidden_dim)\n",
    "    idx += output_dim*hidden_dim\n",
    "    b2 = p[idx:idx + output_dim]\n",
    "    return W1, b1, W2, b2\n",
    "\n",
    "def trainscg(loss_grad_func, x0, epochs=8, **lg_kwargs):\n",
    "    sigma0, lambd = 1e-6, 1e-6\n",
    "    x = x0.copy()\n",
    "    f, g = loss_grad_func(x, **lg_kwargs)\n",
    "    d = -g\n",
    "    errors = [f]\n",
    "    for epoch in range(epochs):\n",
    "        mu = d.dot(d)\n",
    "        sigma = sigma0 / np.sqrt(mu) if mu > 0 else sigma0\n",
    "        _, g1 = loss_grad_func(x + sigma*d, **lg_kwargs)\n",
    "        s = (g1 - g) / sigma\n",
    "        delta = d.dot(s)\n",
    "        if delta <= 0:\n",
    "            delta = lambd * mu\n",
    "            lambd -= delta / mu\n",
    "        alpha = -d.dot(g) / (delta + lambd*mu)\n",
    "        x_new = x + alpha*d\n",
    "        f_new, g_new = loss_grad_func(x_new, **lg_kwargs)\n",
    "        Delta = 2*(f - f_new) / (alpha * d.dot(g))\n",
    "        if Delta >= 0:\n",
    "            x, f, g = x_new, f_new, g_new\n",
    "            lambd *= max(1/3, 1 - (2*Delta - 1)**3)\n",
    "            beta = (g.dot(g) - g.dot(g_new)) / (d.dot(g))\n",
    "            d = -g + beta*d\n",
    "        else:\n",
    "            lambd += mu * (1 - Delta)\n",
    "        errors.append(f)\n",
    "    return x, errors\n",
    "\n",
    "def loss_grad_factory(X, Y_oh, input_dim, hidden_dim, output_dim):\n",
    "    def loss_and_grad(p):\n",
    "        W1, b1, W2, b2 = unpack(p, input_dim, hidden_dim, output_dim)\n",
    "        m = X.shape[0]\n",
    "        Z1 = X.dot(W1.T) + b1\n",
    "        A1 = np.tanh(Z1)\n",
    "        Z2 = A1.dot(W2.T) + b2\n",
    "        A2 = softmax(Z2)\n",
    "        loss = -np.mean(np.sum(Y_oh * np.log(A2 + 1e-12), axis=1))\n",
    "        dZ2 = (A2 - Y_oh) / m\n",
    "        dW2 = dZ2.T.dot(A1)\n",
    "        db2 = dZ2.sum(axis=0)\n",
    "        dA1 = dZ2.dot(W2)\n",
    "        dZ1 = dA1 * (1 - np.tanh(Z1)**2)\n",
    "        dW1 = dZ1.T.dot(X)\n",
    "        db1 = dZ1.sum(axis=0)\n",
    "        return loss, pack(dW1, db1, dW2, db2)\n",
    "    return loss_and_grad\n",
    "\n",
    "param_grid = {'hidden_dim': [10, 20, 50, 100, 150, 17, 25, 34, 50, 68, 85]}\n",
    "\n",
    "for name, X_trval, y_trval, X_test, y_test in models_info:\n",
    "    print(f\"\\n=== Dataset: {name} ===\")\n",
    "    # split train+val from test\n",
    "    X_train, X_val, y_train, y_val = train_test_split(\n",
    "        X_trval, y_trval, test_size=0.2, random_state=42\n",
    "    )\n",
    "    # one-hot encode y_train\n",
    "    y_arr = y_train.to_numpy().reshape(-1, 1)\n",
    "    encoder = OneHotEncoder(sparse=False, categories='auto')\n",
    "    Y_train_oh = encoder.fit_transform(y_arr.reshape(-1,1))\n",
    "    y_arv = y_val.to_numpy().reshape(-1, 1)\n",
    "    Y_val_oh   = encoder.transform(y_arv.reshape(-1,1))\n",
    "    # final test encoding not needed for training\n",
    "    \n",
    "    # scale assumed done before, X_trval and X_test are already scaled\n",
    "    \n",
    "    input_dim  = X_train.shape[1]\n",
    "    output_dim = Y_train_oh.shape[1]\n",
    "\n",
    "    best_h, best_loss = None, np.inf\n",
    "    for h in param_grid['hidden_dim']:\n",
    "        # init params\n",
    "        param_size  = h*input_dim + h + output_dim*h + output_dim\n",
    "        init_p = 0.01 * np.random.randn(param_size)\n",
    "        # train SCG\n",
    "        lg = loss_grad_factory(X_train, Y_train_oh, input_dim, h, output_dim)\n",
    "        opt_p, _ = trainscg(lg, init_p, epochs=8)\n",
    "        # predict on val\n",
    "        W1, b1, W2, b2 = unpack(opt_p, input_dim, h, output_dim)\n",
    "        Z1_val = X_val.dot(W1.T) + b1\n",
    "        A1_val = np.tanh(Z1_val)\n",
    "        Z2_val = A1_val.dot(W2.T) + b2\n",
    "        A2_val = softmax(Z2_val)\n",
    "        val_loss = -np.mean(np.sum(Y_val_oh * np.log(A2_val + 1e-12), axis=1))\n",
    "        print(f\" hidden_dim={h:<3} → val loss = {val_loss:.6f}\")\n",
    "        if val_loss < best_loss:\n",
    "            best_loss, best_h = val_loss, h\n",
    "    \n",
    "    print(f\"⇒ Best hidden_dim = {best_h}, validation loss = {best_loss:.6f}\")\n",
    "\n",
    "    X_full = np.vstack([X_train, X_val])\n",
    "    y_full = np.hstack([y_train, y_val])\n",
    "    Y_full_oh = encoder.fit_transform(y_full.reshape(-1,1))\n",
    "    param_size  = best_h*input_dim + best_h + output_dim*best_h + output_dim\n",
    "    init_p_full = 0.01 * np.random.randn(param_size)\n",
    "    lg_full = loss_grad_factory(X_full, Y_full_oh, input_dim, best_h, output_dim)\n",
    "    opt_p_full, loss_hist = trainscg(lg_full, init_p_full, epochs=8)\n",
    "    \n",
    "    # evaluate on test\n",
    "    W1f, b1f, W2f, b2f = unpack(opt_p_full, input_dim, best_h, output_dim)\n",
    "    A1_test = np.tanh(X_test.dot(W1f.T) + b1f)\n",
    "    probs_test = softmax(A1_test.dot(W2f.T) + b2f)\n",
    "    preds_test = np.argmax(probs_test, axis=1)\n",
    "    \n",
    "    print(\"Test classification report:\")\n",
    "    print(classification_report(y_test, preds_test))\n",
    "    cm = confusion_matrix(y_test, preds_test)\n",
    "    print(\"Test confusion matrix:\\n\", cm)\n",
    "    sns.heatmap(cm, annot=True, fmt=\"d\", cmap=\"Blues\")\n",
    "    plt.title(f\"{name} – hidden_dim={best_h}\")\n",
    "    plt.show()"
   ]
  },
  {
   "cell_type": "code",
   "execution_count": 14,
   "id": "4b1a9e3e",
   "metadata": {
    "execution": {
     "iopub.execute_input": "2025-05-04T15:06:34.625421Z",
     "iopub.status.busy": "2025-05-04T15:06:34.625111Z",
     "iopub.status.idle": "2025-05-04T15:09:48.710648Z",
     "shell.execute_reply": "2025-05-04T15:09:48.709647Z"
    },
    "papermill": {
     "duration": 194.098606,
     "end_time": "2025-05-04T15:09:48.712370",
     "exception": false,
     "start_time": "2025-05-04T15:06:34.613764",
     "status": "completed"
    },
    "tags": []
   },
   "outputs": [
    {
     "name": "stdout",
     "output_type": "stream",
     "text": [
      "\n",
      "=== Dataset: Tháng 4 + 10 ===\n",
      " hidden_dim=10  → val loss = 0.703423\n",
      " hidden_dim=20  → val loss = 0.686809\n",
      " hidden_dim=50  → val loss = 0.694430\n",
      " hidden_dim=100 → val loss = 0.687745\n",
      " hidden_dim=150 → val loss = 0.680188\n",
      " hidden_dim=17  → val loss = 0.698142\n",
      " hidden_dim=25  → val loss = 0.694437\n",
      " hidden_dim=34  → val loss = 0.693100\n",
      " hidden_dim=50  → val loss = 0.688656\n",
      " hidden_dim=68  → val loss = 0.694962\n",
      " hidden_dim=85  → val loss = 0.689659\n",
      "⇒ Best hidden_dim = 150, validation loss = 0.680188\n",
      "Test classification report:\n",
      "              precision    recall  f1-score   support\n",
      "\n",
      "           0       0.75      0.90      0.82    159566\n",
      "           1       0.01      0.00      0.00     47528\n",
      "\n",
      "    accuracy                           0.69    207094\n",
      "   macro avg       0.38      0.45      0.41    207094\n",
      "weighted avg       0.58      0.69      0.63    207094\n",
      "\n",
      "Test confusion matrix:\n",
      " [[143397  16169]\n",
      " [ 47409    119]]\n"
     ]
    },
    {
     "data": {
      "image/png": "[encoded data removed]",
      "text/plain": [
       "<Figure size 640x480 with 2 Axes>"
      ]
     },
     "metadata": {},
     "output_type": "display_data"
    }
   ],
   "source": [
    "import numpy as np\n",
    "from sklearn.model_selection import train_test_split\n",
    "from sklearn.preprocessing import OneHotEncoder\n",
    "from sklearn.metrics import f1_score, classification_report, confusion_matrix, roc_curve, auc\n",
    "import matplotlib.pyplot as plt\n",
    "import seaborn as sns\n",
    "\n",
    "# ——— Utility functions ———\n",
    "def softmax(Z):\n",
    "    # Ensure Z is a numpy array of shape (n_samples, n_classes)\n",
    "    Z_arr = Z.values if hasattr(Z, \"values\") else np.array(Z)\n",
    "    # 1) subtract the max for numerical stability\n",
    "    #    max_per_row: shape (n_samples,)\n",
    "    max_per_row = np.max(Z_arr, axis=1)\n",
    "    #    reshape to (n_samples, 1) so broadcasting works\n",
    "    max_per_row = max_per_row.reshape(-1, 1)\n",
    "    # 2) exponentiate\n",
    "    expZ = np.exp(Z_arr - max_per_row)\n",
    "    # 3) sum per row, then reshape to (n_samples, 1)\n",
    "    sum_per_row = np.sum(expZ, axis=1).reshape(-1, 1)\n",
    "    # 4) divide\n",
    "    return expZ / sum_per_row\n",
    "\n",
    "def pack(W1, b1, W2, b2):\n",
    "    \"\"\"\n",
    "    Flatten and concatenate parameters, handling pandas DataFrame/Series inputs.\n",
    "    \"\"\"\n",
    "    # Convert DataFrame/Series to numpy arrays\n",
    "    W1_arr = W1.values if isinstance(W1, pd.DataFrame) else np.array(W1)\n",
    "    b1_arr = b1.values if isinstance(b1, (pd.Series, pd.DataFrame)) else np.array(b1)\n",
    "    W2_arr = W2.values if isinstance(W2, pd.DataFrame) else np.array(W2)\n",
    "    b2_arr = b2.values if isinstance(b2, (pd.Series, pd.DataFrame)) else np.array(b2)\n",
    "    # Flatten and concatenate\n",
    "    return np.hstack([\n",
    "        W1_arr.ravel(),\n",
    "        b1_arr.ravel(),\n",
    "        W2_arr.ravel(),\n",
    "        b2_arr.ravel()\n",
    "    ])\n",
    "\n",
    "def unpack(p, input_dim, hidden_dim, output_dim):\n",
    "    idx = 0\n",
    "    W1 = p[idx:idx + hidden_dim*input_dim].reshape(hidden_dim, input_dim)\n",
    "    idx += hidden_dim*input_dim\n",
    "    b1 = p[idx:idx + hidden_dim]\n",
    "    idx += hidden_dim\n",
    "    W2 = p[idx:idx + output_dim*hidden_dim].reshape(output_dim, hidden_dim)\n",
    "    idx += output_dim*hidden_dim\n",
    "    b2 = p[idx:idx + output_dim]\n",
    "    return W1, b1, W2, b2\n",
    "\n",
    "def trainscg(loss_grad_func, x0, epochs=8, **lg_kwargs):\n",
    "    sigma0, lambd = 1e-6, 1e-6\n",
    "    x = x0.copy()\n",
    "    f, g = loss_grad_func(x, **lg_kwargs)\n",
    "    d = -g\n",
    "    errors = [f]\n",
    "    for epoch in range(epochs):\n",
    "        mu = d.dot(d)\n",
    "        sigma = sigma0 / np.sqrt(mu) if mu > 0 else sigma0\n",
    "        _, g1 = loss_grad_func(x + sigma*d, **lg_kwargs)\n",
    "        s = (g1 - g) / sigma\n",
    "        delta = d.dot(s)\n",
    "        if delta <= 0:\n",
    "            delta = lambd * mu\n",
    "            lambd -= delta / mu\n",
    "        alpha = -d.dot(g) / (delta + lambd*mu)\n",
    "        x_new = x + alpha*d\n",
    "        f_new, g_new = loss_grad_func(x_new, **lg_kwargs)\n",
    "        Delta = 2*(f - f_new) / (alpha * d.dot(g))\n",
    "        if Delta >= 0:\n",
    "            x, f, g = x_new, f_new, g_new\n",
    "            lambd *= max(1/3, 1 - (2*Delta - 1)**3)\n",
    "            beta = (g.dot(g) - g.dot(g_new)) / (d.dot(g))\n",
    "            d = -g + beta*d\n",
    "        else:\n",
    "            lambd += mu * (1 - Delta)\n",
    "        errors.append(f)\n",
    "    return x, errors\n",
    "\n",
    "def loss_grad_factory(X, Y_oh, input_dim, hidden_dim, output_dim):\n",
    "    def loss_and_grad(p):\n",
    "        W1, b1, W2, b2 = unpack(p, input_dim, hidden_dim, output_dim)\n",
    "        m = X.shape[0]\n",
    "        Z1 = X.dot(W1.T) + b1\n",
    "        A1 = np.tanh(Z1)\n",
    "        Z2 = A1.dot(W2.T) + b2\n",
    "        A2 = softmax(Z2)\n",
    "        loss = -np.mean(np.sum(Y_oh * np.log(A2 + 1e-12), axis=1))\n",
    "        dZ2 = (A2 - Y_oh) / m\n",
    "        dW2 = dZ2.T.dot(A1)\n",
    "        db2 = dZ2.sum(axis=0)\n",
    "        dA1 = dZ2.dot(W2)\n",
    "        dZ1 = dA1 * (1 - np.tanh(Z1)**2)\n",
    "        dW1 = dZ1.T.dot(X)\n",
    "        db1 = dZ1.sum(axis=0)\n",
    "        return loss, pack(dW1, db1, dW2, db2)\n",
    "    return loss_and_grad\n",
    "\n",
    "param_grid = {'hidden_dim': [10, 20, 50, 100, 150, 17, 25, 34, 50, 68, 85]}\n",
    "\n",
    "for name, X_trval, y_trval, X_test, y_test in models_info:\n",
    "    print(f\"\\n=== Dataset: {name} ===\")\n",
    "    # split train+val from test\n",
    "    X_trval = X_trval[top_features]\n",
    "    X_test = X_test[top_features]\n",
    "    X_train, X_val, y_train, y_val = train_test_split(\n",
    "        X_trval, y_trval, test_size=0.2, random_state=42\n",
    "    )\n",
    "    # one-hot encode y_train\n",
    "    y_arr = y_train.to_numpy().reshape(-1, 1)\n",
    "    encoder = OneHotEncoder(sparse=False, categories='auto')\n",
    "    Y_train_oh = encoder.fit_transform(y_arr.reshape(-1,1))\n",
    "    y_arv = y_val.to_numpy().reshape(-1, 1)\n",
    "    Y_val_oh   = encoder.transform(y_arv.reshape(-1,1))\n",
    "    # final test encoding not needed for training\n",
    "    \n",
    "    # scale assumed done before, X_trval and X_test are already scaled\n",
    "    \n",
    "    input_dim  = X_train.shape[1]\n",
    "    output_dim = Y_train_oh.shape[1]\n",
    "\n",
    "    best_h, best_loss = None, np.inf\n",
    "    for h in param_grid['hidden_dim']:\n",
    "        # init params\n",
    "        param_size  = h*input_dim + h + output_dim*h + output_dim\n",
    "        init_p = 0.01 * np.random.randn(param_size)\n",
    "        # train SCG\n",
    "        lg = loss_grad_factory(X_train, Y_train_oh, input_dim, h, output_dim)\n",
    "        opt_p, _ = trainscg(lg, init_p, epochs=8)\n",
    "        # predict on val\n",
    "        W1, b1, W2, b2 = unpack(opt_p, input_dim, h, output_dim)\n",
    "        Z1_val = X_val.dot(W1.T) + b1\n",
    "        A1_val = np.tanh(Z1_val)\n",
    "        Z2_val = A1_val.dot(W2.T) + b2\n",
    "        A2_val = softmax(Z2_val)\n",
    "        val_loss = -np.mean(np.sum(Y_val_oh * np.log(A2_val + 1e-12), axis=1))\n",
    "        print(f\" hidden_dim={h:<3} → val loss = {val_loss:.6f}\")\n",
    "        if val_loss < best_loss:\n",
    "            best_loss, best_h = val_loss, h\n",
    "    \n",
    "    print(f\"⇒ Best hidden_dim = {best_h}, validation loss = {best_loss:.6f}\")\n",
    "\n",
    "    X_full = np.vstack([X_train, X_val])\n",
    "    y_full = np.hstack([y_train, y_val])\n",
    "    Y_full_oh = encoder.fit_transform(y_full.reshape(-1,1))\n",
    "    param_size  = best_h*input_dim + best_h + output_dim*best_h + output_dim\n",
    "    init_p_full = 0.01 * np.random.randn(param_size)\n",
    "    lg_full = loss_grad_factory(X_full, Y_full_oh, input_dim, best_h, output_dim)\n",
    "    opt_p_full, loss_hist = trainscg(lg_full, init_p_full, epochs=8)\n",
    "    \n",
    "    # evaluate on test\n",
    "    W1f, b1f, W2f, b2f = unpack(opt_p_full, input_dim, best_h, output_dim)\n",
    "    A1_test = np.tanh(X_test.dot(W1f.T) + b1f)\n",
    "    probs_test = softmax(A1_test.dot(W2f.T) + b2f)\n",
    "    preds_test = np.argmax(probs_test, axis=1)\n",
    "    \n",
    "    print(\"Test classification report:\")\n",
    "    print(classification_report(y_test, preds_test))\n",
    "    cm = confusion_matrix(y_test, preds_test)\n",
    "    print(\"Test confusion matrix:\\n\", cm)\n",
    "    sns.heatmap(cm, annot=True, fmt=\"d\", cmap=\"Blues\")\n",
    "    plt.title(f\"{name} – hidden_dim={best_h}\")\n",
    "    plt.show()"
   ]
  },
  {
   "cell_type": "markdown",
   "id": "442a5613",
   "metadata": {
    "papermill": {
     "duration": 0.008645,
     "end_time": "2025-05-04T15:09:48.730694",
     "exception": false,
     "start_time": "2025-05-04T15:09:48.722049",
     "status": "completed"
    },
    "tags": []
   },
   "source": [
    "# 6. Cân bằng dữ liệu (Oversampling)"
   ]
  },
  {
   "cell_type": "markdown",
   "id": "b6cc38c1",
   "metadata": {
    "papermill": {
     "duration": 0.00878,
     "end_time": "2025-05-04T15:09:48.748458",
     "exception": false,
     "start_time": "2025-05-04T15:09:48.739678",
     "status": "completed"
    },
    "tags": []
   },
   "source": [
    "## 6.1 SMOTE"
   ]
  },
  {
   "cell_type": "code",
   "execution_count": 15,
   "id": "e1389324",
   "metadata": {
    "execution": {
     "iopub.execute_input": "2025-05-04T15:09:48.767854Z",
     "iopub.status.busy": "2025-05-04T15:09:48.767527Z",
     "iopub.status.idle": "2025-05-04T15:09:53.309150Z",
     "shell.execute_reply": "2025-05-04T15:09:53.308360Z"
    },
    "papermill": {
     "duration": 4.553385,
     "end_time": "2025-05-04T15:09:53.311038",
     "exception": false,
     "start_time": "2025-05-04T15:09:48.757653",
     "status": "completed"
    },
    "tags": []
   },
   "outputs": [],
   "source": [
    "# SMOTE\n",
    "from imblearn.over_sampling import SMOTE\n",
    "\n",
    "sm = SMOTE()\n",
    "\n",
    "X_sm, y_sm = sm.fit_resample(X_train, y_train)\n",
    "X_sm.shape, y_sm.shape\n",
    "\n",
    "scaler = StandardScaler()\n",
    "X_train_scaled = scaler.fit_transform(X_sm)\n",
    "X_test_scaled = scaler.transform(X_test)\n",
    "\n",
    "X_train_scaled = pd.DataFrame(X_train_scaled, columns=X_train.columns)\n",
    "X_test_scaled = pd.DataFrame(X_test_scaled, columns=X_test.columns)"
   ]
  },
  {
   "cell_type": "code",
   "execution_count": 16,
   "id": "3c262129",
   "metadata": {
    "execution": {
     "iopub.execute_input": "2025-05-04T15:09:53.398783Z",
     "iopub.status.busy": "2025-05-04T15:09:53.398440Z",
     "iopub.status.idle": "2025-05-04T15:09:53.403683Z",
     "shell.execute_reply": "2025-05-04T15:09:53.402795Z"
    },
    "papermill": {
     "duration": 0.01706,
     "end_time": "2025-05-04T15:09:53.405196",
     "exception": false,
     "start_time": "2025-05-04T15:09:53.388136",
     "status": "completed"
    },
    "tags": []
   },
   "outputs": [],
   "source": [
    "models_info = [\n",
    "    (\"Tháng 4 + 10 smote\", X_train_scaled, y_sm, X_test_scaled, y_test),\n",
    "]"
   ]
  },
  {
   "cell_type": "code",
   "execution_count": 17,
   "id": "fc283865",
   "metadata": {
    "execution": {
     "iopub.execute_input": "2025-05-04T15:09:53.426477Z",
     "iopub.status.busy": "2025-05-04T15:09:53.426124Z",
     "iopub.status.idle": "2025-05-04T15:14:43.969955Z",
     "shell.execute_reply": "2025-05-04T15:14:43.968992Z"
    },
    "papermill": {
     "duration": 290.556948,
     "end_time": "2025-05-04T15:14:43.971685",
     "exception": false,
     "start_time": "2025-05-04T15:09:53.414737",
     "status": "completed"
    },
    "tags": []
   },
   "outputs": [
    {
     "name": "stdout",
     "output_type": "stream",
     "text": [
      "\n",
      "=== Dataset: Tháng 4 + 10 smote ===\n",
      " hidden_dim=10  → val loss = 0.716960\n",
      " hidden_dim=20  → val loss = 0.693220\n"
     ]
    },
    {
     "name": "stderr",
     "output_type": "stream",
     "text": [
      "/tmp/ipykernel_13/2373381110.py:67: RuntimeWarning: divide by zero encountered in scalar divide\n",
      "  alpha = -d.dot(g) / (delta + lambd*mu)\n",
      "/usr/local/lib/python3.11/dist-packages/pandas/core/internals/blocks.py:393: RuntimeWarning: invalid value encountered in tanh\n",
      "  result = func(self.values, **kwargs)\n",
      "/tmp/ipykernel_13/2373381110.py:89: RuntimeWarning: invalid value encountered in log\n",
      "  loss = -np.mean(np.sum(Y_oh * np.log(A2 + 1e-12), axis=1))\n",
      "/tmp/ipykernel_13/2373381110.py:89: RuntimeWarning: invalid value encountered in log\n",
      "  loss = -np.mean(np.sum(Y_oh * np.log(A2 + 1e-12), axis=1))\n",
      "/tmp/ipykernel_13/2373381110.py:89: RuntimeWarning: invalid value encountered in log\n",
      "  loss = -np.mean(np.sum(Y_oh * np.log(A2 + 1e-12), axis=1))\n",
      "/tmp/ipykernel_13/2373381110.py:89: RuntimeWarning: invalid value encountered in log\n",
      "  loss = -np.mean(np.sum(Y_oh * np.log(A2 + 1e-12), axis=1))\n",
      "/tmp/ipykernel_13/2373381110.py:89: RuntimeWarning: invalid value encountered in log\n",
      "  loss = -np.mean(np.sum(Y_oh * np.log(A2 + 1e-12), axis=1))\n",
      "/tmp/ipykernel_13/2373381110.py:89: RuntimeWarning: invalid value encountered in log\n",
      "  loss = -np.mean(np.sum(Y_oh * np.log(A2 + 1e-12), axis=1))\n"
     ]
    },
    {
     "name": "stdout",
     "output_type": "stream",
     "text": [
      " hidden_dim=50  → val loss = 6.761277\n",
      " hidden_dim=100 → val loss = 0.693274\n",
      " hidden_dim=150 → val loss = 0.692800\n",
      " hidden_dim=17  → val loss = 0.693486\n",
      " hidden_dim=25  → val loss = 0.693438\n"
     ]
    },
    {
     "name": "stderr",
     "output_type": "stream",
     "text": [
      "/tmp/ipykernel_13/2373381110.py:67: RuntimeWarning: divide by zero encountered in scalar divide\n",
      "  alpha = -d.dot(g) / (delta + lambd*mu)\n",
      "/usr/local/lib/python3.11/dist-packages/pandas/core/internals/blocks.py:393: RuntimeWarning: invalid value encountered in tanh\n",
      "  result = func(self.values, **kwargs)\n",
      "/tmp/ipykernel_13/2373381110.py:89: RuntimeWarning: invalid value encountered in log\n",
      "  loss = -np.mean(np.sum(Y_oh * np.log(A2 + 1e-12), axis=1))\n",
      "/tmp/ipykernel_13/2373381110.py:89: RuntimeWarning: invalid value encountered in log\n",
      "  loss = -np.mean(np.sum(Y_oh * np.log(A2 + 1e-12), axis=1))\n",
      "/tmp/ipykernel_13/2373381110.py:89: RuntimeWarning: invalid value encountered in log\n",
      "  loss = -np.mean(np.sum(Y_oh * np.log(A2 + 1e-12), axis=1))\n",
      "/tmp/ipykernel_13/2373381110.py:89: RuntimeWarning: invalid value encountered in log\n",
      "  loss = -np.mean(np.sum(Y_oh * np.log(A2 + 1e-12), axis=1))\n",
      "/tmp/ipykernel_13/2373381110.py:89: RuntimeWarning: invalid value encountered in log\n",
      "  loss = -np.mean(np.sum(Y_oh * np.log(A2 + 1e-12), axis=1))\n",
      "/tmp/ipykernel_13/2373381110.py:89: RuntimeWarning: invalid value encountered in log\n",
      "  loss = -np.mean(np.sum(Y_oh * np.log(A2 + 1e-12), axis=1))\n",
      "/tmp/ipykernel_13/2373381110.py:89: RuntimeWarning: invalid value encountered in log\n",
      "  loss = -np.mean(np.sum(Y_oh * np.log(A2 + 1e-12), axis=1))\n"
     ]
    },
    {
     "name": "stdout",
     "output_type": "stream",
     "text": [
      " hidden_dim=34  → val loss = 6.759082\n",
      " hidden_dim=50  → val loss = 0.693592\n"
     ]
    },
    {
     "name": "stderr",
     "output_type": "stream",
     "text": [
      "/tmp/ipykernel_13/2373381110.py:67: RuntimeWarning: divide by zero encountered in scalar divide\n",
      "  alpha = -d.dot(g) / (delta + lambd*mu)\n",
      "/usr/local/lib/python3.11/dist-packages/pandas/core/internals/blocks.py:393: RuntimeWarning: invalid value encountered in tanh\n",
      "  result = func(self.values, **kwargs)\n",
      "/tmp/ipykernel_13/2373381110.py:89: RuntimeWarning: invalid value encountered in log\n",
      "  loss = -np.mean(np.sum(Y_oh * np.log(A2 + 1e-12), axis=1))\n",
      "/tmp/ipykernel_13/2373381110.py:89: RuntimeWarning: invalid value encountered in log\n",
      "  loss = -np.mean(np.sum(Y_oh * np.log(A2 + 1e-12), axis=1))\n",
      "/tmp/ipykernel_13/2373381110.py:89: RuntimeWarning: invalid value encountered in log\n",
      "  loss = -np.mean(np.sum(Y_oh * np.log(A2 + 1e-12), axis=1))\n",
      "/tmp/ipykernel_13/2373381110.py:89: RuntimeWarning: invalid value encountered in log\n",
      "  loss = -np.mean(np.sum(Y_oh * np.log(A2 + 1e-12), axis=1))\n",
      "/tmp/ipykernel_13/2373381110.py:89: RuntimeWarning: invalid value encountered in log\n",
      "  loss = -np.mean(np.sum(Y_oh * np.log(A2 + 1e-12), axis=1))\n",
      "/tmp/ipykernel_13/2373381110.py:89: RuntimeWarning: invalid value encountered in log\n",
      "  loss = -np.mean(np.sum(Y_oh * np.log(A2 + 1e-12), axis=1))\n",
      "/tmp/ipykernel_13/2373381110.py:89: RuntimeWarning: invalid value encountered in log\n",
      "  loss = -np.mean(np.sum(Y_oh * np.log(A2 + 1e-12), axis=1))\n"
     ]
    },
    {
     "name": "stdout",
     "output_type": "stream",
     "text": [
      " hidden_dim=68  → val loss = 20.873036\n",
      " hidden_dim=85  → val loss = 0.693199\n",
      "⇒ Best hidden_dim = 150, validation loss = 0.692800\n",
      "Test classification report:\n",
      "              precision    recall  f1-score   support\n",
      "\n",
      "           0       0.99      0.40      0.57    159566\n",
      "           1       0.33      0.99      0.49     47528\n",
      "\n",
      "    accuracy                           0.53    207094\n",
      "   macro avg       0.66      0.69      0.53    207094\n",
      "weighted avg       0.84      0.53      0.55    207094\n",
      "\n",
      "Test confusion matrix:\n",
      " [[63502 96064]\n",
      " [  628 46900]]\n"
     ]
    },
    {
     "data": {
      "image/png": "[encoded data removed]",
      "text/plain": [
       "<Figure size 640x480 with 2 Axes>"
      ]
     },
     "metadata": {},
     "output_type": "display_data"
    }
   ],
   "source": [
    "import numpy as np\n",
    "from sklearn.model_selection import train_test_split\n",
    "from sklearn.preprocessing import OneHotEncoder\n",
    "from sklearn.metrics import f1_score, classification_report, confusion_matrix, roc_curve, auc\n",
    "import matplotlib.pyplot as plt\n",
    "import seaborn as sns\n",
    "\n",
    "# ——— Utility functions ———\n",
    "def softmax(Z):\n",
    "    # Ensure Z is a numpy array of shape (n_samples, n_classes)\n",
    "    Z_arr = Z.values if hasattr(Z, \"values\") else np.array(Z)\n",
    "    # 1) subtract the max for numerical stability\n",
    "    #    max_per_row: shape (n_samples,)\n",
    "    max_per_row = np.max(Z_arr, axis=1)\n",
    "    #    reshape to (n_samples, 1) so broadcasting works\n",
    "    max_per_row = max_per_row.reshape(-1, 1)\n",
    "    # 2) exponentiate\n",
    "    expZ = np.exp(Z_arr - max_per_row)\n",
    "    # 3) sum per row, then reshape to (n_samples, 1)\n",
    "    sum_per_row = np.sum(expZ, axis=1).reshape(-1, 1)\n",
    "    # 4) divide\n",
    "    return expZ / sum_per_row\n",
    "\n",
    "def pack(W1, b1, W2, b2):\n",
    "    \"\"\"\n",
    "    Flatten and concatenate parameters, handling pandas DataFrame/Series inputs.\n",
    "    \"\"\"\n",
    "    # Convert DataFrame/Series to numpy arrays\n",
    "    W1_arr = W1.values if isinstance(W1, pd.DataFrame) else np.array(W1)\n",
    "    b1_arr = b1.values if isinstance(b1, (pd.Series, pd.DataFrame)) else np.array(b1)\n",
    "    W2_arr = W2.values if isinstance(W2, pd.DataFrame) else np.array(W2)\n",
    "    b2_arr = b2.values if isinstance(b2, (pd.Series, pd.DataFrame)) else np.array(b2)\n",
    "    # Flatten and concatenate\n",
    "    return np.hstack([\n",
    "        W1_arr.ravel(),\n",
    "        b1_arr.ravel(),\n",
    "        W2_arr.ravel(),\n",
    "        b2_arr.ravel()\n",
    "    ])\n",
    "\n",
    "def unpack(p, input_dim, hidden_dim, output_dim):\n",
    "    idx = 0\n",
    "    W1 = p[idx:idx + hidden_dim*input_dim].reshape(hidden_dim, input_dim)\n",
    "    idx += hidden_dim*input_dim\n",
    "    b1 = p[idx:idx + hidden_dim]\n",
    "    idx += hidden_dim\n",
    "    W2 = p[idx:idx + output_dim*hidden_dim].reshape(output_dim, hidden_dim)\n",
    "    idx += output_dim*hidden_dim\n",
    "    b2 = p[idx:idx + output_dim]\n",
    "    return W1, b1, W2, b2\n",
    "\n",
    "def trainscg(loss_grad_func, x0, epochs=8, **lg_kwargs):\n",
    "    sigma0, lambd = 1e-6, 1e-6\n",
    "    x = x0.copy()\n",
    "    f, g = loss_grad_func(x, **lg_kwargs)\n",
    "    d = -g\n",
    "    errors = [f]\n",
    "    for epoch in range(epochs):\n",
    "        mu = d.dot(d)\n",
    "        sigma = sigma0 / np.sqrt(mu) if mu > 0 else sigma0\n",
    "        _, g1 = loss_grad_func(x + sigma*d, **lg_kwargs)\n",
    "        s = (g1 - g) / sigma\n",
    "        delta = d.dot(s)\n",
    "        if delta <= 0:\n",
    "            delta = lambd * mu\n",
    "            lambd -= delta / mu\n",
    "        alpha = -d.dot(g) / (delta + lambd*mu)\n",
    "        x_new = x + alpha*d\n",
    "        f_new, g_new = loss_grad_func(x_new, **lg_kwargs)\n",
    "        Delta = 2*(f - f_new) / (alpha * d.dot(g))\n",
    "        if Delta >= 0:\n",
    "            x, f, g = x_new, f_new, g_new\n",
    "            lambd *= max(1/3, 1 - (2*Delta - 1)**3)\n",
    "            beta = (g.dot(g) - g.dot(g_new)) / (d.dot(g))\n",
    "            d = -g + beta*d\n",
    "        else:\n",
    "            lambd += mu * (1 - Delta)\n",
    "        errors.append(f)\n",
    "    return x, errors\n",
    "\n",
    "def loss_grad_factory(X, Y_oh, input_dim, hidden_dim, output_dim):\n",
    "    def loss_and_grad(p):\n",
    "        W1, b1, W2, b2 = unpack(p, input_dim, hidden_dim, output_dim)\n",
    "        m = X.shape[0]\n",
    "        Z1 = X.dot(W1.T) + b1\n",
    "        A1 = np.tanh(Z1)\n",
    "        Z2 = A1.dot(W2.T) + b2\n",
    "        A2 = softmax(Z2)\n",
    "        loss = -np.mean(np.sum(Y_oh * np.log(A2 + 1e-12), axis=1))\n",
    "        dZ2 = (A2 - Y_oh) / m\n",
    "        dW2 = dZ2.T.dot(A1)\n",
    "        db2 = dZ2.sum(axis=0)\n",
    "        dA1 = dZ2.dot(W2)\n",
    "        dZ1 = dA1 * (1 - np.tanh(Z1)**2)\n",
    "        dW1 = dZ1.T.dot(X)\n",
    "        db1 = dZ1.sum(axis=0)\n",
    "        return loss, pack(dW1, db1, dW2, db2)\n",
    "    return loss_and_grad\n",
    "\n",
    "param_grid = {'hidden_dim': [10, 20, 50, 100, 150, 17, 25, 34, 50, 68, 85]}\n",
    "\n",
    "for name, X_trval, y_trval, X_test, y_test in models_info:\n",
    "    print(f\"\\n=== Dataset: {name} ===\")\n",
    "    # split train+val from test\n",
    "    # X_trval = X_trval[top_features]\n",
    "    # X_test = X_test[top_features]\n",
    "    X_train, X_val, y_train, y_val = train_test_split(\n",
    "        X_trval, y_trval, test_size=0.2, random_state=42\n",
    "    )\n",
    "    # one-hot encode y_train\n",
    "    y_arr = y_train.to_numpy().reshape(-1, 1)\n",
    "    encoder = OneHotEncoder(sparse=False, categories='auto')\n",
    "    Y_train_oh = encoder.fit_transform(y_arr.reshape(-1,1))\n",
    "    y_arv = y_val.to_numpy().reshape(-1, 1)\n",
    "    Y_val_oh   = encoder.transform(y_arv.reshape(-1,1))\n",
    "    # final test encoding not needed for training\n",
    "    \n",
    "    # scale assumed done before, X_trval and X_test are already scaled\n",
    "    \n",
    "    input_dim  = X_train.shape[1]\n",
    "    output_dim = Y_train_oh.shape[1]\n",
    "\n",
    "    best_h, best_loss = None, np.inf\n",
    "    for h in param_grid['hidden_dim']:\n",
    "        # init params\n",
    "        param_size  = h*input_dim + h + output_dim*h + output_dim\n",
    "        init_p = 0.01 * np.random.randn(param_size)\n",
    "        # train SCG\n",
    "        lg = loss_grad_factory(X_train, Y_train_oh, input_dim, h, output_dim)\n",
    "        opt_p, _ = trainscg(lg, init_p, epochs=8)\n",
    "        # predict on val\n",
    "        W1, b1, W2, b2 = unpack(opt_p, input_dim, h, output_dim)\n",
    "        Z1_val = X_val.dot(W1.T) + b1\n",
    "        A1_val = np.tanh(Z1_val)\n",
    "        Z2_val = A1_val.dot(W2.T) + b2\n",
    "        A2_val = softmax(Z2_val)\n",
    "        val_loss = -np.mean(np.sum(Y_val_oh * np.log(A2_val + 1e-12), axis=1))\n",
    "        print(f\" hidden_dim={h:<3} → val loss = {val_loss:.6f}\")\n",
    "        if val_loss < best_loss:\n",
    "            best_loss, best_h = val_loss, h\n",
    "    \n",
    "    print(f\"⇒ Best hidden_dim = {best_h}, validation loss = {best_loss:.6f}\")\n",
    "\n",
    "    X_full = np.vstack([X_train, X_val])\n",
    "    y_full = np.hstack([y_train, y_val])\n",
    "    Y_full_oh = encoder.fit_transform(y_full.reshape(-1,1))\n",
    "    param_size  = best_h*input_dim + best_h + output_dim*best_h + output_dim\n",
    "    init_p_full = 0.01 * np.random.randn(param_size)\n",
    "    lg_full = loss_grad_factory(X_full, Y_full_oh, input_dim, best_h, output_dim)\n",
    "    opt_p_full, loss_hist = trainscg(lg_full, init_p_full, epochs=8)\n",
    "    \n",
    "    # evaluate on test\n",
    "    W1f, b1f, W2f, b2f = unpack(opt_p_full, input_dim, best_h, output_dim)\n",
    "    A1_test = np.tanh(X_test.dot(W1f.T) + b1f)\n",
    "    probs_test = softmax(A1_test.dot(W2f.T) + b2f)\n",
    "    preds_test = np.argmax(probs_test, axis=1)\n",
    "    \n",
    "    print(\"Test classification report:\")\n",
    "    print(classification_report(y_test, preds_test))\n",
    "    cm = confusion_matrix(y_test, preds_test)\n",
    "    print(\"Test confusion matrix:\\n\", cm)\n",
    "    sns.heatmap(cm, annot=True, fmt=\"d\", cmap=\"Blues\")\n",
    "    plt.title(f\"{name} – hidden_dim={best_h}\")\n",
    "    plt.show()"
   ]
  },
  {
   "cell_type": "code",
   "execution_count": 18,
   "id": "4a089989",
   "metadata": {
    "execution": {
     "iopub.execute_input": "2025-05-04T15:14:43.996762Z",
     "iopub.status.busy": "2025-05-04T15:14:43.996476Z",
     "iopub.status.idle": "2025-05-04T15:19:02.128036Z",
     "shell.execute_reply": "2025-05-04T15:19:02.126962Z"
    },
    "papermill": {
     "duration": 258.14612,
     "end_time": "2025-05-04T15:19:02.129664",
     "exception": false,
     "start_time": "2025-05-04T15:14:43.983544",
     "status": "completed"
    },
    "tags": []
   },
   "outputs": [
    {
     "name": "stdout",
     "output_type": "stream",
     "text": [
      "\n",
      "=== Dataset: Tháng 4 + 10 smote ===\n",
      " hidden_dim=10  → val loss = 0.693177\n",
      " hidden_dim=20  → val loss = 0.693464\n",
      " hidden_dim=50  → val loss = 6.755791\n"
     ]
    },
    {
     "name": "stderr",
     "output_type": "stream",
     "text": [
      "/tmp/ipykernel_13/170896461.py:67: RuntimeWarning: divide by zero encountered in scalar divide\n",
      "  alpha = -d.dot(g) / (delta + lambd*mu)\n",
      "/usr/local/lib/python3.11/dist-packages/pandas/core/internals/blocks.py:393: RuntimeWarning: invalid value encountered in tanh\n",
      "  result = func(self.values, **kwargs)\n",
      "/tmp/ipykernel_13/170896461.py:89: RuntimeWarning: invalid value encountered in log\n",
      "  loss = -np.mean(np.sum(Y_oh * np.log(A2 + 1e-12), axis=1))\n",
      "/tmp/ipykernel_13/170896461.py:89: RuntimeWarning: invalid value encountered in log\n",
      "  loss = -np.mean(np.sum(Y_oh * np.log(A2 + 1e-12), axis=1))\n",
      "/tmp/ipykernel_13/170896461.py:89: RuntimeWarning: invalid value encountered in log\n",
      "  loss = -np.mean(np.sum(Y_oh * np.log(A2 + 1e-12), axis=1))\n",
      "/tmp/ipykernel_13/170896461.py:89: RuntimeWarning: invalid value encountered in log\n",
      "  loss = -np.mean(np.sum(Y_oh * np.log(A2 + 1e-12), axis=1))\n",
      "/tmp/ipykernel_13/170896461.py:89: RuntimeWarning: invalid value encountered in log\n",
      "  loss = -np.mean(np.sum(Y_oh * np.log(A2 + 1e-12), axis=1))\n",
      "/tmp/ipykernel_13/170896461.py:89: RuntimeWarning: invalid value encountered in log\n",
      "  loss = -np.mean(np.sum(Y_oh * np.log(A2 + 1e-12), axis=1))\n",
      "/tmp/ipykernel_13/170896461.py:89: RuntimeWarning: invalid value encountered in log\n",
      "  loss = -np.mean(np.sum(Y_oh * np.log(A2 + 1e-12), axis=1))\n"
     ]
    },
    {
     "name": "stdout",
     "output_type": "stream",
     "text": [
      " hidden_dim=100 → val loss = 6.760179\n",
      " hidden_dim=150 → val loss = 1.900930\n",
      " hidden_dim=17  → val loss = 0.693486\n",
      " hidden_dim=25  → val loss = 0.693371\n",
      " hidden_dim=34  → val loss = 0.693491\n",
      " hidden_dim=50  → val loss = 0.693823\n",
      " hidden_dim=68  → val loss = 20.870842\n"
     ]
    },
    {
     "name": "stderr",
     "output_type": "stream",
     "text": [
      "/tmp/ipykernel_13/170896461.py:67: RuntimeWarning: divide by zero encountered in scalar divide\n",
      "  alpha = -d.dot(g) / (delta + lambd*mu)\n",
      "/usr/local/lib/python3.11/dist-packages/pandas/core/internals/blocks.py:393: RuntimeWarning: invalid value encountered in tanh\n",
      "  result = func(self.values, **kwargs)\n",
      "/tmp/ipykernel_13/170896461.py:89: RuntimeWarning: invalid value encountered in log\n",
      "  loss = -np.mean(np.sum(Y_oh * np.log(A2 + 1e-12), axis=1))\n",
      "/tmp/ipykernel_13/170896461.py:89: RuntimeWarning: invalid value encountered in log\n",
      "  loss = -np.mean(np.sum(Y_oh * np.log(A2 + 1e-12), axis=1))\n",
      "/tmp/ipykernel_13/170896461.py:89: RuntimeWarning: invalid value encountered in log\n",
      "  loss = -np.mean(np.sum(Y_oh * np.log(A2 + 1e-12), axis=1))\n",
      "/tmp/ipykernel_13/170896461.py:89: RuntimeWarning: invalid value encountered in log\n",
      "  loss = -np.mean(np.sum(Y_oh * np.log(A2 + 1e-12), axis=1))\n",
      "/tmp/ipykernel_13/170896461.py:89: RuntimeWarning: invalid value encountered in log\n",
      "  loss = -np.mean(np.sum(Y_oh * np.log(A2 + 1e-12), axis=1))\n",
      "/tmp/ipykernel_13/170896461.py:89: RuntimeWarning: invalid value encountered in log\n",
      "  loss = -np.mean(np.sum(Y_oh * np.log(A2 + 1e-12), axis=1))\n",
      "/tmp/ipykernel_13/170896461.py:89: RuntimeWarning: invalid value encountered in log\n",
      "  loss = -np.mean(np.sum(Y_oh * np.log(A2 + 1e-12), axis=1))\n"
     ]
    },
    {
     "name": "stdout",
     "output_type": "stream",
     "text": [
      " hidden_dim=85  → val loss = 6.763252\n",
      "⇒ Best hidden_dim = 10, validation loss = 0.693177\n",
      "Test classification report:\n"
     ]
    },
    {
     "name": "stderr",
     "output_type": "stream",
     "text": [
      "/usr/local/lib/python3.11/dist-packages/sklearn/metrics/_classification.py:1344: UndefinedMetricWarning: Precision and F-score are ill-defined and being set to 0.0 in labels with no predicted samples. Use `zero_division` parameter to control this behavior.\n",
      "  _warn_prf(average, modifier, msg_start, len(result))\n",
      "/usr/local/lib/python3.11/dist-packages/sklearn/metrics/_classification.py:1344: UndefinedMetricWarning: Precision and F-score are ill-defined and being set to 0.0 in labels with no predicted samples. Use `zero_division` parameter to control this behavior.\n",
      "  _warn_prf(average, modifier, msg_start, len(result))\n",
      "/usr/local/lib/python3.11/dist-packages/sklearn/metrics/_classification.py:1344: UndefinedMetricWarning: Precision and F-score are ill-defined and being set to 0.0 in labels with no predicted samples. Use `zero_division` parameter to control this behavior.\n",
      "  _warn_prf(average, modifier, msg_start, len(result))\n"
     ]
    },
    {
     "name": "stdout",
     "output_type": "stream",
     "text": [
      "              precision    recall  f1-score   support\n",
      "\n",
      "           0       0.77      1.00      0.87    159566\n",
      "           1       0.00      0.00      0.00     47528\n",
      "\n",
      "    accuracy                           0.77    207094\n",
      "   macro avg       0.39      0.50      0.44    207094\n",
      "weighted avg       0.59      0.77      0.67    207094\n",
      "\n",
      "Test confusion matrix:\n",
      " [[159566      0]\n",
      " [ 47528      0]]\n"
     ]
    },
    {
     "data": {
      "image/png": "[encoded data removed]",
      "text/plain": [
       "<Figure size 640x480 with 2 Axes>"
      ]
     },
     "metadata": {},
     "output_type": "display_data"
    }
   ],
   "source": [
    "import numpy as np\n",
    "from sklearn.model_selection import train_test_split\n",
    "from sklearn.preprocessing import OneHotEncoder\n",
    "from sklearn.metrics import f1_score, classification_report, confusion_matrix, roc_curve, auc\n",
    "import matplotlib.pyplot as plt\n",
    "import seaborn as sns\n",
    "\n",
    "# ——— Utility functions ———\n",
    "def softmax(Z):\n",
    "    # Ensure Z is a numpy array of shape (n_samples, n_classes)\n",
    "    Z_arr = Z.values if hasattr(Z, \"values\") else np.array(Z)\n",
    "    # 1) subtract the max for numerical stability\n",
    "    #    max_per_row: shape (n_samples,)\n",
    "    max_per_row = np.max(Z_arr, axis=1)\n",
    "    #    reshape to (n_samples, 1) so broadcasting works\n",
    "    max_per_row = max_per_row.reshape(-1, 1)\n",
    "    # 2) exponentiate\n",
    "    expZ = np.exp(Z_arr - max_per_row)\n",
    "    # 3) sum per row, then reshape to (n_samples, 1)\n",
    "    sum_per_row = np.sum(expZ, axis=1).reshape(-1, 1)\n",
    "    # 4) divide\n",
    "    return expZ / sum_per_row\n",
    "\n",
    "def pack(W1, b1, W2, b2):\n",
    "    \"\"\"\n",
    "    Flatten and concatenate parameters, handling pandas DataFrame/Series inputs.\n",
    "    \"\"\"\n",
    "    # Convert DataFrame/Series to numpy arrays\n",
    "    W1_arr = W1.values if isinstance(W1, pd.DataFrame) else np.array(W1)\n",
    "    b1_arr = b1.values if isinstance(b1, (pd.Series, pd.DataFrame)) else np.array(b1)\n",
    "    W2_arr = W2.values if isinstance(W2, pd.DataFrame) else np.array(W2)\n",
    "    b2_arr = b2.values if isinstance(b2, (pd.Series, pd.DataFrame)) else np.array(b2)\n",
    "    # Flatten and concatenate\n",
    "    return np.hstack([\n",
    "        W1_arr.ravel(),\n",
    "        b1_arr.ravel(),\n",
    "        W2_arr.ravel(),\n",
    "        b2_arr.ravel()\n",
    "    ])\n",
    "\n",
    "def unpack(p, input_dim, hidden_dim, output_dim):\n",
    "    idx = 0\n",
    "    W1 = p[idx:idx + hidden_dim*input_dim].reshape(hidden_dim, input_dim)\n",
    "    idx += hidden_dim*input_dim\n",
    "    b1 = p[idx:idx + hidden_dim]\n",
    "    idx += hidden_dim\n",
    "    W2 = p[idx:idx + output_dim*hidden_dim].reshape(output_dim, hidden_dim)\n",
    "    idx += output_dim*hidden_dim\n",
    "    b2 = p[idx:idx + output_dim]\n",
    "    return W1, b1, W2, b2\n",
    "\n",
    "def trainscg(loss_grad_func, x0, epochs=8, **lg_kwargs):\n",
    "    sigma0, lambd = 1e-6, 1e-6\n",
    "    x = x0.copy()\n",
    "    f, g = loss_grad_func(x, **lg_kwargs)\n",
    "    d = -g\n",
    "    errors = [f]\n",
    "    for epoch in range(epochs):\n",
    "        mu = d.dot(d)\n",
    "        sigma = sigma0 / np.sqrt(mu) if mu > 0 else sigma0\n",
    "        _, g1 = loss_grad_func(x + sigma*d, **lg_kwargs)\n",
    "        s = (g1 - g) / sigma\n",
    "        delta = d.dot(s)\n",
    "        if delta <= 0:\n",
    "            delta = lambd * mu\n",
    "            lambd -= delta / mu\n",
    "        alpha = -d.dot(g) / (delta + lambd*mu)\n",
    "        x_new = x + alpha*d\n",
    "        f_new, g_new = loss_grad_func(x_new, **lg_kwargs)\n",
    "        Delta = 2*(f - f_new) / (alpha * d.dot(g))\n",
    "        if Delta >= 0:\n",
    "            x, f, g = x_new, f_new, g_new\n",
    "            lambd *= max(1/3, 1 - (2*Delta - 1)**3)\n",
    "            beta = (g.dot(g) - g.dot(g_new)) / (d.dot(g))\n",
    "            d = -g + beta*d\n",
    "        else:\n",
    "            lambd += mu * (1 - Delta)\n",
    "        errors.append(f)\n",
    "    return x, errors\n",
    "\n",
    "def loss_grad_factory(X, Y_oh, input_dim, hidden_dim, output_dim):\n",
    "    def loss_and_grad(p):\n",
    "        W1, b1, W2, b2 = unpack(p, input_dim, hidden_dim, output_dim)\n",
    "        m = X.shape[0]\n",
    "        Z1 = X.dot(W1.T) + b1\n",
    "        A1 = np.tanh(Z1)\n",
    "        Z2 = A1.dot(W2.T) + b2\n",
    "        A2 = softmax(Z2)\n",
    "        loss = -np.mean(np.sum(Y_oh * np.log(A2 + 1e-12), axis=1))\n",
    "        dZ2 = (A2 - Y_oh) / m\n",
    "        dW2 = dZ2.T.dot(A1)\n",
    "        db2 = dZ2.sum(axis=0)\n",
    "        dA1 = dZ2.dot(W2)\n",
    "        dZ1 = dA1 * (1 - np.tanh(Z1)**2)\n",
    "        dW1 = dZ1.T.dot(X)\n",
    "        db1 = dZ1.sum(axis=0)\n",
    "        return loss, pack(dW1, db1, dW2, db2)\n",
    "    return loss_and_grad\n",
    "\n",
    "param_grid = {'hidden_dim': [10, 20, 50, 100, 150, 17, 25, 34, 50, 68, 85]}\n",
    "\n",
    "for name, X_trval, y_trval, X_test, y_test in models_info:\n",
    "    print(f\"\\n=== Dataset: {name} ===\")\n",
    "    # split train+val from test\n",
    "    X_trval = X_trval[top_features]\n",
    "    X_test = X_test[top_features]\n",
    "    X_train, X_val, y_train, y_val = train_test_split(\n",
    "        X_trval, y_trval, test_size=0.2, random_state=42\n",
    "    )\n",
    "    # one-hot encode y_train\n",
    "    y_arr = y_train.to_numpy().reshape(-1, 1)\n",
    "    encoder = OneHotEncoder(sparse=False, categories='auto')\n",
    "    Y_train_oh = encoder.fit_transform(y_arr.reshape(-1,1))\n",
    "    y_arv = y_val.to_numpy().reshape(-1, 1)\n",
    "    Y_val_oh   = encoder.transform(y_arv.reshape(-1,1))\n",
    "    # final test encoding not needed for training\n",
    "    \n",
    "    # scale assumed done before, X_trval and X_test are already scaled\n",
    "    \n",
    "    input_dim  = X_train.shape[1]\n",
    "    output_dim = Y_train_oh.shape[1]\n",
    "\n",
    "    best_h, best_loss = None, np.inf\n",
    "    for h in param_grid['hidden_dim']:\n",
    "        # init params\n",
    "        param_size  = h*input_dim + h + output_dim*h + output_dim\n",
    "        init_p = 0.01 * np.random.randn(param_size)\n",
    "        # train SCG\n",
    "        lg = loss_grad_factory(X_train, Y_train_oh, input_dim, h, output_dim)\n",
    "        opt_p, _ = trainscg(lg, init_p, epochs=8)\n",
    "        # predict on val\n",
    "        W1, b1, W2, b2 = unpack(opt_p, input_dim, h, output_dim)\n",
    "        Z1_val = X_val.dot(W1.T) + b1\n",
    "        A1_val = np.tanh(Z1_val)\n",
    "        Z2_val = A1_val.dot(W2.T) + b2\n",
    "        A2_val = softmax(Z2_val)\n",
    "        val_loss = -np.mean(np.sum(Y_val_oh * np.log(A2_val + 1e-12), axis=1))\n",
    "        print(f\" hidden_dim={h:<3} → val loss = {val_loss:.6f}\")\n",
    "        if val_loss < best_loss:\n",
    "            best_loss, best_h = val_loss, h\n",
    "    \n",
    "    print(f\"⇒ Best hidden_dim = {best_h}, validation loss = {best_loss:.6f}\")\n",
    "\n",
    "    X_full = np.vstack([X_train, X_val])\n",
    "    y_full = np.hstack([y_train, y_val])\n",
    "    Y_full_oh = encoder.fit_transform(y_full.reshape(-1,1))\n",
    "    param_size  = best_h*input_dim + best_h + output_dim*best_h + output_dim\n",
    "    init_p_full = 0.01 * np.random.randn(param_size)\n",
    "    lg_full = loss_grad_factory(X_full, Y_full_oh, input_dim, best_h, output_dim)\n",
    "    opt_p_full, loss_hist = trainscg(lg_full, init_p_full, epochs=8)\n",
    "    \n",
    "    # evaluate on test\n",
    "    W1f, b1f, W2f, b2f = unpack(opt_p_full, input_dim, best_h, output_dim)\n",
    "    A1_test = np.tanh(X_test.dot(W1f.T) + b1f)\n",
    "    probs_test = softmax(A1_test.dot(W2f.T) + b2f)\n",
    "    preds_test = np.argmax(probs_test, axis=1)\n",
    "    \n",
    "    print(\"Test classification report:\")\n",
    "    print(classification_report(y_test, preds_test))\n",
    "    cm = confusion_matrix(y_test, preds_test)\n",
    "    print(\"Test confusion matrix:\\n\", cm)\n",
    "    sns.heatmap(cm, annot=True, fmt=\"d\", cmap=\"Blues\")\n",
    "    plt.title(f\"{name} – hidden_dim={best_h}\")\n",
    "    plt.show()"
   ]
  },
  {
   "cell_type": "markdown",
   "id": "34f891a0",
   "metadata": {
    "papermill": {
     "duration": 0.013087,
     "end_time": "2025-05-04T15:19:02.157540",
     "exception": false,
     "start_time": "2025-05-04T15:19:02.144453",
     "status": "completed"
    },
    "tags": []
   },
   "source": [
    "## 6.2 SMOTE ENN"
   ]
  },
  {
   "cell_type": "code",
   "execution_count": 19,
   "id": "1a4dd0ba",
   "metadata": {
    "execution": {
     "iopub.execute_input": "2025-05-04T15:19:02.185804Z",
     "iopub.status.busy": "2025-05-04T15:19:02.185453Z",
     "iopub.status.idle": "2025-05-04T15:20:27.374734Z",
     "shell.execute_reply": "2025-05-04T15:20:27.373640Z"
    },
    "papermill": {
     "duration": 85.205586,
     "end_time": "2025-05-04T15:20:27.376474",
     "exception": false,
     "start_time": "2025-05-04T15:19:02.170888",
     "status": "completed"
    },
    "tags": []
   },
   "outputs": [],
   "source": [
    "# SMOTE ENN\n",
    "from imblearn.combine import SMOTEENN\n",
    "\n",
    "smenn = SMOTEENN()\n",
    "\n",
    "X_smenn, y_smenn = smenn.fit_resample(X_train, y_train)\n",
    "X_smenn.shape, y_sm.shape\n",
    "\n",
    "scaler = StandardScaler()\n",
    "X_train_scaled = scaler.fit_transform(X_smenn)\n",
    "X_test_scaled = scaler.transform(X_test)\n",
    "\n",
    "X_train_scaled = pd.DataFrame(X_train_scaled, columns=X_train.columns)\n",
    "X_test_scaled = pd.DataFrame(X_test_scaled, columns=X_test.columns)"
   ]
  },
  {
   "cell_type": "code",
   "execution_count": 20,
   "id": "a31d51ed",
   "metadata": {
    "execution": {
     "iopub.execute_input": "2025-05-04T15:20:27.406540Z",
     "iopub.status.busy": "2025-05-04T15:20:27.406193Z",
     "iopub.status.idle": "2025-05-04T15:20:27.411543Z",
     "shell.execute_reply": "2025-05-04T15:20:27.410810Z"
    },
    "papermill": {
     "duration": 0.021875,
     "end_time": "2025-05-04T15:20:27.412880",
     "exception": false,
     "start_time": "2025-05-04T15:20:27.391005",
     "status": "completed"
    },
    "tags": []
   },
   "outputs": [],
   "source": [
    "models_info = [\n",
    "    (\"Tháng 4 + 10 smote\", X_train_scaled, y_smenn, X_test_scaled, y_test),\n",
    "]"
   ]
  },
  {
   "cell_type": "code",
   "execution_count": 21,
   "id": "1f6c2542",
   "metadata": {
    "execution": {
     "iopub.execute_input": "2025-05-04T15:20:27.441877Z",
     "iopub.status.busy": "2025-05-04T15:20:27.441572Z",
     "iopub.status.idle": "2025-05-04T15:23:33.498206Z",
     "shell.execute_reply": "2025-05-04T15:23:33.497228Z"
    },
    "papermill": {
     "duration": 186.073151,
     "end_time": "2025-05-04T15:23:33.499672",
     "exception": false,
     "start_time": "2025-05-04T15:20:27.426521",
     "status": "completed"
    },
    "tags": []
   },
   "outputs": [
    {
     "name": "stdout",
     "output_type": "stream",
     "text": [
      "\n",
      "=== Dataset: Tháng 4 + 10 smote ===\n",
      " hidden_dim=10  → val loss = 5.652796\n",
      " hidden_dim=20  → val loss = 0.694259\n",
      " hidden_dim=50  → val loss = 0.693025\n",
      " hidden_dim=100 → val loss = 0.694030\n",
      " hidden_dim=150 → val loss = 0.693775\n",
      " hidden_dim=17  → val loss = 5.352884\n",
      " hidden_dim=25  → val loss = 0.693560\n"
     ]
    },
    {
     "name": "stderr",
     "output_type": "stream",
     "text": [
      "/tmp/ipykernel_13/2373381110.py:67: RuntimeWarning: divide by zero encountered in scalar divide\n",
      "  alpha = -d.dot(g) / (delta + lambd*mu)\n",
      "/usr/local/lib/python3.11/dist-packages/pandas/core/internals/blocks.py:393: RuntimeWarning: invalid value encountered in tanh\n",
      "  result = func(self.values, **kwargs)\n",
      "/tmp/ipykernel_13/2373381110.py:89: RuntimeWarning: invalid value encountered in log\n",
      "  loss = -np.mean(np.sum(Y_oh * np.log(A2 + 1e-12), axis=1))\n",
      "/tmp/ipykernel_13/2373381110.py:89: RuntimeWarning: invalid value encountered in log\n",
      "  loss = -np.mean(np.sum(Y_oh * np.log(A2 + 1e-12), axis=1))\n",
      "/tmp/ipykernel_13/2373381110.py:89: RuntimeWarning: invalid value encountered in log\n",
      "  loss = -np.mean(np.sum(Y_oh * np.log(A2 + 1e-12), axis=1))\n",
      "/tmp/ipykernel_13/2373381110.py:89: RuntimeWarning: invalid value encountered in log\n",
      "  loss = -np.mean(np.sum(Y_oh * np.log(A2 + 1e-12), axis=1))\n",
      "/tmp/ipykernel_13/2373381110.py:89: RuntimeWarning: invalid value encountered in log\n",
      "  loss = -np.mean(np.sum(Y_oh * np.log(A2 + 1e-12), axis=1))\n",
      "/tmp/ipykernel_13/2373381110.py:89: RuntimeWarning: invalid value encountered in log\n",
      "  loss = -np.mean(np.sum(Y_oh * np.log(A2 + 1e-12), axis=1))\n",
      "/tmp/ipykernel_13/2373381110.py:89: RuntimeWarning: invalid value encountered in log\n",
      "  loss = -np.mean(np.sum(Y_oh * np.log(A2 + 1e-12), axis=1))\n"
     ]
    },
    {
     "name": "stdout",
     "output_type": "stream",
     "text": [
      " hidden_dim=34  → val loss = 13.403434\n",
      " hidden_dim=50  → val loss = 0.693734\n",
      " hidden_dim=68  → val loss = 0.693996\n",
      " hidden_dim=85  → val loss = 0.694495\n",
      "⇒ Best hidden_dim = 50, validation loss = 0.693025\n",
      "Test classification report:\n",
      "              precision    recall  f1-score   support\n",
      "\n",
      "           0       0.99      0.39      0.56    159566\n",
      "           1       0.32      0.99      0.49     47528\n",
      "\n",
      "    accuracy                           0.52    207094\n",
      "   macro avg       0.66      0.69      0.52    207094\n",
      "weighted avg       0.84      0.52      0.54    207094\n",
      "\n",
      "Test confusion matrix:\n",
      " [[61625 97941]\n",
      " [  588 46940]]\n"
     ]
    },
    {
     "data": {
      "image/png": "[encoded data removed]",
      "text/plain": [
       "<Figure size 640x480 with 2 Axes>"
      ]
     },
     "metadata": {},
     "output_type": "display_data"
    }
   ],
   "source": [
    "import numpy as np\n",
    "from sklearn.model_selection import train_test_split\n",
    "from sklearn.preprocessing import OneHotEncoder\n",
    "from sklearn.metrics import f1_score, classification_report, confusion_matrix, roc_curve, auc\n",
    "import matplotlib.pyplot as plt\n",
    "import seaborn as sns\n",
    "\n",
    "# ——— Utility functions ———\n",
    "def softmax(Z):\n",
    "    # Ensure Z is a numpy array of shape (n_samples, n_classes)\n",
    "    Z_arr = Z.values if hasattr(Z, \"values\") else np.array(Z)\n",
    "    # 1) subtract the max for numerical stability\n",
    "    #    max_per_row: shape (n_samples,)\n",
    "    max_per_row = np.max(Z_arr, axis=1)\n",
    "    #    reshape to (n_samples, 1) so broadcasting works\n",
    "    max_per_row = max_per_row.reshape(-1, 1)\n",
    "    # 2) exponentiate\n",
    "    expZ = np.exp(Z_arr - max_per_row)\n",
    "    # 3) sum per row, then reshape to (n_samples, 1)\n",
    "    sum_per_row = np.sum(expZ, axis=1).reshape(-1, 1)\n",
    "    # 4) divide\n",
    "    return expZ / sum_per_row\n",
    "\n",
    "def pack(W1, b1, W2, b2):\n",
    "    \"\"\"\n",
    "    Flatten and concatenate parameters, handling pandas DataFrame/Series inputs.\n",
    "    \"\"\"\n",
    "    # Convert DataFrame/Series to numpy arrays\n",
    "    W1_arr = W1.values if isinstance(W1, pd.DataFrame) else np.array(W1)\n",
    "    b1_arr = b1.values if isinstance(b1, (pd.Series, pd.DataFrame)) else np.array(b1)\n",
    "    W2_arr = W2.values if isinstance(W2, pd.DataFrame) else np.array(W2)\n",
    "    b2_arr = b2.values if isinstance(b2, (pd.Series, pd.DataFrame)) else np.array(b2)\n",
    "    # Flatten and concatenate\n",
    "    return np.hstack([\n",
    "        W1_arr.ravel(),\n",
    "        b1_arr.ravel(),\n",
    "        W2_arr.ravel(),\n",
    "        b2_arr.ravel()\n",
    "    ])\n",
    "\n",
    "def unpack(p, input_dim, hidden_dim, output_dim):\n",
    "    idx = 0\n",
    "    W1 = p[idx:idx + hidden_dim*input_dim].reshape(hidden_dim, input_dim)\n",
    "    idx += hidden_dim*input_dim\n",
    "    b1 = p[idx:idx + hidden_dim]\n",
    "    idx += hidden_dim\n",
    "    W2 = p[idx:idx + output_dim*hidden_dim].reshape(output_dim, hidden_dim)\n",
    "    idx += output_dim*hidden_dim\n",
    "    b2 = p[idx:idx + output_dim]\n",
    "    return W1, b1, W2, b2\n",
    "\n",
    "def trainscg(loss_grad_func, x0, epochs=8, **lg_kwargs):\n",
    "    sigma0, lambd = 1e-6, 1e-6\n",
    "    x = x0.copy()\n",
    "    f, g = loss_grad_func(x, **lg_kwargs)\n",
    "    d = -g\n",
    "    errors = [f]\n",
    "    for epoch in range(epochs):\n",
    "        mu = d.dot(d)\n",
    "        sigma = sigma0 / np.sqrt(mu) if mu > 0 else sigma0\n",
    "        _, g1 = loss_grad_func(x + sigma*d, **lg_kwargs)\n",
    "        s = (g1 - g) / sigma\n",
    "        delta = d.dot(s)\n",
    "        if delta <= 0:\n",
    "            delta = lambd * mu\n",
    "            lambd -= delta / mu\n",
    "        alpha = -d.dot(g) / (delta + lambd*mu)\n",
    "        x_new = x + alpha*d\n",
    "        f_new, g_new = loss_grad_func(x_new, **lg_kwargs)\n",
    "        Delta = 2*(f - f_new) / (alpha * d.dot(g))\n",
    "        if Delta >= 0:\n",
    "            x, f, g = x_new, f_new, g_new\n",
    "            lambd *= max(1/3, 1 - (2*Delta - 1)**3)\n",
    "            beta = (g.dot(g) - g.dot(g_new)) / (d.dot(g))\n",
    "            d = -g + beta*d\n",
    "        else:\n",
    "            lambd += mu * (1 - Delta)\n",
    "        errors.append(f)\n",
    "    return x, errors\n",
    "\n",
    "def loss_grad_factory(X, Y_oh, input_dim, hidden_dim, output_dim):\n",
    "    def loss_and_grad(p):\n",
    "        W1, b1, W2, b2 = unpack(p, input_dim, hidden_dim, output_dim)\n",
    "        m = X.shape[0]\n",
    "        Z1 = X.dot(W1.T) + b1\n",
    "        A1 = np.tanh(Z1)\n",
    "        Z2 = A1.dot(W2.T) + b2\n",
    "        A2 = softmax(Z2)\n",
    "        loss = -np.mean(np.sum(Y_oh * np.log(A2 + 1e-12), axis=1))\n",
    "        dZ2 = (A2 - Y_oh) / m\n",
    "        dW2 = dZ2.T.dot(A1)\n",
    "        db2 = dZ2.sum(axis=0)\n",
    "        dA1 = dZ2.dot(W2)\n",
    "        dZ1 = dA1 * (1 - np.tanh(Z1)**2)\n",
    "        dW1 = dZ1.T.dot(X)\n",
    "        db1 = dZ1.sum(axis=0)\n",
    "        return loss, pack(dW1, db1, dW2, db2)\n",
    "    return loss_and_grad\n",
    "\n",
    "param_grid = {'hidden_dim': [10, 20, 50, 100, 150, 17, 25, 34, 50, 68, 85]}\n",
    "\n",
    "for name, X_trval, y_trval, X_test, y_test in models_info:\n",
    "    print(f\"\\n=== Dataset: {name} ===\")\n",
    "    # split train+val from test\n",
    "    # X_trval = X_trval[top_features]\n",
    "    # X_test = X_test[top_features]\n",
    "    X_train, X_val, y_train, y_val = train_test_split(\n",
    "        X_trval, y_trval, test_size=0.2, random_state=42\n",
    "    )\n",
    "    # one-hot encode y_train\n",
    "    y_arr = y_train.to_numpy().reshape(-1, 1)\n",
    "    encoder = OneHotEncoder(sparse=False, categories='auto')\n",
    "    Y_train_oh = encoder.fit_transform(y_arr.reshape(-1,1))\n",
    "    y_arv = y_val.to_numpy().reshape(-1, 1)\n",
    "    Y_val_oh   = encoder.transform(y_arv.reshape(-1,1))\n",
    "    # final test encoding not needed for training\n",
    "    \n",
    "    # scale assumed done before, X_trval and X_test are already scaled\n",
    "    \n",
    "    input_dim  = X_train.shape[1]\n",
    "    output_dim = Y_train_oh.shape[1]\n",
    "\n",
    "    best_h, best_loss = None, np.inf\n",
    "    for h in param_grid['hidden_dim']:\n",
    "        # init params\n",
    "        param_size  = h*input_dim + h + output_dim*h + output_dim\n",
    "        init_p = 0.01 * np.random.randn(param_size)\n",
    "        # train SCG\n",
    "        lg = loss_grad_factory(X_train, Y_train_oh, input_dim, h, output_dim)\n",
    "        opt_p, _ = trainscg(lg, init_p, epochs=8)\n",
    "        # predict on val\n",
    "        W1, b1, W2, b2 = unpack(opt_p, input_dim, h, output_dim)\n",
    "        Z1_val = X_val.dot(W1.T) + b1\n",
    "        A1_val = np.tanh(Z1_val)\n",
    "        Z2_val = A1_val.dot(W2.T) + b2\n",
    "        A2_val = softmax(Z2_val)\n",
    "        val_loss = -np.mean(np.sum(Y_val_oh * np.log(A2_val + 1e-12), axis=1))\n",
    "        print(f\" hidden_dim={h:<3} → val loss = {val_loss:.6f}\")\n",
    "        if val_loss < best_loss:\n",
    "            best_loss, best_h = val_loss, h\n",
    "    \n",
    "    print(f\"⇒ Best hidden_dim = {best_h}, validation loss = {best_loss:.6f}\")\n",
    "\n",
    "    X_full = np.vstack([X_train, X_val])\n",
    "    y_full = np.hstack([y_train, y_val])\n",
    "    Y_full_oh = encoder.fit_transform(y_full.reshape(-1,1))\n",
    "    param_size  = best_h*input_dim + best_h + output_dim*best_h + output_dim\n",
    "    init_p_full = 0.01 * np.random.randn(param_size)\n",
    "    lg_full = loss_grad_factory(X_full, Y_full_oh, input_dim, best_h, output_dim)\n",
    "    opt_p_full, loss_hist = trainscg(lg_full, init_p_full, epochs=8)\n",
    "    \n",
    "    # evaluate on test\n",
    "    W1f, b1f, W2f, b2f = unpack(opt_p_full, input_dim, best_h, output_dim)\n",
    "    A1_test = np.tanh(X_test.dot(W1f.T) + b1f)\n",
    "    probs_test = softmax(A1_test.dot(W2f.T) + b2f)\n",
    "    preds_test = np.argmax(probs_test, axis=1)\n",
    "    \n",
    "    print(\"Test classification report:\")\n",
    "    print(classification_report(y_test, preds_test))\n",
    "    cm = confusion_matrix(y_test, preds_test)\n",
    "    print(\"Test confusion matrix:\\n\", cm)\n",
    "    sns.heatmap(cm, annot=True, fmt=\"d\", cmap=\"Blues\")\n",
    "    plt.title(f\"{name} – hidden_dim={best_h}\")\n",
    "    plt.show()"
   ]
  },
  {
   "cell_type": "code",
   "execution_count": 22,
   "id": "2e3241ea",
   "metadata": {
    "execution": {
     "iopub.execute_input": "2025-05-04T15:23:33.532685Z",
     "iopub.status.busy": "2025-05-04T15:23:33.532360Z",
     "iopub.status.idle": "2025-05-04T15:26:47.826668Z",
     "shell.execute_reply": "2025-05-04T15:26:47.825709Z"
    },
    "papermill": {
     "duration": 194.312721,
     "end_time": "2025-05-04T15:26:47.828327",
     "exception": false,
     "start_time": "2025-05-04T15:23:33.515606",
     "status": "completed"
    },
    "tags": []
   },
   "outputs": [
    {
     "name": "stdout",
     "output_type": "stream",
     "text": [
      "\n",
      "=== Dataset: Tháng 4 + 10 smote ===\n",
      " hidden_dim=10  → val loss = 0.693449\n"
     ]
    },
    {
     "name": "stderr",
     "output_type": "stream",
     "text": [
      "/tmp/ipykernel_13/170896461.py:67: RuntimeWarning: divide by zero encountered in scalar divide\n",
      "  alpha = -d.dot(g) / (delta + lambd*mu)\n",
      "/usr/local/lib/python3.11/dist-packages/pandas/core/internals/blocks.py:393: RuntimeWarning: invalid value encountered in tanh\n",
      "  result = func(self.values, **kwargs)\n",
      "/tmp/ipykernel_13/170896461.py:89: RuntimeWarning: invalid value encountered in log\n",
      "  loss = -np.mean(np.sum(Y_oh * np.log(A2 + 1e-12), axis=1))\n",
      "/tmp/ipykernel_13/170896461.py:89: RuntimeWarning: invalid value encountered in log\n",
      "  loss = -np.mean(np.sum(Y_oh * np.log(A2 + 1e-12), axis=1))\n",
      "/tmp/ipykernel_13/170896461.py:89: RuntimeWarning: invalid value encountered in log\n",
      "  loss = -np.mean(np.sum(Y_oh * np.log(A2 + 1e-12), axis=1))\n",
      "/tmp/ipykernel_13/170896461.py:89: RuntimeWarning: invalid value encountered in log\n",
      "  loss = -np.mean(np.sum(Y_oh * np.log(A2 + 1e-12), axis=1))\n",
      "/tmp/ipykernel_13/170896461.py:89: RuntimeWarning: invalid value encountered in log\n",
      "  loss = -np.mean(np.sum(Y_oh * np.log(A2 + 1e-12), axis=1))\n",
      "/tmp/ipykernel_13/170896461.py:89: RuntimeWarning: invalid value encountered in log\n",
      "  loss = -np.mean(np.sum(Y_oh * np.log(A2 + 1e-12), axis=1))\n",
      "/tmp/ipykernel_13/170896461.py:89: RuntimeWarning: invalid value encountered in log\n",
      "  loss = -np.mean(np.sum(Y_oh * np.log(A2 + 1e-12), axis=1))\n"
     ]
    },
    {
     "name": "stdout",
     "output_type": "stream",
     "text": [
      " hidden_dim=20  → val loss = 5.657148\n",
      " hidden_dim=50  → val loss = 0.693902\n",
      " hidden_dim=100 → val loss = 0.693006\n",
      " hidden_dim=150 → val loss = 0.694925\n",
      " hidden_dim=17  → val loss = 0.693675\n",
      " hidden_dim=25  → val loss = 0.693761\n",
      " hidden_dim=34  → val loss = 0.693124\n",
      " hidden_dim=50  → val loss = 0.693079\n",
      " hidden_dim=68  → val loss = 0.693527\n"
     ]
    },
    {
     "name": "stderr",
     "output_type": "stream",
     "text": [
      "/tmp/ipykernel_13/170896461.py:67: RuntimeWarning: divide by zero encountered in scalar divide\n",
      "  alpha = -d.dot(g) / (delta + lambd*mu)\n",
      "/usr/local/lib/python3.11/dist-packages/pandas/core/internals/blocks.py:393: RuntimeWarning: invalid value encountered in tanh\n",
      "  result = func(self.values, **kwargs)\n",
      "/tmp/ipykernel_13/170896461.py:89: RuntimeWarning: invalid value encountered in log\n",
      "  loss = -np.mean(np.sum(Y_oh * np.log(A2 + 1e-12), axis=1))\n",
      "/tmp/ipykernel_13/170896461.py:89: RuntimeWarning: invalid value encountered in log\n",
      "  loss = -np.mean(np.sum(Y_oh * np.log(A2 + 1e-12), axis=1))\n",
      "/tmp/ipykernel_13/170896461.py:89: RuntimeWarning: invalid value encountered in log\n",
      "  loss = -np.mean(np.sum(Y_oh * np.log(A2 + 1e-12), axis=1))\n",
      "/tmp/ipykernel_13/170896461.py:89: RuntimeWarning: invalid value encountered in log\n",
      "  loss = -np.mean(np.sum(Y_oh * np.log(A2 + 1e-12), axis=1))\n",
      "/tmp/ipykernel_13/170896461.py:89: RuntimeWarning: invalid value encountered in log\n",
      "  loss = -np.mean(np.sum(Y_oh * np.log(A2 + 1e-12), axis=1))\n",
      "/tmp/ipykernel_13/170896461.py:89: RuntimeWarning: invalid value encountered in log\n",
      "  loss = -np.mean(np.sum(Y_oh * np.log(A2 + 1e-12), axis=1))\n"
     ]
    },
    {
     "name": "stdout",
     "output_type": "stream",
     "text": [
      " hidden_dim=85  → val loss = 5.649998\n",
      "⇒ Best hidden_dim = 100, validation loss = 0.693006\n",
      "Test classification report:\n"
     ]
    },
    {
     "name": "stderr",
     "output_type": "stream",
     "text": [
      "/usr/local/lib/python3.11/dist-packages/sklearn/metrics/_classification.py:1344: UndefinedMetricWarning: Precision and F-score are ill-defined and being set to 0.0 in labels with no predicted samples. Use `zero_division` parameter to control this behavior.\n",
      "  _warn_prf(average, modifier, msg_start, len(result))\n",
      "/usr/local/lib/python3.11/dist-packages/sklearn/metrics/_classification.py:1344: UndefinedMetricWarning: Precision and F-score are ill-defined and being set to 0.0 in labels with no predicted samples. Use `zero_division` parameter to control this behavior.\n",
      "  _warn_prf(average, modifier, msg_start, len(result))\n",
      "/usr/local/lib/python3.11/dist-packages/sklearn/metrics/_classification.py:1344: UndefinedMetricWarning: Precision and F-score are ill-defined and being set to 0.0 in labels with no predicted samples. Use `zero_division` parameter to control this behavior.\n",
      "  _warn_prf(average, modifier, msg_start, len(result))\n"
     ]
    },
    {
     "name": "stdout",
     "output_type": "stream",
     "text": [
      "              precision    recall  f1-score   support\n",
      "\n",
      "           0       0.77      1.00      0.87    159566\n",
      "           1       0.00      0.00      0.00     47528\n",
      "\n",
      "    accuracy                           0.77    207094\n",
      "   macro avg       0.39      0.50      0.44    207094\n",
      "weighted avg       0.59      0.77      0.67    207094\n",
      "\n",
      "Test confusion matrix:\n",
      " [[159566      0]\n",
      " [ 47528      0]]\n"
     ]
    },
    {
     "data": {
      "image/png": "[encoded data removed]",
      "text/plain": [
       "<Figure size 640x480 with 2 Axes>"
      ]
     },
     "metadata": {},
     "output_type": "display_data"
    }
   ],
   "source": [
    "import numpy as np\n",
    "from sklearn.model_selection import train_test_split\n",
    "from sklearn.preprocessing import OneHotEncoder\n",
    "from sklearn.metrics import f1_score, classification_report, confusion_matrix, roc_curve, auc\n",
    "import matplotlib.pyplot as plt\n",
    "import seaborn as sns\n",
    "\n",
    "# ——— Utility functions ———\n",
    "def softmax(Z):\n",
    "    # Ensure Z is a numpy array of shape (n_samples, n_classes)\n",
    "    Z_arr = Z.values if hasattr(Z, \"values\") else np.array(Z)\n",
    "    # 1) subtract the max for numerical stability\n",
    "    #    max_per_row: shape (n_samples,)\n",
    "    max_per_row = np.max(Z_arr, axis=1)\n",
    "    #    reshape to (n_samples, 1) so broadcasting works\n",
    "    max_per_row = max_per_row.reshape(-1, 1)\n",
    "    # 2) exponentiate\n",
    "    expZ = np.exp(Z_arr - max_per_row)\n",
    "    # 3) sum per row, then reshape to (n_samples, 1)\n",
    "    sum_per_row = np.sum(expZ, axis=1).reshape(-1, 1)\n",
    "    # 4) divide\n",
    "    return expZ / sum_per_row\n",
    "\n",
    "def pack(W1, b1, W2, b2):\n",
    "    \"\"\"\n",
    "    Flatten and concatenate parameters, handling pandas DataFrame/Series inputs.\n",
    "    \"\"\"\n",
    "    # Convert DataFrame/Series to numpy arrays\n",
    "    W1_arr = W1.values if isinstance(W1, pd.DataFrame) else np.array(W1)\n",
    "    b1_arr = b1.values if isinstance(b1, (pd.Series, pd.DataFrame)) else np.array(b1)\n",
    "    W2_arr = W2.values if isinstance(W2, pd.DataFrame) else np.array(W2)\n",
    "    b2_arr = b2.values if isinstance(b2, (pd.Series, pd.DataFrame)) else np.array(b2)\n",
    "    # Flatten and concatenate\n",
    "    return np.hstack([\n",
    "        W1_arr.ravel(),\n",
    "        b1_arr.ravel(),\n",
    "        W2_arr.ravel(),\n",
    "        b2_arr.ravel()\n",
    "    ])\n",
    "\n",
    "def unpack(p, input_dim, hidden_dim, output_dim):\n",
    "    idx = 0\n",
    "    W1 = p[idx:idx + hidden_dim*input_dim].reshape(hidden_dim, input_dim)\n",
    "    idx += hidden_dim*input_dim\n",
    "    b1 = p[idx:idx + hidden_dim]\n",
    "    idx += hidden_dim\n",
    "    W2 = p[idx:idx + output_dim*hidden_dim].reshape(output_dim, hidden_dim)\n",
    "    idx += output_dim*hidden_dim\n",
    "    b2 = p[idx:idx + output_dim]\n",
    "    return W1, b1, W2, b2\n",
    "\n",
    "def trainscg(loss_grad_func, x0, epochs=8, **lg_kwargs):\n",
    "    sigma0, lambd = 1e-6, 1e-6\n",
    "    x = x0.copy()\n",
    "    f, g = loss_grad_func(x, **lg_kwargs)\n",
    "    d = -g\n",
    "    errors = [f]\n",
    "    for epoch in range(epochs):\n",
    "        mu = d.dot(d)\n",
    "        sigma = sigma0 / np.sqrt(mu) if mu > 0 else sigma0\n",
    "        _, g1 = loss_grad_func(x + sigma*d, **lg_kwargs)\n",
    "        s = (g1 - g) / sigma\n",
    "        delta = d.dot(s)\n",
    "        if delta <= 0:\n",
    "            delta = lambd * mu\n",
    "            lambd -= delta / mu\n",
    "        alpha = -d.dot(g) / (delta + lambd*mu)\n",
    "        x_new = x + alpha*d\n",
    "        f_new, g_new = loss_grad_func(x_new, **lg_kwargs)\n",
    "        Delta = 2*(f - f_new) / (alpha * d.dot(g))\n",
    "        if Delta >= 0:\n",
    "            x, f, g = x_new, f_new, g_new\n",
    "            lambd *= max(1/3, 1 - (2*Delta - 1)**3)\n",
    "            beta = (g.dot(g) - g.dot(g_new)) / (d.dot(g))\n",
    "            d = -g + beta*d\n",
    "        else:\n",
    "            lambd += mu * (1 - Delta)\n",
    "        errors.append(f)\n",
    "    return x, errors\n",
    "\n",
    "def loss_grad_factory(X, Y_oh, input_dim, hidden_dim, output_dim):\n",
    "    def loss_and_grad(p):\n",
    "        W1, b1, W2, b2 = unpack(p, input_dim, hidden_dim, output_dim)\n",
    "        m = X.shape[0]\n",
    "        Z1 = X.dot(W1.T) + b1\n",
    "        A1 = np.tanh(Z1)\n",
    "        Z2 = A1.dot(W2.T) + b2\n",
    "        A2 = softmax(Z2)\n",
    "        loss = -np.mean(np.sum(Y_oh * np.log(A2 + 1e-12), axis=1))\n",
    "        dZ2 = (A2 - Y_oh) / m\n",
    "        dW2 = dZ2.T.dot(A1)\n",
    "        db2 = dZ2.sum(axis=0)\n",
    "        dA1 = dZ2.dot(W2)\n",
    "        dZ1 = dA1 * (1 - np.tanh(Z1)**2)\n",
    "        dW1 = dZ1.T.dot(X)\n",
    "        db1 = dZ1.sum(axis=0)\n",
    "        return loss, pack(dW1, db1, dW2, db2)\n",
    "    return loss_and_grad\n",
    "\n",
    "param_grid = {'hidden_dim': [10, 20, 50, 100, 150, 17, 25, 34, 50, 68, 85]}\n",
    "\n",
    "for name, X_trval, y_trval, X_test, y_test in models_info:\n",
    "    print(f\"\\n=== Dataset: {name} ===\")\n",
    "    # split train+val from test\n",
    "    X_trval = X_trval[top_features]\n",
    "    X_test = X_test[top_features]\n",
    "    X_train, X_val, y_train, y_val = train_test_split(\n",
    "        X_trval, y_trval, test_size=0.2, random_state=42\n",
    "    )\n",
    "    # one-hot encode y_train\n",
    "    y_arr = y_train.to_numpy().reshape(-1, 1)\n",
    "    encoder = OneHotEncoder(sparse=False, categories='auto')\n",
    "    Y_train_oh = encoder.fit_transform(y_arr.reshape(-1,1))\n",
    "    y_arv = y_val.to_numpy().reshape(-1, 1)\n",
    "    Y_val_oh   = encoder.transform(y_arv.reshape(-1,1))\n",
    "    # final test encoding not needed for training\n",
    "    \n",
    "    # scale assumed done before, X_trval and X_test are already scaled\n",
    "    \n",
    "    input_dim  = X_train.shape[1]\n",
    "    output_dim = Y_train_oh.shape[1]\n",
    "\n",
    "    best_h, best_loss = None, np.inf\n",
    "    for h in param_grid['hidden_dim']:\n",
    "        # init params\n",
    "        param_size  = h*input_dim + h + output_dim*h + output_dim\n",
    "        init_p = 0.01 * np.random.randn(param_size)\n",
    "        # train SCG\n",
    "        lg = loss_grad_factory(X_train, Y_train_oh, input_dim, h, output_dim)\n",
    "        opt_p, _ = trainscg(lg, init_p, epochs=8)\n",
    "        # predict on val\n",
    "        W1, b1, W2, b2 = unpack(opt_p, input_dim, h, output_dim)\n",
    "        Z1_val = X_val.dot(W1.T) + b1\n",
    "        A1_val = np.tanh(Z1_val)\n",
    "        Z2_val = A1_val.dot(W2.T) + b2\n",
    "        A2_val = softmax(Z2_val)\n",
    "        val_loss = -np.mean(np.sum(Y_val_oh * np.log(A2_val + 1e-12), axis=1))\n",
    "        print(f\" hidden_dim={h:<3} → val loss = {val_loss:.6f}\")\n",
    "        if val_loss < best_loss:\n",
    "            best_loss, best_h = val_loss, h\n",
    "    \n",
    "    print(f\"⇒ Best hidden_dim = {best_h}, validation loss = {best_loss:.6f}\")\n",
    "\n",
    "    X_full = np.vstack([X_train, X_val])\n",
    "    y_full = np.hstack([y_train, y_val])\n",
    "    Y_full_oh = encoder.fit_transform(y_full.reshape(-1,1))\n",
    "    param_size  = best_h*input_dim + best_h + output_dim*best_h + output_dim\n",
    "    init_p_full = 0.01 * np.random.randn(param_size)\n",
    "    lg_full = loss_grad_factory(X_full, Y_full_oh, input_dim, best_h, output_dim)\n",
    "    opt_p_full, loss_hist = trainscg(lg_full, init_p_full, epochs=8)\n",
    "    \n",
    "    # evaluate on test\n",
    "    W1f, b1f, W2f, b2f = unpack(opt_p_full, input_dim, best_h, output_dim)\n",
    "    A1_test = np.tanh(X_test.dot(W1f.T) + b1f)\n",
    "    probs_test = softmax(A1_test.dot(W2f.T) + b2f)\n",
    "    preds_test = np.argmax(probs_test, axis=1)\n",
    "    \n",
    "    print(\"Test classification report:\")\n",
    "    print(classification_report(y_test, preds_test))\n",
    "    cm = confusion_matrix(y_test, preds_test)\n",
    "    print(\"Test confusion matrix:\\n\", cm)\n",
    "    sns.heatmap(cm, annot=True, fmt=\"d\", cmap=\"Blues\")\n",
    "    plt.title(f\"{name} – hidden_dim={best_h}\")\n",
    "    plt.show()"
   ]
  },
  {
   "cell_type": "markdown",
   "id": "a1097bd6",
   "metadata": {
    "papermill": {
     "duration": 0.017442,
     "end_time": "2025-05-04T15:26:47.863109",
     "exception": false,
     "start_time": "2025-05-04T15:26:47.845667",
     "status": "completed"
    },
    "tags": []
   },
   "source": [
    "# 7. Kết luận"
   ]
  },
  {
   "cell_type": "markdown",
   "id": "18f43c11",
   "metadata": {
    "papermill": {
     "duration": 0.016555,
     "end_time": "2025-05-04T15:26:47.896523",
     "exception": false,
     "start_time": "2025-05-04T15:26:47.879968",
     "status": "completed"
    },
    "tags": []
   },
   "source": [
    "Mô hình XGBoost ban đầu (không SMOTE hay SMOTE ENN) là tốt nhất."
   ]
  }
 ],
 "metadata": {
  "kaggle": {
   "accelerator": "none",
   "dataSources": [
    {
     "datasetId": 6979951,
     "sourceId": 11182321,
     "sourceType": "datasetVersion"
    },
    {
     "datasetId": 6988906,
     "sourceId": 11449400,
     "sourceType": "datasetVersion"
    }
   ],
   "dockerImageVersionId": 31012,
   "isGpuEnabled": false,
   "isInternetEnabled": true,
   "language": "python",
   "sourceType": "notebook"
  },
  "kernelspec": {
   "display_name": "Python 3",
   "language": "python",
   "name": "python3"
  },
  "language_info": {
   "codemirror_mode": {
    "name": "ipython",
    "version": 3
   },
   "file_extension": ".py",
   "mimetype": "text/x-python",
   "name": "python",
   "nbconvert_exporter": "python",
   "pygments_lexer": "ipython3",
   "version": "3.11.11"
  },
  "papermill": {
   "default_parameters": {},
   "duration": 1426.281803,
   "end_time": "2025-05-04T15:26:48.836710",
   "environment_variables": {},
   "exception": null,
   "input_path": "__notebook__.ipynb",
   "output_path": "__notebook__.ipynb",
   "parameters": {},
   "start_time": "2025-05-04T15:03:02.554907",
   "version": "2.6.0"
  }
 },
 "nbformat": 4,
 "nbformat_minor": 5
}
