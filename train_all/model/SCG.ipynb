{
 "cells": [
  {
   "cell_type": "code",
   "execution_count": 1,
   "id": "bc301e5d",
   "metadata": {
    "_cell_guid": "b1076dfc-b9ad-4769-8c92-a6c4dae69d19",
    "_uuid": "8f2839f25d086af736a60e9eeb907d3b93b6e0e5",
    "execution": {
     "iopub.execute_input": "2025-05-05T18:33:18.197448Z",
     "iopub.status.busy": "2025-05-05T18:33:18.197019Z",
     "iopub.status.idle": "2025-05-05T18:33:39.547309Z",
     "shell.execute_reply": "2025-05-05T18:33:39.546132Z"
    },
    "papermill": {
     "duration": 21.359527,
     "end_time": "2025-05-05T18:33:39.549075",
     "exception": false,
     "start_time": "2025-05-05T18:33:18.189548",
     "status": "completed"
    },
    "tags": []
   },
   "outputs": [
    {
     "name": "stdout",
     "output_type": "stream",
     "text": [
      "Requirement already satisfied: scikit-learn==1.2.2 in /usr/local/lib/python3.11/dist-packages (1.2.2)\r\n",
      "Collecting imbalanced-learn==0.10.1\r\n",
      "  Downloading imbalanced_learn-0.10.1-py3-none-any.whl.metadata (8.2 kB)\r\n",
      "Requirement already satisfied: numpy>=1.17.3 in /usr/local/lib/python3.11/dist-packages (from scikit-learn==1.2.2) (1.26.4)\r\n",
      "Requirement already satisfied: scipy>=1.3.2 in /usr/local/lib/python3.11/dist-packages (from scikit-learn==1.2.2) (1.15.2)\r\n",
      "Requirement already satisfied: joblib>=1.1.1 in /usr/local/lib/python3.11/dist-packages (from scikit-learn==1.2.2) (1.4.2)\r\n",
      "Requirement already satisfied: threadpoolctl>=2.0.0 in /usr/local/lib/python3.11/dist-packages (from scikit-learn==1.2.2) (3.6.0)\r\n",
      "Requirement already satisfied: mkl_fft in /usr/local/lib/python3.11/dist-packages (from numpy>=1.17.3->scikit-learn==1.2.2) (1.3.8)\r\n",
      "Requirement already satisfied: mkl_random in /usr/local/lib/python3.11/dist-packages (from numpy>=1.17.3->scikit-learn==1.2.2) (1.2.4)\r\n",
      "Requirement already satisfied: mkl_umath in /usr/local/lib/python3.11/dist-packages (from numpy>=1.17.3->scikit-learn==1.2.2) (0.1.1)\r\n",
      "Requirement already satisfied: mkl in /usr/local/lib/python3.11/dist-packages (from numpy>=1.17.3->scikit-learn==1.2.2) (2025.1.0)\r\n",
      "Requirement already satisfied: tbb4py in /usr/local/lib/python3.11/dist-packages (from numpy>=1.17.3->scikit-learn==1.2.2) (2022.1.0)\r\n",
      "Requirement already satisfied: mkl-service in /usr/local/lib/python3.11/dist-packages (from numpy>=1.17.3->scikit-learn==1.2.2) (2.4.1)\r\n",
      "Requirement already satisfied: intel-openmp<2026,>=2024 in /usr/local/lib/python3.11/dist-packages (from mkl->numpy>=1.17.3->scikit-learn==1.2.2) (2024.2.0)\r\n",
      "Requirement already satisfied: tbb==2022.* in /usr/local/lib/python3.11/dist-packages (from mkl->numpy>=1.17.3->scikit-learn==1.2.2) (2022.1.0)\r\n",
      "Requirement already satisfied: tcmlib==1.* in /usr/local/lib/python3.11/dist-packages (from tbb==2022.*->mkl->numpy>=1.17.3->scikit-learn==1.2.2) (1.2.0)\r\n",
      "Requirement already satisfied: intel-cmplr-lib-rt in /usr/local/lib/python3.11/dist-packages (from mkl_umath->numpy>=1.17.3->scikit-learn==1.2.2) (2024.2.0)\r\n",
      "Requirement already satisfied: intel-cmplr-lib-ur==2024.2.0 in /usr/local/lib/python3.11/dist-packages (from intel-openmp<2026,>=2024->mkl->numpy>=1.17.3->scikit-learn==1.2.2) (2024.2.0)\r\n",
      "Downloading imbalanced_learn-0.10.1-py3-none-any.whl (226 kB)\r\n",
      "\u001b[2K   \u001b[90m━━━━━━━━━━━━━━━━━━━━━━━━━━━━━━━━━━━━━━━━\u001b[0m \u001b[32m226.0/226.0 kB\u001b[0m \u001b[31m10.3 MB/s\u001b[0m eta \u001b[36m0:00:00\u001b[0m\r\n",
      "\u001b[?25hInstalling collected packages: imbalanced-learn\r\n",
      "  Attempting uninstall: imbalanced-learn\r\n",
      "    Found existing installation: imbalanced-learn 0.13.0\r\n",
      "    Uninstalling imbalanced-learn-0.13.0:\r\n",
      "      Successfully uninstalled imbalanced-learn-0.13.0\r\n",
      "Successfully installed imbalanced-learn-0.10.1\r\n"
     ]
    }
   ],
   "source": [
    "import pandas as pd\n",
    "import numpy as np\n",
    "from sklearn.model_selection import train_test_split\n",
    "from sklearn.base import BaseEstimator, TransformerMixin\n",
    "from sklearn.pipeline import Pipeline\n",
    "from sklearn.preprocessing import MinMaxScaler\n",
    "from sklearn.preprocessing import StandardScaler\n",
    "import matplotlib.pyplot as plt\n",
    "import matplotlib.gridspec as gridspec\n",
    "import seaborn as sns\n",
    "from tqdm import tqdm\n",
    "from sklearn.metrics import classification_report, confusion_matrix, ConfusionMatrixDisplay\n",
    "import matplotlib.pyplot as plt\n",
    "import torch.nn as nn\n",
    "from sklearn.decomposition import PCA\n",
    "from sklearn.metrics import classification_report\n",
    "from sklearn.linear_model import LogisticRegression\n",
    "from sklearn.preprocessing import OneHotEncoder\n",
    "from sklearn.metrics import f1_score, classification_report, confusion_matrix, roc_curve, auc\n",
    "\n",
    "!pip install scikit-learn==1.2.2 imbalanced-learn==0.10.1\n",
    "\n",
    "from imblearn.over_sampling import SMOTE\n",
    "from imblearn.combine import SMOTEENN\n",
    "\n",
    "import warnings\n",
    "warnings.simplefilter('ignore', FutureWarning)"
   ]
  },
  {
   "cell_type": "code",
   "execution_count": 2,
   "id": "352e2b56",
   "metadata": {
    "execution": {
     "iopub.execute_input": "2025-05-05T18:33:39.563287Z",
     "iopub.status.busy": "2025-05-05T18:33:39.562277Z",
     "iopub.status.idle": "2025-05-05T18:33:49.536574Z",
     "shell.execute_reply": "2025-05-05T18:33:49.535242Z"
    },
    "papermill": {
     "duration": 9.983236,
     "end_time": "2025-05-05T18:33:49.538684",
     "exception": false,
     "start_time": "2025-05-05T18:33:39.555448",
     "status": "completed"
    },
    "tags": []
   },
   "outputs": [],
   "source": [
    "train_df = pd.read_csv('/kaggle/input/data-all/train_all/train_all.csv')\n",
    "test_df = pd.read_csv('/kaggle/input/data-all/train_all/test_all.csv')"
   ]
  },
  {
   "cell_type": "code",
   "execution_count": 3,
   "id": "87be9cd2",
   "metadata": {
    "execution": {
     "iopub.execute_input": "2025-05-05T18:33:49.561400Z",
     "iopub.status.busy": "2025-05-05T18:33:49.561087Z",
     "iopub.status.idle": "2025-05-05T18:33:49.660275Z",
     "shell.execute_reply": "2025-05-05T18:33:49.659139Z"
    },
    "papermill": {
     "duration": 0.110026,
     "end_time": "2025-05-05T18:33:49.662021",
     "exception": false,
     "start_time": "2025-05-05T18:33:49.551995",
     "status": "completed"
    },
    "tags": []
   },
   "outputs": [],
   "source": [
    "X_train = train_df.drop(columns=['AWS', 'datetime', 'row','col'])\n",
    "y_train = train_df['AWS']\n",
    "\n",
    "X_test = test_df.drop(columns=['AWS', 'datetime', 'row','col'])\n",
    "y_test = test_df['AWS']"
   ]
  },
  {
   "cell_type": "markdown",
   "id": "414ea21c",
   "metadata": {
    "papermill": {
     "duration": 0.007164,
     "end_time": "2025-05-05T18:33:49.674916",
     "exception": false,
     "start_time": "2025-05-05T18:33:49.667752",
     "status": "completed"
    },
    "tags": []
   },
   "source": [
    "# Chuẩn hóa"
   ]
  },
  {
   "cell_type": "code",
   "execution_count": 4,
   "id": "fc951d1a",
   "metadata": {
    "execution": {
     "iopub.execute_input": "2025-05-05T18:33:49.688481Z",
     "iopub.status.busy": "2025-05-05T18:33:49.688144Z",
     "iopub.status.idle": "2025-05-05T18:33:50.079066Z",
     "shell.execute_reply": "2025-05-05T18:33:50.077918Z"
    },
    "papermill": {
     "duration": 0.401822,
     "end_time": "2025-05-05T18:33:50.082392",
     "exception": false,
     "start_time": "2025-05-05T18:33:49.680570",
     "status": "completed"
    },
    "tags": []
   },
   "outputs": [],
   "source": [
    "scaler = StandardScaler()\n",
    "X_train_scaled = scaler.fit_transform(X_train)\n",
    "X_test_scaled = scaler.transform(X_test)\n",
    "\n",
    "X_train_scaled = pd.DataFrame(X_train_scaled, columns=X_train.columns)\n",
    "X_test_scaled = pd.DataFrame(X_test_scaled, columns=X_test.columns)"
   ]
  },
  {
   "cell_type": "markdown",
   "id": "b9391af1",
   "metadata": {
    "papermill": {
     "duration": 0.006823,
     "end_time": "2025-05-05T18:33:50.108447",
     "exception": false,
     "start_time": "2025-05-05T18:33:50.101624",
     "status": "completed"
    },
    "tags": []
   },
   "source": [
    "# Chọn feature"
   ]
  },
  {
   "cell_type": "code",
   "execution_count": 5,
   "id": "ede455e9",
   "metadata": {
    "execution": {
     "iopub.execute_input": "2025-05-05T18:33:50.128558Z",
     "iopub.status.busy": "2025-05-05T18:33:50.128223Z",
     "iopub.status.idle": "2025-05-05T18:33:50.137587Z",
     "shell.execute_reply": "2025-05-05T18:33:50.135921Z"
    },
    "papermill": {
     "duration": 0.024241,
     "end_time": "2025-05-05T18:33:50.140245",
     "exception": false,
     "start_time": "2025-05-05T18:33:50.116004",
     "status": "completed"
    },
    "tags": []
   },
   "outputs": [],
   "source": [
    "top_features = ['B14B', 'I2B', 'TCLW', 'R500', 'R850', 'CAPE', 'U850', 'B10B', 'PEV', 'SLOR', 'R250', 'KX', 'V250', 'U250', 'TCWV']"
   ]
  },
  {
   "cell_type": "code",
   "execution_count": 6,
   "id": "0de48029",
   "metadata": {
    "execution": {
     "iopub.execute_input": "2025-05-05T18:33:50.157040Z",
     "iopub.status.busy": "2025-05-05T18:33:50.156632Z",
     "iopub.status.idle": "2025-05-05T18:33:50.163534Z",
     "shell.execute_reply": "2025-05-05T18:33:50.162222Z"
    },
    "papermill": {
     "duration": 0.016367,
     "end_time": "2025-05-05T18:33:50.165471",
     "exception": false,
     "start_time": "2025-05-05T18:33:50.149104",
     "status": "completed"
    },
    "tags": []
   },
   "outputs": [],
   "source": [
    "def print_scores(y_true, y_pred):\n",
    "    cm = confusion_matrix(y_true, y_pred)\n",
    "    sns.heatmap(cm, annot=True, fmt=\"d\", cmap=\"Blues\")\n",
    "    plt.xlabel(\"Predicted\")\n",
    "    plt.ylabel(\"True\")\n",
    "    plt.title(\"Confusion Matrix\")\n",
    "    plt.show()\n",
    "    print(classification_report(y_true, y_pred))"
   ]
  },
  {
   "cell_type": "code",
   "execution_count": 7,
   "id": "813ca2b8",
   "metadata": {
    "execution": {
     "iopub.execute_input": "2025-05-05T18:33:50.180492Z",
     "iopub.status.busy": "2025-05-05T18:33:50.180124Z",
     "iopub.status.idle": "2025-05-05T18:33:50.185461Z",
     "shell.execute_reply": "2025-05-05T18:33:50.184174Z"
    },
    "papermill": {
     "duration": 0.015695,
     "end_time": "2025-05-05T18:33:50.187740",
     "exception": false,
     "start_time": "2025-05-05T18:33:50.172045",
     "status": "completed"
    },
    "tags": []
   },
   "outputs": [],
   "source": [
    "models_info = [\n",
    "    (\"Tháng 4 + 10\", X_train_scaled, y_train, X_test_scaled, y_test),\n",
    "]"
   ]
  },
  {
   "cell_type": "markdown",
   "id": "2f4307b0",
   "metadata": {
    "papermill": {
     "duration": 0.006494,
     "end_time": "2025-05-05T18:33:50.199783",
     "exception": false,
     "start_time": "2025-05-05T18:33:50.193289",
     "status": "completed"
    },
    "tags": []
   },
   "source": [
    "# Hàm bổ trợ"
   ]
  },
  {
   "cell_type": "code",
   "execution_count": 8,
   "id": "52d6f9b8",
   "metadata": {
    "execution": {
     "iopub.execute_input": "2025-05-05T18:33:50.219048Z",
     "iopub.status.busy": "2025-05-05T18:33:50.218640Z",
     "iopub.status.idle": "2025-05-05T18:33:50.225968Z",
     "shell.execute_reply": "2025-05-05T18:33:50.224294Z"
    },
    "papermill": {
     "duration": 0.019717,
     "end_time": "2025-05-05T18:33:50.228329",
     "exception": false,
     "start_time": "2025-05-05T18:33:50.208612",
     "status": "completed"
    },
    "tags": []
   },
   "outputs": [],
   "source": [
    "# ——— Utility functions ———\n",
    "def softmax(Z):\n",
    "    # Ensure Z is a numpy array of shape (n_samples, n_classes)\n",
    "    Z_arr = Z.values if hasattr(Z, \"values\") else np.array(Z)\n",
    "    # 1) subtract the max for numerical stability\n",
    "    #    max_per_row: shape (n_samples,)\n",
    "    max_per_row = np.max(Z_arr, axis=1)\n",
    "    #    reshape to (n_samples, 1) so broadcasting works\n",
    "    max_per_row = max_per_row.reshape(-1, 1)\n",
    "    # 2) exponentiate\n",
    "    expZ = np.exp(Z_arr - max_per_row)\n",
    "    # 3) sum per row, then reshape to (n_samples, 1)\n",
    "    sum_per_row = np.sum(expZ, axis=1).reshape(-1, 1)\n",
    "    # 4) divide\n",
    "    return expZ / sum_per_row"
   ]
  },
  {
   "cell_type": "code",
   "execution_count": 9,
   "id": "dce45500",
   "metadata": {
    "execution": {
     "iopub.execute_input": "2025-05-05T18:33:50.244326Z",
     "iopub.status.busy": "2025-05-05T18:33:50.242821Z",
     "iopub.status.idle": "2025-05-05T18:33:50.252773Z",
     "shell.execute_reply": "2025-05-05T18:33:50.251291Z"
    },
    "papermill": {
     "duration": 0.020394,
     "end_time": "2025-05-05T18:33:50.255150",
     "exception": false,
     "start_time": "2025-05-05T18:33:50.234756",
     "status": "completed"
    },
    "tags": []
   },
   "outputs": [],
   "source": [
    "def pack(W1, b1, W2, b2):\n",
    "    \"\"\"\n",
    "    Flatten and concatenate parameters, handling pandas DataFrame/Series inputs.\n",
    "    \"\"\"\n",
    "    # Convert DataFrame/Series to numpy arrays\n",
    "    W1_arr = W1.values if isinstance(W1, pd.DataFrame) else np.array(W1)\n",
    "    b1_arr = b1.values if isinstance(b1, (pd.Series, pd.DataFrame)) else np.array(b1)\n",
    "    W2_arr = W2.values if isinstance(W2, pd.DataFrame) else np.array(W2)\n",
    "    b2_arr = b2.values if isinstance(b2, (pd.Series, pd.DataFrame)) else np.array(b2)\n",
    "    # Flatten and concatenate\n",
    "    return np.hstack([\n",
    "        W1_arr.ravel(),\n",
    "        b1_arr.ravel(),\n",
    "        W2_arr.ravel(),\n",
    "        b2_arr.ravel()\n",
    "    ])"
   ]
  },
  {
   "cell_type": "code",
   "execution_count": 10,
   "id": "51243dfc",
   "metadata": {
    "execution": {
     "iopub.execute_input": "2025-05-05T18:33:50.269107Z",
     "iopub.status.busy": "2025-05-05T18:33:50.268718Z",
     "iopub.status.idle": "2025-05-05T18:33:50.278433Z",
     "shell.execute_reply": "2025-05-05T18:33:50.277040Z"
    },
    "papermill": {
     "duration": 0.01928,
     "end_time": "2025-05-05T18:33:50.280272",
     "exception": false,
     "start_time": "2025-05-05T18:33:50.260992",
     "status": "completed"
    },
    "tags": []
   },
   "outputs": [],
   "source": [
    "def unpack(p, input_dim, hidden_dim, output_dim):\n",
    "    idx = 0\n",
    "    W1 = p[idx:idx + hidden_dim*input_dim].reshape(hidden_dim, input_dim)\n",
    "    idx += hidden_dim*input_dim\n",
    "    b1 = p[idx:idx + hidden_dim]\n",
    "    idx += hidden_dim\n",
    "    W2 = p[idx:idx + output_dim*hidden_dim].reshape(output_dim, hidden_dim)\n",
    "    idx += output_dim*hidden_dim\n",
    "    b2 = p[idx:idx + output_dim]\n",
    "    return W1, b1, W2, b2"
   ]
  },
  {
   "cell_type": "code",
   "execution_count": 11,
   "id": "02cd30f0",
   "metadata": {
    "execution": {
     "iopub.execute_input": "2025-05-05T18:33:50.295118Z",
     "iopub.status.busy": "2025-05-05T18:33:50.294552Z",
     "iopub.status.idle": "2025-05-05T18:33:50.305570Z",
     "shell.execute_reply": "2025-05-05T18:33:50.304500Z"
    },
    "papermill": {
     "duration": 0.02075,
     "end_time": "2025-05-05T18:33:50.307487",
     "exception": false,
     "start_time": "2025-05-05T18:33:50.286737",
     "status": "completed"
    },
    "tags": []
   },
   "outputs": [],
   "source": [
    "def trainscg(loss_grad_func, x0, epochs=8, **lg_kwargs):\n",
    "    sigma0, lambd = 1e-6, 1e-6\n",
    "    x = x0.copy()\n",
    "    f, g = loss_grad_func(x, **lg_kwargs)\n",
    "    d = -g\n",
    "    errors = [f]\n",
    "    for epoch in range(epochs):\n",
    "        mu = d.dot(d)\n",
    "        sigma = sigma0 / np.sqrt(mu) if mu > 0 else sigma0\n",
    "        _, g1 = loss_grad_func(x + sigma*d, **lg_kwargs)\n",
    "        s = (g1 - g) / sigma\n",
    "        delta = d.dot(s)\n",
    "        if delta <= 0:\n",
    "            delta = lambd * mu\n",
    "            lambd -= delta / mu\n",
    "        alpha = -d.dot(g) / (delta + lambd*mu)\n",
    "        x_new = x + alpha*d\n",
    "        f_new, g_new = loss_grad_func(x_new, **lg_kwargs)\n",
    "        Delta = 2*(f - f_new) / (alpha * d.dot(g))\n",
    "        if Delta >= 0:\n",
    "            x, f, g = x_new, f_new, g_new\n",
    "            lambd *= max(1/3, 1 - (2*Delta - 1)**3)\n",
    "            beta = (g.dot(g) - g.dot(g_new)) / (d.dot(g))\n",
    "            d = -g + beta*d\n",
    "        else:\n",
    "            lambd += mu * (1 - Delta)\n",
    "        errors.append(f)\n",
    "    return x, errors"
   ]
  },
  {
   "cell_type": "code",
   "execution_count": 12,
   "id": "11196c74",
   "metadata": {
    "execution": {
     "iopub.execute_input": "2025-05-05T18:33:50.321217Z",
     "iopub.status.busy": "2025-05-05T18:33:50.320820Z",
     "iopub.status.idle": "2025-05-05T18:33:50.329337Z",
     "shell.execute_reply": "2025-05-05T18:33:50.327627Z"
    },
    "papermill": {
     "duration": 0.018008,
     "end_time": "2025-05-05T18:33:50.331243",
     "exception": false,
     "start_time": "2025-05-05T18:33:50.313235",
     "status": "completed"
    },
    "tags": []
   },
   "outputs": [],
   "source": [
    "def loss_grad_factory(X, Y_oh, input_dim, hidden_dim, output_dim):\n",
    "    def loss_and_grad(p):\n",
    "        W1, b1, W2, b2 = unpack(p, input_dim, hidden_dim, output_dim)\n",
    "        m = X.shape[0]\n",
    "        Z1 = X.dot(W1.T) + b1\n",
    "        A1 = np.tanh(Z1)\n",
    "        Z2 = A1.dot(W2.T) + b2\n",
    "        A2 = softmax(Z2)\n",
    "        loss = -np.mean(np.sum(Y_oh * np.log(A2 + 1e-12), axis=1))\n",
    "        dZ2 = (A2 - Y_oh) / m\n",
    "        dW2 = dZ2.T.dot(A1)\n",
    "        db2 = dZ2.sum(axis=0)\n",
    "        dA1 = dZ2.dot(W2)\n",
    "        dZ1 = dA1 * (1 - np.tanh(Z1)**2)\n",
    "        dW1 = dZ1.T.dot(X)\n",
    "        db1 = dZ1.sum(axis=0)\n",
    "        return loss, pack(dW1, db1, dW2, db2)\n",
    "    return loss_and_grad\n"
   ]
  },
  {
   "cell_type": "code",
   "execution_count": 13,
   "id": "a42100d8",
   "metadata": {
    "execution": {
     "iopub.execute_input": "2025-05-05T18:33:50.344071Z",
     "iopub.status.busy": "2025-05-05T18:33:50.343554Z",
     "iopub.status.idle": "2025-05-05T18:33:50.350296Z",
     "shell.execute_reply": "2025-05-05T18:33:50.348934Z"
    },
    "papermill": {
     "duration": 0.015652,
     "end_time": "2025-05-05T18:33:50.352547",
     "exception": false,
     "start_time": "2025-05-05T18:33:50.336895",
     "status": "completed"
    },
    "tags": []
   },
   "outputs": [],
   "source": [
    "param_grid = {'hidden_dim': [10, 20, 50, 100, 150, 17, 25, 34, 50, 68, 85]}"
   ]
  },
  {
   "cell_type": "code",
   "execution_count": 14,
   "id": "78cfe7e7",
   "metadata": {
    "execution": {
     "iopub.execute_input": "2025-05-05T18:33:50.365646Z",
     "iopub.status.busy": "2025-05-05T18:33:50.365340Z",
     "iopub.status.idle": "2025-05-05T18:33:50.379520Z",
     "shell.execute_reply": "2025-05-05T18:33:50.378170Z"
    },
    "papermill": {
     "duration": 0.023307,
     "end_time": "2025-05-05T18:33:50.381720",
     "exception": false,
     "start_time": "2025-05-05T18:33:50.358413",
     "status": "completed"
    },
    "tags": []
   },
   "outputs": [],
   "source": [
    "def train_and_evaluate_model(name, X_trval, y_trval, X_test, y_test, top_features=None, param_grid=param_grid):\n",
    "    print(f\"\\n=== Dataset: {name} ===\")\n",
    "\n",
    "    if top_features is not None:\n",
    "        X_trval = X_trval[top_features]\n",
    "        X_test = X_test[top_features]\n",
    "\n",
    "    X_train, X_val, y_train, y_val = train_test_split(\n",
    "        X_trval, y_trval, test_size=0.2, random_state=42\n",
    "    )\n",
    "\n",
    "    # One-hot encode\n",
    "    encoder = OneHotEncoder(sparse=False, categories='auto')\n",
    "    Y_train_oh = encoder.fit_transform(y_train.to_numpy().reshape(-1, 1))\n",
    "    Y_val_oh   = encoder.transform(y_val.to_numpy().reshape(-1, 1))\n",
    "\n",
    "    input_dim  = X_train.shape[1]\n",
    "    output_dim = Y_train_oh.shape[1]\n",
    "\n",
    "    best_h, best_loss = None, np.inf\n",
    "    for h in param_grid['hidden_dim']:\n",
    "        param_size = h*input_dim + h + output_dim*h + output_dim\n",
    "        init_p = 0.01 * np.random.randn(param_size)\n",
    "        lg = loss_grad_factory(X_train, Y_train_oh, input_dim, h, output_dim)\n",
    "        opt_p, _ = trainscg(lg, init_p, epochs=8)\n",
    "\n",
    "        W1, b1, W2, b2 = unpack(opt_p, input_dim, h, output_dim)\n",
    "        Z1_val = X_val @ W1.T + b1\n",
    "        A1_val = np.tanh(Z1_val)\n",
    "        Z2_val = A1_val @ W2.T + b2\n",
    "        A2_val = softmax(Z2_val)\n",
    "\n",
    "        val_loss = -np.mean(np.sum(Y_val_oh * np.log(A2_val + 1e-12), axis=1))\n",
    "        print(f\" hidden_dim={h:<3} → val loss = {val_loss:.6f}\")\n",
    "        if val_loss < best_loss:\n",
    "            best_loss, best_h = val_loss, h\n",
    "\n",
    "    print(f\"⇒ Best hidden_dim = {best_h}, validation loss = {best_loss:.6f}\")\n",
    "\n",
    "    # retrain on full train+val\n",
    "    X_full = np.vstack([X_train, X_val])\n",
    "    y_full = np.hstack([y_train, y_val])\n",
    "    Y_full_oh = encoder.fit_transform(y_full.reshape(-1,1))\n",
    "\n",
    "    param_size = best_h*input_dim + best_h + output_dim*best_h + output_dim\n",
    "    init_p_full = 0.01 * np.random.randn(param_size)\n",
    "    lg_full = loss_grad_factory(X_full, Y_full_oh, input_dim, best_h, output_dim)\n",
    "    opt_p_full, _ = trainscg(lg_full, init_p_full, epochs=8)\n",
    "\n",
    "    # evaluate\n",
    "    W1f, b1f, W2f, b2f = unpack(opt_p_full, input_dim, best_h, output_dim)\n",
    "    A1_test = np.tanh(X_test @ W1f.T + b1f)\n",
    "    probs_test = softmax(A1_test @ W2f.T + b2f)\n",
    "    preds_test = np.argmax(probs_test, axis=1)\n",
    "\n",
    "    print(\"Test classification report:\")\n",
    "    print(classification_report(y_test, preds_test))\n",
    "    cm = confusion_matrix(y_test, preds_test)\n",
    "    print(\"Test confusion matrix:\\n\", cm)\n",
    "    sns.heatmap(cm, annot=True, fmt=\"d\", cmap=\"Blues\")\n",
    "    plt.title(f\"{name} – hidden_dim={best_h}\")\n",
    "    plt.show()\n"
   ]
  },
  {
   "cell_type": "code",
   "execution_count": 15,
   "id": "0dd5dc62",
   "metadata": {
    "execution": {
     "iopub.execute_input": "2025-05-05T18:33:50.395099Z",
     "iopub.status.busy": "2025-05-05T18:33:50.394703Z",
     "iopub.status.idle": "2025-05-05T18:40:30.357263Z",
     "shell.execute_reply": "2025-05-05T18:40:30.355961Z"
    },
    "papermill": {
     "duration": 399.971977,
     "end_time": "2025-05-05T18:40:30.359333",
     "exception": false,
     "start_time": "2025-05-05T18:33:50.387356",
     "status": "completed"
    },
    "tags": []
   },
   "outputs": [
    {
     "name": "stdout",
     "output_type": "stream",
     "text": [
      "\n",
      "=== Dataset: Tháng 4 + 10 (All Features) ===\n",
      " hidden_dim=10  → val loss = 0.690961\n",
      " hidden_dim=20  → val loss = 0.693749\n",
      " hidden_dim=50  → val loss = 0.690919\n",
      " hidden_dim=100 → val loss = 0.693951\n",
      " hidden_dim=150 → val loss = 0.694654\n",
      " hidden_dim=17  → val loss = 0.681922\n",
      " hidden_dim=25  → val loss = 0.684373\n",
      " hidden_dim=34  → val loss = 0.699910\n",
      " hidden_dim=50  → val loss = 0.695424\n",
      " hidden_dim=68  → val loss = 0.700778\n",
      " hidden_dim=85  → val loss = 0.689530\n",
      "⇒ Best hidden_dim = 17, validation loss = 0.681922\n",
      "Test classification report:\n",
      "              precision    recall  f1-score   support\n",
      "\n",
      "           0       0.77      1.00      0.87    164663\n",
      "           1       0.00      0.00      0.00     48990\n",
      "\n",
      "    accuracy                           0.77    213653\n",
      "   macro avg       0.39      0.50      0.43    213653\n",
      "weighted avg       0.59      0.77      0.67    213653\n",
      "\n",
      "Test confusion matrix:\n",
      " [[164380    283]\n",
      " [ 48989      1]]\n"
     ]
    },
    {
     "data": {
      "image/png": "[encoded data removed]",
      "text/plain": [
       "<Figure size 640x480 with 2 Axes>"
      ]
     },
     "metadata": {},
     "output_type": "display_data"
    },
    {
     "name": "stdout",
     "output_type": "stream",
     "text": [
      "\n",
      "=== Dataset: Tháng 4 + 10 (Top Features) ===\n",
      " hidden_dim=10  → val loss = 0.681618\n",
      " hidden_dim=20  → val loss = 0.695937\n",
      " hidden_dim=50  → val loss = 0.703874\n",
      " hidden_dim=100 → val loss = 0.699870\n",
      " hidden_dim=150 → val loss = 0.688658\n",
      " hidden_dim=17  → val loss = 0.687575\n",
      " hidden_dim=25  → val loss = 0.695283\n",
      " hidden_dim=34  → val loss = 0.697954\n",
      " hidden_dim=50  → val loss = 0.684983\n",
      " hidden_dim=68  → val loss = 0.693670\n",
      " hidden_dim=85  → val loss = 0.696328\n",
      "⇒ Best hidden_dim = 10, validation loss = 0.681618\n",
      "Test classification report:\n"
     ]
    },
    {
     "name": "stderr",
     "output_type": "stream",
     "text": [
      "/usr/local/lib/python3.11/dist-packages/sklearn/metrics/_classification.py:1344: UndefinedMetricWarning: Precision and F-score are ill-defined and being set to 0.0 in labels with no predicted samples. Use `zero_division` parameter to control this behavior.\n",
      "  _warn_prf(average, modifier, msg_start, len(result))\n",
      "/usr/local/lib/python3.11/dist-packages/sklearn/metrics/_classification.py:1344: UndefinedMetricWarning: Precision and F-score are ill-defined and being set to 0.0 in labels with no predicted samples. Use `zero_division` parameter to control this behavior.\n",
      "  _warn_prf(average, modifier, msg_start, len(result))\n",
      "/usr/local/lib/python3.11/dist-packages/sklearn/metrics/_classification.py:1344: UndefinedMetricWarning: Precision and F-score are ill-defined and being set to 0.0 in labels with no predicted samples. Use `zero_division` parameter to control this behavior.\n",
      "  _warn_prf(average, modifier, msg_start, len(result))\n"
     ]
    },
    {
     "name": "stdout",
     "output_type": "stream",
     "text": [
      "              precision    recall  f1-score   support\n",
      "\n",
      "           0       0.77      1.00      0.87    164663\n",
      "           1       0.00      0.00      0.00     48990\n",
      "\n",
      "    accuracy                           0.77    213653\n",
      "   macro avg       0.39      0.50      0.44    213653\n",
      "weighted avg       0.59      0.77      0.67    213653\n",
      "\n",
      "Test confusion matrix:\n",
      " [[164663      0]\n",
      " [ 48990      0]]\n"
     ]
    },
    {
     "data": {
      "image/png": "[encoded data removed]",
      "text/plain": [
       "<Figure size 640x480 with 2 Axes>"
      ]
     },
     "metadata": {},
     "output_type": "display_data"
    }
   ],
   "source": [
    "for name, X_trval, y_trval, X_test, y_test in models_info:\n",
    "    \n",
    "    train_and_evaluate_model(name + \" (All Features)\", X_trval, y_trval, X_test, y_test)\n",
    "\n",
    "    train_and_evaluate_model(name + \" (Top Features)\", X_trval, y_trval, X_test, y_test, top_features=top_features)"
   ]
  },
  {
   "cell_type": "markdown",
   "id": "78cbe0e1",
   "metadata": {
    "papermill": {
     "duration": 0.007741,
     "end_time": "2025-05-05T18:40:30.375509",
     "exception": false,
     "start_time": "2025-05-05T18:40:30.367768",
     "status": "completed"
    },
    "tags": []
   },
   "source": [
    "# Oversampling"
   ]
  },
  {
   "cell_type": "markdown",
   "id": "73df231e",
   "metadata": {
    "papermill": {
     "duration": 0.007735,
     "end_time": "2025-05-05T18:40:30.391437",
     "exception": false,
     "start_time": "2025-05-05T18:40:30.383702",
     "status": "completed"
    },
    "tags": []
   },
   "source": [
    "##  SMOTE"
   ]
  },
  {
   "cell_type": "code",
   "execution_count": 16,
   "id": "7e8d722e",
   "metadata": {
    "execution": {
     "iopub.execute_input": "2025-05-05T18:40:30.409572Z",
     "iopub.status.busy": "2025-05-05T18:40:30.409260Z",
     "iopub.status.idle": "2025-05-05T18:40:36.578110Z",
     "shell.execute_reply": "2025-05-05T18:40:36.576924Z"
    },
    "papermill": {
     "duration": 6.180117,
     "end_time": "2025-05-05T18:40:36.580224",
     "exception": false,
     "start_time": "2025-05-05T18:40:30.400107",
     "status": "completed"
    },
    "tags": []
   },
   "outputs": [],
   "source": [
    "sm = SMOTE()\n",
    "\n",
    "X_sm, y_sm = sm.fit_resample(X_train, y_train)\n",
    "X_sm.shape, y_sm.shape\n",
    "\n",
    "scaler = StandardScaler()\n",
    "X_train_scaled = scaler.fit_transform(X_sm)\n",
    "X_test_scaled = scaler.transform(X_test)\n",
    "\n",
    "X_train_scaled = pd.DataFrame(X_train_scaled, columns=X_train.columns)\n",
    "X_test_scaled = pd.DataFrame(X_test_scaled, columns=X_test.columns)"
   ]
  },
  {
   "cell_type": "code",
   "execution_count": 17,
   "id": "5fd116a3",
   "metadata": {
    "execution": {
     "iopub.execute_input": "2025-05-05T18:40:36.599067Z",
     "iopub.status.busy": "2025-05-05T18:40:36.598621Z",
     "iopub.status.idle": "2025-05-05T18:40:36.603519Z",
     "shell.execute_reply": "2025-05-05T18:40:36.602557Z"
    },
    "papermill": {
     "duration": 0.016722,
     "end_time": "2025-05-05T18:40:36.605367",
     "exception": false,
     "start_time": "2025-05-05T18:40:36.588645",
     "status": "completed"
    },
    "tags": []
   },
   "outputs": [],
   "source": [
    "models_info = [\n",
    "    (\"Tháng 4 + 10 smote\", X_train_scaled, y_sm, X_test_scaled, y_test),\n",
    "]"
   ]
  },
  {
   "cell_type": "code",
   "execution_count": 18,
   "id": "c639852a",
   "metadata": {
    "execution": {
     "iopub.execute_input": "2025-05-05T18:40:36.623311Z",
     "iopub.status.busy": "2025-05-05T18:40:36.622826Z",
     "iopub.status.idle": "2025-05-05T18:53:15.160101Z",
     "shell.execute_reply": "2025-05-05T18:53:15.158662Z"
    },
    "papermill": {
     "duration": 758.547877,
     "end_time": "2025-05-05T18:53:15.161923",
     "exception": false,
     "start_time": "2025-05-05T18:40:36.614046",
     "status": "completed"
    },
    "tags": []
   },
   "outputs": [
    {
     "name": "stdout",
     "output_type": "stream",
     "text": [
      "\n",
      "=== Dataset: Tháng 4 + 10 smote (All Features) ===\n",
      " hidden_dim=10  → val loss = 0.693414\n",
      " hidden_dim=20  → val loss = 0.710881\n",
      " hidden_dim=50  → val loss = 0.693282\n",
      " hidden_dim=100 → val loss = 0.693385\n",
      " hidden_dim=150 → val loss = 0.693462\n",
      " hidden_dim=17  → val loss = 0.693490\n",
      " hidden_dim=25  → val loss = 0.693871\n",
      " hidden_dim=34  → val loss = 0.693225\n",
      " hidden_dim=50  → val loss = 0.694710\n",
      " hidden_dim=68  → val loss = 0.693619\n",
      " hidden_dim=85  → val loss = 0.693352\n",
      "⇒ Best hidden_dim = 34, validation loss = 0.693225\n"
     ]
    },
    {
     "name": "stderr",
     "output_type": "stream",
     "text": [
      "/tmp/ipykernel_13/3941530362.py:16: RuntimeWarning: divide by zero encountered in scalar divide\n",
      "  alpha = -d.dot(g) / (delta + lambd*mu)\n",
      "/tmp/ipykernel_13/2642452818.py:5: RuntimeWarning: invalid value encountered in add\n",
      "  Z1 = X.dot(W1.T) + b1\n",
      "/tmp/ipykernel_13/2642452818.py:6: RuntimeWarning: invalid value encountered in tanh\n",
      "  A1 = np.tanh(Z1)\n",
      "/tmp/ipykernel_13/2642452818.py:9: RuntimeWarning: invalid value encountered in log\n",
      "  loss = -np.mean(np.sum(Y_oh * np.log(A2 + 1e-12), axis=1))\n",
      "/tmp/ipykernel_13/2642452818.py:14: RuntimeWarning: invalid value encountered in tanh\n",
      "  dZ1 = dA1 * (1 - np.tanh(Z1)**2)\n"
     ]
    },
    {
     "name": "stdout",
     "output_type": "stream",
     "text": [
      "Test classification report:\n",
      "              precision    recall  f1-score   support\n",
      "\n",
      "           0       0.87      0.32      0.46    164663\n",
      "           1       0.27      0.84      0.41     48990\n",
      "\n",
      "    accuracy                           0.44    213653\n",
      "   macro avg       0.57      0.58      0.43    213653\n",
      "weighted avg       0.73      0.44      0.45    213653\n",
      "\n",
      "Test confusion matrix:\n",
      " [[ 52149 112514]\n",
      " [  7913  41077]]\n"
     ]
    },
    {
     "data": {
      "image/png": "[encoded data removed]",
      "text/plain": [
       "<Figure size 640x480 with 2 Axes>"
      ]
     },
     "metadata": {},
     "output_type": "display_data"
    },
    {
     "name": "stdout",
     "output_type": "stream",
     "text": [
      "\n",
      "=== Dataset: Tháng 4 + 10 smote (Top Features) ===\n",
      " hidden_dim=10  → val loss = 0.693330\n"
     ]
    },
    {
     "name": "stderr",
     "output_type": "stream",
     "text": [
      "/tmp/ipykernel_13/3941530362.py:16: RuntimeWarning: divide by zero encountered in scalar divide\n",
      "  alpha = -d.dot(g) / (delta + lambd*mu)\n",
      "/usr/local/lib/python3.11/dist-packages/pandas/core/internals/blocks.py:393: RuntimeWarning: invalid value encountered in tanh\n",
      "  result = func(self.values, **kwargs)\n",
      "/tmp/ipykernel_13/2642452818.py:9: RuntimeWarning: invalid value encountered in log\n",
      "  loss = -np.mean(np.sum(Y_oh * np.log(A2 + 1e-12), axis=1))\n",
      "/tmp/ipykernel_13/2642452818.py:9: RuntimeWarning: invalid value encountered in log\n",
      "  loss = -np.mean(np.sum(Y_oh * np.log(A2 + 1e-12), axis=1))\n",
      "/tmp/ipykernel_13/2642452818.py:9: RuntimeWarning: invalid value encountered in log\n",
      "  loss = -np.mean(np.sum(Y_oh * np.log(A2 + 1e-12), axis=1))\n",
      "/tmp/ipykernel_13/2642452818.py:9: RuntimeWarning: invalid value encountered in log\n",
      "  loss = -np.mean(np.sum(Y_oh * np.log(A2 + 1e-12), axis=1))\n",
      "/tmp/ipykernel_13/2642452818.py:9: RuntimeWarning: invalid value encountered in log\n",
      "  loss = -np.mean(np.sum(Y_oh * np.log(A2 + 1e-12), axis=1))\n",
      "/tmp/ipykernel_13/2642452818.py:9: RuntimeWarning: invalid value encountered in log\n",
      "  loss = -np.mean(np.sum(Y_oh * np.log(A2 + 1e-12), axis=1))\n",
      "/tmp/ipykernel_13/2642452818.py:9: RuntimeWarning: invalid value encountered in log\n",
      "  loss = -np.mean(np.sum(Y_oh * np.log(A2 + 1e-12), axis=1))\n"
     ]
    },
    {
     "name": "stdout",
     "output_type": "stream",
     "text": [
      " hidden_dim=20  → val loss = 6.574623\n",
      " hidden_dim=50  → val loss = 0.693227\n",
      " hidden_dim=100 → val loss = 0.693574\n",
      " hidden_dim=150 → val loss = 0.694546\n",
      " hidden_dim=17  → val loss = 6.570552\n"
     ]
    },
    {
     "name": "stderr",
     "output_type": "stream",
     "text": [
      "/tmp/ipykernel_13/3941530362.py:16: RuntimeWarning: divide by zero encountered in scalar divide\n",
      "  alpha = -d.dot(g) / (delta + lambd*mu)\n",
      "/usr/local/lib/python3.11/dist-packages/pandas/core/internals/blocks.py:393: RuntimeWarning: invalid value encountered in tanh\n",
      "  result = func(self.values, **kwargs)\n",
      "/tmp/ipykernel_13/2642452818.py:9: RuntimeWarning: invalid value encountered in log\n",
      "  loss = -np.mean(np.sum(Y_oh * np.log(A2 + 1e-12), axis=1))\n",
      "/tmp/ipykernel_13/2642452818.py:9: RuntimeWarning: invalid value encountered in log\n",
      "  loss = -np.mean(np.sum(Y_oh * np.log(A2 + 1e-12), axis=1))\n",
      "/tmp/ipykernel_13/2642452818.py:9: RuntimeWarning: invalid value encountered in log\n",
      "  loss = -np.mean(np.sum(Y_oh * np.log(A2 + 1e-12), axis=1))\n",
      "/tmp/ipykernel_13/2642452818.py:9: RuntimeWarning: invalid value encountered in log\n",
      "  loss = -np.mean(np.sum(Y_oh * np.log(A2 + 1e-12), axis=1))\n",
      "/tmp/ipykernel_13/2642452818.py:9: RuntimeWarning: invalid value encountered in log\n",
      "  loss = -np.mean(np.sum(Y_oh * np.log(A2 + 1e-12), axis=1))\n",
      "/tmp/ipykernel_13/2642452818.py:9: RuntimeWarning: invalid value encountered in log\n",
      "  loss = -np.mean(np.sum(Y_oh * np.log(A2 + 1e-12), axis=1))\n",
      "/tmp/ipykernel_13/2642452818.py:9: RuntimeWarning: invalid value encountered in log\n",
      "  loss = -np.mean(np.sum(Y_oh * np.log(A2 + 1e-12), axis=1))\n"
     ]
    },
    {
     "name": "stdout",
     "output_type": "stream",
     "text": [
      " hidden_dim=25  → val loss = 6.572417\n",
      " hidden_dim=34  → val loss = 0.811771\n",
      " hidden_dim=50  → val loss = 6.570735\n",
      " hidden_dim=68  → val loss = 0.693542\n",
      " hidden_dim=85  → val loss = 0.693189\n",
      "⇒ Best hidden_dim = 85, validation loss = 0.693189\n",
      "Test classification report:\n",
      "              precision    recall  f1-score   support\n",
      "\n",
      "           0       0.74      0.83      0.79    164663\n",
      "           1       0.07      0.04      0.05     48990\n",
      "\n",
      "    accuracy                           0.65    213653\n",
      "   macro avg       0.41      0.44      0.42    213653\n",
      "weighted avg       0.59      0.65      0.62    213653\n",
      "\n",
      "Test confusion matrix:\n",
      " [[137212  27451]\n",
      " [ 47067   1923]]\n"
     ]
    },
    {
     "data": {
      "image/png": "[encoded data removed]",
      "text/plain": [
       "<Figure size 640x480 with 2 Axes>"
      ]
     },
     "metadata": {},
     "output_type": "display_data"
    }
   ],
   "source": [
    "for name, X_trval, y_trval, X_test, y_test in models_info:\n",
    "    \n",
    "    train_and_evaluate_model(name + \" (All Features)\", X_trval, y_trval, X_test, y_test)\n",
    "\n",
    "    train_and_evaluate_model(name + \" (Top Features)\", X_trval, y_trval, X_test, y_test, top_features=top_features)"
   ]
  },
  {
   "cell_type": "markdown",
   "id": "d7e6e145",
   "metadata": {
    "papermill": {
     "duration": 0.013101,
     "end_time": "2025-05-05T18:53:15.187495",
     "exception": false,
     "start_time": "2025-05-05T18:53:15.174394",
     "status": "completed"
    },
    "tags": []
   },
   "source": [
    "## SMOTE ENN"
   ]
  },
  {
   "cell_type": "code",
   "execution_count": 19,
   "id": "b25b4889",
   "metadata": {
    "execution": {
     "iopub.execute_input": "2025-05-05T18:53:15.216570Z",
     "iopub.status.busy": "2025-05-05T18:53:15.216257Z",
     "iopub.status.idle": "2025-05-05T19:31:52.183820Z",
     "shell.execute_reply": "2025-05-05T19:31:52.182396Z"
    },
    "papermill": {
     "duration": 2316.986742,
     "end_time": "2025-05-05T19:31:52.188335",
     "exception": false,
     "start_time": "2025-05-05T18:53:15.201593",
     "status": "completed"
    },
    "tags": []
   },
   "outputs": [],
   "source": [
    "smenn = SMOTEENN()\n",
    "\n",
    "X_smenn, y_smenn = smenn.fit_resample(X_train, y_train)\n",
    "X_smenn.shape, y_sm.shape\n",
    "\n",
    "scaler = StandardScaler()\n",
    "X_train_scaled = scaler.fit_transform(X_smenn)\n",
    "X_test_scaled = scaler.transform(X_test)\n",
    "\n",
    "X_train_scaled = pd.DataFrame(X_train_scaled, columns=X_train.columns)\n",
    "X_test_scaled = pd.DataFrame(X_test_scaled, columns=X_test.columns)"
   ]
  },
  {
   "cell_type": "code",
   "execution_count": 20,
   "id": "ab4ea3ad",
   "metadata": {
    "execution": {
     "iopub.execute_input": "2025-05-05T19:31:52.220072Z",
     "iopub.status.busy": "2025-05-05T19:31:52.219676Z",
     "iopub.status.idle": "2025-05-05T19:31:52.226154Z",
     "shell.execute_reply": "2025-05-05T19:31:52.224787Z"
    },
    "papermill": {
     "duration": 0.021663,
     "end_time": "2025-05-05T19:31:52.227901",
     "exception": false,
     "start_time": "2025-05-05T19:31:52.206238",
     "status": "completed"
    },
    "tags": []
   },
   "outputs": [],
   "source": [
    "models_info = [\n",
    "    (\"Tháng 4 + 10 smote\", X_train_scaled, y_smenn, X_test_scaled, y_test),\n",
    "]"
   ]
  },
  {
   "cell_type": "code",
   "execution_count": 21,
   "id": "9d5328d2",
   "metadata": {
    "execution": {
     "iopub.execute_input": "2025-05-05T19:31:52.253231Z",
     "iopub.status.busy": "2025-05-05T19:31:52.252269Z",
     "iopub.status.idle": "2025-05-05T19:41:40.904380Z",
     "shell.execute_reply": "2025-05-05T19:41:40.903107Z"
    },
    "papermill": {
     "duration": 588.667374,
     "end_time": "2025-05-05T19:41:40.906928",
     "exception": false,
     "start_time": "2025-05-05T19:31:52.239554",
     "status": "completed"
    },
    "tags": []
   },
   "outputs": [
    {
     "name": "stdout",
     "output_type": "stream",
     "text": [
      "\n",
      "=== Dataset: Tháng 4 + 10 smote (All Features) ===\n"
     ]
    },
    {
     "name": "stderr",
     "output_type": "stream",
     "text": [
      "/tmp/ipykernel_13/3941530362.py:16: RuntimeWarning: divide by zero encountered in scalar divide\n",
      "  alpha = -d.dot(g) / (delta + lambd*mu)\n",
      "/tmp/ipykernel_13/3941530362.py:17: RuntimeWarning: invalid value encountered in multiply\n",
      "  x_new = x + alpha*d\n",
      "/tmp/ipykernel_13/2642452818.py:9: RuntimeWarning: invalid value encountered in log\n",
      "  loss = -np.mean(np.sum(Y_oh * np.log(A2 + 1e-12), axis=1))\n"
     ]
    },
    {
     "name": "stdout",
     "output_type": "stream",
     "text": [
      " hidden_dim=10  → val loss = 14.101383\n"
     ]
    },
    {
     "name": "stderr",
     "output_type": "stream",
     "text": [
      "/tmp/ipykernel_13/3941530362.py:16: RuntimeWarning: divide by zero encountered in scalar divide\n",
      "  alpha = -d.dot(g) / (delta + lambd*mu)\n",
      "/usr/local/lib/python3.11/dist-packages/pandas/core/internals/blocks.py:393: RuntimeWarning: invalid value encountered in tanh\n",
      "  result = func(self.values, **kwargs)\n",
      "/tmp/ipykernel_13/2642452818.py:9: RuntimeWarning: invalid value encountered in log\n",
      "  loss = -np.mean(np.sum(Y_oh * np.log(A2 + 1e-12), axis=1))\n",
      "/tmp/ipykernel_13/2642452818.py:9: RuntimeWarning: invalid value encountered in log\n",
      "  loss = -np.mean(np.sum(Y_oh * np.log(A2 + 1e-12), axis=1))\n",
      "/tmp/ipykernel_13/2642452818.py:9: RuntimeWarning: invalid value encountered in log\n",
      "  loss = -np.mean(np.sum(Y_oh * np.log(A2 + 1e-12), axis=1))\n",
      "/tmp/ipykernel_13/2642452818.py:9: RuntimeWarning: invalid value encountered in log\n",
      "  loss = -np.mean(np.sum(Y_oh * np.log(A2 + 1e-12), axis=1))\n",
      "/tmp/ipykernel_13/2642452818.py:9: RuntimeWarning: invalid value encountered in log\n",
      "  loss = -np.mean(np.sum(Y_oh * np.log(A2 + 1e-12), axis=1))\n",
      "/tmp/ipykernel_13/2642452818.py:9: RuntimeWarning: invalid value encountered in log\n",
      "  loss = -np.mean(np.sum(Y_oh * np.log(A2 + 1e-12), axis=1))\n"
     ]
    },
    {
     "name": "stdout",
     "output_type": "stream",
     "text": [
      " hidden_dim=20  → val loss = 6.551915\n",
      " hidden_dim=50  → val loss = 0.693408\n"
     ]
    },
    {
     "name": "stderr",
     "output_type": "stream",
     "text": [
      "/tmp/ipykernel_13/3941530362.py:16: RuntimeWarning: divide by zero encountered in scalar divide\n",
      "  alpha = -d.dot(g) / (delta + lambd*mu)\n",
      "/usr/local/lib/python3.11/dist-packages/pandas/core/internals/blocks.py:393: RuntimeWarning: invalid value encountered in tanh\n",
      "  result = func(self.values, **kwargs)\n",
      "/tmp/ipykernel_13/2642452818.py:9: RuntimeWarning: invalid value encountered in log\n",
      "  loss = -np.mean(np.sum(Y_oh * np.log(A2 + 1e-12), axis=1))\n",
      "/tmp/ipykernel_13/2642452818.py:9: RuntimeWarning: invalid value encountered in log\n",
      "  loss = -np.mean(np.sum(Y_oh * np.log(A2 + 1e-12), axis=1))\n",
      "/tmp/ipykernel_13/2642452818.py:9: RuntimeWarning: invalid value encountered in log\n",
      "  loss = -np.mean(np.sum(Y_oh * np.log(A2 + 1e-12), axis=1))\n",
      "/tmp/ipykernel_13/2642452818.py:9: RuntimeWarning: invalid value encountered in log\n",
      "  loss = -np.mean(np.sum(Y_oh * np.log(A2 + 1e-12), axis=1))\n",
      "/tmp/ipykernel_13/2642452818.py:9: RuntimeWarning: invalid value encountered in log\n",
      "  loss = -np.mean(np.sum(Y_oh * np.log(A2 + 1e-12), axis=1))\n",
      "/tmp/ipykernel_13/2642452818.py:9: RuntimeWarning: invalid value encountered in log\n",
      "  loss = -np.mean(np.sum(Y_oh * np.log(A2 + 1e-12), axis=1))\n",
      "/tmp/ipykernel_13/2642452818.py:9: RuntimeWarning: invalid value encountered in log\n",
      "  loss = -np.mean(np.sum(Y_oh * np.log(A2 + 1e-12), axis=1))\n"
     ]
    },
    {
     "name": "stdout",
     "output_type": "stream",
     "text": [
      " hidden_dim=100 → val loss = 6.534290\n",
      " hidden_dim=150 → val loss = 6.528464\n",
      " hidden_dim=17  → val loss = 0.693326\n",
      " hidden_dim=25  → val loss = 0.694604\n"
     ]
    },
    {
     "name": "stderr",
     "output_type": "stream",
     "text": [
      "/tmp/ipykernel_13/3941530362.py:16: RuntimeWarning: divide by zero encountered in scalar divide\n",
      "  alpha = -d.dot(g) / (delta + lambd*mu)\n",
      "/usr/local/lib/python3.11/dist-packages/pandas/core/internals/blocks.py:393: RuntimeWarning: invalid value encountered in tanh\n",
      "  result = func(self.values, **kwargs)\n",
      "/tmp/ipykernel_13/2642452818.py:9: RuntimeWarning: invalid value encountered in log\n",
      "  loss = -np.mean(np.sum(Y_oh * np.log(A2 + 1e-12), axis=1))\n",
      "/tmp/ipykernel_13/2642452818.py:9: RuntimeWarning: invalid value encountered in log\n",
      "  loss = -np.mean(np.sum(Y_oh * np.log(A2 + 1e-12), axis=1))\n",
      "/tmp/ipykernel_13/2642452818.py:9: RuntimeWarning: invalid value encountered in log\n",
      "  loss = -np.mean(np.sum(Y_oh * np.log(A2 + 1e-12), axis=1))\n",
      "/tmp/ipykernel_13/2642452818.py:9: RuntimeWarning: invalid value encountered in log\n",
      "  loss = -np.mean(np.sum(Y_oh * np.log(A2 + 1e-12), axis=1))\n",
      "/tmp/ipykernel_13/2642452818.py:9: RuntimeWarning: invalid value encountered in log\n",
      "  loss = -np.mean(np.sum(Y_oh * np.log(A2 + 1e-12), axis=1))\n",
      "/tmp/ipykernel_13/2642452818.py:9: RuntimeWarning: invalid value encountered in log\n",
      "  loss = -np.mean(np.sum(Y_oh * np.log(A2 + 1e-12), axis=1))\n",
      "/tmp/ipykernel_13/2642452818.py:9: RuntimeWarning: invalid value encountered in log\n",
      "  loss = -np.mean(np.sum(Y_oh * np.log(A2 + 1e-12), axis=1))\n"
     ]
    },
    {
     "name": "stdout",
     "output_type": "stream",
     "text": [
      " hidden_dim=34  → val loss = 21.083831\n",
      " hidden_dim=50  → val loss = 0.693531\n",
      " hidden_dim=68  → val loss = 0.692955\n",
      " hidden_dim=85  → val loss = 0.693487\n",
      "⇒ Best hidden_dim = 68, validation loss = 0.692955\n",
      "Test classification report:\n",
      "              precision    recall  f1-score   support\n",
      "\n",
      "           0       0.82      0.34      0.49    164663\n",
      "           1       0.25      0.75      0.38     48990\n",
      "\n",
      "    accuracy                           0.44    213653\n",
      "   macro avg       0.54      0.55      0.43    213653\n",
      "weighted avg       0.69      0.44      0.46    213653\n",
      "\n",
      "Test confusion matrix:\n",
      " [[ 56669 107994]\n",
      " [ 12106  36884]]\n"
     ]
    },
    {
     "data": {
      "image/png": "[encoded data removed]",
      "text/plain": [
       "<Figure size 640x480 with 2 Axes>"
      ]
     },
     "metadata": {},
     "output_type": "display_data"
    },
    {
     "name": "stdout",
     "output_type": "stream",
     "text": [
      "\n",
      "=== Dataset: Tháng 4 + 10 smote (Top Features) ===\n",
      " hidden_dim=10  → val loss = 5.686243\n",
      " hidden_dim=20  → val loss = 0.693716\n",
      " hidden_dim=50  → val loss = 5.688324\n",
      " hidden_dim=100 → val loss = 0.693661\n",
      " hidden_dim=150 → val loss = 5.687075\n"
     ]
    },
    {
     "name": "stderr",
     "output_type": "stream",
     "text": [
      "/tmp/ipykernel_13/3941530362.py:16: RuntimeWarning: divide by zero encountered in scalar divide\n",
      "  alpha = -d.dot(g) / (delta + lambd*mu)\n",
      "/usr/local/lib/python3.11/dist-packages/pandas/core/internals/blocks.py:393: RuntimeWarning: invalid value encountered in tanh\n",
      "  result = func(self.values, **kwargs)\n",
      "/tmp/ipykernel_13/2642452818.py:9: RuntimeWarning: invalid value encountered in log\n",
      "  loss = -np.mean(np.sum(Y_oh * np.log(A2 + 1e-12), axis=1))\n",
      "/tmp/ipykernel_13/2642452818.py:9: RuntimeWarning: invalid value encountered in log\n",
      "  loss = -np.mean(np.sum(Y_oh * np.log(A2 + 1e-12), axis=1))\n",
      "/tmp/ipykernel_13/2642452818.py:9: RuntimeWarning: invalid value encountered in log\n",
      "  loss = -np.mean(np.sum(Y_oh * np.log(A2 + 1e-12), axis=1))\n",
      "/tmp/ipykernel_13/2642452818.py:9: RuntimeWarning: invalid value encountered in log\n",
      "  loss = -np.mean(np.sum(Y_oh * np.log(A2 + 1e-12), axis=1))\n",
      "/tmp/ipykernel_13/2642452818.py:9: RuntimeWarning: invalid value encountered in log\n",
      "  loss = -np.mean(np.sum(Y_oh * np.log(A2 + 1e-12), axis=1))\n",
      "/tmp/ipykernel_13/2642452818.py:9: RuntimeWarning: invalid value encountered in log\n",
      "  loss = -np.mean(np.sum(Y_oh * np.log(A2 + 1e-12), axis=1))\n",
      "/tmp/ipykernel_13/2642452818.py:9: RuntimeWarning: invalid value encountered in log\n",
      "  loss = -np.mean(np.sum(Y_oh * np.log(A2 + 1e-12), axis=1))\n"
     ]
    },
    {
     "name": "stdout",
     "output_type": "stream",
     "text": [
      " hidden_dim=17  → val loss = 5.700582\n",
      " hidden_dim=25  → val loss = 0.693607\n",
      " hidden_dim=34  → val loss = 0.693692\n",
      " hidden_dim=50  → val loss = 0.693976\n",
      " hidden_dim=68  → val loss = 13.632194\n",
      " hidden_dim=85  → val loss = 0.694253\n",
      "⇒ Best hidden_dim = 25, validation loss = 0.693607\n"
     ]
    },
    {
     "name": "stderr",
     "output_type": "stream",
     "text": [
      "/tmp/ipykernel_13/3941530362.py:16: RuntimeWarning: divide by zero encountered in scalar divide\n",
      "  alpha = -d.dot(g) / (delta + lambd*mu)\n",
      "/tmp/ipykernel_13/2642452818.py:5: RuntimeWarning: invalid value encountered in add\n",
      "  Z1 = X.dot(W1.T) + b1\n",
      "/tmp/ipykernel_13/2642452818.py:6: RuntimeWarning: invalid value encountered in tanh\n",
      "  A1 = np.tanh(Z1)\n",
      "/tmp/ipykernel_13/2642452818.py:9: RuntimeWarning: invalid value encountered in log\n",
      "  loss = -np.mean(np.sum(Y_oh * np.log(A2 + 1e-12), axis=1))\n",
      "/tmp/ipykernel_13/2642452818.py:14: RuntimeWarning: invalid value encountered in tanh\n",
      "  dZ1 = dA1 * (1 - np.tanh(Z1)**2)\n"
     ]
    },
    {
     "name": "stdout",
     "output_type": "stream",
     "text": [
      "Test classification report:\n"
     ]
    },
    {
     "name": "stderr",
     "output_type": "stream",
     "text": [
      "/usr/local/lib/python3.11/dist-packages/sklearn/metrics/_classification.py:1344: UndefinedMetricWarning: Precision and F-score are ill-defined and being set to 0.0 in labels with no predicted samples. Use `zero_division` parameter to control this behavior.\n",
      "  _warn_prf(average, modifier, msg_start, len(result))\n",
      "/usr/local/lib/python3.11/dist-packages/sklearn/metrics/_classification.py:1344: UndefinedMetricWarning: Precision and F-score are ill-defined and being set to 0.0 in labels with no predicted samples. Use `zero_division` parameter to control this behavior.\n",
      "  _warn_prf(average, modifier, msg_start, len(result))\n",
      "/usr/local/lib/python3.11/dist-packages/sklearn/metrics/_classification.py:1344: UndefinedMetricWarning: Precision and F-score are ill-defined and being set to 0.0 in labels with no predicted samples. Use `zero_division` parameter to control this behavior.\n",
      "  _warn_prf(average, modifier, msg_start, len(result))\n"
     ]
    },
    {
     "name": "stdout",
     "output_type": "stream",
     "text": [
      "              precision    recall  f1-score   support\n",
      "\n",
      "           0       0.00      0.00      0.00    164663\n",
      "           1       0.23      1.00      0.37     48990\n",
      "\n",
      "    accuracy                           0.23    213653\n",
      "   macro avg       0.11      0.50      0.19    213653\n",
      "weighted avg       0.05      0.23      0.09    213653\n",
      "\n",
      "Test confusion matrix:\n",
      " [[     0 164663]\n",
      " [     0  48990]]\n"
     ]
    },
    {
     "data": {
      "image/png": "[encoded data removed]",
      "text/plain": [
       "<Figure size 640x480 with 2 Axes>"
      ]
     },
     "metadata": {},
     "output_type": "display_data"
    }
   ],
   "source": [
    "for name, X_trval, y_trval, X_test, y_test in models_info:\n",
    "    \n",
    "    train_and_evaluate_model(name + \" (All Features)\", X_trval, y_trval, X_test, y_test)\n",
    "\n",
    "    train_and_evaluate_model(name + \" (Top Features)\", X_trval, y_trval, X_test, y_test, top_features=top_features)"
   ]
  },
  {
   "cell_type": "markdown",
   "id": "a12f762e",
   "metadata": {
    "papermill": {
     "duration": 0.015662,
     "end_time": "2025-05-05T19:41:40.946544",
     "exception": false,
     "start_time": "2025-05-05T19:41:40.930882",
     "status": "completed"
    },
    "tags": []
   },
   "source": [
    "# 7. Kết luận"
   ]
  },
  {
   "cell_type": "markdown",
   "id": "2d44ad7e",
   "metadata": {
    "papermill": {
     "duration": 0.015828,
     "end_time": "2025-05-05T19:41:40.978512",
     "exception": false,
     "start_time": "2025-05-05T19:41:40.962684",
     "status": "completed"
    },
    "tags": []
   },
   "source": [
    "Mô hình SVG ban đầu (không SMOTE hay SMOTE ENN) là tốt nhất."
   ]
  }
 ],
 "metadata": {
  "kaggle": {
   "accelerator": "none",
   "dataSources": [
    {
     "datasetId": 6979951,
     "sourceId": 11182321,
     "sourceType": "datasetVersion"
    },
    {
     "datasetId": 6988906,
     "sourceId": 11449400,
     "sourceType": "datasetVersion"
    },
    {
     "datasetId": 7334326,
     "sourceId": 11685547,
     "sourceType": "datasetVersion"
    }
   ],
   "dockerImageVersionId": 31012,
   "isGpuEnabled": false,
   "isInternetEnabled": true,
   "language": "python",
   "sourceType": "notebook"
  },
  "kernelspec": {
   "display_name": "Python 3",
   "language": "python",
   "name": "python3"
  },
  "language_info": {
   "codemirror_mode": {
    "name": "ipython",
    "version": 3
   },
   "file_extension": ".py",
   "mimetype": "text/x-python",
   "name": "python",
   "nbconvert_exporter": "python",
   "pygments_lexer": "ipython3",
   "version": "3.11.11"
  },
  "papermill": {
   "default_parameters": {},
   "duration": 4112.203049,
   "end_time": "2025-05-05T19:41:44.090572",
   "environment_variables": {},
   "exception": null,
   "input_path": "__notebook__.ipynb",
   "output_path": "__notebook__.ipynb",
   "parameters": {},
   "start_time": "2025-05-05T18:33:11.887523",
   "version": "2.6.0"
  }
 },
 "nbformat": 4,
 "nbformat_minor": 5
}
