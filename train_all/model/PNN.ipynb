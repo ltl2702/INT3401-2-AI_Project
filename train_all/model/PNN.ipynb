{
 "cells": [
  {
   "cell_type": "markdown",
   "id": "c1b9026b",
   "metadata": {
    "papermill": {
     "duration": 0.005156,
     "end_time": "2025-05-06T06:02:02.617071",
     "exception": false,
     "start_time": "2025-05-06T06:02:02.611915",
     "status": "completed"
    },
    "tags": []
   },
   "source": [
    "# 1. Cài đặt các thư viện cần thiết"
   ]
  },
  {
   "cell_type": "code",
   "execution_count": 1,
   "id": "753e238c",
   "metadata": {
    "_cell_guid": "b1076dfc-b9ad-4769-8c92-a6c4dae69d19",
    "_uuid": "8f2839f25d086af736a60e9eeb907d3b93b6e0e5",
    "execution": {
     "iopub.execute_input": "2025-05-06T06:02:02.626793Z",
     "iopub.status.busy": "2025-05-06T06:02:02.626477Z",
     "iopub.status.idle": "2025-05-06T06:02:18.617845Z",
     "shell.execute_reply": "2025-05-06T06:02:18.616680Z"
    },
    "papermill": {
     "duration": 15.9983,
     "end_time": "2025-05-06T06:02:18.619691",
     "exception": false,
     "start_time": "2025-05-06T06:02:02.621391",
     "status": "completed"
    },
    "tags": []
   },
   "outputs": [
    {
     "name": "stdout",
     "output_type": "stream",
     "text": [
      "Requirement already satisfied: scikit-learn==1.2.2 in /usr/local/lib/python3.11/dist-packages (1.2.2)\r\n",
      "Collecting imbalanced-learn==0.10.1\r\n",
      "  Downloading imbalanced_learn-0.10.1-py3-none-any.whl.metadata (8.2 kB)\r\n",
      "Requirement already satisfied: numpy>=1.17.3 in /usr/local/lib/python3.11/dist-packages (from scikit-learn==1.2.2) (1.26.4)\r\n",
      "Requirement already satisfied: scipy>=1.3.2 in /usr/local/lib/python3.11/dist-packages (from scikit-learn==1.2.2) (1.15.2)\r\n",
      "Requirement already satisfied: joblib>=1.1.1 in /usr/local/lib/python3.11/dist-packages (from scikit-learn==1.2.2) (1.4.2)\r\n",
      "Requirement already satisfied: threadpoolctl>=2.0.0 in /usr/local/lib/python3.11/dist-packages (from scikit-learn==1.2.2) (3.6.0)\r\n",
      "Requirement already satisfied: mkl_fft in /usr/local/lib/python3.11/dist-packages (from numpy>=1.17.3->scikit-learn==1.2.2) (1.3.8)\r\n",
      "Requirement already satisfied: mkl_random in /usr/local/lib/python3.11/dist-packages (from numpy>=1.17.3->scikit-learn==1.2.2) (1.2.4)\r\n",
      "Requirement already satisfied: mkl_umath in /usr/local/lib/python3.11/dist-packages (from numpy>=1.17.3->scikit-learn==1.2.2) (0.1.1)\r\n",
      "Requirement already satisfied: mkl in /usr/local/lib/python3.11/dist-packages (from numpy>=1.17.3->scikit-learn==1.2.2) (2025.1.0)\r\n",
      "Requirement already satisfied: tbb4py in /usr/local/lib/python3.11/dist-packages (from numpy>=1.17.3->scikit-learn==1.2.2) (2022.1.0)\r\n",
      "Requirement already satisfied: mkl-service in /usr/local/lib/python3.11/dist-packages (from numpy>=1.17.3->scikit-learn==1.2.2) (2.4.1)\r\n",
      "Requirement already satisfied: intel-openmp<2026,>=2024 in /usr/local/lib/python3.11/dist-packages (from mkl->numpy>=1.17.3->scikit-learn==1.2.2) (2024.2.0)\r\n",
      "Requirement already satisfied: tbb==2022.* in /usr/local/lib/python3.11/dist-packages (from mkl->numpy>=1.17.3->scikit-learn==1.2.2) (2022.1.0)\r\n",
      "Requirement already satisfied: tcmlib==1.* in /usr/local/lib/python3.11/dist-packages (from tbb==2022.*->mkl->numpy>=1.17.3->scikit-learn==1.2.2) (1.2.0)\r\n",
      "Requirement already satisfied: intel-cmplr-lib-rt in /usr/local/lib/python3.11/dist-packages (from mkl_umath->numpy>=1.17.3->scikit-learn==1.2.2) (2024.2.0)\r\n",
      "Requirement already satisfied: intel-cmplr-lib-ur==2024.2.0 in /usr/local/lib/python3.11/dist-packages (from intel-openmp<2026,>=2024->mkl->numpy>=1.17.3->scikit-learn==1.2.2) (2024.2.0)\r\n",
      "Downloading imbalanced_learn-0.10.1-py3-none-any.whl (226 kB)\r\n",
      "\u001b[2K   \u001b[90m━━━━━━━━━━━━━━━━━━━━━━━━━━━━━━━━━━━━━━━━\u001b[0m \u001b[32m226.0/226.0 kB\u001b[0m \u001b[31m5.0 MB/s\u001b[0m eta \u001b[36m0:00:00\u001b[0m\r\n",
      "\u001b[?25hInstalling collected packages: imbalanced-learn\r\n",
      "  Attempting uninstall: imbalanced-learn\r\n",
      "    Found existing installation: imbalanced-learn 0.13.0\r\n",
      "    Uninstalling imbalanced-learn-0.13.0:\r\n",
      "      Successfully uninstalled imbalanced-learn-0.13.0\r\n",
      "Successfully installed imbalanced-learn-0.10.1\r\n"
     ]
    }
   ],
   "source": [
    "import pandas as pd\n",
    "import numpy as np\n",
    "from sklearn.model_selection import train_test_split\n",
    "from sklearn.base import BaseEstimator, TransformerMixin\n",
    "from sklearn.pipeline import Pipeline\n",
    "from sklearn.preprocessing import MinMaxScaler\n",
    "from sklearn.preprocessing import StandardScaler\n",
    "import matplotlib.pyplot as plt\n",
    "import matplotlib.gridspec as gridspec\n",
    "import seaborn as sns\n",
    "from tqdm import tqdm\n",
    "from sklearn.metrics import classification_report, confusion_matrix, ConfusionMatrixDisplay\n",
    "import matplotlib.pyplot as plt\n",
    "import torch.nn as nn\n",
    "from sklearn.decomposition import PCA\n",
    "from sklearn.metrics import classification_report\n",
    "from sklearn.linear_model import LogisticRegression\n",
    "from sklearn.preprocessing import OneHotEncoder\n",
    "from sklearn.metrics.pairwise import pairwise_distances\n",
    "from sklearn.base import BaseEstimator, ClassifierMixin\n",
    "from sklearn.metrics import f1_score, classification_report, confusion_matrix, roc_curve, auc\n",
    "\n",
    "!pip install scikit-learn==1.2.2 imbalanced-learn==0.10.1\n",
    "\n",
    "from imblearn.over_sampling import SMOTE\n",
    "from imblearn.combine import SMOTEENN\n",
    "\n",
    "import warnings\n",
    "warnings.simplefilter('ignore', FutureWarning)"
   ]
  },
  {
   "cell_type": "code",
   "execution_count": 2,
   "id": "7cb1159d",
   "metadata": {
    "execution": {
     "iopub.execute_input": "2025-05-06T06:02:18.631147Z",
     "iopub.status.busy": "2025-05-06T06:02:18.630376Z",
     "iopub.status.idle": "2025-05-06T06:02:25.768379Z",
     "shell.execute_reply": "2025-05-06T06:02:25.767617Z"
    },
    "papermill": {
     "duration": 7.145261,
     "end_time": "2025-05-06T06:02:25.769904",
     "exception": false,
     "start_time": "2025-05-06T06:02:18.624643",
     "status": "completed"
    },
    "tags": []
   },
   "outputs": [],
   "source": [
    "train_df = pd.read_csv('/kaggle/input/data-all/train_all/train_all.csv')\n",
    "test_df = pd.read_csv('/kaggle/input/data-all/train_all/test_all.csv')"
   ]
  },
  {
   "cell_type": "code",
   "execution_count": 3,
   "id": "8860845f",
   "metadata": {
    "execution": {
     "iopub.execute_input": "2025-05-06T06:02:25.780899Z",
     "iopub.status.busy": "2025-05-06T06:02:25.780216Z",
     "iopub.status.idle": "2025-05-06T06:02:25.854116Z",
     "shell.execute_reply": "2025-05-06T06:02:25.853226Z"
    },
    "papermill": {
     "duration": 0.080929,
     "end_time": "2025-05-06T06:02:25.855689",
     "exception": false,
     "start_time": "2025-05-06T06:02:25.774760",
     "status": "completed"
    },
    "tags": []
   },
   "outputs": [],
   "source": [
    "X_train = train_df.drop(columns=['AWS', 'datetime', 'row','col'])\n",
    "y_train = train_df['AWS']\n",
    "\n",
    "X_test = test_df.drop(columns=['AWS', 'datetime', 'row','col'])\n",
    "y_test = test_df['AWS']"
   ]
  },
  {
   "cell_type": "markdown",
   "id": "0db10f1e",
   "metadata": {
    "papermill": {
     "duration": 0.004587,
     "end_time": "2025-05-06T06:02:25.865270",
     "exception": false,
     "start_time": "2025-05-06T06:02:25.860683",
     "status": "completed"
    },
    "tags": []
   },
   "source": [
    "# Chuẩn hóa"
   ]
  },
  {
   "cell_type": "code",
   "execution_count": 4,
   "id": "28bc6ba0",
   "metadata": {
    "execution": {
     "iopub.execute_input": "2025-05-06T06:02:25.875757Z",
     "iopub.status.busy": "2025-05-06T06:02:25.875449Z",
     "iopub.status.idle": "2025-05-06T06:02:26.183535Z",
     "shell.execute_reply": "2025-05-06T06:02:26.182741Z"
    },
    "papermill": {
     "duration": 0.31522,
     "end_time": "2025-05-06T06:02:26.185238",
     "exception": false,
     "start_time": "2025-05-06T06:02:25.870018",
     "status": "completed"
    },
    "tags": []
   },
   "outputs": [],
   "source": [
    "scaler = StandardScaler()\n",
    "X_train_scaled = scaler.fit_transform(X_train)\n",
    "X_test_scaled = scaler.transform(X_test)\n",
    "\n",
    "X_train_scaled = pd.DataFrame(X_train_scaled, columns=X_train.columns)\n",
    "X_test_scaled = pd.DataFrame(X_test_scaled, columns=X_test.columns)"
   ]
  },
  {
   "cell_type": "markdown",
   "id": "c7cde0fb",
   "metadata": {
    "papermill": {
     "duration": 0.004491,
     "end_time": "2025-05-06T06:02:26.194679",
     "exception": false,
     "start_time": "2025-05-06T06:02:26.190188",
     "status": "completed"
    },
    "tags": []
   },
   "source": [
    "# Chọn feature"
   ]
  },
  {
   "cell_type": "code",
   "execution_count": 5,
   "id": "cee07639",
   "metadata": {
    "execution": {
     "iopub.execute_input": "2025-05-06T06:02:26.205561Z",
     "iopub.status.busy": "2025-05-06T06:02:26.205250Z",
     "iopub.status.idle": "2025-05-06T06:02:26.209812Z",
     "shell.execute_reply": "2025-05-06T06:02:26.208958Z"
    },
    "papermill": {
     "duration": 0.011791,
     "end_time": "2025-05-06T06:02:26.211346",
     "exception": false,
     "start_time": "2025-05-06T06:02:26.199555",
     "status": "completed"
    },
    "tags": []
   },
   "outputs": [],
   "source": [
    "top_features = ['B14B', 'I2B', 'TCLW', 'R500', 'R850', 'CAPE', 'U850', 'B10B', 'PEV', 'SLOR', 'R250', 'KX', 'V250', 'U250', 'TCWV']"
   ]
  },
  {
   "cell_type": "code",
   "execution_count": 6,
   "id": "25222092",
   "metadata": {
    "execution": {
     "iopub.execute_input": "2025-05-06T06:02:26.222006Z",
     "iopub.status.busy": "2025-05-06T06:02:26.221660Z",
     "iopub.status.idle": "2025-05-06T06:02:26.226631Z",
     "shell.execute_reply": "2025-05-06T06:02:26.225783Z"
    },
    "papermill": {
     "duration": 0.01209,
     "end_time": "2025-05-06T06:02:26.228224",
     "exception": false,
     "start_time": "2025-05-06T06:02:26.216134",
     "status": "completed"
    },
    "tags": []
   },
   "outputs": [],
   "source": [
    "def print_scores(y_true, y_pred):\n",
    "    cm = confusion_matrix(y_true, y_pred)\n",
    "    sns.heatmap(cm, annot=True, fmt=\"d\", cmap=\"Blues\")\n",
    "    plt.xlabel(\"Predicted\")\n",
    "    plt.ylabel(\"True\")\n",
    "    plt.title(\"Confusion Matrix\")\n",
    "    plt.show()\n",
    "    print(classification_report(y_true, y_pred))"
   ]
  },
  {
   "cell_type": "code",
   "execution_count": 7,
   "id": "eb664419",
   "metadata": {
    "execution": {
     "iopub.execute_input": "2025-05-06T06:02:26.238571Z",
     "iopub.status.busy": "2025-05-06T06:02:26.238315Z",
     "iopub.status.idle": "2025-05-06T06:02:26.242822Z",
     "shell.execute_reply": "2025-05-06T06:02:26.241971Z"
    },
    "papermill": {
     "duration": 0.01126,
     "end_time": "2025-05-06T06:02:26.244250",
     "exception": false,
     "start_time": "2025-05-06T06:02:26.232990",
     "status": "completed"
    },
    "tags": []
   },
   "outputs": [],
   "source": [
    "sigmas = np.logspace(-2, 1, 50)\n",
    "param_grid = {'sigma': sigmas.tolist()}  # Grid search for sigma values"
   ]
  },
  {
   "cell_type": "markdown",
   "id": "9a3581da",
   "metadata": {
    "papermill": {
     "duration": 0.00443,
     "end_time": "2025-05-06T06:02:26.253339",
     "exception": false,
     "start_time": "2025-05-06T06:02:26.248909",
     "status": "completed"
    },
    "tags": []
   },
   "source": [
    "# Hàm bổ trợ"
   ]
  },
  {
   "cell_type": "code",
   "execution_count": 8,
   "id": "371acefb",
   "metadata": {
    "execution": {
     "iopub.execute_input": "2025-05-06T06:02:26.264472Z",
     "iopub.status.busy": "2025-05-06T06:02:26.263632Z",
     "iopub.status.idle": "2025-05-06T06:02:26.274445Z",
     "shell.execute_reply": "2025-05-06T06:02:26.273689Z"
    },
    "papermill": {
     "duration": 0.017698,
     "end_time": "2025-05-06T06:02:26.275701",
     "exception": false,
     "start_time": "2025-05-06T06:02:26.258003",
     "status": "completed"
    },
    "tags": []
   },
   "outputs": [],
   "source": [
    "class RBFLayer:\n",
    "    def __init__(self, centers, sigma=1.0):\n",
    "        self.centers = centers\n",
    "        self.sigma = sigma\n",
    "\n",
    "    def compute(self, X):\n",
    "        diff = X[:, np.newaxis, :] - self.centers\n",
    "        dist_sq = np.sum(diff**2, axis=2)\n",
    "        return np.exp(-dist_sq / (2 * self.sigma**2))\n",
    "\n",
    "def softmax(z):\n",
    "    # z: (n_samples, n_classes)\n",
    "    z_max = np.max(z, axis=1, keepdims=True)\n",
    "    e_z = np.exp(z - z_max)\n",
    "    return e_z / e_z.sum(axis=1, keepdims=True)\n",
    "\n",
    "#Define PNN Model\n",
    "class PNN:\n",
    "    def __init__(self, sigma=1.0, batch_size=1000):\n",
    "        self.sigma = sigma\n",
    "        self.centers = None\n",
    "        self.batch_size = batch_size\n",
    "\n",
    "    def fit(self, X_train, y_train):\n",
    "        if isinstance(X_train, pd.DataFrame):\n",
    "            X_train = X_train.values\n",
    "        else:\n",
    "            X_train = X_train\n",
    "        if isinstance(y_train, pd.Series):\n",
    "            y_train = y_train.values\n",
    "        else:\n",
    "            y_train = y_train\n",
    "\n",
    "        classes = np.unique(y_train)\n",
    "        centers = []\n",
    "        for c in classes:\n",
    "            centers.append(X_train[y_train == c].mean(axis=0))\n",
    "        self.centers = np.vstack(centers)\n",
    "        self.rbf = RBFLayer(self.centers, sigma=self.sigma)\n",
    "\n",
    "    def predict_proba(self, X):\n",
    "        if isinstance(X, pd.DataFrame):\n",
    "            X = X.values\n",
    "        else:\n",
    "            X = X\n",
    "            \n",
    "        n = X.shape[0]\n",
    "        if self.batch_size is None:\n",
    "            raw = self.rbf.compute(X)\n",
    "            return softmax(raw)\n",
    "        # batch processing\n",
    "        probs = []\n",
    "        for start in range(0, n, self.batch_size):\n",
    "            end = min(start + self.batch_size, n)\n",
    "            raw = self.rbf.compute(X[start:end])\n",
    "            probs.append(softmax(raw))\n",
    "        return np.vstack(probs)\n",
    "\n",
    "    def predict(self, X):\n",
    "        # trả về nhãn 0 hoặc 1\n",
    "        probs = self.predict_proba(X)\n",
    "        return np.argmax(probs, axis=1)"
   ]
  },
  {
   "cell_type": "code",
   "execution_count": 9,
   "id": "d6294078",
   "metadata": {
    "execution": {
     "iopub.execute_input": "2025-05-06T06:02:26.285862Z",
     "iopub.status.busy": "2025-05-06T06:02:26.285553Z",
     "iopub.status.idle": "2025-05-06T06:02:26.293719Z",
     "shell.execute_reply": "2025-05-06T06:02:26.293019Z"
    },
    "papermill": {
     "duration": 0.014672,
     "end_time": "2025-05-06T06:02:26.295058",
     "exception": false,
     "start_time": "2025-05-06T06:02:26.280386",
     "status": "completed"
    },
    "tags": []
   },
   "outputs": [],
   "source": [
    "def train_and_evaluate_model(name, X_trval, y_trval, X_test, y_test, top_features=None, param_grid=None):\n",
    "    print(f\"\\n=== Dataset: {name} ===\")\n",
    "\n",
    "    if top_features is not None:\n",
    "        X_trval = X_trval[top_features]\n",
    "        X_test = X_test[top_features]\n",
    "\n",
    "    # Tách train/val\n",
    "    X_train, X_val, y_train, y_val = train_test_split(\n",
    "        X_trval, y_trval, test_size=0.2, random_state=42\n",
    "    )\n",
    "\n",
    "    best_sigma = 0.0\n",
    "    best_score = 0.0\n",
    "\n",
    "    print(\"Tuning sigma...\")\n",
    "    for sigma in param_grid['sigma']:\n",
    "        pnn = PNN(sigma=sigma, batch_size=2048)\n",
    "        pnn.fit(X_train, y_train)\n",
    "        y_val_pred = pnn.predict(X_val)\n",
    "        f1 = classification_report(y_val, y_val_pred, output_dict=True, zero_division=0)['macro avg']['f1-score']\n",
    "        print(f\" sigma={sigma:.3f} → val macro F1 = {f1:.4f}\")\n",
    "\n",
    "        if f1 > best_score:\n",
    "            best_score = f1\n",
    "            best_sigma = sigma\n",
    "\n",
    "    print(f\"⇒ Best sigma = {best_sigma}, validation macro F1 = {best_score:.4f}\")\n",
    "\n",
    "    # Huấn luyện lại với toàn bộ train+val\n",
    "    X_full = np.vstack([X_train, X_val])\n",
    "    y_full = np.hstack([y_train, y_val])\n",
    "\n",
    "    pnn_final = PNN(sigma=best_sigma, batch_size=1000)\n",
    "    pnn_final.fit(X_full, y_full)\n",
    "    y_pred_test = pnn_final.predict(X_test)\n",
    "\n",
    "    print(\"Test classification report:\")\n",
    "    print(classification_report(y_test, y_pred_test))\n",
    "    cm = confusion_matrix(y_test, y_pred_test)\n",
    "    print(\"Test confusion matrix:\\n\", cm)\n",
    "\n",
    "    sns.heatmap(cm, annot=True, fmt=\"d\", cmap=\"Blues\", xticklabels=[\"No Rain\", \"Rain\"], yticklabels=[\"No Rain\", \"Rain\"])\n",
    "    plt.title(f\"{name} – sigma={best_sigma}\")\n",
    "    plt.show()"
   ]
  },
  {
   "cell_type": "code",
   "execution_count": 10,
   "id": "b6ddebb8",
   "metadata": {
    "execution": {
     "iopub.execute_input": "2025-05-06T06:02:26.306407Z",
     "iopub.status.busy": "2025-05-06T06:02:26.305502Z",
     "iopub.status.idle": "2025-05-06T06:02:26.310120Z",
     "shell.execute_reply": "2025-05-06T06:02:26.309490Z"
    },
    "papermill": {
     "duration": 0.011553,
     "end_time": "2025-05-06T06:02:26.311378",
     "exception": false,
     "start_time": "2025-05-06T06:02:26.299825",
     "status": "completed"
    },
    "tags": []
   },
   "outputs": [],
   "source": [
    "models_info = [\n",
    "    (\"Tháng 4 + 10\", X_train_scaled, y_train, X_test_scaled, y_test),\n",
    "]"
   ]
  },
  {
   "cell_type": "code",
   "execution_count": 11,
   "id": "a135f07a",
   "metadata": {
    "execution": {
     "iopub.execute_input": "2025-05-06T06:02:26.321855Z",
     "iopub.status.busy": "2025-05-06T06:02:26.321551Z",
     "iopub.status.idle": "2025-05-06T06:02:47.023958Z",
     "shell.execute_reply": "2025-05-06T06:02:47.023071Z"
    },
    "papermill": {
     "duration": 20.709288,
     "end_time": "2025-05-06T06:02:47.025432",
     "exception": false,
     "start_time": "2025-05-06T06:02:26.316144",
     "status": "completed"
    },
    "tags": []
   },
   "outputs": [
    {
     "name": "stdout",
     "output_type": "stream",
     "text": [
      "\n",
      "=== Dataset: Tháng 4 + 10 (All Features) ===\n",
      "Tuning sigma...\n",
      " sigma=0.010 → val macro F1 = 0.4784\n",
      " sigma=0.012 → val macro F1 = 0.4784\n",
      " sigma=0.013 → val macro F1 = 0.4784\n",
      " sigma=0.015 → val macro F1 = 0.4784\n",
      " sigma=0.018 → val macro F1 = 0.4784\n",
      " sigma=0.020 → val macro F1 = 0.4784\n",
      " sigma=0.023 → val macro F1 = 0.4784\n",
      " sigma=0.027 → val macro F1 = 0.4784\n",
      " sigma=0.031 → val macro F1 = 0.4784\n",
      " sigma=0.036 → val macro F1 = 0.4784\n",
      " sigma=0.041 → val macro F1 = 0.4784\n",
      " sigma=0.047 → val macro F1 = 0.4784\n",
      " sigma=0.054 → val macro F1 = 0.4784\n",
      " sigma=0.063 → val macro F1 = 0.4784\n",
      " sigma=0.072 → val macro F1 = 0.4784\n",
      " sigma=0.083 → val macro F1 = 0.4784\n",
      " sigma=0.095 → val macro F1 = 0.4784\n",
      " sigma=0.110 → val macro F1 = 0.4784\n",
      " sigma=0.126 → val macro F1 = 0.4784\n",
      " sigma=0.146 → val macro F1 = 0.4784\n",
      " sigma=0.168 → val macro F1 = 0.4784\n",
      " sigma=0.193 → val macro F1 = 0.4784\n",
      " sigma=0.222 → val macro F1 = 0.4784\n",
      " sigma=0.256 → val macro F1 = 0.4791\n",
      " sigma=0.295 → val macro F1 = 0.4828\n",
      " sigma=0.339 → val macro F1 = 0.4958\n",
      " sigma=0.391 → val macro F1 = 0.5306\n",
      " sigma=0.450 → val macro F1 = 0.5642\n",
      " sigma=0.518 → val macro F1 = 0.5791\n",
      " sigma=0.596 → val macro F1 = 0.5845\n",
      " sigma=0.687 → val macro F1 = 0.5877\n",
      " sigma=0.791 → val macro F1 = 0.5907\n",
      " sigma=0.910 → val macro F1 = 0.5965\n",
      " sigma=1.048 → val macro F1 = 0.5993\n",
      " sigma=1.207 → val macro F1 = 0.6021\n",
      " sigma=1.389 → val macro F1 = 0.6027\n",
      " sigma=1.600 → val macro F1 = 0.6026\n",
      " sigma=1.842 → val macro F1 = 0.6024\n",
      " sigma=2.121 → val macro F1 = 0.6016\n",
      " sigma=2.442 → val macro F1 = 0.6016\n",
      " sigma=2.812 → val macro F1 = 0.6016\n",
      " sigma=3.237 → val macro F1 = 0.6018\n",
      " sigma=3.728 → val macro F1 = 0.6020\n",
      " sigma=4.292 → val macro F1 = 0.6020\n",
      " sigma=4.942 → val macro F1 = 0.6020\n",
      " sigma=5.690 → val macro F1 = 0.6020\n",
      " sigma=6.551 → val macro F1 = 0.6020\n",
      " sigma=7.543 → val macro F1 = 0.6020\n",
      " sigma=8.685 → val macro F1 = 0.6020\n",
      " sigma=10.000 → val macro F1 = 0.6020\n",
      "⇒ Best sigma = 1.3894954943731375, validation macro F1 = 0.6027\n",
      "Test classification report:\n",
      "              precision    recall  f1-score   support\n",
      "\n",
      "           0       0.96      0.54      0.69    164663\n",
      "           1       0.37      0.92      0.53     48990\n",
      "\n",
      "    accuracy                           0.63    213653\n",
      "   macro avg       0.67      0.73      0.61    213653\n",
      "weighted avg       0.83      0.63      0.65    213653\n",
      "\n",
      "Test confusion matrix:\n",
      " [[88962 75701]\n",
      " [ 3771 45219]]\n"
     ]
    },
    {
     "data": {
      "image/png": "[encoded data removed]",
      "text/plain": [
       "<Figure size 640x480 with 2 Axes>"
      ]
     },
     "metadata": {},
     "output_type": "display_data"
    },
    {
     "name": "stdout",
     "output_type": "stream",
     "text": [
      "\n",
      "=== Dataset: Tháng 4 + 10 (Top Features) ===\n",
      "Tuning sigma...\n",
      " sigma=0.010 → val macro F1 = 0.4784\n",
      " sigma=0.012 → val macro F1 = 0.4784\n",
      " sigma=0.013 → val macro F1 = 0.4784\n",
      " sigma=0.015 → val macro F1 = 0.4784\n",
      " sigma=0.018 → val macro F1 = 0.4784\n",
      " sigma=0.020 → val macro F1 = 0.4784\n",
      " sigma=0.023 → val macro F1 = 0.4784\n",
      " sigma=0.027 → val macro F1 = 0.4784\n",
      " sigma=0.031 → val macro F1 = 0.4784\n",
      " sigma=0.036 → val macro F1 = 0.4784\n",
      " sigma=0.041 → val macro F1 = 0.4784\n",
      " sigma=0.047 → val macro F1 = 0.4784\n",
      " sigma=0.054 → val macro F1 = 0.4784\n",
      " sigma=0.063 → val macro F1 = 0.4784\n",
      " sigma=0.072 → val macro F1 = 0.4784\n",
      " sigma=0.083 → val macro F1 = 0.4784\n",
      " sigma=0.095 → val macro F1 = 0.4784\n",
      " sigma=0.110 → val macro F1 = 0.4784\n",
      " sigma=0.126 → val macro F1 = 0.4784\n",
      " sigma=0.146 → val macro F1 = 0.4784\n",
      " sigma=0.168 → val macro F1 = 0.4784\n",
      " sigma=0.193 → val macro F1 = 0.4786\n",
      " sigma=0.222 → val macro F1 = 0.4815\n",
      " sigma=0.256 → val macro F1 = 0.4927\n",
      " sigma=0.295 → val macro F1 = 0.5212\n",
      " sigma=0.339 → val macro F1 = 0.5672\n",
      " sigma=0.391 → val macro F1 = 0.5887\n",
      " sigma=0.450 → val macro F1 = 0.5923\n",
      " sigma=0.518 → val macro F1 = 0.5948\n",
      " sigma=0.596 → val macro F1 = 0.5995\n",
      " sigma=0.687 → val macro F1 = 0.6038\n",
      " sigma=0.791 → val macro F1 = 0.6068\n",
      " sigma=0.910 → val macro F1 = 0.6082\n",
      " sigma=1.048 → val macro F1 = 0.6091\n",
      " sigma=1.207 → val macro F1 = 0.6082\n",
      " sigma=1.389 → val macro F1 = 0.6082\n",
      " sigma=1.600 → val macro F1 = 0.6082\n",
      " sigma=1.842 → val macro F1 = 0.6084\n",
      " sigma=2.121 → val macro F1 = 0.6084\n",
      " sigma=2.442 → val macro F1 = 0.6084\n",
      " sigma=2.812 → val macro F1 = 0.6084\n",
      " sigma=3.237 → val macro F1 = 0.6084\n",
      " sigma=3.728 → val macro F1 = 0.6084\n",
      " sigma=4.292 → val macro F1 = 0.6084\n",
      " sigma=4.942 → val macro F1 = 0.6084\n",
      " sigma=5.690 → val macro F1 = 0.6084\n",
      " sigma=6.551 → val macro F1 = 0.6084\n",
      " sigma=7.543 → val macro F1 = 0.6084\n",
      " sigma=8.685 → val macro F1 = 0.6084\n",
      " sigma=10.000 → val macro F1 = 0.6084\n",
      "⇒ Best sigma = 1.0481131341546852, validation macro F1 = 0.6091\n",
      "Test classification report:\n",
      "              precision    recall  f1-score   support\n",
      "\n",
      "           0       0.99      0.45      0.62    164663\n",
      "           1       0.35      0.98      0.51     48990\n",
      "\n",
      "    accuracy                           0.57    213653\n",
      "   macro avg       0.67      0.72      0.57    213653\n",
      "weighted avg       0.84      0.57      0.60    213653\n",
      "\n",
      "Test confusion matrix:\n",
      " [[74691 89972]\n",
      " [ 1063 47927]]\n"
     ]
    },
    {
     "data": {
      "image/png": "[encoded data removed]",
      "text/plain": [
       "<Figure size 640x480 with 2 Axes>"
      ]
     },
     "metadata": {},
     "output_type": "display_data"
    }
   ],
   "source": [
    "for name, X_trval, y_trval, X_test, y_test in models_info:\n",
    "    train_and_evaluate_model(f\"{name} (All Features)\", X_trval, y_trval, X_test, y_test, param_grid=param_grid)\n",
    "    train_and_evaluate_model(f\"{name} (Top Features)\", X_trval, y_trval, X_test, y_test, top_features=top_features, param_grid=param_grid)\n"
   ]
  },
  {
   "cell_type": "markdown",
   "id": "71446fdb",
   "metadata": {
    "papermill": {
     "duration": 0.008805,
     "end_time": "2025-05-06T06:02:47.044226",
     "exception": false,
     "start_time": "2025-05-06T06:02:47.035421",
     "status": "completed"
    },
    "tags": []
   },
   "source": [
    "# SMOTE"
   ]
  },
  {
   "cell_type": "code",
   "execution_count": 12,
   "id": "e6ac9767",
   "metadata": {
    "execution": {
     "iopub.execute_input": "2025-05-06T06:02:47.063571Z",
     "iopub.status.busy": "2025-05-06T06:02:47.063245Z",
     "iopub.status.idle": "2025-05-06T06:02:47.120312Z",
     "shell.execute_reply": "2025-05-06T06:02:47.119468Z"
    },
    "papermill": {
     "duration": 0.068661,
     "end_time": "2025-05-06T06:02:47.121841",
     "exception": false,
     "start_time": "2025-05-06T06:02:47.053180",
     "status": "completed"
    },
    "tags": []
   },
   "outputs": [],
   "source": [
    "X_train = train_df.drop(columns=['AWS', 'datetime', 'row','col'])\n",
    "y_train = train_df['AWS']\n",
    "\n",
    "X_test = test_df.drop(columns=['AWS', 'datetime', 'row','col'])\n",
    "y_test = test_df['AWS']"
   ]
  },
  {
   "cell_type": "code",
   "execution_count": 13,
   "id": "a39ae003",
   "metadata": {
    "execution": {
     "iopub.execute_input": "2025-05-06T06:02:47.142238Z",
     "iopub.status.busy": "2025-05-06T06:02:47.141906Z",
     "iopub.status.idle": "2025-05-06T06:02:53.705495Z",
     "shell.execute_reply": "2025-05-06T06:02:53.704673Z"
    },
    "papermill": {
     "duration": 6.575604,
     "end_time": "2025-05-06T06:02:53.707136",
     "exception": false,
     "start_time": "2025-05-06T06:02:47.131532",
     "status": "completed"
    },
    "tags": []
   },
   "outputs": [],
   "source": [
    "sm = SMOTE()\n",
    "\n",
    "X_sm, y_sm = sm.fit_resample(X_train, y_train)\n",
    "X_sm.shape, y_sm.shape\n",
    "\n",
    "scaler = StandardScaler()\n",
    "X_train_scaled = scaler.fit_transform(X_sm)\n",
    "X_test_scaled = scaler.transform(X_test)\n",
    "\n",
    "X_train_scaled = pd.DataFrame(X_train_scaled, columns=X_train.columns)\n",
    "X_test_scaled = pd.DataFrame(X_test_scaled, columns=X_test.columns)"
   ]
  },
  {
   "cell_type": "code",
   "execution_count": 14,
   "id": "e99ac94c",
   "metadata": {
    "execution": {
     "iopub.execute_input": "2025-05-06T06:02:53.729099Z",
     "iopub.status.busy": "2025-05-06T06:02:53.728486Z",
     "iopub.status.idle": "2025-05-06T06:02:53.733220Z",
     "shell.execute_reply": "2025-05-06T06:02:53.732388Z"
    },
    "papermill": {
     "duration": 0.015704,
     "end_time": "2025-05-06T06:02:53.734649",
     "exception": false,
     "start_time": "2025-05-06T06:02:53.718945",
     "status": "completed"
    },
    "tags": []
   },
   "outputs": [],
   "source": [
    "models_info = [\n",
    "    (\"Tháng 4 + 10\", X_train_scaled, y_sm, X_test_scaled, y_test),\n",
    "]"
   ]
  },
  {
   "cell_type": "code",
   "execution_count": 15,
   "id": "140a161b",
   "metadata": {
    "execution": {
     "iopub.execute_input": "2025-05-06T06:02:53.754032Z",
     "iopub.status.busy": "2025-05-06T06:02:53.753692Z",
     "iopub.status.idle": "2025-05-06T06:03:35.147190Z",
     "shell.execute_reply": "2025-05-06T06:03:35.146101Z"
    },
    "papermill": {
     "duration": 41.404958,
     "end_time": "2025-05-06T06:03:35.148858",
     "exception": false,
     "start_time": "2025-05-06T06:02:53.743900",
     "status": "completed"
    },
    "tags": []
   },
   "outputs": [
    {
     "name": "stdout",
     "output_type": "stream",
     "text": [
      "\n",
      "=== Dataset: Demo Dataset (All Features) ===\n",
      "Tuning sigma...\n",
      " sigma=0.010 → val macro F1 = 0.3336\n",
      " sigma=0.012 → val macro F1 = 0.3336\n",
      " sigma=0.013 → val macro F1 = 0.3336\n",
      " sigma=0.015 → val macro F1 = 0.3336\n",
      " sigma=0.018 → val macro F1 = 0.3336\n",
      " sigma=0.020 → val macro F1 = 0.3336\n",
      " sigma=0.023 → val macro F1 = 0.3336\n",
      " sigma=0.027 → val macro F1 = 0.3336\n",
      " sigma=0.031 → val macro F1 = 0.3336\n",
      " sigma=0.036 → val macro F1 = 0.3336\n",
      " sigma=0.041 → val macro F1 = 0.3336\n",
      " sigma=0.047 → val macro F1 = 0.3336\n",
      " sigma=0.054 → val macro F1 = 0.3336\n",
      " sigma=0.063 → val macro F1 = 0.3336\n",
      " sigma=0.072 → val macro F1 = 0.3336\n",
      " sigma=0.083 → val macro F1 = 0.3336\n",
      " sigma=0.095 → val macro F1 = 0.3336\n",
      " sigma=0.110 → val macro F1 = 0.3336\n",
      " sigma=0.126 → val macro F1 = 0.3336\n",
      " sigma=0.146 → val macro F1 = 0.3336\n",
      " sigma=0.168 → val macro F1 = 0.3336\n",
      " sigma=0.193 → val macro F1 = 0.3341\n",
      " sigma=0.222 → val macro F1 = 0.3359\n",
      " sigma=0.256 → val macro F1 = 0.3430\n",
      " sigma=0.295 → val macro F1 = 0.3639\n",
      " sigma=0.339 → val macro F1 = 0.4138\n",
      " sigma=0.391 → val macro F1 = 0.4933\n",
      " sigma=0.450 → val macro F1 = 0.5755\n",
      " sigma=0.518 → val macro F1 = 0.6351\n",
      " sigma=0.596 → val macro F1 = 0.6679\n",
      " sigma=0.687 → val macro F1 = 0.6918\n",
      " sigma=0.791 → val macro F1 = 0.7097\n",
      " sigma=0.910 → val macro F1 = 0.7221\n",
      " sigma=1.048 → val macro F1 = 0.7286\n",
      " sigma=1.207 → val macro F1 = 0.7311\n",
      " sigma=1.389 → val macro F1 = 0.7327\n",
      " sigma=1.600 → val macro F1 = 0.7334\n",
      " sigma=1.842 → val macro F1 = 0.7331\n",
      " sigma=2.121 → val macro F1 = 0.7336\n",
      " sigma=2.442 → val macro F1 = 0.7340\n",
      " sigma=2.812 → val macro F1 = 0.7346\n",
      " sigma=3.237 → val macro F1 = 0.7349\n",
      " sigma=3.728 → val macro F1 = 0.7349\n",
      " sigma=4.292 → val macro F1 = 0.7349\n",
      " sigma=4.942 → val macro F1 = 0.7349\n",
      " sigma=5.690 → val macro F1 = 0.7349\n",
      " sigma=6.551 → val macro F1 = 0.7349\n",
      " sigma=7.543 → val macro F1 = 0.7349\n",
      " sigma=8.685 → val macro F1 = 0.7349\n",
      " sigma=10.000 → val macro F1 = 0.7349\n",
      "⇒ Best sigma = 3.2374575428176433, validation macro F1 = 0.7349\n",
      "Test classification report:\n",
      "              precision    recall  f1-score   support\n",
      "\n",
      "           0       0.98      0.49      0.65    164663\n",
      "           1       0.36      0.97      0.52     48990\n",
      "\n",
      "    accuracy                           0.60    213653\n",
      "   macro avg       0.67      0.73      0.59    213653\n",
      "weighted avg       0.84      0.60      0.62    213653\n",
      "\n",
      "Test confusion matrix:\n",
      " [[79950 84713]\n",
      " [ 1502 47488]]\n"
     ]
    },
    {
     "data": {
      "image/png": "[encoded data removed]",
      "text/plain": [
       "<Figure size 640x480 with 2 Axes>"
      ]
     },
     "metadata": {},
     "output_type": "display_data"
    },
    {
     "name": "stdout",
     "output_type": "stream",
     "text": [
      "\n",
      "=== Dataset: Demo Dataset (Top Features) ===\n",
      "Tuning sigma...\n",
      " sigma=0.010 → val macro F1 = 0.3336\n",
      " sigma=0.012 → val macro F1 = 0.3336\n",
      " sigma=0.013 → val macro F1 = 0.3336\n",
      " sigma=0.015 → val macro F1 = 0.3336\n",
      " sigma=0.018 → val macro F1 = 0.3336\n",
      " sigma=0.020 → val macro F1 = 0.3336\n",
      " sigma=0.023 → val macro F1 = 0.3336\n",
      " sigma=0.027 → val macro F1 = 0.3336\n",
      " sigma=0.031 → val macro F1 = 0.3336\n",
      " sigma=0.036 → val macro F1 = 0.3336\n",
      " sigma=0.041 → val macro F1 = 0.3336\n",
      " sigma=0.047 → val macro F1 = 0.3336\n",
      " sigma=0.054 → val macro F1 = 0.3336\n",
      " sigma=0.063 → val macro F1 = 0.3336\n",
      " sigma=0.072 → val macro F1 = 0.3336\n",
      " sigma=0.083 → val macro F1 = 0.3336\n",
      " sigma=0.095 → val macro F1 = 0.3336\n",
      " sigma=0.110 → val macro F1 = 0.3337\n",
      " sigma=0.126 → val macro F1 = 0.3340\n",
      " sigma=0.146 → val macro F1 = 0.3348\n",
      " sigma=0.168 → val macro F1 = 0.3380\n",
      " sigma=0.193 → val macro F1 = 0.3476\n",
      " sigma=0.222 → val macro F1 = 0.3718\n",
      " sigma=0.256 → val macro F1 = 0.4249\n",
      " sigma=0.295 → val macro F1 = 0.5119\n",
      " sigma=0.339 → val macro F1 = 0.6070\n",
      " sigma=0.391 → val macro F1 = 0.6765\n",
      " sigma=0.450 → val macro F1 = 0.7090\n",
      " sigma=0.518 → val macro F1 = 0.7302\n",
      " sigma=0.596 → val macro F1 = 0.7453\n",
      " sigma=0.687 → val macro F1 = 0.7539\n",
      " sigma=0.791 → val macro F1 = 0.7580\n",
      " sigma=0.910 → val macro F1 = 0.7601\n",
      " sigma=1.048 → val macro F1 = 0.7602\n",
      " sigma=1.207 → val macro F1 = 0.7604\n",
      " sigma=1.389 → val macro F1 = 0.7607\n",
      " sigma=1.600 → val macro F1 = 0.7613\n",
      " sigma=1.842 → val macro F1 = 0.7613\n",
      " sigma=2.121 → val macro F1 = 0.7613\n",
      " sigma=2.442 → val macro F1 = 0.7613\n",
      " sigma=2.812 → val macro F1 = 0.7613\n",
      " sigma=3.237 → val macro F1 = 0.7613\n",
      " sigma=3.728 → val macro F1 = 0.7613\n",
      " sigma=4.292 → val macro F1 = 0.7613\n",
      " sigma=4.942 → val macro F1 = 0.7613\n",
      " sigma=5.690 → val macro F1 = 0.7613\n",
      " sigma=6.551 → val macro F1 = 0.7613\n",
      " sigma=7.543 → val macro F1 = 0.7613\n",
      " sigma=8.685 → val macro F1 = 0.7613\n",
      " sigma=10.000 → val macro F1 = 0.7613\n",
      "⇒ Best sigma = 1.5998587196060574, validation macro F1 = 0.7613\n",
      "Test classification report:\n",
      "              precision    recall  f1-score   support\n",
      "\n",
      "           0       0.99      0.40      0.57    164663\n",
      "           1       0.33      0.98      0.49     48990\n",
      "\n",
      "    accuracy                           0.54    213653\n",
      "   macro avg       0.66      0.69      0.53    213653\n",
      "weighted avg       0.84      0.54      0.56    213653\n",
      "\n",
      "Test confusion matrix:\n",
      " [[66644 98019]\n",
      " [  745 48245]]\n"
     ]
    },
    {
     "data": {
      "image/png": "[encoded data removed]",
      "text/plain": [
       "<Figure size 640x480 with 2 Axes>"
      ]
     },
     "metadata": {},
     "output_type": "display_data"
    }
   ],
   "source": [
    "for name, X_trval, y_trval, X_test, y_test in models_info:\n",
    "    train_and_evaluate_model(\"Demo Dataset (All Features)\", X_trval, y_trval, X_test, y_test, param_grid=param_grid)\n",
    "    train_and_evaluate_model(\"Demo Dataset (Top Features)\", X_trval, y_trval, X_test, y_test, top_features=top_features, param_grid=param_grid)"
   ]
  },
  {
   "cell_type": "markdown",
   "id": "4733584e",
   "metadata": {
    "papermill": {
     "duration": 0.015502,
     "end_time": "2025-05-06T06:03:35.180332",
     "exception": false,
     "start_time": "2025-05-06T06:03:35.164830",
     "status": "completed"
    },
    "tags": []
   },
   "source": [
    "# SMOTE ENN"
   ]
  },
  {
   "cell_type": "code",
   "execution_count": 16,
   "id": "ad727ee9",
   "metadata": {
    "execution": {
     "iopub.execute_input": "2025-05-06T06:03:35.212818Z",
     "iopub.status.busy": "2025-05-06T06:03:35.212513Z",
     "iopub.status.idle": "2025-05-06T06:03:35.273938Z",
     "shell.execute_reply": "2025-05-06T06:03:35.272952Z"
    },
    "papermill": {
     "duration": 0.080163,
     "end_time": "2025-05-06T06:03:35.275677",
     "exception": false,
     "start_time": "2025-05-06T06:03:35.195514",
     "status": "completed"
    },
    "tags": []
   },
   "outputs": [],
   "source": [
    "X_train = train_df.drop(columns=['AWS', 'datetime', 'row','col'])\n",
    "y_train = train_df['AWS']\n",
    "\n",
    "X_test = test_df.drop(columns=['AWS', 'datetime', 'row','col'])\n",
    "y_test = test_df['AWS']"
   ]
  },
  {
   "cell_type": "code",
   "execution_count": 17,
   "id": "84dcc78b",
   "metadata": {
    "execution": {
     "iopub.execute_input": "2025-05-06T06:03:35.306472Z",
     "iopub.status.busy": "2025-05-06T06:03:35.306035Z",
     "iopub.status.idle": "2025-05-06T06:39:24.831268Z",
     "shell.execute_reply": "2025-05-06T06:39:24.830217Z"
    },
    "papermill": {
     "duration": 2149.542753,
     "end_time": "2025-05-06T06:39:24.833303",
     "exception": false,
     "start_time": "2025-05-06T06:03:35.290550",
     "status": "completed"
    },
    "tags": []
   },
   "outputs": [],
   "source": [
    "smenn = SMOTEENN()\n",
    "\n",
    "X_smenn, y_smenn = smenn.fit_resample(X_train, y_train)\n",
    "X_smenn.shape, y_sm.shape\n",
    "\n",
    "scaler = StandardScaler()\n",
    "X_train_scaled = scaler.fit_transform(X_smenn)\n",
    "X_test_scaled = scaler.transform(X_test)\n",
    "\n",
    "X_train_scaled = pd.DataFrame(X_train_scaled, columns=X_train.columns)\n",
    "X_test_scaled = pd.DataFrame(X_test_scaled, columns=X_test.columns)"
   ]
  },
  {
   "cell_type": "code",
   "execution_count": 18,
   "id": "4ecddff1",
   "metadata": {
    "execution": {
     "iopub.execute_input": "2025-05-06T06:39:24.865088Z",
     "iopub.status.busy": "2025-05-06T06:39:24.864492Z",
     "iopub.status.idle": "2025-05-06T06:39:24.871255Z",
     "shell.execute_reply": "2025-05-06T06:39:24.870399Z"
    },
    "papermill": {
     "duration": 0.02342,
     "end_time": "2025-05-06T06:39:24.872554",
     "exception": false,
     "start_time": "2025-05-06T06:39:24.849134",
     "status": "completed"
    },
    "tags": []
   },
   "outputs": [],
   "source": [
    "models_info = [\n",
    "    (\"Tháng 4 + 10\", X_train_scaled, y_smenn, X_test_scaled, y_test),\n",
    "]"
   ]
  },
  {
   "cell_type": "code",
   "execution_count": 19,
   "id": "28038ec4",
   "metadata": {
    "execution": {
     "iopub.execute_input": "2025-05-06T06:39:24.904380Z",
     "iopub.status.busy": "2025-05-06T06:39:24.903681Z",
     "iopub.status.idle": "2025-05-06T06:39:57.685911Z",
     "shell.execute_reply": "2025-05-06T06:39:57.685033Z"
    },
    "papermill": {
     "duration": 32.799487,
     "end_time": "2025-05-06T06:39:57.687264",
     "exception": false,
     "start_time": "2025-05-06T06:39:24.887777",
     "status": "completed"
    },
    "tags": []
   },
   "outputs": [
    {
     "name": "stdout",
     "output_type": "stream",
     "text": [
      "\n",
      "=== Dataset: Demo Dataset (All Features) ===\n",
      "Tuning sigma...\n",
      " sigma=0.010 → val macro F1 = 0.3296\n",
      " sigma=0.012 → val macro F1 = 0.3296\n",
      " sigma=0.013 → val macro F1 = 0.3296\n",
      " sigma=0.015 → val macro F1 = 0.3296\n",
      " sigma=0.018 → val macro F1 = 0.3296\n",
      " sigma=0.020 → val macro F1 = 0.3296\n",
      " sigma=0.023 → val macro F1 = 0.3296\n",
      " sigma=0.027 → val macro F1 = 0.3296\n",
      " sigma=0.031 → val macro F1 = 0.3296\n",
      " sigma=0.036 → val macro F1 = 0.3296\n",
      " sigma=0.041 → val macro F1 = 0.3296\n",
      " sigma=0.047 → val macro F1 = 0.3296\n",
      " sigma=0.054 → val macro F1 = 0.3296\n",
      " sigma=0.063 → val macro F1 = 0.3296\n",
      " sigma=0.072 → val macro F1 = 0.3296\n",
      " sigma=0.083 → val macro F1 = 0.3296\n",
      " sigma=0.095 → val macro F1 = 0.3296\n",
      " sigma=0.110 → val macro F1 = 0.3296\n",
      " sigma=0.126 → val macro F1 = 0.3296\n",
      " sigma=0.146 → val macro F1 = 0.3296\n",
      " sigma=0.168 → val macro F1 = 0.3297\n",
      " sigma=0.193 → val macro F1 = 0.3301\n",
      " sigma=0.222 → val macro F1 = 0.3324\n",
      " sigma=0.256 → val macro F1 = 0.3403\n",
      " sigma=0.295 → val macro F1 = 0.3651\n",
      " sigma=0.339 → val macro F1 = 0.4210\n",
      " sigma=0.391 → val macro F1 = 0.5091\n",
      " sigma=0.450 → val macro F1 = 0.5960\n",
      " sigma=0.518 → val macro F1 = 0.6587\n",
      " sigma=0.596 → val macro F1 = 0.6953\n",
      " sigma=0.687 → val macro F1 = 0.7199\n",
      " sigma=0.791 → val macro F1 = 0.7393\n",
      " sigma=0.910 → val macro F1 = 0.7530\n",
      " sigma=1.048 → val macro F1 = 0.7591\n",
      " sigma=1.207 → val macro F1 = 0.7624\n",
      " sigma=1.389 → val macro F1 = 0.7637\n",
      " sigma=1.600 → val macro F1 = 0.7639\n",
      " sigma=1.842 → val macro F1 = 0.7639\n",
      " sigma=2.121 → val macro F1 = 0.7645\n",
      " sigma=2.442 → val macro F1 = 0.7648\n",
      " sigma=2.812 → val macro F1 = 0.7661\n",
      " sigma=3.237 → val macro F1 = 0.7662\n",
      " sigma=3.728 → val macro F1 = 0.7662\n",
      " sigma=4.292 → val macro F1 = 0.7662\n",
      " sigma=4.942 → val macro F1 = 0.7662\n",
      " sigma=5.690 → val macro F1 = 0.7662\n",
      " sigma=6.551 → val macro F1 = 0.7662\n",
      " sigma=7.543 → val macro F1 = 0.7662\n",
      " sigma=8.685 → val macro F1 = 0.7662\n",
      " sigma=10.000 → val macro F1 = 0.7662\n",
      "⇒ Best sigma = 3.2374575428176433, validation macro F1 = 0.7662\n",
      "Test classification report:\n",
      "              precision    recall  f1-score   support\n",
      "\n",
      "           0       0.98      0.48      0.65    164663\n",
      "           1       0.36      0.97      0.52     48990\n",
      "\n",
      "    accuracy                           0.59    213653\n",
      "   macro avg       0.67      0.73      0.59    213653\n",
      "weighted avg       0.84      0.59      0.62    213653\n",
      "\n",
      "Test confusion matrix:\n",
      " [[79476 85187]\n",
      " [ 1475 47515]]\n"
     ]
    },
    {
     "data": {
      "image/png": "[encoded data removed]",
      "text/plain": [
       "<Figure size 640x480 with 2 Axes>"
      ]
     },
     "metadata": {},
     "output_type": "display_data"
    },
    {
     "name": "stdout",
     "output_type": "stream",
     "text": [
      "\n",
      "=== Dataset: Demo Dataset (Top Features) ===\n",
      "Tuning sigma...\n",
      " sigma=0.010 → val macro F1 = 0.3296\n",
      " sigma=0.012 → val macro F1 = 0.3296\n",
      " sigma=0.013 → val macro F1 = 0.3296\n",
      " sigma=0.015 → val macro F1 = 0.3296\n",
      " sigma=0.018 → val macro F1 = 0.3296\n",
      " sigma=0.020 → val macro F1 = 0.3296\n",
      " sigma=0.023 → val macro F1 = 0.3296\n",
      " sigma=0.027 → val macro F1 = 0.3296\n",
      " sigma=0.031 → val macro F1 = 0.3296\n",
      " sigma=0.036 → val macro F1 = 0.3296\n",
      " sigma=0.041 → val macro F1 = 0.3296\n",
      " sigma=0.047 → val macro F1 = 0.3296\n",
      " sigma=0.054 → val macro F1 = 0.3296\n",
      " sigma=0.063 → val macro F1 = 0.3296\n",
      " sigma=0.072 → val macro F1 = 0.3296\n",
      " sigma=0.083 → val macro F1 = 0.3296\n",
      " sigma=0.095 → val macro F1 = 0.3296\n",
      " sigma=0.110 → val macro F1 = 0.3296\n",
      " sigma=0.126 → val macro F1 = 0.3299\n",
      " sigma=0.146 → val macro F1 = 0.3309\n",
      " sigma=0.168 → val macro F1 = 0.3351\n",
      " sigma=0.193 → val macro F1 = 0.3465\n",
      " sigma=0.222 → val macro F1 = 0.3731\n",
      " sigma=0.256 → val macro F1 = 0.4323\n",
      " sigma=0.295 → val macro F1 = 0.5267\n",
      " sigma=0.339 → val macro F1 = 0.6294\n",
      " sigma=0.391 → val macro F1 = 0.7039\n",
      " sigma=0.450 → val macro F1 = 0.7404\n",
      " sigma=0.518 → val macro F1 = 0.7643\n",
      " sigma=0.596 → val macro F1 = 0.7804\n",
      " sigma=0.687 → val macro F1 = 0.7902\n",
      " sigma=0.791 → val macro F1 = 0.7939\n",
      " sigma=0.910 → val macro F1 = 0.7961\n",
      " sigma=1.048 → val macro F1 = 0.7961\n",
      " sigma=1.207 → val macro F1 = 0.7965\n",
      " sigma=1.389 → val macro F1 = 0.7974\n",
      " sigma=1.600 → val macro F1 = 0.7978\n",
      " sigma=1.842 → val macro F1 = 0.7978\n",
      " sigma=2.121 → val macro F1 = 0.7978\n",
      " sigma=2.442 → val macro F1 = 0.7978\n",
      " sigma=2.812 → val macro F1 = 0.7978\n",
      " sigma=3.237 → val macro F1 = 0.7978\n",
      " sigma=3.728 → val macro F1 = 0.7978\n",
      " sigma=4.292 → val macro F1 = 0.7978\n",
      " sigma=4.942 → val macro F1 = 0.7978\n",
      " sigma=5.690 → val macro F1 = 0.7978\n",
      " sigma=6.551 → val macro F1 = 0.7978\n",
      " sigma=7.543 → val macro F1 = 0.7978\n",
      " sigma=8.685 → val macro F1 = 0.7978\n",
      " sigma=10.000 → val macro F1 = 0.7978\n",
      "⇒ Best sigma = 1.5998587196060574, validation macro F1 = 0.7978\n",
      "Test classification report:\n",
      "              precision    recall  f1-score   support\n",
      "\n",
      "           0       0.99      0.40      0.57    164663\n",
      "           1       0.33      0.98      0.49     48990\n",
      "\n",
      "    accuracy                           0.53    213653\n",
      "   macro avg       0.66      0.69      0.53    213653\n",
      "weighted avg       0.84      0.53      0.55    213653\n",
      "\n",
      "Test confusion matrix:\n",
      " [[65705 98958]\n",
      " [  736 48254]]\n"
     ]
    },
    {
     "data": {
      "image/png": "[encoded data removed]",
      "text/plain": [
       "<Figure size 640x480 with 2 Axes>"
      ]
     },
     "metadata": {},
     "output_type": "display_data"
    }
   ],
   "source": [
    "for name, X_trval, y_trval, X_test, y_test in models_info:\n",
    "    train_and_evaluate_model(\"Demo Dataset (All Features)\", X_trval, y_trval, X_test, y_test, param_grid=param_grid)\n",
    "    train_and_evaluate_model(\"Demo Dataset (Top Features)\", X_trval, y_trval, X_test, y_test, top_features=top_features, param_grid=param_grid) "
   ]
  }
 ],
 "metadata": {
  "kaggle": {
   "accelerator": "none",
   "dataSources": [
    {
     "datasetId": 7334326,
     "sourceId": 11685547,
     "sourceType": "datasetVersion"
    }
   ],
   "dockerImageVersionId": 31012,
   "isGpuEnabled": false,
   "isInternetEnabled": true,
   "language": "python",
   "sourceType": "notebook"
  },
  "kernelspec": {
   "display_name": "Python 3",
   "language": "python",
   "name": "python3"
  },
  "language_info": {
   "codemirror_mode": {
    "name": "ipython",
    "version": 3
   },
   "file_extension": ".py",
   "mimetype": "text/x-python",
   "name": "python",
   "nbconvert_exporter": "python",
   "pygments_lexer": "ipython3",
   "version": "3.11.11"
  },
  "papermill": {
   "default_parameters": {},
   "duration": 2283.403293,
   "end_time": "2025-05-06T06:40:01.233973",
   "environment_variables": {},
   "exception": null,
   "input_path": "__notebook__.ipynb",
   "output_path": "__notebook__.ipynb",
   "parameters": {},
   "start_time": "2025-05-06T06:01:57.830680",
   "version": "2.6.0"
  }
 },
 "nbformat": 4,
 "nbformat_minor": 5
}
